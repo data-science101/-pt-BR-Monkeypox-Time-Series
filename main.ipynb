{
 "cells": [
  {
   "cell_type": "markdown",
   "id": "fdcc0d0d-269f-43b3-af22-97fe7b6c5612",
   "metadata": {},
   "source": [
    "<img src=\"topo.png\" width=\"100%\"/><br /> <i>Última análise: 31/08/2022</i>"
   ]
  },
  {
   "cell_type": "markdown",
   "id": "7e55688e-7dc8-441b-90e1-a072c7616044",
   "metadata": {},
   "source": [
    "<div id=\"indice\" class=\"alert alert-block alert-success\">\n",
    "\n",
    "<h1>Índice</h1>\n",
    "<ol>\n",
    "    <li><a href=\"#0\">Objetivo</a></li>\n",
    "    <li><a href=\"#1\">Sobre a varíola dos macacos</a></li>\n",
    "    <li><a href=\"#2\">Verificação de dados</a></li>\n",
    "    <li><a href=\"#3\">Curiosidades (EDA)</a></li>\n",
    "    <li><a href=\"#4\">Previsões com Prophet</a></li>\n",
    "        <ol>\n",
    "        <li><a href=\"#41\">Previsão de novos casos diários - 90 Dias</a></li>\n",
    "        <li><a href=\"#42\">Previsão de novos casos diários acumulados</a></li>\n",
    "    </ol>\n",
    "    <li><a href=\"#5\">Conclusões</a></li>\n",
    "    </ol>\n",
    "</div>"
   ]
  },
  {
   "cell_type": "markdown",
   "id": "d5af8ff6-d80c-4b80-9115-c1cbff1f7d7f",
   "metadata": {},
   "source": [
    "<div id=\"0\"><h1>1 - Objetivo</h1>"
   ]
  },
  {
   "cell_type": "markdown",
   "id": "1c8041f3-4bf8-4a54-9397-2da824b11283",
   "metadata": {},
   "source": [
    "O objetivo desse estudo é conhecer mais sobre a varíola dos macacos, como está a situação atual no mundo, quantidade de hospitalizações e principalmente previsões no crescimento dos casos no Brasil, extraindo informações que podem ser úteis para a população em geral.\n",
    "\n",
    "Foi utilizado o dataset público do Kaggle, atualizado diariamente neste <a href=\"https://www.kaggle.com/datasets/deepcontractor/monkeypox-dataset-daily-updated/download?datasetVersionNumber=101\" target=\"_blank\">link</a>."
   ]
  },
  {
   "cell_type": "markdown",
   "id": "8a9dfb76-0570-4750-a2a1-afdb8f9da8ac",
   "metadata": {},
   "source": [
    "<div id=\"1\"><h1>2 - Sobre a varíola dos macacos</h1>\n",
    "\n",
    "<p>A varíola dos macacos é transmitida pelo vírus monkeypox, que pertence ao gênero orthopoxvirus. É considerada uma zoonose viral (o vírus é transmitido aos seres humanos a partir de animais) com sintomas muito semelhantes aos observados em pacientes com varíola, embora seja clinicamente menos grave. O período de incubação da varíola dos macacos é geralmente de seis a 13 dias, mas pode variar de cinco a 21 dias, segundo a Organização Mundial da Saúde (OMS).</p>\n",
    "\n",
    "<p>O nome monkeypox se origina da descoberta inicial do vírus em macacos em um laboratório dinamarquês em 1958. O primeiro caso humano foi identificado em uma criança na República Democrática do Congo em 1970. Atualmente, segundo a OMS esclareceu, a maioria dos animais suscetíveis a este tipo de varíola são roedores, como ratos e cão-da-pradaria.</p>\n",
    "\n",
    "<p>A transmissão ocorre por contato próximo com lesões, fluidos corporais, gotículas respiratórias e materiais contaminados, como roupas de cama. E, segundo o órgão de saúde, a transmissão de humano para humano está ocorrendo entre pessoas com contato físico próximo com casos sintomáticos.</p>\n",
    "\n",
    "<p>O contato próximo com pessoas infectadas ou materiais contaminados deve ser evitado. Luvas e outras roupas e equipamentos de proteção individual devem ser usados ao cuidar dos doentes, seja em uma unidade de saúde ou em casa.</p>\n",
    "\n",
    "<h2>Sintomas:</h2>\n",
    "\n",
    "<p>A OMS descreve quadros diferentes de sintomas para casos suspeitos, prováveis e confirmados. Passa a ser considerado um caso suspeito qualquer pessoa, de qualquer idade, que apresente pústulas (bolhas) na pele de forma aguda e inexplicável e esteja em um país onde a varíola dos macacos não é endêmica. Se este quadro for acompanhado por dor de cabeça, início de febre acima de 38,5°C, linfonodos inchados, dores musculares e no corpo, dor nas costas e fraqueza profunda, é necessário fazer exame para confirmar ou descartar a doença.</p>\n",
    "\n",
    "<p>Casos considerados “prováveis” incluem sintomas semelhantes aos dos casos suspeitos, como contato físico pele a pele ou com lesões na pele, contato sexual ou com materiais contaminados 21 dias antes do início dos sintomas. Soma-se a isso, histórico de viagens para um país endêmico ou ter tido contato próximo com possíveis infectados no mesmo período e/ou ter resultado positivo para um teste sorológico de orthopoxvirus na ausência de vacinação contra varíola ou outra exposição conhecida ao vírus.</p>\n",
    "\n",
    "<p>Casos confirmados ocorrem quando há confirmação laboratorial para o vírus da varíola dos macacos por meio do exame PCR (Reação em Cadeia da Polimerase) em tempo real e/ou sequenciamento.</p>\n",
    "\n",
    "<p>A prevenção e o controle dependem da conscientização das comunidades e da educação dos profissionais de saúde para prevenir a infecção e interromper a transmissão.</p>\n",
    "\n",
    " \n",
    "\n",
    "<p><b>Fontes:</b></p>\n",
    "\n",
    "<ul>\n",
    "    <li><a href=\"https://bvsms.saude.gov.br/02-6-variola-dos-macacos/\" target=\"_blank\">Biblioteca Virtual em Saúde</a></li>\n",
    "    <li><a href=\"https://butantan.gov.br/noticias/variola-dos-macacos-sintomas-transmissao-origem-e-numero-de-casos-sao-atualizados-pela-oms\" target=\"_blank\">Instituto Butantan</a></li>\n",
    "    <li><a href=\"https://brasil.un.org/pt-br/183321-surto-de-variola-dos-macacos-ainda-pode-ser-controlado-garante-oms\" target=\"_blank\">Organização das Nações Unidas (ONU) – Escritório Brasil</a></li>\n",
    "    <li><a href=\"https://news.un.org/pt/story/2022/05/1790052\" target=\"_blank\">ONU News</a<</li>\n",
    "</ul>\n",
    "</div>"
   ]
  },
  {
   "cell_type": "markdown",
   "id": "a3f95ce7-8446-4c35-9afc-a743a9bd8067",
   "metadata": {},
   "source": [
    "<a href=\"#indice\"><img src=\"botao-topo.png\" width=\"15%\"/></a>"
   ]
  },
  {
   "cell_type": "markdown",
   "id": "10d66d22-1d30-416b-98a5-4fcb55556fb2",
   "metadata": {},
   "source": [
    "<h4>Importação de bibliotecas necessárias</h4>"
   ]
  },
  {
   "cell_type": "code",
   "execution_count": 76,
   "id": "d418ca2f-99ab-4e2d-9a24-3c81f0400bfb",
   "metadata": {},
   "outputs": [],
   "source": [
    "import pandas as pd\n",
    "import numpy as np\n",
    "import seaborn as sns\n",
    "import matplotlib.pyplot as plt\n",
    "import plotly_express as px\n",
    "from prophet import Prophet\n",
    "from prophet.plot import plot_plotly, plot_components_plotly\n",
    "import plotly.graph_objects as go\n",
    "import plotly.express as px\n",
    "import warnings\n",
    "warnings.filterwarnings(\"ignore\")"
   ]
  },
  {
   "cell_type": "markdown",
   "id": "4d3ab698-a2f0-4150-a40a-5b01096cdf04",
   "metadata": {},
   "source": [
    "<h4>Importação de CVs para o Pandas</h4>"
   ]
  },
  {
   "cell_type": "code",
   "execution_count": 77,
   "id": "ce0a883a-6dc6-468e-b153-ddc2090fa817",
   "metadata": {},
   "outputs": [],
   "source": [
    "timeline_casos = pd.read_csv(\"Worldwide_Case_Detection_Timeline.csv\", index_col=\"Date_confirmation\")\n",
    "casos_mundo = pd.read_csv(\"Monkey_Pox_Cases_Worldwide.csv\",index_col=\"Country\")\n",
    "casos_diarios_mundo = pd.read_csv(\"Daily_Country_Wise_Confirmed_Cases.csv\",index_col=\"Country\")"
   ]
  },
  {
   "cell_type": "code",
   "execution_count": 78,
   "id": "bc44a8ce-f6fa-4729-9be2-b371647f1d0e",
   "metadata": {},
   "outputs": [],
   "source": [
    "pd.set_option('display.max_rows', 30)"
   ]
  },
  {
   "cell_type": "code",
   "execution_count": 79,
   "id": "531b5768-cf0b-45e7-8781-81698768f78b",
   "metadata": {},
   "outputs": [],
   "source": [
    "def espaco():\n",
    "    print('--' * 40)"
   ]
  },
  {
   "cell_type": "markdown",
   "id": "4d6af0d2-2acb-4200-8c71-45a48380d46a",
   "metadata": {},
   "source": [
    "<a href=\"#indice\"><img src=\"botao-topo.png\" width=\"15%\"/></a>"
   ]
  },
  {
   "cell_type": "markdown",
   "id": "fdac68da-3579-420b-8035-4c73c98f7493",
   "metadata": {
    "tags": []
   },
   "source": [
    "<div id=\"2\"><h2>3 - Verificações de dados</h2></div>"
   ]
  },
  {
   "cell_type": "markdown",
   "id": "3a7e6450-0659-449c-b26f-6b7bd453c15d",
   "metadata": {},
   "source": [
    "<h4>Quantidade de linhas e colunas em cada dataset</h4>"
   ]
  },
  {
   "cell_type": "code",
   "execution_count": 80,
   "id": "de18b77d-bca5-4df0-bf70-cc55037ab25b",
   "metadata": {},
   "outputs": [
    {
     "name": "stdout",
     "output_type": "stream",
     "text": [
      "(51054, 8)\n",
      "(120, 5)\n",
      "(103, 118)\n"
     ]
    }
   ],
   "source": [
    "print(timeline_casos.shape)\n",
    "print(casos_mundo.shape)\n",
    "print(casos_diarios_mundo.shape)"
   ]
  },
  {
   "cell_type": "markdown",
   "id": "2d02be35-1af2-4c4a-aaac-48543403e00d",
   "metadata": {},
   "source": [
    "<h4>Verificação de tipos de cada coluna</h4>"
   ]
  },
  {
   "cell_type": "code",
   "execution_count": 81,
   "id": "61c4acb8-286f-49fe-8a1b-bf1317366b3a",
   "metadata": {},
   "outputs": [
    {
     "name": "stdout",
     "output_type": "stream",
     "text": [
      "--------------------------------------------------------------------------------\n",
      "Informações timeline de casos: \n",
      "<class 'pandas.core.frame.DataFrame'>\n",
      "Index: 51054 entries, 2022-01-31 to 2022-08-30\n",
      "Data columns (total 8 columns):\n",
      " #   Column                   Non-Null Count  Dtype \n",
      "---  ------                   --------------  ----- \n",
      " 0   Country                  51054 non-null  object\n",
      " 1   City                     1146 non-null   object\n",
      " 2   Age                      2693 non-null   object\n",
      " 3   Gender                   2200 non-null   object\n",
      " 4   Symptoms                 182 non-null    object\n",
      " 5   Hospitalised (Y/N/NA)    282 non-null    object\n",
      " 6   Isolated (Y/N/NA)        386 non-null    object\n",
      " 7   Travel_history (Y/N/NA)  324 non-null    object\n",
      "dtypes: object(8)\n",
      "memory usage: 3.5+ MB\n",
      "None\n",
      "--------------------------------------------------------------------------------\n",
      "Informações de casos diários no mundo: \n",
      "<class 'pandas.core.frame.DataFrame'>\n",
      "Index: 103 entries, Nigeria to Paraguay\n",
      "Columns: 118 entries, 2022-01-31 to 2022-08-30\n",
      "dtypes: int64(118)\n",
      "memory usage: 95.8+ KB\n",
      "None\n",
      "--------------------------------------------------------------------------------\n",
      "Informações de casos no mundo: \n",
      "<class 'pandas.core.frame.DataFrame'>\n",
      "Index: 120 entries, England to Sierra Leone\n",
      "Data columns (total 5 columns):\n",
      " #   Column              Non-Null Count  Dtype  \n",
      "---  ------              --------------  -----  \n",
      " 0   Confirmed_Cases     120 non-null    float64\n",
      " 1   Suspected_Cases     120 non-null    float64\n",
      " 2   Hospitalized        120 non-null    float64\n",
      " 3   Travel_History_Yes  120 non-null    float64\n",
      " 4   Travel_History_No   120 non-null    float64\n",
      "dtypes: float64(5)\n",
      "memory usage: 5.6+ KB\n",
      "None\n",
      "--------------------------------------------------------------------------------\n"
     ]
    }
   ],
   "source": [
    "espaco()\n",
    "print('Informações timeline de casos: ')\n",
    "print(timeline_casos.info())\n",
    "espaco()\n",
    "print('Informações de casos diários no mundo: ')\n",
    "print(casos_diarios_mundo.info())\n",
    "espaco()\n",
    "print('Informações de casos no mundo: ')\n",
    "print(casos_mundo.info())\n",
    "espaco()"
   ]
  },
  {
   "cell_type": "markdown",
   "id": "46eea56f-d63f-4a11-b2a4-ad1d67eb9f9e",
   "metadata": {},
   "source": [
    "<b style=\"color:#1e6d06\">Observação:</b> As colunas estão no formato que precisam, apenas as datas dos casos diários que estão como int e vamos converter para datetime mais pra frente."
   ]
  },
  {
   "cell_type": "markdown",
   "id": "77b85324-a01d-466c-9c8e-afeef31621cf",
   "metadata": {},
   "source": [
    "<h4>Verificação de dados nulos</h4>"
   ]
  },
  {
   "cell_type": "code",
   "execution_count": 82,
   "id": "54f0d988-ef0d-46e4-a3d4-84bb08a9d9d5",
   "metadata": {},
   "outputs": [
    {
     "name": "stdout",
     "output_type": "stream",
     "text": [
      "--------------------------------------------------------------------------------\n",
      "Country                        0\n",
      "City                       49908\n",
      "Age                        48361\n",
      "Gender                     48854\n",
      "Symptoms                   50872\n",
      "Hospitalised (Y/N/NA)      50772\n",
      "Isolated (Y/N/NA)          50668\n",
      "Travel_history (Y/N/NA)    50730\n",
      "dtype: int64\n",
      "--------------------------------------------------------------------------------\n",
      "2022-01-31    0\n",
      "2022-02-17    0\n",
      "2022-02-28    0\n",
      "2022-03-04    0\n",
      "2022-03-31    0\n",
      "             ..\n",
      "2022-08-26    0\n",
      "2022-08-27    0\n",
      "2022-08-28    0\n",
      "2022-08-29    0\n",
      "2022-08-30    0\n",
      "Length: 118, dtype: int64\n",
      "--------------------------------------------------------------------------------\n",
      "Confirmed_Cases       0\n",
      "Suspected_Cases       0\n",
      "Hospitalized          0\n",
      "Travel_History_Yes    0\n",
      "Travel_History_No     0\n",
      "dtype: int64\n",
      "--------------------------------------------------------------------------------\n"
     ]
    }
   ],
   "source": [
    "espaco()\n",
    "print(timeline_casos.isnull().sum())\n",
    "espaco()\n",
    "print(casos_diarios_mundo.isnull().sum())\n",
    "espaco()\n",
    "print(casos_mundo.isnull().sum())\n",
    "espaco()"
   ]
  },
  {
   "cell_type": "code",
   "execution_count": 83,
   "id": "deba6867-4e86-4066-b7f0-b0fd3700efff",
   "metadata": {},
   "outputs": [
    {
     "name": "stdout",
     "output_type": "stream",
     "text": [
      "--------------------------------------------------------------------------------\n",
      "Country                        0\n",
      "City                       49908\n",
      "Age                        48361\n",
      "Gender                     48854\n",
      "Symptoms                   50872\n",
      "Hospitalised (Y/N/NA)      50772\n",
      "Isolated (Y/N/NA)          50668\n",
      "Travel_history (Y/N/NA)    50730\n",
      "dtype: int64\n",
      "--------------------------------------------------------------------------------\n",
      "2022-01-31    0\n",
      "2022-02-17    0\n",
      "2022-02-28    0\n",
      "2022-03-04    0\n",
      "2022-03-31    0\n",
      "             ..\n",
      "2022-08-26    0\n",
      "2022-08-27    0\n",
      "2022-08-28    0\n",
      "2022-08-29    0\n",
      "2022-08-30    0\n",
      "Length: 118, dtype: int64\n",
      "--------------------------------------------------------------------------------\n",
      "Confirmed_Cases       0\n",
      "Suspected_Cases       0\n",
      "Hospitalized          0\n",
      "Travel_History_Yes    0\n",
      "Travel_History_No     0\n",
      "dtype: int64\n",
      "--------------------------------------------------------------------------------\n"
     ]
    }
   ],
   "source": [
    "espaco()\n",
    "print(timeline_casos.isnull().sum())\n",
    "espaco()\n",
    "print(casos_diarios_mundo.isnull().sum())\n",
    "espaco()\n",
    "print(casos_mundo.isnull().sum())\n",
    "espaco()"
   ]
  },
  {
   "cell_type": "markdown",
   "id": "dcc6d04d-3fa2-42a3-a847-38f07022a4c2",
   "metadata": {},
   "source": [
    "<h4>Detalhes de cada dataset</h4>"
   ]
  },
  {
   "cell_type": "code",
   "execution_count": 84,
   "id": "3ae63ad9-f0a2-4c0f-8a52-9475d6c074ed",
   "metadata": {},
   "outputs": [
    {
     "name": "stdout",
     "output_type": "stream",
     "text": [
      "--------------------------------------------------------------------------------\n",
      "              Country     City    Age Gender               Symptoms  \\\n",
      "count           51054     1146   2693   2200                    182   \n",
      "unique            104      161     82      5                     85   \n",
      "top     United States  Toronto  20-69   male  genital ulcer lesions   \n",
      "freq            18553      437    585   2162                     30   \n",
      "\n",
      "       Hospitalised (Y/N/NA) Isolated (Y/N/NA) Travel_history (Y/N/NA)  \n",
      "count                    282               386                     324  \n",
      "unique                     2                 1                       2  \n",
      "top                        N                 Y                       Y  \n",
      "freq                     161               386                     238  \n",
      "--------------------------------------------------------------------------------\n",
      "       2022-01-31  2022-02-17  2022-02-28  2022-03-04  2022-03-31  2022-04-10  \\\n",
      "count  103.000000  103.000000  103.000000  103.000000  103.000000  103.000000   \n",
      "mean     0.029126    0.029126    0.009709    0.019417    0.058252    0.038835   \n",
      "std      0.295599    0.295599    0.098533    0.197066    0.591198    0.394132   \n",
      "min      0.000000    0.000000    0.000000    0.000000    0.000000    0.000000   \n",
      "25%      0.000000    0.000000    0.000000    0.000000    0.000000    0.000000   \n",
      "50%      0.000000    0.000000    0.000000    0.000000    0.000000    0.000000   \n",
      "75%      0.000000    0.000000    0.000000    0.000000    0.000000    0.000000   \n",
      "max      3.000000    3.000000    1.000000    2.000000    6.000000    4.000000   \n",
      "\n",
      "       2022-04-12  2022-04-30  2022-05-06  2022-05-08  ...  2022-08-21  \\\n",
      "count  103.000000  103.000000  103.000000  103.000000  ...  103.000000   \n",
      "mean     0.019417    0.048544    0.009709    0.097087  ...    1.048544   \n",
      "std      0.197066    0.492665    0.098533    0.985329  ...    6.794431   \n",
      "min      0.000000    0.000000    0.000000    0.000000  ...    0.000000   \n",
      "25%      0.000000    0.000000    0.000000    0.000000  ...    0.000000   \n",
      "50%      0.000000    0.000000    0.000000    0.000000  ...    0.000000   \n",
      "75%      0.000000    0.000000    0.000000    0.000000  ...    0.000000   \n",
      "max      2.000000    5.000000    1.000000   10.000000  ...   60.000000   \n",
      "\n",
      "        2022-08-22  2022-08-23  2022-08-24  2022-08-25  2022-08-26  \\\n",
      "count   103.000000  103.000000  103.000000  103.000000  103.000000   \n",
      "mean     20.029126   14.087379   10.184466    6.184466   10.349515   \n",
      "std     130.697185   71.862083   69.187405   33.842411   57.514484   \n",
      "min       0.000000    0.000000    0.000000    0.000000    0.000000   \n",
      "25%       0.000000    0.000000    0.000000    0.000000    0.000000   \n",
      "50%       0.000000    0.000000    0.000000    0.000000    0.000000   \n",
      "75%       0.000000    0.000000    0.000000    0.000000    0.000000   \n",
      "max    1308.000000  532.000000  682.000000  323.000000  499.000000   \n",
      "\n",
      "       2022-08-27  2022-08-28  2022-08-29  2022-08-30  \n",
      "count  103.000000  103.000000  103.000000  103.000000  \n",
      "mean     0.572816    0.514563   16.155340    5.330097  \n",
      "std      4.230148    5.123694   75.937507   35.715210  \n",
      "min      0.000000    0.000000    0.000000    0.000000  \n",
      "25%      0.000000    0.000000    0.000000    0.000000  \n",
      "50%      0.000000    0.000000    0.000000    0.000000  \n",
      "75%      0.000000    0.000000    0.000000    0.000000  \n",
      "max     40.000000   52.000000  659.000000  313.000000  \n",
      "\n",
      "[8 rows x 118 columns]\n",
      "--------------------------------------------------------------------------------\n",
      "       Confirmed_Cases  Suspected_Cases  Hospitalized  Travel_History_Yes  \\\n",
      "count       120.000000       120.000000    120.000000          120.000000   \n",
      "mean        422.916667        21.575000      1.191667            2.191667   \n",
      "std        1883.626627       203.969336      2.870586            4.909767   \n",
      "min           0.000000         0.000000      0.000000            0.000000   \n",
      "25%           2.000000         0.000000      0.000000            0.000000   \n",
      "50%           6.000000         0.000000      0.000000            1.000000   \n",
      "75%          70.000000         0.000000      1.000000            3.000000   \n",
      "max       18308.000000      2217.000000     18.000000           41.000000   \n",
      "\n",
      "       Travel_History_No  \n",
      "count         120.000000  \n",
      "mean            0.733333  \n",
      "std             3.627007  \n",
      "min             0.000000  \n",
      "25%             0.000000  \n",
      "50%             0.000000  \n",
      "75%             0.000000  \n",
      "max            34.000000  \n",
      "--------------------------------------------------------------------------------\n"
     ]
    }
   ],
   "source": [
    "espaco()\n",
    "print(timeline_casos.describe(include = 'all'))\n",
    "espaco()\n",
    "print(casos_diarios_mundo.describe(include = 'all'))\n",
    "espaco()\n",
    "print(casos_mundo.describe(include = 'all'))\n",
    "espaco()"
   ]
  },
  {
   "cell_type": "markdown",
   "id": "7c7f8a28-e494-4392-b9d5-4ea8023cb82d",
   "metadata": {},
   "source": [
    "<a href=\"#indice\"><img src=\"botao-topo.png\" width=\"15%\"/></a>"
   ]
  },
  {
   "cell_type": "markdown",
   "id": "9096345b-b75b-415f-b6dd-dbfabfe23ab2",
   "metadata": {},
   "source": [
    "<div id=\"3\"><h2>4 - Curiosidades (EDA)</h2></div>"
   ]
  },
  {
   "cell_type": "markdown",
   "id": "97b6646b-e3ea-4c9b-ba4c-01c4dfeebf37",
   "metadata": {
    "tags": []
   },
   "source": [
    "<h4>Top 20 países com mais casos confirmados</h4>"
   ]
  },
  {
   "cell_type": "code",
   "execution_count": 85,
   "id": "4450fc6e-18e5-435c-af92-7ac2f5cdcb97",
   "metadata": {},
   "outputs": [
    {
     "data": {
      "text/html": [
       "<div>\n",
       "<style scoped>\n",
       "    .dataframe tbody tr th:only-of-type {\n",
       "        vertical-align: middle;\n",
       "    }\n",
       "\n",
       "    .dataframe tbody tr th {\n",
       "        vertical-align: top;\n",
       "    }\n",
       "\n",
       "    .dataframe thead th {\n",
       "        text-align: right;\n",
       "    }\n",
       "</style>\n",
       "<table border=\"1\" class=\"dataframe\">\n",
       "  <thead>\n",
       "    <tr style=\"text-align: right;\">\n",
       "      <th></th>\n",
       "      <th>Confirmed_Cases</th>\n",
       "    </tr>\n",
       "    <tr>\n",
       "      <th>Country</th>\n",
       "      <th></th>\n",
       "    </tr>\n",
       "  </thead>\n",
       "  <tbody>\n",
       "    <tr>\n",
       "      <th>United States</th>\n",
       "      <td>18308.0</td>\n",
       "    </tr>\n",
       "    <tr>\n",
       "      <th>Spain</th>\n",
       "      <td>6459.0</td>\n",
       "    </tr>\n",
       "    <tr>\n",
       "      <th>Brazil</th>\n",
       "      <td>4876.0</td>\n",
       "    </tr>\n",
       "    <tr>\n",
       "      <th>France</th>\n",
       "      <td>3539.0</td>\n",
       "    </tr>\n",
       "    <tr>\n",
       "      <th>Germany</th>\n",
       "      <td>3455.0</td>\n",
       "    </tr>\n",
       "    <tr>\n",
       "      <th>England</th>\n",
       "      <td>3257.0</td>\n",
       "    </tr>\n",
       "    <tr>\n",
       "      <th>Peru</th>\n",
       "      <td>1463.0</td>\n",
       "    </tr>\n",
       "    <tr>\n",
       "      <th>Canada</th>\n",
       "      <td>1228.0</td>\n",
       "    </tr>\n",
       "    <tr>\n",
       "      <th>Netherlands</th>\n",
       "      <td>1136.0</td>\n",
       "    </tr>\n",
       "    <tr>\n",
       "      <th>Portugal</th>\n",
       "      <td>846.0</td>\n",
       "    </tr>\n",
       "    <tr>\n",
       "      <th>Italy</th>\n",
       "      <td>740.0</td>\n",
       "    </tr>\n",
       "    <tr>\n",
       "      <th>Belgium</th>\n",
       "      <td>671.0</td>\n",
       "    </tr>\n",
       "    <tr>\n",
       "      <th>Colombia</th>\n",
       "      <td>582.0</td>\n",
       "    </tr>\n",
       "    <tr>\n",
       "      <th>Mexico</th>\n",
       "      <td>504.0</td>\n",
       "    </tr>\n",
       "    <tr>\n",
       "      <th>Switzerland</th>\n",
       "      <td>456.0</td>\n",
       "    </tr>\n",
       "    <tr>\n",
       "      <th>Chile</th>\n",
       "      <td>344.0</td>\n",
       "    </tr>\n",
       "    <tr>\n",
       "      <th>Austria</th>\n",
       "      <td>265.0</td>\n",
       "    </tr>\n",
       "    <tr>\n",
       "      <th>Israel</th>\n",
       "      <td>234.0</td>\n",
       "    </tr>\n",
       "    <tr>\n",
       "      <th>Denmark</th>\n",
       "      <td>174.0</td>\n",
       "    </tr>\n",
       "    <tr>\n",
       "      <th>Nigeria</th>\n",
       "      <td>172.0</td>\n",
       "    </tr>\n",
       "  </tbody>\n",
       "</table>\n",
       "</div>"
      ],
      "text/plain": [
       "               Confirmed_Cases\n",
       "Country                       \n",
       "United States          18308.0\n",
       "Spain                   6459.0\n",
       "Brazil                  4876.0\n",
       "France                  3539.0\n",
       "Germany                 3455.0\n",
       "England                 3257.0\n",
       "Peru                    1463.0\n",
       "Canada                  1228.0\n",
       "Netherlands             1136.0\n",
       "Portugal                 846.0\n",
       "Italy                    740.0\n",
       "Belgium                  671.0\n",
       "Colombia                 582.0\n",
       "Mexico                   504.0\n",
       "Switzerland              456.0\n",
       "Chile                    344.0\n",
       "Austria                  265.0\n",
       "Israel                   234.0\n",
       "Denmark                  174.0\n",
       "Nigeria                  172.0"
      ]
     },
     "execution_count": 85,
     "metadata": {},
     "output_type": "execute_result"
    }
   ],
   "source": [
    "casos_mundo.sort_values(by=\"Confirmed_Cases\",ascending=False )[[\"Confirmed_Cases\"]][:20]"
   ]
  },
  {
   "cell_type": "markdown",
   "id": "6a1db695-f5c0-4c3a-a3c7-070b95d69fa9",
   "metadata": {},
   "source": [
    "<b style=\"color:#1e6d06\">Observação:</b> Infelizmente o Brasil já figura na terceira posição, com 4876 casos confirmados."
   ]
  },
  {
   "cell_type": "markdown",
   "id": "142e346f-1041-4d54-9252-5f178eba02a3",
   "metadata": {
    "tags": []
   },
   "source": [
    "<h4>Top 20 países com mais hospitalizações</h4>"
   ]
  },
  {
   "cell_type": "code",
   "execution_count": 86,
   "id": "6ec0d12a-2e98-46ed-a4ed-1a480844fcde",
   "metadata": {},
   "outputs": [
    {
     "data": {
      "text/html": [
       "<div>\n",
       "<style scoped>\n",
       "    .dataframe tbody tr th:only-of-type {\n",
       "        vertical-align: middle;\n",
       "    }\n",
       "\n",
       "    .dataframe tbody tr th {\n",
       "        vertical-align: top;\n",
       "    }\n",
       "\n",
       "    .dataframe thead th {\n",
       "        text-align: right;\n",
       "    }\n",
       "</style>\n",
       "<table border=\"1\" class=\"dataframe\">\n",
       "  <thead>\n",
       "    <tr style=\"text-align: right;\">\n",
       "      <th></th>\n",
       "      <th>Confirmed_Cases</th>\n",
       "      <th>Hospitalized</th>\n",
       "    </tr>\n",
       "    <tr>\n",
       "      <th>Country</th>\n",
       "      <th></th>\n",
       "      <th></th>\n",
       "    </tr>\n",
       "  </thead>\n",
       "  <tbody>\n",
       "    <tr>\n",
       "      <th>Italy</th>\n",
       "      <td>740.0</td>\n",
       "      <td>18.0</td>\n",
       "    </tr>\n",
       "    <tr>\n",
       "      <th>Germany</th>\n",
       "      <td>3455.0</td>\n",
       "      <td>18.0</td>\n",
       "    </tr>\n",
       "    <tr>\n",
       "      <th>Spain</th>\n",
       "      <td>6459.0</td>\n",
       "      <td>13.0</td>\n",
       "    </tr>\n",
       "    <tr>\n",
       "      <th>Singapore</th>\n",
       "      <td>16.0</td>\n",
       "      <td>8.0</td>\n",
       "    </tr>\n",
       "    <tr>\n",
       "      <th>Romania</th>\n",
       "      <td>36.0</td>\n",
       "      <td>7.0</td>\n",
       "    </tr>\n",
       "    <tr>\n",
       "      <th>England</th>\n",
       "      <td>3257.0</td>\n",
       "      <td>5.0</td>\n",
       "    </tr>\n",
       "    <tr>\n",
       "      <th>Bolivia</th>\n",
       "      <td>79.0</td>\n",
       "      <td>5.0</td>\n",
       "    </tr>\n",
       "    <tr>\n",
       "      <th>United States</th>\n",
       "      <td>18308.0</td>\n",
       "      <td>4.0</td>\n",
       "    </tr>\n",
       "    <tr>\n",
       "      <th>Dominican Republic</th>\n",
       "      <td>9.0</td>\n",
       "      <td>4.0</td>\n",
       "    </tr>\n",
       "    <tr>\n",
       "      <th>Japan</th>\n",
       "      <td>4.0</td>\n",
       "      <td>4.0</td>\n",
       "    </tr>\n",
       "    <tr>\n",
       "      <th>Brazil</th>\n",
       "      <td>4876.0</td>\n",
       "      <td>4.0</td>\n",
       "    </tr>\n",
       "    <tr>\n",
       "      <th>Thailand</th>\n",
       "      <td>7.0</td>\n",
       "      <td>4.0</td>\n",
       "    </tr>\n",
       "    <tr>\n",
       "      <th>India</th>\n",
       "      <td>10.0</td>\n",
       "      <td>3.0</td>\n",
       "    </tr>\n",
       "    <tr>\n",
       "      <th>Cyprus</th>\n",
       "      <td>5.0</td>\n",
       "      <td>3.0</td>\n",
       "    </tr>\n",
       "    <tr>\n",
       "      <th>Somalia</th>\n",
       "      <td>0.0</td>\n",
       "      <td>3.0</td>\n",
       "    </tr>\n",
       "    <tr>\n",
       "      <th>Israel</th>\n",
       "      <td>234.0</td>\n",
       "      <td>3.0</td>\n",
       "    </tr>\n",
       "    <tr>\n",
       "      <th>Austria</th>\n",
       "      <td>265.0</td>\n",
       "      <td>2.0</td>\n",
       "    </tr>\n",
       "    <tr>\n",
       "      <th>Greece</th>\n",
       "      <td>56.0</td>\n",
       "      <td>2.0</td>\n",
       "    </tr>\n",
       "    <tr>\n",
       "      <th>Belgium</th>\n",
       "      <td>671.0</td>\n",
       "      <td>2.0</td>\n",
       "    </tr>\n",
       "    <tr>\n",
       "      <th>Peru</th>\n",
       "      <td>1463.0</td>\n",
       "      <td>2.0</td>\n",
       "    </tr>\n",
       "  </tbody>\n",
       "</table>\n",
       "</div>"
      ],
      "text/plain": [
       "                    Confirmed_Cases  Hospitalized\n",
       "Country                                          \n",
       "Italy                         740.0          18.0\n",
       "Germany                      3455.0          18.0\n",
       "Spain                        6459.0          13.0\n",
       "Singapore                      16.0           8.0\n",
       "Romania                        36.0           7.0\n",
       "England                      3257.0           5.0\n",
       "Bolivia                        79.0           5.0\n",
       "United States               18308.0           4.0\n",
       "Dominican Republic              9.0           4.0\n",
       "Japan                           4.0           4.0\n",
       "Brazil                       4876.0           4.0\n",
       "Thailand                        7.0           4.0\n",
       "India                          10.0           3.0\n",
       "Cyprus                          5.0           3.0\n",
       "Somalia                         0.0           3.0\n",
       "Israel                        234.0           3.0\n",
       "Austria                       265.0           2.0\n",
       "Greece                         56.0           2.0\n",
       "Belgium                       671.0           2.0\n",
       "Peru                         1463.0           2.0"
      ]
     },
     "execution_count": 86,
     "metadata": {},
     "output_type": "execute_result"
    }
   ],
   "source": [
    "casos_mundo.sort_values(by=\"Hospitalized\",ascending=False )[[\"Confirmed_Cases\",\"Hospitalized\"]][:20]"
   ]
  },
  {
   "cell_type": "markdown",
   "id": "838bfac4-7086-4eac-a1c7-b03b988c9c43",
   "metadata": {},
   "source": [
    "<b style=\"color:#1e6d06\">Observação:</b> Temos 4 hospitalizações, é interessante descobrirmos o percentual relativo à quantidade de casos."
   ]
  },
  {
   "cell_type": "markdown",
   "id": "f50fcc7a-a835-4e36-bba5-8a98ed37ae34",
   "metadata": {},
   "source": [
    "<h4>Criação de coluna com percentual de hospitalizações</h4>"
   ]
  },
  {
   "cell_type": "code",
   "execution_count": 87,
   "id": "7f4b0b78-f78e-4d1a-a681-5f649764a379",
   "metadata": {},
   "outputs": [],
   "source": [
    "casos_mundo['Hospercent'] = (casos_mundo['Hospitalized'] / casos_mundo['Confirmed_Cases']) * 100"
   ]
  },
  {
   "cell_type": "code",
   "execution_count": 88,
   "id": "03651de5-0415-4c1d-891a-031e8bfc9430",
   "metadata": {},
   "outputs": [
    {
     "data": {
      "text/html": [
       "<div>\n",
       "<style scoped>\n",
       "    .dataframe tbody tr th:only-of-type {\n",
       "        vertical-align: middle;\n",
       "    }\n",
       "\n",
       "    .dataframe tbody tr th {\n",
       "        vertical-align: top;\n",
       "    }\n",
       "\n",
       "    .dataframe thead th {\n",
       "        text-align: right;\n",
       "    }\n",
       "</style>\n",
       "<table border=\"1\" class=\"dataframe\">\n",
       "  <thead>\n",
       "    <tr style=\"text-align: right;\">\n",
       "      <th></th>\n",
       "      <th>Confirmed_Cases</th>\n",
       "      <th>Hospitalized</th>\n",
       "      <th>Hospercent</th>\n",
       "    </tr>\n",
       "    <tr>\n",
       "      <th>Country</th>\n",
       "      <th></th>\n",
       "      <th></th>\n",
       "      <th></th>\n",
       "    </tr>\n",
       "  </thead>\n",
       "  <tbody>\n",
       "    <tr>\n",
       "      <th>Nepal</th>\n",
       "      <td>0.0</td>\n",
       "      <td>1.0</td>\n",
       "      <td>inf</td>\n",
       "    </tr>\n",
       "    <tr>\n",
       "      <th>Somalia</th>\n",
       "      <td>0.0</td>\n",
       "      <td>3.0</td>\n",
       "      <td>inf</td>\n",
       "    </tr>\n",
       "    <tr>\n",
       "      <th>Pakistan</th>\n",
       "      <td>0.0</td>\n",
       "      <td>1.0</td>\n",
       "      <td>inf</td>\n",
       "    </tr>\n",
       "    <tr>\n",
       "      <th>Kosovo</th>\n",
       "      <td>0.0</td>\n",
       "      <td>1.0</td>\n",
       "      <td>inf</td>\n",
       "    </tr>\n",
       "    <tr>\n",
       "      <th>Cuba</th>\n",
       "      <td>1.0</td>\n",
       "      <td>1.0</td>\n",
       "      <td>100.000000</td>\n",
       "    </tr>\n",
       "    <tr>\n",
       "      <th>Japan</th>\n",
       "      <td>4.0</td>\n",
       "      <td>4.0</td>\n",
       "      <td>100.000000</td>\n",
       "    </tr>\n",
       "    <tr>\n",
       "      <th>Guyana</th>\n",
       "      <td>2.0</td>\n",
       "      <td>2.0</td>\n",
       "      <td>100.000000</td>\n",
       "    </tr>\n",
       "    <tr>\n",
       "      <th>South Korea</th>\n",
       "      <td>1.0</td>\n",
       "      <td>1.0</td>\n",
       "      <td>100.000000</td>\n",
       "    </tr>\n",
       "    <tr>\n",
       "      <th>Cyprus</th>\n",
       "      <td>5.0</td>\n",
       "      <td>3.0</td>\n",
       "      <td>60.000000</td>\n",
       "    </tr>\n",
       "    <tr>\n",
       "      <th>Thailand</th>\n",
       "      <td>7.0</td>\n",
       "      <td>4.0</td>\n",
       "      <td>57.142857</td>\n",
       "    </tr>\n",
       "    <tr>\n",
       "      <th>Moldova</th>\n",
       "      <td>2.0</td>\n",
       "      <td>1.0</td>\n",
       "      <td>50.000000</td>\n",
       "    </tr>\n",
       "    <tr>\n",
       "      <th>Singapore</th>\n",
       "      <td>16.0</td>\n",
       "      <td>8.0</td>\n",
       "      <td>50.000000</td>\n",
       "    </tr>\n",
       "    <tr>\n",
       "      <th>Dominican Republic</th>\n",
       "      <td>9.0</td>\n",
       "      <td>4.0</td>\n",
       "      <td>44.444444</td>\n",
       "    </tr>\n",
       "    <tr>\n",
       "      <th>Costa Rica</th>\n",
       "      <td>3.0</td>\n",
       "      <td>1.0</td>\n",
       "      <td>33.333333</td>\n",
       "    </tr>\n",
       "    <tr>\n",
       "      <th>Taiwan</th>\n",
       "      <td>3.0</td>\n",
       "      <td>1.0</td>\n",
       "      <td>33.333333</td>\n",
       "    </tr>\n",
       "    <tr>\n",
       "      <th>Qatar</th>\n",
       "      <td>3.0</td>\n",
       "      <td>1.0</td>\n",
       "      <td>33.333333</td>\n",
       "    </tr>\n",
       "    <tr>\n",
       "      <th>India</th>\n",
       "      <td>10.0</td>\n",
       "      <td>3.0</td>\n",
       "      <td>30.000000</td>\n",
       "    </tr>\n",
       "    <tr>\n",
       "      <th>Philippines</th>\n",
       "      <td>4.0</td>\n",
       "      <td>1.0</td>\n",
       "      <td>25.000000</td>\n",
       "    </tr>\n",
       "    <tr>\n",
       "      <th>Bulgaria</th>\n",
       "      <td>4.0</td>\n",
       "      <td>1.0</td>\n",
       "      <td>25.000000</td>\n",
       "    </tr>\n",
       "    <tr>\n",
       "      <th>Romania</th>\n",
       "      <td>36.0</td>\n",
       "      <td>7.0</td>\n",
       "      <td>19.444444</td>\n",
       "    </tr>\n",
       "  </tbody>\n",
       "</table>\n",
       "</div>"
      ],
      "text/plain": [
       "                    Confirmed_Cases  Hospitalized  Hospercent\n",
       "Country                                                      \n",
       "Nepal                           0.0           1.0         inf\n",
       "Somalia                         0.0           3.0         inf\n",
       "Pakistan                        0.0           1.0         inf\n",
       "Kosovo                          0.0           1.0         inf\n",
       "Cuba                            1.0           1.0  100.000000\n",
       "Japan                           4.0           4.0  100.000000\n",
       "Guyana                          2.0           2.0  100.000000\n",
       "South Korea                     1.0           1.0  100.000000\n",
       "Cyprus                          5.0           3.0   60.000000\n",
       "Thailand                        7.0           4.0   57.142857\n",
       "Moldova                         2.0           1.0   50.000000\n",
       "Singapore                      16.0           8.0   50.000000\n",
       "Dominican Republic              9.0           4.0   44.444444\n",
       "Costa Rica                      3.0           1.0   33.333333\n",
       "Taiwan                          3.0           1.0   33.333333\n",
       "Qatar                           3.0           1.0   33.333333\n",
       "India                          10.0           3.0   30.000000\n",
       "Philippines                     4.0           1.0   25.000000\n",
       "Bulgaria                        4.0           1.0   25.000000\n",
       "Romania                        36.0           7.0   19.444444"
      ]
     },
     "execution_count": 88,
     "metadata": {},
     "output_type": "execute_result"
    }
   ],
   "source": [
    "casos_mundo.sort_values(by=\"Hospercent\",ascending=False )[[\"Confirmed_Cases\",\"Hospitalized\",\"Hospercent\"]][:20]"
   ]
  },
  {
   "cell_type": "markdown",
   "id": "b355a045-748f-4981-a5ee-faba7ed2f3be",
   "metadata": {},
   "source": [
    "<b style=\"color:#1e6d06\">Observação:</b> Seja pela origem dos dados ou governos não fornecendo as informações necessárias, diversos países estão com percentuais de casos estranhas."
   ]
  },
  {
   "cell_type": "code",
   "execution_count": 89,
   "id": "97a443a9-251f-41f5-939b-204cd4b0196e",
   "metadata": {},
   "outputs": [
    {
     "data": {
      "text/html": [
       "<div>\n",
       "<style scoped>\n",
       "    .dataframe tbody tr th:only-of-type {\n",
       "        vertical-align: middle;\n",
       "    }\n",
       "\n",
       "    .dataframe tbody tr th {\n",
       "        vertical-align: top;\n",
       "    }\n",
       "\n",
       "    .dataframe thead th {\n",
       "        text-align: right;\n",
       "    }\n",
       "</style>\n",
       "<table border=\"1\" class=\"dataframe\">\n",
       "  <thead>\n",
       "    <tr style=\"text-align: right;\">\n",
       "      <th></th>\n",
       "      <th>Confirmed_Cases</th>\n",
       "      <th>Hospitalized</th>\n",
       "      <th>Hospercent</th>\n",
       "    </tr>\n",
       "    <tr>\n",
       "      <th>Country</th>\n",
       "      <th></th>\n",
       "      <th></th>\n",
       "      <th></th>\n",
       "    </tr>\n",
       "  </thead>\n",
       "  <tbody>\n",
       "    <tr>\n",
       "      <th>Brazil</th>\n",
       "      <td>4876.0</td>\n",
       "      <td>4.0</td>\n",
       "      <td>0.082034</td>\n",
       "    </tr>\n",
       "  </tbody>\n",
       "</table>\n",
       "</div>"
      ],
      "text/plain": [
       "         Confirmed_Cases  Hospitalized  Hospercent\n",
       "Country                                           \n",
       "Brazil            4876.0           4.0    0.082034"
      ]
     },
     "execution_count": 89,
     "metadata": {},
     "output_type": "execute_result"
    }
   ],
   "source": [
    "casos_mundo.sort_values(by=\"Hospitalized\",ascending=False )[[\"Confirmed_Cases\",\"Hospitalized\",\"Hospercent\"]].loc[['Brazil']]"
   ]
  },
  {
   "cell_type": "markdown",
   "id": "30ec807a-f003-474e-9087-5d648fbd40a4",
   "metadata": {},
   "source": [
    "<b style=\"color:#1e6d06\">Observação:</b> 0,82% Dos casos confirmados brasileiros estão hospitalizados."
   ]
  },
  {
   "cell_type": "markdown",
   "id": "318fd940-ad51-47b2-8e61-5655ba30f042",
   "metadata": {},
   "source": [
    "<h4>15 Tipos de sintomas mais comuns</h4>"
   ]
  },
  {
   "cell_type": "code",
   "execution_count": 90,
   "id": "65fabe02-fa3b-4c1e-bf07-7e65db8f7b8f",
   "metadata": {},
   "outputs": [
    {
     "data": {
      "text/plain": [
       "genital ulcer lesions               30\n",
       "oral and genital ulcers, fever      17\n",
       "ulcerative lesions                  16\n",
       "Rash                                13\n",
       "skin lesions, ulcerative lesions     5\n",
       "vesicular rash                       5\n",
       "genital ulcers                       5\n",
       "skin lesions                         3\n",
       "rash                                 3\n",
       "fever, skin lesions                  2\n",
       "blisters                             2\n",
       "fever, rash                          2\n",
       "fever, lesions                       2\n",
       "Fatigue, headache, fever             2\n",
       "encephalitis                         2\n",
       "Name: Symptoms, dtype: int64"
      ]
     },
     "execution_count": 90,
     "metadata": {},
     "output_type": "execute_result"
    }
   ],
   "source": [
    "timeline_casos['Symptoms'].value_counts()[:15]"
   ]
  },
  {
   "cell_type": "markdown",
   "id": "71c47c42-5ed2-4b26-91f8-cf6f2814d708",
   "metadata": {},
   "source": [
    "<h4>Contaminados por gênero</h4>"
   ]
  },
  {
   "cell_type": "code",
   "execution_count": 91,
   "id": "e682a11c-8686-4643-9e01-b160c87c6a63",
   "metadata": {},
   "outputs": [
    {
     "data": {
      "text/plain": [
       "Male      2186\n",
       "Female      14\n",
       "Name: Gender, dtype: int64"
      ]
     },
     "execution_count": 91,
     "metadata": {},
     "output_type": "execute_result"
    }
   ],
   "source": [
    "timeline_casos['Gender'].replace(to_replace = ['female',' female', 'female '], value = \"Female\", inplace=True)\n",
    "timeline_casos['Gender'].replace(to_replace = ['male','  male', 'male '], value = \"Male\", inplace=True)\n",
    "timeline_casos['Gender'].value_counts()"
   ]
  },
  {
   "cell_type": "markdown",
   "id": "2aeb7cc7-df51-48c7-9de7-7ad5eb45c3c6",
   "metadata": {},
   "source": [
    "<b style=\"color:#1e6d06\">Observação:</b> Apenas 14 mulheres foram identificadas como contaminadas"
   ]
  },
  {
   "cell_type": "markdown",
   "id": "dd93c9b2-6a5f-4b64-9642-f93f5ba4a733",
   "metadata": {
    "tags": []
   },
   "source": [
    "<h4>Contaminados por idade</h4>"
   ]
  },
  {
   "cell_type": "code",
   "execution_count": 92,
   "id": "f22b96de-7a03-4c91-a93e-ef59ebbc492f",
   "metadata": {},
   "outputs": [
    {
     "data": {
      "text/plain": [
       "20-69    585\n",
       "15-64    271\n",
       "15-74    240\n",
       "20-64    225\n",
       "20-59    203\n",
       "        ... \n",
       "0-14       1\n",
       "45-50      1\n",
       "50-55      1\n",
       "25-30      1\n",
       "40-42      1\n",
       "Name: Age, Length: 82, dtype: int64"
      ]
     },
     "execution_count": 92,
     "metadata": {},
     "output_type": "execute_result"
    }
   ],
   "source": [
    "timeline_casos['Age'].value_counts()"
   ]
  },
  {
   "cell_type": "markdown",
   "id": "f2df2d5f-9199-4e34-a301-7836c6e17d32",
   "metadata": {},
   "source": [
    "<b style=\"color:#1e6d06\">Observação:</b> Os dados estão fracos, eventualmente no futuro eu faço o tratamento deles."
   ]
  },
  {
   "cell_type": "markdown",
   "id": "cbda251e-d436-4d09-9a3b-d527cad252cb",
   "metadata": {
    "tags": []
   },
   "source": [
    "<h4>Correlações</h4>"
   ]
  },
  {
   "cell_type": "code",
   "execution_count": 93,
   "id": "bc97a658-c819-4bf1-944a-3a5ba38ab61f",
   "metadata": {},
   "outputs": [
    {
     "data": {
      "application/vnd.plotly.v1+json": {
       "config": {
        "plotlyServerURL": "https://plot.ly"
       },
       "data": [
        {
         "coloraxis": "coloraxis",
         "hovertemplate": "x: %{x}<br>y: %{y}<br>color: %{z}<extra></extra>",
         "name": "0",
         "type": "heatmap",
         "x": [
          "Confirmed_Cases",
          "Suspected_Cases",
          "Hospitalized",
          "Travel_History_Yes",
          "Travel_History_No",
          "Hospercent"
         ],
         "xaxis": "x",
         "y": [
          "Confirmed_Cases",
          "Suspected_Cases",
          "Hospitalized",
          "Travel_History_Yes",
          "Travel_History_No",
          "Hospercent"
         ],
         "yaxis": "y",
         "z": [
          [
           1,
           -0.014663113860037763,
           0.3429639263661946,
           0.7868348495902497,
           0.3658555478396896,
           -0.0959655423580299
          ],
          [
           -0.014663113860037763,
           1,
           -0.043949570510000605,
           -0.047143996779032575,
           -0.02156617876939597,
           -0.04604613437089868
          ],
          [
           0.3429639263661946,
           -0.043949570510000605,
           1,
           0.4976174239836217,
           0.2906680582239674,
           0.1631919597278102
          ],
          [
           0.7868348495902497,
           -0.047143996779032575,
           0.4976174239836217,
           1,
           0.3638925781874685,
           -0.04705804488872057
          ],
          [
           0.3658555478396896,
           -0.02156617876939597,
           0.2906680582239674,
           0.3638925781874685,
           1,
           -0.07894897915877139
          ],
          [
           -0.0959655423580299,
           -0.04604613437089868,
           0.1631919597278102,
           -0.04705804488872057,
           -0.07894897915877139,
           1
          ]
         ]
        }
       ],
       "layout": {
        "autosize": true,
        "coloraxis": {
         "colorscale": [
          [
           0,
           "#0d0887"
          ],
          [
           0.1111111111111111,
           "#46039f"
          ],
          [
           0.2222222222222222,
           "#7201a8"
          ],
          [
           0.3333333333333333,
           "#9c179e"
          ],
          [
           0.4444444444444444,
           "#bd3786"
          ],
          [
           0.5555555555555556,
           "#d8576b"
          ],
          [
           0.6666666666666666,
           "#ed7953"
          ],
          [
           0.7777777777777778,
           "#fb9f3a"
          ],
          [
           0.8888888888888888,
           "#fdca26"
          ],
          [
           1,
           "#f0f921"
          ]
         ]
        },
        "margin": {
         "t": 60
        },
        "template": {
         "data": {
          "bar": [
           {
            "error_x": {
             "color": "#2a3f5f"
            },
            "error_y": {
             "color": "#2a3f5f"
            },
            "marker": {
             "line": {
              "color": "#E5ECF6",
              "width": 0.5
             },
             "pattern": {
              "fillmode": "overlay",
              "size": 10,
              "solidity": 0.2
             }
            },
            "type": "bar"
           }
          ],
          "barpolar": [
           {
            "marker": {
             "line": {
              "color": "#E5ECF6",
              "width": 0.5
             },
             "pattern": {
              "fillmode": "overlay",
              "size": 10,
              "solidity": 0.2
             }
            },
            "type": "barpolar"
           }
          ],
          "carpet": [
           {
            "aaxis": {
             "endlinecolor": "#2a3f5f",
             "gridcolor": "white",
             "linecolor": "white",
             "minorgridcolor": "white",
             "startlinecolor": "#2a3f5f"
            },
            "baxis": {
             "endlinecolor": "#2a3f5f",
             "gridcolor": "white",
             "linecolor": "white",
             "minorgridcolor": "white",
             "startlinecolor": "#2a3f5f"
            },
            "type": "carpet"
           }
          ],
          "choropleth": [
           {
            "colorbar": {
             "outlinewidth": 0,
             "ticks": ""
            },
            "type": "choropleth"
           }
          ],
          "contour": [
           {
            "colorbar": {
             "outlinewidth": 0,
             "ticks": ""
            },
            "colorscale": [
             [
              0,
              "#0d0887"
             ],
             [
              0.1111111111111111,
              "#46039f"
             ],
             [
              0.2222222222222222,
              "#7201a8"
             ],
             [
              0.3333333333333333,
              "#9c179e"
             ],
             [
              0.4444444444444444,
              "#bd3786"
             ],
             [
              0.5555555555555556,
              "#d8576b"
             ],
             [
              0.6666666666666666,
              "#ed7953"
             ],
             [
              0.7777777777777778,
              "#fb9f3a"
             ],
             [
              0.8888888888888888,
              "#fdca26"
             ],
             [
              1,
              "#f0f921"
             ]
            ],
            "type": "contour"
           }
          ],
          "contourcarpet": [
           {
            "colorbar": {
             "outlinewidth": 0,
             "ticks": ""
            },
            "type": "contourcarpet"
           }
          ],
          "heatmap": [
           {
            "colorbar": {
             "outlinewidth": 0,
             "ticks": ""
            },
            "colorscale": [
             [
              0,
              "#0d0887"
             ],
             [
              0.1111111111111111,
              "#46039f"
             ],
             [
              0.2222222222222222,
              "#7201a8"
             ],
             [
              0.3333333333333333,
              "#9c179e"
             ],
             [
              0.4444444444444444,
              "#bd3786"
             ],
             [
              0.5555555555555556,
              "#d8576b"
             ],
             [
              0.6666666666666666,
              "#ed7953"
             ],
             [
              0.7777777777777778,
              "#fb9f3a"
             ],
             [
              0.8888888888888888,
              "#fdca26"
             ],
             [
              1,
              "#f0f921"
             ]
            ],
            "type": "heatmap"
           }
          ],
          "heatmapgl": [
           {
            "colorbar": {
             "outlinewidth": 0,
             "ticks": ""
            },
            "colorscale": [
             [
              0,
              "#0d0887"
             ],
             [
              0.1111111111111111,
              "#46039f"
             ],
             [
              0.2222222222222222,
              "#7201a8"
             ],
             [
              0.3333333333333333,
              "#9c179e"
             ],
             [
              0.4444444444444444,
              "#bd3786"
             ],
             [
              0.5555555555555556,
              "#d8576b"
             ],
             [
              0.6666666666666666,
              "#ed7953"
             ],
             [
              0.7777777777777778,
              "#fb9f3a"
             ],
             [
              0.8888888888888888,
              "#fdca26"
             ],
             [
              1,
              "#f0f921"
             ]
            ],
            "type": "heatmapgl"
           }
          ],
          "histogram": [
           {
            "marker": {
             "pattern": {
              "fillmode": "overlay",
              "size": 10,
              "solidity": 0.2
             }
            },
            "type": "histogram"
           }
          ],
          "histogram2d": [
           {
            "colorbar": {
             "outlinewidth": 0,
             "ticks": ""
            },
            "colorscale": [
             [
              0,
              "#0d0887"
             ],
             [
              0.1111111111111111,
              "#46039f"
             ],
             [
              0.2222222222222222,
              "#7201a8"
             ],
             [
              0.3333333333333333,
              "#9c179e"
             ],
             [
              0.4444444444444444,
              "#bd3786"
             ],
             [
              0.5555555555555556,
              "#d8576b"
             ],
             [
              0.6666666666666666,
              "#ed7953"
             ],
             [
              0.7777777777777778,
              "#fb9f3a"
             ],
             [
              0.8888888888888888,
              "#fdca26"
             ],
             [
              1,
              "#f0f921"
             ]
            ],
            "type": "histogram2d"
           }
          ],
          "histogram2dcontour": [
           {
            "colorbar": {
             "outlinewidth": 0,
             "ticks": ""
            },
            "colorscale": [
             [
              0,
              "#0d0887"
             ],
             [
              0.1111111111111111,
              "#46039f"
             ],
             [
              0.2222222222222222,
              "#7201a8"
             ],
             [
              0.3333333333333333,
              "#9c179e"
             ],
             [
              0.4444444444444444,
              "#bd3786"
             ],
             [
              0.5555555555555556,
              "#d8576b"
             ],
             [
              0.6666666666666666,
              "#ed7953"
             ],
             [
              0.7777777777777778,
              "#fb9f3a"
             ],
             [
              0.8888888888888888,
              "#fdca26"
             ],
             [
              1,
              "#f0f921"
             ]
            ],
            "type": "histogram2dcontour"
           }
          ],
          "mesh3d": [
           {
            "colorbar": {
             "outlinewidth": 0,
             "ticks": ""
            },
            "type": "mesh3d"
           }
          ],
          "parcoords": [
           {
            "line": {
             "colorbar": {
              "outlinewidth": 0,
              "ticks": ""
             }
            },
            "type": "parcoords"
           }
          ],
          "pie": [
           {
            "automargin": true,
            "type": "pie"
           }
          ],
          "scatter": [
           {
            "marker": {
             "colorbar": {
              "outlinewidth": 0,
              "ticks": ""
             }
            },
            "type": "scatter"
           }
          ],
          "scatter3d": [
           {
            "line": {
             "colorbar": {
              "outlinewidth": 0,
              "ticks": ""
             }
            },
            "marker": {
             "colorbar": {
              "outlinewidth": 0,
              "ticks": ""
             }
            },
            "type": "scatter3d"
           }
          ],
          "scattercarpet": [
           {
            "marker": {
             "colorbar": {
              "outlinewidth": 0,
              "ticks": ""
             }
            },
            "type": "scattercarpet"
           }
          ],
          "scattergeo": [
           {
            "marker": {
             "colorbar": {
              "outlinewidth": 0,
              "ticks": ""
             }
            },
            "type": "scattergeo"
           }
          ],
          "scattergl": [
           {
            "marker": {
             "colorbar": {
              "outlinewidth": 0,
              "ticks": ""
             }
            },
            "type": "scattergl"
           }
          ],
          "scattermapbox": [
           {
            "marker": {
             "colorbar": {
              "outlinewidth": 0,
              "ticks": ""
             }
            },
            "type": "scattermapbox"
           }
          ],
          "scatterpolar": [
           {
            "marker": {
             "colorbar": {
              "outlinewidth": 0,
              "ticks": ""
             }
            },
            "type": "scatterpolar"
           }
          ],
          "scatterpolargl": [
           {
            "marker": {
             "colorbar": {
              "outlinewidth": 0,
              "ticks": ""
             }
            },
            "type": "scatterpolargl"
           }
          ],
          "scatterternary": [
           {
            "marker": {
             "colorbar": {
              "outlinewidth": 0,
              "ticks": ""
             }
            },
            "type": "scatterternary"
           }
          ],
          "surface": [
           {
            "colorbar": {
             "outlinewidth": 0,
             "ticks": ""
            },
            "colorscale": [
             [
              0,
              "#0d0887"
             ],
             [
              0.1111111111111111,
              "#46039f"
             ],
             [
              0.2222222222222222,
              "#7201a8"
             ],
             [
              0.3333333333333333,
              "#9c179e"
             ],
             [
              0.4444444444444444,
              "#bd3786"
             ],
             [
              0.5555555555555556,
              "#d8576b"
             ],
             [
              0.6666666666666666,
              "#ed7953"
             ],
             [
              0.7777777777777778,
              "#fb9f3a"
             ],
             [
              0.8888888888888888,
              "#fdca26"
             ],
             [
              1,
              "#f0f921"
             ]
            ],
            "type": "surface"
           }
          ],
          "table": [
           {
            "cells": {
             "fill": {
              "color": "#EBF0F8"
             },
             "line": {
              "color": "white"
             }
            },
            "header": {
             "fill": {
              "color": "#C8D4E3"
             },
             "line": {
              "color": "white"
             }
            },
            "type": "table"
           }
          ]
         },
         "layout": {
          "annotationdefaults": {
           "arrowcolor": "#2a3f5f",
           "arrowhead": 0,
           "arrowwidth": 1
          },
          "autotypenumbers": "strict",
          "coloraxis": {
           "colorbar": {
            "outlinewidth": 0,
            "ticks": ""
           }
          },
          "colorscale": {
           "diverging": [
            [
             0,
             "#8e0152"
            ],
            [
             0.1,
             "#c51b7d"
            ],
            [
             0.2,
             "#de77ae"
            ],
            [
             0.3,
             "#f1b6da"
            ],
            [
             0.4,
             "#fde0ef"
            ],
            [
             0.5,
             "#f7f7f7"
            ],
            [
             0.6,
             "#e6f5d0"
            ],
            [
             0.7,
             "#b8e186"
            ],
            [
             0.8,
             "#7fbc41"
            ],
            [
             0.9,
             "#4d9221"
            ],
            [
             1,
             "#276419"
            ]
           ],
           "sequential": [
            [
             0,
             "#0d0887"
            ],
            [
             0.1111111111111111,
             "#46039f"
            ],
            [
             0.2222222222222222,
             "#7201a8"
            ],
            [
             0.3333333333333333,
             "#9c179e"
            ],
            [
             0.4444444444444444,
             "#bd3786"
            ],
            [
             0.5555555555555556,
             "#d8576b"
            ],
            [
             0.6666666666666666,
             "#ed7953"
            ],
            [
             0.7777777777777778,
             "#fb9f3a"
            ],
            [
             0.8888888888888888,
             "#fdca26"
            ],
            [
             1,
             "#f0f921"
            ]
           ],
           "sequentialminus": [
            [
             0,
             "#0d0887"
            ],
            [
             0.1111111111111111,
             "#46039f"
            ],
            [
             0.2222222222222222,
             "#7201a8"
            ],
            [
             0.3333333333333333,
             "#9c179e"
            ],
            [
             0.4444444444444444,
             "#bd3786"
            ],
            [
             0.5555555555555556,
             "#d8576b"
            ],
            [
             0.6666666666666666,
             "#ed7953"
            ],
            [
             0.7777777777777778,
             "#fb9f3a"
            ],
            [
             0.8888888888888888,
             "#fdca26"
            ],
            [
             1,
             "#f0f921"
            ]
           ]
          },
          "colorway": [
           "#636efa",
           "#EF553B",
           "#00cc96",
           "#ab63fa",
           "#FFA15A",
           "#19d3f3",
           "#FF6692",
           "#B6E880",
           "#FF97FF",
           "#FECB52"
          ],
          "font": {
           "color": "#2a3f5f"
          },
          "geo": {
           "bgcolor": "white",
           "lakecolor": "white",
           "landcolor": "#E5ECF6",
           "showlakes": true,
           "showland": true,
           "subunitcolor": "white"
          },
          "hoverlabel": {
           "align": "left"
          },
          "hovermode": "closest",
          "mapbox": {
           "style": "light"
          },
          "paper_bgcolor": "white",
          "plot_bgcolor": "#E5ECF6",
          "polar": {
           "angularaxis": {
            "gridcolor": "white",
            "linecolor": "white",
            "ticks": ""
           },
           "bgcolor": "#E5ECF6",
           "radialaxis": {
            "gridcolor": "white",
            "linecolor": "white",
            "ticks": ""
           }
          },
          "scene": {
           "xaxis": {
            "backgroundcolor": "#E5ECF6",
            "gridcolor": "white",
            "gridwidth": 2,
            "linecolor": "white",
            "showbackground": true,
            "ticks": "",
            "zerolinecolor": "white"
           },
           "yaxis": {
            "backgroundcolor": "#E5ECF6",
            "gridcolor": "white",
            "gridwidth": 2,
            "linecolor": "white",
            "showbackground": true,
            "ticks": "",
            "zerolinecolor": "white"
           },
           "zaxis": {
            "backgroundcolor": "#E5ECF6",
            "gridcolor": "white",
            "gridwidth": 2,
            "linecolor": "white",
            "showbackground": true,
            "ticks": "",
            "zerolinecolor": "white"
           }
          },
          "shapedefaults": {
           "line": {
            "color": "#2a3f5f"
           }
          },
          "ternary": {
           "aaxis": {
            "gridcolor": "white",
            "linecolor": "white",
            "ticks": ""
           },
           "baxis": {
            "gridcolor": "white",
            "linecolor": "white",
            "ticks": ""
           },
           "bgcolor": "#E5ECF6",
           "caxis": {
            "gridcolor": "white",
            "linecolor": "white",
            "ticks": ""
           }
          },
          "title": {
           "x": 0.05
          },
          "xaxis": {
           "automargin": true,
           "gridcolor": "white",
           "linecolor": "white",
           "ticks": "",
           "title": {
            "standoff": 15
           },
           "zerolinecolor": "white",
           "zerolinewidth": 2
          },
          "yaxis": {
           "automargin": true,
           "gridcolor": "white",
           "linecolor": "white",
           "ticks": "",
           "title": {
            "standoff": 15
           },
           "zerolinecolor": "white",
           "zerolinewidth": 2
          }
         }
        },
        "xaxis": {
         "anchor": "y",
         "autorange": true,
         "constrain": "domain",
         "domain": [
          0.40847457627118644,
          0.5915254237288136
         ],
         "range": [
          -0.5,
          5.5
         ],
         "scaleanchor": "y",
         "type": "category"
        },
        "yaxis": {
         "anchor": "x",
         "autorange": true,
         "constrain": "domain",
         "domain": [
          0,
          1
         ],
         "range": [
          5.5,
          -0.5
         ],
         "type": "category"
        }
       }
      },
      "image/png": "[encoded data removed]",
      "text/html": [
       "<div>                            <div id=\"94bbf8b3-f031-474d-bccb-e68b5b9cde09\" class=\"plotly-graph-div\" style=\"height:525px; width:100%;\"></div>            <script type=\"text/javascript\">                require([\"plotly\"], function(Plotly) {                    window.PLOTLYENV=window.PLOTLYENV || {};                                    if (document.getElementById(\"94bbf8b3-f031-474d-bccb-e68b5b9cde09\")) {                    Plotly.newPlot(                        \"94bbf8b3-f031-474d-bccb-e68b5b9cde09\",                        [{\"coloraxis\":\"coloraxis\",\"hovertemplate\":\"x: %{x}<br>y: %{y}<br>color: %{z}<extra></extra>\",\"name\":\"0\",\"type\":\"heatmap\",\"x\":[\"Confirmed_Cases\",\"Suspected_Cases\",\"Hospitalized\",\"Travel_History_Yes\",\"Travel_History_No\",\"Hospercent\"],\"xaxis\":\"x\",\"y\":[\"Confirmed_Cases\",\"Suspected_Cases\",\"Hospitalized\",\"Travel_History_Yes\",\"Travel_History_No\",\"Hospercent\"],\"yaxis\":\"y\",\"z\":[[1.0,-0.014663113860037763,0.3429639263661946,0.7868348495902497,0.3658555478396896,-0.0959655423580299],[-0.014663113860037763,1.0,-0.043949570510000605,-0.047143996779032575,-0.02156617876939597,-0.04604613437089868],[0.3429639263661946,-0.043949570510000605,1.0,0.4976174239836217,0.2906680582239674,0.1631919597278102],[0.7868348495902497,-0.047143996779032575,0.4976174239836217,1.0,0.3638925781874685,-0.04705804488872057],[0.3658555478396896,-0.02156617876939597,0.2906680582239674,0.3638925781874685,1.0,-0.07894897915877139],[-0.0959655423580299,-0.04604613437089868,0.1631919597278102,-0.04705804488872057,-0.07894897915877139,1.0]]}],                        {\"coloraxis\":{\"colorscale\":[[0.0,\"#0d0887\"],[0.1111111111111111,\"#46039f\"],[0.2222222222222222,\"#7201a8\"],[0.3333333333333333,\"#9c179e\"],[0.4444444444444444,\"#bd3786\"],[0.5555555555555556,\"#d8576b\"],[0.6666666666666666,\"#ed7953\"],[0.7777777777777778,\"#fb9f3a\"],[0.8888888888888888,\"#fdca26\"],[1.0,\"#f0f921\"]]},\"margin\":{\"t\":60},\"template\":{\"data\":{\"bar\":[{\"error_x\":{\"color\":\"#2a3f5f\"},\"error_y\":{\"color\":\"#2a3f5f\"},\"marker\":{\"line\":{\"color\":\"#E5ECF6\",\"width\":0.5},\"pattern\":{\"fillmode\":\"overlay\",\"size\":10,\"solidity\":0.2}},\"type\":\"bar\"}],\"barpolar\":[{\"marker\":{\"line\":{\"color\":\"#E5ECF6\",\"width\":0.5},\"pattern\":{\"fillmode\":\"overlay\",\"size\":10,\"solidity\":0.2}},\"type\":\"barpolar\"}],\"carpet\":[{\"aaxis\":{\"endlinecolor\":\"#2a3f5f\",\"gridcolor\":\"white\",\"linecolor\":\"white\",\"minorgridcolor\":\"white\",\"startlinecolor\":\"#2a3f5f\"},\"baxis\":{\"endlinecolor\":\"#2a3f5f\",\"gridcolor\":\"white\",\"linecolor\":\"white\",\"minorgridcolor\":\"white\",\"startlinecolor\":\"#2a3f5f\"},\"type\":\"carpet\"}],\"choropleth\":[{\"colorbar\":{\"outlinewidth\":0,\"ticks\":\"\"},\"type\":\"choropleth\"}],\"contour\":[{\"colorbar\":{\"outlinewidth\":0,\"ticks\":\"\"},\"colorscale\":[[0.0,\"#0d0887\"],[0.1111111111111111,\"#46039f\"],[0.2222222222222222,\"#7201a8\"],[0.3333333333333333,\"#9c179e\"],[0.4444444444444444,\"#bd3786\"],[0.5555555555555556,\"#d8576b\"],[0.6666666666666666,\"#ed7953\"],[0.7777777777777778,\"#fb9f3a\"],[0.8888888888888888,\"#fdca26\"],[1.0,\"#f0f921\"]],\"type\":\"contour\"}],\"contourcarpet\":[{\"colorbar\":{\"outlinewidth\":0,\"ticks\":\"\"},\"type\":\"contourcarpet\"}],\"heatmap\":[{\"colorbar\":{\"outlinewidth\":0,\"ticks\":\"\"},\"colorscale\":[[0.0,\"#0d0887\"],[0.1111111111111111,\"#46039f\"],[0.2222222222222222,\"#7201a8\"],[0.3333333333333333,\"#9c179e\"],[0.4444444444444444,\"#bd3786\"],[0.5555555555555556,\"#d8576b\"],[0.6666666666666666,\"#ed7953\"],[0.7777777777777778,\"#fb9f3a\"],[0.8888888888888888,\"#fdca26\"],[1.0,\"#f0f921\"]],\"type\":\"heatmap\"}],\"heatmapgl\":[{\"colorbar\":{\"outlinewidth\":0,\"ticks\":\"\"},\"colorscale\":[[0.0,\"#0d0887\"],[0.1111111111111111,\"#46039f\"],[0.2222222222222222,\"#7201a8\"],[0.3333333333333333,\"#9c179e\"],[0.4444444444444444,\"#bd3786\"],[0.5555555555555556,\"#d8576b\"],[0.6666666666666666,\"#ed7953\"],[0.7777777777777778,\"#fb9f3a\"],[0.8888888888888888,\"#fdca26\"],[1.0,\"#f0f921\"]],\"type\":\"heatmapgl\"}],\"histogram\":[{\"marker\":{\"pattern\":{\"fillmode\":\"overlay\",\"size\":10,\"solidity\":0.2}},\"type\":\"histogram\"}],\"histogram2d\":[{\"colorbar\":{\"outlinewidth\":0,\"ticks\":\"\"},\"colorscale\":[[0.0,\"#0d0887\"],[0.1111111111111111,\"#46039f\"],[0.2222222222222222,\"#7201a8\"],[0.3333333333333333,\"#9c179e\"],[0.4444444444444444,\"#bd3786\"],[0.5555555555555556,\"#d8576b\"],[0.6666666666666666,\"#ed7953\"],[0.7777777777777778,\"#fb9f3a\"],[0.8888888888888888,\"#fdca26\"],[1.0,\"#f0f921\"]],\"type\":\"histogram2d\"}],\"histogram2dcontour\":[{\"colorbar\":{\"outlinewidth\":0,\"ticks\":\"\"},\"colorscale\":[[0.0,\"#0d0887\"],[0.1111111111111111,\"#46039f\"],[0.2222222222222222,\"#7201a8\"],[0.3333333333333333,\"#9c179e\"],[0.4444444444444444,\"#bd3786\"],[0.5555555555555556,\"#d8576b\"],[0.6666666666666666,\"#ed7953\"],[0.7777777777777778,\"#fb9f3a\"],[0.8888888888888888,\"#fdca26\"],[1.0,\"#f0f921\"]],\"type\":\"histogram2dcontour\"}],\"mesh3d\":[{\"colorbar\":{\"outlinewidth\":0,\"ticks\":\"\"},\"type\":\"mesh3d\"}],\"parcoords\":[{\"line\":{\"colorbar\":{\"outlinewidth\":0,\"ticks\":\"\"}},\"type\":\"parcoords\"}],\"pie\":[{\"automargin\":true,\"type\":\"pie\"}],\"scatter\":[{\"marker\":{\"colorbar\":{\"outlinewidth\":0,\"ticks\":\"\"}},\"type\":\"scatter\"}],\"scatter3d\":[{\"line\":{\"colorbar\":{\"outlinewidth\":0,\"ticks\":\"\"}},\"marker\":{\"colorbar\":{\"outlinewidth\":0,\"ticks\":\"\"}},\"type\":\"scatter3d\"}],\"scattercarpet\":[{\"marker\":{\"colorbar\":{\"outlinewidth\":0,\"ticks\":\"\"}},\"type\":\"scattercarpet\"}],\"scattergeo\":[{\"marker\":{\"colorbar\":{\"outlinewidth\":0,\"ticks\":\"\"}},\"type\":\"scattergeo\"}],\"scattergl\":[{\"marker\":{\"colorbar\":{\"outlinewidth\":0,\"ticks\":\"\"}},\"type\":\"scattergl\"}],\"scattermapbox\":[{\"marker\":{\"colorbar\":{\"outlinewidth\":0,\"ticks\":\"\"}},\"type\":\"scattermapbox\"}],\"scatterpolar\":[{\"marker\":{\"colorbar\":{\"outlinewidth\":0,\"ticks\":\"\"}},\"type\":\"scatterpolar\"}],\"scatterpolargl\":[{\"marker\":{\"colorbar\":{\"outlinewidth\":0,\"ticks\":\"\"}},\"type\":\"scatterpolargl\"}],\"scatterternary\":[{\"marker\":{\"colorbar\":{\"outlinewidth\":0,\"ticks\":\"\"}},\"type\":\"scatterternary\"}],\"surface\":[{\"colorbar\":{\"outlinewidth\":0,\"ticks\":\"\"},\"colorscale\":[[0.0,\"#0d0887\"],[0.1111111111111111,\"#46039f\"],[0.2222222222222222,\"#7201a8\"],[0.3333333333333333,\"#9c179e\"],[0.4444444444444444,\"#bd3786\"],[0.5555555555555556,\"#d8576b\"],[0.6666666666666666,\"#ed7953\"],[0.7777777777777778,\"#fb9f3a\"],[0.8888888888888888,\"#fdca26\"],[1.0,\"#f0f921\"]],\"type\":\"surface\"}],\"table\":[{\"cells\":{\"fill\":{\"color\":\"#EBF0F8\"},\"line\":{\"color\":\"white\"}},\"header\":{\"fill\":{\"color\":\"#C8D4E3\"},\"line\":{\"color\":\"white\"}},\"type\":\"table\"}]},\"layout\":{\"annotationdefaults\":{\"arrowcolor\":\"#2a3f5f\",\"arrowhead\":0,\"arrowwidth\":1},\"autotypenumbers\":\"strict\",\"coloraxis\":{\"colorbar\":{\"outlinewidth\":0,\"ticks\":\"\"}},\"colorscale\":{\"diverging\":[[0,\"#8e0152\"],[0.1,\"#c51b7d\"],[0.2,\"#de77ae\"],[0.3,\"#f1b6da\"],[0.4,\"#fde0ef\"],[0.5,\"#f7f7f7\"],[0.6,\"#e6f5d0\"],[0.7,\"#b8e186\"],[0.8,\"#7fbc41\"],[0.9,\"#4d9221\"],[1,\"#276419\"]],\"sequential\":[[0.0,\"#0d0887\"],[0.1111111111111111,\"#46039f\"],[0.2222222222222222,\"#7201a8\"],[0.3333333333333333,\"#9c179e\"],[0.4444444444444444,\"#bd3786\"],[0.5555555555555556,\"#d8576b\"],[0.6666666666666666,\"#ed7953\"],[0.7777777777777778,\"#fb9f3a\"],[0.8888888888888888,\"#fdca26\"],[1.0,\"#f0f921\"]],\"sequentialminus\":[[0.0,\"#0d0887\"],[0.1111111111111111,\"#46039f\"],[0.2222222222222222,\"#7201a8\"],[0.3333333333333333,\"#9c179e\"],[0.4444444444444444,\"#bd3786\"],[0.5555555555555556,\"#d8576b\"],[0.6666666666666666,\"#ed7953\"],[0.7777777777777778,\"#fb9f3a\"],[0.8888888888888888,\"#fdca26\"],[1.0,\"#f0f921\"]]},\"colorway\":[\"#636efa\",\"#EF553B\",\"#00cc96\",\"#ab63fa\",\"#FFA15A\",\"#19d3f3\",\"#FF6692\",\"#B6E880\",\"#FF97FF\",\"#FECB52\"],\"font\":{\"color\":\"#2a3f5f\"},\"geo\":{\"bgcolor\":\"white\",\"lakecolor\":\"white\",\"landcolor\":\"#E5ECF6\",\"showlakes\":true,\"showland\":true,\"subunitcolor\":\"white\"},\"hoverlabel\":{\"align\":\"left\"},\"hovermode\":\"closest\",\"mapbox\":{\"style\":\"light\"},\"paper_bgcolor\":\"white\",\"plot_bgcolor\":\"#E5ECF6\",\"polar\":{\"angularaxis\":{\"gridcolor\":\"white\",\"linecolor\":\"white\",\"ticks\":\"\"},\"bgcolor\":\"#E5ECF6\",\"radialaxis\":{\"gridcolor\":\"white\",\"linecolor\":\"white\",\"ticks\":\"\"}},\"scene\":{\"xaxis\":{\"backgroundcolor\":\"#E5ECF6\",\"gridcolor\":\"white\",\"gridwidth\":2,\"linecolor\":\"white\",\"showbackground\":true,\"ticks\":\"\",\"zerolinecolor\":\"white\"},\"yaxis\":{\"backgroundcolor\":\"#E5ECF6\",\"gridcolor\":\"white\",\"gridwidth\":2,\"linecolor\":\"white\",\"showbackground\":true,\"ticks\":\"\",\"zerolinecolor\":\"white\"},\"zaxis\":{\"backgroundcolor\":\"#E5ECF6\",\"gridcolor\":\"white\",\"gridwidth\":2,\"linecolor\":\"white\",\"showbackground\":true,\"ticks\":\"\",\"zerolinecolor\":\"white\"}},\"shapedefaults\":{\"line\":{\"color\":\"#2a3f5f\"}},\"ternary\":{\"aaxis\":{\"gridcolor\":\"white\",\"linecolor\":\"white\",\"ticks\":\"\"},\"baxis\":{\"gridcolor\":\"white\",\"linecolor\":\"white\",\"ticks\":\"\"},\"bgcolor\":\"#E5ECF6\",\"caxis\":{\"gridcolor\":\"white\",\"linecolor\":\"white\",\"ticks\":\"\"}},\"title\":{\"x\":0.05},\"xaxis\":{\"automargin\":true,\"gridcolor\":\"white\",\"linecolor\":\"white\",\"ticks\":\"\",\"title\":{\"standoff\":15},\"zerolinecolor\":\"white\",\"zerolinewidth\":2},\"yaxis\":{\"automargin\":true,\"gridcolor\":\"white\",\"linecolor\":\"white\",\"ticks\":\"\",\"title\":{\"standoff\":15},\"zerolinecolor\":\"white\",\"zerolinewidth\":2}}},\"xaxis\":{\"anchor\":\"y\",\"constrain\":\"domain\",\"domain\":[0.0,1.0],\"scaleanchor\":\"y\"},\"yaxis\":{\"anchor\":\"x\",\"autorange\":\"reversed\",\"constrain\":\"domain\",\"domain\":[0.0,1.0]}},                        {\"responsive\": true}                    ).then(function(){\n",
       "                            \n",
       "var gd = document.getElementById('94bbf8b3-f031-474d-bccb-e68b5b9cde09');\n",
       "var x = new MutationObserver(function (mutations, observer) {{\n",
       "        var display = window.getComputedStyle(gd).display;\n",
       "        if (!display || display === 'none') {{\n",
       "            console.log([gd, 'removed!']);\n",
       "            Plotly.purge(gd);\n",
       "            observer.disconnect();\n",
       "        }}\n",
       "}});\n",
       "\n",
       "// Listen for the removal of the full notebook cells\n",
       "var notebookContainer = gd.closest('#notebook-container');\n",
       "if (notebookContainer) {{\n",
       "    x.observe(notebookContainer, {childList: true});\n",
       "}}\n",
       "\n",
       "// Listen for the clearing of the current output cell\n",
       "var outputEl = gd.closest('.output');\n",
       "if (outputEl) {{\n",
       "    x.observe(outputEl, {childList: true});\n",
       "}}\n",
       "\n",
       "                        })                };                });            </script>        </div>"
      ]
     },
     "metadata": {},
     "output_type": "display_data"
    }
   ],
   "source": [
    "fig = px.imshow(casos_mundo.corr())\n",
    "fig.show()"
   ]
  },
  {
   "cell_type": "markdown",
   "id": "949ff068-e16e-4f14-8851-998ae65c4e7c",
   "metadata": {},
   "source": [
    "<b style=\"color:#1e6d06\">Observação:</b> Aparentemente o histórico de viagem possui alta correlação com casos confirmados e hospitalização."
   ]
  },
  {
   "cell_type": "markdown",
   "id": "c0040b59-8b10-47a3-9075-e7e3d5b55a78",
   "metadata": {
    "tags": []
   },
   "source": [
    "<h4>Pessoas contaminadas por cidades no Brasil</h4>"
   ]
  },
  {
   "cell_type": "code",
   "execution_count": 94,
   "id": "921d8fa9-68ad-4090-9c29-fbe381e77afa",
   "metadata": {},
   "outputs": [
    {
     "data": {
      "text/plain": [
       "Country  City               \n",
       "Brazil   Belo Horizonte         6\n",
       "         Sete Lagoas            2\n",
       "         Rio de Janeiro City    2\n",
       "         Curitiba               2\n",
       "         Vinhedo                1\n",
       "         Sao Paulo              1\n",
       "         Russas                 1\n",
       "         Porto Alegre           1\n",
       "         Natal                  1\n",
       "         Marica                 1\n",
       "         Indaiatuba             1\n",
       "         Fortaleza              1\n",
       "         Cascavel               1\n",
       "Name: City, dtype: int64"
      ]
     },
     "execution_count": 94,
     "metadata": {},
     "output_type": "execute_result"
    }
   ],
   "source": [
    "timeline_casos.where(timeline_casos['Country'] == 'Brazil').groupby(['Country', 'City'])['City'].count().sort_values(ascending=False)"
   ]
  },
  {
   "cell_type": "markdown",
   "id": "a2c5d2c4-bcf9-48fd-85b0-735a1ca2cfc3",
   "metadata": {},
   "source": [
    "<h4>Primeiro caso no Brasil</h4>"
   ]
  },
  {
   "cell_type": "code",
   "execution_count": 95,
   "id": "1c89f912-fb30-4c36-949e-4d1056410a59",
   "metadata": {},
   "outputs": [],
   "source": [
    "timeline_casos = pd.DataFrame(timeline_casos[[\"Country\"]].drop_duplicates())"
   ]
  },
  {
   "cell_type": "code",
   "execution_count": 96,
   "id": "36a52ffc-a521-4681-8272-7eb8c409f78e",
   "metadata": {},
   "outputs": [
    {
     "name": "stdout",
     "output_type": "stream",
     "text": [
      "2022-06-08\n"
     ]
    }
   ],
   "source": [
    "pdata = timeline_casos[timeline_casos[\"Country\"] == \"Brazil\"].index[0]\n",
    "print(pdata)"
   ]
  },
  {
   "cell_type": "markdown",
   "id": "f8ed753f-7465-4163-ae9b-62cf37baf51f",
   "metadata": {},
   "source": [
    "<b style=\"color:#1e6d06\">Observação:</b> O primeiro caso no Brasil foi dia 08 de Junho de 2022."
   ]
  },
  {
   "cell_type": "markdown",
   "id": "4b65491c-bb8f-4170-83aa-61c47dd495f7",
   "metadata": {},
   "source": [
    "<h4>Percentual de Brasileiros contaminados com histórico de viagens</h4>"
   ]
  },
  {
   "cell_type": "code",
   "execution_count": 97,
   "id": "6a462810-5550-4476-895c-80b84ec4e868",
   "metadata": {},
   "outputs": [
    {
     "name": "stdout",
     "output_type": "stream",
     "text": [
      "0.41 %\n"
     ]
    }
   ],
   "source": [
    "x = (casos_mundo[\"Travel_History_Yes\"] / casos_mundo[\"Confirmed_Cases\"]).loc[\"Brazil\"]*100\n",
    "print(round(x,2),'%')"
   ]
  },
  {
   "cell_type": "markdown",
   "id": "39670087-247a-490e-85c8-a22e5006b1a6",
   "metadata": {},
   "source": [
    "<b style=\"color:#1e6d06\">Observação:</b> Apenas 0,43% dos casos confirmados no Brasil são de pessoas com histórico de viagens, o que significa que a transmissão local já se propaga muito mais comparado a quem viaja."
   ]
  },
  {
   "cell_type": "markdown",
   "id": "c6285ac0-f39c-4519-935b-9770f02f64d3",
   "metadata": {
    "tags": []
   },
   "source": [
    "<h4>Criação do Dataframe apenas com os dados do Brasil</h4>"
   ]
  },
  {
   "cell_type": "code",
   "execution_count": 98,
   "id": "cecd9078-68c7-4eb5-b8ef-814fbc3f9872",
   "metadata": {},
   "outputs": [],
   "source": [
    "daily_cases_BR = casos_diarios_mundo.loc[\"Brazil\"]\n",
    "daily_cases_BR = pd.DataFrame(daily_cases_BR[daily_cases_BR!=0])"
   ]
  },
  {
   "cell_type": "markdown",
   "id": "c9b12c63-0310-4728-9175-6b2dc15c0bcc",
   "metadata": {},
   "source": [
    "<h4>Gráfico de barras com histórico de novos casos diários no Brasil</h4>"
   ]
  },
  {
   "cell_type": "code",
   "execution_count": 99,
   "id": "f2d3d327-dbc9-449d-8fe2-caf2c662b315",
   "metadata": {},
   "outputs": [
    {
     "data": {
      "image/png": "[encoded data removed]",
      "text/plain": [
       "<Figure size 1080x432 with 1 Axes>"
      ]
     },
     "metadata": {
      "needs_background": "light"
     },
     "output_type": "display_data"
    }
   ],
   "source": [
    "daily_cases_BR.plot(figsize=(15,6), color = \"green\", kind='line');\n",
    "plt.title(\"Novos casos diários no Brasil\");"
   ]
  },
  {
   "cell_type": "markdown",
   "id": "4c57f187-7ad4-4624-8f84-09050a16cbd8",
   "metadata": {},
   "source": [
    "<a href=\"#indice\"><img src=\"botao-topo.png\" width=\"15%\"/></a>"
   ]
  },
  {
   "cell_type": "markdown",
   "id": "715c0c57-68c9-41f7-a08b-01ac43b594e0",
   "metadata": {},
   "source": [
    "<div id=\"4\"><h2>5 - Previsões com Prophet</h2>\n",
    "Algoritmo criado pelo time de Data Science do Facebook, lida muito bem com séries temporais e sazonalidades.\n",
    "</div>"
   ]
  },
  {
   "cell_type": "markdown",
   "id": "1573e1e9-4ec1-45c8-8072-f0f55449143b",
   "metadata": {},
   "source": [
    "<h4>Criação do Dataframe de acordo com as obrigações do Prophet (Colunas renomeadas para ds e y)</h4>\n",
    "<a href=\"https://facebook.github.io/prophet/docs/quick_start.html\" target=\"_blank\">Fonte</a>"
   ]
  },
  {
   "cell_type": "code",
   "execution_count": 100,
   "id": "e5df554a-c978-4d65-8bee-541b1997a38f",
   "metadata": {},
   "outputs": [
    {
     "data": {
      "text/html": [
       "<div>\n",
       "<style scoped>\n",
       "    .dataframe tbody tr th:only-of-type {\n",
       "        vertical-align: middle;\n",
       "    }\n",
       "\n",
       "    .dataframe tbody tr th {\n",
       "        vertical-align: top;\n",
       "    }\n",
       "\n",
       "    .dataframe thead th {\n",
       "        text-align: right;\n",
       "    }\n",
       "</style>\n",
       "<table border=\"1\" class=\"dataframe\">\n",
       "  <thead>\n",
       "    <tr style=\"text-align: right;\">\n",
       "      <th></th>\n",
       "      <th>ds</th>\n",
       "      <th>y</th>\n",
       "    </tr>\n",
       "  </thead>\n",
       "  <tbody>\n",
       "    <tr>\n",
       "      <th>0</th>\n",
       "      <td>2022-06-08</td>\n",
       "      <td>1</td>\n",
       "    </tr>\n",
       "    <tr>\n",
       "      <th>1</th>\n",
       "      <td>2022-06-11</td>\n",
       "      <td>1</td>\n",
       "    </tr>\n",
       "    <tr>\n",
       "      <th>2</th>\n",
       "      <td>2022-06-12</td>\n",
       "      <td>1</td>\n",
       "    </tr>\n",
       "    <tr>\n",
       "      <th>3</th>\n",
       "      <td>2022-06-14</td>\n",
       "      <td>2</td>\n",
       "    </tr>\n",
       "    <tr>\n",
       "      <th>4</th>\n",
       "      <td>2022-06-16</td>\n",
       "      <td>1</td>\n",
       "    </tr>\n",
       "  </tbody>\n",
       "</table>\n",
       "</div>"
      ],
      "text/plain": [
       "          ds  y\n",
       "0 2022-06-08  1\n",
       "1 2022-06-11  1\n",
       "2 2022-06-12  1\n",
       "3 2022-06-14  2\n",
       "4 2022-06-16  1"
      ]
     },
     "execution_count": 100,
     "metadata": {},
     "output_type": "execute_result"
    }
   ],
   "source": [
    "data = {'ds':pd.to_datetime(daily_cases_BR.index), 'y':daily_cases_BR[\"Brazil\"].values}\n",
    "df = pd.DataFrame(data)\n",
    "df.head()"
   ]
  },
  {
   "cell_type": "markdown",
   "id": "023d5309-c43b-42b7-a1d0-c7da894175dc",
   "metadata": {},
   "source": [
    "<h4>Instanciação do Prophet e fitting</h4>"
   ]
  },
  {
   "cell_type": "code",
   "execution_count": 101,
   "id": "cb53e86a-07a7-457d-a938-1f80b14353f1",
   "metadata": {},
   "outputs": [
    {
     "name": "stderr",
     "output_type": "stream",
     "text": [
      "13:54:01 - cmdstanpy - INFO - Chain [1] start processing\n",
      "13:54:02 - cmdstanpy - INFO - Chain [1] done processing\n"
     ]
    },
    {
     "data": {
      "text/plain": [
       "<prophet.forecaster.Prophet at 0x7fa76193b4f0>"
      ]
     },
     "execution_count": 101,
     "metadata": {},
     "output_type": "execute_result"
    }
   ],
   "source": [
    "m = Prophet()\n",
    "m.fit(df)"
   ]
  },
  {
   "cell_type": "markdown",
   "id": "e95810be-b388-420b-9dd2-a869786ea1ed",
   "metadata": {},
   "source": [
    "<div id=\"41\"><h3>Previsão de novos casos diários - 90 Dias</h3></div>"
   ]
  },
  {
   "cell_type": "code",
   "execution_count": 102,
   "id": "4c7cd9fe-43fe-4e20-9d02-58acc3f33b77",
   "metadata": {},
   "outputs": [],
   "source": [
    "future = m.make_future_dataframe(periods=90)\n",
    "forecast = m.predict(future)"
   ]
  },
  {
   "cell_type": "code",
   "execution_count": 103,
   "id": "03169e85-b1e3-4d7b-a301-efd62f9ea0eb",
   "metadata": {},
   "outputs": [
    {
     "data": {
      "text/html": [
       "<div>\n",
       "<style scoped>\n",
       "    .dataframe tbody tr th:only-of-type {\n",
       "        vertical-align: middle;\n",
       "    }\n",
       "\n",
       "    .dataframe tbody tr th {\n",
       "        vertical-align: top;\n",
       "    }\n",
       "\n",
       "    .dataframe thead th {\n",
       "        text-align: right;\n",
       "    }\n",
       "</style>\n",
       "<table border=\"1\" class=\"dataframe\">\n",
       "  <thead>\n",
       "    <tr style=\"text-align: right;\">\n",
       "      <th></th>\n",
       "      <th>ds</th>\n",
       "      <th>yhat</th>\n",
       "      <th>yhat_lower</th>\n",
       "      <th>yhat_upper</th>\n",
       "    </tr>\n",
       "  </thead>\n",
       "  <tbody>\n",
       "    <tr>\n",
       "      <th>0</th>\n",
       "      <td>2022-06-08</td>\n",
       "      <td>-15.501192</td>\n",
       "      <td>-62.994170</td>\n",
       "      <td>31.704386</td>\n",
       "    </tr>\n",
       "    <tr>\n",
       "      <th>1</th>\n",
       "      <td>2022-06-11</td>\n",
       "      <td>-31.932137</td>\n",
       "      <td>-82.969743</td>\n",
       "      <td>14.225201</td>\n",
       "    </tr>\n",
       "    <tr>\n",
       "      <th>2</th>\n",
       "      <td>2022-06-12</td>\n",
       "      <td>-61.927176</td>\n",
       "      <td>-111.858460</td>\n",
       "      <td>-12.912062</td>\n",
       "    </tr>\n",
       "    <tr>\n",
       "      <th>3</th>\n",
       "      <td>2022-06-14</td>\n",
       "      <td>-7.516875</td>\n",
       "      <td>-54.773516</td>\n",
       "      <td>39.058000</td>\n",
       "    </tr>\n",
       "    <tr>\n",
       "      <th>4</th>\n",
       "      <td>2022-06-16</td>\n",
       "      <td>-24.620323</td>\n",
       "      <td>-75.979245</td>\n",
       "      <td>25.515113</td>\n",
       "    </tr>\n",
       "  </tbody>\n",
       "</table>\n",
       "</div>"
      ],
      "text/plain": [
       "          ds       yhat  yhat_lower  yhat_upper\n",
       "0 2022-06-08 -15.501192  -62.994170   31.704386\n",
       "1 2022-06-11 -31.932137  -82.969743   14.225201\n",
       "2 2022-06-12 -61.927176 -111.858460  -12.912062\n",
       "3 2022-06-14  -7.516875  -54.773516   39.058000\n",
       "4 2022-06-16 -24.620323  -75.979245   25.515113"
      ]
     },
     "execution_count": 103,
     "metadata": {},
     "output_type": "execute_result"
    }
   ],
   "source": [
    "forecast[['ds', 'yhat', 'yhat_lower', 'yhat_upper']].head()"
   ]
  },
  {
   "cell_type": "markdown",
   "id": "59e0e267-2dbf-4d89-8a2d-b4ffe8d608b9",
   "metadata": {},
   "source": [
    "<b style=\"color:#1e6d06\">Observação:</b> Gerou corretamente do início"
   ]
  },
  {
   "cell_type": "code",
   "execution_count": 104,
   "id": "81a76bd3-c662-4bda-ae84-5e1c937982b6",
   "metadata": {},
   "outputs": [
    {
     "data": {
      "text/html": [
       "<div>\n",
       "<style scoped>\n",
       "    .dataframe tbody tr th:only-of-type {\n",
       "        vertical-align: middle;\n",
       "    }\n",
       "\n",
       "    .dataframe tbody tr th {\n",
       "        vertical-align: top;\n",
       "    }\n",
       "\n",
       "    .dataframe thead th {\n",
       "        text-align: right;\n",
       "    }\n",
       "</style>\n",
       "<table border=\"1\" class=\"dataframe\">\n",
       "  <thead>\n",
       "    <tr style=\"text-align: right;\">\n",
       "      <th></th>\n",
       "      <th>ds</th>\n",
       "      <th>yhat</th>\n",
       "      <th>yhat_lower</th>\n",
       "      <th>yhat_upper</th>\n",
       "    </tr>\n",
       "  </thead>\n",
       "  <tbody>\n",
       "    <tr>\n",
       "      <th>152</th>\n",
       "      <td>2022-11-24</td>\n",
       "      <td>336.127825</td>\n",
       "      <td>286.626353</td>\n",
       "      <td>379.970346</td>\n",
       "    </tr>\n",
       "    <tr>\n",
       "      <th>153</th>\n",
       "      <td>2022-11-25</td>\n",
       "      <td>403.257626</td>\n",
       "      <td>357.083353</td>\n",
       "      <td>447.687845</td>\n",
       "    </tr>\n",
       "    <tr>\n",
       "      <th>154</th>\n",
       "      <td>2022-11-26</td>\n",
       "      <td>344.500711</td>\n",
       "      <td>296.629691</td>\n",
       "      <td>395.270594</td>\n",
       "    </tr>\n",
       "    <tr>\n",
       "      <th>155</th>\n",
       "      <td>2022-11-27</td>\n",
       "      <td>314.505673</td>\n",
       "      <td>261.027366</td>\n",
       "      <td>362.160308</td>\n",
       "    </tr>\n",
       "    <tr>\n",
       "      <th>156</th>\n",
       "      <td>2022-11-28</td>\n",
       "      <td>364.592769</td>\n",
       "      <td>315.187472</td>\n",
       "      <td>411.989078</td>\n",
       "    </tr>\n",
       "  </tbody>\n",
       "</table>\n",
       "</div>"
      ],
      "text/plain": [
       "            ds        yhat  yhat_lower  yhat_upper\n",
       "152 2022-11-24  336.127825  286.626353  379.970346\n",
       "153 2022-11-25  403.257626  357.083353  447.687845\n",
       "154 2022-11-26  344.500711  296.629691  395.270594\n",
       "155 2022-11-27  314.505673  261.027366  362.160308\n",
       "156 2022-11-28  364.592769  315.187472  411.989078"
      ]
     },
     "execution_count": 104,
     "metadata": {},
     "output_type": "execute_result"
    }
   ],
   "source": [
    "forecast[['ds', 'yhat', 'yhat_lower', 'yhat_upper']].tail()"
   ]
  },
  {
   "cell_type": "markdown",
   "id": "4e3a9b80-07c4-4592-aee8-e01e988090bb",
   "metadata": {},
   "source": [
    "<b style=\"color:#1e6d06\">Observação:</b> E também até o final dos 90 dias"
   ]
  },
  {
   "cell_type": "markdown",
   "id": "4133068d-b5e9-45ca-b6a5-acbc373d0c98",
   "metadata": {},
   "source": [
    "<h4>Gráfico de previsão</h4>"
   ]
  },
  {
   "cell_type": "code",
   "execution_count": 105,
   "id": "0ccf25c3-a05c-4356-8ae4-63b34e5232d3",
   "metadata": {},
   "outputs": [
    {
     "data": {
      "application/vnd.plotly.v1+json": {
       "config": {
        "plotlyServerURL": "https://plot.ly"
       },
       "data": [
        {
         "marker": {
          "color": "black",
          "size": 4
         },
         "mode": "markers",
         "name": "Actual",
         "type": "scatter",
         "x": [
          "2022-06-08T00:00:00",
          "2022-06-11T00:00:00",
          "2022-06-12T00:00:00",
          "2022-06-14T00:00:00",
          "2022-06-16T00:00:00",
          "2022-06-17T00:00:00",
          "2022-06-19T00:00:00",
          "2022-06-21T00:00:00",
          "2022-06-22T00:00:00",
          "2022-06-23T00:00:00",
          "2022-06-24T00:00:00",
          "2022-06-25T00:00:00",
          "2022-06-26T00:00:00",
          "2022-06-28T00:00:00",
          "2022-06-29T00:00:00",
          "2022-06-30T00:00:00",
          "2022-07-01T00:00:00",
          "2022-07-02T00:00:00",
          "2022-07-03T00:00:00",
          "2022-07-04T00:00:00",
          "2022-07-05T00:00:00",
          "2022-07-06T00:00:00",
          "2022-07-07T00:00:00",
          "2022-07-08T00:00:00",
          "2022-07-09T00:00:00",
          "2022-07-11T00:00:00",
          "2022-07-12T00:00:00",
          "2022-07-13T00:00:00",
          "2022-07-14T00:00:00",
          "2022-07-19T00:00:00",
          "2022-07-20T00:00:00",
          "2022-07-21T00:00:00",
          "2022-07-22T00:00:00",
          "2022-07-25T00:00:00",
          "2022-07-26T00:00:00",
          "2022-07-27T00:00:00",
          "2022-07-28T00:00:00",
          "2022-07-29T00:00:00",
          "2022-07-30T00:00:00",
          "2022-07-31T00:00:00",
          "2022-08-01T00:00:00",
          "2022-08-02T00:00:00",
          "2022-08-03T00:00:00",
          "2022-08-04T00:00:00",
          "2022-08-05T00:00:00",
          "2022-08-06T00:00:00",
          "2022-08-07T00:00:00",
          "2022-08-08T00:00:00",
          "2022-08-09T00:00:00",
          "2022-08-10T00:00:00",
          "2022-08-12T00:00:00",
          "2022-08-13T00:00:00",
          "2022-08-14T00:00:00",
          "2022-08-15T00:00:00",
          "2022-08-16T00:00:00",
          "2022-08-17T00:00:00",
          "2022-08-18T00:00:00",
          "2022-08-19T00:00:00",
          "2022-08-20T00:00:00",
          "2022-08-21T00:00:00",
          "2022-08-22T00:00:00",
          "2022-08-23T00:00:00",
          "2022-08-24T00:00:00",
          "2022-08-25T00:00:00",
          "2022-08-26T00:00:00",
          "2022-08-29T00:00:00",
          "2022-08-30T00:00:00"
         ],
         "y": [
          1,
          1,
          1,
          2,
          1,
          1,
          1,
          1,
          2,
          5,
          1,
          2,
          1,
          1,
          16,
          12,
          15,
          12,
          2,
          2,
          26,
          36,
          30,
          32,
          14,
          10,
          38,
          42,
          39,
          101,
          143,
          13,
          90,
          115,
          56,
          112,
          89,
          193,
          84,
          27,
          105,
          128,
          118,
          139,
          144,
          104,
          23,
          162,
          122,
          43,
          288,
          102,
          45,
          92,
          198,
          176,
          91,
          205,
          100,
          32,
          109,
          88,
          160,
          72,
          256,
          220,
          184
         ]
        },
        {
         "hoverinfo": "skip",
         "line": {
          "width": 0
         },
         "mode": "lines",
         "type": "scatter",
         "x": [
          "2022-06-08T00:00:00",
          "2022-06-11T00:00:00",
          "2022-06-12T00:00:00",
          "2022-06-14T00:00:00",
          "2022-06-16T00:00:00",
          "2022-06-17T00:00:00",
          "2022-06-19T00:00:00",
          "2022-06-21T00:00:00",
          "2022-06-22T00:00:00",
          "2022-06-23T00:00:00",
          "2022-06-24T00:00:00",
          "2022-06-25T00:00:00",
          "2022-06-26T00:00:00",
          "2022-06-28T00:00:00",
          "2022-06-29T00:00:00",
          "2022-06-30T00:00:00",
          "2022-07-01T00:00:00",
          "2022-07-02T00:00:00",
          "2022-07-03T00:00:00",
          "2022-07-04T00:00:00",
          "2022-07-05T00:00:00",
          "2022-07-06T00:00:00",
          "2022-07-07T00:00:00",
          "2022-07-08T00:00:00",
          "2022-07-09T00:00:00",
          "2022-07-11T00:00:00",
          "2022-07-12T00:00:00",
          "2022-07-13T00:00:00",
          "2022-07-14T00:00:00",
          "2022-07-19T00:00:00",
          "2022-07-20T00:00:00",
          "2022-07-21T00:00:00",
          "2022-07-22T00:00:00",
          "2022-07-25T00:00:00",
          "2022-07-26T00:00:00",
          "2022-07-27T00:00:00",
          "2022-07-28T00:00:00",
          "2022-07-29T00:00:00",
          "2022-07-30T00:00:00",
          "2022-07-31T00:00:00",
          "2022-08-01T00:00:00",
          "2022-08-02T00:00:00",
          "2022-08-03T00:00:00",
          "2022-08-04T00:00:00",
          "2022-08-05T00:00:00",
          "2022-08-06T00:00:00",
          "2022-08-07T00:00:00",
          "2022-08-08T00:00:00",
          "2022-08-09T00:00:00",
          "2022-08-10T00:00:00",
          "2022-08-12T00:00:00",
          "2022-08-13T00:00:00",
          "2022-08-14T00:00:00",
          "2022-08-15T00:00:00",
          "2022-08-16T00:00:00",
          "2022-08-17T00:00:00",
          "2022-08-18T00:00:00",
          "2022-08-19T00:00:00",
          "2022-08-20T00:00:00",
          "2022-08-21T00:00:00",
          "2022-08-22T00:00:00",
          "2022-08-23T00:00:00",
          "2022-08-24T00:00:00",
          "2022-08-25T00:00:00",
          "2022-08-26T00:00:00",
          "2022-08-29T00:00:00",
          "2022-08-30T00:00:00",
          "2022-08-31T00:00:00",
          "2022-09-01T00:00:00",
          "2022-09-02T00:00:00",
          "2022-09-03T00:00:00",
          "2022-09-04T00:00:00",
          "2022-09-05T00:00:00",
          "2022-09-06T00:00:00",
          "2022-09-07T00:00:00",
          "2022-09-08T00:00:00",
          "2022-09-09T00:00:00",
          "2022-09-10T00:00:00",
          "2022-09-11T00:00:00",
          "2022-09-12T00:00:00",
          "2022-09-13T00:00:00",
          "2022-09-14T00:00:00",
          "2022-09-15T00:00:00",
          "2022-09-16T00:00:00",
          "2022-09-17T00:00:00",
          "2022-09-18T00:00:00",
          "2022-09-19T00:00:00",
          "2022-09-20T00:00:00",
          "2022-09-21T00:00:00",
          "2022-09-22T00:00:00",
          "2022-09-23T00:00:00",
          "2022-09-24T00:00:00",
          "2022-09-25T00:00:00",
          "2022-09-26T00:00:00",
          "2022-09-27T00:00:00",
          "2022-09-28T00:00:00",
          "2022-09-29T00:00:00",
          "2022-09-30T00:00:00",
          "2022-10-01T00:00:00",
          "2022-10-02T00:00:00",
          "2022-10-03T00:00:00",
          "2022-10-04T00:00:00",
          "2022-10-05T00:00:00",
          "2022-10-06T00:00:00",
          "2022-10-07T00:00:00",
          "2022-10-08T00:00:00",
          "2022-10-09T00:00:00",
          "2022-10-10T00:00:00",
          "2022-10-11T00:00:00",
          "2022-10-12T00:00:00",
          "2022-10-13T00:00:00",
          "2022-10-14T00:00:00",
          "2022-10-15T00:00:00",
          "2022-10-16T00:00:00",
          "2022-10-17T00:00:00",
          "2022-10-18T00:00:00",
          "2022-10-19T00:00:00",
          "2022-10-20T00:00:00",
          "2022-10-21T00:00:00",
          "2022-10-22T00:00:00",
          "2022-10-23T00:00:00",
          "2022-10-24T00:00:00",
          "2022-10-25T00:00:00",
          "2022-10-26T00:00:00",
          "2022-10-27T00:00:00",
          "2022-10-28T00:00:00",
          "2022-10-29T00:00:00",
          "2022-10-30T00:00:00",
          "2022-10-31T00:00:00",
          "2022-11-01T00:00:00",
          "2022-11-02T00:00:00",
          "2022-11-03T00:00:00",
          "2022-11-04T00:00:00",
          "2022-11-05T00:00:00",
          "2022-11-06T00:00:00",
          "2022-11-07T00:00:00",
          "2022-11-08T00:00:00",
          "2022-11-09T00:00:00",
          "2022-11-10T00:00:00",
          "2022-11-11T00:00:00",
          "2022-11-12T00:00:00",
          "2022-11-13T00:00:00",
          "2022-11-14T00:00:00",
          "2022-11-15T00:00:00",
          "2022-11-16T00:00:00",
          "2022-11-17T00:00:00",
          "2022-11-18T00:00:00",
          "2022-11-19T00:00:00",
          "2022-11-20T00:00:00",
          "2022-11-21T00:00:00",
          "2022-11-22T00:00:00",
          "2022-11-23T00:00:00",
          "2022-11-24T00:00:00",
          "2022-11-25T00:00:00",
          "2022-11-26T00:00:00",
          "2022-11-27T00:00:00",
          "2022-11-28T00:00:00"
         ],
         "y": [
          -62.994170034664215,
          -82.96974298171226,
          -111.85846005699305,
          -54.77351645750555,
          -75.97924456374925,
          -7.087271769701377,
          -94.91374488089227,
          -40.1740671879446,
          -36.30112749445723,
          -60.39374361030993,
          9.935256827522847,
          -46.98289838562394,
          -78.72866703998291,
          -23.301757343963818,
          -19.191474255886245,
          -43.05251160738694,
          23.86921638797772,
          -36.32419576983789,
          -64.5000951946536,
          -13.48218193577404,
          -11.096976667633411,
          -0.8917909266829342,
          -26.97239741763539,
          38.49135219401979,
          -16.51882557096496,
          2.4793502951383215,
          7.140111475487845,
          17.158060031458305,
          -10.799660691397376,
          20.984699341985678,
          32.08737016985269,
          6.1741350861000255,
          70.68301205363221,
          33.39924237301098,
          36.4202011706447,
          45.10240885427091,
          20.11698302367336,
          85.9600484109953,
          28.07243044431843,
          -1.9770918722366695,
          49.001451525151836,
          51.80125171368506,
          61.50833424650296,
          35.095438382277926,
          104.51202621218843,
          45.611814295355664,
          19.048068789135833,
          62.712808512802475,
          69.634510656867,
          73.96366473544704,
          121.4781165465936,
          58.17853281686456,
          31.52957505809445,
          81.66186354764415,
          82.06005251249788,
          93.30718616470904,
          67.49158520306412,
          133.088146053271,
          74.09596905432439,
          45.491930560769426,
          96.68738223109938,
          102.85230209095764,
          106.70225557754004,
          81.25182960019052,
          145.87100326851282,
          112.37599229638809,
          115.82340366156195,
          126.38191211782846,
          97.6771315555222,
          165.66130668232563,
          106.17374793940799,
          78.99907152658099,
          127.58241763459937,
          130.88602362120034,
          137.87241536723144,
          112.77067852640556,
          182.07407146157922,
          122.1000186108312,
          93.78206274459059,
          142.79455227988603,
          143.27302637368751,
          155.22368609464056,
          133.2307822634167,
          196.27278646307923,
          138.21614051768108,
          105.79157297482045,
          161.0145253638084,
          164.12706786106273,
          170.56069750322584,
          146.50784938308163,
          211.9563590443528,
          159.4594971824152,
          126.35167548928976,
          175.13094954483861,
          178.99214460317384,
          180.26339429961706,
          164.43974482955414,
          232.05246936450771,
          170.6919448955751,
          141.60638544688936,
          191.45497099874615,
          193.09972179746865,
          200.5310776372249,
          177.80829987997024,
          246.89227821028928,
          185.084783551626,
          157.43160896883367,
          206.26327404752848,
          212.12863705109206,
          215.34774561783382,
          194.25703702692664,
          258.7554794766672,
          202.4955973876449,
          175.98027192406005,
          223.3746909940784,
          229.10107938283176,
          236.49206835841025,
          207.9296827912605,
          274.7392579459037,
          215.42466822971164,
          188.9714471425435,
          237.97720248466823,
          238.78203707029908,
          251.26486620114622,
          227.35429351074947,
          292.68640455302875,
          230.2168518517623,
          199.3852269233543,
          253.1516737206114,
          255.95449437918046,
          261.98666576638544,
          241.26405455018846,
          306.7905633582021,
          251.70629219310499,
          216.35348875137586,
          268.43063460299805,
          275.6422726626203,
          279.33748568144637,
          252.87691770952654,
          323.5344566476477,
          266.1736115960093,
          234.92421572926065,
          281.9307799250523,
          288.3227898212266,
          299.06422227836913,
          269.10164353293015,
          337.1772415158696,
          278.16202958732646,
          250.4909229621498,
          300.8464421144033,
          307.3530590292017,
          313.0905205272194,
          286.62635273855784,
          357.0833534967072,
          296.6296911117993,
          261.0273656771256,
          315.1874722073008
         ]
        },
        {
         "fill": "tonexty",
         "fillcolor": "rgba(0, 114, 178, 0.2)",
         "line": {
          "color": "#0072B2",
          "width": 2
         },
         "mode": "lines",
         "name": "Predicted",
         "type": "scatter",
         "x": [
          "2022-06-08T00:00:00",
          "2022-06-11T00:00:00",
          "2022-06-12T00:00:00",
          "2022-06-14T00:00:00",
          "2022-06-16T00:00:00",
          "2022-06-17T00:00:00",
          "2022-06-19T00:00:00",
          "2022-06-21T00:00:00",
          "2022-06-22T00:00:00",
          "2022-06-23T00:00:00",
          "2022-06-24T00:00:00",
          "2022-06-25T00:00:00",
          "2022-06-26T00:00:00",
          "2022-06-28T00:00:00",
          "2022-06-29T00:00:00",
          "2022-06-30T00:00:00",
          "2022-07-01T00:00:00",
          "2022-07-02T00:00:00",
          "2022-07-03T00:00:00",
          "2022-07-04T00:00:00",
          "2022-07-05T00:00:00",
          "2022-07-06T00:00:00",
          "2022-07-07T00:00:00",
          "2022-07-08T00:00:00",
          "2022-07-09T00:00:00",
          "2022-07-11T00:00:00",
          "2022-07-12T00:00:00",
          "2022-07-13T00:00:00",
          "2022-07-14T00:00:00",
          "2022-07-19T00:00:00",
          "2022-07-20T00:00:00",
          "2022-07-21T00:00:00",
          "2022-07-22T00:00:00",
          "2022-07-25T00:00:00",
          "2022-07-26T00:00:00",
          "2022-07-27T00:00:00",
          "2022-07-28T00:00:00",
          "2022-07-29T00:00:00",
          "2022-07-30T00:00:00",
          "2022-07-31T00:00:00",
          "2022-08-01T00:00:00",
          "2022-08-02T00:00:00",
          "2022-08-03T00:00:00",
          "2022-08-04T00:00:00",
          "2022-08-05T00:00:00",
          "2022-08-06T00:00:00",
          "2022-08-07T00:00:00",
          "2022-08-08T00:00:00",
          "2022-08-09T00:00:00",
          "2022-08-10T00:00:00",
          "2022-08-12T00:00:00",
          "2022-08-13T00:00:00",
          "2022-08-14T00:00:00",
          "2022-08-15T00:00:00",
          "2022-08-16T00:00:00",
          "2022-08-17T00:00:00",
          "2022-08-18T00:00:00",
          "2022-08-19T00:00:00",
          "2022-08-20T00:00:00",
          "2022-08-21T00:00:00",
          "2022-08-22T00:00:00",
          "2022-08-23T00:00:00",
          "2022-08-24T00:00:00",
          "2022-08-25T00:00:00",
          "2022-08-26T00:00:00",
          "2022-08-29T00:00:00",
          "2022-08-30T00:00:00",
          "2022-08-31T00:00:00",
          "2022-09-01T00:00:00",
          "2022-09-02T00:00:00",
          "2022-09-03T00:00:00",
          "2022-09-04T00:00:00",
          "2022-09-05T00:00:00",
          "2022-09-06T00:00:00",
          "2022-09-07T00:00:00",
          "2022-09-08T00:00:00",
          "2022-09-09T00:00:00",
          "2022-09-10T00:00:00",
          "2022-09-11T00:00:00",
          "2022-09-12T00:00:00",
          "2022-09-13T00:00:00",
          "2022-09-14T00:00:00",
          "2022-09-15T00:00:00",
          "2022-09-16T00:00:00",
          "2022-09-17T00:00:00",
          "2022-09-18T00:00:00",
          "2022-09-19T00:00:00",
          "2022-09-20T00:00:00",
          "2022-09-21T00:00:00",
          "2022-09-22T00:00:00",
          "2022-09-23T00:00:00",
          "2022-09-24T00:00:00",
          "2022-09-25T00:00:00",
          "2022-09-26T00:00:00",
          "2022-09-27T00:00:00",
          "2022-09-28T00:00:00",
          "2022-09-29T00:00:00",
          "2022-09-30T00:00:00",
          "2022-10-01T00:00:00",
          "2022-10-02T00:00:00",
          "2022-10-03T00:00:00",
          "2022-10-04T00:00:00",
          "2022-10-05T00:00:00",
          "2022-10-06T00:00:00",
          "2022-10-07T00:00:00",
          "2022-10-08T00:00:00",
          "2022-10-09T00:00:00",
          "2022-10-10T00:00:00",
          "2022-10-11T00:00:00",
          "2022-10-12T00:00:00",
          "2022-10-13T00:00:00",
          "2022-10-14T00:00:00",
          "2022-10-15T00:00:00",
          "2022-10-16T00:00:00",
          "2022-10-17T00:00:00",
          "2022-10-18T00:00:00",
          "2022-10-19T00:00:00",
          "2022-10-20T00:00:00",
          "2022-10-21T00:00:00",
          "2022-10-22T00:00:00",
          "2022-10-23T00:00:00",
          "2022-10-24T00:00:00",
          "2022-10-25T00:00:00",
          "2022-10-26T00:00:00",
          "2022-10-27T00:00:00",
          "2022-10-28T00:00:00",
          "2022-10-29T00:00:00",
          "2022-10-30T00:00:00",
          "2022-10-31T00:00:00",
          "2022-11-01T00:00:00",
          "2022-11-02T00:00:00",
          "2022-11-03T00:00:00",
          "2022-11-04T00:00:00",
          "2022-11-05T00:00:00",
          "2022-11-06T00:00:00",
          "2022-11-07T00:00:00",
          "2022-11-08T00:00:00",
          "2022-11-09T00:00:00",
          "2022-11-10T00:00:00",
          "2022-11-11T00:00:00",
          "2022-11-12T00:00:00",
          "2022-11-13T00:00:00",
          "2022-11-14T00:00:00",
          "2022-11-15T00:00:00",
          "2022-11-16T00:00:00",
          "2022-11-17T00:00:00",
          "2022-11-18T00:00:00",
          "2022-11-19T00:00:00",
          "2022-11-20T00:00:00",
          "2022-11-21T00:00:00",
          "2022-11-22T00:00:00",
          "2022-11-23T00:00:00",
          "2022-11-24T00:00:00",
          "2022-11-25T00:00:00",
          "2022-11-26T00:00:00",
          "2022-11-27T00:00:00",
          "2022-11-28T00:00:00"
         ],
         "y": [
          -15.50119180415486,
          -31.932137393002513,
          -61.92717577231454,
          -7.516875047729894,
          -24.62032296943674,
          42.50947752983012,
          -46.2424771720162,
          8.167823552344288,
          15.86820539766201,
          -8.935624369305248,
          58.1941761303122,
          -0.5627401909232717,
          -30.557778570218257,
          23.852522154562106,
          31.552904000076495,
          6.749074232942645,
          73.8788747324725,
          15.121958410823916,
          -14.873079416056662,
          35.214016975480476,
          39.537222414742814,
          47.23760481347982,
          22.43377559942197,
          89.5635766521324,
          30.806660883871572,
          50.89871944958519,
          55.221924889643425,
          62.92230728890013,
          38.11847807554972,
          70.90662736721322,
          78.60700976668292,
          53.80318055366563,
          120.93298160724923,
          82.26812440693026,
          86.59132984756475,
          94.29171224745512,
          69.4878830347589,
          136.6176840887633,
          77.8607683216851,
          47.86573049643989,
          97.95282688928499,
          102.27603232971691,
          109.97641472953441,
          85.1725855167079,
          152.30238657038203,
          93.54547080319409,
          63.5504329778174,
          113.63752937095566,
          117.96073481143696,
          125.66111721108959,
          167.9870890519048,
          109.23017328477295,
          79.23513545965952,
          129.3222318528301,
          133.64543729353656,
          141.34581969368608,
          116.54199048122814,
          183.67179153544708,
          124.91487576851328,
          94.91983794360898,
          145.00693433667274,
          149.3301397776749,
          157.03052217779435,
          132.22669296538427,
          199.35649401963641,
          160.69163682086008,
          165.0148422617662,
          172.71522466187474,
          147.9113954495404,
          215.04119650382574,
          156.2842807369722,
          126.2892429119257,
          176.3763393050474,
          180.6995447459418,
          188.39992714601098,
          163.59609793350077,
          230.72589898783644,
          171.96898322107361,
          141.97394539601441,
          192.0610417892347,
          196.38424722994876,
          204.08462963018542,
          179.28080041765693,
          246.4106014720258,
          187.6536857050481,
          157.65864788009537,
          207.7457442730774,
          212.06894971412436,
          219.7693321142937,
          194.96550290181307,
          262.09530395612586,
          203.33838818927634,
          173.34335036432336,
          223.4304467573888,
          227.7536521983,
          235.454034598402,
          210.6502053859692,
          277.7800064402185,
          219.0230906732509,
          189.02805284827284,
          239.11514924145197,
          243.43835468239124,
          251.1387370826044,
          226.33490787009123,
          293.46470892431853,
          234.70779315722547,
          204.71275533250082,
          254.7998517256393,
          259.1230571665296,
          266.8234395666848,
          242.01961035428144,
          309.1494114085079,
          250.39249564170981,
          220.3974578165818,
          270.4845542098267,
          274.8077596506209,
          282.50814205082094,
          257.7043128384035,
          324.83411389260783,
          266.0771981256844,
          236.08216030080987,
          286.169256694014,
          290.4924621347965,
          298.1928445349013,
          273.38901532239794,
          340.51881637670795,
          281.76190060978576,
          251.7668627847592,
          301.85395917807716,
          306.17716461885044,
          313.8775470189818,
          289.0737178065541,
          356.2035188608079,
          297.4466030938871,
          267.4515652689872,
          317.5386616620439,
          321.8618671030261,
          329.56224950309,
          304.7584202907102,
          371.88822134499725,
          313.1313055782446,
          283.1362677532153,
          333.2233641462313,
          337.5465695871174,
          345.24695198719826,
          320.44312277483226,
          387.5729238290006,
          328.81600806221917,
          298.8209702371647,
          348.9080666304186,
          353.2312720712087,
          360.9316544714007,
          336.12782525895443,
          403.25762631319,
          344.50071054632053,
          314.5056727213927,
          364.5927691142613
         ]
        },
        {
         "fill": "tonexty",
         "fillcolor": "rgba(0, 114, 178, 0.2)",
         "hoverinfo": "skip",
         "line": {
          "width": 0
         },
         "mode": "lines",
         "type": "scatter",
         "x": [
          "2022-06-08T00:00:00",
          "2022-06-11T00:00:00",
          "2022-06-12T00:00:00",
          "2022-06-14T00:00:00",
          "2022-06-16T00:00:00",
          "2022-06-17T00:00:00",
          "2022-06-19T00:00:00",
          "2022-06-21T00:00:00",
          "2022-06-22T00:00:00",
          "2022-06-23T00:00:00",
          "2022-06-24T00:00:00",
          "2022-06-25T00:00:00",
          "2022-06-26T00:00:00",
          "2022-06-28T00:00:00",
          "2022-06-29T00:00:00",
          "2022-06-30T00:00:00",
          "2022-07-01T00:00:00",
          "2022-07-02T00:00:00",
          "2022-07-03T00:00:00",
          "2022-07-04T00:00:00",
          "2022-07-05T00:00:00",
          "2022-07-06T00:00:00",
          "2022-07-07T00:00:00",
          "2022-07-08T00:00:00",
          "2022-07-09T00:00:00",
          "2022-07-11T00:00:00",
          "2022-07-12T00:00:00",
          "2022-07-13T00:00:00",
          "2022-07-14T00:00:00",
          "2022-07-19T00:00:00",
          "2022-07-20T00:00:00",
          "2022-07-21T00:00:00",
          "2022-07-22T00:00:00",
          "2022-07-25T00:00:00",
          "2022-07-26T00:00:00",
          "2022-07-27T00:00:00",
          "2022-07-28T00:00:00",
          "2022-07-29T00:00:00",
          "2022-07-30T00:00:00",
          "2022-07-31T00:00:00",
          "2022-08-01T00:00:00",
          "2022-08-02T00:00:00",
          "2022-08-03T00:00:00",
          "2022-08-04T00:00:00",
          "2022-08-05T00:00:00",
          "2022-08-06T00:00:00",
          "2022-08-07T00:00:00",
          "2022-08-08T00:00:00",
          "2022-08-09T00:00:00",
          "2022-08-10T00:00:00",
          "2022-08-12T00:00:00",
          "2022-08-13T00:00:00",
          "2022-08-14T00:00:00",
          "2022-08-15T00:00:00",
          "2022-08-16T00:00:00",
          "2022-08-17T00:00:00",
          "2022-08-18T00:00:00",
          "2022-08-19T00:00:00",
          "2022-08-20T00:00:00",
          "2022-08-21T00:00:00",
          "2022-08-22T00:00:00",
          "2022-08-23T00:00:00",
          "2022-08-24T00:00:00",
          "2022-08-25T00:00:00",
          "2022-08-26T00:00:00",
          "2022-08-29T00:00:00",
          "2022-08-30T00:00:00",
          "2022-08-31T00:00:00",
          "2022-09-01T00:00:00",
          "2022-09-02T00:00:00",
          "2022-09-03T00:00:00",
          "2022-09-04T00:00:00",
          "2022-09-05T00:00:00",
          "2022-09-06T00:00:00",
          "2022-09-07T00:00:00",
          "2022-09-08T00:00:00",
          "2022-09-09T00:00:00",
          "2022-09-10T00:00:00",
          "2022-09-11T00:00:00",
          "2022-09-12T00:00:00",
          "2022-09-13T00:00:00",
          "2022-09-14T00:00:00",
          "2022-09-15T00:00:00",
          "2022-09-16T00:00:00",
          "2022-09-17T00:00:00",
          "2022-09-18T00:00:00",
          "2022-09-19T00:00:00",
          "2022-09-20T00:00:00",
          "2022-09-21T00:00:00",
          "2022-09-22T00:00:00",
          "2022-09-23T00:00:00",
          "2022-09-24T00:00:00",
          "2022-09-25T00:00:00",
          "2022-09-26T00:00:00",
          "2022-09-27T00:00:00",
          "2022-09-28T00:00:00",
          "2022-09-29T00:00:00",
          "2022-09-30T00:00:00",
          "2022-10-01T00:00:00",
          "2022-10-02T00:00:00",
          "2022-10-03T00:00:00",
          "2022-10-04T00:00:00",
          "2022-10-05T00:00:00",
          "2022-10-06T00:00:00",
          "2022-10-07T00:00:00",
          "2022-10-08T00:00:00",
          "2022-10-09T00:00:00",
          "2022-10-10T00:00:00",
          "2022-10-11T00:00:00",
          "2022-10-12T00:00:00",
          "2022-10-13T00:00:00",
          "2022-10-14T00:00:00",
          "2022-10-15T00:00:00",
          "2022-10-16T00:00:00",
          "2022-10-17T00:00:00",
          "2022-10-18T00:00:00",
          "2022-10-19T00:00:00",
          "2022-10-20T00:00:00",
          "2022-10-21T00:00:00",
          "2022-10-22T00:00:00",
          "2022-10-23T00:00:00",
          "2022-10-24T00:00:00",
          "2022-10-25T00:00:00",
          "2022-10-26T00:00:00",
          "2022-10-27T00:00:00",
          "2022-10-28T00:00:00",
          "2022-10-29T00:00:00",
          "2022-10-30T00:00:00",
          "2022-10-31T00:00:00",
          "2022-11-01T00:00:00",
          "2022-11-02T00:00:00",
          "2022-11-03T00:00:00",
          "2022-11-04T00:00:00",
          "2022-11-05T00:00:00",
          "2022-11-06T00:00:00",
          "2022-11-07T00:00:00",
          "2022-11-08T00:00:00",
          "2022-11-09T00:00:00",
          "2022-11-10T00:00:00",
          "2022-11-11T00:00:00",
          "2022-11-12T00:00:00",
          "2022-11-13T00:00:00",
          "2022-11-14T00:00:00",
          "2022-11-15T00:00:00",
          "2022-11-16T00:00:00",
          "2022-11-17T00:00:00",
          "2022-11-18T00:00:00",
          "2022-11-19T00:00:00",
          "2022-11-20T00:00:00",
          "2022-11-21T00:00:00",
          "2022-11-22T00:00:00",
          "2022-11-23T00:00:00",
          "2022-11-24T00:00:00",
          "2022-11-25T00:00:00",
          "2022-11-26T00:00:00",
          "2022-11-27T00:00:00",
          "2022-11-28T00:00:00"
         ],
         "y": [
          31.70438600476056,
          14.225201474941475,
          -12.912062345028296,
          39.0579996214713,
          25.515112520659237,
          91.89053036554819,
          6.19411167487963,
          60.56941192005821,
          67.93534727346291,
          40.102372252756865,
          111.07696027986614,
          51.36641698377778,
          17.52778863910341,
          74.7642915484513,
          82.19659258302735,
          55.3978774036141,
          119.57054699294277,
          65.28029402553076,
          37.34431095518995,
          85.13082650239093,
          89.17399033307481,
          95.48145053413704,
          70.59159808089844,
          137.0087627458797,
          80.45249146355648,
          101.08104533095607,
          105.51990768217037,
          111.89078974404055,
          83.5919191507353,
          117.77072347228874,
          129.74029859119824,
          104.26998995756456,
          169.96115231732685,
          133.9269223864167,
          136.07863302363472,
          141.6128428571096,
          117.96913276245371,
          185.93974942573504,
          125.76515723130746,
          96.99921905874406,
          142.56010735799583,
          150.16229534171524,
          156.5254260104163,
          133.9873156103707,
          201.555629517414,
          143.25877429570642,
          113.8956099319351,
          165.60923697323264,
          170.09169079011073,
          174.02693248319224,
          219.57452764899148,
          159.96780605405107,
          127.70456101559034,
          180.52841533143587,
          184.26626777563533,
          189.14154936740704,
          169.70307326330345,
          230.60858639980583,
          172.59856486024765,
          141.6741845954303,
          197.30289047922705,
          195.69895306167436,
          207.62495802591832,
          184.77508317487056,
          248.9838337111216,
          211.03722080342908,
          214.77378435739158,
          224.92577896048334,
          194.09585008306482,
          265.0337759626087,
          206.32373322500527,
          173.35570981775462,
          225.86710661336252,
          228.57868373516266,
          239.4424974912764,
          211.7762547931341,
          279.8108864677871,
          219.93304941407257,
          191.74137078066516,
          238.4546501317474,
          243.5329868029689,
          256.5637476011012,
          232.64374627169224,
          291.204611926708,
          237.04355425244808,
          210.5606058280243,
          255.14134378212734,
          263.1558689563027,
          272.3489558506467,
          244.72983896918322,
          309.3912778946077,
          251.8303637396616,
          221.1138471970156,
          276.45359317818304,
          272.1467305809946,
          285.37053465317405,
          259.81943879297927,
          330.8960983276137,
          266.7842182580814,
          237.69974239396,
          285.87076441819517,
          289.0613691691158,
          301.2764462919108,
          274.5100864537376,
          344.4284566402308,
          286.2950769087277,
          251.50422850288592,
          299.35537536853576,
          303.90689565942637,
          317.0128184602572,
          293.55346010057224,
          356.2674631197718,
          300.63804789070724,
          269.81139738370933,
          317.9848933396775,
          322.10184060315436,
          332.9838884783565,
          305.9394306182361,
          375.6890204184286,
          319.9391767575192,
          282.72651792320534,
          334.1096750988517,
          335.0822985789749,
          348.81583054406434,
          322.54535577440356,
          392.1681693478972,
          332.29704870252976,
          301.00006003181073,
          351.23750394586864,
          354.2007266244463,
          359.9003557471762,
          337.4902433586052,
          410.0308192078254,
          342.33201086432325,
          316.33489848701527,
          365.0490006658497,
          373.59189695228605,
          379.30228622454524,
          355.5541318581705,
          421.69400789486855,
          363.8647820883698,
          334.9689630855568,
          382.26357197400813,
          388.1705900090452,
          392.61147075915477,
          368.6366576793626,
          439.17790491553745,
          377.0809151861358,
          346.7418601808513,
          398.4220211410997,
          401.4836994698669,
          412.9535738767466,
          379.9703457669676,
          447.6878454133188,
          395.2705943709447,
          362.1603082620785,
          411.98907774257043
         ]
        }
       ],
       "layout": {
        "height": 600,
        "showlegend": false,
        "template": {
         "data": {
          "bar": [
           {
            "error_x": {
             "color": "#2a3f5f"
            },
            "error_y": {
             "color": "#2a3f5f"
            },
            "marker": {
             "line": {
              "color": "#E5ECF6",
              "width": 0.5
             },
             "pattern": {
              "fillmode": "overlay",
              "size": 10,
              "solidity": 0.2
             }
            },
            "type": "bar"
           }
          ],
          "barpolar": [
           {
            "marker": {
             "line": {
              "color": "#E5ECF6",
              "width": 0.5
             },
             "pattern": {
              "fillmode": "overlay",
              "size": 10,
              "solidity": 0.2
             }
            },
            "type": "barpolar"
           }
          ],
          "carpet": [
           {
            "aaxis": {
             "endlinecolor": "#2a3f5f",
             "gridcolor": "white",
             "linecolor": "white",
             "minorgridcolor": "white",
             "startlinecolor": "#2a3f5f"
            },
            "baxis": {
             "endlinecolor": "#2a3f5f",
             "gridcolor": "white",
             "linecolor": "white",
             "minorgridcolor": "white",
             "startlinecolor": "#2a3f5f"
            },
            "type": "carpet"
           }
          ],
          "choropleth": [
           {
            "colorbar": {
             "outlinewidth": 0,
             "ticks": ""
            },
            "type": "choropleth"
           }
          ],
          "contour": [
           {
            "colorbar": {
             "outlinewidth": 0,
             "ticks": ""
            },
            "colorscale": [
             [
              0,
              "#0d0887"
             ],
             [
              0.1111111111111111,
              "#46039f"
             ],
             [
              0.2222222222222222,
              "#7201a8"
             ],
             [
              0.3333333333333333,
              "#9c179e"
             ],
             [
              0.4444444444444444,
              "#bd3786"
             ],
             [
              0.5555555555555556,
              "#d8576b"
             ],
             [
              0.6666666666666666,
              "#ed7953"
             ],
             [
              0.7777777777777778,
              "#fb9f3a"
             ],
             [
              0.8888888888888888,
              "#fdca26"
             ],
             [
              1,
              "#f0f921"
             ]
            ],
            "type": "contour"
           }
          ],
          "contourcarpet": [
           {
            "colorbar": {
             "outlinewidth": 0,
             "ticks": ""
            },
            "type": "contourcarpet"
           }
          ],
          "heatmap": [
           {
            "colorbar": {
             "outlinewidth": 0,
             "ticks": ""
            },
            "colorscale": [
             [
              0,
              "#0d0887"
             ],
             [
              0.1111111111111111,
              "#46039f"
             ],
             [
              0.2222222222222222,
              "#7201a8"
             ],
             [
              0.3333333333333333,
              "#9c179e"
             ],
             [
              0.4444444444444444,
              "#bd3786"
             ],
             [
              0.5555555555555556,
              "#d8576b"
             ],
             [
              0.6666666666666666,
              "#ed7953"
             ],
             [
              0.7777777777777778,
              "#fb9f3a"
             ],
             [
              0.8888888888888888,
              "#fdca26"
             ],
             [
              1,
              "#f0f921"
             ]
            ],
            "type": "heatmap"
           }
          ],
          "heatmapgl": [
           {
            "colorbar": {
             "outlinewidth": 0,
             "ticks": ""
            },
            "colorscale": [
             [
              0,
              "#0d0887"
             ],
             [
              0.1111111111111111,
              "#46039f"
             ],
             [
              0.2222222222222222,
              "#7201a8"
             ],
             [
              0.3333333333333333,
              "#9c179e"
             ],
             [
              0.4444444444444444,
              "#bd3786"
             ],
             [
              0.5555555555555556,
              "#d8576b"
             ],
             [
              0.6666666666666666,
              "#ed7953"
             ],
             [
              0.7777777777777778,
              "#fb9f3a"
             ],
             [
              0.8888888888888888,
              "#fdca26"
             ],
             [
              1,
              "#f0f921"
             ]
            ],
            "type": "heatmapgl"
           }
          ],
          "histogram": [
           {
            "marker": {
             "pattern": {
              "fillmode": "overlay",
              "size": 10,
              "solidity": 0.2
             }
            },
            "type": "histogram"
           }
          ],
          "histogram2d": [
           {
            "colorbar": {
             "outlinewidth": 0,
             "ticks": ""
            },
            "colorscale": [
             [
              0,
              "#0d0887"
             ],
             [
              0.1111111111111111,
              "#46039f"
             ],
             [
              0.2222222222222222,
              "#7201a8"
             ],
             [
              0.3333333333333333,
              "#9c179e"
             ],
             [
              0.4444444444444444,
              "#bd3786"
             ],
             [
              0.5555555555555556,
              "#d8576b"
             ],
             [
              0.6666666666666666,
              "#ed7953"
             ],
             [
              0.7777777777777778,
              "#fb9f3a"
             ],
             [
              0.8888888888888888,
              "#fdca26"
             ],
             [
              1,
              "#f0f921"
             ]
            ],
            "type": "histogram2d"
           }
          ],
          "histogram2dcontour": [
           {
            "colorbar": {
             "outlinewidth": 0,
             "ticks": ""
            },
            "colorscale": [
             [
              0,
              "#0d0887"
             ],
             [
              0.1111111111111111,
              "#46039f"
             ],
             [
              0.2222222222222222,
              "#7201a8"
             ],
             [
              0.3333333333333333,
              "#9c179e"
             ],
             [
              0.4444444444444444,
              "#bd3786"
             ],
             [
              0.5555555555555556,
              "#d8576b"
             ],
             [
              0.6666666666666666,
              "#ed7953"
             ],
             [
              0.7777777777777778,
              "#fb9f3a"
             ],
             [
              0.8888888888888888,
              "#fdca26"
             ],
             [
              1,
              "#f0f921"
             ]
            ],
            "type": "histogram2dcontour"
           }
          ],
          "mesh3d": [
           {
            "colorbar": {
             "outlinewidth": 0,
             "ticks": ""
            },
            "type": "mesh3d"
           }
          ],
          "parcoords": [
           {
            "line": {
             "colorbar": {
              "outlinewidth": 0,
              "ticks": ""
             }
            },
            "type": "parcoords"
           }
          ],
          "pie": [
           {
            "automargin": true,
            "type": "pie"
           }
          ],
          "scatter": [
           {
            "marker": {
             "colorbar": {
              "outlinewidth": 0,
              "ticks": ""
             }
            },
            "type": "scatter"
           }
          ],
          "scatter3d": [
           {
            "line": {
             "colorbar": {
              "outlinewidth": 0,
              "ticks": ""
             }
            },
            "marker": {
             "colorbar": {
              "outlinewidth": 0,
              "ticks": ""
             }
            },
            "type": "scatter3d"
           }
          ],
          "scattercarpet": [
           {
            "marker": {
             "colorbar": {
              "outlinewidth": 0,
              "ticks": ""
             }
            },
            "type": "scattercarpet"
           }
          ],
          "scattergeo": [
           {
            "marker": {
             "colorbar": {
              "outlinewidth": 0,
              "ticks": ""
             }
            },
            "type": "scattergeo"
           }
          ],
          "scattergl": [
           {
            "marker": {
             "colorbar": {
              "outlinewidth": 0,
              "ticks": ""
             }
            },
            "type": "scattergl"
           }
          ],
          "scattermapbox": [
           {
            "marker": {
             "colorbar": {
              "outlinewidth": 0,
              "ticks": ""
             }
            },
            "type": "scattermapbox"
           }
          ],
          "scatterpolar": [
           {
            "marker": {
             "colorbar": {
              "outlinewidth": 0,
              "ticks": ""
             }
            },
            "type": "scatterpolar"
           }
          ],
          "scatterpolargl": [
           {
            "marker": {
             "colorbar": {
              "outlinewidth": 0,
              "ticks": ""
             }
            },
            "type": "scatterpolargl"
           }
          ],
          "scatterternary": [
           {
            "marker": {
             "colorbar": {
              "outlinewidth": 0,
              "ticks": ""
             }
            },
            "type": "scatterternary"
           }
          ],
          "surface": [
           {
            "colorbar": {
             "outlinewidth": 0,
             "ticks": ""
            },
            "colorscale": [
             [
              0,
              "#0d0887"
             ],
             [
              0.1111111111111111,
              "#46039f"
             ],
             [
              0.2222222222222222,
              "#7201a8"
             ],
             [
              0.3333333333333333,
              "#9c179e"
             ],
             [
              0.4444444444444444,
              "#bd3786"
             ],
             [
              0.5555555555555556,
              "#d8576b"
             ],
             [
              0.6666666666666666,
              "#ed7953"
             ],
             [
              0.7777777777777778,
              "#fb9f3a"
             ],
             [
              0.8888888888888888,
              "#fdca26"
             ],
             [
              1,
              "#f0f921"
             ]
            ],
            "type": "surface"
           }
          ],
          "table": [
           {
            "cells": {
             "fill": {
              "color": "#EBF0F8"
             },
             "line": {
              "color": "white"
             }
            },
            "header": {
             "fill": {
              "color": "#C8D4E3"
             },
             "line": {
              "color": "white"
             }
            },
            "type": "table"
           }
          ]
         },
         "layout": {
          "annotationdefaults": {
           "arrowcolor": "#2a3f5f",
           "arrowhead": 0,
           "arrowwidth": 1
          },
          "autotypenumbers": "strict",
          "coloraxis": {
           "colorbar": {
            "outlinewidth": 0,
            "ticks": ""
           }
          },
          "colorscale": {
           "diverging": [
            [
             0,
             "#8e0152"
            ],
            [
             0.1,
             "#c51b7d"
            ],
            [
             0.2,
             "#de77ae"
            ],
            [
             0.3,
             "#f1b6da"
            ],
            [
             0.4,
             "#fde0ef"
            ],
            [
             0.5,
             "#f7f7f7"
            ],
            [
             0.6,
             "#e6f5d0"
            ],
            [
             0.7,
             "#b8e186"
            ],
            [
             0.8,
             "#7fbc41"
            ],
            [
             0.9,
             "#4d9221"
            ],
            [
             1,
             "#276419"
            ]
           ],
           "sequential": [
            [
             0,
             "#0d0887"
            ],
            [
             0.1111111111111111,
             "#46039f"
            ],
            [
             0.2222222222222222,
             "#7201a8"
            ],
            [
             0.3333333333333333,
             "#9c179e"
            ],
            [
             0.4444444444444444,
             "#bd3786"
            ],
            [
             0.5555555555555556,
             "#d8576b"
            ],
            [
             0.6666666666666666,
             "#ed7953"
            ],
            [
             0.7777777777777778,
             "#fb9f3a"
            ],
            [
             0.8888888888888888,
             "#fdca26"
            ],
            [
             1,
             "#f0f921"
            ]
           ],
           "sequentialminus": [
            [
             0,
             "#0d0887"
            ],
            [
             0.1111111111111111,
             "#46039f"
            ],
            [
             0.2222222222222222,
             "#7201a8"
            ],
            [
             0.3333333333333333,
             "#9c179e"
            ],
            [
             0.4444444444444444,
             "#bd3786"
            ],
            [
             0.5555555555555556,
             "#d8576b"
            ],
            [
             0.6666666666666666,
             "#ed7953"
            ],
            [
             0.7777777777777778,
             "#fb9f3a"
            ],
            [
             0.8888888888888888,
             "#fdca26"
            ],
            [
             1,
             "#f0f921"
            ]
           ]
          },
          "colorway": [
           "#636efa",
           "#EF553B",
           "#00cc96",
           "#ab63fa",
           "#FFA15A",
           "#19d3f3",
           "#FF6692",
           "#B6E880",
           "#FF97FF",
           "#FECB52"
          ],
          "font": {
           "color": "#2a3f5f"
          },
          "geo": {
           "bgcolor": "white",
           "lakecolor": "white",
           "landcolor": "#E5ECF6",
           "showlakes": true,
           "showland": true,
           "subunitcolor": "white"
          },
          "hoverlabel": {
           "align": "left"
          },
          "hovermode": "closest",
          "mapbox": {
           "style": "light"
          },
          "paper_bgcolor": "white",
          "plot_bgcolor": "#E5ECF6",
          "polar": {
           "angularaxis": {
            "gridcolor": "white",
            "linecolor": "white",
            "ticks": ""
           },
           "bgcolor": "#E5ECF6",
           "radialaxis": {
            "gridcolor": "white",
            "linecolor": "white",
            "ticks": ""
           }
          },
          "scene": {
           "xaxis": {
            "backgroundcolor": "#E5ECF6",
            "gridcolor": "white",
            "gridwidth": 2,
            "linecolor": "white",
            "showbackground": true,
            "ticks": "",
            "zerolinecolor": "white"
           },
           "yaxis": {
            "backgroundcolor": "#E5ECF6",
            "gridcolor": "white",
            "gridwidth": 2,
            "linecolor": "white",
            "showbackground": true,
            "ticks": "",
            "zerolinecolor": "white"
           },
           "zaxis": {
            "backgroundcolor": "#E5ECF6",
            "gridcolor": "white",
            "gridwidth": 2,
            "linecolor": "white",
            "showbackground": true,
            "ticks": "",
            "zerolinecolor": "white"
           }
          },
          "shapedefaults": {
           "line": {
            "color": "#2a3f5f"
           }
          },
          "ternary": {
           "aaxis": {
            "gridcolor": "white",
            "linecolor": "white",
            "ticks": ""
           },
           "baxis": {
            "gridcolor": "white",
            "linecolor": "white",
            "ticks": ""
           },
           "bgcolor": "#E5ECF6",
           "caxis": {
            "gridcolor": "white",
            "linecolor": "white",
            "ticks": ""
           }
          },
          "title": {
           "x": 0.05
          },
          "xaxis": {
           "automargin": true,
           "gridcolor": "white",
           "linecolor": "white",
           "ticks": "",
           "title": {
            "standoff": 15
           },
           "zerolinecolor": "white",
           "zerolinewidth": 2
          },
          "yaxis": {
           "automargin": true,
           "gridcolor": "white",
           "linecolor": "white",
           "ticks": "",
           "title": {
            "standoff": 15
           },
           "zerolinecolor": "white",
           "zerolinewidth": 2
          }
         }
        },
        "width": 900,
        "xaxis": {
         "autorange": true,
         "range": [
          "2022-05-29 02:44:34.2857",
          "2022-11-28"
         ],
         "rangeselector": {
          "buttons": [
           {
            "count": 7,
            "label": "1w",
            "step": "day",
            "stepmode": "backward"
           },
           {
            "count": 1,
            "label": "1m",
            "step": "month",
            "stepmode": "backward"
           },
           {
            "count": 6,
            "label": "6m",
            "step": "month",
            "stepmode": "backward"
           },
           {
            "count": 1,
            "label": "1y",
            "step": "year",
            "stepmode": "backward"
           },
           {
            "step": "all"
           }
          ]
         },
         "rangeslider": {
          "autorange": true,
          "range": [
           "2022-05-29 02:44:34.2857",
           "2022-11-28"
          ],
          "visible": true,
          "yaxis": {
           "_template": null,
           "rangemode": "match"
          }
         },
         "title": {
          "text": "ds"
         },
         "type": "date"
        },
        "yaxis": {
         "autorange": true,
         "range": [
          -142.9443659164548,
          478.7737512727806
         ],
         "title": {
          "text": "y"
         },
         "type": "linear"
        }
       }
      },
      "image/png": "[encoded data removed]",
      "text/html": [
       "<div>                            <div id=\"162fc722-2b64-466b-b918-836d681508f5\" class=\"plotly-graph-div\" style=\"height:600px; width:900px;\"></div>            <script type=\"text/javascript\">                require([\"plotly\"], function(Plotly) {                    window.PLOTLYENV=window.PLOTLYENV || {};                                    if (document.getElementById(\"162fc722-2b64-466b-b918-836d681508f5\")) {                    Plotly.newPlot(                        \"162fc722-2b64-466b-b918-836d681508f5\",                        [{\"marker\":{\"color\":\"black\",\"size\":4},\"mode\":\"markers\",\"name\":\"Actual\",\"type\":\"scatter\",\"x\":[\"2022-06-08T00:00:00\",\"2022-06-11T00:00:00\",\"2022-06-12T00:00:00\",\"2022-06-14T00:00:00\",\"2022-06-16T00:00:00\",\"2022-06-17T00:00:00\",\"2022-06-19T00:00:00\",\"2022-06-21T00:00:00\",\"2022-06-22T00:00:00\",\"2022-06-23T00:00:00\",\"2022-06-24T00:00:00\",\"2022-06-25T00:00:00\",\"2022-06-26T00:00:00\",\"2022-06-28T00:00:00\",\"2022-06-29T00:00:00\",\"2022-06-30T00:00:00\",\"2022-07-01T00:00:00\",\"2022-07-02T00:00:00\",\"2022-07-03T00:00:00\",\"2022-07-04T00:00:00\",\"2022-07-05T00:00:00\",\"2022-07-06T00:00:00\",\"2022-07-07T00:00:00\",\"2022-07-08T00:00:00\",\"2022-07-09T00:00:00\",\"2022-07-11T00:00:00\",\"2022-07-12T00:00:00\",\"2022-07-13T00:00:00\",\"2022-07-14T00:00:00\",\"2022-07-19T00:00:00\",\"2022-07-20T00:00:00\",\"2022-07-21T00:00:00\",\"2022-07-22T00:00:00\",\"2022-07-25T00:00:00\",\"2022-07-26T00:00:00\",\"2022-07-27T00:00:00\",\"2022-07-28T00:00:00\",\"2022-07-29T00:00:00\",\"2022-07-30T00:00:00\",\"2022-07-31T00:00:00\",\"2022-08-01T00:00:00\",\"2022-08-02T00:00:00\",\"2022-08-03T00:00:00\",\"2022-08-04T00:00:00\",\"2022-08-05T00:00:00\",\"2022-08-06T00:00:00\",\"2022-08-07T00:00:00\",\"2022-08-08T00:00:00\",\"2022-08-09T00:00:00\",\"2022-08-10T00:00:00\",\"2022-08-12T00:00:00\",\"2022-08-13T00:00:00\",\"2022-08-14T00:00:00\",\"2022-08-15T00:00:00\",\"2022-08-16T00:00:00\",\"2022-08-17T00:00:00\",\"2022-08-18T00:00:00\",\"2022-08-19T00:00:00\",\"2022-08-20T00:00:00\",\"2022-08-21T00:00:00\",\"2022-08-22T00:00:00\",\"2022-08-23T00:00:00\",\"2022-08-24T00:00:00\",\"2022-08-25T00:00:00\",\"2022-08-26T00:00:00\",\"2022-08-29T00:00:00\",\"2022-08-30T00:00:00\"],\"y\":[1,1,1,2,1,1,1,1,2,5,1,2,1,1,16,12,15,12,2,2,26,36,30,32,14,10,38,42,39,101,143,13,90,115,56,112,89,193,84,27,105,128,118,139,144,104,23,162,122,43,288,102,45,92,198,176,91,205,100,32,109,88,160,72,256,220,184]},{\"hoverinfo\":\"skip\",\"line\":{\"width\":0},\"mode\":\"lines\",\"type\":\"scatter\",\"x\":[\"2022-06-08T00:00:00\",\"2022-06-11T00:00:00\",\"2022-06-12T00:00:00\",\"2022-06-14T00:00:00\",\"2022-06-16T00:00:00\",\"2022-06-17T00:00:00\",\"2022-06-19T00:00:00\",\"2022-06-21T00:00:00\",\"2022-06-22T00:00:00\",\"2022-06-23T00:00:00\",\"2022-06-24T00:00:00\",\"2022-06-25T00:00:00\",\"2022-06-26T00:00:00\",\"2022-06-28T00:00:00\",\"2022-06-29T00:00:00\",\"2022-06-30T00:00:00\",\"2022-07-01T00:00:00\",\"2022-07-02T00:00:00\",\"2022-07-03T00:00:00\",\"2022-07-04T00:00:00\",\"2022-07-05T00:00:00\",\"2022-07-06T00:00:00\",\"2022-07-07T00:00:00\",\"2022-07-08T00:00:00\",\"2022-07-09T00:00:00\",\"2022-07-11T00:00:00\",\"2022-07-12T00:00:00\",\"2022-07-13T00:00:00\",\"2022-07-14T00:00:00\",\"2022-07-19T00:00:00\",\"2022-07-20T00:00:00\",\"2022-07-21T00:00:00\",\"2022-07-22T00:00:00\",\"2022-07-25T00:00:00\",\"2022-07-26T00:00:00\",\"2022-07-27T00:00:00\",\"2022-07-28T00:00:00\",\"2022-07-29T00:00:00\",\"2022-07-30T00:00:00\",\"2022-07-31T00:00:00\",\"2022-08-01T00:00:00\",\"2022-08-02T00:00:00\",\"2022-08-03T00:00:00\",\"2022-08-04T00:00:00\",\"2022-08-05T00:00:00\",\"2022-08-06T00:00:00\",\"2022-08-07T00:00:00\",\"2022-08-08T00:00:00\",\"2022-08-09T00:00:00\",\"2022-08-10T00:00:00\",\"2022-08-12T00:00:00\",\"2022-08-13T00:00:00\",\"2022-08-14T00:00:00\",\"2022-08-15T00:00:00\",\"2022-08-16T00:00:00\",\"2022-08-17T00:00:00\",\"2022-08-18T00:00:00\",\"2022-08-19T00:00:00\",\"2022-08-20T00:00:00\",\"2022-08-21T00:00:00\",\"2022-08-22T00:00:00\",\"2022-08-23T00:00:00\",\"2022-08-24T00:00:00\",\"2022-08-25T00:00:00\",\"2022-08-26T00:00:00\",\"2022-08-29T00:00:00\",\"2022-08-30T00:00:00\",\"2022-08-31T00:00:00\",\"2022-09-01T00:00:00\",\"2022-09-02T00:00:00\",\"2022-09-03T00:00:00\",\"2022-09-04T00:00:00\",\"2022-09-05T00:00:00\",\"2022-09-06T00:00:00\",\"2022-09-07T00:00:00\",\"2022-09-08T00:00:00\",\"2022-09-09T00:00:00\",\"2022-09-10T00:00:00\",\"2022-09-11T00:00:00\",\"2022-09-12T00:00:00\",\"2022-09-13T00:00:00\",\"2022-09-14T00:00:00\",\"2022-09-15T00:00:00\",\"2022-09-16T00:00:00\",\"2022-09-17T00:00:00\",\"2022-09-18T00:00:00\",\"2022-09-19T00:00:00\",\"2022-09-20T00:00:00\",\"2022-09-21T00:00:00\",\"2022-09-22T00:00:00\",\"2022-09-23T00:00:00\",\"2022-09-24T00:00:00\",\"2022-09-25T00:00:00\",\"2022-09-26T00:00:00\",\"2022-09-27T00:00:00\",\"2022-09-28T00:00:00\",\"2022-09-29T00:00:00\",\"2022-09-30T00:00:00\",\"2022-10-01T00:00:00\",\"2022-10-02T00:00:00\",\"2022-10-03T00:00:00\",\"2022-10-04T00:00:00\",\"2022-10-05T00:00:00\",\"2022-10-06T00:00:00\",\"2022-10-07T00:00:00\",\"2022-10-08T00:00:00\",\"2022-10-09T00:00:00\",\"2022-10-10T00:00:00\",\"2022-10-11T00:00:00\",\"2022-10-12T00:00:00\",\"2022-10-13T00:00:00\",\"2022-10-14T00:00:00\",\"2022-10-15T00:00:00\",\"2022-10-16T00:00:00\",\"2022-10-17T00:00:00\",\"2022-10-18T00:00:00\",\"2022-10-19T00:00:00\",\"2022-10-20T00:00:00\",\"2022-10-21T00:00:00\",\"2022-10-22T00:00:00\",\"2022-10-23T00:00:00\",\"2022-10-24T00:00:00\",\"2022-10-25T00:00:00\",\"2022-10-26T00:00:00\",\"2022-10-27T00:00:00\",\"2022-10-28T00:00:00\",\"2022-10-29T00:00:00\",\"2022-10-30T00:00:00\",\"2022-10-31T00:00:00\",\"2022-11-01T00:00:00\",\"2022-11-02T00:00:00\",\"2022-11-03T00:00:00\",\"2022-11-04T00:00:00\",\"2022-11-05T00:00:00\",\"2022-11-06T00:00:00\",\"2022-11-07T00:00:00\",\"2022-11-08T00:00:00\",\"2022-11-09T00:00:00\",\"2022-11-10T00:00:00\",\"2022-11-11T00:00:00\",\"2022-11-12T00:00:00\",\"2022-11-13T00:00:00\",\"2022-11-14T00:00:00\",\"2022-11-15T00:00:00\",\"2022-11-16T00:00:00\",\"2022-11-17T00:00:00\",\"2022-11-18T00:00:00\",\"2022-11-19T00:00:00\",\"2022-11-20T00:00:00\",\"2022-11-21T00:00:00\",\"2022-11-22T00:00:00\",\"2022-11-23T00:00:00\",\"2022-11-24T00:00:00\",\"2022-11-25T00:00:00\",\"2022-11-26T00:00:00\",\"2022-11-27T00:00:00\",\"2022-11-28T00:00:00\"],\"y\":[-62.994170034664215,-82.96974298171226,-111.85846005699305,-54.77351645750555,-75.97924456374925,-7.087271769701377,-94.91374488089227,-40.1740671879446,-36.30112749445723,-60.39374361030993,9.935256827522847,-46.98289838562394,-78.72866703998291,-23.301757343963818,-19.191474255886245,-43.05251160738694,23.86921638797772,-36.32419576983789,-64.5000951946536,-13.48218193577404,-11.096976667633411,-0.8917909266829342,-26.97239741763539,38.49135219401979,-16.51882557096496,2.4793502951383215,7.140111475487845,17.158060031458305,-10.799660691397376,20.984699341985678,32.08737016985269,6.1741350861000255,70.68301205363221,33.39924237301098,36.4202011706447,45.10240885427091,20.11698302367336,85.9600484109953,28.07243044431843,-1.9770918722366695,49.001451525151836,51.80125171368506,61.50833424650296,35.095438382277926,104.51202621218843,45.611814295355664,19.048068789135833,62.712808512802475,69.634510656867,73.96366473544704,121.4781165465936,58.17853281686456,31.52957505809445,81.66186354764415,82.06005251249788,93.30718616470904,67.49158520306412,133.088146053271,74.09596905432439,45.491930560769426,96.68738223109938,102.85230209095764,106.70225557754004,81.25182960019052,145.87100326851282,112.37599229638809,115.82340366156195,126.38191211782846,97.6771315555222,165.66130668232563,106.17374793940799,78.99907152658099,127.58241763459937,130.88602362120034,137.87241536723144,112.77067852640556,182.07407146157922,122.1000186108312,93.78206274459059,142.79455227988603,143.27302637368751,155.22368609464056,133.2307822634167,196.27278646307923,138.21614051768108,105.79157297482045,161.0145253638084,164.12706786106273,170.56069750322584,146.50784938308163,211.9563590443528,159.4594971824152,126.35167548928976,175.13094954483861,178.99214460317384,180.26339429961706,164.43974482955414,232.05246936450771,170.6919448955751,141.60638544688936,191.45497099874615,193.09972179746865,200.5310776372249,177.80829987997024,246.89227821028928,185.084783551626,157.43160896883367,206.26327404752848,212.12863705109206,215.34774561783382,194.25703702692664,258.7554794766672,202.4955973876449,175.98027192406005,223.3746909940784,229.10107938283176,236.49206835841025,207.9296827912605,274.7392579459037,215.42466822971164,188.9714471425435,237.97720248466823,238.78203707029908,251.26486620114622,227.35429351074947,292.68640455302875,230.2168518517623,199.3852269233543,253.1516737206114,255.95449437918046,261.98666576638544,241.26405455018846,306.7905633582021,251.70629219310499,216.35348875137586,268.43063460299805,275.6422726626203,279.33748568144637,252.87691770952654,323.5344566476477,266.1736115960093,234.92421572926065,281.9307799250523,288.3227898212266,299.06422227836913,269.10164353293015,337.1772415158696,278.16202958732646,250.4909229621498,300.8464421144033,307.3530590292017,313.0905205272194,286.62635273855784,357.0833534967072,296.6296911117993,261.0273656771256,315.1874722073008]},{\"fill\":\"tonexty\",\"fillcolor\":\"rgba(0, 114, 178, 0.2)\",\"line\":{\"color\":\"#0072B2\",\"width\":2},\"mode\":\"lines\",\"name\":\"Predicted\",\"type\":\"scatter\",\"x\":[\"2022-06-08T00:00:00\",\"2022-06-11T00:00:00\",\"2022-06-12T00:00:00\",\"2022-06-14T00:00:00\",\"2022-06-16T00:00:00\",\"2022-06-17T00:00:00\",\"2022-06-19T00:00:00\",\"2022-06-21T00:00:00\",\"2022-06-22T00:00:00\",\"2022-06-23T00:00:00\",\"2022-06-24T00:00:00\",\"2022-06-25T00:00:00\",\"2022-06-26T00:00:00\",\"2022-06-28T00:00:00\",\"2022-06-29T00:00:00\",\"2022-06-30T00:00:00\",\"2022-07-01T00:00:00\",\"2022-07-02T00:00:00\",\"2022-07-03T00:00:00\",\"2022-07-04T00:00:00\",\"2022-07-05T00:00:00\",\"2022-07-06T00:00:00\",\"2022-07-07T00:00:00\",\"2022-07-08T00:00:00\",\"2022-07-09T00:00:00\",\"2022-07-11T00:00:00\",\"2022-07-12T00:00:00\",\"2022-07-13T00:00:00\",\"2022-07-14T00:00:00\",\"2022-07-19T00:00:00\",\"2022-07-20T00:00:00\",\"2022-07-21T00:00:00\",\"2022-07-22T00:00:00\",\"2022-07-25T00:00:00\",\"2022-07-26T00:00:00\",\"2022-07-27T00:00:00\",\"2022-07-28T00:00:00\",\"2022-07-29T00:00:00\",\"2022-07-30T00:00:00\",\"2022-07-31T00:00:00\",\"2022-08-01T00:00:00\",\"2022-08-02T00:00:00\",\"2022-08-03T00:00:00\",\"2022-08-04T00:00:00\",\"2022-08-05T00:00:00\",\"2022-08-06T00:00:00\",\"2022-08-07T00:00:00\",\"2022-08-08T00:00:00\",\"2022-08-09T00:00:00\",\"2022-08-10T00:00:00\",\"2022-08-12T00:00:00\",\"2022-08-13T00:00:00\",\"2022-08-14T00:00:00\",\"2022-08-15T00:00:00\",\"2022-08-16T00:00:00\",\"2022-08-17T00:00:00\",\"2022-08-18T00:00:00\",\"2022-08-19T00:00:00\",\"2022-08-20T00:00:00\",\"2022-08-21T00:00:00\",\"2022-08-22T00:00:00\",\"2022-08-23T00:00:00\",\"2022-08-24T00:00:00\",\"2022-08-25T00:00:00\",\"2022-08-26T00:00:00\",\"2022-08-29T00:00:00\",\"2022-08-30T00:00:00\",\"2022-08-31T00:00:00\",\"2022-09-01T00:00:00\",\"2022-09-02T00:00:00\",\"2022-09-03T00:00:00\",\"2022-09-04T00:00:00\",\"2022-09-05T00:00:00\",\"2022-09-06T00:00:00\",\"2022-09-07T00:00:00\",\"2022-09-08T00:00:00\",\"2022-09-09T00:00:00\",\"2022-09-10T00:00:00\",\"2022-09-11T00:00:00\",\"2022-09-12T00:00:00\",\"2022-09-13T00:00:00\",\"2022-09-14T00:00:00\",\"2022-09-15T00:00:00\",\"2022-09-16T00:00:00\",\"2022-09-17T00:00:00\",\"2022-09-18T00:00:00\",\"2022-09-19T00:00:00\",\"2022-09-20T00:00:00\",\"2022-09-21T00:00:00\",\"2022-09-22T00:00:00\",\"2022-09-23T00:00:00\",\"2022-09-24T00:00:00\",\"2022-09-25T00:00:00\",\"2022-09-26T00:00:00\",\"2022-09-27T00:00:00\",\"2022-09-28T00:00:00\",\"2022-09-29T00:00:00\",\"2022-09-30T00:00:00\",\"2022-10-01T00:00:00\",\"2022-10-02T00:00:00\",\"2022-10-03T00:00:00\",\"2022-10-04T00:00:00\",\"2022-10-05T00:00:00\",\"2022-10-06T00:00:00\",\"2022-10-07T00:00:00\",\"2022-10-08T00:00:00\",\"2022-10-09T00:00:00\",\"2022-10-10T00:00:00\",\"2022-10-11T00:00:00\",\"2022-10-12T00:00:00\",\"2022-10-13T00:00:00\",\"2022-10-14T00:00:00\",\"2022-10-15T00:00:00\",\"2022-10-16T00:00:00\",\"2022-10-17T00:00:00\",\"2022-10-18T00:00:00\",\"2022-10-19T00:00:00\",\"2022-10-20T00:00:00\",\"2022-10-21T00:00:00\",\"2022-10-22T00:00:00\",\"2022-10-23T00:00:00\",\"2022-10-24T00:00:00\",\"2022-10-25T00:00:00\",\"2022-10-26T00:00:00\",\"2022-10-27T00:00:00\",\"2022-10-28T00:00:00\",\"2022-10-29T00:00:00\",\"2022-10-30T00:00:00\",\"2022-10-31T00:00:00\",\"2022-11-01T00:00:00\",\"2022-11-02T00:00:00\",\"2022-11-03T00:00:00\",\"2022-11-04T00:00:00\",\"2022-11-05T00:00:00\",\"2022-11-06T00:00:00\",\"2022-11-07T00:00:00\",\"2022-11-08T00:00:00\",\"2022-11-09T00:00:00\",\"2022-11-10T00:00:00\",\"2022-11-11T00:00:00\",\"2022-11-12T00:00:00\",\"2022-11-13T00:00:00\",\"2022-11-14T00:00:00\",\"2022-11-15T00:00:00\",\"2022-11-16T00:00:00\",\"2022-11-17T00:00:00\",\"2022-11-18T00:00:00\",\"2022-11-19T00:00:00\",\"2022-11-20T00:00:00\",\"2022-11-21T00:00:00\",\"2022-11-22T00:00:00\",\"2022-11-23T00:00:00\",\"2022-11-24T00:00:00\",\"2022-11-25T00:00:00\",\"2022-11-26T00:00:00\",\"2022-11-27T00:00:00\",\"2022-11-28T00:00:00\"],\"y\":[-15.50119180415486,-31.932137393002513,-61.92717577231454,-7.516875047729894,-24.62032296943674,42.50947752983012,-46.2424771720162,8.167823552344288,15.86820539766201,-8.935624369305248,58.1941761303122,-0.5627401909232717,-30.557778570218257,23.852522154562106,31.552904000076495,6.749074232942645,73.8788747324725,15.121958410823916,-14.873079416056662,35.214016975480476,39.537222414742814,47.23760481347982,22.43377559942197,89.5635766521324,30.806660883871572,50.89871944958519,55.221924889643425,62.92230728890013,38.11847807554972,70.90662736721322,78.60700976668292,53.80318055366563,120.93298160724923,82.26812440693026,86.59132984756475,94.29171224745512,69.4878830347589,136.6176840887633,77.8607683216851,47.86573049643989,97.95282688928499,102.27603232971691,109.97641472953441,85.1725855167079,152.30238657038203,93.54547080319409,63.5504329778174,113.63752937095566,117.96073481143696,125.66111721108959,167.9870890519048,109.23017328477295,79.23513545965952,129.3222318528301,133.64543729353656,141.34581969368608,116.54199048122814,183.67179153544708,124.91487576851328,94.91983794360898,145.00693433667274,149.3301397776749,157.03052217779435,132.22669296538427,199.35649401963641,160.69163682086008,165.0148422617662,172.71522466187474,147.9113954495404,215.04119650382574,156.2842807369722,126.2892429119257,176.3763393050474,180.6995447459418,188.39992714601098,163.59609793350077,230.72589898783644,171.96898322107361,141.97394539601441,192.0610417892347,196.38424722994876,204.08462963018542,179.28080041765693,246.4106014720258,187.6536857050481,157.65864788009537,207.7457442730774,212.06894971412436,219.7693321142937,194.96550290181307,262.09530395612586,203.33838818927634,173.34335036432336,223.4304467573888,227.7536521983,235.454034598402,210.6502053859692,277.7800064402185,219.0230906732509,189.02805284827284,239.11514924145197,243.43835468239124,251.1387370826044,226.33490787009123,293.46470892431853,234.70779315722547,204.71275533250082,254.7998517256393,259.1230571665296,266.8234395666848,242.01961035428144,309.1494114085079,250.39249564170981,220.3974578165818,270.4845542098267,274.8077596506209,282.50814205082094,257.7043128384035,324.83411389260783,266.0771981256844,236.08216030080987,286.169256694014,290.4924621347965,298.1928445349013,273.38901532239794,340.51881637670795,281.76190060978576,251.7668627847592,301.85395917807716,306.17716461885044,313.8775470189818,289.0737178065541,356.2035188608079,297.4466030938871,267.4515652689872,317.5386616620439,321.8618671030261,329.56224950309,304.7584202907102,371.88822134499725,313.1313055782446,283.1362677532153,333.2233641462313,337.5465695871174,345.24695198719826,320.44312277483226,387.5729238290006,328.81600806221917,298.8209702371647,348.9080666304186,353.2312720712087,360.9316544714007,336.12782525895443,403.25762631319,344.50071054632053,314.5056727213927,364.5927691142613]},{\"fill\":\"tonexty\",\"fillcolor\":\"rgba(0, 114, 178, 0.2)\",\"hoverinfo\":\"skip\",\"line\":{\"width\":0},\"mode\":\"lines\",\"type\":\"scatter\",\"x\":[\"2022-06-08T00:00:00\",\"2022-06-11T00:00:00\",\"2022-06-12T00:00:00\",\"2022-06-14T00:00:00\",\"2022-06-16T00:00:00\",\"2022-06-17T00:00:00\",\"2022-06-19T00:00:00\",\"2022-06-21T00:00:00\",\"2022-06-22T00:00:00\",\"2022-06-23T00:00:00\",\"2022-06-24T00:00:00\",\"2022-06-25T00:00:00\",\"2022-06-26T00:00:00\",\"2022-06-28T00:00:00\",\"2022-06-29T00:00:00\",\"2022-06-30T00:00:00\",\"2022-07-01T00:00:00\",\"2022-07-02T00:00:00\",\"2022-07-03T00:00:00\",\"2022-07-04T00:00:00\",\"2022-07-05T00:00:00\",\"2022-07-06T00:00:00\",\"2022-07-07T00:00:00\",\"2022-07-08T00:00:00\",\"2022-07-09T00:00:00\",\"2022-07-11T00:00:00\",\"2022-07-12T00:00:00\",\"2022-07-13T00:00:00\",\"2022-07-14T00:00:00\",\"2022-07-19T00:00:00\",\"2022-07-20T00:00:00\",\"2022-07-21T00:00:00\",\"2022-07-22T00:00:00\",\"2022-07-25T00:00:00\",\"2022-07-26T00:00:00\",\"2022-07-27T00:00:00\",\"2022-07-28T00:00:00\",\"2022-07-29T00:00:00\",\"2022-07-30T00:00:00\",\"2022-07-31T00:00:00\",\"2022-08-01T00:00:00\",\"2022-08-02T00:00:00\",\"2022-08-03T00:00:00\",\"2022-08-04T00:00:00\",\"2022-08-05T00:00:00\",\"2022-08-06T00:00:00\",\"2022-08-07T00:00:00\",\"2022-08-08T00:00:00\",\"2022-08-09T00:00:00\",\"2022-08-10T00:00:00\",\"2022-08-12T00:00:00\",\"2022-08-13T00:00:00\",\"2022-08-14T00:00:00\",\"2022-08-15T00:00:00\",\"2022-08-16T00:00:00\",\"2022-08-17T00:00:00\",\"2022-08-18T00:00:00\",\"2022-08-19T00:00:00\",\"2022-08-20T00:00:00\",\"2022-08-21T00:00:00\",\"2022-08-22T00:00:00\",\"2022-08-23T00:00:00\",\"2022-08-24T00:00:00\",\"2022-08-25T00:00:00\",\"2022-08-26T00:00:00\",\"2022-08-29T00:00:00\",\"2022-08-30T00:00:00\",\"2022-08-31T00:00:00\",\"2022-09-01T00:00:00\",\"2022-09-02T00:00:00\",\"2022-09-03T00:00:00\",\"2022-09-04T00:00:00\",\"2022-09-05T00:00:00\",\"2022-09-06T00:00:00\",\"2022-09-07T00:00:00\",\"2022-09-08T00:00:00\",\"2022-09-09T00:00:00\",\"2022-09-10T00:00:00\",\"2022-09-11T00:00:00\",\"2022-09-12T00:00:00\",\"2022-09-13T00:00:00\",\"2022-09-14T00:00:00\",\"2022-09-15T00:00:00\",\"2022-09-16T00:00:00\",\"2022-09-17T00:00:00\",\"2022-09-18T00:00:00\",\"2022-09-19T00:00:00\",\"2022-09-20T00:00:00\",\"2022-09-21T00:00:00\",\"2022-09-22T00:00:00\",\"2022-09-23T00:00:00\",\"2022-09-24T00:00:00\",\"2022-09-25T00:00:00\",\"2022-09-26T00:00:00\",\"2022-09-27T00:00:00\",\"2022-09-28T00:00:00\",\"2022-09-29T00:00:00\",\"2022-09-30T00:00:00\",\"2022-10-01T00:00:00\",\"2022-10-02T00:00:00\",\"2022-10-03T00:00:00\",\"2022-10-04T00:00:00\",\"2022-10-05T00:00:00\",\"2022-10-06T00:00:00\",\"2022-10-07T00:00:00\",\"2022-10-08T00:00:00\",\"2022-10-09T00:00:00\",\"2022-10-10T00:00:00\",\"2022-10-11T00:00:00\",\"2022-10-12T00:00:00\",\"2022-10-13T00:00:00\",\"2022-10-14T00:00:00\",\"2022-10-15T00:00:00\",\"2022-10-16T00:00:00\",\"2022-10-17T00:00:00\",\"2022-10-18T00:00:00\",\"2022-10-19T00:00:00\",\"2022-10-20T00:00:00\",\"2022-10-21T00:00:00\",\"2022-10-22T00:00:00\",\"2022-10-23T00:00:00\",\"2022-10-24T00:00:00\",\"2022-10-25T00:00:00\",\"2022-10-26T00:00:00\",\"2022-10-27T00:00:00\",\"2022-10-28T00:00:00\",\"2022-10-29T00:00:00\",\"2022-10-30T00:00:00\",\"2022-10-31T00:00:00\",\"2022-11-01T00:00:00\",\"2022-11-02T00:00:00\",\"2022-11-03T00:00:00\",\"2022-11-04T00:00:00\",\"2022-11-05T00:00:00\",\"2022-11-06T00:00:00\",\"2022-11-07T00:00:00\",\"2022-11-08T00:00:00\",\"2022-11-09T00:00:00\",\"2022-11-10T00:00:00\",\"2022-11-11T00:00:00\",\"2022-11-12T00:00:00\",\"2022-11-13T00:00:00\",\"2022-11-14T00:00:00\",\"2022-11-15T00:00:00\",\"2022-11-16T00:00:00\",\"2022-11-17T00:00:00\",\"2022-11-18T00:00:00\",\"2022-11-19T00:00:00\",\"2022-11-20T00:00:00\",\"2022-11-21T00:00:00\",\"2022-11-22T00:00:00\",\"2022-11-23T00:00:00\",\"2022-11-24T00:00:00\",\"2022-11-25T00:00:00\",\"2022-11-26T00:00:00\",\"2022-11-27T00:00:00\",\"2022-11-28T00:00:00\"],\"y\":[31.70438600476056,14.225201474941475,-12.912062345028296,39.0579996214713,25.515112520659237,91.89053036554819,6.19411167487963,60.56941192005821,67.93534727346291,40.102372252756865,111.07696027986614,51.36641698377778,17.52778863910341,74.7642915484513,82.19659258302735,55.3978774036141,119.57054699294277,65.28029402553076,37.34431095518995,85.13082650239093,89.17399033307481,95.48145053413704,70.59159808089844,137.0087627458797,80.45249146355648,101.08104533095607,105.51990768217037,111.89078974404055,83.5919191507353,117.77072347228874,129.74029859119824,104.26998995756456,169.96115231732685,133.9269223864167,136.07863302363472,141.6128428571096,117.96913276245371,185.93974942573504,125.76515723130746,96.99921905874406,142.56010735799583,150.16229534171524,156.5254260104163,133.9873156103707,201.555629517414,143.25877429570642,113.8956099319351,165.60923697323264,170.09169079011073,174.02693248319224,219.57452764899148,159.96780605405107,127.70456101559034,180.52841533143587,184.26626777563533,189.14154936740704,169.70307326330345,230.60858639980583,172.59856486024765,141.6741845954303,197.30289047922705,195.69895306167436,207.62495802591832,184.77508317487056,248.9838337111216,211.03722080342908,214.77378435739158,224.92577896048334,194.09585008306482,265.0337759626087,206.32373322500527,173.35570981775462,225.86710661336252,228.57868373516266,239.4424974912764,211.7762547931341,279.8108864677871,219.93304941407257,191.74137078066516,238.4546501317474,243.5329868029689,256.5637476011012,232.64374627169224,291.204611926708,237.04355425244808,210.5606058280243,255.14134378212734,263.1558689563027,272.3489558506467,244.72983896918322,309.3912778946077,251.8303637396616,221.1138471970156,276.45359317818304,272.1467305809946,285.37053465317405,259.81943879297927,330.8960983276137,266.7842182580814,237.69974239396,285.87076441819517,289.0613691691158,301.2764462919108,274.5100864537376,344.4284566402308,286.2950769087277,251.50422850288592,299.35537536853576,303.90689565942637,317.0128184602572,293.55346010057224,356.2674631197718,300.63804789070724,269.81139738370933,317.9848933396775,322.10184060315436,332.9838884783565,305.9394306182361,375.6890204184286,319.9391767575192,282.72651792320534,334.1096750988517,335.0822985789749,348.81583054406434,322.54535577440356,392.1681693478972,332.29704870252976,301.00006003181073,351.23750394586864,354.2007266244463,359.9003557471762,337.4902433586052,410.0308192078254,342.33201086432325,316.33489848701527,365.0490006658497,373.59189695228605,379.30228622454524,355.5541318581705,421.69400789486855,363.8647820883698,334.9689630855568,382.26357197400813,388.1705900090452,392.61147075915477,368.6366576793626,439.17790491553745,377.0809151861358,346.7418601808513,398.4220211410997,401.4836994698669,412.9535738767466,379.9703457669676,447.6878454133188,395.2705943709447,362.1603082620785,411.98907774257043]}],                        {\"height\":600,\"showlegend\":false,\"template\":{\"data\":{\"bar\":[{\"error_x\":{\"color\":\"#2a3f5f\"},\"error_y\":{\"color\":\"#2a3f5f\"},\"marker\":{\"line\":{\"color\":\"#E5ECF6\",\"width\":0.5},\"pattern\":{\"fillmode\":\"overlay\",\"size\":10,\"solidity\":0.2}},\"type\":\"bar\"}],\"barpolar\":[{\"marker\":{\"line\":{\"color\":\"#E5ECF6\",\"width\":0.5},\"pattern\":{\"fillmode\":\"overlay\",\"size\":10,\"solidity\":0.2}},\"type\":\"barpolar\"}],\"carpet\":[{\"aaxis\":{\"endlinecolor\":\"#2a3f5f\",\"gridcolor\":\"white\",\"linecolor\":\"white\",\"minorgridcolor\":\"white\",\"startlinecolor\":\"#2a3f5f\"},\"baxis\":{\"endlinecolor\":\"#2a3f5f\",\"gridcolor\":\"white\",\"linecolor\":\"white\",\"minorgridcolor\":\"white\",\"startlinecolor\":\"#2a3f5f\"},\"type\":\"carpet\"}],\"choropleth\":[{\"colorbar\":{\"outlinewidth\":0,\"ticks\":\"\"},\"type\":\"choropleth\"}],\"contour\":[{\"colorbar\":{\"outlinewidth\":0,\"ticks\":\"\"},\"colorscale\":[[0.0,\"#0d0887\"],[0.1111111111111111,\"#46039f\"],[0.2222222222222222,\"#7201a8\"],[0.3333333333333333,\"#9c179e\"],[0.4444444444444444,\"#bd3786\"],[0.5555555555555556,\"#d8576b\"],[0.6666666666666666,\"#ed7953\"],[0.7777777777777778,\"#fb9f3a\"],[0.8888888888888888,\"#fdca26\"],[1.0,\"#f0f921\"]],\"type\":\"contour\"}],\"contourcarpet\":[{\"colorbar\":{\"outlinewidth\":0,\"ticks\":\"\"},\"type\":\"contourcarpet\"}],\"heatmap\":[{\"colorbar\":{\"outlinewidth\":0,\"ticks\":\"\"},\"colorscale\":[[0.0,\"#0d0887\"],[0.1111111111111111,\"#46039f\"],[0.2222222222222222,\"#7201a8\"],[0.3333333333333333,\"#9c179e\"],[0.4444444444444444,\"#bd3786\"],[0.5555555555555556,\"#d8576b\"],[0.6666666666666666,\"#ed7953\"],[0.7777777777777778,\"#fb9f3a\"],[0.8888888888888888,\"#fdca26\"],[1.0,\"#f0f921\"]],\"type\":\"heatmap\"}],\"heatmapgl\":[{\"colorbar\":{\"outlinewidth\":0,\"ticks\":\"\"},\"colorscale\":[[0.0,\"#0d0887\"],[0.1111111111111111,\"#46039f\"],[0.2222222222222222,\"#7201a8\"],[0.3333333333333333,\"#9c179e\"],[0.4444444444444444,\"#bd3786\"],[0.5555555555555556,\"#d8576b\"],[0.6666666666666666,\"#ed7953\"],[0.7777777777777778,\"#fb9f3a\"],[0.8888888888888888,\"#fdca26\"],[1.0,\"#f0f921\"]],\"type\":\"heatmapgl\"}],\"histogram\":[{\"marker\":{\"pattern\":{\"fillmode\":\"overlay\",\"size\":10,\"solidity\":0.2}},\"type\":\"histogram\"}],\"histogram2d\":[{\"colorbar\":{\"outlinewidth\":0,\"ticks\":\"\"},\"colorscale\":[[0.0,\"#0d0887\"],[0.1111111111111111,\"#46039f\"],[0.2222222222222222,\"#7201a8\"],[0.3333333333333333,\"#9c179e\"],[0.4444444444444444,\"#bd3786\"],[0.5555555555555556,\"#d8576b\"],[0.6666666666666666,\"#ed7953\"],[0.7777777777777778,\"#fb9f3a\"],[0.8888888888888888,\"#fdca26\"],[1.0,\"#f0f921\"]],\"type\":\"histogram2d\"}],\"histogram2dcontour\":[{\"colorbar\":{\"outlinewidth\":0,\"ticks\":\"\"},\"colorscale\":[[0.0,\"#0d0887\"],[0.1111111111111111,\"#46039f\"],[0.2222222222222222,\"#7201a8\"],[0.3333333333333333,\"#9c179e\"],[0.4444444444444444,\"#bd3786\"],[0.5555555555555556,\"#d8576b\"],[0.6666666666666666,\"#ed7953\"],[0.7777777777777778,\"#fb9f3a\"],[0.8888888888888888,\"#fdca26\"],[1.0,\"#f0f921\"]],\"type\":\"histogram2dcontour\"}],\"mesh3d\":[{\"colorbar\":{\"outlinewidth\":0,\"ticks\":\"\"},\"type\":\"mesh3d\"}],\"parcoords\":[{\"line\":{\"colorbar\":{\"outlinewidth\":0,\"ticks\":\"\"}},\"type\":\"parcoords\"}],\"pie\":[{\"automargin\":true,\"type\":\"pie\"}],\"scatter\":[{\"marker\":{\"colorbar\":{\"outlinewidth\":0,\"ticks\":\"\"}},\"type\":\"scatter\"}],\"scatter3d\":[{\"line\":{\"colorbar\":{\"outlinewidth\":0,\"ticks\":\"\"}},\"marker\":{\"colorbar\":{\"outlinewidth\":0,\"ticks\":\"\"}},\"type\":\"scatter3d\"}],\"scattercarpet\":[{\"marker\":{\"colorbar\":{\"outlinewidth\":0,\"ticks\":\"\"}},\"type\":\"scattercarpet\"}],\"scattergeo\":[{\"marker\":{\"colorbar\":{\"outlinewidth\":0,\"ticks\":\"\"}},\"type\":\"scattergeo\"}],\"scattergl\":[{\"marker\":{\"colorbar\":{\"outlinewidth\":0,\"ticks\":\"\"}},\"type\":\"scattergl\"}],\"scattermapbox\":[{\"marker\":{\"colorbar\":{\"outlinewidth\":0,\"ticks\":\"\"}},\"type\":\"scattermapbox\"}],\"scatterpolar\":[{\"marker\":{\"colorbar\":{\"outlinewidth\":0,\"ticks\":\"\"}},\"type\":\"scatterpolar\"}],\"scatterpolargl\":[{\"marker\":{\"colorbar\":{\"outlinewidth\":0,\"ticks\":\"\"}},\"type\":\"scatterpolargl\"}],\"scatterternary\":[{\"marker\":{\"colorbar\":{\"outlinewidth\":0,\"ticks\":\"\"}},\"type\":\"scatterternary\"}],\"surface\":[{\"colorbar\":{\"outlinewidth\":0,\"ticks\":\"\"},\"colorscale\":[[0.0,\"#0d0887\"],[0.1111111111111111,\"#46039f\"],[0.2222222222222222,\"#7201a8\"],[0.3333333333333333,\"#9c179e\"],[0.4444444444444444,\"#bd3786\"],[0.5555555555555556,\"#d8576b\"],[0.6666666666666666,\"#ed7953\"],[0.7777777777777778,\"#fb9f3a\"],[0.8888888888888888,\"#fdca26\"],[1.0,\"#f0f921\"]],\"type\":\"surface\"}],\"table\":[{\"cells\":{\"fill\":{\"color\":\"#EBF0F8\"},\"line\":{\"color\":\"white\"}},\"header\":{\"fill\":{\"color\":\"#C8D4E3\"},\"line\":{\"color\":\"white\"}},\"type\":\"table\"}]},\"layout\":{\"annotationdefaults\":{\"arrowcolor\":\"#2a3f5f\",\"arrowhead\":0,\"arrowwidth\":1},\"autotypenumbers\":\"strict\",\"coloraxis\":{\"colorbar\":{\"outlinewidth\":0,\"ticks\":\"\"}},\"colorscale\":{\"diverging\":[[0,\"#8e0152\"],[0.1,\"#c51b7d\"],[0.2,\"#de77ae\"],[0.3,\"#f1b6da\"],[0.4,\"#fde0ef\"],[0.5,\"#f7f7f7\"],[0.6,\"#e6f5d0\"],[0.7,\"#b8e186\"],[0.8,\"#7fbc41\"],[0.9,\"#4d9221\"],[1,\"#276419\"]],\"sequential\":[[0.0,\"#0d0887\"],[0.1111111111111111,\"#46039f\"],[0.2222222222222222,\"#7201a8\"],[0.3333333333333333,\"#9c179e\"],[0.4444444444444444,\"#bd3786\"],[0.5555555555555556,\"#d8576b\"],[0.6666666666666666,\"#ed7953\"],[0.7777777777777778,\"#fb9f3a\"],[0.8888888888888888,\"#fdca26\"],[1.0,\"#f0f921\"]],\"sequentialminus\":[[0.0,\"#0d0887\"],[0.1111111111111111,\"#46039f\"],[0.2222222222222222,\"#7201a8\"],[0.3333333333333333,\"#9c179e\"],[0.4444444444444444,\"#bd3786\"],[0.5555555555555556,\"#d8576b\"],[0.6666666666666666,\"#ed7953\"],[0.7777777777777778,\"#fb9f3a\"],[0.8888888888888888,\"#fdca26\"],[1.0,\"#f0f921\"]]},\"colorway\":[\"#636efa\",\"#EF553B\",\"#00cc96\",\"#ab63fa\",\"#FFA15A\",\"#19d3f3\",\"#FF6692\",\"#B6E880\",\"#FF97FF\",\"#FECB52\"],\"font\":{\"color\":\"#2a3f5f\"},\"geo\":{\"bgcolor\":\"white\",\"lakecolor\":\"white\",\"landcolor\":\"#E5ECF6\",\"showlakes\":true,\"showland\":true,\"subunitcolor\":\"white\"},\"hoverlabel\":{\"align\":\"left\"},\"hovermode\":\"closest\",\"mapbox\":{\"style\":\"light\"},\"paper_bgcolor\":\"white\",\"plot_bgcolor\":\"#E5ECF6\",\"polar\":{\"angularaxis\":{\"gridcolor\":\"white\",\"linecolor\":\"white\",\"ticks\":\"\"},\"bgcolor\":\"#E5ECF6\",\"radialaxis\":{\"gridcolor\":\"white\",\"linecolor\":\"white\",\"ticks\":\"\"}},\"scene\":{\"xaxis\":{\"backgroundcolor\":\"#E5ECF6\",\"gridcolor\":\"white\",\"gridwidth\":2,\"linecolor\":\"white\",\"showbackground\":true,\"ticks\":\"\",\"zerolinecolor\":\"white\"},\"yaxis\":{\"backgroundcolor\":\"#E5ECF6\",\"gridcolor\":\"white\",\"gridwidth\":2,\"linecolor\":\"white\",\"showbackground\":true,\"ticks\":\"\",\"zerolinecolor\":\"white\"},\"zaxis\":{\"backgroundcolor\":\"#E5ECF6\",\"gridcolor\":\"white\",\"gridwidth\":2,\"linecolor\":\"white\",\"showbackground\":true,\"ticks\":\"\",\"zerolinecolor\":\"white\"}},\"shapedefaults\":{\"line\":{\"color\":\"#2a3f5f\"}},\"ternary\":{\"aaxis\":{\"gridcolor\":\"white\",\"linecolor\":\"white\",\"ticks\":\"\"},\"baxis\":{\"gridcolor\":\"white\",\"linecolor\":\"white\",\"ticks\":\"\"},\"bgcolor\":\"#E5ECF6\",\"caxis\":{\"gridcolor\":\"white\",\"linecolor\":\"white\",\"ticks\":\"\"}},\"title\":{\"x\":0.05},\"xaxis\":{\"automargin\":true,\"gridcolor\":\"white\",\"linecolor\":\"white\",\"ticks\":\"\",\"title\":{\"standoff\":15},\"zerolinecolor\":\"white\",\"zerolinewidth\":2},\"yaxis\":{\"automargin\":true,\"gridcolor\":\"white\",\"linecolor\":\"white\",\"ticks\":\"\",\"title\":{\"standoff\":15},\"zerolinecolor\":\"white\",\"zerolinewidth\":2}}},\"width\":900,\"xaxis\":{\"rangeselector\":{\"buttons\":[{\"count\":7,\"label\":\"1w\",\"step\":\"day\",\"stepmode\":\"backward\"},{\"count\":1,\"label\":\"1m\",\"step\":\"month\",\"stepmode\":\"backward\"},{\"count\":6,\"label\":\"6m\",\"step\":\"month\",\"stepmode\":\"backward\"},{\"count\":1,\"label\":\"1y\",\"step\":\"year\",\"stepmode\":\"backward\"},{\"step\":\"all\"}]},\"rangeslider\":{\"visible\":true},\"title\":{\"text\":\"ds\"},\"type\":\"date\"},\"yaxis\":{\"title\":{\"text\":\"y\"}}},                        {\"responsive\": true}                    ).then(function(){\n",
       "                            \n",
       "var gd = document.getElementById('162fc722-2b64-466b-b918-836d681508f5');\n",
       "var x = new MutationObserver(function (mutations, observer) {{\n",
       "        var display = window.getComputedStyle(gd).display;\n",
       "        if (!display || display === 'none') {{\n",
       "            console.log([gd, 'removed!']);\n",
       "            Plotly.purge(gd);\n",
       "            observer.disconnect();\n",
       "        }}\n",
       "}});\n",
       "\n",
       "// Listen for the removal of the full notebook cells\n",
       "var notebookContainer = gd.closest('#notebook-container');\n",
       "if (notebookContainer) {{\n",
       "    x.observe(notebookContainer, {childList: true});\n",
       "}}\n",
       "\n",
       "// Listen for the clearing of the current output cell\n",
       "var outputEl = gd.closest('.output');\n",
       "if (outputEl) {{\n",
       "    x.observe(outputEl, {childList: true});\n",
       "}}\n",
       "\n",
       "                        })                };                });            </script>        </div>"
      ]
     },
     "metadata": {},
     "output_type": "display_data"
    }
   ],
   "source": [
    "plot_plotly(m, forecast)"
   ]
  },
  {
   "cell_type": "markdown",
   "id": "5a00f720-0626-46be-8ff9-1b47035307ea",
   "metadata": {},
   "source": [
    "<h4>Utilização do Components para ver tendências mensais e de dias da semana</h4>"
   ]
  },
  {
   "cell_type": "code",
   "execution_count": 106,
   "id": "2576ddaa-a393-4f12-8c8d-fa43c70a4f2d",
   "metadata": {},
   "outputs": [
    {
     "data": {
      "image/png": "[encoded data removed]",
      "text/plain": [
       "<Figure size 648x432 with 2 Axes>"
      ]
     },
     "metadata": {},
     "output_type": "display_data"
    }
   ],
   "source": [
    "fig2 = m.plot_components(forecast)"
   ]
  },
  {
   "cell_type": "markdown",
   "id": "e79cddd7-cf73-4aee-af6d-91be60b44c26",
   "metadata": {},
   "source": [
    "<b style=\"color:#1e6d06\">Observação:</b> A tendência é claramente de aumento nos casos, como são poucos dias desde o começo, é difícil ter precisão, porém, sabemos que a quantidade continuará aumentando."
   ]
  },
  {
   "cell_type": "markdown",
   "id": "6a41ae7e-ca92-4851-8191-39263909a968",
   "metadata": {},
   "source": [
    "<div id=\"42\"><h3>Previsão de novos casos diários acumulados</h3></div>"
   ]
  },
  {
   "cell_type": "markdown",
   "id": "1624db03-01ce-4b56-befe-cbf2e3a38f2e",
   "metadata": {},
   "source": [
    "<h4>Alteração da coluna y para somatória utilizando .cumsum()</h4>"
   ]
  },
  {
   "cell_type": "code",
   "execution_count": 107,
   "id": "d926fc23-5b3c-4c75-81d9-9e594310c884",
   "metadata": {},
   "outputs": [
    {
     "data": {
      "text/html": [
       "<div>\n",
       "<style scoped>\n",
       "    .dataframe tbody tr th:only-of-type {\n",
       "        vertical-align: middle;\n",
       "    }\n",
       "\n",
       "    .dataframe tbody tr th {\n",
       "        vertical-align: top;\n",
       "    }\n",
       "\n",
       "    .dataframe thead th {\n",
       "        text-align: right;\n",
       "    }\n",
       "</style>\n",
       "<table border=\"1\" class=\"dataframe\">\n",
       "  <thead>\n",
       "    <tr style=\"text-align: right;\">\n",
       "      <th></th>\n",
       "      <th>ds</th>\n",
       "      <th>y</th>\n",
       "    </tr>\n",
       "  </thead>\n",
       "  <tbody>\n",
       "    <tr>\n",
       "      <th>0</th>\n",
       "      <td>2022-06-08</td>\n",
       "      <td>1</td>\n",
       "    </tr>\n",
       "    <tr>\n",
       "      <th>1</th>\n",
       "      <td>2022-06-11</td>\n",
       "      <td>2</td>\n",
       "    </tr>\n",
       "    <tr>\n",
       "      <th>2</th>\n",
       "      <td>2022-06-12</td>\n",
       "      <td>3</td>\n",
       "    </tr>\n",
       "    <tr>\n",
       "      <th>3</th>\n",
       "      <td>2022-06-14</td>\n",
       "      <td>5</td>\n",
       "    </tr>\n",
       "    <tr>\n",
       "      <th>4</th>\n",
       "      <td>2022-06-16</td>\n",
       "      <td>6</td>\n",
       "    </tr>\n",
       "  </tbody>\n",
       "</table>\n",
       "</div>"
      ],
      "text/plain": [
       "          ds  y\n",
       "0 2022-06-08  1\n",
       "1 2022-06-11  2\n",
       "2 2022-06-12  3\n",
       "3 2022-06-14  5\n",
       "4 2022-06-16  6"
      ]
     },
     "execution_count": 107,
     "metadata": {},
     "output_type": "execute_result"
    }
   ],
   "source": [
    "df['y'] = df['y'].cumsum()\n",
    "df.head()"
   ]
  },
  {
   "cell_type": "code",
   "execution_count": 108,
   "id": "788d7ae4-e651-45ff-a079-d5d6eeaa0971",
   "metadata": {},
   "outputs": [
    {
     "name": "stderr",
     "output_type": "stream",
     "text": [
      "13:54:04 - cmdstanpy - INFO - Chain [1] start processing\n",
      "13:54:04 - cmdstanpy - INFO - Chain [1] done processing\n"
     ]
    },
    {
     "data": {
      "text/plain": [
       "<prophet.forecaster.Prophet at 0x7fa786066400>"
      ]
     },
     "execution_count": 108,
     "metadata": {},
     "output_type": "execute_result"
    }
   ],
   "source": [
    "m = Prophet()\n",
    "m.fit(df)"
   ]
  },
  {
   "cell_type": "code",
   "execution_count": 109,
   "id": "55ea47fc-6b7f-4755-a8f3-53921b069f3d",
   "metadata": {},
   "outputs": [],
   "source": [
    "future = m.make_future_dataframe(periods=90)\n",
    "forecast = m.predict(future)"
   ]
  },
  {
   "cell_type": "code",
   "execution_count": 110,
   "id": "59bb8724-c615-46e7-86ab-0557fe6cf0c0",
   "metadata": {},
   "outputs": [
    {
     "data": {
      "application/vnd.plotly.v1+json": {
       "config": {
        "plotlyServerURL": "https://plot.ly"
       },
       "data": [
        {
         "marker": {
          "color": "black",
          "size": 4
         },
         "mode": "markers",
         "name": "Actual",
         "type": "scatter",
         "x": [
          "2022-06-08T00:00:00",
          "2022-06-11T00:00:00",
          "2022-06-12T00:00:00",
          "2022-06-14T00:00:00",
          "2022-06-16T00:00:00",
          "2022-06-17T00:00:00",
          "2022-06-19T00:00:00",
          "2022-06-21T00:00:00",
          "2022-06-22T00:00:00",
          "2022-06-23T00:00:00",
          "2022-06-24T00:00:00",
          "2022-06-25T00:00:00",
          "2022-06-26T00:00:00",
          "2022-06-28T00:00:00",
          "2022-06-29T00:00:00",
          "2022-06-30T00:00:00",
          "2022-07-01T00:00:00",
          "2022-07-02T00:00:00",
          "2022-07-03T00:00:00",
          "2022-07-04T00:00:00",
          "2022-07-05T00:00:00",
          "2022-07-06T00:00:00",
          "2022-07-07T00:00:00",
          "2022-07-08T00:00:00",
          "2022-07-09T00:00:00",
          "2022-07-11T00:00:00",
          "2022-07-12T00:00:00",
          "2022-07-13T00:00:00",
          "2022-07-14T00:00:00",
          "2022-07-19T00:00:00",
          "2022-07-20T00:00:00",
          "2022-07-21T00:00:00",
          "2022-07-22T00:00:00",
          "2022-07-25T00:00:00",
          "2022-07-26T00:00:00",
          "2022-07-27T00:00:00",
          "2022-07-28T00:00:00",
          "2022-07-29T00:00:00",
          "2022-07-30T00:00:00",
          "2022-07-31T00:00:00",
          "2022-08-01T00:00:00",
          "2022-08-02T00:00:00",
          "2022-08-03T00:00:00",
          "2022-08-04T00:00:00",
          "2022-08-05T00:00:00",
          "2022-08-06T00:00:00",
          "2022-08-07T00:00:00",
          "2022-08-08T00:00:00",
          "2022-08-09T00:00:00",
          "2022-08-10T00:00:00",
          "2022-08-12T00:00:00",
          "2022-08-13T00:00:00",
          "2022-08-14T00:00:00",
          "2022-08-15T00:00:00",
          "2022-08-16T00:00:00",
          "2022-08-17T00:00:00",
          "2022-08-18T00:00:00",
          "2022-08-19T00:00:00",
          "2022-08-20T00:00:00",
          "2022-08-21T00:00:00",
          "2022-08-22T00:00:00",
          "2022-08-23T00:00:00",
          "2022-08-24T00:00:00",
          "2022-08-25T00:00:00",
          "2022-08-26T00:00:00",
          "2022-08-29T00:00:00",
          "2022-08-30T00:00:00"
         ],
         "y": [
          1,
          2,
          3,
          5,
          6,
          7,
          8,
          9,
          11,
          16,
          17,
          19,
          20,
          21,
          37,
          49,
          64,
          76,
          78,
          80,
          106,
          142,
          172,
          204,
          218,
          228,
          266,
          308,
          347,
          448,
          591,
          604,
          694,
          809,
          865,
          977,
          1066,
          1259,
          1343,
          1370,
          1475,
          1603,
          1721,
          1860,
          2004,
          2108,
          2131,
          2293,
          2415,
          2458,
          2746,
          2848,
          2893,
          2985,
          3183,
          3359,
          3450,
          3655,
          3755,
          3787,
          3896,
          3984,
          4144,
          4216,
          4472,
          4692,
          4876
         ]
        },
        {
         "hoverinfo": "skip",
         "line": {
          "width": 0
         },
         "mode": "lines",
         "type": "scatter",
         "x": [
          "2022-06-08T00:00:00",
          "2022-06-11T00:00:00",
          "2022-06-12T00:00:00",
          "2022-06-14T00:00:00",
          "2022-06-16T00:00:00",
          "2022-06-17T00:00:00",
          "2022-06-19T00:00:00",
          "2022-06-21T00:00:00",
          "2022-06-22T00:00:00",
          "2022-06-23T00:00:00",
          "2022-06-24T00:00:00",
          "2022-06-25T00:00:00",
          "2022-06-26T00:00:00",
          "2022-06-28T00:00:00",
          "2022-06-29T00:00:00",
          "2022-06-30T00:00:00",
          "2022-07-01T00:00:00",
          "2022-07-02T00:00:00",
          "2022-07-03T00:00:00",
          "2022-07-04T00:00:00",
          "2022-07-05T00:00:00",
          "2022-07-06T00:00:00",
          "2022-07-07T00:00:00",
          "2022-07-08T00:00:00",
          "2022-07-09T00:00:00",
          "2022-07-11T00:00:00",
          "2022-07-12T00:00:00",
          "2022-07-13T00:00:00",
          "2022-07-14T00:00:00",
          "2022-07-19T00:00:00",
          "2022-07-20T00:00:00",
          "2022-07-21T00:00:00",
          "2022-07-22T00:00:00",
          "2022-07-25T00:00:00",
          "2022-07-26T00:00:00",
          "2022-07-27T00:00:00",
          "2022-07-28T00:00:00",
          "2022-07-29T00:00:00",
          "2022-07-30T00:00:00",
          "2022-07-31T00:00:00",
          "2022-08-01T00:00:00",
          "2022-08-02T00:00:00",
          "2022-08-03T00:00:00",
          "2022-08-04T00:00:00",
          "2022-08-05T00:00:00",
          "2022-08-06T00:00:00",
          "2022-08-07T00:00:00",
          "2022-08-08T00:00:00",
          "2022-08-09T00:00:00",
          "2022-08-10T00:00:00",
          "2022-08-12T00:00:00",
          "2022-08-13T00:00:00",
          "2022-08-14T00:00:00",
          "2022-08-15T00:00:00",
          "2022-08-16T00:00:00",
          "2022-08-17T00:00:00",
          "2022-08-18T00:00:00",
          "2022-08-19T00:00:00",
          "2022-08-20T00:00:00",
          "2022-08-21T00:00:00",
          "2022-08-22T00:00:00",
          "2022-08-23T00:00:00",
          "2022-08-24T00:00:00",
          "2022-08-25T00:00:00",
          "2022-08-26T00:00:00",
          "2022-08-29T00:00:00",
          "2022-08-30T00:00:00",
          "2022-08-31T00:00:00",
          "2022-09-01T00:00:00",
          "2022-09-02T00:00:00",
          "2022-09-03T00:00:00",
          "2022-09-04T00:00:00",
          "2022-09-05T00:00:00",
          "2022-09-06T00:00:00",
          "2022-09-07T00:00:00",
          "2022-09-08T00:00:00",
          "2022-09-09T00:00:00",
          "2022-09-10T00:00:00",
          "2022-09-11T00:00:00",
          "2022-09-12T00:00:00",
          "2022-09-13T00:00:00",
          "2022-09-14T00:00:00",
          "2022-09-15T00:00:00",
          "2022-09-16T00:00:00",
          "2022-09-17T00:00:00",
          "2022-09-18T00:00:00",
          "2022-09-19T00:00:00",
          "2022-09-20T00:00:00",
          "2022-09-21T00:00:00",
          "2022-09-22T00:00:00",
          "2022-09-23T00:00:00",
          "2022-09-24T00:00:00",
          "2022-09-25T00:00:00",
          "2022-09-26T00:00:00",
          "2022-09-27T00:00:00",
          "2022-09-28T00:00:00",
          "2022-09-29T00:00:00",
          "2022-09-30T00:00:00",
          "2022-10-01T00:00:00",
          "2022-10-02T00:00:00",
          "2022-10-03T00:00:00",
          "2022-10-04T00:00:00",
          "2022-10-05T00:00:00",
          "2022-10-06T00:00:00",
          "2022-10-07T00:00:00",
          "2022-10-08T00:00:00",
          "2022-10-09T00:00:00",
          "2022-10-10T00:00:00",
          "2022-10-11T00:00:00",
          "2022-10-12T00:00:00",
          "2022-10-13T00:00:00",
          "2022-10-14T00:00:00",
          "2022-10-15T00:00:00",
          "2022-10-16T00:00:00",
          "2022-10-17T00:00:00",
          "2022-10-18T00:00:00",
          "2022-10-19T00:00:00",
          "2022-10-20T00:00:00",
          "2022-10-21T00:00:00",
          "2022-10-22T00:00:00",
          "2022-10-23T00:00:00",
          "2022-10-24T00:00:00",
          "2022-10-25T00:00:00",
          "2022-10-26T00:00:00",
          "2022-10-27T00:00:00",
          "2022-10-28T00:00:00",
          "2022-10-29T00:00:00",
          "2022-10-30T00:00:00",
          "2022-10-31T00:00:00",
          "2022-11-01T00:00:00",
          "2022-11-02T00:00:00",
          "2022-11-03T00:00:00",
          "2022-11-04T00:00:00",
          "2022-11-05T00:00:00",
          "2022-11-06T00:00:00",
          "2022-11-07T00:00:00",
          "2022-11-08T00:00:00",
          "2022-11-09T00:00:00",
          "2022-11-10T00:00:00",
          "2022-11-11T00:00:00",
          "2022-11-12T00:00:00",
          "2022-11-13T00:00:00",
          "2022-11-14T00:00:00",
          "2022-11-15T00:00:00",
          "2022-11-16T00:00:00",
          "2022-11-17T00:00:00",
          "2022-11-18T00:00:00",
          "2022-11-19T00:00:00",
          "2022-11-20T00:00:00",
          "2022-11-21T00:00:00",
          "2022-11-22T00:00:00",
          "2022-11-23T00:00:00",
          "2022-11-24T00:00:00",
          "2022-11-25T00:00:00",
          "2022-11-26T00:00:00",
          "2022-11-27T00:00:00",
          "2022-11-28T00:00:00"
         ],
         "y": [
          -35.201483497777545,
          -9.583981213362103,
          -51.22021408467207,
          -47.51835901327066,
          -30.557720375853613,
          10.810296299205897,
          -43.931602057607485,
          -40.235974501336976,
          -23.057578447489565,
          -25.21786218874559,
          18.72086657165676,
          10.853755785671527,
          -31.422807796563394,
          -15.133779048178015,
          9.326143192626073,
          13.938587495136925,
          61.73901625147048,
          54.74496363539412,
          28.42851447514723,
          32.26646853972863,
          68.28414990784773,
          107.86285456171275,
          126.60464043744696,
          187.08504506967014,
          200.28235535242675,
          190.41277619096414,
          236.5111791909981,
          281.89176394766355,
          306.2394699009842,
          446.051747247694,
          521.8310208444136,
          572.0216672733079,
          671.092735316836,
          766.5343749648075,
          857.5564934875242,
          943.2366338066672,
          1049.5092935632633,
          1200.928416206789,
          1292.443997009339,
          1358.9126184844417,
          1451.232985749991,
          1580.008105975939,
          1708.1387407311986,
          1813.4012061857854,
          1962.237686571528,
          2059.3622064024626,
          2122.0015169280146,
          2214.2802394794016,
          2343.8066256001493,
          2470.174950294067,
          2726.314006232218,
          2832.7540061875743,
          2909.1647446485463,
          3008.6367885493855,
          3150.3286939057602,
          3287.5247060445217,
          3404.437127063969,
          3563.360417700809,
          3670.9477161590203,
          3744.678724620021,
          3848.8373233325206,
          3986.466114462141,
          4126.294311516014,
          4242.283457047051,
          4403.165047724802,
          4685.282121868313,
          4825.894609498077,
          4964.391945577799,
          5077.353213906206,
          5236.821493206228,
          5342.206118503366,
          5411.539452711119,
          5510.255723856521,
          5644.476104427,
          5771.6412752910355,
          5880.306817191235,
          6033.585140448589,
          6122.434891048185,
          6187.59369127055,
          6276.436310150039,
          6407.0728026348515,
          6537.9175843188905,
          6633.136997674109,
          6781.675667202166,
          6875.23862203884,
          6932.04021756488,
          7019.859860990273,
          7144.947980254091,
          7268.041245480156,
          7359.115373980546,
          7509.129410708251,
          7585.359140108591,
          7646.2247959472,
          7726.1924124413235,
          7839.512334385124,
          7961.11520812862,
          8048.63120932579,
          8200.121192197543,
          8282.498912461655,
          8327.76979843044,
          8410.634274797601,
          8540.367801189981,
          8640.705425253998,
          8740.62258868232,
          8879.541989459969,
          8959.05526945724,
          9009.774438121794,
          9106.256414509364,
          9201.511157904115,
          9329.641819390456,
          9426.870174085412,
          9557.857807724044,
          9646.170720670554,
          9672.22774520439,
          9750.003027806646,
          9873.007093309807,
          9966.909962549791,
          10057.871336203147,
          10192.471614847052,
          10271.484088814152,
          10324.686837405481,
          10410.26213681924,
          10521.16595516156,
          10627.39990276623,
          10700.59826589024,
          10840.7195629104,
          10925.911986180963,
          10976.979792389106,
          11045.589666188642,
          11150.249437030416,
          11263.510610387644,
          11341.414357580468,
          11481.63740624428,
          11558.485135644836,
          11579.37157066048,
          11649.955904187396,
          11775.524280682424,
          11879.786095939853,
          11937.876424034685,
          12074.74840931727,
          12136.762241858842,
          12171.603796706293,
          12243.481645275064,
          12327.270683623445,
          12438.327814393499,
          12506.233159720023,
          12627.88965251088,
          12686.376096421163,
          12738.471993420668,
          12791.843683378916,
          12897.529833611301,
          12989.685434096125,
          13054.707221911913,
          13199.138287081143,
          13286.685517631682,
          13333.648917934233,
          13382.302422521145
         ]
        },
        {
         "fill": "tonexty",
         "fillcolor": "rgba(0, 114, 178, 0.2)",
         "line": {
          "color": "#0072B2",
          "width": 2
         },
         "mode": "lines",
         "name": "Predicted",
         "type": "scatter",
         "x": [
          "2022-06-08T00:00:00",
          "2022-06-11T00:00:00",
          "2022-06-12T00:00:00",
          "2022-06-14T00:00:00",
          "2022-06-16T00:00:00",
          "2022-06-17T00:00:00",
          "2022-06-19T00:00:00",
          "2022-06-21T00:00:00",
          "2022-06-22T00:00:00",
          "2022-06-23T00:00:00",
          "2022-06-24T00:00:00",
          "2022-06-25T00:00:00",
          "2022-06-26T00:00:00",
          "2022-06-28T00:00:00",
          "2022-06-29T00:00:00",
          "2022-06-30T00:00:00",
          "2022-07-01T00:00:00",
          "2022-07-02T00:00:00",
          "2022-07-03T00:00:00",
          "2022-07-04T00:00:00",
          "2022-07-05T00:00:00",
          "2022-07-06T00:00:00",
          "2022-07-07T00:00:00",
          "2022-07-08T00:00:00",
          "2022-07-09T00:00:00",
          "2022-07-11T00:00:00",
          "2022-07-12T00:00:00",
          "2022-07-13T00:00:00",
          "2022-07-14T00:00:00",
          "2022-07-19T00:00:00",
          "2022-07-20T00:00:00",
          "2022-07-21T00:00:00",
          "2022-07-22T00:00:00",
          "2022-07-25T00:00:00",
          "2022-07-26T00:00:00",
          "2022-07-27T00:00:00",
          "2022-07-28T00:00:00",
          "2022-07-29T00:00:00",
          "2022-07-30T00:00:00",
          "2022-07-31T00:00:00",
          "2022-08-01T00:00:00",
          "2022-08-02T00:00:00",
          "2022-08-03T00:00:00",
          "2022-08-04T00:00:00",
          "2022-08-05T00:00:00",
          "2022-08-06T00:00:00",
          "2022-08-07T00:00:00",
          "2022-08-08T00:00:00",
          "2022-08-09T00:00:00",
          "2022-08-10T00:00:00",
          "2022-08-12T00:00:00",
          "2022-08-13T00:00:00",
          "2022-08-14T00:00:00",
          "2022-08-15T00:00:00",
          "2022-08-16T00:00:00",
          "2022-08-17T00:00:00",
          "2022-08-18T00:00:00",
          "2022-08-19T00:00:00",
          "2022-08-20T00:00:00",
          "2022-08-21T00:00:00",
          "2022-08-22T00:00:00",
          "2022-08-23T00:00:00",
          "2022-08-24T00:00:00",
          "2022-08-25T00:00:00",
          "2022-08-26T00:00:00",
          "2022-08-29T00:00:00",
          "2022-08-30T00:00:00",
          "2022-08-31T00:00:00",
          "2022-09-01T00:00:00",
          "2022-09-02T00:00:00",
          "2022-09-03T00:00:00",
          "2022-09-04T00:00:00",
          "2022-09-05T00:00:00",
          "2022-09-06T00:00:00",
          "2022-09-07T00:00:00",
          "2022-09-08T00:00:00",
          "2022-09-09T00:00:00",
          "2022-09-10T00:00:00",
          "2022-09-11T00:00:00",
          "2022-09-12T00:00:00",
          "2022-09-13T00:00:00",
          "2022-09-14T00:00:00",
          "2022-09-15T00:00:00",
          "2022-09-16T00:00:00",
          "2022-09-17T00:00:00",
          "2022-09-18T00:00:00",
          "2022-09-19T00:00:00",
          "2022-09-20T00:00:00",
          "2022-09-21T00:00:00",
          "2022-09-22T00:00:00",
          "2022-09-23T00:00:00",
          "2022-09-24T00:00:00",
          "2022-09-25T00:00:00",
          "2022-09-26T00:00:00",
          "2022-09-27T00:00:00",
          "2022-09-28T00:00:00",
          "2022-09-29T00:00:00",
          "2022-09-30T00:00:00",
          "2022-10-01T00:00:00",
          "2022-10-02T00:00:00",
          "2022-10-03T00:00:00",
          "2022-10-04T00:00:00",
          "2022-10-05T00:00:00",
          "2022-10-06T00:00:00",
          "2022-10-07T00:00:00",
          "2022-10-08T00:00:00",
          "2022-10-09T00:00:00",
          "2022-10-10T00:00:00",
          "2022-10-11T00:00:00",
          "2022-10-12T00:00:00",
          "2022-10-13T00:00:00",
          "2022-10-14T00:00:00",
          "2022-10-15T00:00:00",
          "2022-10-16T00:00:00",
          "2022-10-17T00:00:00",
          "2022-10-18T00:00:00",
          "2022-10-19T00:00:00",
          "2022-10-20T00:00:00",
          "2022-10-21T00:00:00",
          "2022-10-22T00:00:00",
          "2022-10-23T00:00:00",
          "2022-10-24T00:00:00",
          "2022-10-25T00:00:00",
          "2022-10-26T00:00:00",
          "2022-10-27T00:00:00",
          "2022-10-28T00:00:00",
          "2022-10-29T00:00:00",
          "2022-10-30T00:00:00",
          "2022-10-31T00:00:00",
          "2022-11-01T00:00:00",
          "2022-11-02T00:00:00",
          "2022-11-03T00:00:00",
          "2022-11-04T00:00:00",
          "2022-11-05T00:00:00",
          "2022-11-06T00:00:00",
          "2022-11-07T00:00:00",
          "2022-11-08T00:00:00",
          "2022-11-09T00:00:00",
          "2022-11-10T00:00:00",
          "2022-11-11T00:00:00",
          "2022-11-12T00:00:00",
          "2022-11-13T00:00:00",
          "2022-11-14T00:00:00",
          "2022-11-15T00:00:00",
          "2022-11-16T00:00:00",
          "2022-11-17T00:00:00",
          "2022-11-18T00:00:00",
          "2022-11-19T00:00:00",
          "2022-11-20T00:00:00",
          "2022-11-21T00:00:00",
          "2022-11-22T00:00:00",
          "2022-11-23T00:00:00",
          "2022-11-24T00:00:00",
          "2022-11-25T00:00:00",
          "2022-11-26T00:00:00",
          "2022-11-27T00:00:00",
          "2022-11-28T00:00:00"
         ],
         "y": [
          -2.7612880126043886,
          24.28321988949544,
          -20.252788507683615,
          -14.85894901936474,
          0.6510254732010081,
          43.07814351517313,
          -13.85604131883891,
          -8.462201788863911,
          10.03220695064886,
          7.066894831328597,
          49.51313501352019,
          42.26873209458858,
          2.886496937044285,
          18.615959006339438,
          42.27817901546894,
          44.46155607986047,
          92.09890435481591,
          84.91095828997157,
          59.46186475756623,
          63.34512886031548,
          103.05876845044156,
          140.66932640314607,
          156.83862279927862,
          218.41947149707545,
          231.49232445741663,
          222.69472353611508,
          268.7850288498859,
          312.7722525261178,
          339.19277730106114,
          477.10434510289224,
          551.6266140755951,
          604.6700401035637,
          703.1371201950844,
          799.1191706085016,
          888.2938764263848,
          975.3655006068626,
          1080.5455858908374,
          1231.1372234763514,
          1326.9405486561006,
          1390.6060415970137,
          1483.603892173279,
          1612.4299074701978,
          1739.1528411297193,
          1844.4001933187253,
          1995.0590978092334,
          2090.892708013898,
          2154.5884859799216,
          2247.6166226956384,
          2376.445900635104,
          2503.172097149966,
          2759.0783565918055,
          2865.3811513528103,
          2939.546113875145,
          3043.0674714788606,
          3182.389970306381,
          3319.6093874964477,
          3435.349961741823,
          3596.502088288753,
          3702.8289204960224,
          3777.0179204646383,
          3880.5392780683633,
          4019.8617768958775,
          4157.081194086029,
          4272.821768331421,
          4433.973894878366,
          4718.011084657963,
          4857.333583485467,
          4994.553000675594,
          5110.293574921018,
          5271.44570146798,
          5377.772533675294,
          5451.961533643755,
          5555.482891247562,
          5694.805390075088,
          5832.024807265196,
          5947.7653815105205,
          6108.917508057553,
          6215.244340264855,
          6289.43334023329,
          6392.954697837161,
          6532.277196664647,
          6669.496613854767,
          6785.237188100117,
          6946.389314647168,
          7052.716146854381,
          7126.905146823013,
          7230.426504426664,
          7369.749003254268,
          7506.968420444349,
          7622.708994689713,
          7783.861121236761,
          7890.187953443976,
          7964.37695341259,
          8067.898311016304,
          8207.22080984389,
          8344.440227033932,
          8460.180801279312,
          8621.332927826254,
          8727.6597600335,
          8801.848760002085,
          8905.370117605864,
          9044.692616433478,
          9181.912033623523,
          9297.652607868908,
          9458.804734415846,
          9565.131566623028,
          9639.320566591665,
          9742.841924195458,
          9882.164423022976,
          10019.383840213086,
          10135.124414458502,
          10296.276541005458,
          10402.603373212773,
          10476.792373181383,
          10580.31373078506,
          10719.636229612564,
          10856.855646802684,
          10972.5962210481,
          11133.748347595054,
          11240.075179802294,
          11314.264179770962,
          11417.78553737466,
          11557.108036202184,
          11694.32745339225,
          11810.068027637604,
          11971.220154184644,
          12077.546986391857,
          12151.73598636046,
          12255.257343964215,
          12394.579842791649,
          12531.799259981817,
          12647.5398342272,
          12808.69196077424,
          12915.018792981418,
          12989.207792950036,
          13092.72915055376,
          13232.051649381272,
          13369.271066571397,
          13485.011640816798,
          13646.163767363854,
          13752.490599571127,
          13826.679599539615,
          13930.200957143363,
          14069.523455970857,
          14206.742873160982,
          14322.483447406395,
          14483.635573953325,
          14589.962406160654,
          14664.151406129111,
          14767.672763732957,
          14906.99526256045,
          15044.214679750567,
          15159.955253995988,
          15321.10738054294,
          15427.434212750213,
          15501.623212718687,
          15605.144570322462
         ]
        },
        {
         "fill": "tonexty",
         "fillcolor": "rgba(0, 114, 178, 0.2)",
         "hoverinfo": "skip",
         "line": {
          "width": 0
         },
         "mode": "lines",
         "type": "scatter",
         "x": [
          "2022-06-08T00:00:00",
          "2022-06-11T00:00:00",
          "2022-06-12T00:00:00",
          "2022-06-14T00:00:00",
          "2022-06-16T00:00:00",
          "2022-06-17T00:00:00",
          "2022-06-19T00:00:00",
          "2022-06-21T00:00:00",
          "2022-06-22T00:00:00",
          "2022-06-23T00:00:00",
          "2022-06-24T00:00:00",
          "2022-06-25T00:00:00",
          "2022-06-26T00:00:00",
          "2022-06-28T00:00:00",
          "2022-06-29T00:00:00",
          "2022-06-30T00:00:00",
          "2022-07-01T00:00:00",
          "2022-07-02T00:00:00",
          "2022-07-03T00:00:00",
          "2022-07-04T00:00:00",
          "2022-07-05T00:00:00",
          "2022-07-06T00:00:00",
          "2022-07-07T00:00:00",
          "2022-07-08T00:00:00",
          "2022-07-09T00:00:00",
          "2022-07-11T00:00:00",
          "2022-07-12T00:00:00",
          "2022-07-13T00:00:00",
          "2022-07-14T00:00:00",
          "2022-07-19T00:00:00",
          "2022-07-20T00:00:00",
          "2022-07-21T00:00:00",
          "2022-07-22T00:00:00",
          "2022-07-25T00:00:00",
          "2022-07-26T00:00:00",
          "2022-07-27T00:00:00",
          "2022-07-28T00:00:00",
          "2022-07-29T00:00:00",
          "2022-07-30T00:00:00",
          "2022-07-31T00:00:00",
          "2022-08-01T00:00:00",
          "2022-08-02T00:00:00",
          "2022-08-03T00:00:00",
          "2022-08-04T00:00:00",
          "2022-08-05T00:00:00",
          "2022-08-06T00:00:00",
          "2022-08-07T00:00:00",
          "2022-08-08T00:00:00",
          "2022-08-09T00:00:00",
          "2022-08-10T00:00:00",
          "2022-08-12T00:00:00",
          "2022-08-13T00:00:00",
          "2022-08-14T00:00:00",
          "2022-08-15T00:00:00",
          "2022-08-16T00:00:00",
          "2022-08-17T00:00:00",
          "2022-08-18T00:00:00",
          "2022-08-19T00:00:00",
          "2022-08-20T00:00:00",
          "2022-08-21T00:00:00",
          "2022-08-22T00:00:00",
          "2022-08-23T00:00:00",
          "2022-08-24T00:00:00",
          "2022-08-25T00:00:00",
          "2022-08-26T00:00:00",
          "2022-08-29T00:00:00",
          "2022-08-30T00:00:00",
          "2022-08-31T00:00:00",
          "2022-09-01T00:00:00",
          "2022-09-02T00:00:00",
          "2022-09-03T00:00:00",
          "2022-09-04T00:00:00",
          "2022-09-05T00:00:00",
          "2022-09-06T00:00:00",
          "2022-09-07T00:00:00",
          "2022-09-08T00:00:00",
          "2022-09-09T00:00:00",
          "2022-09-10T00:00:00",
          "2022-09-11T00:00:00",
          "2022-09-12T00:00:00",
          "2022-09-13T00:00:00",
          "2022-09-14T00:00:00",
          "2022-09-15T00:00:00",
          "2022-09-16T00:00:00",
          "2022-09-17T00:00:00",
          "2022-09-18T00:00:00",
          "2022-09-19T00:00:00",
          "2022-09-20T00:00:00",
          "2022-09-21T00:00:00",
          "2022-09-22T00:00:00",
          "2022-09-23T00:00:00",
          "2022-09-24T00:00:00",
          "2022-09-25T00:00:00",
          "2022-09-26T00:00:00",
          "2022-09-27T00:00:00",
          "2022-09-28T00:00:00",
          "2022-09-29T00:00:00",
          "2022-09-30T00:00:00",
          "2022-10-01T00:00:00",
          "2022-10-02T00:00:00",
          "2022-10-03T00:00:00",
          "2022-10-04T00:00:00",
          "2022-10-05T00:00:00",
          "2022-10-06T00:00:00",
          "2022-10-07T00:00:00",
          "2022-10-08T00:00:00",
          "2022-10-09T00:00:00",
          "2022-10-10T00:00:00",
          "2022-10-11T00:00:00",
          "2022-10-12T00:00:00",
          "2022-10-13T00:00:00",
          "2022-10-14T00:00:00",
          "2022-10-15T00:00:00",
          "2022-10-16T00:00:00",
          "2022-10-17T00:00:00",
          "2022-10-18T00:00:00",
          "2022-10-19T00:00:00",
          "2022-10-20T00:00:00",
          "2022-10-21T00:00:00",
          "2022-10-22T00:00:00",
          "2022-10-23T00:00:00",
          "2022-10-24T00:00:00",
          "2022-10-25T00:00:00",
          "2022-10-26T00:00:00",
          "2022-10-27T00:00:00",
          "2022-10-28T00:00:00",
          "2022-10-29T00:00:00",
          "2022-10-30T00:00:00",
          "2022-10-31T00:00:00",
          "2022-11-01T00:00:00",
          "2022-11-02T00:00:00",
          "2022-11-03T00:00:00",
          "2022-11-04T00:00:00",
          "2022-11-05T00:00:00",
          "2022-11-06T00:00:00",
          "2022-11-07T00:00:00",
          "2022-11-08T00:00:00",
          "2022-11-09T00:00:00",
          "2022-11-10T00:00:00",
          "2022-11-11T00:00:00",
          "2022-11-12T00:00:00",
          "2022-11-13T00:00:00",
          "2022-11-14T00:00:00",
          "2022-11-15T00:00:00",
          "2022-11-16T00:00:00",
          "2022-11-17T00:00:00",
          "2022-11-18T00:00:00",
          "2022-11-19T00:00:00",
          "2022-11-20T00:00:00",
          "2022-11-21T00:00:00",
          "2022-11-22T00:00:00",
          "2022-11-23T00:00:00",
          "2022-11-24T00:00:00",
          "2022-11-25T00:00:00",
          "2022-11-26T00:00:00",
          "2022-11-27T00:00:00",
          "2022-11-28T00:00:00"
         ],
         "y": [
          30.19718667702838,
          55.058415503526305,
          12.281299888880564,
          15.243165923296116,
          32.745923634349566,
          73.43016113379595,
          17.6806582670349,
          23.691656831825323,
          42.39886544596928,
          35.74428229626535,
          84.2474995256919,
          74.16665566785721,
          36.04076206248315,
          51.16561825510854,
          76.00485539873391,
          75.15045730594171,
          126.25683751650402,
          117.49440943284367,
          88.41988994633554,
          94.22724014478028,
          135.12299778951657,
          171.22382597843583,
          187.91638480055596,
          250.83345064989967,
          262.27179334170756,
          251.10530399226246,
          300.73941026677494,
          346.51527156571257,
          369.21228155773304,
          510.3696093877863,
          585.7076242625828,
          638.1583125807114,
          735.4203832268458,
          833.6202606048298,
          921.1774043716375,
          1006.2184053048937,
          1111.2384247498214,
          1262.8000244381205,
          1358.4232811166942,
          1422.5497231805984,
          1518.683861842179,
          1646.3507603130015,
          1771.1838265918839,
          1876.040408102486,
          2026.7695729735988,
          2121.8434156598164,
          2185.846667138505,
          2280.531360140444,
          2409.281040621745,
          2535.97630671854,
          2792.589208139536,
          2898.514527429566,
          2973.286171719227,
          3074.9126874524413,
          3215.2054908347372,
          3351.025287383065,
          3466.9002211097354,
          3627.046173114196,
          3733.5560032025624,
          3809.321108041835,
          3912.1061379804814,
          4052.145873601623,
          4188.357156481007,
          4304.624236835845,
          4467.055232588718,
          4748.8396951430595,
          4886.783046592655,
          5028.472517076766,
          5143.948491602815,
          5307.979676667929,
          5413.304428298709,
          5496.251961602008,
          5605.51732237687,
          5753.616768589758,
          5904.134198858599,
          6028.355538355984,
          6207.053126691762,
          6316.748835592916,
          6413.9577172629415,
          6531.407984241378,
          6692.840413805645,
          6832.323762888033,
          6966.527623709258,
          7146.189577332952,
          7274.93517853461,
          7369.762629718686,
          7487.639237979639,
          7643.405872465176,
          7799.597732647294,
          7947.198193545385,
          8115.907149182512,
          8262.37304706473,
          8335.708753871317,
          8461.565282774995,
          8645.997995396187,
          8799.670082080362,
          8943.04848215632,
          9119.2370284561,
          9245.52672218376,
          9341.297506816101,
          9473.27690051381,
          9638.734754718529,
          9792.777313538329,
          9953.493278074642,
          10132.323035588302,
          10265.62023507968,
          10361.674231398876,
          10505.093816352695,
          10657.9797892533,
          10822.763996000434,
          10974.251895162493,
          11180.276200133401,
          11307.76395230626,
          11419.998149601355,
          11557.709600107506,
          11709.706968571463,
          11899.237200028936,
          12056.329784761814,
          12235.155631419282,
          12371.33709612267,
          12470.04064377355,
          12602.696811180045,
          12766.571197393583,
          12935.438319028195,
          13073.867850923572,
          13274.04384954979,
          13407.204275858414,
          13483.72746679156,
          13633.609271336525,
          13811.03487467092,
          13981.15559274693,
          14103.464497344772,
          14308.43617904266,
          14450.297159898108,
          14561.509681996715,
          14696.411082232733,
          14877.965383403278,
          15038.78604976633,
          15194.74691650775,
          15378.48377315208,
          15512.12897352829,
          15640.285214525124,
          15792.331393362314,
          15979.548417940172,
          16159.161504730164,
          16310.074837574406,
          16485.547970566877,
          16639.512512745903,
          16749.31314917273,
          16868.505359419578,
          17036.035919969236,
          17206.852074317678,
          17368.645549913457,
          17555.625298942545,
          17713.46263031888,
          17805.495675891914,
          17971.892341776296
         ]
        }
       ],
       "layout": {
        "height": 600,
        "showlegend": false,
        "template": {
         "data": {
          "bar": [
           {
            "error_x": {
             "color": "#2a3f5f"
            },
            "error_y": {
             "color": "#2a3f5f"
            },
            "marker": {
             "line": {
              "color": "#E5ECF6",
              "width": 0.5
             },
             "pattern": {
              "fillmode": "overlay",
              "size": 10,
              "solidity": 0.2
             }
            },
            "type": "bar"
           }
          ],
          "barpolar": [
           {
            "marker": {
             "line": {
              "color": "#E5ECF6",
              "width": 0.5
             },
             "pattern": {
              "fillmode": "overlay",
              "size": 10,
              "solidity": 0.2
             }
            },
            "type": "barpolar"
           }
          ],
          "carpet": [
           {
            "aaxis": {
             "endlinecolor": "#2a3f5f",
             "gridcolor": "white",
             "linecolor": "white",
             "minorgridcolor": "white",
             "startlinecolor": "#2a3f5f"
            },
            "baxis": {
             "endlinecolor": "#2a3f5f",
             "gridcolor": "white",
             "linecolor": "white",
             "minorgridcolor": "white",
             "startlinecolor": "#2a3f5f"
            },
            "type": "carpet"
           }
          ],
          "choropleth": [
           {
            "colorbar": {
             "outlinewidth": 0,
             "ticks": ""
            },
            "type": "choropleth"
           }
          ],
          "contour": [
           {
            "colorbar": {
             "outlinewidth": 0,
             "ticks": ""
            },
            "colorscale": [
             [
              0,
              "#0d0887"
             ],
             [
              0.1111111111111111,
              "#46039f"
             ],
             [
              0.2222222222222222,
              "#7201a8"
             ],
             [
              0.3333333333333333,
              "#9c179e"
             ],
             [
              0.4444444444444444,
              "#bd3786"
             ],
             [
              0.5555555555555556,
              "#d8576b"
             ],
             [
              0.6666666666666666,
              "#ed7953"
             ],
             [
              0.7777777777777778,
              "#fb9f3a"
             ],
             [
              0.8888888888888888,
              "#fdca26"
             ],
             [
              1,
              "#f0f921"
             ]
            ],
            "type": "contour"
           }
          ],
          "contourcarpet": [
           {
            "colorbar": {
             "outlinewidth": 0,
             "ticks": ""
            },
            "type": "contourcarpet"
           }
          ],
          "heatmap": [
           {
            "colorbar": {
             "outlinewidth": 0,
             "ticks": ""
            },
            "colorscale": [
             [
              0,
              "#0d0887"
             ],
             [
              0.1111111111111111,
              "#46039f"
             ],
             [
              0.2222222222222222,
              "#7201a8"
             ],
             [
              0.3333333333333333,
              "#9c179e"
             ],
             [
              0.4444444444444444,
              "#bd3786"
             ],
             [
              0.5555555555555556,
              "#d8576b"
             ],
             [
              0.6666666666666666,
              "#ed7953"
             ],
             [
              0.7777777777777778,
              "#fb9f3a"
             ],
             [
              0.8888888888888888,
              "#fdca26"
             ],
             [
              1,
              "#f0f921"
             ]
            ],
            "type": "heatmap"
           }
          ],
          "heatmapgl": [
           {
            "colorbar": {
             "outlinewidth": 0,
             "ticks": ""
            },
            "colorscale": [
             [
              0,
              "#0d0887"
             ],
             [
              0.1111111111111111,
              "#46039f"
             ],
             [
              0.2222222222222222,
              "#7201a8"
             ],
             [
              0.3333333333333333,
              "#9c179e"
             ],
             [
              0.4444444444444444,
              "#bd3786"
             ],
             [
              0.5555555555555556,
              "#d8576b"
             ],
             [
              0.6666666666666666,
              "#ed7953"
             ],
             [
              0.7777777777777778,
              "#fb9f3a"
             ],
             [
              0.8888888888888888,
              "#fdca26"
             ],
             [
              1,
              "#f0f921"
             ]
            ],
            "type": "heatmapgl"
           }
          ],
          "histogram": [
           {
            "marker": {
             "pattern": {
              "fillmode": "overlay",
              "size": 10,
              "solidity": 0.2
             }
            },
            "type": "histogram"
           }
          ],
          "histogram2d": [
           {
            "colorbar": {
             "outlinewidth": 0,
             "ticks": ""
            },
            "colorscale": [
             [
              0,
              "#0d0887"
             ],
             [
              0.1111111111111111,
              "#46039f"
             ],
             [
              0.2222222222222222,
              "#7201a8"
             ],
             [
              0.3333333333333333,
              "#9c179e"
             ],
             [
              0.4444444444444444,
              "#bd3786"
             ],
             [
              0.5555555555555556,
              "#d8576b"
             ],
             [
              0.6666666666666666,
              "#ed7953"
             ],
             [
              0.7777777777777778,
              "#fb9f3a"
             ],
             [
              0.8888888888888888,
              "#fdca26"
             ],
             [
              1,
              "#f0f921"
             ]
            ],
            "type": "histogram2d"
           }
          ],
          "histogram2dcontour": [
           {
            "colorbar": {
             "outlinewidth": 0,
             "ticks": ""
            },
            "colorscale": [
             [
              0,
              "#0d0887"
             ],
             [
              0.1111111111111111,
              "#46039f"
             ],
             [
              0.2222222222222222,
              "#7201a8"
             ],
             [
              0.3333333333333333,
              "#9c179e"
             ],
             [
              0.4444444444444444,
              "#bd3786"
             ],
             [
              0.5555555555555556,
              "#d8576b"
             ],
             [
              0.6666666666666666,
              "#ed7953"
             ],
             [
              0.7777777777777778,
              "#fb9f3a"
             ],
             [
              0.8888888888888888,
              "#fdca26"
             ],
             [
              1,
              "#f0f921"
             ]
            ],
            "type": "histogram2dcontour"
           }
          ],
          "mesh3d": [
           {
            "colorbar": {
             "outlinewidth": 0,
             "ticks": ""
            },
            "type": "mesh3d"
           }
          ],
          "parcoords": [
           {
            "line": {
             "colorbar": {
              "outlinewidth": 0,
              "ticks": ""
             }
            },
            "type": "parcoords"
           }
          ],
          "pie": [
           {
            "automargin": true,
            "type": "pie"
           }
          ],
          "scatter": [
           {
            "marker": {
             "colorbar": {
              "outlinewidth": 0,
              "ticks": ""
             }
            },
            "type": "scatter"
           }
          ],
          "scatter3d": [
           {
            "line": {
             "colorbar": {
              "outlinewidth": 0,
              "ticks": ""
             }
            },
            "marker": {
             "colorbar": {
              "outlinewidth": 0,
              "ticks": ""
             }
            },
            "type": "scatter3d"
           }
          ],
          "scattercarpet": [
           {
            "marker": {
             "colorbar": {
              "outlinewidth": 0,
              "ticks": ""
             }
            },
            "type": "scattercarpet"
           }
          ],
          "scattergeo": [
           {
            "marker": {
             "colorbar": {
              "outlinewidth": 0,
              "ticks": ""
             }
            },
            "type": "scattergeo"
           }
          ],
          "scattergl": [
           {
            "marker": {
             "colorbar": {
              "outlinewidth": 0,
              "ticks": ""
             }
            },
            "type": "scattergl"
           }
          ],
          "scattermapbox": [
           {
            "marker": {
             "colorbar": {
              "outlinewidth": 0,
              "ticks": ""
             }
            },
            "type": "scattermapbox"
           }
          ],
          "scatterpolar": [
           {
            "marker": {
             "colorbar": {
              "outlinewidth": 0,
              "ticks": ""
             }
            },
            "type": "scatterpolar"
           }
          ],
          "scatterpolargl": [
           {
            "marker": {
             "colorbar": {
              "outlinewidth": 0,
              "ticks": ""
             }
            },
            "type": "scatterpolargl"
           }
          ],
          "scatterternary": [
           {
            "marker": {
             "colorbar": {
              "outlinewidth": 0,
              "ticks": ""
             }
            },
            "type": "scatterternary"
           }
          ],
          "surface": [
           {
            "colorbar": {
             "outlinewidth": 0,
             "ticks": ""
            },
            "colorscale": [
             [
              0,
              "#0d0887"
             ],
             [
              0.1111111111111111,
              "#46039f"
             ],
             [
              0.2222222222222222,
              "#7201a8"
             ],
             [
              0.3333333333333333,
              "#9c179e"
             ],
             [
              0.4444444444444444,
              "#bd3786"
             ],
             [
              0.5555555555555556,
              "#d8576b"
             ],
             [
              0.6666666666666666,
              "#ed7953"
             ],
             [
              0.7777777777777778,
              "#fb9f3a"
             ],
             [
              0.8888888888888888,
              "#fdca26"
             ],
             [
              1,
              "#f0f921"
             ]
            ],
            "type": "surface"
           }
          ],
          "table": [
           {
            "cells": {
             "fill": {
              "color": "#EBF0F8"
             },
             "line": {
              "color": "white"
             }
            },
            "header": {
             "fill": {
              "color": "#C8D4E3"
             },
             "line": {
              "color": "white"
             }
            },
            "type": "table"
           }
          ]
         },
         "layout": {
          "annotationdefaults": {
           "arrowcolor": "#2a3f5f",
           "arrowhead": 0,
           "arrowwidth": 1
          },
          "autotypenumbers": "strict",
          "coloraxis": {
           "colorbar": {
            "outlinewidth": 0,
            "ticks": ""
           }
          },
          "colorscale": {
           "diverging": [
            [
             0,
             "#8e0152"
            ],
            [
             0.1,
             "#c51b7d"
            ],
            [
             0.2,
             "#de77ae"
            ],
            [
             0.3,
             "#f1b6da"
            ],
            [
             0.4,
             "#fde0ef"
            ],
            [
             0.5,
             "#f7f7f7"
            ],
            [
             0.6,
             "#e6f5d0"
            ],
            [
             0.7,
             "#b8e186"
            ],
            [
             0.8,
             "#7fbc41"
            ],
            [
             0.9,
             "#4d9221"
            ],
            [
             1,
             "#276419"
            ]
           ],
           "sequential": [
            [
             0,
             "#0d0887"
            ],
            [
             0.1111111111111111,
             "#46039f"
            ],
            [
             0.2222222222222222,
             "#7201a8"
            ],
            [
             0.3333333333333333,
             "#9c179e"
            ],
            [
             0.4444444444444444,
             "#bd3786"
            ],
            [
             0.5555555555555556,
             "#d8576b"
            ],
            [
             0.6666666666666666,
             "#ed7953"
            ],
            [
             0.7777777777777778,
             "#fb9f3a"
            ],
            [
             0.8888888888888888,
             "#fdca26"
            ],
            [
             1,
             "#f0f921"
            ]
           ],
           "sequentialminus": [
            [
             0,
             "#0d0887"
            ],
            [
             0.1111111111111111,
             "#46039f"
            ],
            [
             0.2222222222222222,
             "#7201a8"
            ],
            [
             0.3333333333333333,
             "#9c179e"
            ],
            [
             0.4444444444444444,
             "#bd3786"
            ],
            [
             0.5555555555555556,
             "#d8576b"
            ],
            [
             0.6666666666666666,
             "#ed7953"
            ],
            [
             0.7777777777777778,
             "#fb9f3a"
            ],
            [
             0.8888888888888888,
             "#fdca26"
            ],
            [
             1,
             "#f0f921"
            ]
           ]
          },
          "colorway": [
           "#636efa",
           "#EF553B",
           "#00cc96",
           "#ab63fa",
           "#FFA15A",
           "#19d3f3",
           "#FF6692",
           "#B6E880",
           "#FF97FF",
           "#FECB52"
          ],
          "font": {
           "color": "#2a3f5f"
          },
          "geo": {
           "bgcolor": "white",
           "lakecolor": "white",
           "landcolor": "#E5ECF6",
           "showlakes": true,
           "showland": true,
           "subunitcolor": "white"
          },
          "hoverlabel": {
           "align": "left"
          },
          "hovermode": "closest",
          "mapbox": {
           "style": "light"
          },
          "paper_bgcolor": "white",
          "plot_bgcolor": "#E5ECF6",
          "polar": {
           "angularaxis": {
            "gridcolor": "white",
            "linecolor": "white",
            "ticks": ""
           },
           "bgcolor": "#E5ECF6",
           "radialaxis": {
            "gridcolor": "white",
            "linecolor": "white",
            "ticks": ""
           }
          },
          "scene": {
           "xaxis": {
            "backgroundcolor": "#E5ECF6",
            "gridcolor": "white",
            "gridwidth": 2,
            "linecolor": "white",
            "showbackground": true,
            "ticks": "",
            "zerolinecolor": "white"
           },
           "yaxis": {
            "backgroundcolor": "#E5ECF6",
            "gridcolor": "white",
            "gridwidth": 2,
            "linecolor": "white",
            "showbackground": true,
            "ticks": "",
            "zerolinecolor": "white"
           },
           "zaxis": {
            "backgroundcolor": "#E5ECF6",
            "gridcolor": "white",
            "gridwidth": 2,
            "linecolor": "white",
            "showbackground": true,
            "ticks": "",
            "zerolinecolor": "white"
           }
          },
          "shapedefaults": {
           "line": {
            "color": "#2a3f5f"
           }
          },
          "ternary": {
           "aaxis": {
            "gridcolor": "white",
            "linecolor": "white",
            "ticks": ""
           },
           "baxis": {
            "gridcolor": "white",
            "linecolor": "white",
            "ticks": ""
           },
           "bgcolor": "#E5ECF6",
           "caxis": {
            "gridcolor": "white",
            "linecolor": "white",
            "ticks": ""
           }
          },
          "title": {
           "x": 0.05
          },
          "xaxis": {
           "automargin": true,
           "gridcolor": "white",
           "linecolor": "white",
           "ticks": "",
           "title": {
            "standoff": 15
           },
           "zerolinecolor": "white",
           "zerolinewidth": 2
          },
          "yaxis": {
           "automargin": true,
           "gridcolor": "white",
           "linecolor": "white",
           "ticks": "",
           "title": {
            "standoff": 15
           },
           "zerolinecolor": "white",
           "zerolinewidth": 2
          }
         }
        },
        "width": 900,
        "xaxis": {
         "autorange": true,
         "range": [
          "2022-05-29 02:44:34.2857",
          "2022-11-28"
         ],
         "rangeselector": {
          "buttons": [
           {
            "count": 7,
            "label": "1w",
            "step": "day",
            "stepmode": "backward"
           },
           {
            "count": 1,
            "label": "1m",
            "step": "month",
            "stepmode": "backward"
           },
           {
            "count": 6,
            "label": "6m",
            "step": "month",
            "stepmode": "backward"
           },
           {
            "count": 1,
            "label": "1y",
            "step": "year",
            "stepmode": "backward"
           },
           {
            "step": "all"
           }
          ]
         },
         "rangeslider": {
          "autorange": true,
          "range": [
           "2022-05-29 02:44:34.2857",
           "2022-11-28"
          ],
          "visible": true,
          "yaxis": {
           "_template": null,
           "rangemode": "match"
          }
         },
         "title": {
          "text": "ds"
         },
         "type": "date"
        },
        "yaxis": {
         "autorange": true,
         "range": [
          -1193.3464951662622,
          18980.58912266801
         ],
         "title": {
          "text": "y"
         },
         "type": "linear"
        }
       }
      },
      "image/png": "[encoded data removed]",
      "text/html": [
       "<div>                            <div id=\"8af7f1ba-9070-4f0b-9fde-d62e41d03c9d\" class=\"plotly-graph-div\" style=\"height:600px; width:900px;\"></div>            <script type=\"text/javascript\">                require([\"plotly\"], function(Plotly) {                    window.PLOTLYENV=window.PLOTLYENV || {};                                    if (document.getElementById(\"8af7f1ba-9070-4f0b-9fde-d62e41d03c9d\")) {                    Plotly.newPlot(                        \"8af7f1ba-9070-4f0b-9fde-d62e41d03c9d\",                        [{\"marker\":{\"color\":\"black\",\"size\":4},\"mode\":\"markers\",\"name\":\"Actual\",\"type\":\"scatter\",\"x\":[\"2022-06-08T00:00:00\",\"2022-06-11T00:00:00\",\"2022-06-12T00:00:00\",\"2022-06-14T00:00:00\",\"2022-06-16T00:00:00\",\"2022-06-17T00:00:00\",\"2022-06-19T00:00:00\",\"2022-06-21T00:00:00\",\"2022-06-22T00:00:00\",\"2022-06-23T00:00:00\",\"2022-06-24T00:00:00\",\"2022-06-25T00:00:00\",\"2022-06-26T00:00:00\",\"2022-06-28T00:00:00\",\"2022-06-29T00:00:00\",\"2022-06-30T00:00:00\",\"2022-07-01T00:00:00\",\"2022-07-02T00:00:00\",\"2022-07-03T00:00:00\",\"2022-07-04T00:00:00\",\"2022-07-05T00:00:00\",\"2022-07-06T00:00:00\",\"2022-07-07T00:00:00\",\"2022-07-08T00:00:00\",\"2022-07-09T00:00:00\",\"2022-07-11T00:00:00\",\"2022-07-12T00:00:00\",\"2022-07-13T00:00:00\",\"2022-07-14T00:00:00\",\"2022-07-19T00:00:00\",\"2022-07-20T00:00:00\",\"2022-07-21T00:00:00\",\"2022-07-22T00:00:00\",\"2022-07-25T00:00:00\",\"2022-07-26T00:00:00\",\"2022-07-27T00:00:00\",\"2022-07-28T00:00:00\",\"2022-07-29T00:00:00\",\"2022-07-30T00:00:00\",\"2022-07-31T00:00:00\",\"2022-08-01T00:00:00\",\"2022-08-02T00:00:00\",\"2022-08-03T00:00:00\",\"2022-08-04T00:00:00\",\"2022-08-05T00:00:00\",\"2022-08-06T00:00:00\",\"2022-08-07T00:00:00\",\"2022-08-08T00:00:00\",\"2022-08-09T00:00:00\",\"2022-08-10T00:00:00\",\"2022-08-12T00:00:00\",\"2022-08-13T00:00:00\",\"2022-08-14T00:00:00\",\"2022-08-15T00:00:00\",\"2022-08-16T00:00:00\",\"2022-08-17T00:00:00\",\"2022-08-18T00:00:00\",\"2022-08-19T00:00:00\",\"2022-08-20T00:00:00\",\"2022-08-21T00:00:00\",\"2022-08-22T00:00:00\",\"2022-08-23T00:00:00\",\"2022-08-24T00:00:00\",\"2022-08-25T00:00:00\",\"2022-08-26T00:00:00\",\"2022-08-29T00:00:00\",\"2022-08-30T00:00:00\"],\"y\":[1,2,3,5,6,7,8,9,11,16,17,19,20,21,37,49,64,76,78,80,106,142,172,204,218,228,266,308,347,448,591,604,694,809,865,977,1066,1259,1343,1370,1475,1603,1721,1860,2004,2108,2131,2293,2415,2458,2746,2848,2893,2985,3183,3359,3450,3655,3755,3787,3896,3984,4144,4216,4472,4692,4876]},{\"hoverinfo\":\"skip\",\"line\":{\"width\":0},\"mode\":\"lines\",\"type\":\"scatter\",\"x\":[\"2022-06-08T00:00:00\",\"2022-06-11T00:00:00\",\"2022-06-12T00:00:00\",\"2022-06-14T00:00:00\",\"2022-06-16T00:00:00\",\"2022-06-17T00:00:00\",\"2022-06-19T00:00:00\",\"2022-06-21T00:00:00\",\"2022-06-22T00:00:00\",\"2022-06-23T00:00:00\",\"2022-06-24T00:00:00\",\"2022-06-25T00:00:00\",\"2022-06-26T00:00:00\",\"2022-06-28T00:00:00\",\"2022-06-29T00:00:00\",\"2022-06-30T00:00:00\",\"2022-07-01T00:00:00\",\"2022-07-02T00:00:00\",\"2022-07-03T00:00:00\",\"2022-07-04T00:00:00\",\"2022-07-05T00:00:00\",\"2022-07-06T00:00:00\",\"2022-07-07T00:00:00\",\"2022-07-08T00:00:00\",\"2022-07-09T00:00:00\",\"2022-07-11T00:00:00\",\"2022-07-12T00:00:00\",\"2022-07-13T00:00:00\",\"2022-07-14T00:00:00\",\"2022-07-19T00:00:00\",\"2022-07-20T00:00:00\",\"2022-07-21T00:00:00\",\"2022-07-22T00:00:00\",\"2022-07-25T00:00:00\",\"2022-07-26T00:00:00\",\"2022-07-27T00:00:00\",\"2022-07-28T00:00:00\",\"2022-07-29T00:00:00\",\"2022-07-30T00:00:00\",\"2022-07-31T00:00:00\",\"2022-08-01T00:00:00\",\"2022-08-02T00:00:00\",\"2022-08-03T00:00:00\",\"2022-08-04T00:00:00\",\"2022-08-05T00:00:00\",\"2022-08-06T00:00:00\",\"2022-08-07T00:00:00\",\"2022-08-08T00:00:00\",\"2022-08-09T00:00:00\",\"2022-08-10T00:00:00\",\"2022-08-12T00:00:00\",\"2022-08-13T00:00:00\",\"2022-08-14T00:00:00\",\"2022-08-15T00:00:00\",\"2022-08-16T00:00:00\",\"2022-08-17T00:00:00\",\"2022-08-18T00:00:00\",\"2022-08-19T00:00:00\",\"2022-08-20T00:00:00\",\"2022-08-21T00:00:00\",\"2022-08-22T00:00:00\",\"2022-08-23T00:00:00\",\"2022-08-24T00:00:00\",\"2022-08-25T00:00:00\",\"2022-08-26T00:00:00\",\"2022-08-29T00:00:00\",\"2022-08-30T00:00:00\",\"2022-08-31T00:00:00\",\"2022-09-01T00:00:00\",\"2022-09-02T00:00:00\",\"2022-09-03T00:00:00\",\"2022-09-04T00:00:00\",\"2022-09-05T00:00:00\",\"2022-09-06T00:00:00\",\"2022-09-07T00:00:00\",\"2022-09-08T00:00:00\",\"2022-09-09T00:00:00\",\"2022-09-10T00:00:00\",\"2022-09-11T00:00:00\",\"2022-09-12T00:00:00\",\"2022-09-13T00:00:00\",\"2022-09-14T00:00:00\",\"2022-09-15T00:00:00\",\"2022-09-16T00:00:00\",\"2022-09-17T00:00:00\",\"2022-09-18T00:00:00\",\"2022-09-19T00:00:00\",\"2022-09-20T00:00:00\",\"2022-09-21T00:00:00\",\"2022-09-22T00:00:00\",\"2022-09-23T00:00:00\",\"2022-09-24T00:00:00\",\"2022-09-25T00:00:00\",\"2022-09-26T00:00:00\",\"2022-09-27T00:00:00\",\"2022-09-28T00:00:00\",\"2022-09-29T00:00:00\",\"2022-09-30T00:00:00\",\"2022-10-01T00:00:00\",\"2022-10-02T00:00:00\",\"2022-10-03T00:00:00\",\"2022-10-04T00:00:00\",\"2022-10-05T00:00:00\",\"2022-10-06T00:00:00\",\"2022-10-07T00:00:00\",\"2022-10-08T00:00:00\",\"2022-10-09T00:00:00\",\"2022-10-10T00:00:00\",\"2022-10-11T00:00:00\",\"2022-10-12T00:00:00\",\"2022-10-13T00:00:00\",\"2022-10-14T00:00:00\",\"2022-10-15T00:00:00\",\"2022-10-16T00:00:00\",\"2022-10-17T00:00:00\",\"2022-10-18T00:00:00\",\"2022-10-19T00:00:00\",\"2022-10-20T00:00:00\",\"2022-10-21T00:00:00\",\"2022-10-22T00:00:00\",\"2022-10-23T00:00:00\",\"2022-10-24T00:00:00\",\"2022-10-25T00:00:00\",\"2022-10-26T00:00:00\",\"2022-10-27T00:00:00\",\"2022-10-28T00:00:00\",\"2022-10-29T00:00:00\",\"2022-10-30T00:00:00\",\"2022-10-31T00:00:00\",\"2022-11-01T00:00:00\",\"2022-11-02T00:00:00\",\"2022-11-03T00:00:00\",\"2022-11-04T00:00:00\",\"2022-11-05T00:00:00\",\"2022-11-06T00:00:00\",\"2022-11-07T00:00:00\",\"2022-11-08T00:00:00\",\"2022-11-09T00:00:00\",\"2022-11-10T00:00:00\",\"2022-11-11T00:00:00\",\"2022-11-12T00:00:00\",\"2022-11-13T00:00:00\",\"2022-11-14T00:00:00\",\"2022-11-15T00:00:00\",\"2022-11-16T00:00:00\",\"2022-11-17T00:00:00\",\"2022-11-18T00:00:00\",\"2022-11-19T00:00:00\",\"2022-11-20T00:00:00\",\"2022-11-21T00:00:00\",\"2022-11-22T00:00:00\",\"2022-11-23T00:00:00\",\"2022-11-24T00:00:00\",\"2022-11-25T00:00:00\",\"2022-11-26T00:00:00\",\"2022-11-27T00:00:00\",\"2022-11-28T00:00:00\"],\"y\":[-35.201483497777545,-9.583981213362103,-51.22021408467207,-47.51835901327066,-30.557720375853613,10.810296299205897,-43.931602057607485,-40.235974501336976,-23.057578447489565,-25.21786218874559,18.72086657165676,10.853755785671527,-31.422807796563394,-15.133779048178015,9.326143192626073,13.938587495136925,61.73901625147048,54.74496363539412,28.42851447514723,32.26646853972863,68.28414990784773,107.86285456171275,126.60464043744696,187.08504506967014,200.28235535242675,190.41277619096414,236.5111791909981,281.89176394766355,306.2394699009842,446.051747247694,521.8310208444136,572.0216672733079,671.092735316836,766.5343749648075,857.5564934875242,943.2366338066672,1049.5092935632633,1200.928416206789,1292.443997009339,1358.9126184844417,1451.232985749991,1580.008105975939,1708.1387407311986,1813.4012061857854,1962.237686571528,2059.3622064024626,2122.0015169280146,2214.2802394794016,2343.8066256001493,2470.174950294067,2726.314006232218,2832.7540061875743,2909.1647446485463,3008.6367885493855,3150.3286939057602,3287.5247060445217,3404.437127063969,3563.360417700809,3670.9477161590203,3744.678724620021,3848.8373233325206,3986.466114462141,4126.294311516014,4242.283457047051,4403.165047724802,4685.282121868313,4825.894609498077,4964.391945577799,5077.353213906206,5236.821493206228,5342.206118503366,5411.539452711119,5510.255723856521,5644.476104427,5771.6412752910355,5880.306817191235,6033.585140448589,6122.434891048185,6187.59369127055,6276.436310150039,6407.0728026348515,6537.9175843188905,6633.136997674109,6781.675667202166,6875.23862203884,6932.04021756488,7019.859860990273,7144.947980254091,7268.041245480156,7359.115373980546,7509.129410708251,7585.359140108591,7646.2247959472,7726.1924124413235,7839.512334385124,7961.11520812862,8048.63120932579,8200.121192197543,8282.498912461655,8327.76979843044,8410.634274797601,8540.367801189981,8640.705425253998,8740.62258868232,8879.541989459969,8959.05526945724,9009.774438121794,9106.256414509364,9201.511157904115,9329.641819390456,9426.870174085412,9557.857807724044,9646.170720670554,9672.22774520439,9750.003027806646,9873.007093309807,9966.909962549791,10057.871336203147,10192.471614847052,10271.484088814152,10324.686837405481,10410.26213681924,10521.16595516156,10627.39990276623,10700.59826589024,10840.7195629104,10925.911986180963,10976.979792389106,11045.589666188642,11150.249437030416,11263.510610387644,11341.414357580468,11481.63740624428,11558.485135644836,11579.37157066048,11649.955904187396,11775.524280682424,11879.786095939853,11937.876424034685,12074.74840931727,12136.762241858842,12171.603796706293,12243.481645275064,12327.270683623445,12438.327814393499,12506.233159720023,12627.88965251088,12686.376096421163,12738.471993420668,12791.843683378916,12897.529833611301,12989.685434096125,13054.707221911913,13199.138287081143,13286.685517631682,13333.648917934233,13382.302422521145]},{\"fill\":\"tonexty\",\"fillcolor\":\"rgba(0, 114, 178, 0.2)\",\"line\":{\"color\":\"#0072B2\",\"width\":2},\"mode\":\"lines\",\"name\":\"Predicted\",\"type\":\"scatter\",\"x\":[\"2022-06-08T00:00:00\",\"2022-06-11T00:00:00\",\"2022-06-12T00:00:00\",\"2022-06-14T00:00:00\",\"2022-06-16T00:00:00\",\"2022-06-17T00:00:00\",\"2022-06-19T00:00:00\",\"2022-06-21T00:00:00\",\"2022-06-22T00:00:00\",\"2022-06-23T00:00:00\",\"2022-06-24T00:00:00\",\"2022-06-25T00:00:00\",\"2022-06-26T00:00:00\",\"2022-06-28T00:00:00\",\"2022-06-29T00:00:00\",\"2022-06-30T00:00:00\",\"2022-07-01T00:00:00\",\"2022-07-02T00:00:00\",\"2022-07-03T00:00:00\",\"2022-07-04T00:00:00\",\"2022-07-05T00:00:00\",\"2022-07-06T00:00:00\",\"2022-07-07T00:00:00\",\"2022-07-08T00:00:00\",\"2022-07-09T00:00:00\",\"2022-07-11T00:00:00\",\"2022-07-12T00:00:00\",\"2022-07-13T00:00:00\",\"2022-07-14T00:00:00\",\"2022-07-19T00:00:00\",\"2022-07-20T00:00:00\",\"2022-07-21T00:00:00\",\"2022-07-22T00:00:00\",\"2022-07-25T00:00:00\",\"2022-07-26T00:00:00\",\"2022-07-27T00:00:00\",\"2022-07-28T00:00:00\",\"2022-07-29T00:00:00\",\"2022-07-30T00:00:00\",\"2022-07-31T00:00:00\",\"2022-08-01T00:00:00\",\"2022-08-02T00:00:00\",\"2022-08-03T00:00:00\",\"2022-08-04T00:00:00\",\"2022-08-05T00:00:00\",\"2022-08-06T00:00:00\",\"2022-08-07T00:00:00\",\"2022-08-08T00:00:00\",\"2022-08-09T00:00:00\",\"2022-08-10T00:00:00\",\"2022-08-12T00:00:00\",\"2022-08-13T00:00:00\",\"2022-08-14T00:00:00\",\"2022-08-15T00:00:00\",\"2022-08-16T00:00:00\",\"2022-08-17T00:00:00\",\"2022-08-18T00:00:00\",\"2022-08-19T00:00:00\",\"2022-08-20T00:00:00\",\"2022-08-21T00:00:00\",\"2022-08-22T00:00:00\",\"2022-08-23T00:00:00\",\"2022-08-24T00:00:00\",\"2022-08-25T00:00:00\",\"2022-08-26T00:00:00\",\"2022-08-29T00:00:00\",\"2022-08-30T00:00:00\",\"2022-08-31T00:00:00\",\"2022-09-01T00:00:00\",\"2022-09-02T00:00:00\",\"2022-09-03T00:00:00\",\"2022-09-04T00:00:00\",\"2022-09-05T00:00:00\",\"2022-09-06T00:00:00\",\"2022-09-07T00:00:00\",\"2022-09-08T00:00:00\",\"2022-09-09T00:00:00\",\"2022-09-10T00:00:00\",\"2022-09-11T00:00:00\",\"2022-09-12T00:00:00\",\"2022-09-13T00:00:00\",\"2022-09-14T00:00:00\",\"2022-09-15T00:00:00\",\"2022-09-16T00:00:00\",\"2022-09-17T00:00:00\",\"2022-09-18T00:00:00\",\"2022-09-19T00:00:00\",\"2022-09-20T00:00:00\",\"2022-09-21T00:00:00\",\"2022-09-22T00:00:00\",\"2022-09-23T00:00:00\",\"2022-09-24T00:00:00\",\"2022-09-25T00:00:00\",\"2022-09-26T00:00:00\",\"2022-09-27T00:00:00\",\"2022-09-28T00:00:00\",\"2022-09-29T00:00:00\",\"2022-09-30T00:00:00\",\"2022-10-01T00:00:00\",\"2022-10-02T00:00:00\",\"2022-10-03T00:00:00\",\"2022-10-04T00:00:00\",\"2022-10-05T00:00:00\",\"2022-10-06T00:00:00\",\"2022-10-07T00:00:00\",\"2022-10-08T00:00:00\",\"2022-10-09T00:00:00\",\"2022-10-10T00:00:00\",\"2022-10-11T00:00:00\",\"2022-10-12T00:00:00\",\"2022-10-13T00:00:00\",\"2022-10-14T00:00:00\",\"2022-10-15T00:00:00\",\"2022-10-16T00:00:00\",\"2022-10-17T00:00:00\",\"2022-10-18T00:00:00\",\"2022-10-19T00:00:00\",\"2022-10-20T00:00:00\",\"2022-10-21T00:00:00\",\"2022-10-22T00:00:00\",\"2022-10-23T00:00:00\",\"2022-10-24T00:00:00\",\"2022-10-25T00:00:00\",\"2022-10-26T00:00:00\",\"2022-10-27T00:00:00\",\"2022-10-28T00:00:00\",\"2022-10-29T00:00:00\",\"2022-10-30T00:00:00\",\"2022-10-31T00:00:00\",\"2022-11-01T00:00:00\",\"2022-11-02T00:00:00\",\"2022-11-03T00:00:00\",\"2022-11-04T00:00:00\",\"2022-11-05T00:00:00\",\"2022-11-06T00:00:00\",\"2022-11-07T00:00:00\",\"2022-11-08T00:00:00\",\"2022-11-09T00:00:00\",\"2022-11-10T00:00:00\",\"2022-11-11T00:00:00\",\"2022-11-12T00:00:00\",\"2022-11-13T00:00:00\",\"2022-11-14T00:00:00\",\"2022-11-15T00:00:00\",\"2022-11-16T00:00:00\",\"2022-11-17T00:00:00\",\"2022-11-18T00:00:00\",\"2022-11-19T00:00:00\",\"2022-11-20T00:00:00\",\"2022-11-21T00:00:00\",\"2022-11-22T00:00:00\",\"2022-11-23T00:00:00\",\"2022-11-24T00:00:00\",\"2022-11-25T00:00:00\",\"2022-11-26T00:00:00\",\"2022-11-27T00:00:00\",\"2022-11-28T00:00:00\"],\"y\":[-2.7612880126043886,24.28321988949544,-20.252788507683615,-14.85894901936474,0.6510254732010081,43.07814351517313,-13.85604131883891,-8.462201788863911,10.03220695064886,7.066894831328597,49.51313501352019,42.26873209458858,2.886496937044285,18.615959006339438,42.27817901546894,44.46155607986047,92.09890435481591,84.91095828997157,59.46186475756623,63.34512886031548,103.05876845044156,140.66932640314607,156.83862279927862,218.41947149707545,231.49232445741663,222.69472353611508,268.7850288498859,312.7722525261178,339.19277730106114,477.10434510289224,551.6266140755951,604.6700401035637,703.1371201950844,799.1191706085016,888.2938764263848,975.3655006068626,1080.5455858908374,1231.1372234763514,1326.9405486561006,1390.6060415970137,1483.603892173279,1612.4299074701978,1739.1528411297193,1844.4001933187253,1995.0590978092334,2090.892708013898,2154.5884859799216,2247.6166226956384,2376.445900635104,2503.172097149966,2759.0783565918055,2865.3811513528103,2939.546113875145,3043.0674714788606,3182.389970306381,3319.6093874964477,3435.349961741823,3596.502088288753,3702.8289204960224,3777.0179204646383,3880.5392780683633,4019.8617768958775,4157.081194086029,4272.821768331421,4433.973894878366,4718.011084657963,4857.333583485467,4994.553000675594,5110.293574921018,5271.44570146798,5377.772533675294,5451.961533643755,5555.482891247562,5694.805390075088,5832.024807265196,5947.7653815105205,6108.917508057553,6215.244340264855,6289.43334023329,6392.954697837161,6532.277196664647,6669.496613854767,6785.237188100117,6946.389314647168,7052.716146854381,7126.905146823013,7230.426504426664,7369.749003254268,7506.968420444349,7622.708994689713,7783.861121236761,7890.187953443976,7964.37695341259,8067.898311016304,8207.22080984389,8344.440227033932,8460.180801279312,8621.332927826254,8727.6597600335,8801.848760002085,8905.370117605864,9044.692616433478,9181.912033623523,9297.652607868908,9458.804734415846,9565.131566623028,9639.320566591665,9742.841924195458,9882.164423022976,10019.383840213086,10135.124414458502,10296.276541005458,10402.603373212773,10476.792373181383,10580.31373078506,10719.636229612564,10856.855646802684,10972.5962210481,11133.748347595054,11240.075179802294,11314.264179770962,11417.78553737466,11557.108036202184,11694.32745339225,11810.068027637604,11971.220154184644,12077.546986391857,12151.73598636046,12255.257343964215,12394.579842791649,12531.799259981817,12647.5398342272,12808.69196077424,12915.018792981418,12989.207792950036,13092.72915055376,13232.051649381272,13369.271066571397,13485.011640816798,13646.163767363854,13752.490599571127,13826.679599539615,13930.200957143363,14069.523455970857,14206.742873160982,14322.483447406395,14483.635573953325,14589.962406160654,14664.151406129111,14767.672763732957,14906.99526256045,15044.214679750567,15159.955253995988,15321.10738054294,15427.434212750213,15501.623212718687,15605.144570322462]},{\"fill\":\"tonexty\",\"fillcolor\":\"rgba(0, 114, 178, 0.2)\",\"hoverinfo\":\"skip\",\"line\":{\"width\":0},\"mode\":\"lines\",\"type\":\"scatter\",\"x\":[\"2022-06-08T00:00:00\",\"2022-06-11T00:00:00\",\"2022-06-12T00:00:00\",\"2022-06-14T00:00:00\",\"2022-06-16T00:00:00\",\"2022-06-17T00:00:00\",\"2022-06-19T00:00:00\",\"2022-06-21T00:00:00\",\"2022-06-22T00:00:00\",\"2022-06-23T00:00:00\",\"2022-06-24T00:00:00\",\"2022-06-25T00:00:00\",\"2022-06-26T00:00:00\",\"2022-06-28T00:00:00\",\"2022-06-29T00:00:00\",\"2022-06-30T00:00:00\",\"2022-07-01T00:00:00\",\"2022-07-02T00:00:00\",\"2022-07-03T00:00:00\",\"2022-07-04T00:00:00\",\"2022-07-05T00:00:00\",\"2022-07-06T00:00:00\",\"2022-07-07T00:00:00\",\"2022-07-08T00:00:00\",\"2022-07-09T00:00:00\",\"2022-07-11T00:00:00\",\"2022-07-12T00:00:00\",\"2022-07-13T00:00:00\",\"2022-07-14T00:00:00\",\"2022-07-19T00:00:00\",\"2022-07-20T00:00:00\",\"2022-07-21T00:00:00\",\"2022-07-22T00:00:00\",\"2022-07-25T00:00:00\",\"2022-07-26T00:00:00\",\"2022-07-27T00:00:00\",\"2022-07-28T00:00:00\",\"2022-07-29T00:00:00\",\"2022-07-30T00:00:00\",\"2022-07-31T00:00:00\",\"2022-08-01T00:00:00\",\"2022-08-02T00:00:00\",\"2022-08-03T00:00:00\",\"2022-08-04T00:00:00\",\"2022-08-05T00:00:00\",\"2022-08-06T00:00:00\",\"2022-08-07T00:00:00\",\"2022-08-08T00:00:00\",\"2022-08-09T00:00:00\",\"2022-08-10T00:00:00\",\"2022-08-12T00:00:00\",\"2022-08-13T00:00:00\",\"2022-08-14T00:00:00\",\"2022-08-15T00:00:00\",\"2022-08-16T00:00:00\",\"2022-08-17T00:00:00\",\"2022-08-18T00:00:00\",\"2022-08-19T00:00:00\",\"2022-08-20T00:00:00\",\"2022-08-21T00:00:00\",\"2022-08-22T00:00:00\",\"2022-08-23T00:00:00\",\"2022-08-24T00:00:00\",\"2022-08-25T00:00:00\",\"2022-08-26T00:00:00\",\"2022-08-29T00:00:00\",\"2022-08-30T00:00:00\",\"2022-08-31T00:00:00\",\"2022-09-01T00:00:00\",\"2022-09-02T00:00:00\",\"2022-09-03T00:00:00\",\"2022-09-04T00:00:00\",\"2022-09-05T00:00:00\",\"2022-09-06T00:00:00\",\"2022-09-07T00:00:00\",\"2022-09-08T00:00:00\",\"2022-09-09T00:00:00\",\"2022-09-10T00:00:00\",\"2022-09-11T00:00:00\",\"2022-09-12T00:00:00\",\"2022-09-13T00:00:00\",\"2022-09-14T00:00:00\",\"2022-09-15T00:00:00\",\"2022-09-16T00:00:00\",\"2022-09-17T00:00:00\",\"2022-09-18T00:00:00\",\"2022-09-19T00:00:00\",\"2022-09-20T00:00:00\",\"2022-09-21T00:00:00\",\"2022-09-22T00:00:00\",\"2022-09-23T00:00:00\",\"2022-09-24T00:00:00\",\"2022-09-25T00:00:00\",\"2022-09-26T00:00:00\",\"2022-09-27T00:00:00\",\"2022-09-28T00:00:00\",\"2022-09-29T00:00:00\",\"2022-09-30T00:00:00\",\"2022-10-01T00:00:00\",\"2022-10-02T00:00:00\",\"2022-10-03T00:00:00\",\"2022-10-04T00:00:00\",\"2022-10-05T00:00:00\",\"2022-10-06T00:00:00\",\"2022-10-07T00:00:00\",\"2022-10-08T00:00:00\",\"2022-10-09T00:00:00\",\"2022-10-10T00:00:00\",\"2022-10-11T00:00:00\",\"2022-10-12T00:00:00\",\"2022-10-13T00:00:00\",\"2022-10-14T00:00:00\",\"2022-10-15T00:00:00\",\"2022-10-16T00:00:00\",\"2022-10-17T00:00:00\",\"2022-10-18T00:00:00\",\"2022-10-19T00:00:00\",\"2022-10-20T00:00:00\",\"2022-10-21T00:00:00\",\"2022-10-22T00:00:00\",\"2022-10-23T00:00:00\",\"2022-10-24T00:00:00\",\"2022-10-25T00:00:00\",\"2022-10-26T00:00:00\",\"2022-10-27T00:00:00\",\"2022-10-28T00:00:00\",\"2022-10-29T00:00:00\",\"2022-10-30T00:00:00\",\"2022-10-31T00:00:00\",\"2022-11-01T00:00:00\",\"2022-11-02T00:00:00\",\"2022-11-03T00:00:00\",\"2022-11-04T00:00:00\",\"2022-11-05T00:00:00\",\"2022-11-06T00:00:00\",\"2022-11-07T00:00:00\",\"2022-11-08T00:00:00\",\"2022-11-09T00:00:00\",\"2022-11-10T00:00:00\",\"2022-11-11T00:00:00\",\"2022-11-12T00:00:00\",\"2022-11-13T00:00:00\",\"2022-11-14T00:00:00\",\"2022-11-15T00:00:00\",\"2022-11-16T00:00:00\",\"2022-11-17T00:00:00\",\"2022-11-18T00:00:00\",\"2022-11-19T00:00:00\",\"2022-11-20T00:00:00\",\"2022-11-21T00:00:00\",\"2022-11-22T00:00:00\",\"2022-11-23T00:00:00\",\"2022-11-24T00:00:00\",\"2022-11-25T00:00:00\",\"2022-11-26T00:00:00\",\"2022-11-27T00:00:00\",\"2022-11-28T00:00:00\"],\"y\":[30.19718667702838,55.058415503526305,12.281299888880564,15.243165923296116,32.745923634349566,73.43016113379595,17.6806582670349,23.691656831825323,42.39886544596928,35.74428229626535,84.2474995256919,74.16665566785721,36.04076206248315,51.16561825510854,76.00485539873391,75.15045730594171,126.25683751650402,117.49440943284367,88.41988994633554,94.22724014478028,135.12299778951657,171.22382597843583,187.91638480055596,250.83345064989967,262.27179334170756,251.10530399226246,300.73941026677494,346.51527156571257,369.21228155773304,510.3696093877863,585.7076242625828,638.1583125807114,735.4203832268458,833.6202606048298,921.1774043716375,1006.2184053048937,1111.2384247498214,1262.8000244381205,1358.4232811166942,1422.5497231805984,1518.683861842179,1646.3507603130015,1771.1838265918839,1876.040408102486,2026.7695729735988,2121.8434156598164,2185.846667138505,2280.531360140444,2409.281040621745,2535.97630671854,2792.589208139536,2898.514527429566,2973.286171719227,3074.9126874524413,3215.2054908347372,3351.025287383065,3466.9002211097354,3627.046173114196,3733.5560032025624,3809.321108041835,3912.1061379804814,4052.145873601623,4188.357156481007,4304.624236835845,4467.055232588718,4748.8396951430595,4886.783046592655,5028.472517076766,5143.948491602815,5307.979676667929,5413.304428298709,5496.251961602008,5605.51732237687,5753.616768589758,5904.134198858599,6028.355538355984,6207.053126691762,6316.748835592916,6413.9577172629415,6531.407984241378,6692.840413805645,6832.323762888033,6966.527623709258,7146.189577332952,7274.93517853461,7369.762629718686,7487.639237979639,7643.405872465176,7799.597732647294,7947.198193545385,8115.907149182512,8262.37304706473,8335.708753871317,8461.565282774995,8645.997995396187,8799.670082080362,8943.04848215632,9119.2370284561,9245.52672218376,9341.297506816101,9473.27690051381,9638.734754718529,9792.777313538329,9953.493278074642,10132.323035588302,10265.62023507968,10361.674231398876,10505.093816352695,10657.9797892533,10822.763996000434,10974.251895162493,11180.276200133401,11307.76395230626,11419.998149601355,11557.709600107506,11709.706968571463,11899.237200028936,12056.329784761814,12235.155631419282,12371.33709612267,12470.04064377355,12602.696811180045,12766.571197393583,12935.438319028195,13073.867850923572,13274.04384954979,13407.204275858414,13483.72746679156,13633.609271336525,13811.03487467092,13981.15559274693,14103.464497344772,14308.43617904266,14450.297159898108,14561.509681996715,14696.411082232733,14877.965383403278,15038.78604976633,15194.74691650775,15378.48377315208,15512.12897352829,15640.285214525124,15792.331393362314,15979.548417940172,16159.161504730164,16310.074837574406,16485.547970566877,16639.512512745903,16749.31314917273,16868.505359419578,17036.035919969236,17206.852074317678,17368.645549913457,17555.625298942545,17713.46263031888,17805.495675891914,17971.892341776296]}],                        {\"height\":600,\"showlegend\":false,\"template\":{\"data\":{\"bar\":[{\"error_x\":{\"color\":\"#2a3f5f\"},\"error_y\":{\"color\":\"#2a3f5f\"},\"marker\":{\"line\":{\"color\":\"#E5ECF6\",\"width\":0.5},\"pattern\":{\"fillmode\":\"overlay\",\"size\":10,\"solidity\":0.2}},\"type\":\"bar\"}],\"barpolar\":[{\"marker\":{\"line\":{\"color\":\"#E5ECF6\",\"width\":0.5},\"pattern\":{\"fillmode\":\"overlay\",\"size\":10,\"solidity\":0.2}},\"type\":\"barpolar\"}],\"carpet\":[{\"aaxis\":{\"endlinecolor\":\"#2a3f5f\",\"gridcolor\":\"white\",\"linecolor\":\"white\",\"minorgridcolor\":\"white\",\"startlinecolor\":\"#2a3f5f\"},\"baxis\":{\"endlinecolor\":\"#2a3f5f\",\"gridcolor\":\"white\",\"linecolor\":\"white\",\"minorgridcolor\":\"white\",\"startlinecolor\":\"#2a3f5f\"},\"type\":\"carpet\"}],\"choropleth\":[{\"colorbar\":{\"outlinewidth\":0,\"ticks\":\"\"},\"type\":\"choropleth\"}],\"contour\":[{\"colorbar\":{\"outlinewidth\":0,\"ticks\":\"\"},\"colorscale\":[[0.0,\"#0d0887\"],[0.1111111111111111,\"#46039f\"],[0.2222222222222222,\"#7201a8\"],[0.3333333333333333,\"#9c179e\"],[0.4444444444444444,\"#bd3786\"],[0.5555555555555556,\"#d8576b\"],[0.6666666666666666,\"#ed7953\"],[0.7777777777777778,\"#fb9f3a\"],[0.8888888888888888,\"#fdca26\"],[1.0,\"#f0f921\"]],\"type\":\"contour\"}],\"contourcarpet\":[{\"colorbar\":{\"outlinewidth\":0,\"ticks\":\"\"},\"type\":\"contourcarpet\"}],\"heatmap\":[{\"colorbar\":{\"outlinewidth\":0,\"ticks\":\"\"},\"colorscale\":[[0.0,\"#0d0887\"],[0.1111111111111111,\"#46039f\"],[0.2222222222222222,\"#7201a8\"],[0.3333333333333333,\"#9c179e\"],[0.4444444444444444,\"#bd3786\"],[0.5555555555555556,\"#d8576b\"],[0.6666666666666666,\"#ed7953\"],[0.7777777777777778,\"#fb9f3a\"],[0.8888888888888888,\"#fdca26\"],[1.0,\"#f0f921\"]],\"type\":\"heatmap\"}],\"heatmapgl\":[{\"colorbar\":{\"outlinewidth\":0,\"ticks\":\"\"},\"colorscale\":[[0.0,\"#0d0887\"],[0.1111111111111111,\"#46039f\"],[0.2222222222222222,\"#7201a8\"],[0.3333333333333333,\"#9c179e\"],[0.4444444444444444,\"#bd3786\"],[0.5555555555555556,\"#d8576b\"],[0.6666666666666666,\"#ed7953\"],[0.7777777777777778,\"#fb9f3a\"],[0.8888888888888888,\"#fdca26\"],[1.0,\"#f0f921\"]],\"type\":\"heatmapgl\"}],\"histogram\":[{\"marker\":{\"pattern\":{\"fillmode\":\"overlay\",\"size\":10,\"solidity\":0.2}},\"type\":\"histogram\"}],\"histogram2d\":[{\"colorbar\":{\"outlinewidth\":0,\"ticks\":\"\"},\"colorscale\":[[0.0,\"#0d0887\"],[0.1111111111111111,\"#46039f\"],[0.2222222222222222,\"#7201a8\"],[0.3333333333333333,\"#9c179e\"],[0.4444444444444444,\"#bd3786\"],[0.5555555555555556,\"#d8576b\"],[0.6666666666666666,\"#ed7953\"],[0.7777777777777778,\"#fb9f3a\"],[0.8888888888888888,\"#fdca26\"],[1.0,\"#f0f921\"]],\"type\":\"histogram2d\"}],\"histogram2dcontour\":[{\"colorbar\":{\"outlinewidth\":0,\"ticks\":\"\"},\"colorscale\":[[0.0,\"#0d0887\"],[0.1111111111111111,\"#46039f\"],[0.2222222222222222,\"#7201a8\"],[0.3333333333333333,\"#9c179e\"],[0.4444444444444444,\"#bd3786\"],[0.5555555555555556,\"#d8576b\"],[0.6666666666666666,\"#ed7953\"],[0.7777777777777778,\"#fb9f3a\"],[0.8888888888888888,\"#fdca26\"],[1.0,\"#f0f921\"]],\"type\":\"histogram2dcontour\"}],\"mesh3d\":[{\"colorbar\":{\"outlinewidth\":0,\"ticks\":\"\"},\"type\":\"mesh3d\"}],\"parcoords\":[{\"line\":{\"colorbar\":{\"outlinewidth\":0,\"ticks\":\"\"}},\"type\":\"parcoords\"}],\"pie\":[{\"automargin\":true,\"type\":\"pie\"}],\"scatter\":[{\"marker\":{\"colorbar\":{\"outlinewidth\":0,\"ticks\":\"\"}},\"type\":\"scatter\"}],\"scatter3d\":[{\"line\":{\"colorbar\":{\"outlinewidth\":0,\"ticks\":\"\"}},\"marker\":{\"colorbar\":{\"outlinewidth\":0,\"ticks\":\"\"}},\"type\":\"scatter3d\"}],\"scattercarpet\":[{\"marker\":{\"colorbar\":{\"outlinewidth\":0,\"ticks\":\"\"}},\"type\":\"scattercarpet\"}],\"scattergeo\":[{\"marker\":{\"colorbar\":{\"outlinewidth\":0,\"ticks\":\"\"}},\"type\":\"scattergeo\"}],\"scattergl\":[{\"marker\":{\"colorbar\":{\"outlinewidth\":0,\"ticks\":\"\"}},\"type\":\"scattergl\"}],\"scattermapbox\":[{\"marker\":{\"colorbar\":{\"outlinewidth\":0,\"ticks\":\"\"}},\"type\":\"scattermapbox\"}],\"scatterpolar\":[{\"marker\":{\"colorbar\":{\"outlinewidth\":0,\"ticks\":\"\"}},\"type\":\"scatterpolar\"}],\"scatterpolargl\":[{\"marker\":{\"colorbar\":{\"outlinewidth\":0,\"ticks\":\"\"}},\"type\":\"scatterpolargl\"}],\"scatterternary\":[{\"marker\":{\"colorbar\":{\"outlinewidth\":0,\"ticks\":\"\"}},\"type\":\"scatterternary\"}],\"surface\":[{\"colorbar\":{\"outlinewidth\":0,\"ticks\":\"\"},\"colorscale\":[[0.0,\"#0d0887\"],[0.1111111111111111,\"#46039f\"],[0.2222222222222222,\"#7201a8\"],[0.3333333333333333,\"#9c179e\"],[0.4444444444444444,\"#bd3786\"],[0.5555555555555556,\"#d8576b\"],[0.6666666666666666,\"#ed7953\"],[0.7777777777777778,\"#fb9f3a\"],[0.8888888888888888,\"#fdca26\"],[1.0,\"#f0f921\"]],\"type\":\"surface\"}],\"table\":[{\"cells\":{\"fill\":{\"color\":\"#EBF0F8\"},\"line\":{\"color\":\"white\"}},\"header\":{\"fill\":{\"color\":\"#C8D4E3\"},\"line\":{\"color\":\"white\"}},\"type\":\"table\"}]},\"layout\":{\"annotationdefaults\":{\"arrowcolor\":\"#2a3f5f\",\"arrowhead\":0,\"arrowwidth\":1},\"autotypenumbers\":\"strict\",\"coloraxis\":{\"colorbar\":{\"outlinewidth\":0,\"ticks\":\"\"}},\"colorscale\":{\"diverging\":[[0,\"#8e0152\"],[0.1,\"#c51b7d\"],[0.2,\"#de77ae\"],[0.3,\"#f1b6da\"],[0.4,\"#fde0ef\"],[0.5,\"#f7f7f7\"],[0.6,\"#e6f5d0\"],[0.7,\"#b8e186\"],[0.8,\"#7fbc41\"],[0.9,\"#4d9221\"],[1,\"#276419\"]],\"sequential\":[[0.0,\"#0d0887\"],[0.1111111111111111,\"#46039f\"],[0.2222222222222222,\"#7201a8\"],[0.3333333333333333,\"#9c179e\"],[0.4444444444444444,\"#bd3786\"],[0.5555555555555556,\"#d8576b\"],[0.6666666666666666,\"#ed7953\"],[0.7777777777777778,\"#fb9f3a\"],[0.8888888888888888,\"#fdca26\"],[1.0,\"#f0f921\"]],\"sequentialminus\":[[0.0,\"#0d0887\"],[0.1111111111111111,\"#46039f\"],[0.2222222222222222,\"#7201a8\"],[0.3333333333333333,\"#9c179e\"],[0.4444444444444444,\"#bd3786\"],[0.5555555555555556,\"#d8576b\"],[0.6666666666666666,\"#ed7953\"],[0.7777777777777778,\"#fb9f3a\"],[0.8888888888888888,\"#fdca26\"],[1.0,\"#f0f921\"]]},\"colorway\":[\"#636efa\",\"#EF553B\",\"#00cc96\",\"#ab63fa\",\"#FFA15A\",\"#19d3f3\",\"#FF6692\",\"#B6E880\",\"#FF97FF\",\"#FECB52\"],\"font\":{\"color\":\"#2a3f5f\"},\"geo\":{\"bgcolor\":\"white\",\"lakecolor\":\"white\",\"landcolor\":\"#E5ECF6\",\"showlakes\":true,\"showland\":true,\"subunitcolor\":\"white\"},\"hoverlabel\":{\"align\":\"left\"},\"hovermode\":\"closest\",\"mapbox\":{\"style\":\"light\"},\"paper_bgcolor\":\"white\",\"plot_bgcolor\":\"#E5ECF6\",\"polar\":{\"angularaxis\":{\"gridcolor\":\"white\",\"linecolor\":\"white\",\"ticks\":\"\"},\"bgcolor\":\"#E5ECF6\",\"radialaxis\":{\"gridcolor\":\"white\",\"linecolor\":\"white\",\"ticks\":\"\"}},\"scene\":{\"xaxis\":{\"backgroundcolor\":\"#E5ECF6\",\"gridcolor\":\"white\",\"gridwidth\":2,\"linecolor\":\"white\",\"showbackground\":true,\"ticks\":\"\",\"zerolinecolor\":\"white\"},\"yaxis\":{\"backgroundcolor\":\"#E5ECF6\",\"gridcolor\":\"white\",\"gridwidth\":2,\"linecolor\":\"white\",\"showbackground\":true,\"ticks\":\"\",\"zerolinecolor\":\"white\"},\"zaxis\":{\"backgroundcolor\":\"#E5ECF6\",\"gridcolor\":\"white\",\"gridwidth\":2,\"linecolor\":\"white\",\"showbackground\":true,\"ticks\":\"\",\"zerolinecolor\":\"white\"}},\"shapedefaults\":{\"line\":{\"color\":\"#2a3f5f\"}},\"ternary\":{\"aaxis\":{\"gridcolor\":\"white\",\"linecolor\":\"white\",\"ticks\":\"\"},\"baxis\":{\"gridcolor\":\"white\",\"linecolor\":\"white\",\"ticks\":\"\"},\"bgcolor\":\"#E5ECF6\",\"caxis\":{\"gridcolor\":\"white\",\"linecolor\":\"white\",\"ticks\":\"\"}},\"title\":{\"x\":0.05},\"xaxis\":{\"automargin\":true,\"gridcolor\":\"white\",\"linecolor\":\"white\",\"ticks\":\"\",\"title\":{\"standoff\":15},\"zerolinecolor\":\"white\",\"zerolinewidth\":2},\"yaxis\":{\"automargin\":true,\"gridcolor\":\"white\",\"linecolor\":\"white\",\"ticks\":\"\",\"title\":{\"standoff\":15},\"zerolinecolor\":\"white\",\"zerolinewidth\":2}}},\"width\":900,\"xaxis\":{\"rangeselector\":{\"buttons\":[{\"count\":7,\"label\":\"1w\",\"step\":\"day\",\"stepmode\":\"backward\"},{\"count\":1,\"label\":\"1m\",\"step\":\"month\",\"stepmode\":\"backward\"},{\"count\":6,\"label\":\"6m\",\"step\":\"month\",\"stepmode\":\"backward\"},{\"count\":1,\"label\":\"1y\",\"step\":\"year\",\"stepmode\":\"backward\"},{\"step\":\"all\"}]},\"rangeslider\":{\"visible\":true},\"title\":{\"text\":\"ds\"},\"type\":\"date\"},\"yaxis\":{\"title\":{\"text\":\"y\"}}},                        {\"responsive\": true}                    ).then(function(){\n",
       "                            \n",
       "var gd = document.getElementById('8af7f1ba-9070-4f0b-9fde-d62e41d03c9d');\n",
       "var x = new MutationObserver(function (mutations, observer) {{\n",
       "        var display = window.getComputedStyle(gd).display;\n",
       "        if (!display || display === 'none') {{\n",
       "            console.log([gd, 'removed!']);\n",
       "            Plotly.purge(gd);\n",
       "            observer.disconnect();\n",
       "        }}\n",
       "}});\n",
       "\n",
       "// Listen for the removal of the full notebook cells\n",
       "var notebookContainer = gd.closest('#notebook-container');\n",
       "if (notebookContainer) {{\n",
       "    x.observe(notebookContainer, {childList: true});\n",
       "}}\n",
       "\n",
       "// Listen for the clearing of the current output cell\n",
       "var outputEl = gd.closest('.output');\n",
       "if (outputEl) {{\n",
       "    x.observe(outputEl, {childList: true});\n",
       "}}\n",
       "\n",
       "                        })                };                });            </script>        </div>"
      ]
     },
     "metadata": {},
     "output_type": "display_data"
    }
   ],
   "source": [
    "plot_plotly(m, forecast)"
   ]
  },
  {
   "cell_type": "markdown",
   "id": "a3cd617a-304f-48f0-b039-67f644863d7a",
   "metadata": {},
   "source": [
    "<h4>Utilização do Components para ver tendências mensais e de dias da semana</h4>"
   ]
  },
  {
   "cell_type": "code",
   "execution_count": 111,
   "id": "b632eb61-b247-4e1c-bfac-81fb6e370581",
   "metadata": {},
   "outputs": [
    {
     "data": {
      "image/png": "[encoded data removed]",
      "text/plain": [
       "<Figure size 648x432 with 2 Axes>"
      ]
     },
     "metadata": {},
     "output_type": "display_data"
    }
   ],
   "source": [
    "fig3 = m.plot_components(forecast)"
   ]
  },
  {
   "cell_type": "markdown",
   "id": "9e4f2ad0-dd29-4403-84e3-32774ce276c6",
   "metadata": {},
   "source": [
    "<a href=\"#indice\"><img src=\"botao-topo.png\" width=\"15%\"/></a>"
   ]
  },
  {
   "cell_type": "markdown",
   "id": "4704ded2-d7a8-4ff1-a1ba-8a746f9f4bbe",
   "metadata": {},
   "source": [
    "<div id=\"5\"><h2>6 - Conclusões</h2></div>"
   ]
  },
  {
   "cell_type": "markdown",
   "id": "dc4ee2f8-1d63-4e01-8cfa-1ea9023d0090",
   "metadata": {},
   "source": [
    "Embora a quantidade de casos esteja crescendo consistentemente, o número e percentual de hospitalizações é baixo em comparação com o coronavírus. Como não temos no dataset a quantidade de mortes, é difícil prever, porém, nos baseando no percentual de hospitalizações, esse percentual muito provavelmente será baixo também.\n",
    "\n",
    "Devemos nos instruir e nos conscientizar sobre maneiras de prevenção para que não escale como o coronavírus escalou e trouxe prejuízos incalculáveis.\n",
    "\n",
    "Para mais informação sobre a varíola dos macacos, acesse o site do <a href=\"https://www.gov.br/saude/pt-br/assuntos/variola-dos-macacos\" target=\"_blank\">Ministério da Sáude</a>."
   ]
  },
  {
   "cell_type": "markdown",
   "id": "79ce025b-82d2-4a1a-ab98-7223a4b5c305",
   "metadata": {},
   "source": [
    "<img src=\"ty.gif\" width=\"100%\"/>"
   ]
  },
  {
   "cell_type": "markdown",
   "id": "7eaff745-04f0-4c5e-992b-0ba8a1744c78",
   "metadata": {},
   "source": [
    "<a href=\"#indice\"><img src=\"botao-topo.png\" width=\"15%\"/></a>"
   ]
  },
  {
   "cell_type": "markdown",
   "id": "583e4c5a-6283-4a9c-acbf-eb24afbc4666",
   "metadata": {},
   "source": [
    "\n",
    "\n"
   ]
  },
  {
   "cell_type": "code",
   "execution_count": null,
   "id": "71df1bf1-27b9-4c98-aa2f-e6d528e6a806",
   "metadata": {},
   "outputs": [],
   "source": []
  }
 ],
 "metadata": {
  "kernelspec": {
   "display_name": "Python 3 (ipykernel)",
   "language": "python",
   "name": "python3"
  },
  "language_info": {
   "codemirror_mode": {
    "name": "ipython",
    "version": 3
   },
   "file_extension": ".py",
   "mimetype": "text/x-python",
   "name": "python",
   "nbconvert_exporter": "python",
   "pygments_lexer": "ipython3",
   "version": "3.9.12"
  }
 },
 "nbformat": 4,
 "nbformat_minor": 5
}
