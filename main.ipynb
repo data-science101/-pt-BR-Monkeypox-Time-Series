{
 "cells": [
  {
   "cell_type": "markdown",
   "id": "fdcc0d0d-269f-43b3-af22-97fe7b6c5612",
   "metadata": {},
   "source": [
    "<img src=\"topo.png\" width=\"100%\"/><br /> <i>Última análise: 31/08/2022</i>"
   ]
  },
  {
   "cell_type": "markdown",
   "id": "7e55688e-7dc8-441b-90e1-a072c7616044",
   "metadata": {},
   "source": [
    "<div id=\"indice\" class=\"alert alert-block alert-success\">\n",
    "\n",
    "<h1>Índice</h1>\n",
    "<ol>\n",
    "    <li><a href=\"#0\">Objetivo</a></li>\n",
    "    <li><a href=\"#1\">Sobre a varíola dos macacos</a></li>\n",
    "    <li><a href=\"#2\">Verificação de dados</a></li>\n",
    "    <li><a href=\"#3\">Curiosidades (EDA)</a></li>\n",
    "    <li><a href=\"#4\">Previsões com Prophet</a></li>\n",
    "        <ol>\n",
    "        <li><a href=\"#41\">Previsão de novos casos diários - 90 Dias</a></li>\n",
    "        <li><a href=\"#42\">Previsão de novos casos diários acumulados</a></li>\n",
    "    </ol>\n",
    "    <li><a href=\"#5\">Conclusões</a></li>\n",
    "    </ol>\n",
    "</div>"
   ]
  },
  {
   "cell_type": "markdown",
   "id": "d5af8ff6-d80c-4b80-9115-c1cbff1f7d7f",
   "metadata": {},
   "source": [
    "<div id=\"0\"><h1>1 - Objetivo</h1>"
   ]
  },
  {
   "cell_type": "markdown",
   "id": "1c8041f3-4bf8-4a54-9397-2da824b11283",
   "metadata": {},
   "source": [
    "O objetivo desse estudo é conhecer mais sobre a varíola dos macacos, como está a situação atual no mundo, quantidade de hospitalizações e principalmente previsões no crescimento dos casos no Brasil, extraindo informações que podem ser úteis para a população em geral.\n",
    "\n",
    "Foi utilizado o dataset público do Kaggle, atualizado diariamente neste <a href=\"https://www.kaggle.com/datasets/deepcontractor/monkeypox-dataset-daily-updated/download?datasetVersionNumber=101\" target=\"_blank\">link</a>."
   ]
  },
  {
   "cell_type": "markdown",
   "id": "8a9dfb76-0570-4750-a2a1-afdb8f9da8ac",
   "metadata": {},
   "source": [
    "<div id=\"1\"><h1>2 - Sobre a varíola dos macacos</h1>\n",
    "\n",
    "<p>A varíola dos macacos é transmitida pelo vírus monkeypox, que pertence ao gênero orthopoxvirus. É considerada uma zoonose viral (o vírus é transmitido aos seres humanos a partir de animais) com sintomas muito semelhantes aos observados em pacientes com varíola, embora seja clinicamente menos grave. O período de incubação da varíola dos macacos é geralmente de seis a 13 dias, mas pode variar de cinco a 21 dias, segundo a Organização Mundial da Saúde (OMS).</p>\n",
    "\n",
    "<p>O nome monkeypox se origina da descoberta inicial do vírus em macacos em um laboratório dinamarquês em 1958. O primeiro caso humano foi identificado em uma criança na República Democrática do Congo em 1970. Atualmente, segundo a OMS esclareceu, a maioria dos animais suscetíveis a este tipo de varíola são roedores, como ratos e cão-da-pradaria.</p>\n",
    "\n",
    "<p>A transmissão ocorre por contato próximo com lesões, fluidos corporais, gotículas respiratórias e materiais contaminados, como roupas de cama. E, segundo o órgão de saúde, a transmissão de humano para humano está ocorrendo entre pessoas com contato físico próximo com casos sintomáticos.</p>\n",
    "\n",
    "<p>O contato próximo com pessoas infectadas ou materiais contaminados deve ser evitado. Luvas e outras roupas e equipamentos de proteção individual devem ser usados ao cuidar dos doentes, seja em uma unidade de saúde ou em casa.</p>\n",
    "\n",
    "<h2>Sintomas:</h2>\n",
    "\n",
    "<p>A OMS descreve quadros diferentes de sintomas para casos suspeitos, prováveis e confirmados. Passa a ser considerado um caso suspeito qualquer pessoa, de qualquer idade, que apresente pústulas (bolhas) na pele de forma aguda e inexplicável e esteja em um país onde a varíola dos macacos não é endêmica. Se este quadro for acompanhado por dor de cabeça, início de febre acima de 38,5°C, linfonodos inchados, dores musculares e no corpo, dor nas costas e fraqueza profunda, é necessário fazer exame para confirmar ou descartar a doença.</p>\n",
    "\n",
    "<p>Casos considerados “prováveis” incluem sintomas semelhantes aos dos casos suspeitos, como contato físico pele a pele ou com lesões na pele, contato sexual ou com materiais contaminados 21 dias antes do início dos sintomas. Soma-se a isso, histórico de viagens para um país endêmico ou ter tido contato próximo com possíveis infectados no mesmo período e/ou ter resultado positivo para um teste sorológico de orthopoxvirus na ausência de vacinação contra varíola ou outra exposição conhecida ao vírus.</p>\n",
    "\n",
    "<p>Casos confirmados ocorrem quando há confirmação laboratorial para o vírus da varíola dos macacos por meio do exame PCR (Reação em Cadeia da Polimerase) em tempo real e/ou sequenciamento.</p>\n",
    "\n",
    "<p>A prevenção e o controle dependem da conscientização das comunidades e da educação dos profissionais de saúde para prevenir a infecção e interromper a transmissão.</p>\n",
    "\n",
    " \n",
    "\n",
    "<p><b>Fontes:</b></p>\n",
    "\n",
    "<ul>\n",
    "    <li><a href=\"https://bvsms.saude.gov.br/02-6-variola-dos-macacos/\" target=\"_blank\">Biblioteca Virtual em Saúde</a></li>\n",
    "    <li><a href=\"https://butantan.gov.br/noticias/variola-dos-macacos-sintomas-transmissao-origem-e-numero-de-casos-sao-atualizados-pela-oms\" target=\"_blank\">Instituto Butantan</a></li>\n",
    "    <li><a href=\"https://brasil.un.org/pt-br/183321-surto-de-variola-dos-macacos-ainda-pode-ser-controlado-garante-oms\" target=\"_blank\">Organização das Nações Unidas (ONU) – Escritório Brasil</a></li>\n",
    "    <li><a href=\"https://news.un.org/pt/story/2022/05/1790052\" target=\"_blank\">ONU News</a<</li>\n",
    "</ul>\n",
    "</div>"
   ]
  },
  {
   "cell_type": "markdown",
   "id": "a3f95ce7-8446-4c35-9afc-a743a9bd8067",
   "metadata": {},
   "source": [
    "<a href=\"#indice\"><img src=\"botao-topo.png\" width=\"15%\"/></a>"
   ]
  },
  {
   "cell_type": "markdown",
   "id": "10d66d22-1d30-416b-98a5-4fcb55556fb2",
   "metadata": {},
   "source": [
    "<h4>Importação de bibliotecas necessárias</h4>"
   ]
  },
  {
   "cell_type": "code",
   "execution_count": 139,
   "id": "d418ca2f-99ab-4e2d-9a24-3c81f0400bfb",
   "metadata": {},
   "outputs": [],
   "source": [
    "import pandas as pd\n",
    "import numpy as np\n",
    "import seaborn as sns\n",
    "from pandas_profiling import ProfileReport\n",
    "import matplotlib.pyplot as plt\n",
    "import plotly_express as px\n",
    "from matplotlib import colors\n",
    "from prophet import Prophet\n",
    "from prophet.plot import plot_plotly, plot_components_plotly\n",
    "import plotly.graph_objects as go\n",
    "import plotly.express as px\n",
    "import warnings\n",
    "warnings.filterwarnings(\"ignore\")"
   ]
  },
  {
   "cell_type": "markdown",
   "id": "4d3ab698-a2f0-4150-a40a-5b01096cdf04",
   "metadata": {},
   "source": [
    "<h4>Importação de CVs para o Pandas</h4>"
   ]
  },
  {
   "cell_type": "code",
   "execution_count": 140,
   "id": "ce0a883a-6dc6-468e-b153-ddc2090fa817",
   "metadata": {},
   "outputs": [],
   "source": [
    "timeline_casos = pd.read_csv(\"Worldwide_Case_Detection_Timeline.csv\", index_col=\"Date_confirmation\")\n",
    "casos_mundo = pd.read_csv(\"Monkey_Pox_Cases_Worldwide.csv\",index_col=\"Country\")\n",
    "casos_diarios_mundo = pd.read_csv(\"Daily_Country_Wise_Confirmed_Cases.csv\",index_col=\"Country\")"
   ]
  },
  {
   "cell_type": "code",
   "execution_count": 141,
   "id": "bc44a8ce-f6fa-4729-9be2-b371647f1d0e",
   "metadata": {},
   "outputs": [],
   "source": [
    "pd.set_option('display.max_rows', 30)"
   ]
  },
  {
   "cell_type": "code",
   "execution_count": 142,
   "id": "531b5768-cf0b-45e7-8781-81698768f78b",
   "metadata": {},
   "outputs": [],
   "source": [
    "def espaco():\n",
    "    print('--' * 40)"
   ]
  },
  {
   "cell_type": "markdown",
   "id": "4d6af0d2-2acb-4200-8c71-45a48380d46a",
   "metadata": {},
   "source": [
    "<a href=\"#indice\"><img src=\"botao-topo.png\" width=\"15%\"/></a>"
   ]
  },
  {
   "cell_type": "markdown",
   "id": "fdac68da-3579-420b-8035-4c73c98f7493",
   "metadata": {
    "tags": []
   },
   "source": [
    "<div id=\"2\"><h2>3 - Verificações de dados</h2></div>"
   ]
  },
  {
   "cell_type": "markdown",
   "id": "3a7e6450-0659-449c-b26f-6b7bd453c15d",
   "metadata": {},
   "source": [
    "<h4>Quantidade de linhas e colunas em cada dataset</h4>"
   ]
  },
  {
   "cell_type": "code",
   "execution_count": 143,
   "id": "de18b77d-bca5-4df0-bf70-cc55037ab25b",
   "metadata": {},
   "outputs": [
    {
     "name": "stdout",
     "output_type": "stream",
     "text": [
      "(51054, 8)\n",
      "(120, 5)\n",
      "(103, 118)\n"
     ]
    }
   ],
   "source": [
    "print(timeline_casos.shape)\n",
    "print(casos_mundo.shape)\n",
    "print(casos_diarios_mundo.shape)"
   ]
  },
  {
   "cell_type": "markdown",
   "id": "2d02be35-1af2-4c4a-aaac-48543403e00d",
   "metadata": {},
   "source": [
    "<h4>Verificação de tipos de cada coluna</h4>"
   ]
  },
  {
   "cell_type": "code",
   "execution_count": 144,
   "id": "61c4acb8-286f-49fe-8a1b-bf1317366b3a",
   "metadata": {},
   "outputs": [
    {
     "name": "stdout",
     "output_type": "stream",
     "text": [
      "--------------------------------------------------------------------------------\n",
      "Informações timeline de casos: \n",
      "<class 'pandas.core.frame.DataFrame'>\n",
      "Index: 51054 entries, 2022-01-31 to 2022-08-30\n",
      "Data columns (total 8 columns):\n",
      " #   Column                   Non-Null Count  Dtype \n",
      "---  ------                   --------------  ----- \n",
      " 0   Country                  51054 non-null  object\n",
      " 1   City                     1146 non-null   object\n",
      " 2   Age                      2693 non-null   object\n",
      " 3   Gender                   2200 non-null   object\n",
      " 4   Symptoms                 182 non-null    object\n",
      " 5   Hospitalised (Y/N/NA)    282 non-null    object\n",
      " 6   Isolated (Y/N/NA)        386 non-null    object\n",
      " 7   Travel_history (Y/N/NA)  324 non-null    object\n",
      "dtypes: object(8)\n",
      "memory usage: 3.5+ MB\n",
      "None\n",
      "--------------------------------------------------------------------------------\n",
      "Informações de casos diários no mundo: \n",
      "<class 'pandas.core.frame.DataFrame'>\n",
      "Index: 103 entries, Nigeria to Paraguay\n",
      "Columns: 118 entries, 2022-01-31 to 2022-08-30\n",
      "dtypes: int64(118)\n",
      "memory usage: 95.8+ KB\n",
      "None\n",
      "--------------------------------------------------------------------------------\n",
      "Informações de casos no mundo: \n",
      "<class 'pandas.core.frame.DataFrame'>\n",
      "Index: 120 entries, England to Sierra Leone\n",
      "Data columns (total 5 columns):\n",
      " #   Column              Non-Null Count  Dtype  \n",
      "---  ------              --------------  -----  \n",
      " 0   Confirmed_Cases     120 non-null    float64\n",
      " 1   Suspected_Cases     120 non-null    float64\n",
      " 2   Hospitalized        120 non-null    float64\n",
      " 3   Travel_History_Yes  120 non-null    float64\n",
      " 4   Travel_History_No   120 non-null    float64\n",
      "dtypes: float64(5)\n",
      "memory usage: 5.6+ KB\n",
      "None\n",
      "--------------------------------------------------------------------------------\n"
     ]
    }
   ],
   "source": [
    "espaco()\n",
    "print('Informações timeline de casos: ')\n",
    "print(timeline_casos.info())\n",
    "espaco()\n",
    "print('Informações de casos diários no mundo: ')\n",
    "print(casos_diarios_mundo.info())\n",
    "espaco()\n",
    "print('Informações de casos no mundo: ')\n",
    "print(casos_mundo.info())\n",
    "espaco()"
   ]
  },
  {
   "cell_type": "markdown",
   "id": "46eea56f-d63f-4a11-b2a4-ad1d67eb9f9e",
   "metadata": {},
   "source": [
    "<b style=\"color:#1e6d06\">Observação:</b> As colunas estão no formato que precisam, apenas as datas dos casos diários que estão como int e vamos converter para datetime mais pra frente."
   ]
  },
  {
   "cell_type": "markdown",
   "id": "77b85324-a01d-466c-9c8e-afeef31621cf",
   "metadata": {},
   "source": [
    "<h4>Verificação de dados nulos</h4>"
   ]
  },
  {
   "cell_type": "code",
   "execution_count": 145,
   "id": "54f0d988-ef0d-46e4-a3d4-84bb08a9d9d5",
   "metadata": {},
   "outputs": [
    {
     "name": "stdout",
     "output_type": "stream",
     "text": [
      "--------------------------------------------------------------------------------\n",
      "Country                        0\n",
      "City                       49908\n",
      "Age                        48361\n",
      "Gender                     48854\n",
      "Symptoms                   50872\n",
      "Hospitalised (Y/N/NA)      50772\n",
      "Isolated (Y/N/NA)          50668\n",
      "Travel_history (Y/N/NA)    50730\n",
      "dtype: int64\n",
      "--------------------------------------------------------------------------------\n",
      "2022-01-31    0\n",
      "2022-02-17    0\n",
      "2022-02-28    0\n",
      "2022-03-04    0\n",
      "2022-03-31    0\n",
      "             ..\n",
      "2022-08-26    0\n",
      "2022-08-27    0\n",
      "2022-08-28    0\n",
      "2022-08-29    0\n",
      "2022-08-30    0\n",
      "Length: 118, dtype: int64\n",
      "--------------------------------------------------------------------------------\n",
      "Confirmed_Cases       0\n",
      "Suspected_Cases       0\n",
      "Hospitalized          0\n",
      "Travel_History_Yes    0\n",
      "Travel_History_No     0\n",
      "dtype: int64\n",
      "--------------------------------------------------------------------------------\n"
     ]
    }
   ],
   "source": [
    "espaco()\n",
    "print(timeline_casos.isnull().sum())\n",
    "espaco()\n",
    "print(casos_diarios_mundo.isnull().sum())\n",
    "espaco()\n",
    "print(casos_mundo.isnull().sum())\n",
    "espaco()"
   ]
  },
  {
   "cell_type": "code",
   "execution_count": 146,
   "id": "deba6867-4e86-4066-b7f0-b0fd3700efff",
   "metadata": {},
   "outputs": [
    {
     "name": "stdout",
     "output_type": "stream",
     "text": [
      "--------------------------------------------------------------------------------\n",
      "Country                        0\n",
      "City                       49908\n",
      "Age                        48361\n",
      "Gender                     48854\n",
      "Symptoms                   50872\n",
      "Hospitalised (Y/N/NA)      50772\n",
      "Isolated (Y/N/NA)          50668\n",
      "Travel_history (Y/N/NA)    50730\n",
      "dtype: int64\n",
      "--------------------------------------------------------------------------------\n",
      "2022-01-31    0\n",
      "2022-02-17    0\n",
      "2022-02-28    0\n",
      "2022-03-04    0\n",
      "2022-03-31    0\n",
      "             ..\n",
      "2022-08-26    0\n",
      "2022-08-27    0\n",
      "2022-08-28    0\n",
      "2022-08-29    0\n",
      "2022-08-30    0\n",
      "Length: 118, dtype: int64\n",
      "--------------------------------------------------------------------------------\n",
      "Confirmed_Cases       0\n",
      "Suspected_Cases       0\n",
      "Hospitalized          0\n",
      "Travel_History_Yes    0\n",
      "Travel_History_No     0\n",
      "dtype: int64\n",
      "--------------------------------------------------------------------------------\n"
     ]
    }
   ],
   "source": [
    "espaco()\n",
    "print(timeline_casos.isnull().sum())\n",
    "espaco()\n",
    "print(casos_diarios_mundo.isnull().sum())\n",
    "espaco()\n",
    "print(casos_mundo.isnull().sum())\n",
    "espaco()"
   ]
  },
  {
   "cell_type": "markdown",
   "id": "dcc6d04d-3fa2-42a3-a847-38f07022a4c2",
   "metadata": {},
   "source": [
    "<h4>Detalhes de cada dataset</h4>"
   ]
  },
  {
   "cell_type": "code",
   "execution_count": 147,
   "id": "3ae63ad9-f0a2-4c0f-8a52-9475d6c074ed",
   "metadata": {},
   "outputs": [
    {
     "name": "stdout",
     "output_type": "stream",
     "text": [
      "--------------------------------------------------------------------------------\n",
      "              Country     City    Age Gender               Symptoms  \\\n",
      "count           51054     1146   2693   2200                    182   \n",
      "unique            104      161     82      5                     85   \n",
      "top     United States  Toronto  20-69   male  genital ulcer lesions   \n",
      "freq            18553      437    585   2162                     30   \n",
      "\n",
      "       Hospitalised (Y/N/NA) Isolated (Y/N/NA) Travel_history (Y/N/NA)  \n",
      "count                    282               386                     324  \n",
      "unique                     2                 1                       2  \n",
      "top                        N                 Y                       Y  \n",
      "freq                     161               386                     238  \n",
      "--------------------------------------------------------------------------------\n",
      "       2022-01-31  2022-02-17  2022-02-28  2022-03-04  2022-03-31  2022-04-10  \\\n",
      "count  103.000000  103.000000  103.000000  103.000000  103.000000  103.000000   \n",
      "mean     0.029126    0.029126    0.009709    0.019417    0.058252    0.038835   \n",
      "std      0.295599    0.295599    0.098533    0.197066    0.591198    0.394132   \n",
      "min      0.000000    0.000000    0.000000    0.000000    0.000000    0.000000   \n",
      "25%      0.000000    0.000000    0.000000    0.000000    0.000000    0.000000   \n",
      "50%      0.000000    0.000000    0.000000    0.000000    0.000000    0.000000   \n",
      "75%      0.000000    0.000000    0.000000    0.000000    0.000000    0.000000   \n",
      "max      3.000000    3.000000    1.000000    2.000000    6.000000    4.000000   \n",
      "\n",
      "       2022-04-12  2022-04-30  2022-05-06  2022-05-08  ...  2022-08-21  \\\n",
      "count  103.000000  103.000000  103.000000  103.000000  ...  103.000000   \n",
      "mean     0.019417    0.048544    0.009709    0.097087  ...    1.048544   \n",
      "std      0.197066    0.492665    0.098533    0.985329  ...    6.794431   \n",
      "min      0.000000    0.000000    0.000000    0.000000  ...    0.000000   \n",
      "25%      0.000000    0.000000    0.000000    0.000000  ...    0.000000   \n",
      "50%      0.000000    0.000000    0.000000    0.000000  ...    0.000000   \n",
      "75%      0.000000    0.000000    0.000000    0.000000  ...    0.000000   \n",
      "max      2.000000    5.000000    1.000000   10.000000  ...   60.000000   \n",
      "\n",
      "        2022-08-22  2022-08-23  2022-08-24  2022-08-25  2022-08-26  \\\n",
      "count   103.000000  103.000000  103.000000  103.000000  103.000000   \n",
      "mean     20.029126   14.087379   10.184466    6.184466   10.349515   \n",
      "std     130.697185   71.862083   69.187405   33.842411   57.514484   \n",
      "min       0.000000    0.000000    0.000000    0.000000    0.000000   \n",
      "25%       0.000000    0.000000    0.000000    0.000000    0.000000   \n",
      "50%       0.000000    0.000000    0.000000    0.000000    0.000000   \n",
      "75%       0.000000    0.000000    0.000000    0.000000    0.000000   \n",
      "max    1308.000000  532.000000  682.000000  323.000000  499.000000   \n",
      "\n",
      "       2022-08-27  2022-08-28  2022-08-29  2022-08-30  \n",
      "count  103.000000  103.000000  103.000000  103.000000  \n",
      "mean     0.572816    0.514563   16.155340    5.330097  \n",
      "std      4.230148    5.123694   75.937507   35.715210  \n",
      "min      0.000000    0.000000    0.000000    0.000000  \n",
      "25%      0.000000    0.000000    0.000000    0.000000  \n",
      "50%      0.000000    0.000000    0.000000    0.000000  \n",
      "75%      0.000000    0.000000    0.000000    0.000000  \n",
      "max     40.000000   52.000000  659.000000  313.000000  \n",
      "\n",
      "[8 rows x 118 columns]\n",
      "--------------------------------------------------------------------------------\n",
      "       Confirmed_Cases  Suspected_Cases  Hospitalized  Travel_History_Yes  \\\n",
      "count       120.000000       120.000000    120.000000          120.000000   \n",
      "mean        422.916667        21.575000      1.191667            2.191667   \n",
      "std        1883.626627       203.969336      2.870586            4.909767   \n",
      "min           0.000000         0.000000      0.000000            0.000000   \n",
      "25%           2.000000         0.000000      0.000000            0.000000   \n",
      "50%           6.000000         0.000000      0.000000            1.000000   \n",
      "75%          70.000000         0.000000      1.000000            3.000000   \n",
      "max       18308.000000      2217.000000     18.000000           41.000000   \n",
      "\n",
      "       Travel_History_No  \n",
      "count         120.000000  \n",
      "mean            0.733333  \n",
      "std             3.627007  \n",
      "min             0.000000  \n",
      "25%             0.000000  \n",
      "50%             0.000000  \n",
      "75%             0.000000  \n",
      "max            34.000000  \n",
      "--------------------------------------------------------------------------------\n"
     ]
    }
   ],
   "source": [
    "espaco()\n",
    "print(timeline_casos.describe(include = 'all'))\n",
    "espaco()\n",
    "print(casos_diarios_mundo.describe(include = 'all'))\n",
    "espaco()\n",
    "print(casos_mundo.describe(include = 'all'))\n",
    "espaco()"
   ]
  },
  {
   "cell_type": "markdown",
   "id": "7c7f8a28-e494-4392-b9d5-4ea8023cb82d",
   "metadata": {},
   "source": [
    "<a href=\"#indice\"><img src=\"botao-topo.png\" width=\"15%\"/></a>"
   ]
  },
  {
   "cell_type": "markdown",
   "id": "9096345b-b75b-415f-b6dd-dbfabfe23ab2",
   "metadata": {},
   "source": [
    "<div id=\"3\"><h2>4 - Curiosidades (EDA)</h2></div>"
   ]
  },
  {
   "cell_type": "markdown",
   "id": "97b6646b-e3ea-4c9b-ba4c-01c4dfeebf37",
   "metadata": {
    "tags": []
   },
   "source": [
    "<h4>Top 20 países com mais casos confirmados</h4>"
   ]
  },
  {
   "cell_type": "code",
   "execution_count": 148,
   "id": "4450fc6e-18e5-435c-af92-7ac2f5cdcb97",
   "metadata": {},
   "outputs": [
    {
     "data": {
      "text/html": [
       "<div>\n",
       "<style scoped>\n",
       "    .dataframe tbody tr th:only-of-type {\n",
       "        vertical-align: middle;\n",
       "    }\n",
       "\n",
       "    .dataframe tbody tr th {\n",
       "        vertical-align: top;\n",
       "    }\n",
       "\n",
       "    .dataframe thead th {\n",
       "        text-align: right;\n",
       "    }\n",
       "</style>\n",
       "<table border=\"1\" class=\"dataframe\">\n",
       "  <thead>\n",
       "    <tr style=\"text-align: right;\">\n",
       "      <th></th>\n",
       "      <th>Confirmed_Cases</th>\n",
       "    </tr>\n",
       "    <tr>\n",
       "      <th>Country</th>\n",
       "      <th></th>\n",
       "    </tr>\n",
       "  </thead>\n",
       "  <tbody>\n",
       "    <tr>\n",
       "      <th>United States</th>\n",
       "      <td>18308.0</td>\n",
       "    </tr>\n",
       "    <tr>\n",
       "      <th>Spain</th>\n",
       "      <td>6459.0</td>\n",
       "    </tr>\n",
       "    <tr>\n",
       "      <th>Brazil</th>\n",
       "      <td>4876.0</td>\n",
       "    </tr>\n",
       "    <tr>\n",
       "      <th>France</th>\n",
       "      <td>3539.0</td>\n",
       "    </tr>\n",
       "    <tr>\n",
       "      <th>Germany</th>\n",
       "      <td>3455.0</td>\n",
       "    </tr>\n",
       "    <tr>\n",
       "      <th>England</th>\n",
       "      <td>3257.0</td>\n",
       "    </tr>\n",
       "    <tr>\n",
       "      <th>Peru</th>\n",
       "      <td>1463.0</td>\n",
       "    </tr>\n",
       "    <tr>\n",
       "      <th>Canada</th>\n",
       "      <td>1228.0</td>\n",
       "    </tr>\n",
       "    <tr>\n",
       "      <th>Netherlands</th>\n",
       "      <td>1136.0</td>\n",
       "    </tr>\n",
       "    <tr>\n",
       "      <th>Portugal</th>\n",
       "      <td>846.0</td>\n",
       "    </tr>\n",
       "    <tr>\n",
       "      <th>Italy</th>\n",
       "      <td>740.0</td>\n",
       "    </tr>\n",
       "    <tr>\n",
       "      <th>Belgium</th>\n",
       "      <td>671.0</td>\n",
       "    </tr>\n",
       "    <tr>\n",
       "      <th>Colombia</th>\n",
       "      <td>582.0</td>\n",
       "    </tr>\n",
       "    <tr>\n",
       "      <th>Mexico</th>\n",
       "      <td>504.0</td>\n",
       "    </tr>\n",
       "    <tr>\n",
       "      <th>Switzerland</th>\n",
       "      <td>456.0</td>\n",
       "    </tr>\n",
       "    <tr>\n",
       "      <th>Chile</th>\n",
       "      <td>344.0</td>\n",
       "    </tr>\n",
       "    <tr>\n",
       "      <th>Austria</th>\n",
       "      <td>265.0</td>\n",
       "    </tr>\n",
       "    <tr>\n",
       "      <th>Israel</th>\n",
       "      <td>234.0</td>\n",
       "    </tr>\n",
       "    <tr>\n",
       "      <th>Denmark</th>\n",
       "      <td>174.0</td>\n",
       "    </tr>\n",
       "    <tr>\n",
       "      <th>Nigeria</th>\n",
       "      <td>172.0</td>\n",
       "    </tr>\n",
       "  </tbody>\n",
       "</table>\n",
       "</div>"
      ],
      "text/plain": [
       "               Confirmed_Cases\n",
       "Country                       \n",
       "United States          18308.0\n",
       "Spain                   6459.0\n",
       "Brazil                  4876.0\n",
       "France                  3539.0\n",
       "Germany                 3455.0\n",
       "England                 3257.0\n",
       "Peru                    1463.0\n",
       "Canada                  1228.0\n",
       "Netherlands             1136.0\n",
       "Portugal                 846.0\n",
       "Italy                    740.0\n",
       "Belgium                  671.0\n",
       "Colombia                 582.0\n",
       "Mexico                   504.0\n",
       "Switzerland              456.0\n",
       "Chile                    344.0\n",
       "Austria                  265.0\n",
       "Israel                   234.0\n",
       "Denmark                  174.0\n",
       "Nigeria                  172.0"
      ]
     },
     "execution_count": 148,
     "metadata": {},
     "output_type": "execute_result"
    }
   ],
   "source": [
    "casos_mundo.sort_values(by=\"Confirmed_Cases\",ascending=False )[[\"Confirmed_Cases\"]][:20]"
   ]
  },
  {
   "cell_type": "markdown",
   "id": "6a1db695-f5c0-4c3a-a3c7-070b95d69fa9",
   "metadata": {},
   "source": [
    "<b style=\"color:#1e6d06\">Observação:</b> Infelizmente o Brasil já figura na terceira posição, com 4876 casos confirmados."
   ]
  },
  {
   "cell_type": "markdown",
   "id": "142e346f-1041-4d54-9252-5f178eba02a3",
   "metadata": {
    "tags": []
   },
   "source": [
    "<h4>Top 20 países com mais hospitalizações</h4>"
   ]
  },
  {
   "cell_type": "code",
   "execution_count": 149,
   "id": "6ec0d12a-2e98-46ed-a4ed-1a480844fcde",
   "metadata": {},
   "outputs": [
    {
     "data": {
      "text/html": [
       "<div>\n",
       "<style scoped>\n",
       "    .dataframe tbody tr th:only-of-type {\n",
       "        vertical-align: middle;\n",
       "    }\n",
       "\n",
       "    .dataframe tbody tr th {\n",
       "        vertical-align: top;\n",
       "    }\n",
       "\n",
       "    .dataframe thead th {\n",
       "        text-align: right;\n",
       "    }\n",
       "</style>\n",
       "<table border=\"1\" class=\"dataframe\">\n",
       "  <thead>\n",
       "    <tr style=\"text-align: right;\">\n",
       "      <th></th>\n",
       "      <th>Confirmed_Cases</th>\n",
       "      <th>Hospitalized</th>\n",
       "    </tr>\n",
       "    <tr>\n",
       "      <th>Country</th>\n",
       "      <th></th>\n",
       "      <th></th>\n",
       "    </tr>\n",
       "  </thead>\n",
       "  <tbody>\n",
       "    <tr>\n",
       "      <th>Italy</th>\n",
       "      <td>740.0</td>\n",
       "      <td>18.0</td>\n",
       "    </tr>\n",
       "    <tr>\n",
       "      <th>Germany</th>\n",
       "      <td>3455.0</td>\n",
       "      <td>18.0</td>\n",
       "    </tr>\n",
       "    <tr>\n",
       "      <th>Spain</th>\n",
       "      <td>6459.0</td>\n",
       "      <td>13.0</td>\n",
       "    </tr>\n",
       "    <tr>\n",
       "      <th>Singapore</th>\n",
       "      <td>16.0</td>\n",
       "      <td>8.0</td>\n",
       "    </tr>\n",
       "    <tr>\n",
       "      <th>Romania</th>\n",
       "      <td>36.0</td>\n",
       "      <td>7.0</td>\n",
       "    </tr>\n",
       "    <tr>\n",
       "      <th>England</th>\n",
       "      <td>3257.0</td>\n",
       "      <td>5.0</td>\n",
       "    </tr>\n",
       "    <tr>\n",
       "      <th>Bolivia</th>\n",
       "      <td>79.0</td>\n",
       "      <td>5.0</td>\n",
       "    </tr>\n",
       "    <tr>\n",
       "      <th>United States</th>\n",
       "      <td>18308.0</td>\n",
       "      <td>4.0</td>\n",
       "    </tr>\n",
       "    <tr>\n",
       "      <th>Dominican Republic</th>\n",
       "      <td>9.0</td>\n",
       "      <td>4.0</td>\n",
       "    </tr>\n",
       "    <tr>\n",
       "      <th>Japan</th>\n",
       "      <td>4.0</td>\n",
       "      <td>4.0</td>\n",
       "    </tr>\n",
       "    <tr>\n",
       "      <th>Brazil</th>\n",
       "      <td>4876.0</td>\n",
       "      <td>4.0</td>\n",
       "    </tr>\n",
       "    <tr>\n",
       "      <th>Thailand</th>\n",
       "      <td>7.0</td>\n",
       "      <td>4.0</td>\n",
       "    </tr>\n",
       "    <tr>\n",
       "      <th>India</th>\n",
       "      <td>10.0</td>\n",
       "      <td>3.0</td>\n",
       "    </tr>\n",
       "    <tr>\n",
       "      <th>Cyprus</th>\n",
       "      <td>5.0</td>\n",
       "      <td>3.0</td>\n",
       "    </tr>\n",
       "    <tr>\n",
       "      <th>Somalia</th>\n",
       "      <td>0.0</td>\n",
       "      <td>3.0</td>\n",
       "    </tr>\n",
       "    <tr>\n",
       "      <th>Israel</th>\n",
       "      <td>234.0</td>\n",
       "      <td>3.0</td>\n",
       "    </tr>\n",
       "    <tr>\n",
       "      <th>Austria</th>\n",
       "      <td>265.0</td>\n",
       "      <td>2.0</td>\n",
       "    </tr>\n",
       "    <tr>\n",
       "      <th>Greece</th>\n",
       "      <td>56.0</td>\n",
       "      <td>2.0</td>\n",
       "    </tr>\n",
       "    <tr>\n",
       "      <th>Belgium</th>\n",
       "      <td>671.0</td>\n",
       "      <td>2.0</td>\n",
       "    </tr>\n",
       "    <tr>\n",
       "      <th>Peru</th>\n",
       "      <td>1463.0</td>\n",
       "      <td>2.0</td>\n",
       "    </tr>\n",
       "  </tbody>\n",
       "</table>\n",
       "</div>"
      ],
      "text/plain": [
       "                    Confirmed_Cases  Hospitalized\n",
       "Country                                          \n",
       "Italy                         740.0          18.0\n",
       "Germany                      3455.0          18.0\n",
       "Spain                        6459.0          13.0\n",
       "Singapore                      16.0           8.0\n",
       "Romania                        36.0           7.0\n",
       "England                      3257.0           5.0\n",
       "Bolivia                        79.0           5.0\n",
       "United States               18308.0           4.0\n",
       "Dominican Republic              9.0           4.0\n",
       "Japan                           4.0           4.0\n",
       "Brazil                       4876.0           4.0\n",
       "Thailand                        7.0           4.0\n",
       "India                          10.0           3.0\n",
       "Cyprus                          5.0           3.0\n",
       "Somalia                         0.0           3.0\n",
       "Israel                        234.0           3.0\n",
       "Austria                       265.0           2.0\n",
       "Greece                         56.0           2.0\n",
       "Belgium                       671.0           2.0\n",
       "Peru                         1463.0           2.0"
      ]
     },
     "execution_count": 149,
     "metadata": {},
     "output_type": "execute_result"
    }
   ],
   "source": [
    "casos_mundo.sort_values(by=\"Hospitalized\",ascending=False )[[\"Confirmed_Cases\",\"Hospitalized\"]][:20]"
   ]
  },
  {
   "cell_type": "markdown",
   "id": "838bfac4-7086-4eac-a1c7-b03b988c9c43",
   "metadata": {},
   "source": [
    "<b style=\"color:#1e6d06\">Observação:</b> Temos 4 hospitalizações, é interessante descobrirmos o percentual relativo à quantidade de casos."
   ]
  },
  {
   "cell_type": "markdown",
   "id": "1a5642fd-72ba-4c33-9d6c-912b6a5640d3",
   "metadata": {},
   "source": [
    "<h4>Correlação entre colunas</h4>"
   ]
  },
  {
   "cell_type": "code",
   "execution_count": 176,
   "id": "ae892ea0-f5eb-4ec8-bf9d-b5fa7b24b566",
   "metadata": {},
   "outputs": [
    {
     "data": {
      "text/plain": [
       "<AxesSubplot:>"
      ]
     },
     "execution_count": 176,
     "metadata": {},
     "output_type": "execute_result"
    },
    {
     "data": {
      "image/png": "[encoded data removed]",
      "text/plain": [
       "<Figure size 864x864 with 2 Axes>"
      ]
     },
     "metadata": {
      "needs_background": "light"
     },
     "output_type": "display_data"
    }
   ],
   "source": [
    "corr= casos_mundo.corr()\n",
    "plt.figure(figsize=(12,12))  \n",
    "sns.heatmap(corr,annot=True, cmap=\"Greens\",vmax=1,vmin=0)"
   ]
  },
  {
   "cell_type": "markdown",
   "id": "f50fcc7a-a835-4e36-bba5-8a98ed37ae34",
   "metadata": {},
   "source": [
    "<h4>Criação de coluna com percentual de hospitalizações</h4>"
   ]
  },
  {
   "cell_type": "code",
   "execution_count": 151,
   "id": "7f4b0b78-f78e-4d1a-a681-5f649764a379",
   "metadata": {},
   "outputs": [],
   "source": [
    "casos_mundo['Hospercent'] = (casos_mundo['Hospitalized'] / casos_mundo['Confirmed_Cases']) * 100"
   ]
  },
  {
   "cell_type": "code",
   "execution_count": 152,
   "id": "03651de5-0415-4c1d-891a-031e8bfc9430",
   "metadata": {},
   "outputs": [
    {
     "data": {
      "text/html": [
       "<div>\n",
       "<style scoped>\n",
       "    .dataframe tbody tr th:only-of-type {\n",
       "        vertical-align: middle;\n",
       "    }\n",
       "\n",
       "    .dataframe tbody tr th {\n",
       "        vertical-align: top;\n",
       "    }\n",
       "\n",
       "    .dataframe thead th {\n",
       "        text-align: right;\n",
       "    }\n",
       "</style>\n",
       "<table border=\"1\" class=\"dataframe\">\n",
       "  <thead>\n",
       "    <tr style=\"text-align: right;\">\n",
       "      <th></th>\n",
       "      <th>Confirmed_Cases</th>\n",
       "      <th>Hospitalized</th>\n",
       "      <th>Hospercent</th>\n",
       "    </tr>\n",
       "    <tr>\n",
       "      <th>Country</th>\n",
       "      <th></th>\n",
       "      <th></th>\n",
       "      <th></th>\n",
       "    </tr>\n",
       "  </thead>\n",
       "  <tbody>\n",
       "    <tr>\n",
       "      <th>Nepal</th>\n",
       "      <td>0.0</td>\n",
       "      <td>1.0</td>\n",
       "      <td>inf</td>\n",
       "    </tr>\n",
       "    <tr>\n",
       "      <th>Somalia</th>\n",
       "      <td>0.0</td>\n",
       "      <td>3.0</td>\n",
       "      <td>inf</td>\n",
       "    </tr>\n",
       "    <tr>\n",
       "      <th>Pakistan</th>\n",
       "      <td>0.0</td>\n",
       "      <td>1.0</td>\n",
       "      <td>inf</td>\n",
       "    </tr>\n",
       "    <tr>\n",
       "      <th>Kosovo</th>\n",
       "      <td>0.0</td>\n",
       "      <td>1.0</td>\n",
       "      <td>inf</td>\n",
       "    </tr>\n",
       "    <tr>\n",
       "      <th>Cuba</th>\n",
       "      <td>1.0</td>\n",
       "      <td>1.0</td>\n",
       "      <td>100.000000</td>\n",
       "    </tr>\n",
       "    <tr>\n",
       "      <th>Japan</th>\n",
       "      <td>4.0</td>\n",
       "      <td>4.0</td>\n",
       "      <td>100.000000</td>\n",
       "    </tr>\n",
       "    <tr>\n",
       "      <th>Guyana</th>\n",
       "      <td>2.0</td>\n",
       "      <td>2.0</td>\n",
       "      <td>100.000000</td>\n",
       "    </tr>\n",
       "    <tr>\n",
       "      <th>South Korea</th>\n",
       "      <td>1.0</td>\n",
       "      <td>1.0</td>\n",
       "      <td>100.000000</td>\n",
       "    </tr>\n",
       "    <tr>\n",
       "      <th>Cyprus</th>\n",
       "      <td>5.0</td>\n",
       "      <td>3.0</td>\n",
       "      <td>60.000000</td>\n",
       "    </tr>\n",
       "    <tr>\n",
       "      <th>Thailand</th>\n",
       "      <td>7.0</td>\n",
       "      <td>4.0</td>\n",
       "      <td>57.142857</td>\n",
       "    </tr>\n",
       "    <tr>\n",
       "      <th>Moldova</th>\n",
       "      <td>2.0</td>\n",
       "      <td>1.0</td>\n",
       "      <td>50.000000</td>\n",
       "    </tr>\n",
       "    <tr>\n",
       "      <th>Singapore</th>\n",
       "      <td>16.0</td>\n",
       "      <td>8.0</td>\n",
       "      <td>50.000000</td>\n",
       "    </tr>\n",
       "    <tr>\n",
       "      <th>Dominican Republic</th>\n",
       "      <td>9.0</td>\n",
       "      <td>4.0</td>\n",
       "      <td>44.444444</td>\n",
       "    </tr>\n",
       "    <tr>\n",
       "      <th>Costa Rica</th>\n",
       "      <td>3.0</td>\n",
       "      <td>1.0</td>\n",
       "      <td>33.333333</td>\n",
       "    </tr>\n",
       "    <tr>\n",
       "      <th>Taiwan</th>\n",
       "      <td>3.0</td>\n",
       "      <td>1.0</td>\n",
       "      <td>33.333333</td>\n",
       "    </tr>\n",
       "    <tr>\n",
       "      <th>Qatar</th>\n",
       "      <td>3.0</td>\n",
       "      <td>1.0</td>\n",
       "      <td>33.333333</td>\n",
       "    </tr>\n",
       "    <tr>\n",
       "      <th>India</th>\n",
       "      <td>10.0</td>\n",
       "      <td>3.0</td>\n",
       "      <td>30.000000</td>\n",
       "    </tr>\n",
       "    <tr>\n",
       "      <th>Philippines</th>\n",
       "      <td>4.0</td>\n",
       "      <td>1.0</td>\n",
       "      <td>25.000000</td>\n",
       "    </tr>\n",
       "    <tr>\n",
       "      <th>Bulgaria</th>\n",
       "      <td>4.0</td>\n",
       "      <td>1.0</td>\n",
       "      <td>25.000000</td>\n",
       "    </tr>\n",
       "    <tr>\n",
       "      <th>Romania</th>\n",
       "      <td>36.0</td>\n",
       "      <td>7.0</td>\n",
       "      <td>19.444444</td>\n",
       "    </tr>\n",
       "  </tbody>\n",
       "</table>\n",
       "</div>"
      ],
      "text/plain": [
       "                    Confirmed_Cases  Hospitalized  Hospercent\n",
       "Country                                                      \n",
       "Nepal                           0.0           1.0         inf\n",
       "Somalia                         0.0           3.0         inf\n",
       "Pakistan                        0.0           1.0         inf\n",
       "Kosovo                          0.0           1.0         inf\n",
       "Cuba                            1.0           1.0  100.000000\n",
       "Japan                           4.0           4.0  100.000000\n",
       "Guyana                          2.0           2.0  100.000000\n",
       "South Korea                     1.0           1.0  100.000000\n",
       "Cyprus                          5.0           3.0   60.000000\n",
       "Thailand                        7.0           4.0   57.142857\n",
       "Moldova                         2.0           1.0   50.000000\n",
       "Singapore                      16.0           8.0   50.000000\n",
       "Dominican Republic              9.0           4.0   44.444444\n",
       "Costa Rica                      3.0           1.0   33.333333\n",
       "Taiwan                          3.0           1.0   33.333333\n",
       "Qatar                           3.0           1.0   33.333333\n",
       "India                          10.0           3.0   30.000000\n",
       "Philippines                     4.0           1.0   25.000000\n",
       "Bulgaria                        4.0           1.0   25.000000\n",
       "Romania                        36.0           7.0   19.444444"
      ]
     },
     "execution_count": 152,
     "metadata": {},
     "output_type": "execute_result"
    }
   ],
   "source": [
    "casos_mundo.sort_values(by=\"Hospercent\",ascending=False )[[\"Confirmed_Cases\",\"Hospitalized\",\"Hospercent\"]][:20]"
   ]
  },
  {
   "cell_type": "markdown",
   "id": "b355a045-748f-4981-a5ee-faba7ed2f3be",
   "metadata": {},
   "source": [
    "<b style=\"color:#1e6d06\">Observação:</b> Seja pela origem dos dados ou governos não fornecendo as informações necessárias, diversos países estão com percentuais de casos estranhas."
   ]
  },
  {
   "cell_type": "code",
   "execution_count": 153,
   "id": "97a443a9-251f-41f5-939b-204cd4b0196e",
   "metadata": {},
   "outputs": [
    {
     "data": {
      "text/html": [
       "<div>\n",
       "<style scoped>\n",
       "    .dataframe tbody tr th:only-of-type {\n",
       "        vertical-align: middle;\n",
       "    }\n",
       "\n",
       "    .dataframe tbody tr th {\n",
       "        vertical-align: top;\n",
       "    }\n",
       "\n",
       "    .dataframe thead th {\n",
       "        text-align: right;\n",
       "    }\n",
       "</style>\n",
       "<table border=\"1\" class=\"dataframe\">\n",
       "  <thead>\n",
       "    <tr style=\"text-align: right;\">\n",
       "      <th></th>\n",
       "      <th>Confirmed_Cases</th>\n",
       "      <th>Hospitalized</th>\n",
       "      <th>Hospercent</th>\n",
       "    </tr>\n",
       "    <tr>\n",
       "      <th>Country</th>\n",
       "      <th></th>\n",
       "      <th></th>\n",
       "      <th></th>\n",
       "    </tr>\n",
       "  </thead>\n",
       "  <tbody>\n",
       "    <tr>\n",
       "      <th>Brazil</th>\n",
       "      <td>4876.0</td>\n",
       "      <td>4.0</td>\n",
       "      <td>0.082034</td>\n",
       "    </tr>\n",
       "  </tbody>\n",
       "</table>\n",
       "</div>"
      ],
      "text/plain": [
       "         Confirmed_Cases  Hospitalized  Hospercent\n",
       "Country                                           \n",
       "Brazil            4876.0           4.0    0.082034"
      ]
     },
     "execution_count": 153,
     "metadata": {},
     "output_type": "execute_result"
    }
   ],
   "source": [
    "casos_mundo.sort_values(by=\"Hospitalized\",ascending=False )[[\"Confirmed_Cases\",\"Hospitalized\",\"Hospercent\"]].loc[['Brazil']]"
   ]
  },
  {
   "cell_type": "markdown",
   "id": "30ec807a-f003-474e-9087-5d648fbd40a4",
   "metadata": {},
   "source": [
    "<b style=\"color:#1e6d06\">Observação:</b> 0,82% Dos casos confirmados brasileiros estão hospitalizados."
   ]
  },
  {
   "cell_type": "markdown",
   "id": "318fd940-ad51-47b2-8e61-5655ba30f042",
   "metadata": {},
   "source": [
    "<h4>15 Tipos de sintomas mais comuns</h4>"
   ]
  },
  {
   "cell_type": "code",
   "execution_count": 154,
   "id": "65fabe02-fa3b-4c1e-bf07-7e65db8f7b8f",
   "metadata": {},
   "outputs": [
    {
     "data": {
      "text/plain": [
       "genital ulcer lesions               30\n",
       "oral and genital ulcers, fever      17\n",
       "ulcerative lesions                  16\n",
       "Rash                                13\n",
       "skin lesions, ulcerative lesions     5\n",
       "vesicular rash                       5\n",
       "genital ulcers                       5\n",
       "skin lesions                         3\n",
       "rash                                 3\n",
       "fever, skin lesions                  2\n",
       "blisters                             2\n",
       "fever, rash                          2\n",
       "fever, lesions                       2\n",
       "Fatigue, headache, fever             2\n",
       "encephalitis                         2\n",
       "Name: Symptoms, dtype: int64"
      ]
     },
     "execution_count": 154,
     "metadata": {},
     "output_type": "execute_result"
    }
   ],
   "source": [
    "timeline_casos['Symptoms'].value_counts()[:15]"
   ]
  },
  {
   "cell_type": "markdown",
   "id": "71c47c42-5ed2-4b26-91f8-cf6f2814d708",
   "metadata": {},
   "source": [
    "<h4>Contaminados por gênero</h4>"
   ]
  },
  {
   "cell_type": "code",
   "execution_count": 155,
   "id": "e682a11c-8686-4643-9e01-b160c87c6a63",
   "metadata": {},
   "outputs": [
    {
     "data": {
      "text/plain": [
       "Male      2186\n",
       "Female      14\n",
       "Name: Gender, dtype: int64"
      ]
     },
     "execution_count": 155,
     "metadata": {},
     "output_type": "execute_result"
    }
   ],
   "source": [
    "timeline_casos['Gender'].replace(to_replace = ['female',' female', 'female '], value = \"Female\", inplace=True)\n",
    "timeline_casos['Gender'].replace(to_replace = ['male','  male', 'male '], value = \"Male\", inplace=True)\n",
    "timeline_casos['Gender'].value_counts()"
   ]
  },
  {
   "cell_type": "markdown",
   "id": "2aeb7cc7-df51-48c7-9de7-7ad5eb45c3c6",
   "metadata": {},
   "source": [
    "<b style=\"color:#1e6d06\">Observação:</b> Apenas 14 mulheres foram identificadas como contaminadas"
   ]
  },
  {
   "cell_type": "markdown",
   "id": "dd93c9b2-6a5f-4b64-9642-f93f5ba4a733",
   "metadata": {
    "tags": []
   },
   "source": [
    "<h4>Contaminados por idade</h4>"
   ]
  },
  {
   "cell_type": "code",
   "execution_count": 156,
   "id": "f22b96de-7a03-4c91-a93e-ef59ebbc492f",
   "metadata": {},
   "outputs": [
    {
     "data": {
      "text/plain": [
       "20-69    585\n",
       "15-64    271\n",
       "15-74    240\n",
       "20-64    225\n",
       "20-59    203\n",
       "        ... \n",
       "0-14       1\n",
       "45-50      1\n",
       "50-55      1\n",
       "25-30      1\n",
       "40-42      1\n",
       "Name: Age, Length: 82, dtype: int64"
      ]
     },
     "execution_count": 156,
     "metadata": {},
     "output_type": "execute_result"
    }
   ],
   "source": [
    "timeline_casos['Age'].value_counts()"
   ]
  },
  {
   "cell_type": "markdown",
   "id": "f2df2d5f-9199-4e34-a301-7836c6e17d32",
   "metadata": {},
   "source": [
    "<b style=\"color:#1e6d06\">Observação:</b> Os dados estão fracos, eventualmente no futuro eu faço o tratamento deles."
   ]
  },
  {
   "cell_type": "markdown",
   "id": "c0040b59-8b10-47a3-9075-e7e3d5b55a78",
   "metadata": {
    "tags": []
   },
   "source": [
    "<h4>Pessoas contaminadas por cidades no Brasil</h4>"
   ]
  },
  {
   "cell_type": "code",
   "execution_count": 157,
   "id": "921d8fa9-68ad-4090-9c29-fbe381e77afa",
   "metadata": {},
   "outputs": [
    {
     "data": {
      "text/plain": [
       "Country  City               \n",
       "Brazil   Belo Horizonte         6\n",
       "         Sete Lagoas            2\n",
       "         Rio de Janeiro City    2\n",
       "         Curitiba               2\n",
       "         Vinhedo                1\n",
       "         Sao Paulo              1\n",
       "         Russas                 1\n",
       "         Porto Alegre           1\n",
       "         Natal                  1\n",
       "         Marica                 1\n",
       "         Indaiatuba             1\n",
       "         Fortaleza              1\n",
       "         Cascavel               1\n",
       "Name: City, dtype: int64"
      ]
     },
     "execution_count": 157,
     "metadata": {},
     "output_type": "execute_result"
    }
   ],
   "source": [
    "timeline_casos.where(timeline_casos['Country'] == 'Brazil').groupby(['Country', 'City'])['City'].count().sort_values(ascending=False)"
   ]
  },
  {
   "cell_type": "markdown",
   "id": "a2c5d2c4-bcf9-48fd-85b0-735a1ca2cfc3",
   "metadata": {},
   "source": [
    "<h4>Primeiro caso no Brasil</h4>"
   ]
  },
  {
   "cell_type": "code",
   "execution_count": 158,
   "id": "1c89f912-fb30-4c36-949e-4d1056410a59",
   "metadata": {},
   "outputs": [],
   "source": [
    "timeline_casos = pd.DataFrame(timeline_casos[[\"Country\"]].drop_duplicates())"
   ]
  },
  {
   "cell_type": "code",
   "execution_count": 159,
   "id": "36a52ffc-a521-4681-8272-7eb8c409f78e",
   "metadata": {},
   "outputs": [
    {
     "name": "stdout",
     "output_type": "stream",
     "text": [
      "2022-06-08\n"
     ]
    }
   ],
   "source": [
    "pdata = timeline_casos[timeline_casos[\"Country\"] == \"Brazil\"].index[0]\n",
    "print(pdata)"
   ]
  },
  {
   "cell_type": "markdown",
   "id": "f8ed753f-7465-4163-ae9b-62cf37baf51f",
   "metadata": {},
   "source": [
    "<b style=\"color:#1e6d06\">Observação:</b> O primeiro caso no Brasil foi dia 08 de Junho de 2022."
   ]
  },
  {
   "cell_type": "markdown",
   "id": "4b65491c-bb8f-4170-83aa-61c47dd495f7",
   "metadata": {},
   "source": [
    "<h4>Percentual de Brasileiros contaminados com histórico de viagens</h4>"
   ]
  },
  {
   "cell_type": "code",
   "execution_count": 160,
   "id": "6a462810-5550-4476-895c-80b84ec4e868",
   "metadata": {},
   "outputs": [
    {
     "name": "stdout",
     "output_type": "stream",
     "text": [
      "0.41 %\n"
     ]
    }
   ],
   "source": [
    "x = (casos_mundo[\"Travel_History_Yes\"] / casos_mundo[\"Confirmed_Cases\"]).loc[\"Brazil\"]*100\n",
    "print(round(x,2),'%')"
   ]
  },
  {
   "cell_type": "markdown",
   "id": "39670087-247a-490e-85c8-a22e5006b1a6",
   "metadata": {},
   "source": [
    "<b style=\"color:#1e6d06\">Observação:</b> Apenas 0,43% dos casos confirmados no Brasil são de pessoas com histórico de viagens, o que significa que a transmissão local já se propaga muito mais comparado a quem viaja."
   ]
  },
  {
   "cell_type": "markdown",
   "id": "c6285ac0-f39c-4519-935b-9770f02f64d3",
   "metadata": {
    "tags": []
   },
   "source": [
    "<h4>Criação do Dataframe apenas com os dados do Brasil</h4>"
   ]
  },
  {
   "cell_type": "code",
   "execution_count": 161,
   "id": "cecd9078-68c7-4eb5-b8ef-814fbc3f9872",
   "metadata": {},
   "outputs": [],
   "source": [
    "daily_cases_BR = casos_diarios_mundo.loc[\"Brazil\"]\n",
    "daily_cases_BR = pd.DataFrame(daily_cases_BR[daily_cases_BR!=0])"
   ]
  },
  {
   "cell_type": "markdown",
   "id": "c9b12c63-0310-4728-9175-6b2dc15c0bcc",
   "metadata": {},
   "source": [
    "<h4>Gráfico de barras com histórico de novos casos diários no Brasil</h4>"
   ]
  },
  {
   "cell_type": "code",
   "execution_count": 162,
   "id": "f2d3d327-dbc9-449d-8fe2-caf2c662b315",
   "metadata": {},
   "outputs": [
    {
     "data": {
      "image/png": "[encoded data removed]",
      "text/plain": [
       "<Figure size 1080x432 with 1 Axes>"
      ]
     },
     "metadata": {
      "needs_background": "light"
     },
     "output_type": "display_data"
    }
   ],
   "source": [
    "daily_cases_BR.plot(figsize=(15,6), color = \"green\", kind='line');\n",
    "plt.title(\"Novos casos diários no Brasil\");"
   ]
  },
  {
   "cell_type": "markdown",
   "id": "4c57f187-7ad4-4624-8f84-09050a16cbd8",
   "metadata": {},
   "source": [
    "<a href=\"#indice\"><img src=\"botao-topo.png\" width=\"15%\"/></a>"
   ]
  },
  {
   "cell_type": "markdown",
   "id": "715c0c57-68c9-41f7-a08b-01ac43b594e0",
   "metadata": {},
   "source": [
    "<div id=\"4\"><h2>5 - Previsões com Prophet</h2>\n",
    "Algoritmo criado pelo time de Data Science do Facebook, lida muito bem com séries temporais e sazonalidades.\n",
    "</div>"
   ]
  },
  {
   "cell_type": "markdown",
   "id": "1573e1e9-4ec1-45c8-8072-f0f55449143b",
   "metadata": {},
   "source": [
    "<h4>Criação do Dataframe de acordo com as obrigações do Prophet (Colunas renomeadas para ds e y)</h4>\n",
    "<a href=\"https://facebook.github.io/prophet/docs/quick_start.html\" target=\"_blank\">Fonte</a>"
   ]
  },
  {
   "cell_type": "code",
   "execution_count": 163,
   "id": "e5df554a-c978-4d65-8bee-541b1997a38f",
   "metadata": {},
   "outputs": [
    {
     "data": {
      "text/html": [
       "<div>\n",
       "<style scoped>\n",
       "    .dataframe tbody tr th:only-of-type {\n",
       "        vertical-align: middle;\n",
       "    }\n",
       "\n",
       "    .dataframe tbody tr th {\n",
       "        vertical-align: top;\n",
       "    }\n",
       "\n",
       "    .dataframe thead th {\n",
       "        text-align: right;\n",
       "    }\n",
       "</style>\n",
       "<table border=\"1\" class=\"dataframe\">\n",
       "  <thead>\n",
       "    <tr style=\"text-align: right;\">\n",
       "      <th></th>\n",
       "      <th>ds</th>\n",
       "      <th>y</th>\n",
       "    </tr>\n",
       "  </thead>\n",
       "  <tbody>\n",
       "    <tr>\n",
       "      <th>0</th>\n",
       "      <td>2022-06-08</td>\n",
       "      <td>1</td>\n",
       "    </tr>\n",
       "    <tr>\n",
       "      <th>1</th>\n",
       "      <td>2022-06-11</td>\n",
       "      <td>1</td>\n",
       "    </tr>\n",
       "    <tr>\n",
       "      <th>2</th>\n",
       "      <td>2022-06-12</td>\n",
       "      <td>1</td>\n",
       "    </tr>\n",
       "    <tr>\n",
       "      <th>3</th>\n",
       "      <td>2022-06-14</td>\n",
       "      <td>2</td>\n",
       "    </tr>\n",
       "    <tr>\n",
       "      <th>4</th>\n",
       "      <td>2022-06-16</td>\n",
       "      <td>1</td>\n",
       "    </tr>\n",
       "  </tbody>\n",
       "</table>\n",
       "</div>"
      ],
      "text/plain": [
       "          ds  y\n",
       "0 2022-06-08  1\n",
       "1 2022-06-11  1\n",
       "2 2022-06-12  1\n",
       "3 2022-06-14  2\n",
       "4 2022-06-16  1"
      ]
     },
     "execution_count": 163,
     "metadata": {},
     "output_type": "execute_result"
    }
   ],
   "source": [
    "data = {'ds':pd.to_datetime(daily_cases_BR.index), 'y':daily_cases_BR[\"Brazil\"].values}\n",
    "df = pd.DataFrame(data)\n",
    "df.head()"
   ]
  },
  {
   "cell_type": "markdown",
   "id": "023d5309-c43b-42b7-a1d0-c7da894175dc",
   "metadata": {},
   "source": [
    "<h4>Instanciação do Prophet e fitting</h4>"
   ]
  },
  {
   "cell_type": "code",
   "execution_count": 164,
   "id": "cb53e86a-07a7-457d-a938-1f80b14353f1",
   "metadata": {},
   "outputs": [
    {
     "name": "stderr",
     "output_type": "stream",
     "text": [
      "19:29:58 - cmdstanpy - INFO - Chain [1] start processing\n",
      "19:29:58 - cmdstanpy - INFO - Chain [1] done processing\n"
     ]
    },
    {
     "data": {
      "text/plain": [
       "<prophet.forecaster.Prophet at 0x7fa785386730>"
      ]
     },
     "execution_count": 164,
     "metadata": {},
     "output_type": "execute_result"
    }
   ],
   "source": [
    "m = Prophet()\n",
    "m.fit(df)"
   ]
  },
  {
   "cell_type": "markdown",
   "id": "e95810be-b388-420b-9dd2-a869786ea1ed",
   "metadata": {},
   "source": [
    "<div id=\"41\"><h3>Previsão de novos casos diários - 90 Dias</h3></div>"
   ]
  },
  {
   "cell_type": "code",
   "execution_count": 165,
   "id": "4c7cd9fe-43fe-4e20-9d02-58acc3f33b77",
   "metadata": {},
   "outputs": [],
   "source": [
    "future = m.make_future_dataframe(periods=90)\n",
    "forecast = m.predict(future)"
   ]
  },
  {
   "cell_type": "code",
   "execution_count": 166,
   "id": "03169e85-b1e3-4d7b-a301-efd62f9ea0eb",
   "metadata": {},
   "outputs": [
    {
     "data": {
      "text/html": [
       "<div>\n",
       "<style scoped>\n",
       "    .dataframe tbody tr th:only-of-type {\n",
       "        vertical-align: middle;\n",
       "    }\n",
       "\n",
       "    .dataframe tbody tr th {\n",
       "        vertical-align: top;\n",
       "    }\n",
       "\n",
       "    .dataframe thead th {\n",
       "        text-align: right;\n",
       "    }\n",
       "</style>\n",
       "<table border=\"1\" class=\"dataframe\">\n",
       "  <thead>\n",
       "    <tr style=\"text-align: right;\">\n",
       "      <th></th>\n",
       "      <th>ds</th>\n",
       "      <th>yhat</th>\n",
       "      <th>yhat_lower</th>\n",
       "      <th>yhat_upper</th>\n",
       "    </tr>\n",
       "  </thead>\n",
       "  <tbody>\n",
       "    <tr>\n",
       "      <th>0</th>\n",
       "      <td>2022-06-08</td>\n",
       "      <td>-15.501192</td>\n",
       "      <td>-61.568000</td>\n",
       "      <td>32.265021</td>\n",
       "    </tr>\n",
       "    <tr>\n",
       "      <th>1</th>\n",
       "      <td>2022-06-11</td>\n",
       "      <td>-31.932137</td>\n",
       "      <td>-78.219901</td>\n",
       "      <td>17.740841</td>\n",
       "    </tr>\n",
       "    <tr>\n",
       "      <th>2</th>\n",
       "      <td>2022-06-12</td>\n",
       "      <td>-61.927176</td>\n",
       "      <td>-113.886501</td>\n",
       "      <td>-10.272400</td>\n",
       "    </tr>\n",
       "    <tr>\n",
       "      <th>3</th>\n",
       "      <td>2022-06-14</td>\n",
       "      <td>-7.516875</td>\n",
       "      <td>-61.125849</td>\n",
       "      <td>41.209626</td>\n",
       "    </tr>\n",
       "    <tr>\n",
       "      <th>4</th>\n",
       "      <td>2022-06-16</td>\n",
       "      <td>-24.620323</td>\n",
       "      <td>-73.554015</td>\n",
       "      <td>26.251534</td>\n",
       "    </tr>\n",
       "  </tbody>\n",
       "</table>\n",
       "</div>"
      ],
      "text/plain": [
       "          ds       yhat  yhat_lower  yhat_upper\n",
       "0 2022-06-08 -15.501192  -61.568000   32.265021\n",
       "1 2022-06-11 -31.932137  -78.219901   17.740841\n",
       "2 2022-06-12 -61.927176 -113.886501  -10.272400\n",
       "3 2022-06-14  -7.516875  -61.125849   41.209626\n",
       "4 2022-06-16 -24.620323  -73.554015   26.251534"
      ]
     },
     "execution_count": 166,
     "metadata": {},
     "output_type": "execute_result"
    }
   ],
   "source": [
    "forecast[['ds', 'yhat', 'yhat_lower', 'yhat_upper']].head()"
   ]
  },
  {
   "cell_type": "markdown",
   "id": "59e0e267-2dbf-4d89-8a2d-b4ffe8d608b9",
   "metadata": {},
   "source": [
    "<b style=\"color:#1e6d06\">Observação:</b> Gerou corretamente do início"
   ]
  },
  {
   "cell_type": "code",
   "execution_count": 167,
   "id": "81a76bd3-c662-4bda-ae84-5e1c937982b6",
   "metadata": {},
   "outputs": [
    {
     "data": {
      "text/html": [
       "<div>\n",
       "<style scoped>\n",
       "    .dataframe tbody tr th:only-of-type {\n",
       "        vertical-align: middle;\n",
       "    }\n",
       "\n",
       "    .dataframe tbody tr th {\n",
       "        vertical-align: top;\n",
       "    }\n",
       "\n",
       "    .dataframe thead th {\n",
       "        text-align: right;\n",
       "    }\n",
       "</style>\n",
       "<table border=\"1\" class=\"dataframe\">\n",
       "  <thead>\n",
       "    <tr style=\"text-align: right;\">\n",
       "      <th></th>\n",
       "      <th>ds</th>\n",
       "      <th>yhat</th>\n",
       "      <th>yhat_lower</th>\n",
       "      <th>yhat_upper</th>\n",
       "    </tr>\n",
       "  </thead>\n",
       "  <tbody>\n",
       "    <tr>\n",
       "      <th>152</th>\n",
       "      <td>2022-11-24</td>\n",
       "      <td>336.127825</td>\n",
       "      <td>289.294034</td>\n",
       "      <td>384.160174</td>\n",
       "    </tr>\n",
       "    <tr>\n",
       "      <th>153</th>\n",
       "      <td>2022-11-25</td>\n",
       "      <td>403.257626</td>\n",
       "      <td>351.801987</td>\n",
       "      <td>450.616704</td>\n",
       "    </tr>\n",
       "    <tr>\n",
       "      <th>154</th>\n",
       "      <td>2022-11-26</td>\n",
       "      <td>344.500711</td>\n",
       "      <td>296.494438</td>\n",
       "      <td>395.658091</td>\n",
       "    </tr>\n",
       "    <tr>\n",
       "      <th>155</th>\n",
       "      <td>2022-11-27</td>\n",
       "      <td>314.505673</td>\n",
       "      <td>265.245302</td>\n",
       "      <td>360.602534</td>\n",
       "    </tr>\n",
       "    <tr>\n",
       "      <th>156</th>\n",
       "      <td>2022-11-28</td>\n",
       "      <td>364.592769</td>\n",
       "      <td>316.382233</td>\n",
       "      <td>417.108975</td>\n",
       "    </tr>\n",
       "  </tbody>\n",
       "</table>\n",
       "</div>"
      ],
      "text/plain": [
       "            ds        yhat  yhat_lower  yhat_upper\n",
       "152 2022-11-24  336.127825  289.294034  384.160174\n",
       "153 2022-11-25  403.257626  351.801987  450.616704\n",
       "154 2022-11-26  344.500711  296.494438  395.658091\n",
       "155 2022-11-27  314.505673  265.245302  360.602534\n",
       "156 2022-11-28  364.592769  316.382233  417.108975"
      ]
     },
     "execution_count": 167,
     "metadata": {},
     "output_type": "execute_result"
    }
   ],
   "source": [
    "forecast[['ds', 'yhat', 'yhat_lower', 'yhat_upper']].tail()"
   ]
  },
  {
   "cell_type": "markdown",
   "id": "4e3a9b80-07c4-4592-aee8-e01e988090bb",
   "metadata": {},
   "source": [
    "<b style=\"color:#1e6d06\">Observação:</b> E também até o final dos 90 dias"
   ]
  },
  {
   "cell_type": "markdown",
   "id": "4133068d-b5e9-45ca-b6a5-acbc373d0c98",
   "metadata": {},
   "source": [
    "<h4>Gráfico de previsão</h4>"
   ]
  },
  {
   "cell_type": "code",
   "execution_count": 168,
   "id": "0ccf25c3-a05c-4356-8ae4-63b34e5232d3",
   "metadata": {},
   "outputs": [
    {
     "data": {
      "application/vnd.plotly.v1+json": {
       "config": {
        "plotlyServerURL": "https://plot.ly"
       },
       "data": [
        {
         "marker": {
          "color": "black",
          "size": 4
         },
         "mode": "markers",
         "name": "Actual",
         "type": "scatter",
         "x": [
          "2022-06-08T00:00:00",
          "2022-06-11T00:00:00",
          "2022-06-12T00:00:00",
          "2022-06-14T00:00:00",
          "2022-06-16T00:00:00",
          "2022-06-17T00:00:00",
          "2022-06-19T00:00:00",
          "2022-06-21T00:00:00",
          "2022-06-22T00:00:00",
          "2022-06-23T00:00:00",
          "2022-06-24T00:00:00",
          "2022-06-25T00:00:00",
          "2022-06-26T00:00:00",
          "2022-06-28T00:00:00",
          "2022-06-29T00:00:00",
          "2022-06-30T00:00:00",
          "2022-07-01T00:00:00",
          "2022-07-02T00:00:00",
          "2022-07-03T00:00:00",
          "2022-07-04T00:00:00",
          "2022-07-05T00:00:00",
          "2022-07-06T00:00:00",
          "2022-07-07T00:00:00",
          "2022-07-08T00:00:00",
          "2022-07-09T00:00:00",
          "2022-07-11T00:00:00",
          "2022-07-12T00:00:00",
          "2022-07-13T00:00:00",
          "2022-07-14T00:00:00",
          "2022-07-19T00:00:00",
          "2022-07-20T00:00:00",
          "2022-07-21T00:00:00",
          "2022-07-22T00:00:00",
          "2022-07-25T00:00:00",
          "2022-07-26T00:00:00",
          "2022-07-27T00:00:00",
          "2022-07-28T00:00:00",
          "2022-07-29T00:00:00",
          "2022-07-30T00:00:00",
          "2022-07-31T00:00:00",
          "2022-08-01T00:00:00",
          "2022-08-02T00:00:00",
          "2022-08-03T00:00:00",
          "2022-08-04T00:00:00",
          "2022-08-05T00:00:00",
          "2022-08-06T00:00:00",
          "2022-08-07T00:00:00",
          "2022-08-08T00:00:00",
          "2022-08-09T00:00:00",
          "2022-08-10T00:00:00",
          "2022-08-12T00:00:00",
          "2022-08-13T00:00:00",
          "2022-08-14T00:00:00",
          "2022-08-15T00:00:00",
          "2022-08-16T00:00:00",
          "2022-08-17T00:00:00",
          "2022-08-18T00:00:00",
          "2022-08-19T00:00:00",
          "2022-08-20T00:00:00",
          "2022-08-21T00:00:00",
          "2022-08-22T00:00:00",
          "2022-08-23T00:00:00",
          "2022-08-24T00:00:00",
          "2022-08-25T00:00:00",
          "2022-08-26T00:00:00",
          "2022-08-29T00:00:00",
          "2022-08-30T00:00:00"
         ],
         "y": [
          1,
          1,
          1,
          2,
          1,
          1,
          1,
          1,
          2,
          5,
          1,
          2,
          1,
          1,
          16,
          12,
          15,
          12,
          2,
          2,
          26,
          36,
          30,
          32,
          14,
          10,
          38,
          42,
          39,
          101,
          143,
          13,
          90,
          115,
          56,
          112,
          89,
          193,
          84,
          27,
          105,
          128,
          118,
          139,
          144,
          104,
          23,
          162,
          122,
          43,
          288,
          102,
          45,
          92,
          198,
          176,
          91,
          205,
          100,
          32,
          109,
          88,
          160,
          72,
          256,
          220,
          184
         ]
        },
        {
         "hoverinfo": "skip",
         "line": {
          "width": 0
         },
         "mode": "lines",
         "type": "scatter",
         "x": [
          "2022-06-08T00:00:00",
          "2022-06-11T00:00:00",
          "2022-06-12T00:00:00",
          "2022-06-14T00:00:00",
          "2022-06-16T00:00:00",
          "2022-06-17T00:00:00",
          "2022-06-19T00:00:00",
          "2022-06-21T00:00:00",
          "2022-06-22T00:00:00",
          "2022-06-23T00:00:00",
          "2022-06-24T00:00:00",
          "2022-06-25T00:00:00",
          "2022-06-26T00:00:00",
          "2022-06-28T00:00:00",
          "2022-06-29T00:00:00",
          "2022-06-30T00:00:00",
          "2022-07-01T00:00:00",
          "2022-07-02T00:00:00",
          "2022-07-03T00:00:00",
          "2022-07-04T00:00:00",
          "2022-07-05T00:00:00",
          "2022-07-06T00:00:00",
          "2022-07-07T00:00:00",
          "2022-07-08T00:00:00",
          "2022-07-09T00:00:00",
          "2022-07-11T00:00:00",
          "2022-07-12T00:00:00",
          "2022-07-13T00:00:00",
          "2022-07-14T00:00:00",
          "2022-07-19T00:00:00",
          "2022-07-20T00:00:00",
          "2022-07-21T00:00:00",
          "2022-07-22T00:00:00",
          "2022-07-25T00:00:00",
          "2022-07-26T00:00:00",
          "2022-07-27T00:00:00",
          "2022-07-28T00:00:00",
          "2022-07-29T00:00:00",
          "2022-07-30T00:00:00",
          "2022-07-31T00:00:00",
          "2022-08-01T00:00:00",
          "2022-08-02T00:00:00",
          "2022-08-03T00:00:00",
          "2022-08-04T00:00:00",
          "2022-08-05T00:00:00",
          "2022-08-06T00:00:00",
          "2022-08-07T00:00:00",
          "2022-08-08T00:00:00",
          "2022-08-09T00:00:00",
          "2022-08-10T00:00:00",
          "2022-08-12T00:00:00",
          "2022-08-13T00:00:00",
          "2022-08-14T00:00:00",
          "2022-08-15T00:00:00",
          "2022-08-16T00:00:00",
          "2022-08-17T00:00:00",
          "2022-08-18T00:00:00",
          "2022-08-19T00:00:00",
          "2022-08-20T00:00:00",
          "2022-08-21T00:00:00",
          "2022-08-22T00:00:00",
          "2022-08-23T00:00:00",
          "2022-08-24T00:00:00",
          "2022-08-25T00:00:00",
          "2022-08-26T00:00:00",
          "2022-08-29T00:00:00",
          "2022-08-30T00:00:00",
          "2022-08-31T00:00:00",
          "2022-09-01T00:00:00",
          "2022-09-02T00:00:00",
          "2022-09-03T00:00:00",
          "2022-09-04T00:00:00",
          "2022-09-05T00:00:00",
          "2022-09-06T00:00:00",
          "2022-09-07T00:00:00",
          "2022-09-08T00:00:00",
          "2022-09-09T00:00:00",
          "2022-09-10T00:00:00",
          "2022-09-11T00:00:00",
          "2022-09-12T00:00:00",
          "2022-09-13T00:00:00",
          "2022-09-14T00:00:00",
          "2022-09-15T00:00:00",
          "2022-09-16T00:00:00",
          "2022-09-17T00:00:00",
          "2022-09-18T00:00:00",
          "2022-09-19T00:00:00",
          "2022-09-20T00:00:00",
          "2022-09-21T00:00:00",
          "2022-09-22T00:00:00",
          "2022-09-23T00:00:00",
          "2022-09-24T00:00:00",
          "2022-09-25T00:00:00",
          "2022-09-26T00:00:00",
          "2022-09-27T00:00:00",
          "2022-09-28T00:00:00",
          "2022-09-29T00:00:00",
          "2022-09-30T00:00:00",
          "2022-10-01T00:00:00",
          "2022-10-02T00:00:00",
          "2022-10-03T00:00:00",
          "2022-10-04T00:00:00",
          "2022-10-05T00:00:00",
          "2022-10-06T00:00:00",
          "2022-10-07T00:00:00",
          "2022-10-08T00:00:00",
          "2022-10-09T00:00:00",
          "2022-10-10T00:00:00",
          "2022-10-11T00:00:00",
          "2022-10-12T00:00:00",
          "2022-10-13T00:00:00",
          "2022-10-14T00:00:00",
          "2022-10-15T00:00:00",
          "2022-10-16T00:00:00",
          "2022-10-17T00:00:00",
          "2022-10-18T00:00:00",
          "2022-10-19T00:00:00",
          "2022-10-20T00:00:00",
          "2022-10-21T00:00:00",
          "2022-10-22T00:00:00",
          "2022-10-23T00:00:00",
          "2022-10-24T00:00:00",
          "2022-10-25T00:00:00",
          "2022-10-26T00:00:00",
          "2022-10-27T00:00:00",
          "2022-10-28T00:00:00",
          "2022-10-29T00:00:00",
          "2022-10-30T00:00:00",
          "2022-10-31T00:00:00",
          "2022-11-01T00:00:00",
          "2022-11-02T00:00:00",
          "2022-11-03T00:00:00",
          "2022-11-04T00:00:00",
          "2022-11-05T00:00:00",
          "2022-11-06T00:00:00",
          "2022-11-07T00:00:00",
          "2022-11-08T00:00:00",
          "2022-11-09T00:00:00",
          "2022-11-10T00:00:00",
          "2022-11-11T00:00:00",
          "2022-11-12T00:00:00",
          "2022-11-13T00:00:00",
          "2022-11-14T00:00:00",
          "2022-11-15T00:00:00",
          "2022-11-16T00:00:00",
          "2022-11-17T00:00:00",
          "2022-11-18T00:00:00",
          "2022-11-19T00:00:00",
          "2022-11-20T00:00:00",
          "2022-11-21T00:00:00",
          "2022-11-22T00:00:00",
          "2022-11-23T00:00:00",
          "2022-11-24T00:00:00",
          "2022-11-25T00:00:00",
          "2022-11-26T00:00:00",
          "2022-11-27T00:00:00",
          "2022-11-28T00:00:00"
         ],
         "y": [
          -61.56800047111371,
          -78.21990143396927,
          -113.88650096427182,
          -61.12584891107262,
          -73.55401507323293,
          -5.8612601769869315,
          -91.7480302468977,
          -42.11906409140136,
          -31.568958132382573,
          -56.56780798113229,
          10.74889735222057,
          -52.21229568140133,
          -78.6548133680084,
          -21.81589890980539,
          -20.30072865135305,
          -43.63524565495374,
          25.421531396049506,
          -32.85837473337967,
          -64.45669188768812,
          -14.628949067262205,
          -8.580016685136375,
          -0.5152427864560908,
          -25.30907893548166,
          38.47304874748727,
          -20.25300071550858,
          3.8671641188387196,
          9.073171885352098,
          13.196401570348176,
          -11.527563621972343,
          23.557534278516627,
          27.916545990428467,
          5.780464383973534,
          77.9472116046965,
          34.27068084636386,
          37.25573636196262,
          44.18101576557123,
          20.090781045312312,
          88.65355109198717,
          27.522899082187486,
          -0.7780924330627222,
          44.6089573258585,
          53.43033368523806,
          62.26489420357891,
          35.23861885853457,
          107.54686308621042,
          41.32792584908005,
          19.556905347623772,
          65.58450373305698,
          71.06362297304831,
          73.9059997065563,
          117.72318553469283,
          61.597307344512686,
          30.503876539248875,
          81.77703084118691,
          85.11189627591448,
          90.98288883068341,
          69.33715166815215,
          131.15295784805343,
          77.4489566756402,
          49.47503510816283,
          91.07869680160648,
          100.34509611801775,
          104.86090321880225,
          81.05992048724451,
          147.41520932003448,
          110.75506568987709,
          116.52539811050696,
          120.38882284976391,
          99.69553503727363,
          165.30194468673804,
          102.53081444171536,
          77.32352574250837,
          128.237356615229,
          132.5898450926299,
          138.47174927902142,
          113.85941450513432,
          181.12875692196718,
          123.73588258162006,
          95.49413141137659,
          144.17397869374108,
          148.79850807949018,
          152.4624547829766,
          125.90794194010036,
          195.92758195252506,
          140.7743240157358,
          109.14751042651946,
          158.37087618251442,
          167.2071165408205,
          171.1064525476051,
          150.20335483355376,
          213.38984740750877,
          155.06289320017936,
          123.59820423748279,
          174.15077241348018,
          177.6342210356621,
          187.78297585429445,
          164.17553978023224,
          229.52325538293854,
          171.88172488660788,
          137.6776262728092,
          186.78903072055456,
          192.56189993063657,
          201.47238122213824,
          179.19307272585374,
          246.74760240610593,
          183.01643448833983,
          155.93907568205526,
          206.41156343179557,
          206.64888564607423,
          215.23766720733695,
          192.99974579303662,
          259.2821592697073,
          196.96855257754947,
          172.91563577931552,
          218.52167631392257,
          228.05570659980398,
          232.51295763216655,
          208.0640506280004,
          276.46658865352686,
          219.30028301289684,
          187.75223805475247,
          237.09216332110006,
          240.31189637388485,
          250.13569766969798,
          226.38034729862147,
          291.29486820741926,
          236.908793215684,
          203.34517806166963,
          252.66264813664458,
          255.89564105060555,
          266.6926390388627,
          240.32682101341817,
          306.59638369018194,
          247.6439240172158,
          216.42061262979024,
          269.192391050321,
          270.87364762044734,
          283.25866613025386,
          257.02560637190936,
          321.21504678242775,
          261.84847154263025,
          234.13182396299067,
          285.5611691083287,
          288.79874790407706,
          290.79121686731077,
          273.84718871855034,
          336.06251090331045,
          280.35916086532586,
          250.25030120364937,
          301.5368206798943,
          298.2554051242828,
          311.96702044221104,
          289.2940342766697,
          351.8019870798265,
          296.49443750471477,
          265.2453015197043,
          316.3822326378381
         ]
        },
        {
         "fill": "tonexty",
         "fillcolor": "rgba(0, 114, 178, 0.2)",
         "line": {
          "color": "#0072B2",
          "width": 2
         },
         "mode": "lines",
         "name": "Predicted",
         "type": "scatter",
         "x": [
          "2022-06-08T00:00:00",
          "2022-06-11T00:00:00",
          "2022-06-12T00:00:00",
          "2022-06-14T00:00:00",
          "2022-06-16T00:00:00",
          "2022-06-17T00:00:00",
          "2022-06-19T00:00:00",
          "2022-06-21T00:00:00",
          "2022-06-22T00:00:00",
          "2022-06-23T00:00:00",
          "2022-06-24T00:00:00",
          "2022-06-25T00:00:00",
          "2022-06-26T00:00:00",
          "2022-06-28T00:00:00",
          "2022-06-29T00:00:00",
          "2022-06-30T00:00:00",
          "2022-07-01T00:00:00",
          "2022-07-02T00:00:00",
          "2022-07-03T00:00:00",
          "2022-07-04T00:00:00",
          "2022-07-05T00:00:00",
          "2022-07-06T00:00:00",
          "2022-07-07T00:00:00",
          "2022-07-08T00:00:00",
          "2022-07-09T00:00:00",
          "2022-07-11T00:00:00",
          "2022-07-12T00:00:00",
          "2022-07-13T00:00:00",
          "2022-07-14T00:00:00",
          "2022-07-19T00:00:00",
          "2022-07-20T00:00:00",
          "2022-07-21T00:00:00",
          "2022-07-22T00:00:00",
          "2022-07-25T00:00:00",
          "2022-07-26T00:00:00",
          "2022-07-27T00:00:00",
          "2022-07-28T00:00:00",
          "2022-07-29T00:00:00",
          "2022-07-30T00:00:00",
          "2022-07-31T00:00:00",
          "2022-08-01T00:00:00",
          "2022-08-02T00:00:00",
          "2022-08-03T00:00:00",
          "2022-08-04T00:00:00",
          "2022-08-05T00:00:00",
          "2022-08-06T00:00:00",
          "2022-08-07T00:00:00",
          "2022-08-08T00:00:00",
          "2022-08-09T00:00:00",
          "2022-08-10T00:00:00",
          "2022-08-12T00:00:00",
          "2022-08-13T00:00:00",
          "2022-08-14T00:00:00",
          "2022-08-15T00:00:00",
          "2022-08-16T00:00:00",
          "2022-08-17T00:00:00",
          "2022-08-18T00:00:00",
          "2022-08-19T00:00:00",
          "2022-08-20T00:00:00",
          "2022-08-21T00:00:00",
          "2022-08-22T00:00:00",
          "2022-08-23T00:00:00",
          "2022-08-24T00:00:00",
          "2022-08-25T00:00:00",
          "2022-08-26T00:00:00",
          "2022-08-29T00:00:00",
          "2022-08-30T00:00:00",
          "2022-08-31T00:00:00",
          "2022-09-01T00:00:00",
          "2022-09-02T00:00:00",
          "2022-09-03T00:00:00",
          "2022-09-04T00:00:00",
          "2022-09-05T00:00:00",
          "2022-09-06T00:00:00",
          "2022-09-07T00:00:00",
          "2022-09-08T00:00:00",
          "2022-09-09T00:00:00",
          "2022-09-10T00:00:00",
          "2022-09-11T00:00:00",
          "2022-09-12T00:00:00",
          "2022-09-13T00:00:00",
          "2022-09-14T00:00:00",
          "2022-09-15T00:00:00",
          "2022-09-16T00:00:00",
          "2022-09-17T00:00:00",
          "2022-09-18T00:00:00",
          "2022-09-19T00:00:00",
          "2022-09-20T00:00:00",
          "2022-09-21T00:00:00",
          "2022-09-22T00:00:00",
          "2022-09-23T00:00:00",
          "2022-09-24T00:00:00",
          "2022-09-25T00:00:00",
          "2022-09-26T00:00:00",
          "2022-09-27T00:00:00",
          "2022-09-28T00:00:00",
          "2022-09-29T00:00:00",
          "2022-09-30T00:00:00",
          "2022-10-01T00:00:00",
          "2022-10-02T00:00:00",
          "2022-10-03T00:00:00",
          "2022-10-04T00:00:00",
          "2022-10-05T00:00:00",
          "2022-10-06T00:00:00",
          "2022-10-07T00:00:00",
          "2022-10-08T00:00:00",
          "2022-10-09T00:00:00",
          "2022-10-10T00:00:00",
          "2022-10-11T00:00:00",
          "2022-10-12T00:00:00",
          "2022-10-13T00:00:00",
          "2022-10-14T00:00:00",
          "2022-10-15T00:00:00",
          "2022-10-16T00:00:00",
          "2022-10-17T00:00:00",
          "2022-10-18T00:00:00",
          "2022-10-19T00:00:00",
          "2022-10-20T00:00:00",
          "2022-10-21T00:00:00",
          "2022-10-22T00:00:00",
          "2022-10-23T00:00:00",
          "2022-10-24T00:00:00",
          "2022-10-25T00:00:00",
          "2022-10-26T00:00:00",
          "2022-10-27T00:00:00",
          "2022-10-28T00:00:00",
          "2022-10-29T00:00:00",
          "2022-10-30T00:00:00",
          "2022-10-31T00:00:00",
          "2022-11-01T00:00:00",
          "2022-11-02T00:00:00",
          "2022-11-03T00:00:00",
          "2022-11-04T00:00:00",
          "2022-11-05T00:00:00",
          "2022-11-06T00:00:00",
          "2022-11-07T00:00:00",
          "2022-11-08T00:00:00",
          "2022-11-09T00:00:00",
          "2022-11-10T00:00:00",
          "2022-11-11T00:00:00",
          "2022-11-12T00:00:00",
          "2022-11-13T00:00:00",
          "2022-11-14T00:00:00",
          "2022-11-15T00:00:00",
          "2022-11-16T00:00:00",
          "2022-11-17T00:00:00",
          "2022-11-18T00:00:00",
          "2022-11-19T00:00:00",
          "2022-11-20T00:00:00",
          "2022-11-21T00:00:00",
          "2022-11-22T00:00:00",
          "2022-11-23T00:00:00",
          "2022-11-24T00:00:00",
          "2022-11-25T00:00:00",
          "2022-11-26T00:00:00",
          "2022-11-27T00:00:00",
          "2022-11-28T00:00:00"
         ],
         "y": [
          -15.50119180415486,
          -31.932137393002513,
          -61.92717577231454,
          -7.516875047729894,
          -24.62032296943674,
          42.50947752983012,
          -46.2424771720162,
          8.167823552344288,
          15.86820539766201,
          -8.935624369305248,
          58.1941761303122,
          -0.5627401909232717,
          -30.557778570218257,
          23.852522154562106,
          31.552904000076495,
          6.749074232942645,
          73.8788747324725,
          15.121958410823916,
          -14.873079416056662,
          35.214016975480476,
          39.537222414742814,
          47.23760481347982,
          22.43377559942197,
          89.5635766521324,
          30.806660883871572,
          50.89871944958519,
          55.221924889643425,
          62.92230728890013,
          38.11847807554972,
          70.90662736721322,
          78.60700976668292,
          53.80318055366563,
          120.93298160724923,
          82.26812440693026,
          86.59132984756475,
          94.29171224745512,
          69.4878830347589,
          136.6176840887633,
          77.8607683216851,
          47.86573049643989,
          97.95282688928499,
          102.27603232971691,
          109.97641472953441,
          85.1725855167079,
          152.30238657038203,
          93.54547080319409,
          63.5504329778174,
          113.63752937095566,
          117.96073481143696,
          125.66111721108959,
          167.9870890519048,
          109.23017328477295,
          79.23513545965952,
          129.3222318528301,
          133.64543729353656,
          141.34581969368608,
          116.54199048122814,
          183.67179153544708,
          124.91487576851328,
          94.91983794360898,
          145.00693433667274,
          149.3301397776749,
          157.03052217779435,
          132.22669296538427,
          199.35649401963641,
          160.69163682086008,
          165.0148422617662,
          172.71522466187474,
          147.9113954495404,
          215.04119650382574,
          156.2842807369722,
          126.2892429119257,
          176.3763393050474,
          180.6995447459418,
          188.39992714601098,
          163.59609793350077,
          230.72589898783644,
          171.96898322107361,
          141.97394539601441,
          192.0610417892347,
          196.38424722994876,
          204.08462963018542,
          179.28080041765693,
          246.4106014720258,
          187.6536857050481,
          157.65864788009537,
          207.7457442730774,
          212.06894971412436,
          219.7693321142937,
          194.96550290181307,
          262.09530395612586,
          203.33838818927634,
          173.34335036432336,
          223.4304467573888,
          227.7536521983,
          235.454034598402,
          210.6502053859692,
          277.7800064402185,
          219.0230906732509,
          189.02805284827284,
          239.11514924145197,
          243.43835468239124,
          251.1387370826044,
          226.33490787009123,
          293.46470892431853,
          234.70779315722547,
          204.71275533250082,
          254.7998517256393,
          259.1230571665296,
          266.8234395666848,
          242.01961035428144,
          309.1494114085079,
          250.39249564170981,
          220.3974578165818,
          270.4845542098267,
          274.8077596506209,
          282.50814205082094,
          257.7043128384035,
          324.83411389260783,
          266.0771981256844,
          236.08216030080987,
          286.169256694014,
          290.4924621347965,
          298.1928445349013,
          273.38901532239794,
          340.51881637670795,
          281.76190060978576,
          251.7668627847592,
          301.85395917807716,
          306.17716461885044,
          313.8775470189818,
          289.0737178065541,
          356.2035188608079,
          297.4466030938871,
          267.4515652689872,
          317.5386616620439,
          321.8618671030261,
          329.56224950309,
          304.7584202907102,
          371.88822134499725,
          313.1313055782446,
          283.1362677532153,
          333.2233641462313,
          337.5465695871174,
          345.24695198719826,
          320.44312277483226,
          387.5729238290006,
          328.81600806221917,
          298.8209702371647,
          348.9080666304186,
          353.2312720712087,
          360.9316544714007,
          336.12782525895443,
          403.25762631319,
          344.50071054632053,
          314.5056727213927,
          364.5927691142613
         ]
        },
        {
         "fill": "tonexty",
         "fillcolor": "rgba(0, 114, 178, 0.2)",
         "hoverinfo": "skip",
         "line": {
          "width": 0
         },
         "mode": "lines",
         "type": "scatter",
         "x": [
          "2022-06-08T00:00:00",
          "2022-06-11T00:00:00",
          "2022-06-12T00:00:00",
          "2022-06-14T00:00:00",
          "2022-06-16T00:00:00",
          "2022-06-17T00:00:00",
          "2022-06-19T00:00:00",
          "2022-06-21T00:00:00",
          "2022-06-22T00:00:00",
          "2022-06-23T00:00:00",
          "2022-06-24T00:00:00",
          "2022-06-25T00:00:00",
          "2022-06-26T00:00:00",
          "2022-06-28T00:00:00",
          "2022-06-29T00:00:00",
          "2022-06-30T00:00:00",
          "2022-07-01T00:00:00",
          "2022-07-02T00:00:00",
          "2022-07-03T00:00:00",
          "2022-07-04T00:00:00",
          "2022-07-05T00:00:00",
          "2022-07-06T00:00:00",
          "2022-07-07T00:00:00",
          "2022-07-08T00:00:00",
          "2022-07-09T00:00:00",
          "2022-07-11T00:00:00",
          "2022-07-12T00:00:00",
          "2022-07-13T00:00:00",
          "2022-07-14T00:00:00",
          "2022-07-19T00:00:00",
          "2022-07-20T00:00:00",
          "2022-07-21T00:00:00",
          "2022-07-22T00:00:00",
          "2022-07-25T00:00:00",
          "2022-07-26T00:00:00",
          "2022-07-27T00:00:00",
          "2022-07-28T00:00:00",
          "2022-07-29T00:00:00",
          "2022-07-30T00:00:00",
          "2022-07-31T00:00:00",
          "2022-08-01T00:00:00",
          "2022-08-02T00:00:00",
          "2022-08-03T00:00:00",
          "2022-08-04T00:00:00",
          "2022-08-05T00:00:00",
          "2022-08-06T00:00:00",
          "2022-08-07T00:00:00",
          "2022-08-08T00:00:00",
          "2022-08-09T00:00:00",
          "2022-08-10T00:00:00",
          "2022-08-12T00:00:00",
          "2022-08-13T00:00:00",
          "2022-08-14T00:00:00",
          "2022-08-15T00:00:00",
          "2022-08-16T00:00:00",
          "2022-08-17T00:00:00",
          "2022-08-18T00:00:00",
          "2022-08-19T00:00:00",
          "2022-08-20T00:00:00",
          "2022-08-21T00:00:00",
          "2022-08-22T00:00:00",
          "2022-08-23T00:00:00",
          "2022-08-24T00:00:00",
          "2022-08-25T00:00:00",
          "2022-08-26T00:00:00",
          "2022-08-29T00:00:00",
          "2022-08-30T00:00:00",
          "2022-08-31T00:00:00",
          "2022-09-01T00:00:00",
          "2022-09-02T00:00:00",
          "2022-09-03T00:00:00",
          "2022-09-04T00:00:00",
          "2022-09-05T00:00:00",
          "2022-09-06T00:00:00",
          "2022-09-07T00:00:00",
          "2022-09-08T00:00:00",
          "2022-09-09T00:00:00",
          "2022-09-10T00:00:00",
          "2022-09-11T00:00:00",
          "2022-09-12T00:00:00",
          "2022-09-13T00:00:00",
          "2022-09-14T00:00:00",
          "2022-09-15T00:00:00",
          "2022-09-16T00:00:00",
          "2022-09-17T00:00:00",
          "2022-09-18T00:00:00",
          "2022-09-19T00:00:00",
          "2022-09-20T00:00:00",
          "2022-09-21T00:00:00",
          "2022-09-22T00:00:00",
          "2022-09-23T00:00:00",
          "2022-09-24T00:00:00",
          "2022-09-25T00:00:00",
          "2022-09-26T00:00:00",
          "2022-09-27T00:00:00",
          "2022-09-28T00:00:00",
          "2022-09-29T00:00:00",
          "2022-09-30T00:00:00",
          "2022-10-01T00:00:00",
          "2022-10-02T00:00:00",
          "2022-10-03T00:00:00",
          "2022-10-04T00:00:00",
          "2022-10-05T00:00:00",
          "2022-10-06T00:00:00",
          "2022-10-07T00:00:00",
          "2022-10-08T00:00:00",
          "2022-10-09T00:00:00",
          "2022-10-10T00:00:00",
          "2022-10-11T00:00:00",
          "2022-10-12T00:00:00",
          "2022-10-13T00:00:00",
          "2022-10-14T00:00:00",
          "2022-10-15T00:00:00",
          "2022-10-16T00:00:00",
          "2022-10-17T00:00:00",
          "2022-10-18T00:00:00",
          "2022-10-19T00:00:00",
          "2022-10-20T00:00:00",
          "2022-10-21T00:00:00",
          "2022-10-22T00:00:00",
          "2022-10-23T00:00:00",
          "2022-10-24T00:00:00",
          "2022-10-25T00:00:00",
          "2022-10-26T00:00:00",
          "2022-10-27T00:00:00",
          "2022-10-28T00:00:00",
          "2022-10-29T00:00:00",
          "2022-10-30T00:00:00",
          "2022-10-31T00:00:00",
          "2022-11-01T00:00:00",
          "2022-11-02T00:00:00",
          "2022-11-03T00:00:00",
          "2022-11-04T00:00:00",
          "2022-11-05T00:00:00",
          "2022-11-06T00:00:00",
          "2022-11-07T00:00:00",
          "2022-11-08T00:00:00",
          "2022-11-09T00:00:00",
          "2022-11-10T00:00:00",
          "2022-11-11T00:00:00",
          "2022-11-12T00:00:00",
          "2022-11-13T00:00:00",
          "2022-11-14T00:00:00",
          "2022-11-15T00:00:00",
          "2022-11-16T00:00:00",
          "2022-11-17T00:00:00",
          "2022-11-18T00:00:00",
          "2022-11-19T00:00:00",
          "2022-11-20T00:00:00",
          "2022-11-21T00:00:00",
          "2022-11-22T00:00:00",
          "2022-11-23T00:00:00",
          "2022-11-24T00:00:00",
          "2022-11-25T00:00:00",
          "2022-11-26T00:00:00",
          "2022-11-27T00:00:00",
          "2022-11-28T00:00:00"
         ],
         "y": [
          32.26502066650295,
          17.740840702177515,
          -10.27240003809073,
          41.20962583075869,
          26.25153448491447,
          91.81832174518395,
          1.3875531938174563,
          57.27739952049645,
          63.66020644233584,
          38.321845152107564,
          107.83322416246979,
          50.39278413847835,
          18.46396696535769,
          76.58712145457653,
          81.18337482565205,
          51.60233093574626,
          122.65209669868777,
          62.06761771280091,
          34.632888376541736,
          89.3970260482969,
          88.38946340168054,
          98.97162824147294,
          71.7276014519798,
          137.79266761835433,
          81.03673937413912,
          101.38718088204244,
          105.09158252584302,
          114.39499259288289,
          86.10717242784804,
          121.0564137323356,
          128.33187636509848,
          103.34762578748159,
          170.96294991583656,
          133.6610266884475,
          135.23001710616506,
          143.33291364207415,
          119.56422036241992,
          186.11220692862804,
          126.5467274374239,
          95.33327705102279,
          149.3642041812633,
          147.47275409918964,
          156.20359099005125,
          134.99839065421617,
          202.26782516158764,
          144.09878135801932,
          114.4354591534722,
          160.85767078495408,
          168.23437334381313,
          172.3913777159381,
          217.7027091999498,
          162.06153798789205,
          126.50356265243074,
          176.50716229618132,
          183.34342323667587,
          189.75427698671888,
          164.12142464378846,
          229.4815203550412,
          177.59463514525913,
          148.33881859064692,
          193.12474778826552,
          203.5115341528022,
          205.89652347688315,
          184.0495889215166,
          249.63836856214627,
          213.61513083694894,
          216.06142362050707,
          216.1749734469767,
          198.52487991899355,
          263.67349098997863,
          202.4147137065678,
          175.03761511083175,
          227.46103758531922,
          230.64262095120836,
          240.58641091557658,
          208.11856261273832,
          280.39650581720724,
          224.50699690819977,
          191.22928808028442,
          245.6275543251754,
          246.92928339482506,
          254.50796010141124,
          225.09168396317688,
          299.1230702393928,
          238.32592885436205,
          208.20115063516133,
          256.78745468054603,
          259.6161200035248,
          269.73363746648516,
          245.3533300672211,
          311.2248295497199,
          254.11911525255044,
          224.80842105912583,
          275.6279807491601,
          277.2849292954075,
          281.3415192317133,
          258.55390329394595,
          329.0068091552992,
          271.2558153921797,
          238.88721156191528,
          288.06084632703124,
          289.53480525026816,
          301.5588197696074,
          277.28628161467964,
          342.35523705437157,
          285.3737737586707,
          251.25983987268177,
          306.9817391822331,
          306.74673075578227,
          313.2972038422154,
          289.22280134033645,
          359.59832473058805,
          295.5194852261127,
          273.89807496027345,
          320.00450977441767,
          322.0569022073166,
          331.0952735206671,
          309.01012932536315,
          376.63515814232034,
          315.3517696065736,
          282.4013636093367,
          333.73536423379437,
          343.07474349663806,
          348.33424762489733,
          320.4583950029981,
          392.4450913354247,
          334.2950360234907,
          297.59535425916624,
          351.5809108590683,
          354.44677400367476,
          360.85283266747825,
          340.73236729987644,
          404.0410703111705,
          344.32034333669003,
          316.3257421406805,
          370.334417021534,
          369.65707221947315,
          379.1924602031536,
          354.28384363034,
          422.10785297123306,
          360.92596626084037,
          331.6484504199325,
          380.5104569705891,
          388.0529056588793,
          391.2646006710489,
          369.3280436492472,
          434.52506144471414,
          374.0537153220388,
          349.7246314215068,
          397.739838745786,
          404.3223934398796,
          407.1502398894508,
          384.160173972853,
          450.616703632065,
          395.658091448988,
          360.6025344343468,
          417.1089746194756
         ]
        }
       ],
       "layout": {
        "height": 600,
        "showlegend": false,
        "template": {
         "data": {
          "bar": [
           {
            "error_x": {
             "color": "#2a3f5f"
            },
            "error_y": {
             "color": "#2a3f5f"
            },
            "marker": {
             "line": {
              "color": "#E5ECF6",
              "width": 0.5
             },
             "pattern": {
              "fillmode": "overlay",
              "size": 10,
              "solidity": 0.2
             }
            },
            "type": "bar"
           }
          ],
          "barpolar": [
           {
            "marker": {
             "line": {
              "color": "#E5ECF6",
              "width": 0.5
             },
             "pattern": {
              "fillmode": "overlay",
              "size": 10,
              "solidity": 0.2
             }
            },
            "type": "barpolar"
           }
          ],
          "carpet": [
           {
            "aaxis": {
             "endlinecolor": "#2a3f5f",
             "gridcolor": "white",
             "linecolor": "white",
             "minorgridcolor": "white",
             "startlinecolor": "#2a3f5f"
            },
            "baxis": {
             "endlinecolor": "#2a3f5f",
             "gridcolor": "white",
             "linecolor": "white",
             "minorgridcolor": "white",
             "startlinecolor": "#2a3f5f"
            },
            "type": "carpet"
           }
          ],
          "choropleth": [
           {
            "colorbar": {
             "outlinewidth": 0,
             "ticks": ""
            },
            "type": "choropleth"
           }
          ],
          "contour": [
           {
            "colorbar": {
             "outlinewidth": 0,
             "ticks": ""
            },
            "colorscale": [
             [
              0,
              "#0d0887"
             ],
             [
              0.1111111111111111,
              "#46039f"
             ],
             [
              0.2222222222222222,
              "#7201a8"
             ],
             [
              0.3333333333333333,
              "#9c179e"
             ],
             [
              0.4444444444444444,
              "#bd3786"
             ],
             [
              0.5555555555555556,
              "#d8576b"
             ],
             [
              0.6666666666666666,
              "#ed7953"
             ],
             [
              0.7777777777777778,
              "#fb9f3a"
             ],
             [
              0.8888888888888888,
              "#fdca26"
             ],
             [
              1,
              "#f0f921"
             ]
            ],
            "type": "contour"
           }
          ],
          "contourcarpet": [
           {
            "colorbar": {
             "outlinewidth": 0,
             "ticks": ""
            },
            "type": "contourcarpet"
           }
          ],
          "heatmap": [
           {
            "colorbar": {
             "outlinewidth": 0,
             "ticks": ""
            },
            "colorscale": [
             [
              0,
              "#0d0887"
             ],
             [
              0.1111111111111111,
              "#46039f"
             ],
             [
              0.2222222222222222,
              "#7201a8"
             ],
             [
              0.3333333333333333,
              "#9c179e"
             ],
             [
              0.4444444444444444,
              "#bd3786"
             ],
             [
              0.5555555555555556,
              "#d8576b"
             ],
             [
              0.6666666666666666,
              "#ed7953"
             ],
             [
              0.7777777777777778,
              "#fb9f3a"
             ],
             [
              0.8888888888888888,
              "#fdca26"
             ],
             [
              1,
              "#f0f921"
             ]
            ],
            "type": "heatmap"
           }
          ],
          "heatmapgl": [
           {
            "colorbar": {
             "outlinewidth": 0,
             "ticks": ""
            },
            "colorscale": [
             [
              0,
              "#0d0887"
             ],
             [
              0.1111111111111111,
              "#46039f"
             ],
             [
              0.2222222222222222,
              "#7201a8"
             ],
             [
              0.3333333333333333,
              "#9c179e"
             ],
             [
              0.4444444444444444,
              "#bd3786"
             ],
             [
              0.5555555555555556,
              "#d8576b"
             ],
             [
              0.6666666666666666,
              "#ed7953"
             ],
             [
              0.7777777777777778,
              "#fb9f3a"
             ],
             [
              0.8888888888888888,
              "#fdca26"
             ],
             [
              1,
              "#f0f921"
             ]
            ],
            "type": "heatmapgl"
           }
          ],
          "histogram": [
           {
            "marker": {
             "pattern": {
              "fillmode": "overlay",
              "size": 10,
              "solidity": 0.2
             }
            },
            "type": "histogram"
           }
          ],
          "histogram2d": [
           {
            "colorbar": {
             "outlinewidth": 0,
             "ticks": ""
            },
            "colorscale": [
             [
              0,
              "#0d0887"
             ],
             [
              0.1111111111111111,
              "#46039f"
             ],
             [
              0.2222222222222222,
              "#7201a8"
             ],
             [
              0.3333333333333333,
              "#9c179e"
             ],
             [
              0.4444444444444444,
              "#bd3786"
             ],
             [
              0.5555555555555556,
              "#d8576b"
             ],
             [
              0.6666666666666666,
              "#ed7953"
             ],
             [
              0.7777777777777778,
              "#fb9f3a"
             ],
             [
              0.8888888888888888,
              "#fdca26"
             ],
             [
              1,
              "#f0f921"
             ]
            ],
            "type": "histogram2d"
           }
          ],
          "histogram2dcontour": [
           {
            "colorbar": {
             "outlinewidth": 0,
             "ticks": ""
            },
            "colorscale": [
             [
              0,
              "#0d0887"
             ],
             [
              0.1111111111111111,
              "#46039f"
             ],
             [
              0.2222222222222222,
              "#7201a8"
             ],
             [
              0.3333333333333333,
              "#9c179e"
             ],
             [
              0.4444444444444444,
              "#bd3786"
             ],
             [
              0.5555555555555556,
              "#d8576b"
             ],
             [
              0.6666666666666666,
              "#ed7953"
             ],
             [
              0.7777777777777778,
              "#fb9f3a"
             ],
             [
              0.8888888888888888,
              "#fdca26"
             ],
             [
              1,
              "#f0f921"
             ]
            ],
            "type": "histogram2dcontour"
           }
          ],
          "mesh3d": [
           {
            "colorbar": {
             "outlinewidth": 0,
             "ticks": ""
            },
            "type": "mesh3d"
           }
          ],
          "parcoords": [
           {
            "line": {
             "colorbar": {
              "outlinewidth": 0,
              "ticks": ""
             }
            },
            "type": "parcoords"
           }
          ],
          "pie": [
           {
            "automargin": true,
            "type": "pie"
           }
          ],
          "scatter": [
           {
            "marker": {
             "colorbar": {
              "outlinewidth": 0,
              "ticks": ""
             }
            },
            "type": "scatter"
           }
          ],
          "scatter3d": [
           {
            "line": {
             "colorbar": {
              "outlinewidth": 0,
              "ticks": ""
             }
            },
            "marker": {
             "colorbar": {
              "outlinewidth": 0,
              "ticks": ""
             }
            },
            "type": "scatter3d"
           }
          ],
          "scattercarpet": [
           {
            "marker": {
             "colorbar": {
              "outlinewidth": 0,
              "ticks": ""
             }
            },
            "type": "scattercarpet"
           }
          ],
          "scattergeo": [
           {
            "marker": {
             "colorbar": {
              "outlinewidth": 0,
              "ticks": ""
             }
            },
            "type": "scattergeo"
           }
          ],
          "scattergl": [
           {
            "marker": {
             "colorbar": {
              "outlinewidth": 0,
              "ticks": ""
             }
            },
            "type": "scattergl"
           }
          ],
          "scattermapbox": [
           {
            "marker": {
             "colorbar": {
              "outlinewidth": 0,
              "ticks": ""
             }
            },
            "type": "scattermapbox"
           }
          ],
          "scatterpolar": [
           {
            "marker": {
             "colorbar": {
              "outlinewidth": 0,
              "ticks": ""
             }
            },
            "type": "scatterpolar"
           }
          ],
          "scatterpolargl": [
           {
            "marker": {
             "colorbar": {
              "outlinewidth": 0,
              "ticks": ""
             }
            },
            "type": "scatterpolargl"
           }
          ],
          "scatterternary": [
           {
            "marker": {
             "colorbar": {
              "outlinewidth": 0,
              "ticks": ""
             }
            },
            "type": "scatterternary"
           }
          ],
          "surface": [
           {
            "colorbar": {
             "outlinewidth": 0,
             "ticks": ""
            },
            "colorscale": [
             [
              0,
              "#0d0887"
             ],
             [
              0.1111111111111111,
              "#46039f"
             ],
             [
              0.2222222222222222,
              "#7201a8"
             ],
             [
              0.3333333333333333,
              "#9c179e"
             ],
             [
              0.4444444444444444,
              "#bd3786"
             ],
             [
              0.5555555555555556,
              "#d8576b"
             ],
             [
              0.6666666666666666,
              "#ed7953"
             ],
             [
              0.7777777777777778,
              "#fb9f3a"
             ],
             [
              0.8888888888888888,
              "#fdca26"
             ],
             [
              1,
              "#f0f921"
             ]
            ],
            "type": "surface"
           }
          ],
          "table": [
           {
            "cells": {
             "fill": {
              "color": "#EBF0F8"
             },
             "line": {
              "color": "white"
             }
            },
            "header": {
             "fill": {
              "color": "#C8D4E3"
             },
             "line": {
              "color": "white"
             }
            },
            "type": "table"
           }
          ]
         },
         "layout": {
          "annotationdefaults": {
           "arrowcolor": "#2a3f5f",
           "arrowhead": 0,
           "arrowwidth": 1
          },
          "autotypenumbers": "strict",
          "coloraxis": {
           "colorbar": {
            "outlinewidth": 0,
            "ticks": ""
           }
          },
          "colorscale": {
           "diverging": [
            [
             0,
             "#8e0152"
            ],
            [
             0.1,
             "#c51b7d"
            ],
            [
             0.2,
             "#de77ae"
            ],
            [
             0.3,
             "#f1b6da"
            ],
            [
             0.4,
             "#fde0ef"
            ],
            [
             0.5,
             "#f7f7f7"
            ],
            [
             0.6,
             "#e6f5d0"
            ],
            [
             0.7,
             "#b8e186"
            ],
            [
             0.8,
             "#7fbc41"
            ],
            [
             0.9,
             "#4d9221"
            ],
            [
             1,
             "#276419"
            ]
           ],
           "sequential": [
            [
             0,
             "#0d0887"
            ],
            [
             0.1111111111111111,
             "#46039f"
            ],
            [
             0.2222222222222222,
             "#7201a8"
            ],
            [
             0.3333333333333333,
             "#9c179e"
            ],
            [
             0.4444444444444444,
             "#bd3786"
            ],
            [
             0.5555555555555556,
             "#d8576b"
            ],
            [
             0.6666666666666666,
             "#ed7953"
            ],
            [
             0.7777777777777778,
             "#fb9f3a"
            ],
            [
             0.8888888888888888,
             "#fdca26"
            ],
            [
             1,
             "#f0f921"
            ]
           ],
           "sequentialminus": [
            [
             0,
             "#0d0887"
            ],
            [
             0.1111111111111111,
             "#46039f"
            ],
            [
             0.2222222222222222,
             "#7201a8"
            ],
            [
             0.3333333333333333,
             "#9c179e"
            ],
            [
             0.4444444444444444,
             "#bd3786"
            ],
            [
             0.5555555555555556,
             "#d8576b"
            ],
            [
             0.6666666666666666,
             "#ed7953"
            ],
            [
             0.7777777777777778,
             "#fb9f3a"
            ],
            [
             0.8888888888888888,
             "#fdca26"
            ],
            [
             1,
             "#f0f921"
            ]
           ]
          },
          "colorway": [
           "#636efa",
           "#EF553B",
           "#00cc96",
           "#ab63fa",
           "#FFA15A",
           "#19d3f3",
           "#FF6692",
           "#B6E880",
           "#FF97FF",
           "#FECB52"
          ],
          "font": {
           "color": "#2a3f5f"
          },
          "geo": {
           "bgcolor": "white",
           "lakecolor": "white",
           "landcolor": "#E5ECF6",
           "showlakes": true,
           "showland": true,
           "subunitcolor": "white"
          },
          "hoverlabel": {
           "align": "left"
          },
          "hovermode": "closest",
          "mapbox": {
           "style": "light"
          },
          "paper_bgcolor": "white",
          "plot_bgcolor": "#E5ECF6",
          "polar": {
           "angularaxis": {
            "gridcolor": "white",
            "linecolor": "white",
            "ticks": ""
           },
           "bgcolor": "#E5ECF6",
           "radialaxis": {
            "gridcolor": "white",
            "linecolor": "white",
            "ticks": ""
           }
          },
          "scene": {
           "xaxis": {
            "backgroundcolor": "#E5ECF6",
            "gridcolor": "white",
            "gridwidth": 2,
            "linecolor": "white",
            "showbackground": true,
            "ticks": "",
            "zerolinecolor": "white"
           },
           "yaxis": {
            "backgroundcolor": "#E5ECF6",
            "gridcolor": "white",
            "gridwidth": 2,
            "linecolor": "white",
            "showbackground": true,
            "ticks": "",
            "zerolinecolor": "white"
           },
           "zaxis": {
            "backgroundcolor": "#E5ECF6",
            "gridcolor": "white",
            "gridwidth": 2,
            "linecolor": "white",
            "showbackground": true,
            "ticks": "",
            "zerolinecolor": "white"
           }
          },
          "shapedefaults": {
           "line": {
            "color": "#2a3f5f"
           }
          },
          "ternary": {
           "aaxis": {
            "gridcolor": "white",
            "linecolor": "white",
            "ticks": ""
           },
           "baxis": {
            "gridcolor": "white",
            "linecolor": "white",
            "ticks": ""
           },
           "bgcolor": "#E5ECF6",
           "caxis": {
            "gridcolor": "white",
            "linecolor": "white",
            "ticks": ""
           }
          },
          "title": {
           "x": 0.05
          },
          "xaxis": {
           "automargin": true,
           "gridcolor": "white",
           "linecolor": "white",
           "ticks": "",
           "title": {
            "standoff": 15
           },
           "zerolinecolor": "white",
           "zerolinewidth": 2
          },
          "yaxis": {
           "automargin": true,
           "gridcolor": "white",
           "linecolor": "white",
           "ticks": "",
           "title": {
            "standoff": 15
           },
           "zerolinecolor": "white",
           "zerolinewidth": 2
          }
         }
        },
        "width": 900,
        "xaxis": {
         "autorange": true,
         "range": [
          "2022-05-29 02:44:34.2857",
          "2022-11-28"
         ],
         "rangeselector": {
          "buttons": [
           {
            "count": 7,
            "label": "1w",
            "step": "day",
            "stepmode": "backward"
           },
           {
            "count": 1,
            "label": "1m",
            "step": "month",
            "stepmode": "backward"
           },
           {
            "count": 6,
            "label": "6m",
            "step": "month",
            "stepmode": "backward"
           },
           {
            "count": 1,
            "label": "1y",
            "step": "year",
            "stepmode": "backward"
           },
           {
            "step": "all"
           }
          ]
         },
         "rangeslider": {
          "autorange": true,
          "range": [
           "2022-05-29 02:44:34.2857",
           "2022-11-28"
          ],
          "visible": true,
          "yaxis": {
           "_template": null,
           "rangemode": "match"
          }
         },
         "title": {
          "text": "ds"
         },
         "type": "date"
        },
        "yaxis": {
         "autorange": true,
         "range": [
          -145.24779010851276,
          481.977992776306
         ],
         "title": {
          "text": "y"
         },
         "type": "linear"
        }
       }
      },
      "image/png": "[encoded data removed]",
      "text/html": [
       "<div>                            <div id=\"5bdd5ff2-b8f3-40bd-92a7-6bf3bdb9ef03\" class=\"plotly-graph-div\" style=\"height:600px; width:900px;\"></div>            <script type=\"text/javascript\">                require([\"plotly\"], function(Plotly) {                    window.PLOTLYENV=window.PLOTLYENV || {};                                    if (document.getElementById(\"5bdd5ff2-b8f3-40bd-92a7-6bf3bdb9ef03\")) {                    Plotly.newPlot(                        \"5bdd5ff2-b8f3-40bd-92a7-6bf3bdb9ef03\",                        [{\"marker\":{\"color\":\"black\",\"size\":4},\"mode\":\"markers\",\"name\":\"Actual\",\"type\":\"scatter\",\"x\":[\"2022-06-08T00:00:00\",\"2022-06-11T00:00:00\",\"2022-06-12T00:00:00\",\"2022-06-14T00:00:00\",\"2022-06-16T00:00:00\",\"2022-06-17T00:00:00\",\"2022-06-19T00:00:00\",\"2022-06-21T00:00:00\",\"2022-06-22T00:00:00\",\"2022-06-23T00:00:00\",\"2022-06-24T00:00:00\",\"2022-06-25T00:00:00\",\"2022-06-26T00:00:00\",\"2022-06-28T00:00:00\",\"2022-06-29T00:00:00\",\"2022-06-30T00:00:00\",\"2022-07-01T00:00:00\",\"2022-07-02T00:00:00\",\"2022-07-03T00:00:00\",\"2022-07-04T00:00:00\",\"2022-07-05T00:00:00\",\"2022-07-06T00:00:00\",\"2022-07-07T00:00:00\",\"2022-07-08T00:00:00\",\"2022-07-09T00:00:00\",\"2022-07-11T00:00:00\",\"2022-07-12T00:00:00\",\"2022-07-13T00:00:00\",\"2022-07-14T00:00:00\",\"2022-07-19T00:00:00\",\"2022-07-20T00:00:00\",\"2022-07-21T00:00:00\",\"2022-07-22T00:00:00\",\"2022-07-25T00:00:00\",\"2022-07-26T00:00:00\",\"2022-07-27T00:00:00\",\"2022-07-28T00:00:00\",\"2022-07-29T00:00:00\",\"2022-07-30T00:00:00\",\"2022-07-31T00:00:00\",\"2022-08-01T00:00:00\",\"2022-08-02T00:00:00\",\"2022-08-03T00:00:00\",\"2022-08-04T00:00:00\",\"2022-08-05T00:00:00\",\"2022-08-06T00:00:00\",\"2022-08-07T00:00:00\",\"2022-08-08T00:00:00\",\"2022-08-09T00:00:00\",\"2022-08-10T00:00:00\",\"2022-08-12T00:00:00\",\"2022-08-13T00:00:00\",\"2022-08-14T00:00:00\",\"2022-08-15T00:00:00\",\"2022-08-16T00:00:00\",\"2022-08-17T00:00:00\",\"2022-08-18T00:00:00\",\"2022-08-19T00:00:00\",\"2022-08-20T00:00:00\",\"2022-08-21T00:00:00\",\"2022-08-22T00:00:00\",\"2022-08-23T00:00:00\",\"2022-08-24T00:00:00\",\"2022-08-25T00:00:00\",\"2022-08-26T00:00:00\",\"2022-08-29T00:00:00\",\"2022-08-30T00:00:00\"],\"y\":[1,1,1,2,1,1,1,1,2,5,1,2,1,1,16,12,15,12,2,2,26,36,30,32,14,10,38,42,39,101,143,13,90,115,56,112,89,193,84,27,105,128,118,139,144,104,23,162,122,43,288,102,45,92,198,176,91,205,100,32,109,88,160,72,256,220,184]},{\"hoverinfo\":\"skip\",\"line\":{\"width\":0},\"mode\":\"lines\",\"type\":\"scatter\",\"x\":[\"2022-06-08T00:00:00\",\"2022-06-11T00:00:00\",\"2022-06-12T00:00:00\",\"2022-06-14T00:00:00\",\"2022-06-16T00:00:00\",\"2022-06-17T00:00:00\",\"2022-06-19T00:00:00\",\"2022-06-21T00:00:00\",\"2022-06-22T00:00:00\",\"2022-06-23T00:00:00\",\"2022-06-24T00:00:00\",\"2022-06-25T00:00:00\",\"2022-06-26T00:00:00\",\"2022-06-28T00:00:00\",\"2022-06-29T00:00:00\",\"2022-06-30T00:00:00\",\"2022-07-01T00:00:00\",\"2022-07-02T00:00:00\",\"2022-07-03T00:00:00\",\"2022-07-04T00:00:00\",\"2022-07-05T00:00:00\",\"2022-07-06T00:00:00\",\"2022-07-07T00:00:00\",\"2022-07-08T00:00:00\",\"2022-07-09T00:00:00\",\"2022-07-11T00:00:00\",\"2022-07-12T00:00:00\",\"2022-07-13T00:00:00\",\"2022-07-14T00:00:00\",\"2022-07-19T00:00:00\",\"2022-07-20T00:00:00\",\"2022-07-21T00:00:00\",\"2022-07-22T00:00:00\",\"2022-07-25T00:00:00\",\"2022-07-26T00:00:00\",\"2022-07-27T00:00:00\",\"2022-07-28T00:00:00\",\"2022-07-29T00:00:00\",\"2022-07-30T00:00:00\",\"2022-07-31T00:00:00\",\"2022-08-01T00:00:00\",\"2022-08-02T00:00:00\",\"2022-08-03T00:00:00\",\"2022-08-04T00:00:00\",\"2022-08-05T00:00:00\",\"2022-08-06T00:00:00\",\"2022-08-07T00:00:00\",\"2022-08-08T00:00:00\",\"2022-08-09T00:00:00\",\"2022-08-10T00:00:00\",\"2022-08-12T00:00:00\",\"2022-08-13T00:00:00\",\"2022-08-14T00:00:00\",\"2022-08-15T00:00:00\",\"2022-08-16T00:00:00\",\"2022-08-17T00:00:00\",\"2022-08-18T00:00:00\",\"2022-08-19T00:00:00\",\"2022-08-20T00:00:00\",\"2022-08-21T00:00:00\",\"2022-08-22T00:00:00\",\"2022-08-23T00:00:00\",\"2022-08-24T00:00:00\",\"2022-08-25T00:00:00\",\"2022-08-26T00:00:00\",\"2022-08-29T00:00:00\",\"2022-08-30T00:00:00\",\"2022-08-31T00:00:00\",\"2022-09-01T00:00:00\",\"2022-09-02T00:00:00\",\"2022-09-03T00:00:00\",\"2022-09-04T00:00:00\",\"2022-09-05T00:00:00\",\"2022-09-06T00:00:00\",\"2022-09-07T00:00:00\",\"2022-09-08T00:00:00\",\"2022-09-09T00:00:00\",\"2022-09-10T00:00:00\",\"2022-09-11T00:00:00\",\"2022-09-12T00:00:00\",\"2022-09-13T00:00:00\",\"2022-09-14T00:00:00\",\"2022-09-15T00:00:00\",\"2022-09-16T00:00:00\",\"2022-09-17T00:00:00\",\"2022-09-18T00:00:00\",\"2022-09-19T00:00:00\",\"2022-09-20T00:00:00\",\"2022-09-21T00:00:00\",\"2022-09-22T00:00:00\",\"2022-09-23T00:00:00\",\"2022-09-24T00:00:00\",\"2022-09-25T00:00:00\",\"2022-09-26T00:00:00\",\"2022-09-27T00:00:00\",\"2022-09-28T00:00:00\",\"2022-09-29T00:00:00\",\"2022-09-30T00:00:00\",\"2022-10-01T00:00:00\",\"2022-10-02T00:00:00\",\"2022-10-03T00:00:00\",\"2022-10-04T00:00:00\",\"2022-10-05T00:00:00\",\"2022-10-06T00:00:00\",\"2022-10-07T00:00:00\",\"2022-10-08T00:00:00\",\"2022-10-09T00:00:00\",\"2022-10-10T00:00:00\",\"2022-10-11T00:00:00\",\"2022-10-12T00:00:00\",\"2022-10-13T00:00:00\",\"2022-10-14T00:00:00\",\"2022-10-15T00:00:00\",\"2022-10-16T00:00:00\",\"2022-10-17T00:00:00\",\"2022-10-18T00:00:00\",\"2022-10-19T00:00:00\",\"2022-10-20T00:00:00\",\"2022-10-21T00:00:00\",\"2022-10-22T00:00:00\",\"2022-10-23T00:00:00\",\"2022-10-24T00:00:00\",\"2022-10-25T00:00:00\",\"2022-10-26T00:00:00\",\"2022-10-27T00:00:00\",\"2022-10-28T00:00:00\",\"2022-10-29T00:00:00\",\"2022-10-30T00:00:00\",\"2022-10-31T00:00:00\",\"2022-11-01T00:00:00\",\"2022-11-02T00:00:00\",\"2022-11-03T00:00:00\",\"2022-11-04T00:00:00\",\"2022-11-05T00:00:00\",\"2022-11-06T00:00:00\",\"2022-11-07T00:00:00\",\"2022-11-08T00:00:00\",\"2022-11-09T00:00:00\",\"2022-11-10T00:00:00\",\"2022-11-11T00:00:00\",\"2022-11-12T00:00:00\",\"2022-11-13T00:00:00\",\"2022-11-14T00:00:00\",\"2022-11-15T00:00:00\",\"2022-11-16T00:00:00\",\"2022-11-17T00:00:00\",\"2022-11-18T00:00:00\",\"2022-11-19T00:00:00\",\"2022-11-20T00:00:00\",\"2022-11-21T00:00:00\",\"2022-11-22T00:00:00\",\"2022-11-23T00:00:00\",\"2022-11-24T00:00:00\",\"2022-11-25T00:00:00\",\"2022-11-26T00:00:00\",\"2022-11-27T00:00:00\",\"2022-11-28T00:00:00\"],\"y\":[-61.56800047111371,-78.21990143396927,-113.88650096427182,-61.12584891107262,-73.55401507323293,-5.8612601769869315,-91.7480302468977,-42.11906409140136,-31.568958132382573,-56.56780798113229,10.74889735222057,-52.21229568140133,-78.6548133680084,-21.81589890980539,-20.30072865135305,-43.63524565495374,25.421531396049506,-32.85837473337967,-64.45669188768812,-14.628949067262205,-8.580016685136375,-0.5152427864560908,-25.30907893548166,38.47304874748727,-20.25300071550858,3.8671641188387196,9.073171885352098,13.196401570348176,-11.527563621972343,23.557534278516627,27.916545990428467,5.780464383973534,77.9472116046965,34.27068084636386,37.25573636196262,44.18101576557123,20.090781045312312,88.65355109198717,27.522899082187486,-0.7780924330627222,44.6089573258585,53.43033368523806,62.26489420357891,35.23861885853457,107.54686308621042,41.32792584908005,19.556905347623772,65.58450373305698,71.06362297304831,73.9059997065563,117.72318553469283,61.597307344512686,30.503876539248875,81.77703084118691,85.11189627591448,90.98288883068341,69.33715166815215,131.15295784805343,77.4489566756402,49.47503510816283,91.07869680160648,100.34509611801775,104.86090321880225,81.05992048724451,147.41520932003448,110.75506568987709,116.52539811050696,120.38882284976391,99.69553503727363,165.30194468673804,102.53081444171536,77.32352574250837,128.237356615229,132.5898450926299,138.47174927902142,113.85941450513432,181.12875692196718,123.73588258162006,95.49413141137659,144.17397869374108,148.79850807949018,152.4624547829766,125.90794194010036,195.92758195252506,140.7743240157358,109.14751042651946,158.37087618251442,167.2071165408205,171.1064525476051,150.20335483355376,213.38984740750877,155.06289320017936,123.59820423748279,174.15077241348018,177.6342210356621,187.78297585429445,164.17553978023224,229.52325538293854,171.88172488660788,137.6776262728092,186.78903072055456,192.56189993063657,201.47238122213824,179.19307272585374,246.74760240610593,183.01643448833983,155.93907568205526,206.41156343179557,206.64888564607423,215.23766720733695,192.99974579303662,259.2821592697073,196.96855257754947,172.91563577931552,218.52167631392257,228.05570659980398,232.51295763216655,208.0640506280004,276.46658865352686,219.30028301289684,187.75223805475247,237.09216332110006,240.31189637388485,250.13569766969798,226.38034729862147,291.29486820741926,236.908793215684,203.34517806166963,252.66264813664458,255.89564105060555,266.6926390388627,240.32682101341817,306.59638369018194,247.6439240172158,216.42061262979024,269.192391050321,270.87364762044734,283.25866613025386,257.02560637190936,321.21504678242775,261.84847154263025,234.13182396299067,285.5611691083287,288.79874790407706,290.79121686731077,273.84718871855034,336.06251090331045,280.35916086532586,250.25030120364937,301.5368206798943,298.2554051242828,311.96702044221104,289.2940342766697,351.8019870798265,296.49443750471477,265.2453015197043,316.3822326378381]},{\"fill\":\"tonexty\",\"fillcolor\":\"rgba(0, 114, 178, 0.2)\",\"line\":{\"color\":\"#0072B2\",\"width\":2},\"mode\":\"lines\",\"name\":\"Predicted\",\"type\":\"scatter\",\"x\":[\"2022-06-08T00:00:00\",\"2022-06-11T00:00:00\",\"2022-06-12T00:00:00\",\"2022-06-14T00:00:00\",\"2022-06-16T00:00:00\",\"2022-06-17T00:00:00\",\"2022-06-19T00:00:00\",\"2022-06-21T00:00:00\",\"2022-06-22T00:00:00\",\"2022-06-23T00:00:00\",\"2022-06-24T00:00:00\",\"2022-06-25T00:00:00\",\"2022-06-26T00:00:00\",\"2022-06-28T00:00:00\",\"2022-06-29T00:00:00\",\"2022-06-30T00:00:00\",\"2022-07-01T00:00:00\",\"2022-07-02T00:00:00\",\"2022-07-03T00:00:00\",\"2022-07-04T00:00:00\",\"2022-07-05T00:00:00\",\"2022-07-06T00:00:00\",\"2022-07-07T00:00:00\",\"2022-07-08T00:00:00\",\"2022-07-09T00:00:00\",\"2022-07-11T00:00:00\",\"2022-07-12T00:00:00\",\"2022-07-13T00:00:00\",\"2022-07-14T00:00:00\",\"2022-07-19T00:00:00\",\"2022-07-20T00:00:00\",\"2022-07-21T00:00:00\",\"2022-07-22T00:00:00\",\"2022-07-25T00:00:00\",\"2022-07-26T00:00:00\",\"2022-07-27T00:00:00\",\"2022-07-28T00:00:00\",\"2022-07-29T00:00:00\",\"2022-07-30T00:00:00\",\"2022-07-31T00:00:00\",\"2022-08-01T00:00:00\",\"2022-08-02T00:00:00\",\"2022-08-03T00:00:00\",\"2022-08-04T00:00:00\",\"2022-08-05T00:00:00\",\"2022-08-06T00:00:00\",\"2022-08-07T00:00:00\",\"2022-08-08T00:00:00\",\"2022-08-09T00:00:00\",\"2022-08-10T00:00:00\",\"2022-08-12T00:00:00\",\"2022-08-13T00:00:00\",\"2022-08-14T00:00:00\",\"2022-08-15T00:00:00\",\"2022-08-16T00:00:00\",\"2022-08-17T00:00:00\",\"2022-08-18T00:00:00\",\"2022-08-19T00:00:00\",\"2022-08-20T00:00:00\",\"2022-08-21T00:00:00\",\"2022-08-22T00:00:00\",\"2022-08-23T00:00:00\",\"2022-08-24T00:00:00\",\"2022-08-25T00:00:00\",\"2022-08-26T00:00:00\",\"2022-08-29T00:00:00\",\"2022-08-30T00:00:00\",\"2022-08-31T00:00:00\",\"2022-09-01T00:00:00\",\"2022-09-02T00:00:00\",\"2022-09-03T00:00:00\",\"2022-09-04T00:00:00\",\"2022-09-05T00:00:00\",\"2022-09-06T00:00:00\",\"2022-09-07T00:00:00\",\"2022-09-08T00:00:00\",\"2022-09-09T00:00:00\",\"2022-09-10T00:00:00\",\"2022-09-11T00:00:00\",\"2022-09-12T00:00:00\",\"2022-09-13T00:00:00\",\"2022-09-14T00:00:00\",\"2022-09-15T00:00:00\",\"2022-09-16T00:00:00\",\"2022-09-17T00:00:00\",\"2022-09-18T00:00:00\",\"2022-09-19T00:00:00\",\"2022-09-20T00:00:00\",\"2022-09-21T00:00:00\",\"2022-09-22T00:00:00\",\"2022-09-23T00:00:00\",\"2022-09-24T00:00:00\",\"2022-09-25T00:00:00\",\"2022-09-26T00:00:00\",\"2022-09-27T00:00:00\",\"2022-09-28T00:00:00\",\"2022-09-29T00:00:00\",\"2022-09-30T00:00:00\",\"2022-10-01T00:00:00\",\"2022-10-02T00:00:00\",\"2022-10-03T00:00:00\",\"2022-10-04T00:00:00\",\"2022-10-05T00:00:00\",\"2022-10-06T00:00:00\",\"2022-10-07T00:00:00\",\"2022-10-08T00:00:00\",\"2022-10-09T00:00:00\",\"2022-10-10T00:00:00\",\"2022-10-11T00:00:00\",\"2022-10-12T00:00:00\",\"2022-10-13T00:00:00\",\"2022-10-14T00:00:00\",\"2022-10-15T00:00:00\",\"2022-10-16T00:00:00\",\"2022-10-17T00:00:00\",\"2022-10-18T00:00:00\",\"2022-10-19T00:00:00\",\"2022-10-20T00:00:00\",\"2022-10-21T00:00:00\",\"2022-10-22T00:00:00\",\"2022-10-23T00:00:00\",\"2022-10-24T00:00:00\",\"2022-10-25T00:00:00\",\"2022-10-26T00:00:00\",\"2022-10-27T00:00:00\",\"2022-10-28T00:00:00\",\"2022-10-29T00:00:00\",\"2022-10-30T00:00:00\",\"2022-10-31T00:00:00\",\"2022-11-01T00:00:00\",\"2022-11-02T00:00:00\",\"2022-11-03T00:00:00\",\"2022-11-04T00:00:00\",\"2022-11-05T00:00:00\",\"2022-11-06T00:00:00\",\"2022-11-07T00:00:00\",\"2022-11-08T00:00:00\",\"2022-11-09T00:00:00\",\"2022-11-10T00:00:00\",\"2022-11-11T00:00:00\",\"2022-11-12T00:00:00\",\"2022-11-13T00:00:00\",\"2022-11-14T00:00:00\",\"2022-11-15T00:00:00\",\"2022-11-16T00:00:00\",\"2022-11-17T00:00:00\",\"2022-11-18T00:00:00\",\"2022-11-19T00:00:00\",\"2022-11-20T00:00:00\",\"2022-11-21T00:00:00\",\"2022-11-22T00:00:00\",\"2022-11-23T00:00:00\",\"2022-11-24T00:00:00\",\"2022-11-25T00:00:00\",\"2022-11-26T00:00:00\",\"2022-11-27T00:00:00\",\"2022-11-28T00:00:00\"],\"y\":[-15.50119180415486,-31.932137393002513,-61.92717577231454,-7.516875047729894,-24.62032296943674,42.50947752983012,-46.2424771720162,8.167823552344288,15.86820539766201,-8.935624369305248,58.1941761303122,-0.5627401909232717,-30.557778570218257,23.852522154562106,31.552904000076495,6.749074232942645,73.8788747324725,15.121958410823916,-14.873079416056662,35.214016975480476,39.537222414742814,47.23760481347982,22.43377559942197,89.5635766521324,30.806660883871572,50.89871944958519,55.221924889643425,62.92230728890013,38.11847807554972,70.90662736721322,78.60700976668292,53.80318055366563,120.93298160724923,82.26812440693026,86.59132984756475,94.29171224745512,69.4878830347589,136.6176840887633,77.8607683216851,47.86573049643989,97.95282688928499,102.27603232971691,109.97641472953441,85.1725855167079,152.30238657038203,93.54547080319409,63.5504329778174,113.63752937095566,117.96073481143696,125.66111721108959,167.9870890519048,109.23017328477295,79.23513545965952,129.3222318528301,133.64543729353656,141.34581969368608,116.54199048122814,183.67179153544708,124.91487576851328,94.91983794360898,145.00693433667274,149.3301397776749,157.03052217779435,132.22669296538427,199.35649401963641,160.69163682086008,165.0148422617662,172.71522466187474,147.9113954495404,215.04119650382574,156.2842807369722,126.2892429119257,176.3763393050474,180.6995447459418,188.39992714601098,163.59609793350077,230.72589898783644,171.96898322107361,141.97394539601441,192.0610417892347,196.38424722994876,204.08462963018542,179.28080041765693,246.4106014720258,187.6536857050481,157.65864788009537,207.7457442730774,212.06894971412436,219.7693321142937,194.96550290181307,262.09530395612586,203.33838818927634,173.34335036432336,223.4304467573888,227.7536521983,235.454034598402,210.6502053859692,277.7800064402185,219.0230906732509,189.02805284827284,239.11514924145197,243.43835468239124,251.1387370826044,226.33490787009123,293.46470892431853,234.70779315722547,204.71275533250082,254.7998517256393,259.1230571665296,266.8234395666848,242.01961035428144,309.1494114085079,250.39249564170981,220.3974578165818,270.4845542098267,274.8077596506209,282.50814205082094,257.7043128384035,324.83411389260783,266.0771981256844,236.08216030080987,286.169256694014,290.4924621347965,298.1928445349013,273.38901532239794,340.51881637670795,281.76190060978576,251.7668627847592,301.85395917807716,306.17716461885044,313.8775470189818,289.0737178065541,356.2035188608079,297.4466030938871,267.4515652689872,317.5386616620439,321.8618671030261,329.56224950309,304.7584202907102,371.88822134499725,313.1313055782446,283.1362677532153,333.2233641462313,337.5465695871174,345.24695198719826,320.44312277483226,387.5729238290006,328.81600806221917,298.8209702371647,348.9080666304186,353.2312720712087,360.9316544714007,336.12782525895443,403.25762631319,344.50071054632053,314.5056727213927,364.5927691142613]},{\"fill\":\"tonexty\",\"fillcolor\":\"rgba(0, 114, 178, 0.2)\",\"hoverinfo\":\"skip\",\"line\":{\"width\":0},\"mode\":\"lines\",\"type\":\"scatter\",\"x\":[\"2022-06-08T00:00:00\",\"2022-06-11T00:00:00\",\"2022-06-12T00:00:00\",\"2022-06-14T00:00:00\",\"2022-06-16T00:00:00\",\"2022-06-17T00:00:00\",\"2022-06-19T00:00:00\",\"2022-06-21T00:00:00\",\"2022-06-22T00:00:00\",\"2022-06-23T00:00:00\",\"2022-06-24T00:00:00\",\"2022-06-25T00:00:00\",\"2022-06-26T00:00:00\",\"2022-06-28T00:00:00\",\"2022-06-29T00:00:00\",\"2022-06-30T00:00:00\",\"2022-07-01T00:00:00\",\"2022-07-02T00:00:00\",\"2022-07-03T00:00:00\",\"2022-07-04T00:00:00\",\"2022-07-05T00:00:00\",\"2022-07-06T00:00:00\",\"2022-07-07T00:00:00\",\"2022-07-08T00:00:00\",\"2022-07-09T00:00:00\",\"2022-07-11T00:00:00\",\"2022-07-12T00:00:00\",\"2022-07-13T00:00:00\",\"2022-07-14T00:00:00\",\"2022-07-19T00:00:00\",\"2022-07-20T00:00:00\",\"2022-07-21T00:00:00\",\"2022-07-22T00:00:00\",\"2022-07-25T00:00:00\",\"2022-07-26T00:00:00\",\"2022-07-27T00:00:00\",\"2022-07-28T00:00:00\",\"2022-07-29T00:00:00\",\"2022-07-30T00:00:00\",\"2022-07-31T00:00:00\",\"2022-08-01T00:00:00\",\"2022-08-02T00:00:00\",\"2022-08-03T00:00:00\",\"2022-08-04T00:00:00\",\"2022-08-05T00:00:00\",\"2022-08-06T00:00:00\",\"2022-08-07T00:00:00\",\"2022-08-08T00:00:00\",\"2022-08-09T00:00:00\",\"2022-08-10T00:00:00\",\"2022-08-12T00:00:00\",\"2022-08-13T00:00:00\",\"2022-08-14T00:00:00\",\"2022-08-15T00:00:00\",\"2022-08-16T00:00:00\",\"2022-08-17T00:00:00\",\"2022-08-18T00:00:00\",\"2022-08-19T00:00:00\",\"2022-08-20T00:00:00\",\"2022-08-21T00:00:00\",\"2022-08-22T00:00:00\",\"2022-08-23T00:00:00\",\"2022-08-24T00:00:00\",\"2022-08-25T00:00:00\",\"2022-08-26T00:00:00\",\"2022-08-29T00:00:00\",\"2022-08-30T00:00:00\",\"2022-08-31T00:00:00\",\"2022-09-01T00:00:00\",\"2022-09-02T00:00:00\",\"2022-09-03T00:00:00\",\"2022-09-04T00:00:00\",\"2022-09-05T00:00:00\",\"2022-09-06T00:00:00\",\"2022-09-07T00:00:00\",\"2022-09-08T00:00:00\",\"2022-09-09T00:00:00\",\"2022-09-10T00:00:00\",\"2022-09-11T00:00:00\",\"2022-09-12T00:00:00\",\"2022-09-13T00:00:00\",\"2022-09-14T00:00:00\",\"2022-09-15T00:00:00\",\"2022-09-16T00:00:00\",\"2022-09-17T00:00:00\",\"2022-09-18T00:00:00\",\"2022-09-19T00:00:00\",\"2022-09-20T00:00:00\",\"2022-09-21T00:00:00\",\"2022-09-22T00:00:00\",\"2022-09-23T00:00:00\",\"2022-09-24T00:00:00\",\"2022-09-25T00:00:00\",\"2022-09-26T00:00:00\",\"2022-09-27T00:00:00\",\"2022-09-28T00:00:00\",\"2022-09-29T00:00:00\",\"2022-09-30T00:00:00\",\"2022-10-01T00:00:00\",\"2022-10-02T00:00:00\",\"2022-10-03T00:00:00\",\"2022-10-04T00:00:00\",\"2022-10-05T00:00:00\",\"2022-10-06T00:00:00\",\"2022-10-07T00:00:00\",\"2022-10-08T00:00:00\",\"2022-10-09T00:00:00\",\"2022-10-10T00:00:00\",\"2022-10-11T00:00:00\",\"2022-10-12T00:00:00\",\"2022-10-13T00:00:00\",\"2022-10-14T00:00:00\",\"2022-10-15T00:00:00\",\"2022-10-16T00:00:00\",\"2022-10-17T00:00:00\",\"2022-10-18T00:00:00\",\"2022-10-19T00:00:00\",\"2022-10-20T00:00:00\",\"2022-10-21T00:00:00\",\"2022-10-22T00:00:00\",\"2022-10-23T00:00:00\",\"2022-10-24T00:00:00\",\"2022-10-25T00:00:00\",\"2022-10-26T00:00:00\",\"2022-10-27T00:00:00\",\"2022-10-28T00:00:00\",\"2022-10-29T00:00:00\",\"2022-10-30T00:00:00\",\"2022-10-31T00:00:00\",\"2022-11-01T00:00:00\",\"2022-11-02T00:00:00\",\"2022-11-03T00:00:00\",\"2022-11-04T00:00:00\",\"2022-11-05T00:00:00\",\"2022-11-06T00:00:00\",\"2022-11-07T00:00:00\",\"2022-11-08T00:00:00\",\"2022-11-09T00:00:00\",\"2022-11-10T00:00:00\",\"2022-11-11T00:00:00\",\"2022-11-12T00:00:00\",\"2022-11-13T00:00:00\",\"2022-11-14T00:00:00\",\"2022-11-15T00:00:00\",\"2022-11-16T00:00:00\",\"2022-11-17T00:00:00\",\"2022-11-18T00:00:00\",\"2022-11-19T00:00:00\",\"2022-11-20T00:00:00\",\"2022-11-21T00:00:00\",\"2022-11-22T00:00:00\",\"2022-11-23T00:00:00\",\"2022-11-24T00:00:00\",\"2022-11-25T00:00:00\",\"2022-11-26T00:00:00\",\"2022-11-27T00:00:00\",\"2022-11-28T00:00:00\"],\"y\":[32.26502066650295,17.740840702177515,-10.27240003809073,41.20962583075869,26.25153448491447,91.81832174518395,1.3875531938174563,57.27739952049645,63.66020644233584,38.321845152107564,107.83322416246979,50.39278413847835,18.46396696535769,76.58712145457653,81.18337482565205,51.60233093574626,122.65209669868777,62.06761771280091,34.632888376541736,89.3970260482969,88.38946340168054,98.97162824147294,71.7276014519798,137.79266761835433,81.03673937413912,101.38718088204244,105.09158252584302,114.39499259288289,86.10717242784804,121.0564137323356,128.33187636509848,103.34762578748159,170.96294991583656,133.6610266884475,135.23001710616506,143.33291364207415,119.56422036241992,186.11220692862804,126.5467274374239,95.33327705102279,149.3642041812633,147.47275409918964,156.20359099005125,134.99839065421617,202.26782516158764,144.09878135801932,114.4354591534722,160.85767078495408,168.23437334381313,172.3913777159381,217.7027091999498,162.06153798789205,126.50356265243074,176.50716229618132,183.34342323667587,189.75427698671888,164.12142464378846,229.4815203550412,177.59463514525913,148.33881859064692,193.12474778826552,203.5115341528022,205.89652347688315,184.0495889215166,249.63836856214627,213.61513083694894,216.06142362050707,216.1749734469767,198.52487991899355,263.67349098997863,202.4147137065678,175.03761511083175,227.46103758531922,230.64262095120836,240.58641091557658,208.11856261273832,280.39650581720724,224.50699690819977,191.22928808028442,245.6275543251754,246.92928339482506,254.50796010141124,225.09168396317688,299.1230702393928,238.32592885436205,208.20115063516133,256.78745468054603,259.6161200035248,269.73363746648516,245.3533300672211,311.2248295497199,254.11911525255044,224.80842105912583,275.6279807491601,277.2849292954075,281.3415192317133,258.55390329394595,329.0068091552992,271.2558153921797,238.88721156191528,288.06084632703124,289.53480525026816,301.5588197696074,277.28628161467964,342.35523705437157,285.3737737586707,251.25983987268177,306.9817391822331,306.74673075578227,313.2972038422154,289.22280134033645,359.59832473058805,295.5194852261127,273.89807496027345,320.00450977441767,322.0569022073166,331.0952735206671,309.01012932536315,376.63515814232034,315.3517696065736,282.4013636093367,333.73536423379437,343.07474349663806,348.33424762489733,320.4583950029981,392.4450913354247,334.2950360234907,297.59535425916624,351.5809108590683,354.44677400367476,360.85283266747825,340.73236729987644,404.0410703111705,344.32034333669003,316.3257421406805,370.334417021534,369.65707221947315,379.1924602031536,354.28384363034,422.10785297123306,360.92596626084037,331.6484504199325,380.5104569705891,388.0529056588793,391.2646006710489,369.3280436492472,434.52506144471414,374.0537153220388,349.7246314215068,397.739838745786,404.3223934398796,407.1502398894508,384.160173972853,450.616703632065,395.658091448988,360.6025344343468,417.1089746194756]}],                        {\"height\":600,\"showlegend\":false,\"template\":{\"data\":{\"bar\":[{\"error_x\":{\"color\":\"#2a3f5f\"},\"error_y\":{\"color\":\"#2a3f5f\"},\"marker\":{\"line\":{\"color\":\"#E5ECF6\",\"width\":0.5},\"pattern\":{\"fillmode\":\"overlay\",\"size\":10,\"solidity\":0.2}},\"type\":\"bar\"}],\"barpolar\":[{\"marker\":{\"line\":{\"color\":\"#E5ECF6\",\"width\":0.5},\"pattern\":{\"fillmode\":\"overlay\",\"size\":10,\"solidity\":0.2}},\"type\":\"barpolar\"}],\"carpet\":[{\"aaxis\":{\"endlinecolor\":\"#2a3f5f\",\"gridcolor\":\"white\",\"linecolor\":\"white\",\"minorgridcolor\":\"white\",\"startlinecolor\":\"#2a3f5f\"},\"baxis\":{\"endlinecolor\":\"#2a3f5f\",\"gridcolor\":\"white\",\"linecolor\":\"white\",\"minorgridcolor\":\"white\",\"startlinecolor\":\"#2a3f5f\"},\"type\":\"carpet\"}],\"choropleth\":[{\"colorbar\":{\"outlinewidth\":0,\"ticks\":\"\"},\"type\":\"choropleth\"}],\"contour\":[{\"colorbar\":{\"outlinewidth\":0,\"ticks\":\"\"},\"colorscale\":[[0.0,\"#0d0887\"],[0.1111111111111111,\"#46039f\"],[0.2222222222222222,\"#7201a8\"],[0.3333333333333333,\"#9c179e\"],[0.4444444444444444,\"#bd3786\"],[0.5555555555555556,\"#d8576b\"],[0.6666666666666666,\"#ed7953\"],[0.7777777777777778,\"#fb9f3a\"],[0.8888888888888888,\"#fdca26\"],[1.0,\"#f0f921\"]],\"type\":\"contour\"}],\"contourcarpet\":[{\"colorbar\":{\"outlinewidth\":0,\"ticks\":\"\"},\"type\":\"contourcarpet\"}],\"heatmap\":[{\"colorbar\":{\"outlinewidth\":0,\"ticks\":\"\"},\"colorscale\":[[0.0,\"#0d0887\"],[0.1111111111111111,\"#46039f\"],[0.2222222222222222,\"#7201a8\"],[0.3333333333333333,\"#9c179e\"],[0.4444444444444444,\"#bd3786\"],[0.5555555555555556,\"#d8576b\"],[0.6666666666666666,\"#ed7953\"],[0.7777777777777778,\"#fb9f3a\"],[0.8888888888888888,\"#fdca26\"],[1.0,\"#f0f921\"]],\"type\":\"heatmap\"}],\"heatmapgl\":[{\"colorbar\":{\"outlinewidth\":0,\"ticks\":\"\"},\"colorscale\":[[0.0,\"#0d0887\"],[0.1111111111111111,\"#46039f\"],[0.2222222222222222,\"#7201a8\"],[0.3333333333333333,\"#9c179e\"],[0.4444444444444444,\"#bd3786\"],[0.5555555555555556,\"#d8576b\"],[0.6666666666666666,\"#ed7953\"],[0.7777777777777778,\"#fb9f3a\"],[0.8888888888888888,\"#fdca26\"],[1.0,\"#f0f921\"]],\"type\":\"heatmapgl\"}],\"histogram\":[{\"marker\":{\"pattern\":{\"fillmode\":\"overlay\",\"size\":10,\"solidity\":0.2}},\"type\":\"histogram\"}],\"histogram2d\":[{\"colorbar\":{\"outlinewidth\":0,\"ticks\":\"\"},\"colorscale\":[[0.0,\"#0d0887\"],[0.1111111111111111,\"#46039f\"],[0.2222222222222222,\"#7201a8\"],[0.3333333333333333,\"#9c179e\"],[0.4444444444444444,\"#bd3786\"],[0.5555555555555556,\"#d8576b\"],[0.6666666666666666,\"#ed7953\"],[0.7777777777777778,\"#fb9f3a\"],[0.8888888888888888,\"#fdca26\"],[1.0,\"#f0f921\"]],\"type\":\"histogram2d\"}],\"histogram2dcontour\":[{\"colorbar\":{\"outlinewidth\":0,\"ticks\":\"\"},\"colorscale\":[[0.0,\"#0d0887\"],[0.1111111111111111,\"#46039f\"],[0.2222222222222222,\"#7201a8\"],[0.3333333333333333,\"#9c179e\"],[0.4444444444444444,\"#bd3786\"],[0.5555555555555556,\"#d8576b\"],[0.6666666666666666,\"#ed7953\"],[0.7777777777777778,\"#fb9f3a\"],[0.8888888888888888,\"#fdca26\"],[1.0,\"#f0f921\"]],\"type\":\"histogram2dcontour\"}],\"mesh3d\":[{\"colorbar\":{\"outlinewidth\":0,\"ticks\":\"\"},\"type\":\"mesh3d\"}],\"parcoords\":[{\"line\":{\"colorbar\":{\"outlinewidth\":0,\"ticks\":\"\"}},\"type\":\"parcoords\"}],\"pie\":[{\"automargin\":true,\"type\":\"pie\"}],\"scatter\":[{\"marker\":{\"colorbar\":{\"outlinewidth\":0,\"ticks\":\"\"}},\"type\":\"scatter\"}],\"scatter3d\":[{\"line\":{\"colorbar\":{\"outlinewidth\":0,\"ticks\":\"\"}},\"marker\":{\"colorbar\":{\"outlinewidth\":0,\"ticks\":\"\"}},\"type\":\"scatter3d\"}],\"scattercarpet\":[{\"marker\":{\"colorbar\":{\"outlinewidth\":0,\"ticks\":\"\"}},\"type\":\"scattercarpet\"}],\"scattergeo\":[{\"marker\":{\"colorbar\":{\"outlinewidth\":0,\"ticks\":\"\"}},\"type\":\"scattergeo\"}],\"scattergl\":[{\"marker\":{\"colorbar\":{\"outlinewidth\":0,\"ticks\":\"\"}},\"type\":\"scattergl\"}],\"scattermapbox\":[{\"marker\":{\"colorbar\":{\"outlinewidth\":0,\"ticks\":\"\"}},\"type\":\"scattermapbox\"}],\"scatterpolar\":[{\"marker\":{\"colorbar\":{\"outlinewidth\":0,\"ticks\":\"\"}},\"type\":\"scatterpolar\"}],\"scatterpolargl\":[{\"marker\":{\"colorbar\":{\"outlinewidth\":0,\"ticks\":\"\"}},\"type\":\"scatterpolargl\"}],\"scatterternary\":[{\"marker\":{\"colorbar\":{\"outlinewidth\":0,\"ticks\":\"\"}},\"type\":\"scatterternary\"}],\"surface\":[{\"colorbar\":{\"outlinewidth\":0,\"ticks\":\"\"},\"colorscale\":[[0.0,\"#0d0887\"],[0.1111111111111111,\"#46039f\"],[0.2222222222222222,\"#7201a8\"],[0.3333333333333333,\"#9c179e\"],[0.4444444444444444,\"#bd3786\"],[0.5555555555555556,\"#d8576b\"],[0.6666666666666666,\"#ed7953\"],[0.7777777777777778,\"#fb9f3a\"],[0.8888888888888888,\"#fdca26\"],[1.0,\"#f0f921\"]],\"type\":\"surface\"}],\"table\":[{\"cells\":{\"fill\":{\"color\":\"#EBF0F8\"},\"line\":{\"color\":\"white\"}},\"header\":{\"fill\":{\"color\":\"#C8D4E3\"},\"line\":{\"color\":\"white\"}},\"type\":\"table\"}]},\"layout\":{\"annotationdefaults\":{\"arrowcolor\":\"#2a3f5f\",\"arrowhead\":0,\"arrowwidth\":1},\"autotypenumbers\":\"strict\",\"coloraxis\":{\"colorbar\":{\"outlinewidth\":0,\"ticks\":\"\"}},\"colorscale\":{\"diverging\":[[0,\"#8e0152\"],[0.1,\"#c51b7d\"],[0.2,\"#de77ae\"],[0.3,\"#f1b6da\"],[0.4,\"#fde0ef\"],[0.5,\"#f7f7f7\"],[0.6,\"#e6f5d0\"],[0.7,\"#b8e186\"],[0.8,\"#7fbc41\"],[0.9,\"#4d9221\"],[1,\"#276419\"]],\"sequential\":[[0.0,\"#0d0887\"],[0.1111111111111111,\"#46039f\"],[0.2222222222222222,\"#7201a8\"],[0.3333333333333333,\"#9c179e\"],[0.4444444444444444,\"#bd3786\"],[0.5555555555555556,\"#d8576b\"],[0.6666666666666666,\"#ed7953\"],[0.7777777777777778,\"#fb9f3a\"],[0.8888888888888888,\"#fdca26\"],[1.0,\"#f0f921\"]],\"sequentialminus\":[[0.0,\"#0d0887\"],[0.1111111111111111,\"#46039f\"],[0.2222222222222222,\"#7201a8\"],[0.3333333333333333,\"#9c179e\"],[0.4444444444444444,\"#bd3786\"],[0.5555555555555556,\"#d8576b\"],[0.6666666666666666,\"#ed7953\"],[0.7777777777777778,\"#fb9f3a\"],[0.8888888888888888,\"#fdca26\"],[1.0,\"#f0f921\"]]},\"colorway\":[\"#636efa\",\"#EF553B\",\"#00cc96\",\"#ab63fa\",\"#FFA15A\",\"#19d3f3\",\"#FF6692\",\"#B6E880\",\"#FF97FF\",\"#FECB52\"],\"font\":{\"color\":\"#2a3f5f\"},\"geo\":{\"bgcolor\":\"white\",\"lakecolor\":\"white\",\"landcolor\":\"#E5ECF6\",\"showlakes\":true,\"showland\":true,\"subunitcolor\":\"white\"},\"hoverlabel\":{\"align\":\"left\"},\"hovermode\":\"closest\",\"mapbox\":{\"style\":\"light\"},\"paper_bgcolor\":\"white\",\"plot_bgcolor\":\"#E5ECF6\",\"polar\":{\"angularaxis\":{\"gridcolor\":\"white\",\"linecolor\":\"white\",\"ticks\":\"\"},\"bgcolor\":\"#E5ECF6\",\"radialaxis\":{\"gridcolor\":\"white\",\"linecolor\":\"white\",\"ticks\":\"\"}},\"scene\":{\"xaxis\":{\"backgroundcolor\":\"#E5ECF6\",\"gridcolor\":\"white\",\"gridwidth\":2,\"linecolor\":\"white\",\"showbackground\":true,\"ticks\":\"\",\"zerolinecolor\":\"white\"},\"yaxis\":{\"backgroundcolor\":\"#E5ECF6\",\"gridcolor\":\"white\",\"gridwidth\":2,\"linecolor\":\"white\",\"showbackground\":true,\"ticks\":\"\",\"zerolinecolor\":\"white\"},\"zaxis\":{\"backgroundcolor\":\"#E5ECF6\",\"gridcolor\":\"white\",\"gridwidth\":2,\"linecolor\":\"white\",\"showbackground\":true,\"ticks\":\"\",\"zerolinecolor\":\"white\"}},\"shapedefaults\":{\"line\":{\"color\":\"#2a3f5f\"}},\"ternary\":{\"aaxis\":{\"gridcolor\":\"white\",\"linecolor\":\"white\",\"ticks\":\"\"},\"baxis\":{\"gridcolor\":\"white\",\"linecolor\":\"white\",\"ticks\":\"\"},\"bgcolor\":\"#E5ECF6\",\"caxis\":{\"gridcolor\":\"white\",\"linecolor\":\"white\",\"ticks\":\"\"}},\"title\":{\"x\":0.05},\"xaxis\":{\"automargin\":true,\"gridcolor\":\"white\",\"linecolor\":\"white\",\"ticks\":\"\",\"title\":{\"standoff\":15},\"zerolinecolor\":\"white\",\"zerolinewidth\":2},\"yaxis\":{\"automargin\":true,\"gridcolor\":\"white\",\"linecolor\":\"white\",\"ticks\":\"\",\"title\":{\"standoff\":15},\"zerolinecolor\":\"white\",\"zerolinewidth\":2}}},\"width\":900,\"xaxis\":{\"rangeselector\":{\"buttons\":[{\"count\":7,\"label\":\"1w\",\"step\":\"day\",\"stepmode\":\"backward\"},{\"count\":1,\"label\":\"1m\",\"step\":\"month\",\"stepmode\":\"backward\"},{\"count\":6,\"label\":\"6m\",\"step\":\"month\",\"stepmode\":\"backward\"},{\"count\":1,\"label\":\"1y\",\"step\":\"year\",\"stepmode\":\"backward\"},{\"step\":\"all\"}]},\"rangeslider\":{\"visible\":true},\"title\":{\"text\":\"ds\"},\"type\":\"date\"},\"yaxis\":{\"title\":{\"text\":\"y\"}}},                        {\"responsive\": true}                    ).then(function(){\n",
       "                            \n",
       "var gd = document.getElementById('5bdd5ff2-b8f3-40bd-92a7-6bf3bdb9ef03');\n",
       "var x = new MutationObserver(function (mutations, observer) {{\n",
       "        var display = window.getComputedStyle(gd).display;\n",
       "        if (!display || display === 'none') {{\n",
       "            console.log([gd, 'removed!']);\n",
       "            Plotly.purge(gd);\n",
       "            observer.disconnect();\n",
       "        }}\n",
       "}});\n",
       "\n",
       "// Listen for the removal of the full notebook cells\n",
       "var notebookContainer = gd.closest('#notebook-container');\n",
       "if (notebookContainer) {{\n",
       "    x.observe(notebookContainer, {childList: true});\n",
       "}}\n",
       "\n",
       "// Listen for the clearing of the current output cell\n",
       "var outputEl = gd.closest('.output');\n",
       "if (outputEl) {{\n",
       "    x.observe(outputEl, {childList: true});\n",
       "}}\n",
       "\n",
       "                        })                };                });            </script>        </div>"
      ]
     },
     "metadata": {},
     "output_type": "display_data"
    }
   ],
   "source": [
    "plot_plotly(m, forecast)"
   ]
  },
  {
   "cell_type": "markdown",
   "id": "5a00f720-0626-46be-8ff9-1b47035307ea",
   "metadata": {},
   "source": [
    "<h4>Utilização do Components para ver tendências mensais e de dias da semana</h4>"
   ]
  },
  {
   "cell_type": "code",
   "execution_count": 169,
   "id": "2576ddaa-a393-4f12-8c8d-fa43c70a4f2d",
   "metadata": {},
   "outputs": [
    {
     "data": {
      "image/png": "[encoded data removed]",
      "text/plain": [
       "<Figure size 648x432 with 2 Axes>"
      ]
     },
     "metadata": {},
     "output_type": "display_data"
    }
   ],
   "source": [
    "fig2 = m.plot_components(forecast)"
   ]
  },
  {
   "cell_type": "markdown",
   "id": "e79cddd7-cf73-4aee-af6d-91be60b44c26",
   "metadata": {},
   "source": [
    "<b style=\"color:#1e6d06\">Observação:</b> A tendência é claramente de aumento nos casos, como são poucos dias desde o começo, é difícil ter precisão, porém, sabemos que a quantidade continuará aumentando."
   ]
  },
  {
   "cell_type": "markdown",
   "id": "6a41ae7e-ca92-4851-8191-39263909a968",
   "metadata": {},
   "source": [
    "<div id=\"42\"><h3>Previsão de novos casos diários acumulados</h3></div>"
   ]
  },
  {
   "cell_type": "markdown",
   "id": "1624db03-01ce-4b56-befe-cbf2e3a38f2e",
   "metadata": {},
   "source": [
    "<h4>Alteração da coluna y para somatória utilizando .cumsum()</h4>"
   ]
  },
  {
   "cell_type": "code",
   "execution_count": 170,
   "id": "d926fc23-5b3c-4c75-81d9-9e594310c884",
   "metadata": {},
   "outputs": [
    {
     "data": {
      "text/html": [
       "<div>\n",
       "<style scoped>\n",
       "    .dataframe tbody tr th:only-of-type {\n",
       "        vertical-align: middle;\n",
       "    }\n",
       "\n",
       "    .dataframe tbody tr th {\n",
       "        vertical-align: top;\n",
       "    }\n",
       "\n",
       "    .dataframe thead th {\n",
       "        text-align: right;\n",
       "    }\n",
       "</style>\n",
       "<table border=\"1\" class=\"dataframe\">\n",
       "  <thead>\n",
       "    <tr style=\"text-align: right;\">\n",
       "      <th></th>\n",
       "      <th>ds</th>\n",
       "      <th>y</th>\n",
       "    </tr>\n",
       "  </thead>\n",
       "  <tbody>\n",
       "    <tr>\n",
       "      <th>0</th>\n",
       "      <td>2022-06-08</td>\n",
       "      <td>1</td>\n",
       "    </tr>\n",
       "    <tr>\n",
       "      <th>1</th>\n",
       "      <td>2022-06-11</td>\n",
       "      <td>2</td>\n",
       "    </tr>\n",
       "    <tr>\n",
       "      <th>2</th>\n",
       "      <td>2022-06-12</td>\n",
       "      <td>3</td>\n",
       "    </tr>\n",
       "    <tr>\n",
       "      <th>3</th>\n",
       "      <td>2022-06-14</td>\n",
       "      <td>5</td>\n",
       "    </tr>\n",
       "    <tr>\n",
       "      <th>4</th>\n",
       "      <td>2022-06-16</td>\n",
       "      <td>6</td>\n",
       "    </tr>\n",
       "  </tbody>\n",
       "</table>\n",
       "</div>"
      ],
      "text/plain": [
       "          ds  y\n",
       "0 2022-06-08  1\n",
       "1 2022-06-11  2\n",
       "2 2022-06-12  3\n",
       "3 2022-06-14  5\n",
       "4 2022-06-16  6"
      ]
     },
     "execution_count": 170,
     "metadata": {},
     "output_type": "execute_result"
    }
   ],
   "source": [
    "df['y'] = df['y'].cumsum()\n",
    "df.head()"
   ]
  },
  {
   "cell_type": "code",
   "execution_count": 171,
   "id": "788d7ae4-e651-45ff-a079-d5d6eeaa0971",
   "metadata": {},
   "outputs": [
    {
     "name": "stderr",
     "output_type": "stream",
     "text": [
      "19:29:59 - cmdstanpy - INFO - Chain [1] start processing\n",
      "19:30:00 - cmdstanpy - INFO - Chain [1] done processing\n"
     ]
    },
    {
     "data": {
      "text/plain": [
       "<prophet.forecaster.Prophet at 0x7fa762525be0>"
      ]
     },
     "execution_count": 171,
     "metadata": {},
     "output_type": "execute_result"
    }
   ],
   "source": [
    "m = Prophet()\n",
    "m.fit(df)"
   ]
  },
  {
   "cell_type": "code",
   "execution_count": 172,
   "id": "55ea47fc-6b7f-4755-a8f3-53921b069f3d",
   "metadata": {},
   "outputs": [],
   "source": [
    "future = m.make_future_dataframe(periods=90)\n",
    "forecast = m.predict(future)"
   ]
  },
  {
   "cell_type": "code",
   "execution_count": 173,
   "id": "59bb8724-c615-46e7-86ab-0557fe6cf0c0",
   "metadata": {},
   "outputs": [
    {
     "data": {
      "application/vnd.plotly.v1+json": {
       "config": {
        "plotlyServerURL": "https://plot.ly"
       },
       "data": [
        {
         "marker": {
          "color": "black",
          "size": 4
         },
         "mode": "markers",
         "name": "Actual",
         "type": "scatter",
         "x": [
          "2022-06-08T00:00:00",
          "2022-06-11T00:00:00",
          "2022-06-12T00:00:00",
          "2022-06-14T00:00:00",
          "2022-06-16T00:00:00",
          "2022-06-17T00:00:00",
          "2022-06-19T00:00:00",
          "2022-06-21T00:00:00",
          "2022-06-22T00:00:00",
          "2022-06-23T00:00:00",
          "2022-06-24T00:00:00",
          "2022-06-25T00:00:00",
          "2022-06-26T00:00:00",
          "2022-06-28T00:00:00",
          "2022-06-29T00:00:00",
          "2022-06-30T00:00:00",
          "2022-07-01T00:00:00",
          "2022-07-02T00:00:00",
          "2022-07-03T00:00:00",
          "2022-07-04T00:00:00",
          "2022-07-05T00:00:00",
          "2022-07-06T00:00:00",
          "2022-07-07T00:00:00",
          "2022-07-08T00:00:00",
          "2022-07-09T00:00:00",
          "2022-07-11T00:00:00",
          "2022-07-12T00:00:00",
          "2022-07-13T00:00:00",
          "2022-07-14T00:00:00",
          "2022-07-19T00:00:00",
          "2022-07-20T00:00:00",
          "2022-07-21T00:00:00",
          "2022-07-22T00:00:00",
          "2022-07-25T00:00:00",
          "2022-07-26T00:00:00",
          "2022-07-27T00:00:00",
          "2022-07-28T00:00:00",
          "2022-07-29T00:00:00",
          "2022-07-30T00:00:00",
          "2022-07-31T00:00:00",
          "2022-08-01T00:00:00",
          "2022-08-02T00:00:00",
          "2022-08-03T00:00:00",
          "2022-08-04T00:00:00",
          "2022-08-05T00:00:00",
          "2022-08-06T00:00:00",
          "2022-08-07T00:00:00",
          "2022-08-08T00:00:00",
          "2022-08-09T00:00:00",
          "2022-08-10T00:00:00",
          "2022-08-12T00:00:00",
          "2022-08-13T00:00:00",
          "2022-08-14T00:00:00",
          "2022-08-15T00:00:00",
          "2022-08-16T00:00:00",
          "2022-08-17T00:00:00",
          "2022-08-18T00:00:00",
          "2022-08-19T00:00:00",
          "2022-08-20T00:00:00",
          "2022-08-21T00:00:00",
          "2022-08-22T00:00:00",
          "2022-08-23T00:00:00",
          "2022-08-24T00:00:00",
          "2022-08-25T00:00:00",
          "2022-08-26T00:00:00",
          "2022-08-29T00:00:00",
          "2022-08-30T00:00:00"
         ],
         "y": [
          1,
          2,
          3,
          5,
          6,
          7,
          8,
          9,
          11,
          16,
          17,
          19,
          20,
          21,
          37,
          49,
          64,
          76,
          78,
          80,
          106,
          142,
          172,
          204,
          218,
          228,
          266,
          308,
          347,
          448,
          591,
          604,
          694,
          809,
          865,
          977,
          1066,
          1259,
          1343,
          1370,
          1475,
          1603,
          1721,
          1860,
          2004,
          2108,
          2131,
          2293,
          2415,
          2458,
          2746,
          2848,
          2893,
          2985,
          3183,
          3359,
          3450,
          3655,
          3755,
          3787,
          3896,
          3984,
          4144,
          4216,
          4472,
          4692,
          4876
         ]
        },
        {
         "hoverinfo": "skip",
         "line": {
          "width": 0
         },
         "mode": "lines",
         "type": "scatter",
         "x": [
          "2022-06-08T00:00:00",
          "2022-06-11T00:00:00",
          "2022-06-12T00:00:00",
          "2022-06-14T00:00:00",
          "2022-06-16T00:00:00",
          "2022-06-17T00:00:00",
          "2022-06-19T00:00:00",
          "2022-06-21T00:00:00",
          "2022-06-22T00:00:00",
          "2022-06-23T00:00:00",
          "2022-06-24T00:00:00",
          "2022-06-25T00:00:00",
          "2022-06-26T00:00:00",
          "2022-06-28T00:00:00",
          "2022-06-29T00:00:00",
          "2022-06-30T00:00:00",
          "2022-07-01T00:00:00",
          "2022-07-02T00:00:00",
          "2022-07-03T00:00:00",
          "2022-07-04T00:00:00",
          "2022-07-05T00:00:00",
          "2022-07-06T00:00:00",
          "2022-07-07T00:00:00",
          "2022-07-08T00:00:00",
          "2022-07-09T00:00:00",
          "2022-07-11T00:00:00",
          "2022-07-12T00:00:00",
          "2022-07-13T00:00:00",
          "2022-07-14T00:00:00",
          "2022-07-19T00:00:00",
          "2022-07-20T00:00:00",
          "2022-07-21T00:00:00",
          "2022-07-22T00:00:00",
          "2022-07-25T00:00:00",
          "2022-07-26T00:00:00",
          "2022-07-27T00:00:00",
          "2022-07-28T00:00:00",
          "2022-07-29T00:00:00",
          "2022-07-30T00:00:00",
          "2022-07-31T00:00:00",
          "2022-08-01T00:00:00",
          "2022-08-02T00:00:00",
          "2022-08-03T00:00:00",
          "2022-08-04T00:00:00",
          "2022-08-05T00:00:00",
          "2022-08-06T00:00:00",
          "2022-08-07T00:00:00",
          "2022-08-08T00:00:00",
          "2022-08-09T00:00:00",
          "2022-08-10T00:00:00",
          "2022-08-12T00:00:00",
          "2022-08-13T00:00:00",
          "2022-08-14T00:00:00",
          "2022-08-15T00:00:00",
          "2022-08-16T00:00:00",
          "2022-08-17T00:00:00",
          "2022-08-18T00:00:00",
          "2022-08-19T00:00:00",
          "2022-08-20T00:00:00",
          "2022-08-21T00:00:00",
          "2022-08-22T00:00:00",
          "2022-08-23T00:00:00",
          "2022-08-24T00:00:00",
          "2022-08-25T00:00:00",
          "2022-08-26T00:00:00",
          "2022-08-29T00:00:00",
          "2022-08-30T00:00:00",
          "2022-08-31T00:00:00",
          "2022-09-01T00:00:00",
          "2022-09-02T00:00:00",
          "2022-09-03T00:00:00",
          "2022-09-04T00:00:00",
          "2022-09-05T00:00:00",
          "2022-09-06T00:00:00",
          "2022-09-07T00:00:00",
          "2022-09-08T00:00:00",
          "2022-09-09T00:00:00",
          "2022-09-10T00:00:00",
          "2022-09-11T00:00:00",
          "2022-09-12T00:00:00",
          "2022-09-13T00:00:00",
          "2022-09-14T00:00:00",
          "2022-09-15T00:00:00",
          "2022-09-16T00:00:00",
          "2022-09-17T00:00:00",
          "2022-09-18T00:00:00",
          "2022-09-19T00:00:00",
          "2022-09-20T00:00:00",
          "2022-09-21T00:00:00",
          "2022-09-22T00:00:00",
          "2022-09-23T00:00:00",
          "2022-09-24T00:00:00",
          "2022-09-25T00:00:00",
          "2022-09-26T00:00:00",
          "2022-09-27T00:00:00",
          "2022-09-28T00:00:00",
          "2022-09-29T00:00:00",
          "2022-09-30T00:00:00",
          "2022-10-01T00:00:00",
          "2022-10-02T00:00:00",
          "2022-10-03T00:00:00",
          "2022-10-04T00:00:00",
          "2022-10-05T00:00:00",
          "2022-10-06T00:00:00",
          "2022-10-07T00:00:00",
          "2022-10-08T00:00:00",
          "2022-10-09T00:00:00",
          "2022-10-10T00:00:00",
          "2022-10-11T00:00:00",
          "2022-10-12T00:00:00",
          "2022-10-13T00:00:00",
          "2022-10-14T00:00:00",
          "2022-10-15T00:00:00",
          "2022-10-16T00:00:00",
          "2022-10-17T00:00:00",
          "2022-10-18T00:00:00",
          "2022-10-19T00:00:00",
          "2022-10-20T00:00:00",
          "2022-10-21T00:00:00",
          "2022-10-22T00:00:00",
          "2022-10-23T00:00:00",
          "2022-10-24T00:00:00",
          "2022-10-25T00:00:00",
          "2022-10-26T00:00:00",
          "2022-10-27T00:00:00",
          "2022-10-28T00:00:00",
          "2022-10-29T00:00:00",
          "2022-10-30T00:00:00",
          "2022-10-31T00:00:00",
          "2022-11-01T00:00:00",
          "2022-11-02T00:00:00",
          "2022-11-03T00:00:00",
          "2022-11-04T00:00:00",
          "2022-11-05T00:00:00",
          "2022-11-06T00:00:00",
          "2022-11-07T00:00:00",
          "2022-11-08T00:00:00",
          "2022-11-09T00:00:00",
          "2022-11-10T00:00:00",
          "2022-11-11T00:00:00",
          "2022-11-12T00:00:00",
          "2022-11-13T00:00:00",
          "2022-11-14T00:00:00",
          "2022-11-15T00:00:00",
          "2022-11-16T00:00:00",
          "2022-11-17T00:00:00",
          "2022-11-18T00:00:00",
          "2022-11-19T00:00:00",
          "2022-11-20T00:00:00",
          "2022-11-21T00:00:00",
          "2022-11-22T00:00:00",
          "2022-11-23T00:00:00",
          "2022-11-24T00:00:00",
          "2022-11-25T00:00:00",
          "2022-11-26T00:00:00",
          "2022-11-27T00:00:00",
          "2022-11-28T00:00:00"
         ],
         "y": [
          -33.616679877993384,
          -9.747088068964286,
          -52.03685524124277,
          -46.82972853477185,
          -32.48238760617147,
          10.469572949502233,
          -47.97904309807905,
          -38.89997930538899,
          -21.710657921078745,
          -25.544157650702342,
          18.47892964676954,
          9.184666889158756,
          -27.947498267758228,
          -12.705187316195074,
          11.477507438744887,
          9.064957887477044,
          60.387356403907724,
          54.47211691160245,
          27.273646308977366,
          30.889143730081713,
          69.38199275553414,
          107.95424183449367,
          123.23115114697092,
          188.14310496341363,
          198.09728997750153,
          189.25757545811896,
          236.46439223633902,
          281.2611688467768,
          306.6734188295813,
          445.94246533195883,
          520.7250201527097,
          570.8165325621657,
          670.4962833695904,
          767.5668206082739,
          854.9383086653442,
          945.194392925893,
          1048.9285852729129,
          1200.6628170089764,
          1295.0170246792143,
          1359.218938311744,
          1451.2869907470604,
          1582.6251313528883,
          1707.7496674884403,
          1811.3119269118863,
          1963.855205051603,
          2057.847480544363,
          2122.257854545871,
          2216.183332940224,
          2343.9138880649953,
          2470.1551293208595,
          2729.1054883418565,
          2834.9770467990124,
          2909.75153134531,
          3012.2548069094905,
          3150.2065663663566,
          3287.96360025565,
          3402.9235225183174,
          3565.9596113935186,
          3671.10202988342,
          3744.9282412111584,
          3849.4940067103926,
          3985.718983791057,
          4126.492885799365,
          4240.441474263371,
          4404.22459079352,
          4684.3826489331295,
          4825.026107173159,
          4962.608386384415,
          5079.091052039049,
          5236.633521354212,
          5342.90828671929,
          5408.919767707291,
          5512.475564787055,
          5642.140780339432,
          5773.18853906265,
          5878.74350324235,
          6022.559579428793,
          6123.8310836101,
          6177.467536250798,
          6267.3279279378285,
          6393.0878327978,
          6511.116115063941,
          6611.19210256241,
          6753.172793539298,
          6846.34150548143,
          6905.9506152995245,
          6987.453795859359,
          7106.9025830718,
          7233.119457805255,
          7336.302703274394,
          7474.454502118379,
          7556.052561967325,
          7614.488853968603,
          7692.0639753811065,
          7814.489833738727,
          7928.063244720476,
          8024.772679122058,
          8174.272325126973,
          8247.342814388167,
          8299.270046883463,
          8383.955936633867,
          8517.445588763709,
          8618.571830570374,
          8719.740173445834,
          8861.61232295045,
          8950.293343395173,
          9010.031778183973,
          9085.491167806345,
          9205.676364034283,
          9309.462391553217,
          9394.897512698566,
          9526.09596889458,
          9604.983339205857,
          9669.427823327542,
          9735.478242918223,
          9838.482156290193,
          9957.740934902658,
          10038.85349584909,
          10167.849399795006,
          10225.279741181956,
          10278.280320881404,
          10351.90630586517,
          10479.784395693086,
          10591.509349655858,
          10671.3007452155,
          10804.33775047517,
          10896.664487416127,
          10912.527966151087,
          10986.709119742367,
          11089.073880791168,
          11196.977540085909,
          11286.439026839069,
          11414.561763095418,
          11476.787532459472,
          11530.961213413912,
          11596.962902341871,
          11699.035484199698,
          11815.26393314176,
          11893.08274854114,
          12034.77822721529,
          12087.463658163435,
          12152.428318552247,
          12206.282243311925,
          12313.646368572949,
          12432.401765494027,
          12517.278347004767,
          12634.433521748608,
          12718.497006537014,
          12757.414610387397,
          12811.904500974077,
          12890.951966590255,
          13018.70732306157,
          13096.147462716386,
          13195.051960931796,
          13291.645462989256,
          13313.111932843065,
          13375.549318551302
         ]
        },
        {
         "fill": "tonexty",
         "fillcolor": "rgba(0, 114, 178, 0.2)",
         "line": {
          "color": "#0072B2",
          "width": 2
         },
         "mode": "lines",
         "name": "Predicted",
         "type": "scatter",
         "x": [
          "2022-06-08T00:00:00",
          "2022-06-11T00:00:00",
          "2022-06-12T00:00:00",
          "2022-06-14T00:00:00",
          "2022-06-16T00:00:00",
          "2022-06-17T00:00:00",
          "2022-06-19T00:00:00",
          "2022-06-21T00:00:00",
          "2022-06-22T00:00:00",
          "2022-06-23T00:00:00",
          "2022-06-24T00:00:00",
          "2022-06-25T00:00:00",
          "2022-06-26T00:00:00",
          "2022-06-28T00:00:00",
          "2022-06-29T00:00:00",
          "2022-06-30T00:00:00",
          "2022-07-01T00:00:00",
          "2022-07-02T00:00:00",
          "2022-07-03T00:00:00",
          "2022-07-04T00:00:00",
          "2022-07-05T00:00:00",
          "2022-07-06T00:00:00",
          "2022-07-07T00:00:00",
          "2022-07-08T00:00:00",
          "2022-07-09T00:00:00",
          "2022-07-11T00:00:00",
          "2022-07-12T00:00:00",
          "2022-07-13T00:00:00",
          "2022-07-14T00:00:00",
          "2022-07-19T00:00:00",
          "2022-07-20T00:00:00",
          "2022-07-21T00:00:00",
          "2022-07-22T00:00:00",
          "2022-07-25T00:00:00",
          "2022-07-26T00:00:00",
          "2022-07-27T00:00:00",
          "2022-07-28T00:00:00",
          "2022-07-29T00:00:00",
          "2022-07-30T00:00:00",
          "2022-07-31T00:00:00",
          "2022-08-01T00:00:00",
          "2022-08-02T00:00:00",
          "2022-08-03T00:00:00",
          "2022-08-04T00:00:00",
          "2022-08-05T00:00:00",
          "2022-08-06T00:00:00",
          "2022-08-07T00:00:00",
          "2022-08-08T00:00:00",
          "2022-08-09T00:00:00",
          "2022-08-10T00:00:00",
          "2022-08-12T00:00:00",
          "2022-08-13T00:00:00",
          "2022-08-14T00:00:00",
          "2022-08-15T00:00:00",
          "2022-08-16T00:00:00",
          "2022-08-17T00:00:00",
          "2022-08-18T00:00:00",
          "2022-08-19T00:00:00",
          "2022-08-20T00:00:00",
          "2022-08-21T00:00:00",
          "2022-08-22T00:00:00",
          "2022-08-23T00:00:00",
          "2022-08-24T00:00:00",
          "2022-08-25T00:00:00",
          "2022-08-26T00:00:00",
          "2022-08-29T00:00:00",
          "2022-08-30T00:00:00",
          "2022-08-31T00:00:00",
          "2022-09-01T00:00:00",
          "2022-09-02T00:00:00",
          "2022-09-03T00:00:00",
          "2022-09-04T00:00:00",
          "2022-09-05T00:00:00",
          "2022-09-06T00:00:00",
          "2022-09-07T00:00:00",
          "2022-09-08T00:00:00",
          "2022-09-09T00:00:00",
          "2022-09-10T00:00:00",
          "2022-09-11T00:00:00",
          "2022-09-12T00:00:00",
          "2022-09-13T00:00:00",
          "2022-09-14T00:00:00",
          "2022-09-15T00:00:00",
          "2022-09-16T00:00:00",
          "2022-09-17T00:00:00",
          "2022-09-18T00:00:00",
          "2022-09-19T00:00:00",
          "2022-09-20T00:00:00",
          "2022-09-21T00:00:00",
          "2022-09-22T00:00:00",
          "2022-09-23T00:00:00",
          "2022-09-24T00:00:00",
          "2022-09-25T00:00:00",
          "2022-09-26T00:00:00",
          "2022-09-27T00:00:00",
          "2022-09-28T00:00:00",
          "2022-09-29T00:00:00",
          "2022-09-30T00:00:00",
          "2022-10-01T00:00:00",
          "2022-10-02T00:00:00",
          "2022-10-03T00:00:00",
          "2022-10-04T00:00:00",
          "2022-10-05T00:00:00",
          "2022-10-06T00:00:00",
          "2022-10-07T00:00:00",
          "2022-10-08T00:00:00",
          "2022-10-09T00:00:00",
          "2022-10-10T00:00:00",
          "2022-10-11T00:00:00",
          "2022-10-12T00:00:00",
          "2022-10-13T00:00:00",
          "2022-10-14T00:00:00",
          "2022-10-15T00:00:00",
          "2022-10-16T00:00:00",
          "2022-10-17T00:00:00",
          "2022-10-18T00:00:00",
          "2022-10-19T00:00:00",
          "2022-10-20T00:00:00",
          "2022-10-21T00:00:00",
          "2022-10-22T00:00:00",
          "2022-10-23T00:00:00",
          "2022-10-24T00:00:00",
          "2022-10-25T00:00:00",
          "2022-10-26T00:00:00",
          "2022-10-27T00:00:00",
          "2022-10-28T00:00:00",
          "2022-10-29T00:00:00",
          "2022-10-30T00:00:00",
          "2022-10-31T00:00:00",
          "2022-11-01T00:00:00",
          "2022-11-02T00:00:00",
          "2022-11-03T00:00:00",
          "2022-11-04T00:00:00",
          "2022-11-05T00:00:00",
          "2022-11-06T00:00:00",
          "2022-11-07T00:00:00",
          "2022-11-08T00:00:00",
          "2022-11-09T00:00:00",
          "2022-11-10T00:00:00",
          "2022-11-11T00:00:00",
          "2022-11-12T00:00:00",
          "2022-11-13T00:00:00",
          "2022-11-14T00:00:00",
          "2022-11-15T00:00:00",
          "2022-11-16T00:00:00",
          "2022-11-17T00:00:00",
          "2022-11-18T00:00:00",
          "2022-11-19T00:00:00",
          "2022-11-20T00:00:00",
          "2022-11-21T00:00:00",
          "2022-11-22T00:00:00",
          "2022-11-23T00:00:00",
          "2022-11-24T00:00:00",
          "2022-11-25T00:00:00",
          "2022-11-26T00:00:00",
          "2022-11-27T00:00:00",
          "2022-11-28T00:00:00"
         ],
         "y": [
          -2.7612880126043886,
          24.28321988949544,
          -20.252788507683615,
          -14.85894901936474,
          0.6510254732010081,
          43.07814351517313,
          -13.85604131883891,
          -8.462201788863911,
          10.03220695064886,
          7.066894831328597,
          49.51313501352019,
          42.26873209458858,
          2.886496937044285,
          18.615959006339438,
          42.27817901546894,
          44.46155607986047,
          92.09890435481591,
          84.91095828997157,
          59.46186475756623,
          63.34512886031548,
          103.05876845044156,
          140.66932640314607,
          156.83862279927862,
          218.41947149707545,
          231.49232445741663,
          222.69472353611508,
          268.7850288498859,
          312.7722525261178,
          339.19277730106114,
          477.10434510289224,
          551.6266140755951,
          604.6700401035637,
          703.1371201950844,
          799.1191706085016,
          888.2938764263848,
          975.3655006068626,
          1080.5455858908374,
          1231.1372234763514,
          1326.9405486561006,
          1390.6060415970137,
          1483.603892173279,
          1612.4299074701978,
          1739.1528411297193,
          1844.4001933187253,
          1995.0590978092334,
          2090.892708013898,
          2154.5884859799216,
          2247.6166226956384,
          2376.445900635104,
          2503.172097149966,
          2759.0783565918055,
          2865.3811513528103,
          2939.546113875145,
          3043.0674714788606,
          3182.389970306381,
          3319.6093874964477,
          3435.349961741823,
          3596.502088288753,
          3702.8289204960224,
          3777.0179204646383,
          3880.5392780683633,
          4019.8617768958775,
          4157.081194086029,
          4272.821768331421,
          4433.973894878366,
          4718.011084657963,
          4857.333583485467,
          4994.553000675594,
          5110.293574921018,
          5271.44570146798,
          5377.772533675294,
          5451.961533643755,
          5555.482891247562,
          5694.805390075088,
          5832.024807265196,
          5947.7653815105205,
          6108.917508057553,
          6215.244340264855,
          6289.43334023329,
          6392.954697837161,
          6532.277196664647,
          6669.496613854767,
          6785.237188100117,
          6946.389314647168,
          7052.716146854381,
          7126.905146823013,
          7230.426504426664,
          7369.749003254268,
          7506.968420444349,
          7622.708994689713,
          7783.861121236761,
          7890.187953443976,
          7964.37695341259,
          8067.898311016304,
          8207.22080984389,
          8344.440227033932,
          8460.180801279312,
          8621.332927826254,
          8727.6597600335,
          8801.848760002085,
          8905.370117605864,
          9044.692616433478,
          9181.912033623523,
          9297.652607868908,
          9458.804734415846,
          9565.131566623028,
          9639.320566591665,
          9742.841924195458,
          9882.164423022976,
          10019.383840213086,
          10135.124414458502,
          10296.276541005458,
          10402.603373212773,
          10476.792373181383,
          10580.31373078506,
          10719.636229612564,
          10856.855646802684,
          10972.5962210481,
          11133.748347595054,
          11240.075179802294,
          11314.264179770962,
          11417.78553737466,
          11557.108036202184,
          11694.32745339225,
          11810.068027637604,
          11971.220154184644,
          12077.546986391857,
          12151.73598636046,
          12255.257343964215,
          12394.579842791649,
          12531.799259981817,
          12647.5398342272,
          12808.69196077424,
          12915.018792981418,
          12989.207792950036,
          13092.72915055376,
          13232.051649381272,
          13369.271066571397,
          13485.011640816798,
          13646.163767363854,
          13752.490599571127,
          13826.679599539615,
          13930.200957143363,
          14069.523455970857,
          14206.742873160982,
          14322.483447406395,
          14483.635573953325,
          14589.962406160654,
          14664.151406129111,
          14767.672763732957,
          14906.99526256045,
          15044.214679750567,
          15159.955253995988,
          15321.10738054294,
          15427.434212750213,
          15501.623212718687,
          15605.144570322462
         ]
        },
        {
         "fill": "tonexty",
         "fillcolor": "rgba(0, 114, 178, 0.2)",
         "hoverinfo": "skip",
         "line": {
          "width": 0
         },
         "mode": "lines",
         "type": "scatter",
         "x": [
          "2022-06-08T00:00:00",
          "2022-06-11T00:00:00",
          "2022-06-12T00:00:00",
          "2022-06-14T00:00:00",
          "2022-06-16T00:00:00",
          "2022-06-17T00:00:00",
          "2022-06-19T00:00:00",
          "2022-06-21T00:00:00",
          "2022-06-22T00:00:00",
          "2022-06-23T00:00:00",
          "2022-06-24T00:00:00",
          "2022-06-25T00:00:00",
          "2022-06-26T00:00:00",
          "2022-06-28T00:00:00",
          "2022-06-29T00:00:00",
          "2022-06-30T00:00:00",
          "2022-07-01T00:00:00",
          "2022-07-02T00:00:00",
          "2022-07-03T00:00:00",
          "2022-07-04T00:00:00",
          "2022-07-05T00:00:00",
          "2022-07-06T00:00:00",
          "2022-07-07T00:00:00",
          "2022-07-08T00:00:00",
          "2022-07-09T00:00:00",
          "2022-07-11T00:00:00",
          "2022-07-12T00:00:00",
          "2022-07-13T00:00:00",
          "2022-07-14T00:00:00",
          "2022-07-19T00:00:00",
          "2022-07-20T00:00:00",
          "2022-07-21T00:00:00",
          "2022-07-22T00:00:00",
          "2022-07-25T00:00:00",
          "2022-07-26T00:00:00",
          "2022-07-27T00:00:00",
          "2022-07-28T00:00:00",
          "2022-07-29T00:00:00",
          "2022-07-30T00:00:00",
          "2022-07-31T00:00:00",
          "2022-08-01T00:00:00",
          "2022-08-02T00:00:00",
          "2022-08-03T00:00:00",
          "2022-08-04T00:00:00",
          "2022-08-05T00:00:00",
          "2022-08-06T00:00:00",
          "2022-08-07T00:00:00",
          "2022-08-08T00:00:00",
          "2022-08-09T00:00:00",
          "2022-08-10T00:00:00",
          "2022-08-12T00:00:00",
          "2022-08-13T00:00:00",
          "2022-08-14T00:00:00",
          "2022-08-15T00:00:00",
          "2022-08-16T00:00:00",
          "2022-08-17T00:00:00",
          "2022-08-18T00:00:00",
          "2022-08-19T00:00:00",
          "2022-08-20T00:00:00",
          "2022-08-21T00:00:00",
          "2022-08-22T00:00:00",
          "2022-08-23T00:00:00",
          "2022-08-24T00:00:00",
          "2022-08-25T00:00:00",
          "2022-08-26T00:00:00",
          "2022-08-29T00:00:00",
          "2022-08-30T00:00:00",
          "2022-08-31T00:00:00",
          "2022-09-01T00:00:00",
          "2022-09-02T00:00:00",
          "2022-09-03T00:00:00",
          "2022-09-04T00:00:00",
          "2022-09-05T00:00:00",
          "2022-09-06T00:00:00",
          "2022-09-07T00:00:00",
          "2022-09-08T00:00:00",
          "2022-09-09T00:00:00",
          "2022-09-10T00:00:00",
          "2022-09-11T00:00:00",
          "2022-09-12T00:00:00",
          "2022-09-13T00:00:00",
          "2022-09-14T00:00:00",
          "2022-09-15T00:00:00",
          "2022-09-16T00:00:00",
          "2022-09-17T00:00:00",
          "2022-09-18T00:00:00",
          "2022-09-19T00:00:00",
          "2022-09-20T00:00:00",
          "2022-09-21T00:00:00",
          "2022-09-22T00:00:00",
          "2022-09-23T00:00:00",
          "2022-09-24T00:00:00",
          "2022-09-25T00:00:00",
          "2022-09-26T00:00:00",
          "2022-09-27T00:00:00",
          "2022-09-28T00:00:00",
          "2022-09-29T00:00:00",
          "2022-09-30T00:00:00",
          "2022-10-01T00:00:00",
          "2022-10-02T00:00:00",
          "2022-10-03T00:00:00",
          "2022-10-04T00:00:00",
          "2022-10-05T00:00:00",
          "2022-10-06T00:00:00",
          "2022-10-07T00:00:00",
          "2022-10-08T00:00:00",
          "2022-10-09T00:00:00",
          "2022-10-10T00:00:00",
          "2022-10-11T00:00:00",
          "2022-10-12T00:00:00",
          "2022-10-13T00:00:00",
          "2022-10-14T00:00:00",
          "2022-10-15T00:00:00",
          "2022-10-16T00:00:00",
          "2022-10-17T00:00:00",
          "2022-10-18T00:00:00",
          "2022-10-19T00:00:00",
          "2022-10-20T00:00:00",
          "2022-10-21T00:00:00",
          "2022-10-22T00:00:00",
          "2022-10-23T00:00:00",
          "2022-10-24T00:00:00",
          "2022-10-25T00:00:00",
          "2022-10-26T00:00:00",
          "2022-10-27T00:00:00",
          "2022-10-28T00:00:00",
          "2022-10-29T00:00:00",
          "2022-10-30T00:00:00",
          "2022-10-31T00:00:00",
          "2022-11-01T00:00:00",
          "2022-11-02T00:00:00",
          "2022-11-03T00:00:00",
          "2022-11-04T00:00:00",
          "2022-11-05T00:00:00",
          "2022-11-06T00:00:00",
          "2022-11-07T00:00:00",
          "2022-11-08T00:00:00",
          "2022-11-09T00:00:00",
          "2022-11-10T00:00:00",
          "2022-11-11T00:00:00",
          "2022-11-12T00:00:00",
          "2022-11-13T00:00:00",
          "2022-11-14T00:00:00",
          "2022-11-15T00:00:00",
          "2022-11-16T00:00:00",
          "2022-11-17T00:00:00",
          "2022-11-18T00:00:00",
          "2022-11-19T00:00:00",
          "2022-11-20T00:00:00",
          "2022-11-21T00:00:00",
          "2022-11-22T00:00:00",
          "2022-11-23T00:00:00",
          "2022-11-24T00:00:00",
          "2022-11-25T00:00:00",
          "2022-11-26T00:00:00",
          "2022-11-27T00:00:00",
          "2022-11-28T00:00:00"
         ],
         "y": [
          27.860150100749237,
          56.0550940424031,
          11.578298996918706,
          18.415794497211184,
          31.14642513666132,
          74.61569869404221,
          18.53767812623356,
          24.265874972913494,
          43.40416324971268,
          38.460100977048825,
          80.86083735030671,
          73.48983188539921,
          34.61986561661107,
          50.652842590004795,
          72.91797627671995,
          72.49585015783876,
          126.5089739019337,
          118.32920000254069,
          89.95084942023925,
          97.35766183346382,
          134.96243630018662,
          170.76970344775214,
          190.47212933038412,
          251.26442374160217,
          261.3504927367716,
          251.5546587722713,
          299.36708842750636,
          345.0268812057137,
          371.92133977357173,
          509.05672065235535,
          584.5514896356556,
          635.966851305331,
          733.9145084243769,
          829.2970048384732,
          920.4399885365982,
          1008.7004006503431,
          1110.4439861091425,
          1261.5618889783711,
          1359.3168067002732,
          1420.635188712924,
          1516.230723262922,
          1644.5793498387918,
          1768.8968877570987,
          1875.792436792622,
          2026.8373403616074,
          2122.9157818061362,
          2186.1271154338037,
          2280.172817101677,
          2406.9016892561585,
          2534.5133087777535,
          2790.006058427123,
          2895.7967194095086,
          2971.791198367394,
          3074.160022228995,
          3212.91782711519,
          3348.73007317242,
          3466.6262027185912,
          3627.516973791519,
          3735.403518684802,
          3807.7485395222757,
          3911.8922485258076,
          4048.940171277276,
          4189.670250043503,
          4308.028359566373,
          4466.500184300176,
          4751.430491684949,
          4889.15390238567,
          5025.887382338646,
          5143.789169684218,
          5304.378899562388,
          5412.540945328523,
          5493.964775843435,
          5605.486151298593,
          5746.76529977294,
          5895.443256458521,
          6028.202380823036,
          6196.6472453975975,
          6318.451223689769,
          6406.17917280352,
          6520.786517602572,
          6677.91788164038,
          6828.200688490343,
          6955.597336054635,
          7143.96660661892,
          7256.267003754253,
          7346.122062845058,
          7473.617318044307,
          7631.619285271175,
          7795.437005146249,
          7930.233187699072,
          8112.315355753833,
          8228.789691695132,
          8343.404609950341,
          8449.570239327792,
          8633.417700650318,
          8783.149027787691,
          8925.827234774068,
          9099.561396224964,
          9234.102125226267,
          9318.688267848249,
          9467.231459785224,
          9622.062620313956,
          9770.08851452797,
          9913.324558032573,
          10110.832232907871,
          10230.721669038909,
          10340.254547367604,
          10464.753584283328,
          10647.483391663267,
          10799.773949283903,
          10944.438023518156,
          11139.171400836341,
          11264.245122505197,
          11363.143068321111,
          11497.068053234123,
          11662.546008906344,
          11818.111620606252,
          11965.99756284369,
          12156.929704952085,
          12301.019362860534,
          12400.551062362807,
          12524.945618021373,
          12696.208486070334,
          12878.109250215592,
          12996.7091347808,
          13204.107777375688,
          13349.967136062503,
          13449.897719605244,
          13576.240648674528,
          13749.086052202581,
          13909.611050101337,
          14073.04484887879,
          14270.098727668594,
          14402.791801275282,
          14531.537883996045,
          14658.870706288079,
          14846.540011754512,
          15022.35058945425,
          15148.583769507626,
          15355.451254526257,
          15509.352618119301,
          15596.543889378809,
          15764.154605979193,
          15944.399691017215,
          16114.66229339395,
          16241.416240304347,
          16451.648608826777,
          16590.084684630223,
          16724.712635427277,
          16850.83878270589,
          17049.911360124708,
          17207.071723278,
          17363.798494307495,
          17581.28683908659,
          17737.894574198574,
          17839.519481315372,
          17991.96082097712
         ]
        }
       ],
       "layout": {
        "height": 600,
        "showlegend": false,
        "template": {
         "data": {
          "bar": [
           {
            "error_x": {
             "color": "#2a3f5f"
            },
            "error_y": {
             "color": "#2a3f5f"
            },
            "marker": {
             "line": {
              "color": "#E5ECF6",
              "width": 0.5
             },
             "pattern": {
              "fillmode": "overlay",
              "size": 10,
              "solidity": 0.2
             }
            },
            "type": "bar"
           }
          ],
          "barpolar": [
           {
            "marker": {
             "line": {
              "color": "#E5ECF6",
              "width": 0.5
             },
             "pattern": {
              "fillmode": "overlay",
              "size": 10,
              "solidity": 0.2
             }
            },
            "type": "barpolar"
           }
          ],
          "carpet": [
           {
            "aaxis": {
             "endlinecolor": "#2a3f5f",
             "gridcolor": "white",
             "linecolor": "white",
             "minorgridcolor": "white",
             "startlinecolor": "#2a3f5f"
            },
            "baxis": {
             "endlinecolor": "#2a3f5f",
             "gridcolor": "white",
             "linecolor": "white",
             "minorgridcolor": "white",
             "startlinecolor": "#2a3f5f"
            },
            "type": "carpet"
           }
          ],
          "choropleth": [
           {
            "colorbar": {
             "outlinewidth": 0,
             "ticks": ""
            },
            "type": "choropleth"
           }
          ],
          "contour": [
           {
            "colorbar": {
             "outlinewidth": 0,
             "ticks": ""
            },
            "colorscale": [
             [
              0,
              "#0d0887"
             ],
             [
              0.1111111111111111,
              "#46039f"
             ],
             [
              0.2222222222222222,
              "#7201a8"
             ],
             [
              0.3333333333333333,
              "#9c179e"
             ],
             [
              0.4444444444444444,
              "#bd3786"
             ],
             [
              0.5555555555555556,
              "#d8576b"
             ],
             [
              0.6666666666666666,
              "#ed7953"
             ],
             [
              0.7777777777777778,
              "#fb9f3a"
             ],
             [
              0.8888888888888888,
              "#fdca26"
             ],
             [
              1,
              "#f0f921"
             ]
            ],
            "type": "contour"
           }
          ],
          "contourcarpet": [
           {
            "colorbar": {
             "outlinewidth": 0,
             "ticks": ""
            },
            "type": "contourcarpet"
           }
          ],
          "heatmap": [
           {
            "colorbar": {
             "outlinewidth": 0,
             "ticks": ""
            },
            "colorscale": [
             [
              0,
              "#0d0887"
             ],
             [
              0.1111111111111111,
              "#46039f"
             ],
             [
              0.2222222222222222,
              "#7201a8"
             ],
             [
              0.3333333333333333,
              "#9c179e"
             ],
             [
              0.4444444444444444,
              "#bd3786"
             ],
             [
              0.5555555555555556,
              "#d8576b"
             ],
             [
              0.6666666666666666,
              "#ed7953"
             ],
             [
              0.7777777777777778,
              "#fb9f3a"
             ],
             [
              0.8888888888888888,
              "#fdca26"
             ],
             [
              1,
              "#f0f921"
             ]
            ],
            "type": "heatmap"
           }
          ],
          "heatmapgl": [
           {
            "colorbar": {
             "outlinewidth": 0,
             "ticks": ""
            },
            "colorscale": [
             [
              0,
              "#0d0887"
             ],
             [
              0.1111111111111111,
              "#46039f"
             ],
             [
              0.2222222222222222,
              "#7201a8"
             ],
             [
              0.3333333333333333,
              "#9c179e"
             ],
             [
              0.4444444444444444,
              "#bd3786"
             ],
             [
              0.5555555555555556,
              "#d8576b"
             ],
             [
              0.6666666666666666,
              "#ed7953"
             ],
             [
              0.7777777777777778,
              "#fb9f3a"
             ],
             [
              0.8888888888888888,
              "#fdca26"
             ],
             [
              1,
              "#f0f921"
             ]
            ],
            "type": "heatmapgl"
           }
          ],
          "histogram": [
           {
            "marker": {
             "pattern": {
              "fillmode": "overlay",
              "size": 10,
              "solidity": 0.2
             }
            },
            "type": "histogram"
           }
          ],
          "histogram2d": [
           {
            "colorbar": {
             "outlinewidth": 0,
             "ticks": ""
            },
            "colorscale": [
             [
              0,
              "#0d0887"
             ],
             [
              0.1111111111111111,
              "#46039f"
             ],
             [
              0.2222222222222222,
              "#7201a8"
             ],
             [
              0.3333333333333333,
              "#9c179e"
             ],
             [
              0.4444444444444444,
              "#bd3786"
             ],
             [
              0.5555555555555556,
              "#d8576b"
             ],
             [
              0.6666666666666666,
              "#ed7953"
             ],
             [
              0.7777777777777778,
              "#fb9f3a"
             ],
             [
              0.8888888888888888,
              "#fdca26"
             ],
             [
              1,
              "#f0f921"
             ]
            ],
            "type": "histogram2d"
           }
          ],
          "histogram2dcontour": [
           {
            "colorbar": {
             "outlinewidth": 0,
             "ticks": ""
            },
            "colorscale": [
             [
              0,
              "#0d0887"
             ],
             [
              0.1111111111111111,
              "#46039f"
             ],
             [
              0.2222222222222222,
              "#7201a8"
             ],
             [
              0.3333333333333333,
              "#9c179e"
             ],
             [
              0.4444444444444444,
              "#bd3786"
             ],
             [
              0.5555555555555556,
              "#d8576b"
             ],
             [
              0.6666666666666666,
              "#ed7953"
             ],
             [
              0.7777777777777778,
              "#fb9f3a"
             ],
             [
              0.8888888888888888,
              "#fdca26"
             ],
             [
              1,
              "#f0f921"
             ]
            ],
            "type": "histogram2dcontour"
           }
          ],
          "mesh3d": [
           {
            "colorbar": {
             "outlinewidth": 0,
             "ticks": ""
            },
            "type": "mesh3d"
           }
          ],
          "parcoords": [
           {
            "line": {
             "colorbar": {
              "outlinewidth": 0,
              "ticks": ""
             }
            },
            "type": "parcoords"
           }
          ],
          "pie": [
           {
            "automargin": true,
            "type": "pie"
           }
          ],
          "scatter": [
           {
            "marker": {
             "colorbar": {
              "outlinewidth": 0,
              "ticks": ""
             }
            },
            "type": "scatter"
           }
          ],
          "scatter3d": [
           {
            "line": {
             "colorbar": {
              "outlinewidth": 0,
              "ticks": ""
             }
            },
            "marker": {
             "colorbar": {
              "outlinewidth": 0,
              "ticks": ""
             }
            },
            "type": "scatter3d"
           }
          ],
          "scattercarpet": [
           {
            "marker": {
             "colorbar": {
              "outlinewidth": 0,
              "ticks": ""
             }
            },
            "type": "scattercarpet"
           }
          ],
          "scattergeo": [
           {
            "marker": {
             "colorbar": {
              "outlinewidth": 0,
              "ticks": ""
             }
            },
            "type": "scattergeo"
           }
          ],
          "scattergl": [
           {
            "marker": {
             "colorbar": {
              "outlinewidth": 0,
              "ticks": ""
             }
            },
            "type": "scattergl"
           }
          ],
          "scattermapbox": [
           {
            "marker": {
             "colorbar": {
              "outlinewidth": 0,
              "ticks": ""
             }
            },
            "type": "scattermapbox"
           }
          ],
          "scatterpolar": [
           {
            "marker": {
             "colorbar": {
              "outlinewidth": 0,
              "ticks": ""
             }
            },
            "type": "scatterpolar"
           }
          ],
          "scatterpolargl": [
           {
            "marker": {
             "colorbar": {
              "outlinewidth": 0,
              "ticks": ""
             }
            },
            "type": "scatterpolargl"
           }
          ],
          "scatterternary": [
           {
            "marker": {
             "colorbar": {
              "outlinewidth": 0,
              "ticks": ""
             }
            },
            "type": "scatterternary"
           }
          ],
          "surface": [
           {
            "colorbar": {
             "outlinewidth": 0,
             "ticks": ""
            },
            "colorscale": [
             [
              0,
              "#0d0887"
             ],
             [
              0.1111111111111111,
              "#46039f"
             ],
             [
              0.2222222222222222,
              "#7201a8"
             ],
             [
              0.3333333333333333,
              "#9c179e"
             ],
             [
              0.4444444444444444,
              "#bd3786"
             ],
             [
              0.5555555555555556,
              "#d8576b"
             ],
             [
              0.6666666666666666,
              "#ed7953"
             ],
             [
              0.7777777777777778,
              "#fb9f3a"
             ],
             [
              0.8888888888888888,
              "#fdca26"
             ],
             [
              1,
              "#f0f921"
             ]
            ],
            "type": "surface"
           }
          ],
          "table": [
           {
            "cells": {
             "fill": {
              "color": "#EBF0F8"
             },
             "line": {
              "color": "white"
             }
            },
            "header": {
             "fill": {
              "color": "#C8D4E3"
             },
             "line": {
              "color": "white"
             }
            },
            "type": "table"
           }
          ]
         },
         "layout": {
          "annotationdefaults": {
           "arrowcolor": "#2a3f5f",
           "arrowhead": 0,
           "arrowwidth": 1
          },
          "autotypenumbers": "strict",
          "coloraxis": {
           "colorbar": {
            "outlinewidth": 0,
            "ticks": ""
           }
          },
          "colorscale": {
           "diverging": [
            [
             0,
             "#8e0152"
            ],
            [
             0.1,
             "#c51b7d"
            ],
            [
             0.2,
             "#de77ae"
            ],
            [
             0.3,
             "#f1b6da"
            ],
            [
             0.4,
             "#fde0ef"
            ],
            [
             0.5,
             "#f7f7f7"
            ],
            [
             0.6,
             "#e6f5d0"
            ],
            [
             0.7,
             "#b8e186"
            ],
            [
             0.8,
             "#7fbc41"
            ],
            [
             0.9,
             "#4d9221"
            ],
            [
             1,
             "#276419"
            ]
           ],
           "sequential": [
            [
             0,
             "#0d0887"
            ],
            [
             0.1111111111111111,
             "#46039f"
            ],
            [
             0.2222222222222222,
             "#7201a8"
            ],
            [
             0.3333333333333333,
             "#9c179e"
            ],
            [
             0.4444444444444444,
             "#bd3786"
            ],
            [
             0.5555555555555556,
             "#d8576b"
            ],
            [
             0.6666666666666666,
             "#ed7953"
            ],
            [
             0.7777777777777778,
             "#fb9f3a"
            ],
            [
             0.8888888888888888,
             "#fdca26"
            ],
            [
             1,
             "#f0f921"
            ]
           ],
           "sequentialminus": [
            [
             0,
             "#0d0887"
            ],
            [
             0.1111111111111111,
             "#46039f"
            ],
            [
             0.2222222222222222,
             "#7201a8"
            ],
            [
             0.3333333333333333,
             "#9c179e"
            ],
            [
             0.4444444444444444,
             "#bd3786"
            ],
            [
             0.5555555555555556,
             "#d8576b"
            ],
            [
             0.6666666666666666,
             "#ed7953"
            ],
            [
             0.7777777777777778,
             "#fb9f3a"
            ],
            [
             0.8888888888888888,
             "#fdca26"
            ],
            [
             1,
             "#f0f921"
            ]
           ]
          },
          "colorway": [
           "#636efa",
           "#EF553B",
           "#00cc96",
           "#ab63fa",
           "#FFA15A",
           "#19d3f3",
           "#FF6692",
           "#B6E880",
           "#FF97FF",
           "#FECB52"
          ],
          "font": {
           "color": "#2a3f5f"
          },
          "geo": {
           "bgcolor": "white",
           "lakecolor": "white",
           "landcolor": "#E5ECF6",
           "showlakes": true,
           "showland": true,
           "subunitcolor": "white"
          },
          "hoverlabel": {
           "align": "left"
          },
          "hovermode": "closest",
          "mapbox": {
           "style": "light"
          },
          "paper_bgcolor": "white",
          "plot_bgcolor": "#E5ECF6",
          "polar": {
           "angularaxis": {
            "gridcolor": "white",
            "linecolor": "white",
            "ticks": ""
           },
           "bgcolor": "#E5ECF6",
           "radialaxis": {
            "gridcolor": "white",
            "linecolor": "white",
            "ticks": ""
           }
          },
          "scene": {
           "xaxis": {
            "backgroundcolor": "#E5ECF6",
            "gridcolor": "white",
            "gridwidth": 2,
            "linecolor": "white",
            "showbackground": true,
            "ticks": "",
            "zerolinecolor": "white"
           },
           "yaxis": {
            "backgroundcolor": "#E5ECF6",
            "gridcolor": "white",
            "gridwidth": 2,
            "linecolor": "white",
            "showbackground": true,
            "ticks": "",
            "zerolinecolor": "white"
           },
           "zaxis": {
            "backgroundcolor": "#E5ECF6",
            "gridcolor": "white",
            "gridwidth": 2,
            "linecolor": "white",
            "showbackground": true,
            "ticks": "",
            "zerolinecolor": "white"
           }
          },
          "shapedefaults": {
           "line": {
            "color": "#2a3f5f"
           }
          },
          "ternary": {
           "aaxis": {
            "gridcolor": "white",
            "linecolor": "white",
            "ticks": ""
           },
           "baxis": {
            "gridcolor": "white",
            "linecolor": "white",
            "ticks": ""
           },
           "bgcolor": "#E5ECF6",
           "caxis": {
            "gridcolor": "white",
            "linecolor": "white",
            "ticks": ""
           }
          },
          "title": {
           "x": 0.05
          },
          "xaxis": {
           "automargin": true,
           "gridcolor": "white",
           "linecolor": "white",
           "ticks": "",
           "title": {
            "standoff": 15
           },
           "zerolinecolor": "white",
           "zerolinewidth": 2
          },
          "yaxis": {
           "automargin": true,
           "gridcolor": "white",
           "linecolor": "white",
           "ticks": "",
           "title": {
            "standoff": 15
           },
           "zerolinecolor": "white",
           "zerolinewidth": 2
          }
         }
        },
        "width": 900,
        "xaxis": {
         "autorange": true,
         "range": [
          "2022-05-29 02:44:34.2857",
          "2022-11-28"
         ],
         "rangeselector": {
          "buttons": [
           {
            "count": 7,
            "label": "1w",
            "step": "day",
            "stepmode": "backward"
           },
           {
            "count": 1,
            "label": "1m",
            "step": "month",
            "stepmode": "backward"
           },
           {
            "count": 6,
            "label": "6m",
            "step": "month",
            "stepmode": "backward"
           },
           {
            "count": 1,
            "label": "1y",
            "step": "year",
            "stepmode": "backward"
           },
           {
            "step": "all"
           }
          ]
         },
         "rangeslider": {
          "autorange": true,
          "range": [
           "2022-05-29 02:44:34.2857",
           "2022-11-28"
          ],
          "visible": true,
          "yaxis": {
           "_template": null,
           "rangemode": "match"
          }
         },
         "title": {
          "text": "ds"
         },
         "type": "date"
        },
        "yaxis": {
         "autorange": true,
         "range": [
          -1194.6802473996504,
          19001.784035102213
         ],
         "title": {
          "text": "y"
         },
         "type": "linear"
        }
       }
      },
      "image/png": "[encoded data removed]",
      "text/html": [
       "<div>                            <div id=\"808e2ef5-e823-4885-94fa-faf648abede3\" class=\"plotly-graph-div\" style=\"height:600px; width:900px;\"></div>            <script type=\"text/javascript\">                require([\"plotly\"], function(Plotly) {                    window.PLOTLYENV=window.PLOTLYENV || {};                                    if (document.getElementById(\"808e2ef5-e823-4885-94fa-faf648abede3\")) {                    Plotly.newPlot(                        \"808e2ef5-e823-4885-94fa-faf648abede3\",                        [{\"marker\":{\"color\":\"black\",\"size\":4},\"mode\":\"markers\",\"name\":\"Actual\",\"type\":\"scatter\",\"x\":[\"2022-06-08T00:00:00\",\"2022-06-11T00:00:00\",\"2022-06-12T00:00:00\",\"2022-06-14T00:00:00\",\"2022-06-16T00:00:00\",\"2022-06-17T00:00:00\",\"2022-06-19T00:00:00\",\"2022-06-21T00:00:00\",\"2022-06-22T00:00:00\",\"2022-06-23T00:00:00\",\"2022-06-24T00:00:00\",\"2022-06-25T00:00:00\",\"2022-06-26T00:00:00\",\"2022-06-28T00:00:00\",\"2022-06-29T00:00:00\",\"2022-06-30T00:00:00\",\"2022-07-01T00:00:00\",\"2022-07-02T00:00:00\",\"2022-07-03T00:00:00\",\"2022-07-04T00:00:00\",\"2022-07-05T00:00:00\",\"2022-07-06T00:00:00\",\"2022-07-07T00:00:00\",\"2022-07-08T00:00:00\",\"2022-07-09T00:00:00\",\"2022-07-11T00:00:00\",\"2022-07-12T00:00:00\",\"2022-07-13T00:00:00\",\"2022-07-14T00:00:00\",\"2022-07-19T00:00:00\",\"2022-07-20T00:00:00\",\"2022-07-21T00:00:00\",\"2022-07-22T00:00:00\",\"2022-07-25T00:00:00\",\"2022-07-26T00:00:00\",\"2022-07-27T00:00:00\",\"2022-07-28T00:00:00\",\"2022-07-29T00:00:00\",\"2022-07-30T00:00:00\",\"2022-07-31T00:00:00\",\"2022-08-01T00:00:00\",\"2022-08-02T00:00:00\",\"2022-08-03T00:00:00\",\"2022-08-04T00:00:00\",\"2022-08-05T00:00:00\",\"2022-08-06T00:00:00\",\"2022-08-07T00:00:00\",\"2022-08-08T00:00:00\",\"2022-08-09T00:00:00\",\"2022-08-10T00:00:00\",\"2022-08-12T00:00:00\",\"2022-08-13T00:00:00\",\"2022-08-14T00:00:00\",\"2022-08-15T00:00:00\",\"2022-08-16T00:00:00\",\"2022-08-17T00:00:00\",\"2022-08-18T00:00:00\",\"2022-08-19T00:00:00\",\"2022-08-20T00:00:00\",\"2022-08-21T00:00:00\",\"2022-08-22T00:00:00\",\"2022-08-23T00:00:00\",\"2022-08-24T00:00:00\",\"2022-08-25T00:00:00\",\"2022-08-26T00:00:00\",\"2022-08-29T00:00:00\",\"2022-08-30T00:00:00\"],\"y\":[1,2,3,5,6,7,8,9,11,16,17,19,20,21,37,49,64,76,78,80,106,142,172,204,218,228,266,308,347,448,591,604,694,809,865,977,1066,1259,1343,1370,1475,1603,1721,1860,2004,2108,2131,2293,2415,2458,2746,2848,2893,2985,3183,3359,3450,3655,3755,3787,3896,3984,4144,4216,4472,4692,4876]},{\"hoverinfo\":\"skip\",\"line\":{\"width\":0},\"mode\":\"lines\",\"type\":\"scatter\",\"x\":[\"2022-06-08T00:00:00\",\"2022-06-11T00:00:00\",\"2022-06-12T00:00:00\",\"2022-06-14T00:00:00\",\"2022-06-16T00:00:00\",\"2022-06-17T00:00:00\",\"2022-06-19T00:00:00\",\"2022-06-21T00:00:00\",\"2022-06-22T00:00:00\",\"2022-06-23T00:00:00\",\"2022-06-24T00:00:00\",\"2022-06-25T00:00:00\",\"2022-06-26T00:00:00\",\"2022-06-28T00:00:00\",\"2022-06-29T00:00:00\",\"2022-06-30T00:00:00\",\"2022-07-01T00:00:00\",\"2022-07-02T00:00:00\",\"2022-07-03T00:00:00\",\"2022-07-04T00:00:00\",\"2022-07-05T00:00:00\",\"2022-07-06T00:00:00\",\"2022-07-07T00:00:00\",\"2022-07-08T00:00:00\",\"2022-07-09T00:00:00\",\"2022-07-11T00:00:00\",\"2022-07-12T00:00:00\",\"2022-07-13T00:00:00\",\"2022-07-14T00:00:00\",\"2022-07-19T00:00:00\",\"2022-07-20T00:00:00\",\"2022-07-21T00:00:00\",\"2022-07-22T00:00:00\",\"2022-07-25T00:00:00\",\"2022-07-26T00:00:00\",\"2022-07-27T00:00:00\",\"2022-07-28T00:00:00\",\"2022-07-29T00:00:00\",\"2022-07-30T00:00:00\",\"2022-07-31T00:00:00\",\"2022-08-01T00:00:00\",\"2022-08-02T00:00:00\",\"2022-08-03T00:00:00\",\"2022-08-04T00:00:00\",\"2022-08-05T00:00:00\",\"2022-08-06T00:00:00\",\"2022-08-07T00:00:00\",\"2022-08-08T00:00:00\",\"2022-08-09T00:00:00\",\"2022-08-10T00:00:00\",\"2022-08-12T00:00:00\",\"2022-08-13T00:00:00\",\"2022-08-14T00:00:00\",\"2022-08-15T00:00:00\",\"2022-08-16T00:00:00\",\"2022-08-17T00:00:00\",\"2022-08-18T00:00:00\",\"2022-08-19T00:00:00\",\"2022-08-20T00:00:00\",\"2022-08-21T00:00:00\",\"2022-08-22T00:00:00\",\"2022-08-23T00:00:00\",\"2022-08-24T00:00:00\",\"2022-08-25T00:00:00\",\"2022-08-26T00:00:00\",\"2022-08-29T00:00:00\",\"2022-08-30T00:00:00\",\"2022-08-31T00:00:00\",\"2022-09-01T00:00:00\",\"2022-09-02T00:00:00\",\"2022-09-03T00:00:00\",\"2022-09-04T00:00:00\",\"2022-09-05T00:00:00\",\"2022-09-06T00:00:00\",\"2022-09-07T00:00:00\",\"2022-09-08T00:00:00\",\"2022-09-09T00:00:00\",\"2022-09-10T00:00:00\",\"2022-09-11T00:00:00\",\"2022-09-12T00:00:00\",\"2022-09-13T00:00:00\",\"2022-09-14T00:00:00\",\"2022-09-15T00:00:00\",\"2022-09-16T00:00:00\",\"2022-09-17T00:00:00\",\"2022-09-18T00:00:00\",\"2022-09-19T00:00:00\",\"2022-09-20T00:00:00\",\"2022-09-21T00:00:00\",\"2022-09-22T00:00:00\",\"2022-09-23T00:00:00\",\"2022-09-24T00:00:00\",\"2022-09-25T00:00:00\",\"2022-09-26T00:00:00\",\"2022-09-27T00:00:00\",\"2022-09-28T00:00:00\",\"2022-09-29T00:00:00\",\"2022-09-30T00:00:00\",\"2022-10-01T00:00:00\",\"2022-10-02T00:00:00\",\"2022-10-03T00:00:00\",\"2022-10-04T00:00:00\",\"2022-10-05T00:00:00\",\"2022-10-06T00:00:00\",\"2022-10-07T00:00:00\",\"2022-10-08T00:00:00\",\"2022-10-09T00:00:00\",\"2022-10-10T00:00:00\",\"2022-10-11T00:00:00\",\"2022-10-12T00:00:00\",\"2022-10-13T00:00:00\",\"2022-10-14T00:00:00\",\"2022-10-15T00:00:00\",\"2022-10-16T00:00:00\",\"2022-10-17T00:00:00\",\"2022-10-18T00:00:00\",\"2022-10-19T00:00:00\",\"2022-10-20T00:00:00\",\"2022-10-21T00:00:00\",\"2022-10-22T00:00:00\",\"2022-10-23T00:00:00\",\"2022-10-24T00:00:00\",\"2022-10-25T00:00:00\",\"2022-10-26T00:00:00\",\"2022-10-27T00:00:00\",\"2022-10-28T00:00:00\",\"2022-10-29T00:00:00\",\"2022-10-30T00:00:00\",\"2022-10-31T00:00:00\",\"2022-11-01T00:00:00\",\"2022-11-02T00:00:00\",\"2022-11-03T00:00:00\",\"2022-11-04T00:00:00\",\"2022-11-05T00:00:00\",\"2022-11-06T00:00:00\",\"2022-11-07T00:00:00\",\"2022-11-08T00:00:00\",\"2022-11-09T00:00:00\",\"2022-11-10T00:00:00\",\"2022-11-11T00:00:00\",\"2022-11-12T00:00:00\",\"2022-11-13T00:00:00\",\"2022-11-14T00:00:00\",\"2022-11-15T00:00:00\",\"2022-11-16T00:00:00\",\"2022-11-17T00:00:00\",\"2022-11-18T00:00:00\",\"2022-11-19T00:00:00\",\"2022-11-20T00:00:00\",\"2022-11-21T00:00:00\",\"2022-11-22T00:00:00\",\"2022-11-23T00:00:00\",\"2022-11-24T00:00:00\",\"2022-11-25T00:00:00\",\"2022-11-26T00:00:00\",\"2022-11-27T00:00:00\",\"2022-11-28T00:00:00\"],\"y\":[-33.616679877993384,-9.747088068964286,-52.03685524124277,-46.82972853477185,-32.48238760617147,10.469572949502233,-47.97904309807905,-38.89997930538899,-21.710657921078745,-25.544157650702342,18.47892964676954,9.184666889158756,-27.947498267758228,-12.705187316195074,11.477507438744887,9.064957887477044,60.387356403907724,54.47211691160245,27.273646308977366,30.889143730081713,69.38199275553414,107.95424183449367,123.23115114697092,188.14310496341363,198.09728997750153,189.25757545811896,236.46439223633902,281.2611688467768,306.6734188295813,445.94246533195883,520.7250201527097,570.8165325621657,670.4962833695904,767.5668206082739,854.9383086653442,945.194392925893,1048.9285852729129,1200.6628170089764,1295.0170246792143,1359.218938311744,1451.2869907470604,1582.6251313528883,1707.7496674884403,1811.3119269118863,1963.855205051603,2057.847480544363,2122.257854545871,2216.183332940224,2343.9138880649953,2470.1551293208595,2729.1054883418565,2834.9770467990124,2909.75153134531,3012.2548069094905,3150.2065663663566,3287.96360025565,3402.9235225183174,3565.9596113935186,3671.10202988342,3744.9282412111584,3849.4940067103926,3985.718983791057,4126.492885799365,4240.441474263371,4404.22459079352,4684.3826489331295,4825.026107173159,4962.608386384415,5079.091052039049,5236.633521354212,5342.90828671929,5408.919767707291,5512.475564787055,5642.140780339432,5773.18853906265,5878.74350324235,6022.559579428793,6123.8310836101,6177.467536250798,6267.3279279378285,6393.0878327978,6511.116115063941,6611.19210256241,6753.172793539298,6846.34150548143,6905.9506152995245,6987.453795859359,7106.9025830718,7233.119457805255,7336.302703274394,7474.454502118379,7556.052561967325,7614.488853968603,7692.0639753811065,7814.489833738727,7928.063244720476,8024.772679122058,8174.272325126973,8247.342814388167,8299.270046883463,8383.955936633867,8517.445588763709,8618.571830570374,8719.740173445834,8861.61232295045,8950.293343395173,9010.031778183973,9085.491167806345,9205.676364034283,9309.462391553217,9394.897512698566,9526.09596889458,9604.983339205857,9669.427823327542,9735.478242918223,9838.482156290193,9957.740934902658,10038.85349584909,10167.849399795006,10225.279741181956,10278.280320881404,10351.90630586517,10479.784395693086,10591.509349655858,10671.3007452155,10804.33775047517,10896.664487416127,10912.527966151087,10986.709119742367,11089.073880791168,11196.977540085909,11286.439026839069,11414.561763095418,11476.787532459472,11530.961213413912,11596.962902341871,11699.035484199698,11815.26393314176,11893.08274854114,12034.77822721529,12087.463658163435,12152.428318552247,12206.282243311925,12313.646368572949,12432.401765494027,12517.278347004767,12634.433521748608,12718.497006537014,12757.414610387397,12811.904500974077,12890.951966590255,13018.70732306157,13096.147462716386,13195.051960931796,13291.645462989256,13313.111932843065,13375.549318551302]},{\"fill\":\"tonexty\",\"fillcolor\":\"rgba(0, 114, 178, 0.2)\",\"line\":{\"color\":\"#0072B2\",\"width\":2},\"mode\":\"lines\",\"name\":\"Predicted\",\"type\":\"scatter\",\"x\":[\"2022-06-08T00:00:00\",\"2022-06-11T00:00:00\",\"2022-06-12T00:00:00\",\"2022-06-14T00:00:00\",\"2022-06-16T00:00:00\",\"2022-06-17T00:00:00\",\"2022-06-19T00:00:00\",\"2022-06-21T00:00:00\",\"2022-06-22T00:00:00\",\"2022-06-23T00:00:00\",\"2022-06-24T00:00:00\",\"2022-06-25T00:00:00\",\"2022-06-26T00:00:00\",\"2022-06-28T00:00:00\",\"2022-06-29T00:00:00\",\"2022-06-30T00:00:00\",\"2022-07-01T00:00:00\",\"2022-07-02T00:00:00\",\"2022-07-03T00:00:00\",\"2022-07-04T00:00:00\",\"2022-07-05T00:00:00\",\"2022-07-06T00:00:00\",\"2022-07-07T00:00:00\",\"2022-07-08T00:00:00\",\"2022-07-09T00:00:00\",\"2022-07-11T00:00:00\",\"2022-07-12T00:00:00\",\"2022-07-13T00:00:00\",\"2022-07-14T00:00:00\",\"2022-07-19T00:00:00\",\"2022-07-20T00:00:00\",\"2022-07-21T00:00:00\",\"2022-07-22T00:00:00\",\"2022-07-25T00:00:00\",\"2022-07-26T00:00:00\",\"2022-07-27T00:00:00\",\"2022-07-28T00:00:00\",\"2022-07-29T00:00:00\",\"2022-07-30T00:00:00\",\"2022-07-31T00:00:00\",\"2022-08-01T00:00:00\",\"2022-08-02T00:00:00\",\"2022-08-03T00:00:00\",\"2022-08-04T00:00:00\",\"2022-08-05T00:00:00\",\"2022-08-06T00:00:00\",\"2022-08-07T00:00:00\",\"2022-08-08T00:00:00\",\"2022-08-09T00:00:00\",\"2022-08-10T00:00:00\",\"2022-08-12T00:00:00\",\"2022-08-13T00:00:00\",\"2022-08-14T00:00:00\",\"2022-08-15T00:00:00\",\"2022-08-16T00:00:00\",\"2022-08-17T00:00:00\",\"2022-08-18T00:00:00\",\"2022-08-19T00:00:00\",\"2022-08-20T00:00:00\",\"2022-08-21T00:00:00\",\"2022-08-22T00:00:00\",\"2022-08-23T00:00:00\",\"2022-08-24T00:00:00\",\"2022-08-25T00:00:00\",\"2022-08-26T00:00:00\",\"2022-08-29T00:00:00\",\"2022-08-30T00:00:00\",\"2022-08-31T00:00:00\",\"2022-09-01T00:00:00\",\"2022-09-02T00:00:00\",\"2022-09-03T00:00:00\",\"2022-09-04T00:00:00\",\"2022-09-05T00:00:00\",\"2022-09-06T00:00:00\",\"2022-09-07T00:00:00\",\"2022-09-08T00:00:00\",\"2022-09-09T00:00:00\",\"2022-09-10T00:00:00\",\"2022-09-11T00:00:00\",\"2022-09-12T00:00:00\",\"2022-09-13T00:00:00\",\"2022-09-14T00:00:00\",\"2022-09-15T00:00:00\",\"2022-09-16T00:00:00\",\"2022-09-17T00:00:00\",\"2022-09-18T00:00:00\",\"2022-09-19T00:00:00\",\"2022-09-20T00:00:00\",\"2022-09-21T00:00:00\",\"2022-09-22T00:00:00\",\"2022-09-23T00:00:00\",\"2022-09-24T00:00:00\",\"2022-09-25T00:00:00\",\"2022-09-26T00:00:00\",\"2022-09-27T00:00:00\",\"2022-09-28T00:00:00\",\"2022-09-29T00:00:00\",\"2022-09-30T00:00:00\",\"2022-10-01T00:00:00\",\"2022-10-02T00:00:00\",\"2022-10-03T00:00:00\",\"2022-10-04T00:00:00\",\"2022-10-05T00:00:00\",\"2022-10-06T00:00:00\",\"2022-10-07T00:00:00\",\"2022-10-08T00:00:00\",\"2022-10-09T00:00:00\",\"2022-10-10T00:00:00\",\"2022-10-11T00:00:00\",\"2022-10-12T00:00:00\",\"2022-10-13T00:00:00\",\"2022-10-14T00:00:00\",\"2022-10-15T00:00:00\",\"2022-10-16T00:00:00\",\"2022-10-17T00:00:00\",\"2022-10-18T00:00:00\",\"2022-10-19T00:00:00\",\"2022-10-20T00:00:00\",\"2022-10-21T00:00:00\",\"2022-10-22T00:00:00\",\"2022-10-23T00:00:00\",\"2022-10-24T00:00:00\",\"2022-10-25T00:00:00\",\"2022-10-26T00:00:00\",\"2022-10-27T00:00:00\",\"2022-10-28T00:00:00\",\"2022-10-29T00:00:00\",\"2022-10-30T00:00:00\",\"2022-10-31T00:00:00\",\"2022-11-01T00:00:00\",\"2022-11-02T00:00:00\",\"2022-11-03T00:00:00\",\"2022-11-04T00:00:00\",\"2022-11-05T00:00:00\",\"2022-11-06T00:00:00\",\"2022-11-07T00:00:00\",\"2022-11-08T00:00:00\",\"2022-11-09T00:00:00\",\"2022-11-10T00:00:00\",\"2022-11-11T00:00:00\",\"2022-11-12T00:00:00\",\"2022-11-13T00:00:00\",\"2022-11-14T00:00:00\",\"2022-11-15T00:00:00\",\"2022-11-16T00:00:00\",\"2022-11-17T00:00:00\",\"2022-11-18T00:00:00\",\"2022-11-19T00:00:00\",\"2022-11-20T00:00:00\",\"2022-11-21T00:00:00\",\"2022-11-22T00:00:00\",\"2022-11-23T00:00:00\",\"2022-11-24T00:00:00\",\"2022-11-25T00:00:00\",\"2022-11-26T00:00:00\",\"2022-11-27T00:00:00\",\"2022-11-28T00:00:00\"],\"y\":[-2.7612880126043886,24.28321988949544,-20.252788507683615,-14.85894901936474,0.6510254732010081,43.07814351517313,-13.85604131883891,-8.462201788863911,10.03220695064886,7.066894831328597,49.51313501352019,42.26873209458858,2.886496937044285,18.615959006339438,42.27817901546894,44.46155607986047,92.09890435481591,84.91095828997157,59.46186475756623,63.34512886031548,103.05876845044156,140.66932640314607,156.83862279927862,218.41947149707545,231.49232445741663,222.69472353611508,268.7850288498859,312.7722525261178,339.19277730106114,477.10434510289224,551.6266140755951,604.6700401035637,703.1371201950844,799.1191706085016,888.2938764263848,975.3655006068626,1080.5455858908374,1231.1372234763514,1326.9405486561006,1390.6060415970137,1483.603892173279,1612.4299074701978,1739.1528411297193,1844.4001933187253,1995.0590978092334,2090.892708013898,2154.5884859799216,2247.6166226956384,2376.445900635104,2503.172097149966,2759.0783565918055,2865.3811513528103,2939.546113875145,3043.0674714788606,3182.389970306381,3319.6093874964477,3435.349961741823,3596.502088288753,3702.8289204960224,3777.0179204646383,3880.5392780683633,4019.8617768958775,4157.081194086029,4272.821768331421,4433.973894878366,4718.011084657963,4857.333583485467,4994.553000675594,5110.293574921018,5271.44570146798,5377.772533675294,5451.961533643755,5555.482891247562,5694.805390075088,5832.024807265196,5947.7653815105205,6108.917508057553,6215.244340264855,6289.43334023329,6392.954697837161,6532.277196664647,6669.496613854767,6785.237188100117,6946.389314647168,7052.716146854381,7126.905146823013,7230.426504426664,7369.749003254268,7506.968420444349,7622.708994689713,7783.861121236761,7890.187953443976,7964.37695341259,8067.898311016304,8207.22080984389,8344.440227033932,8460.180801279312,8621.332927826254,8727.6597600335,8801.848760002085,8905.370117605864,9044.692616433478,9181.912033623523,9297.652607868908,9458.804734415846,9565.131566623028,9639.320566591665,9742.841924195458,9882.164423022976,10019.383840213086,10135.124414458502,10296.276541005458,10402.603373212773,10476.792373181383,10580.31373078506,10719.636229612564,10856.855646802684,10972.5962210481,11133.748347595054,11240.075179802294,11314.264179770962,11417.78553737466,11557.108036202184,11694.32745339225,11810.068027637604,11971.220154184644,12077.546986391857,12151.73598636046,12255.257343964215,12394.579842791649,12531.799259981817,12647.5398342272,12808.69196077424,12915.018792981418,12989.207792950036,13092.72915055376,13232.051649381272,13369.271066571397,13485.011640816798,13646.163767363854,13752.490599571127,13826.679599539615,13930.200957143363,14069.523455970857,14206.742873160982,14322.483447406395,14483.635573953325,14589.962406160654,14664.151406129111,14767.672763732957,14906.99526256045,15044.214679750567,15159.955253995988,15321.10738054294,15427.434212750213,15501.623212718687,15605.144570322462]},{\"fill\":\"tonexty\",\"fillcolor\":\"rgba(0, 114, 178, 0.2)\",\"hoverinfo\":\"skip\",\"line\":{\"width\":0},\"mode\":\"lines\",\"type\":\"scatter\",\"x\":[\"2022-06-08T00:00:00\",\"2022-06-11T00:00:00\",\"2022-06-12T00:00:00\",\"2022-06-14T00:00:00\",\"2022-06-16T00:00:00\",\"2022-06-17T00:00:00\",\"2022-06-19T00:00:00\",\"2022-06-21T00:00:00\",\"2022-06-22T00:00:00\",\"2022-06-23T00:00:00\",\"2022-06-24T00:00:00\",\"2022-06-25T00:00:00\",\"2022-06-26T00:00:00\",\"2022-06-28T00:00:00\",\"2022-06-29T00:00:00\",\"2022-06-30T00:00:00\",\"2022-07-01T00:00:00\",\"2022-07-02T00:00:00\",\"2022-07-03T00:00:00\",\"2022-07-04T00:00:00\",\"2022-07-05T00:00:00\",\"2022-07-06T00:00:00\",\"2022-07-07T00:00:00\",\"2022-07-08T00:00:00\",\"2022-07-09T00:00:00\",\"2022-07-11T00:00:00\",\"2022-07-12T00:00:00\",\"2022-07-13T00:00:00\",\"2022-07-14T00:00:00\",\"2022-07-19T00:00:00\",\"2022-07-20T00:00:00\",\"2022-07-21T00:00:00\",\"2022-07-22T00:00:00\",\"2022-07-25T00:00:00\",\"2022-07-26T00:00:00\",\"2022-07-27T00:00:00\",\"2022-07-28T00:00:00\",\"2022-07-29T00:00:00\",\"2022-07-30T00:00:00\",\"2022-07-31T00:00:00\",\"2022-08-01T00:00:00\",\"2022-08-02T00:00:00\",\"2022-08-03T00:00:00\",\"2022-08-04T00:00:00\",\"2022-08-05T00:00:00\",\"2022-08-06T00:00:00\",\"2022-08-07T00:00:00\",\"2022-08-08T00:00:00\",\"2022-08-09T00:00:00\",\"2022-08-10T00:00:00\",\"2022-08-12T00:00:00\",\"2022-08-13T00:00:00\",\"2022-08-14T00:00:00\",\"2022-08-15T00:00:00\",\"2022-08-16T00:00:00\",\"2022-08-17T00:00:00\",\"2022-08-18T00:00:00\",\"2022-08-19T00:00:00\",\"2022-08-20T00:00:00\",\"2022-08-21T00:00:00\",\"2022-08-22T00:00:00\",\"2022-08-23T00:00:00\",\"2022-08-24T00:00:00\",\"2022-08-25T00:00:00\",\"2022-08-26T00:00:00\",\"2022-08-29T00:00:00\",\"2022-08-30T00:00:00\",\"2022-08-31T00:00:00\",\"2022-09-01T00:00:00\",\"2022-09-02T00:00:00\",\"2022-09-03T00:00:00\",\"2022-09-04T00:00:00\",\"2022-09-05T00:00:00\",\"2022-09-06T00:00:00\",\"2022-09-07T00:00:00\",\"2022-09-08T00:00:00\",\"2022-09-09T00:00:00\",\"2022-09-10T00:00:00\",\"2022-09-11T00:00:00\",\"2022-09-12T00:00:00\",\"2022-09-13T00:00:00\",\"2022-09-14T00:00:00\",\"2022-09-15T00:00:00\",\"2022-09-16T00:00:00\",\"2022-09-17T00:00:00\",\"2022-09-18T00:00:00\",\"2022-09-19T00:00:00\",\"2022-09-20T00:00:00\",\"2022-09-21T00:00:00\",\"2022-09-22T00:00:00\",\"2022-09-23T00:00:00\",\"2022-09-24T00:00:00\",\"2022-09-25T00:00:00\",\"2022-09-26T00:00:00\",\"2022-09-27T00:00:00\",\"2022-09-28T00:00:00\",\"2022-09-29T00:00:00\",\"2022-09-30T00:00:00\",\"2022-10-01T00:00:00\",\"2022-10-02T00:00:00\",\"2022-10-03T00:00:00\",\"2022-10-04T00:00:00\",\"2022-10-05T00:00:00\",\"2022-10-06T00:00:00\",\"2022-10-07T00:00:00\",\"2022-10-08T00:00:00\",\"2022-10-09T00:00:00\",\"2022-10-10T00:00:00\",\"2022-10-11T00:00:00\",\"2022-10-12T00:00:00\",\"2022-10-13T00:00:00\",\"2022-10-14T00:00:00\",\"2022-10-15T00:00:00\",\"2022-10-16T00:00:00\",\"2022-10-17T00:00:00\",\"2022-10-18T00:00:00\",\"2022-10-19T00:00:00\",\"2022-10-20T00:00:00\",\"2022-10-21T00:00:00\",\"2022-10-22T00:00:00\",\"2022-10-23T00:00:00\",\"2022-10-24T00:00:00\",\"2022-10-25T00:00:00\",\"2022-10-26T00:00:00\",\"2022-10-27T00:00:00\",\"2022-10-28T00:00:00\",\"2022-10-29T00:00:00\",\"2022-10-30T00:00:00\",\"2022-10-31T00:00:00\",\"2022-11-01T00:00:00\",\"2022-11-02T00:00:00\",\"2022-11-03T00:00:00\",\"2022-11-04T00:00:00\",\"2022-11-05T00:00:00\",\"2022-11-06T00:00:00\",\"2022-11-07T00:00:00\",\"2022-11-08T00:00:00\",\"2022-11-09T00:00:00\",\"2022-11-10T00:00:00\",\"2022-11-11T00:00:00\",\"2022-11-12T00:00:00\",\"2022-11-13T00:00:00\",\"2022-11-14T00:00:00\",\"2022-11-15T00:00:00\",\"2022-11-16T00:00:00\",\"2022-11-17T00:00:00\",\"2022-11-18T00:00:00\",\"2022-11-19T00:00:00\",\"2022-11-20T00:00:00\",\"2022-11-21T00:00:00\",\"2022-11-22T00:00:00\",\"2022-11-23T00:00:00\",\"2022-11-24T00:00:00\",\"2022-11-25T00:00:00\",\"2022-11-26T00:00:00\",\"2022-11-27T00:00:00\",\"2022-11-28T00:00:00\"],\"y\":[27.860150100749237,56.0550940424031,11.578298996918706,18.415794497211184,31.14642513666132,74.61569869404221,18.53767812623356,24.265874972913494,43.40416324971268,38.460100977048825,80.86083735030671,73.48983188539921,34.61986561661107,50.652842590004795,72.91797627671995,72.49585015783876,126.5089739019337,118.32920000254069,89.95084942023925,97.35766183346382,134.96243630018662,170.76970344775214,190.47212933038412,251.26442374160217,261.3504927367716,251.5546587722713,299.36708842750636,345.0268812057137,371.92133977357173,509.05672065235535,584.5514896356556,635.966851305331,733.9145084243769,829.2970048384732,920.4399885365982,1008.7004006503431,1110.4439861091425,1261.5618889783711,1359.3168067002732,1420.635188712924,1516.230723262922,1644.5793498387918,1768.8968877570987,1875.792436792622,2026.8373403616074,2122.9157818061362,2186.1271154338037,2280.172817101677,2406.9016892561585,2534.5133087777535,2790.006058427123,2895.7967194095086,2971.791198367394,3074.160022228995,3212.91782711519,3348.73007317242,3466.6262027185912,3627.516973791519,3735.403518684802,3807.7485395222757,3911.8922485258076,4048.940171277276,4189.670250043503,4308.028359566373,4466.500184300176,4751.430491684949,4889.15390238567,5025.887382338646,5143.789169684218,5304.378899562388,5412.540945328523,5493.964775843435,5605.486151298593,5746.76529977294,5895.443256458521,6028.202380823036,6196.6472453975975,6318.451223689769,6406.17917280352,6520.786517602572,6677.91788164038,6828.200688490343,6955.597336054635,7143.96660661892,7256.267003754253,7346.122062845058,7473.617318044307,7631.619285271175,7795.437005146249,7930.233187699072,8112.315355753833,8228.789691695132,8343.404609950341,8449.570239327792,8633.417700650318,8783.149027787691,8925.827234774068,9099.561396224964,9234.102125226267,9318.688267848249,9467.231459785224,9622.062620313956,9770.08851452797,9913.324558032573,10110.832232907871,10230.721669038909,10340.254547367604,10464.753584283328,10647.483391663267,10799.773949283903,10944.438023518156,11139.171400836341,11264.245122505197,11363.143068321111,11497.068053234123,11662.546008906344,11818.111620606252,11965.99756284369,12156.929704952085,12301.019362860534,12400.551062362807,12524.945618021373,12696.208486070334,12878.109250215592,12996.7091347808,13204.107777375688,13349.967136062503,13449.897719605244,13576.240648674528,13749.086052202581,13909.611050101337,14073.04484887879,14270.098727668594,14402.791801275282,14531.537883996045,14658.870706288079,14846.540011754512,15022.35058945425,15148.583769507626,15355.451254526257,15509.352618119301,15596.543889378809,15764.154605979193,15944.399691017215,16114.66229339395,16241.416240304347,16451.648608826777,16590.084684630223,16724.712635427277,16850.83878270589,17049.911360124708,17207.071723278,17363.798494307495,17581.28683908659,17737.894574198574,17839.519481315372,17991.96082097712]}],                        {\"height\":600,\"showlegend\":false,\"template\":{\"data\":{\"bar\":[{\"error_x\":{\"color\":\"#2a3f5f\"},\"error_y\":{\"color\":\"#2a3f5f\"},\"marker\":{\"line\":{\"color\":\"#E5ECF6\",\"width\":0.5},\"pattern\":{\"fillmode\":\"overlay\",\"size\":10,\"solidity\":0.2}},\"type\":\"bar\"}],\"barpolar\":[{\"marker\":{\"line\":{\"color\":\"#E5ECF6\",\"width\":0.5},\"pattern\":{\"fillmode\":\"overlay\",\"size\":10,\"solidity\":0.2}},\"type\":\"barpolar\"}],\"carpet\":[{\"aaxis\":{\"endlinecolor\":\"#2a3f5f\",\"gridcolor\":\"white\",\"linecolor\":\"white\",\"minorgridcolor\":\"white\",\"startlinecolor\":\"#2a3f5f\"},\"baxis\":{\"endlinecolor\":\"#2a3f5f\",\"gridcolor\":\"white\",\"linecolor\":\"white\",\"minorgridcolor\":\"white\",\"startlinecolor\":\"#2a3f5f\"},\"type\":\"carpet\"}],\"choropleth\":[{\"colorbar\":{\"outlinewidth\":0,\"ticks\":\"\"},\"type\":\"choropleth\"}],\"contour\":[{\"colorbar\":{\"outlinewidth\":0,\"ticks\":\"\"},\"colorscale\":[[0.0,\"#0d0887\"],[0.1111111111111111,\"#46039f\"],[0.2222222222222222,\"#7201a8\"],[0.3333333333333333,\"#9c179e\"],[0.4444444444444444,\"#bd3786\"],[0.5555555555555556,\"#d8576b\"],[0.6666666666666666,\"#ed7953\"],[0.7777777777777778,\"#fb9f3a\"],[0.8888888888888888,\"#fdca26\"],[1.0,\"#f0f921\"]],\"type\":\"contour\"}],\"contourcarpet\":[{\"colorbar\":{\"outlinewidth\":0,\"ticks\":\"\"},\"type\":\"contourcarpet\"}],\"heatmap\":[{\"colorbar\":{\"outlinewidth\":0,\"ticks\":\"\"},\"colorscale\":[[0.0,\"#0d0887\"],[0.1111111111111111,\"#46039f\"],[0.2222222222222222,\"#7201a8\"],[0.3333333333333333,\"#9c179e\"],[0.4444444444444444,\"#bd3786\"],[0.5555555555555556,\"#d8576b\"],[0.6666666666666666,\"#ed7953\"],[0.7777777777777778,\"#fb9f3a\"],[0.8888888888888888,\"#fdca26\"],[1.0,\"#f0f921\"]],\"type\":\"heatmap\"}],\"heatmapgl\":[{\"colorbar\":{\"outlinewidth\":0,\"ticks\":\"\"},\"colorscale\":[[0.0,\"#0d0887\"],[0.1111111111111111,\"#46039f\"],[0.2222222222222222,\"#7201a8\"],[0.3333333333333333,\"#9c179e\"],[0.4444444444444444,\"#bd3786\"],[0.5555555555555556,\"#d8576b\"],[0.6666666666666666,\"#ed7953\"],[0.7777777777777778,\"#fb9f3a\"],[0.8888888888888888,\"#fdca26\"],[1.0,\"#f0f921\"]],\"type\":\"heatmapgl\"}],\"histogram\":[{\"marker\":{\"pattern\":{\"fillmode\":\"overlay\",\"size\":10,\"solidity\":0.2}},\"type\":\"histogram\"}],\"histogram2d\":[{\"colorbar\":{\"outlinewidth\":0,\"ticks\":\"\"},\"colorscale\":[[0.0,\"#0d0887\"],[0.1111111111111111,\"#46039f\"],[0.2222222222222222,\"#7201a8\"],[0.3333333333333333,\"#9c179e\"],[0.4444444444444444,\"#bd3786\"],[0.5555555555555556,\"#d8576b\"],[0.6666666666666666,\"#ed7953\"],[0.7777777777777778,\"#fb9f3a\"],[0.8888888888888888,\"#fdca26\"],[1.0,\"#f0f921\"]],\"type\":\"histogram2d\"}],\"histogram2dcontour\":[{\"colorbar\":{\"outlinewidth\":0,\"ticks\":\"\"},\"colorscale\":[[0.0,\"#0d0887\"],[0.1111111111111111,\"#46039f\"],[0.2222222222222222,\"#7201a8\"],[0.3333333333333333,\"#9c179e\"],[0.4444444444444444,\"#bd3786\"],[0.5555555555555556,\"#d8576b\"],[0.6666666666666666,\"#ed7953\"],[0.7777777777777778,\"#fb9f3a\"],[0.8888888888888888,\"#fdca26\"],[1.0,\"#f0f921\"]],\"type\":\"histogram2dcontour\"}],\"mesh3d\":[{\"colorbar\":{\"outlinewidth\":0,\"ticks\":\"\"},\"type\":\"mesh3d\"}],\"parcoords\":[{\"line\":{\"colorbar\":{\"outlinewidth\":0,\"ticks\":\"\"}},\"type\":\"parcoords\"}],\"pie\":[{\"automargin\":true,\"type\":\"pie\"}],\"scatter\":[{\"marker\":{\"colorbar\":{\"outlinewidth\":0,\"ticks\":\"\"}},\"type\":\"scatter\"}],\"scatter3d\":[{\"line\":{\"colorbar\":{\"outlinewidth\":0,\"ticks\":\"\"}},\"marker\":{\"colorbar\":{\"outlinewidth\":0,\"ticks\":\"\"}},\"type\":\"scatter3d\"}],\"scattercarpet\":[{\"marker\":{\"colorbar\":{\"outlinewidth\":0,\"ticks\":\"\"}},\"type\":\"scattercarpet\"}],\"scattergeo\":[{\"marker\":{\"colorbar\":{\"outlinewidth\":0,\"ticks\":\"\"}},\"type\":\"scattergeo\"}],\"scattergl\":[{\"marker\":{\"colorbar\":{\"outlinewidth\":0,\"ticks\":\"\"}},\"type\":\"scattergl\"}],\"scattermapbox\":[{\"marker\":{\"colorbar\":{\"outlinewidth\":0,\"ticks\":\"\"}},\"type\":\"scattermapbox\"}],\"scatterpolar\":[{\"marker\":{\"colorbar\":{\"outlinewidth\":0,\"ticks\":\"\"}},\"type\":\"scatterpolar\"}],\"scatterpolargl\":[{\"marker\":{\"colorbar\":{\"outlinewidth\":0,\"ticks\":\"\"}},\"type\":\"scatterpolargl\"}],\"scatterternary\":[{\"marker\":{\"colorbar\":{\"outlinewidth\":0,\"ticks\":\"\"}},\"type\":\"scatterternary\"}],\"surface\":[{\"colorbar\":{\"outlinewidth\":0,\"ticks\":\"\"},\"colorscale\":[[0.0,\"#0d0887\"],[0.1111111111111111,\"#46039f\"],[0.2222222222222222,\"#7201a8\"],[0.3333333333333333,\"#9c179e\"],[0.4444444444444444,\"#bd3786\"],[0.5555555555555556,\"#d8576b\"],[0.6666666666666666,\"#ed7953\"],[0.7777777777777778,\"#fb9f3a\"],[0.8888888888888888,\"#fdca26\"],[1.0,\"#f0f921\"]],\"type\":\"surface\"}],\"table\":[{\"cells\":{\"fill\":{\"color\":\"#EBF0F8\"},\"line\":{\"color\":\"white\"}},\"header\":{\"fill\":{\"color\":\"#C8D4E3\"},\"line\":{\"color\":\"white\"}},\"type\":\"table\"}]},\"layout\":{\"annotationdefaults\":{\"arrowcolor\":\"#2a3f5f\",\"arrowhead\":0,\"arrowwidth\":1},\"autotypenumbers\":\"strict\",\"coloraxis\":{\"colorbar\":{\"outlinewidth\":0,\"ticks\":\"\"}},\"colorscale\":{\"diverging\":[[0,\"#8e0152\"],[0.1,\"#c51b7d\"],[0.2,\"#de77ae\"],[0.3,\"#f1b6da\"],[0.4,\"#fde0ef\"],[0.5,\"#f7f7f7\"],[0.6,\"#e6f5d0\"],[0.7,\"#b8e186\"],[0.8,\"#7fbc41\"],[0.9,\"#4d9221\"],[1,\"#276419\"]],\"sequential\":[[0.0,\"#0d0887\"],[0.1111111111111111,\"#46039f\"],[0.2222222222222222,\"#7201a8\"],[0.3333333333333333,\"#9c179e\"],[0.4444444444444444,\"#bd3786\"],[0.5555555555555556,\"#d8576b\"],[0.6666666666666666,\"#ed7953\"],[0.7777777777777778,\"#fb9f3a\"],[0.8888888888888888,\"#fdca26\"],[1.0,\"#f0f921\"]],\"sequentialminus\":[[0.0,\"#0d0887\"],[0.1111111111111111,\"#46039f\"],[0.2222222222222222,\"#7201a8\"],[0.3333333333333333,\"#9c179e\"],[0.4444444444444444,\"#bd3786\"],[0.5555555555555556,\"#d8576b\"],[0.6666666666666666,\"#ed7953\"],[0.7777777777777778,\"#fb9f3a\"],[0.8888888888888888,\"#fdca26\"],[1.0,\"#f0f921\"]]},\"colorway\":[\"#636efa\",\"#EF553B\",\"#00cc96\",\"#ab63fa\",\"#FFA15A\",\"#19d3f3\",\"#FF6692\",\"#B6E880\",\"#FF97FF\",\"#FECB52\"],\"font\":{\"color\":\"#2a3f5f\"},\"geo\":{\"bgcolor\":\"white\",\"lakecolor\":\"white\",\"landcolor\":\"#E5ECF6\",\"showlakes\":true,\"showland\":true,\"subunitcolor\":\"white\"},\"hoverlabel\":{\"align\":\"left\"},\"hovermode\":\"closest\",\"mapbox\":{\"style\":\"light\"},\"paper_bgcolor\":\"white\",\"plot_bgcolor\":\"#E5ECF6\",\"polar\":{\"angularaxis\":{\"gridcolor\":\"white\",\"linecolor\":\"white\",\"ticks\":\"\"},\"bgcolor\":\"#E5ECF6\",\"radialaxis\":{\"gridcolor\":\"white\",\"linecolor\":\"white\",\"ticks\":\"\"}},\"scene\":{\"xaxis\":{\"backgroundcolor\":\"#E5ECF6\",\"gridcolor\":\"white\",\"gridwidth\":2,\"linecolor\":\"white\",\"showbackground\":true,\"ticks\":\"\",\"zerolinecolor\":\"white\"},\"yaxis\":{\"backgroundcolor\":\"#E5ECF6\",\"gridcolor\":\"white\",\"gridwidth\":2,\"linecolor\":\"white\",\"showbackground\":true,\"ticks\":\"\",\"zerolinecolor\":\"white\"},\"zaxis\":{\"backgroundcolor\":\"#E5ECF6\",\"gridcolor\":\"white\",\"gridwidth\":2,\"linecolor\":\"white\",\"showbackground\":true,\"ticks\":\"\",\"zerolinecolor\":\"white\"}},\"shapedefaults\":{\"line\":{\"color\":\"#2a3f5f\"}},\"ternary\":{\"aaxis\":{\"gridcolor\":\"white\",\"linecolor\":\"white\",\"ticks\":\"\"},\"baxis\":{\"gridcolor\":\"white\",\"linecolor\":\"white\",\"ticks\":\"\"},\"bgcolor\":\"#E5ECF6\",\"caxis\":{\"gridcolor\":\"white\",\"linecolor\":\"white\",\"ticks\":\"\"}},\"title\":{\"x\":0.05},\"xaxis\":{\"automargin\":true,\"gridcolor\":\"white\",\"linecolor\":\"white\",\"ticks\":\"\",\"title\":{\"standoff\":15},\"zerolinecolor\":\"white\",\"zerolinewidth\":2},\"yaxis\":{\"automargin\":true,\"gridcolor\":\"white\",\"linecolor\":\"white\",\"ticks\":\"\",\"title\":{\"standoff\":15},\"zerolinecolor\":\"white\",\"zerolinewidth\":2}}},\"width\":900,\"xaxis\":{\"rangeselector\":{\"buttons\":[{\"count\":7,\"label\":\"1w\",\"step\":\"day\",\"stepmode\":\"backward\"},{\"count\":1,\"label\":\"1m\",\"step\":\"month\",\"stepmode\":\"backward\"},{\"count\":6,\"label\":\"6m\",\"step\":\"month\",\"stepmode\":\"backward\"},{\"count\":1,\"label\":\"1y\",\"step\":\"year\",\"stepmode\":\"backward\"},{\"step\":\"all\"}]},\"rangeslider\":{\"visible\":true},\"title\":{\"text\":\"ds\"},\"type\":\"date\"},\"yaxis\":{\"title\":{\"text\":\"y\"}}},                        {\"responsive\": true}                    ).then(function(){\n",
       "                            \n",
       "var gd = document.getElementById('808e2ef5-e823-4885-94fa-faf648abede3');\n",
       "var x = new MutationObserver(function (mutations, observer) {{\n",
       "        var display = window.getComputedStyle(gd).display;\n",
       "        if (!display || display === 'none') {{\n",
       "            console.log([gd, 'removed!']);\n",
       "            Plotly.purge(gd);\n",
       "            observer.disconnect();\n",
       "        }}\n",
       "}});\n",
       "\n",
       "// Listen for the removal of the full notebook cells\n",
       "var notebookContainer = gd.closest('#notebook-container');\n",
       "if (notebookContainer) {{\n",
       "    x.observe(notebookContainer, {childList: true});\n",
       "}}\n",
       "\n",
       "// Listen for the clearing of the current output cell\n",
       "var outputEl = gd.closest('.output');\n",
       "if (outputEl) {{\n",
       "    x.observe(outputEl, {childList: true});\n",
       "}}\n",
       "\n",
       "                        })                };                });            </script>        </div>"
      ]
     },
     "metadata": {},
     "output_type": "display_data"
    }
   ],
   "source": [
    "plot_plotly(m, forecast)"
   ]
  },
  {
   "cell_type": "markdown",
   "id": "a3cd617a-304f-48f0-b039-67f644863d7a",
   "metadata": {},
   "source": [
    "<h4>Utilização do Components para ver tendências mensais e de dias da semana</h4>"
   ]
  },
  {
   "cell_type": "code",
   "execution_count": 174,
   "id": "b632eb61-b247-4e1c-bfac-81fb6e370581",
   "metadata": {},
   "outputs": [
    {
     "data": {
      "image/png": "[encoded data removed]",
      "text/plain": [
       "<Figure size 648x432 with 2 Axes>"
      ]
     },
     "metadata": {},
     "output_type": "display_data"
    }
   ],
   "source": [
    "fig3 = m.plot_components(forecast)"
   ]
  },
  {
   "cell_type": "markdown",
   "id": "9e4f2ad0-dd29-4403-84e3-32774ce276c6",
   "metadata": {},
   "source": [
    "<a href=\"#indice\"><img src=\"botao-topo.png\" width=\"15%\"/></a>"
   ]
  },
  {
   "cell_type": "markdown",
   "id": "4704ded2-d7a8-4ff1-a1ba-8a746f9f4bbe",
   "metadata": {},
   "source": [
    "<div id=\"5\"><h2>6 - Conclusões</h2></div>"
   ]
  },
  {
   "cell_type": "markdown",
   "id": "dc4ee2f8-1d63-4e01-8cfa-1ea9023d0090",
   "metadata": {},
   "source": [
    "Embora a quantidade de casos esteja crescendo consistentemente, o número e percentual de hospitalizações é baixo em comparação com o coronavírus. Como não temos no dataset a quantidade de mortes, é difícil prever, porém, nos baseando no percentual de hospitalizações, esse percentual muito provavelmente será baixo também.\n",
    "\n",
    "Devemos nos instruir e nos conscientizar sobre maneiras de prevenção para que não escale como o coronavírus escalou e trouxe prejuízos incalculáveis.\n",
    "\n",
    "Para mais informação sobre a varíola dos macacos, acesse o site do <a href=\"https://www.gov.br/saude/pt-br/assuntos/variola-dos-macacos\" target=\"_blank\">Ministério da Sáude</a>."
   ]
  },
  {
   "cell_type": "markdown",
   "id": "79ce025b-82d2-4a1a-ab98-7223a4b5c305",
   "metadata": {},
   "source": [
    "<img src=\"ty.gif\" width=\"100%\"/>"
   ]
  },
  {
   "cell_type": "markdown",
   "id": "7eaff745-04f0-4c5e-992b-0ba8a1744c78",
   "metadata": {},
   "source": [
    "<a href=\"#indice\"><img src=\"botao-topo.png\" width=\"15%\"/></a>"
   ]
  },
  {
   "cell_type": "markdown",
   "id": "583e4c5a-6283-4a9c-acbf-eb24afbc4666",
   "metadata": {},
   "source": [
    "\n",
    "\n"
   ]
  },
  {
   "cell_type": "code",
   "execution_count": null,
   "id": "71df1bf1-27b9-4c98-aa2f-e6d528e6a806",
   "metadata": {},
   "outputs": [],
   "source": []
  }
 ],
 "metadata": {
  "kernelspec": {
   "display_name": "Python 3 (ipykernel)",
   "language": "python",
   "name": "python3"
  },
  "language_info": {
   "codemirror_mode": {
    "name": "ipython",
    "version": 3
   },
   "file_extension": ".py",
   "mimetype": "text/x-python",
   "name": "python",
   "nbconvert_exporter": "python",
   "pygments_lexer": "ipython3",
   "version": "3.9.12"
  }
 },
 "nbformat": 4,
 "nbformat_minor": 5
}
