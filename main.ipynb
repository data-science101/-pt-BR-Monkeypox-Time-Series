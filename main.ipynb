{
 "cells": [
  {
   "cell_type": "markdown",
   "id": "fdcc0d0d-269f-43b3-af22-97fe7b6c5612",
   "metadata": {},
   "source": [
    "<img src=\"topo.png\" width=\"100%\"/><br /> <i>Última análise: 31/08/2022</i>"
   ]
  },
  {
   "cell_type": "markdown",
   "id": "7e55688e-7dc8-441b-90e1-a072c7616044",
   "metadata": {},
   "source": [
    "<div id=\"indice\" class=\"alert alert-block alert-success\">\n",
    "\n",
    "<h1>Índice</h1>\n",
    "<ol>\n",
    "    <li><a href=\"#0\">Objetivo</a></li>\n",
    "    <li><a href=\"#1\">Sobre a varíola dos macacos</a></li>\n",
    "    <li><a href=\"#2\">Verificação de dados</a></li>\n",
    "    <li><a href=\"#3\">Curiosidades (EDA)</a></li>\n",
    "    <li><a href=\"#4\">Previsões com Prophet</a></li>\n",
    "        <ol>\n",
    "        <li><a href=\"#41\">Previsão de novos casos diários - 90 Dias</a></li>\n",
    "        <li><a href=\"#42\">Previsão de novos casos diários acumulados</a></li>\n",
    "    </ol>\n",
    "    <li><a href=\"#5\">Conclusões</a></li>\n",
    "    </ol>\n",
    "</div>"
   ]
  },
  {
   "cell_type": "markdown",
   "id": "d5af8ff6-d80c-4b80-9115-c1cbff1f7d7f",
   "metadata": {},
   "source": [
    "<div id=\"0\"><h1>1 - Objetivo</h1>"
   ]
  },
  {
   "cell_type": "markdown",
   "id": "1c8041f3-4bf8-4a54-9397-2da824b11283",
   "metadata": {},
   "source": [
    "O objetivo desse estudo é conhecer mais sobre a varíola dos macacos, como está a situação atual no mundo, quantidade de hospitalizações e principalmente previsões no crescimento dos casos no Brasil, extraindo informações que podem ser úteis para a população em geral.\n",
    "\n",
    "Foi utilizado o dataset público do Kaggle, atualizado diariamente neste <a href=\"https://www.kaggle.com/datasets/deepcontractor/monkeypox-dataset-daily-updated/download?datasetVersionNumber=101\" target=\"_blank\">link</a>."
   ]
  },
  {
   "cell_type": "markdown",
   "id": "8a9dfb76-0570-4750-a2a1-afdb8f9da8ac",
   "metadata": {},
   "source": [
    "<div id=\"1\"><h1>2 - Sobre a varíola dos macacos</h1>\n",
    "\n",
    "<p>A varíola dos macacos é transmitida pelo vírus monkeypox, que pertence ao gênero orthopoxvirus. É considerada uma zoonose viral (o vírus é transmitido aos seres humanos a partir de animais) com sintomas muito semelhantes aos observados em pacientes com varíola, embora seja clinicamente menos grave. O período de incubação da varíola dos macacos é geralmente de seis a 13 dias, mas pode variar de cinco a 21 dias, segundo a Organização Mundial da Saúde (OMS).</p>\n",
    "\n",
    "<p>O nome monkeypox se origina da descoberta inicial do vírus em macacos em um laboratório dinamarquês em 1958. O primeiro caso humano foi identificado em uma criança na República Democrática do Congo em 1970. Atualmente, segundo a OMS esclareceu, a maioria dos animais suscetíveis a este tipo de varíola são roedores, como ratos e cão-da-pradaria.</p>\n",
    "\n",
    "<p>A transmissão ocorre por contato próximo com lesões, fluidos corporais, gotículas respiratórias e materiais contaminados, como roupas de cama. E, segundo o órgão de saúde, a transmissão de humano para humano está ocorrendo entre pessoas com contato físico próximo com casos sintomáticos.</p>\n",
    "\n",
    "<p>O contato próximo com pessoas infectadas ou materiais contaminados deve ser evitado. Luvas e outras roupas e equipamentos de proteção individual devem ser usados ao cuidar dos doentes, seja em uma unidade de saúde ou em casa.</p>\n",
    "\n",
    "<h2>Sintomas:</h2>\n",
    "\n",
    "<p>A OMS descreve quadros diferentes de sintomas para casos suspeitos, prováveis e confirmados. Passa a ser considerado um caso suspeito qualquer pessoa, de qualquer idade, que apresente pústulas (bolhas) na pele de forma aguda e inexplicável e esteja em um país onde a varíola dos macacos não é endêmica. Se este quadro for acompanhado por dor de cabeça, início de febre acima de 38,5°C, linfonodos inchados, dores musculares e no corpo, dor nas costas e fraqueza profunda, é necessário fazer exame para confirmar ou descartar a doença.</p>\n",
    "\n",
    "<p>Casos considerados “prováveis” incluem sintomas semelhantes aos dos casos suspeitos, como contato físico pele a pele ou com lesões na pele, contato sexual ou com materiais contaminados 21 dias antes do início dos sintomas. Soma-se a isso, histórico de viagens para um país endêmico ou ter tido contato próximo com possíveis infectados no mesmo período e/ou ter resultado positivo para um teste sorológico de orthopoxvirus na ausência de vacinação contra varíola ou outra exposição conhecida ao vírus.</p>\n",
    "\n",
    "<p>Casos confirmados ocorrem quando há confirmação laboratorial para o vírus da varíola dos macacos por meio do exame PCR (Reação em Cadeia da Polimerase) em tempo real e/ou sequenciamento.</p>\n",
    "\n",
    "<p>A prevenção e o controle dependem da conscientização das comunidades e da educação dos profissionais de saúde para prevenir a infecção e interromper a transmissão.</p>\n",
    "\n",
    " \n",
    "\n",
    "<p><b>Fontes:</b></p>\n",
    "\n",
    "<ul>\n",
    "    <li><a href=\"https://bvsms.saude.gov.br/02-6-variola-dos-macacos/\" target=\"_blank\">Biblioteca Virtual em Saúde</a></li>\n",
    "    <li><a href=\"https://butantan.gov.br/noticias/variola-dos-macacos-sintomas-transmissao-origem-e-numero-de-casos-sao-atualizados-pela-oms\" target=\"_blank\">Instituto Butantan</a></li>\n",
    "    <li><a href=\"https://brasil.un.org/pt-br/183321-surto-de-variola-dos-macacos-ainda-pode-ser-controlado-garante-oms\" target=\"_blank\">Organização das Nações Unidas (ONU) – Escritório Brasil</a></li>\n",
    "    <li><a href=\"https://news.un.org/pt/story/2022/05/1790052\" target=\"_blank\">ONU News</a<</li>\n",
    "</ul>\n",
    "</div>"
   ]
  },
  {
   "cell_type": "markdown",
   "id": "a3f95ce7-8446-4c35-9afc-a743a9bd8067",
   "metadata": {},
   "source": [
    "<a href=\"#indice\"><img src=\"botao-topo.png\" width=\"15%\"/></a>"
   ]
  },
  {
   "cell_type": "markdown",
   "id": "10d66d22-1d30-416b-98a5-4fcb55556fb2",
   "metadata": {},
   "source": [
    "<h4>Importação de bibliotecas necessárias</h4>"
   ]
  },
  {
   "cell_type": "code",
   "execution_count": 99,
   "id": "d418ca2f-99ab-4e2d-9a24-3c81f0400bfb",
   "metadata": {},
   "outputs": [],
   "source": [
    "import pandas as pd\n",
    "import numpy as np\n",
    "import seaborn as sns\n",
    "import matplotlib.pyplot as plt\n",
    "import plotly_express as px\n",
    "from prophet import Prophet\n",
    "from prophet.plot import plot_plotly, plot_components_plotly\n",
    "import warnings\n",
    "warnings.filterwarnings(\"ignore\")"
   ]
  },
  {
   "cell_type": "markdown",
   "id": "4d3ab698-a2f0-4150-a40a-5b01096cdf04",
   "metadata": {},
   "source": [
    "<h4>Importação de CVs para o Pandas</h4>"
   ]
  },
  {
   "cell_type": "code",
   "execution_count": 100,
   "id": "ce0a883a-6dc6-468e-b153-ddc2090fa817",
   "metadata": {},
   "outputs": [],
   "source": [
    "timeline_casos = pd.read_csv(\"Worldwide_Case_Detection_Timeline.csv\", index_col=\"Date_confirmation\")\n",
    "casos_mundo = pd.read_csv(\"Monkey_Pox_Cases_Worldwide.csv\",index_col=\"Country\")\n",
    "casos_diarios_mundo = pd.read_csv(\"Daily_Country_Wise_Confirmed_Cases.csv\",index_col=\"Country\")"
   ]
  },
  {
   "cell_type": "code",
   "execution_count": 101,
   "id": "bc44a8ce-f6fa-4729-9be2-b371647f1d0e",
   "metadata": {},
   "outputs": [],
   "source": [
    "pd.set_option('display.max_rows', 30)"
   ]
  },
  {
   "cell_type": "code",
   "execution_count": 102,
   "id": "531b5768-cf0b-45e7-8781-81698768f78b",
   "metadata": {},
   "outputs": [],
   "source": [
    "def espaco():\n",
    "    print('--' * 40)"
   ]
  },
  {
   "cell_type": "markdown",
   "id": "4d6af0d2-2acb-4200-8c71-45a48380d46a",
   "metadata": {},
   "source": [
    "<a href=\"#indice\"><img src=\"botao-topo.png\" width=\"15%\"/></a>"
   ]
  },
  {
   "cell_type": "markdown",
   "id": "fdac68da-3579-420b-8035-4c73c98f7493",
   "metadata": {
    "tags": []
   },
   "source": [
    "<div id=\"2\"><h2>3 - Verificações de dados</h2></div>"
   ]
  },
  {
   "cell_type": "markdown",
   "id": "3a7e6450-0659-449c-b26f-6b7bd453c15d",
   "metadata": {},
   "source": [
    "<h4>Quantidade de linhas e colunas em cada dataset</h4>"
   ]
  },
  {
   "cell_type": "code",
   "execution_count": 103,
   "id": "de18b77d-bca5-4df0-bf70-cc55037ab25b",
   "metadata": {},
   "outputs": [
    {
     "name": "stdout",
     "output_type": "stream",
     "text": [
      "(51054, 8)\n",
      "(120, 5)\n",
      "(103, 118)\n"
     ]
    }
   ],
   "source": [
    "print(timeline_casos.shape)\n",
    "print(casos_mundo.shape)\n",
    "print(casos_diarios_mundo.shape)"
   ]
  },
  {
   "cell_type": "markdown",
   "id": "2d02be35-1af2-4c4a-aaac-48543403e00d",
   "metadata": {},
   "source": [
    "<h4>Verificação de tipos de cada coluna</h4>"
   ]
  },
  {
   "cell_type": "code",
   "execution_count": 104,
   "id": "61c4acb8-286f-49fe-8a1b-bf1317366b3a",
   "metadata": {},
   "outputs": [
    {
     "name": "stdout",
     "output_type": "stream",
     "text": [
      "--------------------------------------------------------------------------------\n",
      "Informações timeline de casos: \n",
      "<class 'pandas.core.frame.DataFrame'>\n",
      "Index: 51054 entries, 2022-01-31 to 2022-08-30\n",
      "Data columns (total 8 columns):\n",
      " #   Column                   Non-Null Count  Dtype \n",
      "---  ------                   --------------  ----- \n",
      " 0   Country                  51054 non-null  object\n",
      " 1   City                     1146 non-null   object\n",
      " 2   Age                      2693 non-null   object\n",
      " 3   Gender                   2200 non-null   object\n",
      " 4   Symptoms                 182 non-null    object\n",
      " 5   Hospitalised (Y/N/NA)    282 non-null    object\n",
      " 6   Isolated (Y/N/NA)        386 non-null    object\n",
      " 7   Travel_history (Y/N/NA)  324 non-null    object\n",
      "dtypes: object(8)\n",
      "memory usage: 3.5+ MB\n",
      "None\n",
      "--------------------------------------------------------------------------------\n",
      "Informações de casos diários no mundo: \n",
      "<class 'pandas.core.frame.DataFrame'>\n",
      "Index: 103 entries, Nigeria to Paraguay\n",
      "Columns: 118 entries, 2022-01-31 to 2022-08-30\n",
      "dtypes: int64(118)\n",
      "memory usage: 95.8+ KB\n",
      "None\n",
      "--------------------------------------------------------------------------------\n",
      "Informações de casos no mundo: \n",
      "<class 'pandas.core.frame.DataFrame'>\n",
      "Index: 120 entries, England to Sierra Leone\n",
      "Data columns (total 5 columns):\n",
      " #   Column              Non-Null Count  Dtype  \n",
      "---  ------              --------------  -----  \n",
      " 0   Confirmed_Cases     120 non-null    float64\n",
      " 1   Suspected_Cases     120 non-null    float64\n",
      " 2   Hospitalized        120 non-null    float64\n",
      " 3   Travel_History_Yes  120 non-null    float64\n",
      " 4   Travel_History_No   120 non-null    float64\n",
      "dtypes: float64(5)\n",
      "memory usage: 5.6+ KB\n",
      "None\n",
      "--------------------------------------------------------------------------------\n"
     ]
    }
   ],
   "source": [
    "espaco()\n",
    "print('Informações timeline de casos: ')\n",
    "print(timeline_casos.info())\n",
    "espaco()\n",
    "print('Informações de casos diários no mundo: ')\n",
    "print(casos_diarios_mundo.info())\n",
    "espaco()\n",
    "print('Informações de casos no mundo: ')\n",
    "print(casos_mundo.info())\n",
    "espaco()"
   ]
  },
  {
   "cell_type": "markdown",
   "id": "46eea56f-d63f-4a11-b2a4-ad1d67eb9f9e",
   "metadata": {},
   "source": [
    "<b style=\"color:#1e6d06\">Observação:</b> As colunas estão no formato que precisam, apenas as datas dos casos diários que estão como int e vamos converter para datetime mais pra frente."
   ]
  },
  {
   "cell_type": "markdown",
   "id": "77b85324-a01d-466c-9c8e-afeef31621cf",
   "metadata": {},
   "source": [
    "<h4>Verificação de dados nulos</h4>"
   ]
  },
  {
   "cell_type": "code",
   "execution_count": 105,
   "id": "54f0d988-ef0d-46e4-a3d4-84bb08a9d9d5",
   "metadata": {},
   "outputs": [
    {
     "name": "stdout",
     "output_type": "stream",
     "text": [
      "--------------------------------------------------------------------------------\n",
      "Country                        0\n",
      "City                       49908\n",
      "Age                        48361\n",
      "Gender                     48854\n",
      "Symptoms                   50872\n",
      "Hospitalised (Y/N/NA)      50772\n",
      "Isolated (Y/N/NA)          50668\n",
      "Travel_history (Y/N/NA)    50730\n",
      "dtype: int64\n",
      "--------------------------------------------------------------------------------\n",
      "2022-01-31    0\n",
      "2022-02-17    0\n",
      "2022-02-28    0\n",
      "2022-03-04    0\n",
      "2022-03-31    0\n",
      "             ..\n",
      "2022-08-26    0\n",
      "2022-08-27    0\n",
      "2022-08-28    0\n",
      "2022-08-29    0\n",
      "2022-08-30    0\n",
      "Length: 118, dtype: int64\n",
      "--------------------------------------------------------------------------------\n",
      "Confirmed_Cases       0\n",
      "Suspected_Cases       0\n",
      "Hospitalized          0\n",
      "Travel_History_Yes    0\n",
      "Travel_History_No     0\n",
      "dtype: int64\n",
      "--------------------------------------------------------------------------------\n"
     ]
    }
   ],
   "source": [
    "espaco()\n",
    "print(timeline_casos.isnull().sum())\n",
    "espaco()\n",
    "print(casos_diarios_mundo.isnull().sum())\n",
    "espaco()\n",
    "print(casos_mundo.isnull().sum())\n",
    "espaco()"
   ]
  },
  {
   "cell_type": "code",
   "execution_count": 106,
   "id": "deba6867-4e86-4066-b7f0-b0fd3700efff",
   "metadata": {},
   "outputs": [
    {
     "name": "stdout",
     "output_type": "stream",
     "text": [
      "--------------------------------------------------------------------------------\n",
      "Country                        0\n",
      "City                       49908\n",
      "Age                        48361\n",
      "Gender                     48854\n",
      "Symptoms                   50872\n",
      "Hospitalised (Y/N/NA)      50772\n",
      "Isolated (Y/N/NA)          50668\n",
      "Travel_history (Y/N/NA)    50730\n",
      "dtype: int64\n",
      "--------------------------------------------------------------------------------\n",
      "2022-01-31    0\n",
      "2022-02-17    0\n",
      "2022-02-28    0\n",
      "2022-03-04    0\n",
      "2022-03-31    0\n",
      "             ..\n",
      "2022-08-26    0\n",
      "2022-08-27    0\n",
      "2022-08-28    0\n",
      "2022-08-29    0\n",
      "2022-08-30    0\n",
      "Length: 118, dtype: int64\n",
      "--------------------------------------------------------------------------------\n",
      "Confirmed_Cases       0\n",
      "Suspected_Cases       0\n",
      "Hospitalized          0\n",
      "Travel_History_Yes    0\n",
      "Travel_History_No     0\n",
      "dtype: int64\n",
      "--------------------------------------------------------------------------------\n"
     ]
    }
   ],
   "source": [
    "espaco()\n",
    "print(timeline_casos.isnull().sum())\n",
    "espaco()\n",
    "print(casos_diarios_mundo.isnull().sum())\n",
    "espaco()\n",
    "print(casos_mundo.isnull().sum())\n",
    "espaco()"
   ]
  },
  {
   "cell_type": "markdown",
   "id": "dcc6d04d-3fa2-42a3-a847-38f07022a4c2",
   "metadata": {},
   "source": [
    "<h4>Detalhes de cada dataset</h4>"
   ]
  },
  {
   "cell_type": "code",
   "execution_count": 107,
   "id": "3ae63ad9-f0a2-4c0f-8a52-9475d6c074ed",
   "metadata": {},
   "outputs": [
    {
     "name": "stdout",
     "output_type": "stream",
     "text": [
      "--------------------------------------------------------------------------------\n",
      "              Country     City    Age Gender               Symptoms  \\\n",
      "count           51054     1146   2693   2200                    182   \n",
      "unique            104      161     82      5                     85   \n",
      "top     United States  Toronto  20-69   male  genital ulcer lesions   \n",
      "freq            18553      437    585   2162                     30   \n",
      "\n",
      "       Hospitalised (Y/N/NA) Isolated (Y/N/NA) Travel_history (Y/N/NA)  \n",
      "count                    282               386                     324  \n",
      "unique                     2                 1                       2  \n",
      "top                        N                 Y                       Y  \n",
      "freq                     161               386                     238  \n",
      "--------------------------------------------------------------------------------\n",
      "       2022-01-31  2022-02-17  2022-02-28  2022-03-04  2022-03-31  2022-04-10  \\\n",
      "count  103.000000  103.000000  103.000000  103.000000  103.000000  103.000000   \n",
      "mean     0.029126    0.029126    0.009709    0.019417    0.058252    0.038835   \n",
      "std      0.295599    0.295599    0.098533    0.197066    0.591198    0.394132   \n",
      "min      0.000000    0.000000    0.000000    0.000000    0.000000    0.000000   \n",
      "25%      0.000000    0.000000    0.000000    0.000000    0.000000    0.000000   \n",
      "50%      0.000000    0.000000    0.000000    0.000000    0.000000    0.000000   \n",
      "75%      0.000000    0.000000    0.000000    0.000000    0.000000    0.000000   \n",
      "max      3.000000    3.000000    1.000000    2.000000    6.000000    4.000000   \n",
      "\n",
      "       2022-04-12  2022-04-30  2022-05-06  2022-05-08  ...  2022-08-21  \\\n",
      "count  103.000000  103.000000  103.000000  103.000000  ...  103.000000   \n",
      "mean     0.019417    0.048544    0.009709    0.097087  ...    1.048544   \n",
      "std      0.197066    0.492665    0.098533    0.985329  ...    6.794431   \n",
      "min      0.000000    0.000000    0.000000    0.000000  ...    0.000000   \n",
      "25%      0.000000    0.000000    0.000000    0.000000  ...    0.000000   \n",
      "50%      0.000000    0.000000    0.000000    0.000000  ...    0.000000   \n",
      "75%      0.000000    0.000000    0.000000    0.000000  ...    0.000000   \n",
      "max      2.000000    5.000000    1.000000   10.000000  ...   60.000000   \n",
      "\n",
      "        2022-08-22  2022-08-23  2022-08-24  2022-08-25  2022-08-26  \\\n",
      "count   103.000000  103.000000  103.000000  103.000000  103.000000   \n",
      "mean     20.029126   14.087379   10.184466    6.184466   10.349515   \n",
      "std     130.697185   71.862083   69.187405   33.842411   57.514484   \n",
      "min       0.000000    0.000000    0.000000    0.000000    0.000000   \n",
      "25%       0.000000    0.000000    0.000000    0.000000    0.000000   \n",
      "50%       0.000000    0.000000    0.000000    0.000000    0.000000   \n",
      "75%       0.000000    0.000000    0.000000    0.000000    0.000000   \n",
      "max    1308.000000  532.000000  682.000000  323.000000  499.000000   \n",
      "\n",
      "       2022-08-27  2022-08-28  2022-08-29  2022-08-30  \n",
      "count  103.000000  103.000000  103.000000  103.000000  \n",
      "mean     0.572816    0.514563   16.155340    5.330097  \n",
      "std      4.230148    5.123694   75.937507   35.715210  \n",
      "min      0.000000    0.000000    0.000000    0.000000  \n",
      "25%      0.000000    0.000000    0.000000    0.000000  \n",
      "50%      0.000000    0.000000    0.000000    0.000000  \n",
      "75%      0.000000    0.000000    0.000000    0.000000  \n",
      "max     40.000000   52.000000  659.000000  313.000000  \n",
      "\n",
      "[8 rows x 118 columns]\n",
      "--------------------------------------------------------------------------------\n",
      "       Confirmed_Cases  Suspected_Cases  Hospitalized  Travel_History_Yes  \\\n",
      "count       120.000000       120.000000    120.000000          120.000000   \n",
      "mean        422.916667        21.575000      1.191667            2.191667   \n",
      "std        1883.626627       203.969336      2.870586            4.909767   \n",
      "min           0.000000         0.000000      0.000000            0.000000   \n",
      "25%           2.000000         0.000000      0.000000            0.000000   \n",
      "50%           6.000000         0.000000      0.000000            1.000000   \n",
      "75%          70.000000         0.000000      1.000000            3.000000   \n",
      "max       18308.000000      2217.000000     18.000000           41.000000   \n",
      "\n",
      "       Travel_History_No  \n",
      "count         120.000000  \n",
      "mean            0.733333  \n",
      "std             3.627007  \n",
      "min             0.000000  \n",
      "25%             0.000000  \n",
      "50%             0.000000  \n",
      "75%             0.000000  \n",
      "max            34.000000  \n",
      "--------------------------------------------------------------------------------\n"
     ]
    }
   ],
   "source": [
    "espaco()\n",
    "print(timeline_casos.describe(include = 'all'))\n",
    "espaco()\n",
    "print(casos_diarios_mundo.describe(include = 'all'))\n",
    "espaco()\n",
    "print(casos_mundo.describe(include = 'all'))\n",
    "espaco()"
   ]
  },
  {
   "cell_type": "markdown",
   "id": "7c7f8a28-e494-4392-b9d5-4ea8023cb82d",
   "metadata": {},
   "source": [
    "<a href=\"#indice\"><img src=\"botao-topo.png\" width=\"15%\"/></a>"
   ]
  },
  {
   "cell_type": "markdown",
   "id": "9096345b-b75b-415f-b6dd-dbfabfe23ab2",
   "metadata": {},
   "source": [
    "<div id=\"3\"><h2>4 - Curiosidades (EDA)</h2></div>"
   ]
  },
  {
   "cell_type": "markdown",
   "id": "97b6646b-e3ea-4c9b-ba4c-01c4dfeebf37",
   "metadata": {
    "tags": []
   },
   "source": [
    "<h4>Top 20 países com mais casos confirmados</h4>"
   ]
  },
  {
   "cell_type": "code",
   "execution_count": 108,
   "id": "4450fc6e-18e5-435c-af92-7ac2f5cdcb97",
   "metadata": {},
   "outputs": [
    {
     "data": {
      "text/html": [
       "<div>\n",
       "<style scoped>\n",
       "    .dataframe tbody tr th:only-of-type {\n",
       "        vertical-align: middle;\n",
       "    }\n",
       "\n",
       "    .dataframe tbody tr th {\n",
       "        vertical-align: top;\n",
       "    }\n",
       "\n",
       "    .dataframe thead th {\n",
       "        text-align: right;\n",
       "    }\n",
       "</style>\n",
       "<table border=\"1\" class=\"dataframe\">\n",
       "  <thead>\n",
       "    <tr style=\"text-align: right;\">\n",
       "      <th></th>\n",
       "      <th>Confirmed_Cases</th>\n",
       "    </tr>\n",
       "    <tr>\n",
       "      <th>Country</th>\n",
       "      <th></th>\n",
       "    </tr>\n",
       "  </thead>\n",
       "  <tbody>\n",
       "    <tr>\n",
       "      <th>United States</th>\n",
       "      <td>18308.0</td>\n",
       "    </tr>\n",
       "    <tr>\n",
       "      <th>Spain</th>\n",
       "      <td>6459.0</td>\n",
       "    </tr>\n",
       "    <tr>\n",
       "      <th>Brazil</th>\n",
       "      <td>4876.0</td>\n",
       "    </tr>\n",
       "    <tr>\n",
       "      <th>France</th>\n",
       "      <td>3539.0</td>\n",
       "    </tr>\n",
       "    <tr>\n",
       "      <th>Germany</th>\n",
       "      <td>3455.0</td>\n",
       "    </tr>\n",
       "    <tr>\n",
       "      <th>England</th>\n",
       "      <td>3257.0</td>\n",
       "    </tr>\n",
       "    <tr>\n",
       "      <th>Peru</th>\n",
       "      <td>1463.0</td>\n",
       "    </tr>\n",
       "    <tr>\n",
       "      <th>Canada</th>\n",
       "      <td>1228.0</td>\n",
       "    </tr>\n",
       "    <tr>\n",
       "      <th>Netherlands</th>\n",
       "      <td>1136.0</td>\n",
       "    </tr>\n",
       "    <tr>\n",
       "      <th>Portugal</th>\n",
       "      <td>846.0</td>\n",
       "    </tr>\n",
       "    <tr>\n",
       "      <th>Italy</th>\n",
       "      <td>740.0</td>\n",
       "    </tr>\n",
       "    <tr>\n",
       "      <th>Belgium</th>\n",
       "      <td>671.0</td>\n",
       "    </tr>\n",
       "    <tr>\n",
       "      <th>Colombia</th>\n",
       "      <td>582.0</td>\n",
       "    </tr>\n",
       "    <tr>\n",
       "      <th>Mexico</th>\n",
       "      <td>504.0</td>\n",
       "    </tr>\n",
       "    <tr>\n",
       "      <th>Switzerland</th>\n",
       "      <td>456.0</td>\n",
       "    </tr>\n",
       "    <tr>\n",
       "      <th>Chile</th>\n",
       "      <td>344.0</td>\n",
       "    </tr>\n",
       "    <tr>\n",
       "      <th>Austria</th>\n",
       "      <td>265.0</td>\n",
       "    </tr>\n",
       "    <tr>\n",
       "      <th>Israel</th>\n",
       "      <td>234.0</td>\n",
       "    </tr>\n",
       "    <tr>\n",
       "      <th>Denmark</th>\n",
       "      <td>174.0</td>\n",
       "    </tr>\n",
       "    <tr>\n",
       "      <th>Nigeria</th>\n",
       "      <td>172.0</td>\n",
       "    </tr>\n",
       "  </tbody>\n",
       "</table>\n",
       "</div>"
      ],
      "text/plain": [
       "               Confirmed_Cases\n",
       "Country                       \n",
       "United States          18308.0\n",
       "Spain                   6459.0\n",
       "Brazil                  4876.0\n",
       "France                  3539.0\n",
       "Germany                 3455.0\n",
       "England                 3257.0\n",
       "Peru                    1463.0\n",
       "Canada                  1228.0\n",
       "Netherlands             1136.0\n",
       "Portugal                 846.0\n",
       "Italy                    740.0\n",
       "Belgium                  671.0\n",
       "Colombia                 582.0\n",
       "Mexico                   504.0\n",
       "Switzerland              456.0\n",
       "Chile                    344.0\n",
       "Austria                  265.0\n",
       "Israel                   234.0\n",
       "Denmark                  174.0\n",
       "Nigeria                  172.0"
      ]
     },
     "execution_count": 108,
     "metadata": {},
     "output_type": "execute_result"
    }
   ],
   "source": [
    "casos_mundo.sort_values(by=\"Confirmed_Cases\",ascending=False )[[\"Confirmed_Cases\"]][:20]"
   ]
  },
  {
   "cell_type": "markdown",
   "id": "6a1db695-f5c0-4c3a-a3c7-070b95d69fa9",
   "metadata": {},
   "source": [
    "<b style=\"color:#1e6d06\">Observação:</b> Infelizmente o Brasil já figura na terceira posição, com 4876 casos confirmados."
   ]
  },
  {
   "cell_type": "markdown",
   "id": "142e346f-1041-4d54-9252-5f178eba02a3",
   "metadata": {
    "tags": []
   },
   "source": [
    "<h4>Top 20 países com mais hospitalizações</h4>"
   ]
  },
  {
   "cell_type": "code",
   "execution_count": 109,
   "id": "6ec0d12a-2e98-46ed-a4ed-1a480844fcde",
   "metadata": {},
   "outputs": [
    {
     "data": {
      "text/html": [
       "<div>\n",
       "<style scoped>\n",
       "    .dataframe tbody tr th:only-of-type {\n",
       "        vertical-align: middle;\n",
       "    }\n",
       "\n",
       "    .dataframe tbody tr th {\n",
       "        vertical-align: top;\n",
       "    }\n",
       "\n",
       "    .dataframe thead th {\n",
       "        text-align: right;\n",
       "    }\n",
       "</style>\n",
       "<table border=\"1\" class=\"dataframe\">\n",
       "  <thead>\n",
       "    <tr style=\"text-align: right;\">\n",
       "      <th></th>\n",
       "      <th>Confirmed_Cases</th>\n",
       "      <th>Hospitalized</th>\n",
       "    </tr>\n",
       "    <tr>\n",
       "      <th>Country</th>\n",
       "      <th></th>\n",
       "      <th></th>\n",
       "    </tr>\n",
       "  </thead>\n",
       "  <tbody>\n",
       "    <tr>\n",
       "      <th>Italy</th>\n",
       "      <td>740.0</td>\n",
       "      <td>18.0</td>\n",
       "    </tr>\n",
       "    <tr>\n",
       "      <th>Germany</th>\n",
       "      <td>3455.0</td>\n",
       "      <td>18.0</td>\n",
       "    </tr>\n",
       "    <tr>\n",
       "      <th>Spain</th>\n",
       "      <td>6459.0</td>\n",
       "      <td>13.0</td>\n",
       "    </tr>\n",
       "    <tr>\n",
       "      <th>Singapore</th>\n",
       "      <td>16.0</td>\n",
       "      <td>8.0</td>\n",
       "    </tr>\n",
       "    <tr>\n",
       "      <th>Romania</th>\n",
       "      <td>36.0</td>\n",
       "      <td>7.0</td>\n",
       "    </tr>\n",
       "    <tr>\n",
       "      <th>England</th>\n",
       "      <td>3257.0</td>\n",
       "      <td>5.0</td>\n",
       "    </tr>\n",
       "    <tr>\n",
       "      <th>Bolivia</th>\n",
       "      <td>79.0</td>\n",
       "      <td>5.0</td>\n",
       "    </tr>\n",
       "    <tr>\n",
       "      <th>United States</th>\n",
       "      <td>18308.0</td>\n",
       "      <td>4.0</td>\n",
       "    </tr>\n",
       "    <tr>\n",
       "      <th>Dominican Republic</th>\n",
       "      <td>9.0</td>\n",
       "      <td>4.0</td>\n",
       "    </tr>\n",
       "    <tr>\n",
       "      <th>Japan</th>\n",
       "      <td>4.0</td>\n",
       "      <td>4.0</td>\n",
       "    </tr>\n",
       "    <tr>\n",
       "      <th>Brazil</th>\n",
       "      <td>4876.0</td>\n",
       "      <td>4.0</td>\n",
       "    </tr>\n",
       "    <tr>\n",
       "      <th>Thailand</th>\n",
       "      <td>7.0</td>\n",
       "      <td>4.0</td>\n",
       "    </tr>\n",
       "    <tr>\n",
       "      <th>India</th>\n",
       "      <td>10.0</td>\n",
       "      <td>3.0</td>\n",
       "    </tr>\n",
       "    <tr>\n",
       "      <th>Cyprus</th>\n",
       "      <td>5.0</td>\n",
       "      <td>3.0</td>\n",
       "    </tr>\n",
       "    <tr>\n",
       "      <th>Somalia</th>\n",
       "      <td>0.0</td>\n",
       "      <td>3.0</td>\n",
       "    </tr>\n",
       "    <tr>\n",
       "      <th>Israel</th>\n",
       "      <td>234.0</td>\n",
       "      <td>3.0</td>\n",
       "    </tr>\n",
       "    <tr>\n",
       "      <th>Austria</th>\n",
       "      <td>265.0</td>\n",
       "      <td>2.0</td>\n",
       "    </tr>\n",
       "    <tr>\n",
       "      <th>Greece</th>\n",
       "      <td>56.0</td>\n",
       "      <td>2.0</td>\n",
       "    </tr>\n",
       "    <tr>\n",
       "      <th>Belgium</th>\n",
       "      <td>671.0</td>\n",
       "      <td>2.0</td>\n",
       "    </tr>\n",
       "    <tr>\n",
       "      <th>Peru</th>\n",
       "      <td>1463.0</td>\n",
       "      <td>2.0</td>\n",
       "    </tr>\n",
       "  </tbody>\n",
       "</table>\n",
       "</div>"
      ],
      "text/plain": [
       "                    Confirmed_Cases  Hospitalized\n",
       "Country                                          \n",
       "Italy                         740.0          18.0\n",
       "Germany                      3455.0          18.0\n",
       "Spain                        6459.0          13.0\n",
       "Singapore                      16.0           8.0\n",
       "Romania                        36.0           7.0\n",
       "England                      3257.0           5.0\n",
       "Bolivia                        79.0           5.0\n",
       "United States               18308.0           4.0\n",
       "Dominican Republic              9.0           4.0\n",
       "Japan                           4.0           4.0\n",
       "Brazil                       4876.0           4.0\n",
       "Thailand                        7.0           4.0\n",
       "India                          10.0           3.0\n",
       "Cyprus                          5.0           3.0\n",
       "Somalia                         0.0           3.0\n",
       "Israel                        234.0           3.0\n",
       "Austria                       265.0           2.0\n",
       "Greece                         56.0           2.0\n",
       "Belgium                       671.0           2.0\n",
       "Peru                         1463.0           2.0"
      ]
     },
     "execution_count": 109,
     "metadata": {},
     "output_type": "execute_result"
    }
   ],
   "source": [
    "casos_mundo.sort_values(by=\"Hospitalized\",ascending=False )[[\"Confirmed_Cases\",\"Hospitalized\"]][:20]"
   ]
  },
  {
   "cell_type": "markdown",
   "id": "838bfac4-7086-4eac-a1c7-b03b988c9c43",
   "metadata": {},
   "source": [
    "<b style=\"color:#1e6d06\">Observação:</b> Temos 4 hospitalizações, é interessante descobrirmos o percentual relativo à quantidade de casos."
   ]
  },
  {
   "cell_type": "markdown",
   "id": "f50fcc7a-a835-4e36-bba5-8a98ed37ae34",
   "metadata": {},
   "source": [
    "<h4>Criação de coluna com percentual de hospitalizações</h4>"
   ]
  },
  {
   "cell_type": "code",
   "execution_count": 110,
   "id": "7f4b0b78-f78e-4d1a-a681-5f649764a379",
   "metadata": {},
   "outputs": [],
   "source": [
    "casos_mundo['Hospercent'] = (casos_mundo['Hospitalized'] / casos_mundo['Confirmed_Cases']) * 100"
   ]
  },
  {
   "cell_type": "code",
   "execution_count": 111,
   "id": "03651de5-0415-4c1d-891a-031e8bfc9430",
   "metadata": {},
   "outputs": [
    {
     "data": {
      "text/html": [
       "<div>\n",
       "<style scoped>\n",
       "    .dataframe tbody tr th:only-of-type {\n",
       "        vertical-align: middle;\n",
       "    }\n",
       "\n",
       "    .dataframe tbody tr th {\n",
       "        vertical-align: top;\n",
       "    }\n",
       "\n",
       "    .dataframe thead th {\n",
       "        text-align: right;\n",
       "    }\n",
       "</style>\n",
       "<table border=\"1\" class=\"dataframe\">\n",
       "  <thead>\n",
       "    <tr style=\"text-align: right;\">\n",
       "      <th></th>\n",
       "      <th>Confirmed_Cases</th>\n",
       "      <th>Hospitalized</th>\n",
       "      <th>Hospercent</th>\n",
       "    </tr>\n",
       "    <tr>\n",
       "      <th>Country</th>\n",
       "      <th></th>\n",
       "      <th></th>\n",
       "      <th></th>\n",
       "    </tr>\n",
       "  </thead>\n",
       "  <tbody>\n",
       "    <tr>\n",
       "      <th>Nepal</th>\n",
       "      <td>0.0</td>\n",
       "      <td>1.0</td>\n",
       "      <td>inf</td>\n",
       "    </tr>\n",
       "    <tr>\n",
       "      <th>Somalia</th>\n",
       "      <td>0.0</td>\n",
       "      <td>3.0</td>\n",
       "      <td>inf</td>\n",
       "    </tr>\n",
       "    <tr>\n",
       "      <th>Pakistan</th>\n",
       "      <td>0.0</td>\n",
       "      <td>1.0</td>\n",
       "      <td>inf</td>\n",
       "    </tr>\n",
       "    <tr>\n",
       "      <th>Kosovo</th>\n",
       "      <td>0.0</td>\n",
       "      <td>1.0</td>\n",
       "      <td>inf</td>\n",
       "    </tr>\n",
       "    <tr>\n",
       "      <th>Cuba</th>\n",
       "      <td>1.0</td>\n",
       "      <td>1.0</td>\n",
       "      <td>100.000000</td>\n",
       "    </tr>\n",
       "    <tr>\n",
       "      <th>Japan</th>\n",
       "      <td>4.0</td>\n",
       "      <td>4.0</td>\n",
       "      <td>100.000000</td>\n",
       "    </tr>\n",
       "    <tr>\n",
       "      <th>Guyana</th>\n",
       "      <td>2.0</td>\n",
       "      <td>2.0</td>\n",
       "      <td>100.000000</td>\n",
       "    </tr>\n",
       "    <tr>\n",
       "      <th>South Korea</th>\n",
       "      <td>1.0</td>\n",
       "      <td>1.0</td>\n",
       "      <td>100.000000</td>\n",
       "    </tr>\n",
       "    <tr>\n",
       "      <th>Cyprus</th>\n",
       "      <td>5.0</td>\n",
       "      <td>3.0</td>\n",
       "      <td>60.000000</td>\n",
       "    </tr>\n",
       "    <tr>\n",
       "      <th>Thailand</th>\n",
       "      <td>7.0</td>\n",
       "      <td>4.0</td>\n",
       "      <td>57.142857</td>\n",
       "    </tr>\n",
       "    <tr>\n",
       "      <th>Moldova</th>\n",
       "      <td>2.0</td>\n",
       "      <td>1.0</td>\n",
       "      <td>50.000000</td>\n",
       "    </tr>\n",
       "    <tr>\n",
       "      <th>Singapore</th>\n",
       "      <td>16.0</td>\n",
       "      <td>8.0</td>\n",
       "      <td>50.000000</td>\n",
       "    </tr>\n",
       "    <tr>\n",
       "      <th>Dominican Republic</th>\n",
       "      <td>9.0</td>\n",
       "      <td>4.0</td>\n",
       "      <td>44.444444</td>\n",
       "    </tr>\n",
       "    <tr>\n",
       "      <th>Costa Rica</th>\n",
       "      <td>3.0</td>\n",
       "      <td>1.0</td>\n",
       "      <td>33.333333</td>\n",
       "    </tr>\n",
       "    <tr>\n",
       "      <th>Taiwan</th>\n",
       "      <td>3.0</td>\n",
       "      <td>1.0</td>\n",
       "      <td>33.333333</td>\n",
       "    </tr>\n",
       "    <tr>\n",
       "      <th>Qatar</th>\n",
       "      <td>3.0</td>\n",
       "      <td>1.0</td>\n",
       "      <td>33.333333</td>\n",
       "    </tr>\n",
       "    <tr>\n",
       "      <th>India</th>\n",
       "      <td>10.0</td>\n",
       "      <td>3.0</td>\n",
       "      <td>30.000000</td>\n",
       "    </tr>\n",
       "    <tr>\n",
       "      <th>Philippines</th>\n",
       "      <td>4.0</td>\n",
       "      <td>1.0</td>\n",
       "      <td>25.000000</td>\n",
       "    </tr>\n",
       "    <tr>\n",
       "      <th>Bulgaria</th>\n",
       "      <td>4.0</td>\n",
       "      <td>1.0</td>\n",
       "      <td>25.000000</td>\n",
       "    </tr>\n",
       "    <tr>\n",
       "      <th>Romania</th>\n",
       "      <td>36.0</td>\n",
       "      <td>7.0</td>\n",
       "      <td>19.444444</td>\n",
       "    </tr>\n",
       "  </tbody>\n",
       "</table>\n",
       "</div>"
      ],
      "text/plain": [
       "                    Confirmed_Cases  Hospitalized  Hospercent\n",
       "Country                                                      \n",
       "Nepal                           0.0           1.0         inf\n",
       "Somalia                         0.0           3.0         inf\n",
       "Pakistan                        0.0           1.0         inf\n",
       "Kosovo                          0.0           1.0         inf\n",
       "Cuba                            1.0           1.0  100.000000\n",
       "Japan                           4.0           4.0  100.000000\n",
       "Guyana                          2.0           2.0  100.000000\n",
       "South Korea                     1.0           1.0  100.000000\n",
       "Cyprus                          5.0           3.0   60.000000\n",
       "Thailand                        7.0           4.0   57.142857\n",
       "Moldova                         2.0           1.0   50.000000\n",
       "Singapore                      16.0           8.0   50.000000\n",
       "Dominican Republic              9.0           4.0   44.444444\n",
       "Costa Rica                      3.0           1.0   33.333333\n",
       "Taiwan                          3.0           1.0   33.333333\n",
       "Qatar                           3.0           1.0   33.333333\n",
       "India                          10.0           3.0   30.000000\n",
       "Philippines                     4.0           1.0   25.000000\n",
       "Bulgaria                        4.0           1.0   25.000000\n",
       "Romania                        36.0           7.0   19.444444"
      ]
     },
     "execution_count": 111,
     "metadata": {},
     "output_type": "execute_result"
    }
   ],
   "source": [
    "casos_mundo.sort_values(by=\"Hospercent\",ascending=False )[[\"Confirmed_Cases\",\"Hospitalized\",\"Hospercent\"]][:20]"
   ]
  },
  {
   "cell_type": "markdown",
   "id": "b355a045-748f-4981-a5ee-faba7ed2f3be",
   "metadata": {},
   "source": [
    "<b style=\"color:#1e6d06\">Observação:</b> Seja pela origem dos dados ou governos não fornecendo as informações necessárias, diversos países estão com percentuais de casos estranhas."
   ]
  },
  {
   "cell_type": "code",
   "execution_count": 119,
   "id": "97a443a9-251f-41f5-939b-204cd4b0196e",
   "metadata": {},
   "outputs": [
    {
     "data": {
      "text/html": [
       "<div>\n",
       "<style scoped>\n",
       "    .dataframe tbody tr th:only-of-type {\n",
       "        vertical-align: middle;\n",
       "    }\n",
       "\n",
       "    .dataframe tbody tr th {\n",
       "        vertical-align: top;\n",
       "    }\n",
       "\n",
       "    .dataframe thead th {\n",
       "        text-align: right;\n",
       "    }\n",
       "</style>\n",
       "<table border=\"1\" class=\"dataframe\">\n",
       "  <thead>\n",
       "    <tr style=\"text-align: right;\">\n",
       "      <th></th>\n",
       "      <th>Confirmed_Cases</th>\n",
       "      <th>Hospitalized</th>\n",
       "      <th>Hospercent</th>\n",
       "    </tr>\n",
       "    <tr>\n",
       "      <th>Country</th>\n",
       "      <th></th>\n",
       "      <th></th>\n",
       "      <th></th>\n",
       "    </tr>\n",
       "  </thead>\n",
       "  <tbody>\n",
       "    <tr>\n",
       "      <th>Brazil</th>\n",
       "      <td>4876.0</td>\n",
       "      <td>4.0</td>\n",
       "      <td>0.082034</td>\n",
       "    </tr>\n",
       "  </tbody>\n",
       "</table>\n",
       "</div>"
      ],
      "text/plain": [
       "         Confirmed_Cases  Hospitalized  Hospercent\n",
       "Country                                           \n",
       "Brazil            4876.0           4.0    0.082034"
      ]
     },
     "execution_count": 119,
     "metadata": {},
     "output_type": "execute_result"
    }
   ],
   "source": [
    "casos_mundo.sort_values(by=\"Hospitalized\",ascending=False )[[\"Confirmed_Cases\",\"Hospitalized\",\"Hospercent\"]][10:11]"
   ]
  },
  {
   "cell_type": "markdown",
   "id": "30ec807a-f003-474e-9087-5d648fbd40a4",
   "metadata": {},
   "source": [
    "<b style=\"color:#1e6d06\">Observação:</b> 0,639% Dos casos confirmados brasileiros estão hospitalizados."
   ]
  },
  {
   "cell_type": "markdown",
   "id": "318fd940-ad51-47b2-8e61-5655ba30f042",
   "metadata": {},
   "source": [
    "<h4>15 Tipos de sintomas mais comuns</h4>"
   ]
  },
  {
   "cell_type": "code",
   "execution_count": 120,
   "id": "65fabe02-fa3b-4c1e-bf07-7e65db8f7b8f",
   "metadata": {},
   "outputs": [
    {
     "data": {
      "text/plain": [
       "genital ulcer lesions               30\n",
       "oral and genital ulcers, fever      17\n",
       "ulcerative lesions                  16\n",
       "Rash                                13\n",
       "vesicular rash                       5\n",
       "skin lesions, ulcerative lesions     5\n",
       "genital ulcers                       5\n",
       "rash                                 3\n",
       "skin lesions                         3\n",
       "rash on the skin                     2\n",
       "encephalitis                         2\n",
       "Fatigue, headache, fever             2\n",
       "blisters                             2\n",
       "fever, rash                          2\n",
       "Skin lesions                         2\n",
       "Name: Symptoms, dtype: int64"
      ]
     },
     "execution_count": 120,
     "metadata": {},
     "output_type": "execute_result"
    }
   ],
   "source": [
    "timeline_casos['Symptoms'].value_counts()[:15]"
   ]
  },
  {
   "cell_type": "markdown",
   "id": "71c47c42-5ed2-4b26-91f8-cf6f2814d708",
   "metadata": {},
   "source": [
    "<h4>Contaminados por gênero</h4>"
   ]
  },
  {
   "cell_type": "code",
   "execution_count": 121,
   "id": "e682a11c-8686-4643-9e01-b160c87c6a63",
   "metadata": {},
   "outputs": [
    {
     "data": {
      "text/plain": [
       "Male      2186\n",
       "Female      14\n",
       "Name: Gender, dtype: int64"
      ]
     },
     "execution_count": 121,
     "metadata": {},
     "output_type": "execute_result"
    }
   ],
   "source": [
    "timeline_casos['Gender'].replace(to_replace = ['female',' female', 'female '], value = \"Female\", inplace=True)\n",
    "timeline_casos['Gender'].replace(to_replace = ['male','  male', 'male '], value = \"Male\", inplace=True)\n",
    "timeline_casos['Gender'].value_counts()"
   ]
  },
  {
   "cell_type": "markdown",
   "id": "2aeb7cc7-df51-48c7-9de7-7ad5eb45c3c6",
   "metadata": {},
   "source": [
    "<b style=\"color:#1e6d06\">Observação:</b> Apenas 14 mulheres foram identificadas como contaminadas"
   ]
  },
  {
   "cell_type": "markdown",
   "id": "dd93c9b2-6a5f-4b64-9642-f93f5ba4a733",
   "metadata": {},
   "source": [
    "<h4>Contaminados por idade</h4>"
   ]
  },
  {
   "cell_type": "code",
   "execution_count": 122,
   "id": "f22b96de-7a03-4c91-a93e-ef59ebbc492f",
   "metadata": {},
   "outputs": [
    {
     "data": {
      "text/plain": [
       "20-69    585\n",
       "15-64    271\n",
       "15-74    240\n",
       "20-64    225\n",
       "20-59    203\n",
       "        ... \n",
       "46-50      1\n",
       "45-50      1\n",
       "24-29      1\n",
       "0-14       1\n",
       "19-59      1\n",
       "Name: Age, Length: 82, dtype: int64"
      ]
     },
     "execution_count": 122,
     "metadata": {},
     "output_type": "execute_result"
    }
   ],
   "source": [
    "timeline_casos['Age'].value_counts()"
   ]
  },
  {
   "cell_type": "markdown",
   "id": "f2df2d5f-9199-4e34-a301-7836c6e17d32",
   "metadata": {},
   "source": [
    "<b style=\"color:#1e6d06\">Observação:</b> Os dados estão fracos, eventualmente no futuro eu faço o tratamento deles."
   ]
  },
  {
   "cell_type": "markdown",
   "id": "c0040b59-8b10-47a3-9075-e7e3d5b55a78",
   "metadata": {},
   "source": [
    "<h4>Pessoas contaminadas por cidades no Brasil</h4>"
   ]
  },
  {
   "cell_type": "code",
   "execution_count": 123,
   "id": "921d8fa9-68ad-4090-9c29-fbe381e77afa",
   "metadata": {},
   "outputs": [
    {
     "data": {
      "text/plain": [
       "Country  City               \n",
       "Brazil   Belo Horizonte         6\n",
       "         Sete Lagoas            2\n",
       "         Rio de Janeiro City    2\n",
       "         Curitiba               2\n",
       "         Vinhedo                1\n",
       "         Sao Paulo              1\n",
       "         Russas                 1\n",
       "         Porto Alegre           1\n",
       "         Natal                  1\n",
       "         Marica                 1\n",
       "         Indaiatuba             1\n",
       "         Fortaleza              1\n",
       "         Cascavel               1\n",
       "Name: City, dtype: int64"
      ]
     },
     "execution_count": 123,
     "metadata": {},
     "output_type": "execute_result"
    }
   ],
   "source": [
    "timeline_casos.where(timeline_casos['Country'] == 'Brazil').groupby(['Country', 'City'])['City'].count().sort_values(ascending=False)"
   ]
  },
  {
   "cell_type": "markdown",
   "id": "a2c5d2c4-bcf9-48fd-85b0-735a1ca2cfc3",
   "metadata": {},
   "source": [
    "<h4>Primeiro caso no Brasil</h4>"
   ]
  },
  {
   "cell_type": "code",
   "execution_count": 82,
   "id": "1c89f912-fb30-4c36-949e-4d1056410a59",
   "metadata": {},
   "outputs": [],
   "source": [
    "timeline_casos = pd.DataFrame(timeline_casos[[\"Country\"]].drop_duplicates())"
   ]
  },
  {
   "cell_type": "code",
   "execution_count": 83,
   "id": "36a52ffc-a521-4681-8272-7eb8c409f78e",
   "metadata": {},
   "outputs": [
    {
     "name": "stdout",
     "output_type": "stream",
     "text": [
      "2022-06-08\n"
     ]
    }
   ],
   "source": [
    "pdata = timeline_casos[timeline_casos[\"Country\"] == \"Brazil\"].index[0]\n",
    "print(pdata)"
   ]
  },
  {
   "cell_type": "markdown",
   "id": "f8ed753f-7465-4163-ae9b-62cf37baf51f",
   "metadata": {},
   "source": [
    "<b style=\"color:#1e6d06\">Observação:</b> O primeiro caso no Brasil foi dia 08 de Junho de 2022."
   ]
  },
  {
   "cell_type": "markdown",
   "id": "4b65491c-bb8f-4170-83aa-61c47dd495f7",
   "metadata": {},
   "source": [
    "<h4>Percentual de Brasileiros contaminados com histórico de viagens</h4>"
   ]
  },
  {
   "cell_type": "code",
   "execution_count": 124,
   "id": "6a462810-5550-4476-895c-80b84ec4e868",
   "metadata": {},
   "outputs": [
    {
     "name": "stdout",
     "output_type": "stream",
     "text": [
      "0.41 %\n"
     ]
    }
   ],
   "source": [
    "x = (casos_mundo[\"Travel_History_Yes\"] / casos_mundo[\"Confirmed_Cases\"]).loc[\"Brazil\"]*100\n",
    "print(round(x,2),'%')"
   ]
  },
  {
   "cell_type": "markdown",
   "id": "39670087-247a-490e-85c8-a22e5006b1a6",
   "metadata": {},
   "source": [
    "<b style=\"color:#1e6d06\">Observação:</b> Apenas 0,43% dos casos confirmados no Brasil são de pessoas com histórico de viagens, o que significa que a transmissão local já se propaga muito mais comparado a quem viaja."
   ]
  },
  {
   "cell_type": "markdown",
   "id": "c6285ac0-f39c-4519-935b-9770f02f64d3",
   "metadata": {
    "tags": []
   },
   "source": [
    "<h4>Criação do Dataframe apenas com os dados do Brasil</h4>"
   ]
  },
  {
   "cell_type": "code",
   "execution_count": 125,
   "id": "cecd9078-68c7-4eb5-b8ef-814fbc3f9872",
   "metadata": {},
   "outputs": [],
   "source": [
    "daily_cases_BR = casos_diarios_mundo.loc[\"Brazil\"]\n",
    "daily_cases_BR = pd.DataFrame(daily_cases_BR[daily_cases_BR!=0])"
   ]
  },
  {
   "cell_type": "markdown",
   "id": "c9b12c63-0310-4728-9175-6b2dc15c0bcc",
   "metadata": {},
   "source": [
    "<h4>Gráfico de barras com histórico de novos casos diários no Brasil</h4>"
   ]
  },
  {
   "cell_type": "code",
   "execution_count": 126,
   "id": "f2d3d327-dbc9-449d-8fe2-caf2c662b315",
   "metadata": {},
   "outputs": [
    {
     "data": {
      "image/png": "[encoded data removed]",
      "text/plain": [
       "<Figure size 1080x432 with 1 Axes>"
      ]
     },
     "metadata": {
      "needs_background": "light"
     },
     "output_type": "display_data"
    }
   ],
   "source": [
    "daily_cases_BR.plot(figsize=(15,6), color = \"green\", kind='line');\n",
    "plt.title(\"Novos casos diários no Brasil\");"
   ]
  },
  {
   "cell_type": "markdown",
   "id": "4c57f187-7ad4-4624-8f84-09050a16cbd8",
   "metadata": {},
   "source": [
    "<a href=\"#indice\"><img src=\"botao-topo.png\" width=\"15%\"/></a>"
   ]
  },
  {
   "cell_type": "markdown",
   "id": "715c0c57-68c9-41f7-a08b-01ac43b594e0",
   "metadata": {},
   "source": [
    "<div id=\"4\"><h2>5 - Previsões com Prophet</h2>\n",
    "Algoritmo criado pelo time de Data Science do Facebook, lida muito bem com séries temporais e sazonalidades.\n",
    "</div>"
   ]
  },
  {
   "cell_type": "markdown",
   "id": "1573e1e9-4ec1-45c8-8072-f0f55449143b",
   "metadata": {},
   "source": [
    "<h4>Criação do Dataframe de acordo com as obrigações do Prophet (Colunas renomeadas para ds e y)</h4>\n",
    "<a href=\"https://facebook.github.io/prophet/docs/quick_start.html\" target=\"_blank\">Fonte</a>"
   ]
  },
  {
   "cell_type": "code",
   "execution_count": 127,
   "id": "e5df554a-c978-4d65-8bee-541b1997a38f",
   "metadata": {},
   "outputs": [
    {
     "data": {
      "text/html": [
       "<div>\n",
       "<style scoped>\n",
       "    .dataframe tbody tr th:only-of-type {\n",
       "        vertical-align: middle;\n",
       "    }\n",
       "\n",
       "    .dataframe tbody tr th {\n",
       "        vertical-align: top;\n",
       "    }\n",
       "\n",
       "    .dataframe thead th {\n",
       "        text-align: right;\n",
       "    }\n",
       "</style>\n",
       "<table border=\"1\" class=\"dataframe\">\n",
       "  <thead>\n",
       "    <tr style=\"text-align: right;\">\n",
       "      <th></th>\n",
       "      <th>ds</th>\n",
       "      <th>y</th>\n",
       "    </tr>\n",
       "  </thead>\n",
       "  <tbody>\n",
       "    <tr>\n",
       "      <th>0</th>\n",
       "      <td>2022-06-08</td>\n",
       "      <td>1</td>\n",
       "    </tr>\n",
       "    <tr>\n",
       "      <th>1</th>\n",
       "      <td>2022-06-11</td>\n",
       "      <td>1</td>\n",
       "    </tr>\n",
       "    <tr>\n",
       "      <th>2</th>\n",
       "      <td>2022-06-12</td>\n",
       "      <td>1</td>\n",
       "    </tr>\n",
       "    <tr>\n",
       "      <th>3</th>\n",
       "      <td>2022-06-14</td>\n",
       "      <td>2</td>\n",
       "    </tr>\n",
       "    <tr>\n",
       "      <th>4</th>\n",
       "      <td>2022-06-16</td>\n",
       "      <td>1</td>\n",
       "    </tr>\n",
       "  </tbody>\n",
       "</table>\n",
       "</div>"
      ],
      "text/plain": [
       "          ds  y\n",
       "0 2022-06-08  1\n",
       "1 2022-06-11  1\n",
       "2 2022-06-12  1\n",
       "3 2022-06-14  2\n",
       "4 2022-06-16  1"
      ]
     },
     "execution_count": 127,
     "metadata": {},
     "output_type": "execute_result"
    }
   ],
   "source": [
    "data = {'ds':pd.to_datetime(daily_cases_BR.index), 'y':daily_cases_BR[\"Brazil\"].values}\n",
    "df = pd.DataFrame(data)\n",
    "df.head()"
   ]
  },
  {
   "cell_type": "markdown",
   "id": "023d5309-c43b-42b7-a1d0-c7da894175dc",
   "metadata": {},
   "source": [
    "<h4>Instanciação do Prophet e fitting</h4>"
   ]
  },
  {
   "cell_type": "code",
   "execution_count": 128,
   "id": "cb53e86a-07a7-457d-a938-1f80b14353f1",
   "metadata": {},
   "outputs": [
    {
     "name": "stderr",
     "output_type": "stream",
     "text": [
      "13:23:17 - cmdstanpy - INFO - Chain [1] start processing\n",
      "13:23:17 - cmdstanpy - INFO - Chain [1] done processing\n"
     ]
    },
    {
     "data": {
      "text/plain": [
       "<prophet.forecaster.Prophet at 0x7fd0a0c57130>"
      ]
     },
     "execution_count": 128,
     "metadata": {},
     "output_type": "execute_result"
    }
   ],
   "source": [
    "m = Prophet()\n",
    "m.fit(df)"
   ]
  },
  {
   "cell_type": "markdown",
   "id": "e95810be-b388-420b-9dd2-a869786ea1ed",
   "metadata": {},
   "source": [
    "<div id=\"41\"><h3>Previsão de novos casos diários - 90 Dias</h3></div>"
   ]
  },
  {
   "cell_type": "code",
   "execution_count": 129,
   "id": "4c7cd9fe-43fe-4e20-9d02-58acc3f33b77",
   "metadata": {},
   "outputs": [],
   "source": [
    "future = m.make_future_dataframe(periods=90)\n",
    "forecast = m.predict(future)"
   ]
  },
  {
   "cell_type": "code",
   "execution_count": 130,
   "id": "03169e85-b1e3-4d7b-a301-efd62f9ea0eb",
   "metadata": {},
   "outputs": [
    {
     "data": {
      "text/html": [
       "<div>\n",
       "<style scoped>\n",
       "    .dataframe tbody tr th:only-of-type {\n",
       "        vertical-align: middle;\n",
       "    }\n",
       "\n",
       "    .dataframe tbody tr th {\n",
       "        vertical-align: top;\n",
       "    }\n",
       "\n",
       "    .dataframe thead th {\n",
       "        text-align: right;\n",
       "    }\n",
       "</style>\n",
       "<table border=\"1\" class=\"dataframe\">\n",
       "  <thead>\n",
       "    <tr style=\"text-align: right;\">\n",
       "      <th></th>\n",
       "      <th>ds</th>\n",
       "      <th>yhat</th>\n",
       "      <th>yhat_lower</th>\n",
       "      <th>yhat_upper</th>\n",
       "    </tr>\n",
       "  </thead>\n",
       "  <tbody>\n",
       "    <tr>\n",
       "      <th>0</th>\n",
       "      <td>2022-06-08</td>\n",
       "      <td>-15.501192</td>\n",
       "      <td>-63.363290</td>\n",
       "      <td>36.460295</td>\n",
       "    </tr>\n",
       "    <tr>\n",
       "      <th>1</th>\n",
       "      <td>2022-06-11</td>\n",
       "      <td>-31.932137</td>\n",
       "      <td>-78.789564</td>\n",
       "      <td>16.040553</td>\n",
       "    </tr>\n",
       "    <tr>\n",
       "      <th>2</th>\n",
       "      <td>2022-06-12</td>\n",
       "      <td>-61.927176</td>\n",
       "      <td>-109.209460</td>\n",
       "      <td>-7.870054</td>\n",
       "    </tr>\n",
       "    <tr>\n",
       "      <th>3</th>\n",
       "      <td>2022-06-14</td>\n",
       "      <td>-7.516875</td>\n",
       "      <td>-59.321418</td>\n",
       "      <td>39.125486</td>\n",
       "    </tr>\n",
       "    <tr>\n",
       "      <th>4</th>\n",
       "      <td>2022-06-16</td>\n",
       "      <td>-24.620323</td>\n",
       "      <td>-72.665990</td>\n",
       "      <td>26.420317</td>\n",
       "    </tr>\n",
       "  </tbody>\n",
       "</table>\n",
       "</div>"
      ],
      "text/plain": [
       "          ds       yhat  yhat_lower  yhat_upper\n",
       "0 2022-06-08 -15.501192  -63.363290   36.460295\n",
       "1 2022-06-11 -31.932137  -78.789564   16.040553\n",
       "2 2022-06-12 -61.927176 -109.209460   -7.870054\n",
       "3 2022-06-14  -7.516875  -59.321418   39.125486\n",
       "4 2022-06-16 -24.620323  -72.665990   26.420317"
      ]
     },
     "execution_count": 130,
     "metadata": {},
     "output_type": "execute_result"
    }
   ],
   "source": [
    "forecast[['ds', 'yhat', 'yhat_lower', 'yhat_upper']].head()"
   ]
  },
  {
   "cell_type": "markdown",
   "id": "59e0e267-2dbf-4d89-8a2d-b4ffe8d608b9",
   "metadata": {},
   "source": [
    "<b style=\"color:#1e6d06\">Observação:</b> Gerou corretamente do início"
   ]
  },
  {
   "cell_type": "code",
   "execution_count": 131,
   "id": "81a76bd3-c662-4bda-ae84-5e1c937982b6",
   "metadata": {},
   "outputs": [
    {
     "data": {
      "text/html": [
       "<div>\n",
       "<style scoped>\n",
       "    .dataframe tbody tr th:only-of-type {\n",
       "        vertical-align: middle;\n",
       "    }\n",
       "\n",
       "    .dataframe tbody tr th {\n",
       "        vertical-align: top;\n",
       "    }\n",
       "\n",
       "    .dataframe thead th {\n",
       "        text-align: right;\n",
       "    }\n",
       "</style>\n",
       "<table border=\"1\" class=\"dataframe\">\n",
       "  <thead>\n",
       "    <tr style=\"text-align: right;\">\n",
       "      <th></th>\n",
       "      <th>ds</th>\n",
       "      <th>yhat</th>\n",
       "      <th>yhat_lower</th>\n",
       "      <th>yhat_upper</th>\n",
       "    </tr>\n",
       "  </thead>\n",
       "  <tbody>\n",
       "    <tr>\n",
       "      <th>152</th>\n",
       "      <td>2022-11-24</td>\n",
       "      <td>336.127825</td>\n",
       "      <td>288.250876</td>\n",
       "      <td>388.077904</td>\n",
       "    </tr>\n",
       "    <tr>\n",
       "      <th>153</th>\n",
       "      <td>2022-11-25</td>\n",
       "      <td>403.257626</td>\n",
       "      <td>352.321170</td>\n",
       "      <td>453.718873</td>\n",
       "    </tr>\n",
       "    <tr>\n",
       "      <th>154</th>\n",
       "      <td>2022-11-26</td>\n",
       "      <td>344.500711</td>\n",
       "      <td>295.947742</td>\n",
       "      <td>392.520012</td>\n",
       "    </tr>\n",
       "    <tr>\n",
       "      <th>155</th>\n",
       "      <td>2022-11-27</td>\n",
       "      <td>314.505673</td>\n",
       "      <td>266.170649</td>\n",
       "      <td>363.092367</td>\n",
       "    </tr>\n",
       "    <tr>\n",
       "      <th>156</th>\n",
       "      <td>2022-11-28</td>\n",
       "      <td>364.592769</td>\n",
       "      <td>314.641417</td>\n",
       "      <td>413.353584</td>\n",
       "    </tr>\n",
       "  </tbody>\n",
       "</table>\n",
       "</div>"
      ],
      "text/plain": [
       "            ds        yhat  yhat_lower  yhat_upper\n",
       "152 2022-11-24  336.127825  288.250876  388.077904\n",
       "153 2022-11-25  403.257626  352.321170  453.718873\n",
       "154 2022-11-26  344.500711  295.947742  392.520012\n",
       "155 2022-11-27  314.505673  266.170649  363.092367\n",
       "156 2022-11-28  364.592769  314.641417  413.353584"
      ]
     },
     "execution_count": 131,
     "metadata": {},
     "output_type": "execute_result"
    }
   ],
   "source": [
    "forecast[['ds', 'yhat', 'yhat_lower', 'yhat_upper']].tail()"
   ]
  },
  {
   "cell_type": "markdown",
   "id": "4e3a9b80-07c4-4592-aee8-e01e988090bb",
   "metadata": {},
   "source": [
    "<b style=\"color:#1e6d06\">Observação:</b> E também até o final dos 90 dias"
   ]
  },
  {
   "cell_type": "markdown",
   "id": "4133068d-b5e9-45ca-b6a5-acbc373d0c98",
   "metadata": {},
   "source": [
    "<h4>Gráfico de previsão</h4>"
   ]
  },
  {
   "cell_type": "code",
   "execution_count": 132,
   "id": "0ccf25c3-a05c-4356-8ae4-63b34e5232d3",
   "metadata": {},
   "outputs": [
    {
     "data": {
      "application/vnd.plotly.v1+json": {
       "config": {
        "plotlyServerURL": "https://plot.ly"
       },
       "data": [
        {
         "marker": {
          "color": "black",
          "size": 4
         },
         "mode": "markers",
         "name": "Actual",
         "type": "scatter",
         "x": [
          "2022-06-08T00:00:00",
          "2022-06-11T00:00:00",
          "2022-06-12T00:00:00",
          "2022-06-14T00:00:00",
          "2022-06-16T00:00:00",
          "2022-06-17T00:00:00",
          "2022-06-19T00:00:00",
          "2022-06-21T00:00:00",
          "2022-06-22T00:00:00",
          "2022-06-23T00:00:00",
          "2022-06-24T00:00:00",
          "2022-06-25T00:00:00",
          "2022-06-26T00:00:00",
          "2022-06-28T00:00:00",
          "2022-06-29T00:00:00",
          "2022-06-30T00:00:00",
          "2022-07-01T00:00:00",
          "2022-07-02T00:00:00",
          "2022-07-03T00:00:00",
          "2022-07-04T00:00:00",
          "2022-07-05T00:00:00",
          "2022-07-06T00:00:00",
          "2022-07-07T00:00:00",
          "2022-07-08T00:00:00",
          "2022-07-09T00:00:00",
          "2022-07-11T00:00:00",
          "2022-07-12T00:00:00",
          "2022-07-13T00:00:00",
          "2022-07-14T00:00:00",
          "2022-07-19T00:00:00",
          "2022-07-20T00:00:00",
          "2022-07-21T00:00:00",
          "2022-07-22T00:00:00",
          "2022-07-25T00:00:00",
          "2022-07-26T00:00:00",
          "2022-07-27T00:00:00",
          "2022-07-28T00:00:00",
          "2022-07-29T00:00:00",
          "2022-07-30T00:00:00",
          "2022-07-31T00:00:00",
          "2022-08-01T00:00:00",
          "2022-08-02T00:00:00",
          "2022-08-03T00:00:00",
          "2022-08-04T00:00:00",
          "2022-08-05T00:00:00",
          "2022-08-06T00:00:00",
          "2022-08-07T00:00:00",
          "2022-08-08T00:00:00",
          "2022-08-09T00:00:00",
          "2022-08-10T00:00:00",
          "2022-08-12T00:00:00",
          "2022-08-13T00:00:00",
          "2022-08-14T00:00:00",
          "2022-08-15T00:00:00",
          "2022-08-16T00:00:00",
          "2022-08-17T00:00:00",
          "2022-08-18T00:00:00",
          "2022-08-19T00:00:00",
          "2022-08-20T00:00:00",
          "2022-08-21T00:00:00",
          "2022-08-22T00:00:00",
          "2022-08-23T00:00:00",
          "2022-08-24T00:00:00",
          "2022-08-25T00:00:00",
          "2022-08-26T00:00:00",
          "2022-08-29T00:00:00",
          "2022-08-30T00:00:00"
         ],
         "y": [
          1,
          1,
          1,
          2,
          1,
          1,
          1,
          1,
          2,
          5,
          1,
          2,
          1,
          1,
          16,
          12,
          15,
          12,
          2,
          2,
          26,
          36,
          30,
          32,
          14,
          10,
          38,
          42,
          39,
          101,
          143,
          13,
          90,
          115,
          56,
          112,
          89,
          193,
          84,
          27,
          105,
          128,
          118,
          139,
          144,
          104,
          23,
          162,
          122,
          43,
          288,
          102,
          45,
          92,
          198,
          176,
          91,
          205,
          100,
          32,
          109,
          88,
          160,
          72,
          256,
          220,
          184
         ]
        },
        {
         "hoverinfo": "skip",
         "line": {
          "width": 0
         },
         "mode": "lines",
         "type": "scatter",
         "x": [
          "2022-06-08T00:00:00",
          "2022-06-11T00:00:00",
          "2022-06-12T00:00:00",
          "2022-06-14T00:00:00",
          "2022-06-16T00:00:00",
          "2022-06-17T00:00:00",
          "2022-06-19T00:00:00",
          "2022-06-21T00:00:00",
          "2022-06-22T00:00:00",
          "2022-06-23T00:00:00",
          "2022-06-24T00:00:00",
          "2022-06-25T00:00:00",
          "2022-06-26T00:00:00",
          "2022-06-28T00:00:00",
          "2022-06-29T00:00:00",
          "2022-06-30T00:00:00",
          "2022-07-01T00:00:00",
          "2022-07-02T00:00:00",
          "2022-07-03T00:00:00",
          "2022-07-04T00:00:00",
          "2022-07-05T00:00:00",
          "2022-07-06T00:00:00",
          "2022-07-07T00:00:00",
          "2022-07-08T00:00:00",
          "2022-07-09T00:00:00",
          "2022-07-11T00:00:00",
          "2022-07-12T00:00:00",
          "2022-07-13T00:00:00",
          "2022-07-14T00:00:00",
          "2022-07-19T00:00:00",
          "2022-07-20T00:00:00",
          "2022-07-21T00:00:00",
          "2022-07-22T00:00:00",
          "2022-07-25T00:00:00",
          "2022-07-26T00:00:00",
          "2022-07-27T00:00:00",
          "2022-07-28T00:00:00",
          "2022-07-29T00:00:00",
          "2022-07-30T00:00:00",
          "2022-07-31T00:00:00",
          "2022-08-01T00:00:00",
          "2022-08-02T00:00:00",
          "2022-08-03T00:00:00",
          "2022-08-04T00:00:00",
          "2022-08-05T00:00:00",
          "2022-08-06T00:00:00",
          "2022-08-07T00:00:00",
          "2022-08-08T00:00:00",
          "2022-08-09T00:00:00",
          "2022-08-10T00:00:00",
          "2022-08-12T00:00:00",
          "2022-08-13T00:00:00",
          "2022-08-14T00:00:00",
          "2022-08-15T00:00:00",
          "2022-08-16T00:00:00",
          "2022-08-17T00:00:00",
          "2022-08-18T00:00:00",
          "2022-08-19T00:00:00",
          "2022-08-20T00:00:00",
          "2022-08-21T00:00:00",
          "2022-08-22T00:00:00",
          "2022-08-23T00:00:00",
          "2022-08-24T00:00:00",
          "2022-08-25T00:00:00",
          "2022-08-26T00:00:00",
          "2022-08-29T00:00:00",
          "2022-08-30T00:00:00",
          "2022-08-31T00:00:00",
          "2022-09-01T00:00:00",
          "2022-09-02T00:00:00",
          "2022-09-03T00:00:00",
          "2022-09-04T00:00:00",
          "2022-09-05T00:00:00",
          "2022-09-06T00:00:00",
          "2022-09-07T00:00:00",
          "2022-09-08T00:00:00",
          "2022-09-09T00:00:00",
          "2022-09-10T00:00:00",
          "2022-09-11T00:00:00",
          "2022-09-12T00:00:00",
          "2022-09-13T00:00:00",
          "2022-09-14T00:00:00",
          "2022-09-15T00:00:00",
          "2022-09-16T00:00:00",
          "2022-09-17T00:00:00",
          "2022-09-18T00:00:00",
          "2022-09-19T00:00:00",
          "2022-09-20T00:00:00",
          "2022-09-21T00:00:00",
          "2022-09-22T00:00:00",
          "2022-09-23T00:00:00",
          "2022-09-24T00:00:00",
          "2022-09-25T00:00:00",
          "2022-09-26T00:00:00",
          "2022-09-27T00:00:00",
          "2022-09-28T00:00:00",
          "2022-09-29T00:00:00",
          "2022-09-30T00:00:00",
          "2022-10-01T00:00:00",
          "2022-10-02T00:00:00",
          "2022-10-03T00:00:00",
          "2022-10-04T00:00:00",
          "2022-10-05T00:00:00",
          "2022-10-06T00:00:00",
          "2022-10-07T00:00:00",
          "2022-10-08T00:00:00",
          "2022-10-09T00:00:00",
          "2022-10-10T00:00:00",
          "2022-10-11T00:00:00",
          "2022-10-12T00:00:00",
          "2022-10-13T00:00:00",
          "2022-10-14T00:00:00",
          "2022-10-15T00:00:00",
          "2022-10-16T00:00:00",
          "2022-10-17T00:00:00",
          "2022-10-18T00:00:00",
          "2022-10-19T00:00:00",
          "2022-10-20T00:00:00",
          "2022-10-21T00:00:00",
          "2022-10-22T00:00:00",
          "2022-10-23T00:00:00",
          "2022-10-24T00:00:00",
          "2022-10-25T00:00:00",
          "2022-10-26T00:00:00",
          "2022-10-27T00:00:00",
          "2022-10-28T00:00:00",
          "2022-10-29T00:00:00",
          "2022-10-30T00:00:00",
          "2022-10-31T00:00:00",
          "2022-11-01T00:00:00",
          "2022-11-02T00:00:00",
          "2022-11-03T00:00:00",
          "2022-11-04T00:00:00",
          "2022-11-05T00:00:00",
          "2022-11-06T00:00:00",
          "2022-11-07T00:00:00",
          "2022-11-08T00:00:00",
          "2022-11-09T00:00:00",
          "2022-11-10T00:00:00",
          "2022-11-11T00:00:00",
          "2022-11-12T00:00:00",
          "2022-11-13T00:00:00",
          "2022-11-14T00:00:00",
          "2022-11-15T00:00:00",
          "2022-11-16T00:00:00",
          "2022-11-17T00:00:00",
          "2022-11-18T00:00:00",
          "2022-11-19T00:00:00",
          "2022-11-20T00:00:00",
          "2022-11-21T00:00:00",
          "2022-11-22T00:00:00",
          "2022-11-23T00:00:00",
          "2022-11-24T00:00:00",
          "2022-11-25T00:00:00",
          "2022-11-26T00:00:00",
          "2022-11-27T00:00:00",
          "2022-11-28T00:00:00"
         ],
         "y": [
          -63.36328964843759,
          -78.78956423399573,
          -109.20946026524447,
          -59.321418037852176,
          -72.66598952652754,
          -9.55204388085647,
          -92.71949194233166,
          -41.23815944745076,
          -36.78466680466836,
          -57.46179993335941,
          7.869977455599547,
          -50.886830042249684,
          -79.61249304569117,
          -25.03769720014825,
          -17.503986523847786,
          -43.558046252219185,
          23.817680401712412,
          -33.12721846421571,
          -64.14356656613087,
          -14.259563690839736,
          -8.358358427060912,
          -2.1911521841674046,
          -26.41307865047859,
          40.304435197014435,
          -21.770445033394086,
          -0.3567715286975059,
          8.569898743185517,
          13.98185827204093,
          -10.329373046200768,
          22.950719777775674,
          28.019167127324383,
          7.56064705195451,
          72.10990604403928,
          33.818128896218965,
          37.2217013855534,
          42.68320111559452,
          20.312451566471694,
          86.49329082831308,
          29.76992651293878,
          -3.410009653529608,
          49.2442597834435,
          52.07810196960953,
          65.93690831232287,
          38.61062901737161,
          103.95177938756011,
          43.7834685771566,
          16.987954508063112,
          68.38553293512946,
          66.4528066092639,
          75.01333492773479,
          116.76116938104235,
          60.657100863217565,
          28.29339754402341,
          80.00791979120437,
          85.88311478017647,
          93.59727802637535,
          65.8921095358052,
          134.21620945259795,
          75.39133830369448,
          46.126595438526785,
          97.45762322318353,
          99.26624808177542,
          108.3172398367733,
          84.14528736201233,
          149.0533882381494,
          110.29001449346507,
          116.90397935357662,
          122.84591945500596,
          98.33763590283894,
          166.5604007064826,
          106.04648105133735,
          77.49981558920135,
          126.54209621158151,
          129.44859248394403,
          139.60705418683554,
          114.23841560069083,
          178.5226169991297,
          122.96487098900326,
          92.51037769585545,
          141.6931949834297,
          147.62415288451285,
          152.64369513937964,
          132.4120141795781,
          195.82813823369844,
          136.3375982920257,
          106.5092398440205,
          159.2588435488537,
          160.19074254574974,
          168.1864199248669,
          143.10898252873048,
          212.07788641767493,
          155.01509671605834,
          121.55827292557152,
          172.6226486340899,
          177.72351173002718,
          186.5500840999369,
          165.5400414887471,
          228.231816598604,
          167.9056154694585,
          139.42276902701008,
          190.48934923339857,
          194.8898778589052,
          201.20600177326943,
          178.22554293461977,
          242.6355468451253,
          185.35924770359787,
          155.71112573608818,
          205.0577303411004,
          211.00212369646655,
          218.50412692635305,
          193.4754979541139,
          261.9024292508073,
          202.6829208192703,
          168.84011730128114,
          222.34273794493583,
          227.4274756573703,
          231.26085304404185,
          208.05189965967483,
          274.1880351922195,
          217.57874861558932,
          186.58739354663996,
          237.74253058773658,
          238.7482913237358,
          248.55950043580071,
          221.9050939522757,
          291.0632459279541,
          232.21515252584143,
          204.81390405845448,
          255.66444193149064,
          254.54010499721505,
          264.34023809954635,
          240.4557672743526,
          309.3062019659848,
          251.91361204987072,
          218.63043485479923,
          265.0396340986568,
          274.3465748518804,
          279.4781915292832,
          255.68894305508726,
          322.71691681201287,
          260.8521771377232,
          233.79792776370726,
          283.8568643399086,
          290.23653647561946,
          298.5301475413723,
          269.0727543093553,
          343.4671537252556,
          285.2633487185651,
          250.01789983916834,
          306.01752158456253,
          303.5558827125829,
          311.2331143467523,
          288.25087590708875,
          352.3211699647016,
          295.94774182345753,
          266.170648905153,
          314.6414169116519
         ]
        },
        {
         "fill": "tonexty",
         "fillcolor": "rgba(0, 114, 178, 0.2)",
         "line": {
          "color": "#0072B2",
          "width": 2
         },
         "mode": "lines",
         "name": "Predicted",
         "type": "scatter",
         "x": [
          "2022-06-08T00:00:00",
          "2022-06-11T00:00:00",
          "2022-06-12T00:00:00",
          "2022-06-14T00:00:00",
          "2022-06-16T00:00:00",
          "2022-06-17T00:00:00",
          "2022-06-19T00:00:00",
          "2022-06-21T00:00:00",
          "2022-06-22T00:00:00",
          "2022-06-23T00:00:00",
          "2022-06-24T00:00:00",
          "2022-06-25T00:00:00",
          "2022-06-26T00:00:00",
          "2022-06-28T00:00:00",
          "2022-06-29T00:00:00",
          "2022-06-30T00:00:00",
          "2022-07-01T00:00:00",
          "2022-07-02T00:00:00",
          "2022-07-03T00:00:00",
          "2022-07-04T00:00:00",
          "2022-07-05T00:00:00",
          "2022-07-06T00:00:00",
          "2022-07-07T00:00:00",
          "2022-07-08T00:00:00",
          "2022-07-09T00:00:00",
          "2022-07-11T00:00:00",
          "2022-07-12T00:00:00",
          "2022-07-13T00:00:00",
          "2022-07-14T00:00:00",
          "2022-07-19T00:00:00",
          "2022-07-20T00:00:00",
          "2022-07-21T00:00:00",
          "2022-07-22T00:00:00",
          "2022-07-25T00:00:00",
          "2022-07-26T00:00:00",
          "2022-07-27T00:00:00",
          "2022-07-28T00:00:00",
          "2022-07-29T00:00:00",
          "2022-07-30T00:00:00",
          "2022-07-31T00:00:00",
          "2022-08-01T00:00:00",
          "2022-08-02T00:00:00",
          "2022-08-03T00:00:00",
          "2022-08-04T00:00:00",
          "2022-08-05T00:00:00",
          "2022-08-06T00:00:00",
          "2022-08-07T00:00:00",
          "2022-08-08T00:00:00",
          "2022-08-09T00:00:00",
          "2022-08-10T00:00:00",
          "2022-08-12T00:00:00",
          "2022-08-13T00:00:00",
          "2022-08-14T00:00:00",
          "2022-08-15T00:00:00",
          "2022-08-16T00:00:00",
          "2022-08-17T00:00:00",
          "2022-08-18T00:00:00",
          "2022-08-19T00:00:00",
          "2022-08-20T00:00:00",
          "2022-08-21T00:00:00",
          "2022-08-22T00:00:00",
          "2022-08-23T00:00:00",
          "2022-08-24T00:00:00",
          "2022-08-25T00:00:00",
          "2022-08-26T00:00:00",
          "2022-08-29T00:00:00",
          "2022-08-30T00:00:00",
          "2022-08-31T00:00:00",
          "2022-09-01T00:00:00",
          "2022-09-02T00:00:00",
          "2022-09-03T00:00:00",
          "2022-09-04T00:00:00",
          "2022-09-05T00:00:00",
          "2022-09-06T00:00:00",
          "2022-09-07T00:00:00",
          "2022-09-08T00:00:00",
          "2022-09-09T00:00:00",
          "2022-09-10T00:00:00",
          "2022-09-11T00:00:00",
          "2022-09-12T00:00:00",
          "2022-09-13T00:00:00",
          "2022-09-14T00:00:00",
          "2022-09-15T00:00:00",
          "2022-09-16T00:00:00",
          "2022-09-17T00:00:00",
          "2022-09-18T00:00:00",
          "2022-09-19T00:00:00",
          "2022-09-20T00:00:00",
          "2022-09-21T00:00:00",
          "2022-09-22T00:00:00",
          "2022-09-23T00:00:00",
          "2022-09-24T00:00:00",
          "2022-09-25T00:00:00",
          "2022-09-26T00:00:00",
          "2022-09-27T00:00:00",
          "2022-09-28T00:00:00",
          "2022-09-29T00:00:00",
          "2022-09-30T00:00:00",
          "2022-10-01T00:00:00",
          "2022-10-02T00:00:00",
          "2022-10-03T00:00:00",
          "2022-10-04T00:00:00",
          "2022-10-05T00:00:00",
          "2022-10-06T00:00:00",
          "2022-10-07T00:00:00",
          "2022-10-08T00:00:00",
          "2022-10-09T00:00:00",
          "2022-10-10T00:00:00",
          "2022-10-11T00:00:00",
          "2022-10-12T00:00:00",
          "2022-10-13T00:00:00",
          "2022-10-14T00:00:00",
          "2022-10-15T00:00:00",
          "2022-10-16T00:00:00",
          "2022-10-17T00:00:00",
          "2022-10-18T00:00:00",
          "2022-10-19T00:00:00",
          "2022-10-20T00:00:00",
          "2022-10-21T00:00:00",
          "2022-10-22T00:00:00",
          "2022-10-23T00:00:00",
          "2022-10-24T00:00:00",
          "2022-10-25T00:00:00",
          "2022-10-26T00:00:00",
          "2022-10-27T00:00:00",
          "2022-10-28T00:00:00",
          "2022-10-29T00:00:00",
          "2022-10-30T00:00:00",
          "2022-10-31T00:00:00",
          "2022-11-01T00:00:00",
          "2022-11-02T00:00:00",
          "2022-11-03T00:00:00",
          "2022-11-04T00:00:00",
          "2022-11-05T00:00:00",
          "2022-11-06T00:00:00",
          "2022-11-07T00:00:00",
          "2022-11-08T00:00:00",
          "2022-11-09T00:00:00",
          "2022-11-10T00:00:00",
          "2022-11-11T00:00:00",
          "2022-11-12T00:00:00",
          "2022-11-13T00:00:00",
          "2022-11-14T00:00:00",
          "2022-11-15T00:00:00",
          "2022-11-16T00:00:00",
          "2022-11-17T00:00:00",
          "2022-11-18T00:00:00",
          "2022-11-19T00:00:00",
          "2022-11-20T00:00:00",
          "2022-11-21T00:00:00",
          "2022-11-22T00:00:00",
          "2022-11-23T00:00:00",
          "2022-11-24T00:00:00",
          "2022-11-25T00:00:00",
          "2022-11-26T00:00:00",
          "2022-11-27T00:00:00",
          "2022-11-28T00:00:00"
         ],
         "y": [
          -15.50119180415486,
          -31.932137393002513,
          -61.92717577231454,
          -7.516875047729894,
          -24.62032296943674,
          42.50947752983012,
          -46.2424771720162,
          8.167823552344288,
          15.86820539766201,
          -8.935624369305248,
          58.1941761303122,
          -0.5627401909232717,
          -30.557778570218257,
          23.852522154562106,
          31.552904000076495,
          6.749074232942645,
          73.8788747324725,
          15.121958410823916,
          -14.873079416056662,
          35.214016975480476,
          39.537222414742814,
          47.23760481347982,
          22.43377559942197,
          89.5635766521324,
          30.806660883871572,
          50.89871944958519,
          55.221924889643425,
          62.92230728890013,
          38.11847807554972,
          70.90662736721322,
          78.60700976668292,
          53.80318055366563,
          120.93298160724923,
          82.26812440693026,
          86.59132984756475,
          94.29171224745512,
          69.4878830347589,
          136.6176840887633,
          77.8607683216851,
          47.86573049643989,
          97.95282688928499,
          102.27603232971691,
          109.97641472953441,
          85.1725855167079,
          152.30238657038203,
          93.54547080319409,
          63.5504329778174,
          113.63752937095566,
          117.96073481143696,
          125.66111721108959,
          167.9870890519048,
          109.23017328477295,
          79.23513545965952,
          129.3222318528301,
          133.64543729353656,
          141.34581969368608,
          116.54199048122814,
          183.67179153544708,
          124.91487576851328,
          94.91983794360898,
          145.00693433667274,
          149.3301397776749,
          157.03052217779435,
          132.22669296538427,
          199.35649401963641,
          160.69163682086008,
          165.0148422617662,
          172.71522466187474,
          147.9113954495404,
          215.04119650382574,
          156.2842807369722,
          126.2892429119257,
          176.3763393050474,
          180.6995447459418,
          188.39992714601098,
          163.59609793350077,
          230.72589898783644,
          171.96898322107361,
          141.97394539601441,
          192.0610417892347,
          196.38424722994876,
          204.08462963018542,
          179.28080041765693,
          246.4106014720258,
          187.6536857050481,
          157.65864788009537,
          207.7457442730774,
          212.06894971412436,
          219.7693321142937,
          194.96550290181307,
          262.09530395612586,
          203.33838818927634,
          173.34335036432336,
          223.4304467573888,
          227.7536521983,
          235.454034598402,
          210.6502053859692,
          277.7800064402185,
          219.0230906732509,
          189.02805284827284,
          239.11514924145197,
          243.43835468239124,
          251.1387370826044,
          226.33490787009123,
          293.46470892431853,
          234.70779315722547,
          204.71275533250082,
          254.7998517256393,
          259.1230571665296,
          266.8234395666848,
          242.01961035428144,
          309.1494114085079,
          250.39249564170981,
          220.3974578165818,
          270.4845542098267,
          274.8077596506209,
          282.50814205082094,
          257.7043128384035,
          324.83411389260783,
          266.0771981256844,
          236.08216030080987,
          286.169256694014,
          290.4924621347965,
          298.1928445349013,
          273.38901532239794,
          340.51881637670795,
          281.76190060978576,
          251.7668627847592,
          301.85395917807716,
          306.17716461885044,
          313.8775470189818,
          289.0737178065541,
          356.2035188608079,
          297.4466030938871,
          267.4515652689872,
          317.5386616620439,
          321.8618671030261,
          329.56224950309,
          304.7584202907102,
          371.88822134499725,
          313.1313055782446,
          283.1362677532153,
          333.2233641462313,
          337.5465695871174,
          345.24695198719826,
          320.44312277483226,
          387.5729238290006,
          328.81600806221917,
          298.8209702371647,
          348.9080666304186,
          353.2312720712087,
          360.9316544714007,
          336.12782525895443,
          403.25762631319,
          344.50071054632053,
          314.5056727213927,
          364.5927691142613
         ]
        },
        {
         "fill": "tonexty",
         "fillcolor": "rgba(0, 114, 178, 0.2)",
         "hoverinfo": "skip",
         "line": {
          "width": 0
         },
         "mode": "lines",
         "type": "scatter",
         "x": [
          "2022-06-08T00:00:00",
          "2022-06-11T00:00:00",
          "2022-06-12T00:00:00",
          "2022-06-14T00:00:00",
          "2022-06-16T00:00:00",
          "2022-06-17T00:00:00",
          "2022-06-19T00:00:00",
          "2022-06-21T00:00:00",
          "2022-06-22T00:00:00",
          "2022-06-23T00:00:00",
          "2022-06-24T00:00:00",
          "2022-06-25T00:00:00",
          "2022-06-26T00:00:00",
          "2022-06-28T00:00:00",
          "2022-06-29T00:00:00",
          "2022-06-30T00:00:00",
          "2022-07-01T00:00:00",
          "2022-07-02T00:00:00",
          "2022-07-03T00:00:00",
          "2022-07-04T00:00:00",
          "2022-07-05T00:00:00",
          "2022-07-06T00:00:00",
          "2022-07-07T00:00:00",
          "2022-07-08T00:00:00",
          "2022-07-09T00:00:00",
          "2022-07-11T00:00:00",
          "2022-07-12T00:00:00",
          "2022-07-13T00:00:00",
          "2022-07-14T00:00:00",
          "2022-07-19T00:00:00",
          "2022-07-20T00:00:00",
          "2022-07-21T00:00:00",
          "2022-07-22T00:00:00",
          "2022-07-25T00:00:00",
          "2022-07-26T00:00:00",
          "2022-07-27T00:00:00",
          "2022-07-28T00:00:00",
          "2022-07-29T00:00:00",
          "2022-07-30T00:00:00",
          "2022-07-31T00:00:00",
          "2022-08-01T00:00:00",
          "2022-08-02T00:00:00",
          "2022-08-03T00:00:00",
          "2022-08-04T00:00:00",
          "2022-08-05T00:00:00",
          "2022-08-06T00:00:00",
          "2022-08-07T00:00:00",
          "2022-08-08T00:00:00",
          "2022-08-09T00:00:00",
          "2022-08-10T00:00:00",
          "2022-08-12T00:00:00",
          "2022-08-13T00:00:00",
          "2022-08-14T00:00:00",
          "2022-08-15T00:00:00",
          "2022-08-16T00:00:00",
          "2022-08-17T00:00:00",
          "2022-08-18T00:00:00",
          "2022-08-19T00:00:00",
          "2022-08-20T00:00:00",
          "2022-08-21T00:00:00",
          "2022-08-22T00:00:00",
          "2022-08-23T00:00:00",
          "2022-08-24T00:00:00",
          "2022-08-25T00:00:00",
          "2022-08-26T00:00:00",
          "2022-08-29T00:00:00",
          "2022-08-30T00:00:00",
          "2022-08-31T00:00:00",
          "2022-09-01T00:00:00",
          "2022-09-02T00:00:00",
          "2022-09-03T00:00:00",
          "2022-09-04T00:00:00",
          "2022-09-05T00:00:00",
          "2022-09-06T00:00:00",
          "2022-09-07T00:00:00",
          "2022-09-08T00:00:00",
          "2022-09-09T00:00:00",
          "2022-09-10T00:00:00",
          "2022-09-11T00:00:00",
          "2022-09-12T00:00:00",
          "2022-09-13T00:00:00",
          "2022-09-14T00:00:00",
          "2022-09-15T00:00:00",
          "2022-09-16T00:00:00",
          "2022-09-17T00:00:00",
          "2022-09-18T00:00:00",
          "2022-09-19T00:00:00",
          "2022-09-20T00:00:00",
          "2022-09-21T00:00:00",
          "2022-09-22T00:00:00",
          "2022-09-23T00:00:00",
          "2022-09-24T00:00:00",
          "2022-09-25T00:00:00",
          "2022-09-26T00:00:00",
          "2022-09-27T00:00:00",
          "2022-09-28T00:00:00",
          "2022-09-29T00:00:00",
          "2022-09-30T00:00:00",
          "2022-10-01T00:00:00",
          "2022-10-02T00:00:00",
          "2022-10-03T00:00:00",
          "2022-10-04T00:00:00",
          "2022-10-05T00:00:00",
          "2022-10-06T00:00:00",
          "2022-10-07T00:00:00",
          "2022-10-08T00:00:00",
          "2022-10-09T00:00:00",
          "2022-10-10T00:00:00",
          "2022-10-11T00:00:00",
          "2022-10-12T00:00:00",
          "2022-10-13T00:00:00",
          "2022-10-14T00:00:00",
          "2022-10-15T00:00:00",
          "2022-10-16T00:00:00",
          "2022-10-17T00:00:00",
          "2022-10-18T00:00:00",
          "2022-10-19T00:00:00",
          "2022-10-20T00:00:00",
          "2022-10-21T00:00:00",
          "2022-10-22T00:00:00",
          "2022-10-23T00:00:00",
          "2022-10-24T00:00:00",
          "2022-10-25T00:00:00",
          "2022-10-26T00:00:00",
          "2022-10-27T00:00:00",
          "2022-10-28T00:00:00",
          "2022-10-29T00:00:00",
          "2022-10-30T00:00:00",
          "2022-10-31T00:00:00",
          "2022-11-01T00:00:00",
          "2022-11-02T00:00:00",
          "2022-11-03T00:00:00",
          "2022-11-04T00:00:00",
          "2022-11-05T00:00:00",
          "2022-11-06T00:00:00",
          "2022-11-07T00:00:00",
          "2022-11-08T00:00:00",
          "2022-11-09T00:00:00",
          "2022-11-10T00:00:00",
          "2022-11-11T00:00:00",
          "2022-11-12T00:00:00",
          "2022-11-13T00:00:00",
          "2022-11-14T00:00:00",
          "2022-11-15T00:00:00",
          "2022-11-16T00:00:00",
          "2022-11-17T00:00:00",
          "2022-11-18T00:00:00",
          "2022-11-19T00:00:00",
          "2022-11-20T00:00:00",
          "2022-11-21T00:00:00",
          "2022-11-22T00:00:00",
          "2022-11-23T00:00:00",
          "2022-11-24T00:00:00",
          "2022-11-25T00:00:00",
          "2022-11-26T00:00:00",
          "2022-11-27T00:00:00",
          "2022-11-28T00:00:00"
         ],
         "y": [
          36.46029516171156,
          16.040553035867987,
          -7.870054350574193,
          39.1254862059781,
          26.42031729554569,
          93.40369048160274,
          2.487188313514662,
          56.477203898341244,
          62.48818370412913,
          41.69960999518861,
          109.91599947447219,
          53.67349908718061,
          17.02650728318864,
          73.09851093511811,
          80.93967634734845,
          58.64191856221377,
          118.35250950341546,
          68.86314486428927,
          35.07456426042424,
          86.74971024365016,
          92.21526097387432,
          93.58542201088898,
          67.4385279980216,
          137.40082295416818,
          78.7649466632095,
          101.04668857773214,
          103.48771839415859,
          111.13030498776227,
          91.71216561000344,
          122.92652790131041,
          125.48325673296178,
          105.49450415252984,
          171.22592385455386,
          131.79244450156875,
          136.77323368829798,
          142.6686093565243,
          119.39161989631695,
          186.10590658624727,
          127.24513267847692,
          95.3193227322451,
          147.2410719181779,
          151.0309629136172,
          158.4439503400203,
          135.7117232458389,
          204.25984233310083,
          142.4245275920976,
          113.79649622853435,
          159.32819866520393,
          164.9211605184739,
          175.3406379146237,
          213.3157824097115,
          157.65585136109377,
          125.91119094066902,
          180.40510483988996,
          185.210827269765,
          189.9472590652604,
          164.82192202281996,
          229.88581236400938,
          175.8221327646022,
          146.05477009152747,
          194.92731323741032,
          198.0193644791986,
          206.36899818134762,
          179.5030531328134,
          252.22038443017394,
          212.13444004255382,
          216.91363894389087,
          214.64272297312107,
          197.82506250851316,
          259.66850041833845,
          205.3839327398633,
          179.44578414676636,
          228.19800597450774,
          227.56772169027184,
          235.80871603823107,
          213.17167641836593,
          279.61636111065576,
          219.63430175079037,
          189.90930192021284,
          240.93096670526793,
          243.32673253725198,
          248.15842505893843,
          230.0949127171399,
          292.901333755375,
          236.5854875703557,
          205.42163773331532,
          255.86734790643112,
          261.6492731912425,
          265.1984017706961,
          243.35321942309153,
          313.0146151378821,
          250.75502424995923,
          221.70474992894736,
          273.41812236376364,
          276.6133204134557,
          285.4754073593036,
          257.7192173510436,
          324.16354707969276,
          270.15952485789336,
          237.53236331145752,
          286.69317335945516,
          296.85374336330216,
          297.17932625583717,
          274.93380078911196,
          341.07835644906936,
          285.43774848534053,
          256.14117580272114,
          301.5883717754189,
          310.0460503269251,
          316.6771206055856,
          289.8302702280329,
          358.0554816332189,
          300.5201106546932,
          268.65551156157727,
          324.4000103141751,
          324.2639797430526,
          333.5164452573638,
          308.45200618057015,
          375.6032715090799,
          315.5344488423668,
          284.93783375951693,
          336.56131152498335,
          337.8034519684231,
          348.427082116872,
          320.96654798465505,
          388.56508514671776,
          334.00833914611917,
          301.75866495399737,
          351.3437048978022,
          353.29458897813754,
          362.692108947882,
          338.5467699316384,
          407.8186809437629,
          346.4609285407591,
          319.26710899375934,
          365.75585459108044,
          369.9168819716533,
          379.85984127996517,
          352.51527294115095,
          425.22134386589283,
          362.4747225109022,
          333.8800628979693,
          379.58910209603573,
          388.45309545317406,
          393.4760414306993,
          369.0068879374363,
          440.0196299828723,
          379.62575168649323,
          350.57861600524257,
          401.83923624906436,
          400.1633559295839,
          411.3735788361087,
          388.07790355914744,
          453.7188728161084,
          392.5200119396607,
          363.0923671500744,
          413.35358364574984
         ]
        }
       ],
       "layout": {
        "height": 600,
        "showlegend": false,
        "template": {
         "data": {
          "bar": [
           {
            "error_x": {
             "color": "#2a3f5f"
            },
            "error_y": {
             "color": "#2a3f5f"
            },
            "marker": {
             "line": {
              "color": "#E5ECF6",
              "width": 0.5
             },
             "pattern": {
              "fillmode": "overlay",
              "size": 10,
              "solidity": 0.2
             }
            },
            "type": "bar"
           }
          ],
          "barpolar": [
           {
            "marker": {
             "line": {
              "color": "#E5ECF6",
              "width": 0.5
             },
             "pattern": {
              "fillmode": "overlay",
              "size": 10,
              "solidity": 0.2
             }
            },
            "type": "barpolar"
           }
          ],
          "carpet": [
           {
            "aaxis": {
             "endlinecolor": "#2a3f5f",
             "gridcolor": "white",
             "linecolor": "white",
             "minorgridcolor": "white",
             "startlinecolor": "#2a3f5f"
            },
            "baxis": {
             "endlinecolor": "#2a3f5f",
             "gridcolor": "white",
             "linecolor": "white",
             "minorgridcolor": "white",
             "startlinecolor": "#2a3f5f"
            },
            "type": "carpet"
           }
          ],
          "choropleth": [
           {
            "colorbar": {
             "outlinewidth": 0,
             "ticks": ""
            },
            "type": "choropleth"
           }
          ],
          "contour": [
           {
            "colorbar": {
             "outlinewidth": 0,
             "ticks": ""
            },
            "colorscale": [
             [
              0,
              "#0d0887"
             ],
             [
              0.1111111111111111,
              "#46039f"
             ],
             [
              0.2222222222222222,
              "#7201a8"
             ],
             [
              0.3333333333333333,
              "#9c179e"
             ],
             [
              0.4444444444444444,
              "#bd3786"
             ],
             [
              0.5555555555555556,
              "#d8576b"
             ],
             [
              0.6666666666666666,
              "#ed7953"
             ],
             [
              0.7777777777777778,
              "#fb9f3a"
             ],
             [
              0.8888888888888888,
              "#fdca26"
             ],
             [
              1,
              "#f0f921"
             ]
            ],
            "type": "contour"
           }
          ],
          "contourcarpet": [
           {
            "colorbar": {
             "outlinewidth": 0,
             "ticks": ""
            },
            "type": "contourcarpet"
           }
          ],
          "heatmap": [
           {
            "colorbar": {
             "outlinewidth": 0,
             "ticks": ""
            },
            "colorscale": [
             [
              0,
              "#0d0887"
             ],
             [
              0.1111111111111111,
              "#46039f"
             ],
             [
              0.2222222222222222,
              "#7201a8"
             ],
             [
              0.3333333333333333,
              "#9c179e"
             ],
             [
              0.4444444444444444,
              "#bd3786"
             ],
             [
              0.5555555555555556,
              "#d8576b"
             ],
             [
              0.6666666666666666,
              "#ed7953"
             ],
             [
              0.7777777777777778,
              "#fb9f3a"
             ],
             [
              0.8888888888888888,
              "#fdca26"
             ],
             [
              1,
              "#f0f921"
             ]
            ],
            "type": "heatmap"
           }
          ],
          "heatmapgl": [
           {
            "colorbar": {
             "outlinewidth": 0,
             "ticks": ""
            },
            "colorscale": [
             [
              0,
              "#0d0887"
             ],
             [
              0.1111111111111111,
              "#46039f"
             ],
             [
              0.2222222222222222,
              "#7201a8"
             ],
             [
              0.3333333333333333,
              "#9c179e"
             ],
             [
              0.4444444444444444,
              "#bd3786"
             ],
             [
              0.5555555555555556,
              "#d8576b"
             ],
             [
              0.6666666666666666,
              "#ed7953"
             ],
             [
              0.7777777777777778,
              "#fb9f3a"
             ],
             [
              0.8888888888888888,
              "#fdca26"
             ],
             [
              1,
              "#f0f921"
             ]
            ],
            "type": "heatmapgl"
           }
          ],
          "histogram": [
           {
            "marker": {
             "pattern": {
              "fillmode": "overlay",
              "size": 10,
              "solidity": 0.2
             }
            },
            "type": "histogram"
           }
          ],
          "histogram2d": [
           {
            "colorbar": {
             "outlinewidth": 0,
             "ticks": ""
            },
            "colorscale": [
             [
              0,
              "#0d0887"
             ],
             [
              0.1111111111111111,
              "#46039f"
             ],
             [
              0.2222222222222222,
              "#7201a8"
             ],
             [
              0.3333333333333333,
              "#9c179e"
             ],
             [
              0.4444444444444444,
              "#bd3786"
             ],
             [
              0.5555555555555556,
              "#d8576b"
             ],
             [
              0.6666666666666666,
              "#ed7953"
             ],
             [
              0.7777777777777778,
              "#fb9f3a"
             ],
             [
              0.8888888888888888,
              "#fdca26"
             ],
             [
              1,
              "#f0f921"
             ]
            ],
            "type": "histogram2d"
           }
          ],
          "histogram2dcontour": [
           {
            "colorbar": {
             "outlinewidth": 0,
             "ticks": ""
            },
            "colorscale": [
             [
              0,
              "#0d0887"
             ],
             [
              0.1111111111111111,
              "#46039f"
             ],
             [
              0.2222222222222222,
              "#7201a8"
             ],
             [
              0.3333333333333333,
              "#9c179e"
             ],
             [
              0.4444444444444444,
              "#bd3786"
             ],
             [
              0.5555555555555556,
              "#d8576b"
             ],
             [
              0.6666666666666666,
              "#ed7953"
             ],
             [
              0.7777777777777778,
              "#fb9f3a"
             ],
             [
              0.8888888888888888,
              "#fdca26"
             ],
             [
              1,
              "#f0f921"
             ]
            ],
            "type": "histogram2dcontour"
           }
          ],
          "mesh3d": [
           {
            "colorbar": {
             "outlinewidth": 0,
             "ticks": ""
            },
            "type": "mesh3d"
           }
          ],
          "parcoords": [
           {
            "line": {
             "colorbar": {
              "outlinewidth": 0,
              "ticks": ""
             }
            },
            "type": "parcoords"
           }
          ],
          "pie": [
           {
            "automargin": true,
            "type": "pie"
           }
          ],
          "scatter": [
           {
            "marker": {
             "colorbar": {
              "outlinewidth": 0,
              "ticks": ""
             }
            },
            "type": "scatter"
           }
          ],
          "scatter3d": [
           {
            "line": {
             "colorbar": {
              "outlinewidth": 0,
              "ticks": ""
             }
            },
            "marker": {
             "colorbar": {
              "outlinewidth": 0,
              "ticks": ""
             }
            },
            "type": "scatter3d"
           }
          ],
          "scattercarpet": [
           {
            "marker": {
             "colorbar": {
              "outlinewidth": 0,
              "ticks": ""
             }
            },
            "type": "scattercarpet"
           }
          ],
          "scattergeo": [
           {
            "marker": {
             "colorbar": {
              "outlinewidth": 0,
              "ticks": ""
             }
            },
            "type": "scattergeo"
           }
          ],
          "scattergl": [
           {
            "marker": {
             "colorbar": {
              "outlinewidth": 0,
              "ticks": ""
             }
            },
            "type": "scattergl"
           }
          ],
          "scattermapbox": [
           {
            "marker": {
             "colorbar": {
              "outlinewidth": 0,
              "ticks": ""
             }
            },
            "type": "scattermapbox"
           }
          ],
          "scatterpolar": [
           {
            "marker": {
             "colorbar": {
              "outlinewidth": 0,
              "ticks": ""
             }
            },
            "type": "scatterpolar"
           }
          ],
          "scatterpolargl": [
           {
            "marker": {
             "colorbar": {
              "outlinewidth": 0,
              "ticks": ""
             }
            },
            "type": "scatterpolargl"
           }
          ],
          "scatterternary": [
           {
            "marker": {
             "colorbar": {
              "outlinewidth": 0,
              "ticks": ""
             }
            },
            "type": "scatterternary"
           }
          ],
          "surface": [
           {
            "colorbar": {
             "outlinewidth": 0,
             "ticks": ""
            },
            "colorscale": [
             [
              0,
              "#0d0887"
             ],
             [
              0.1111111111111111,
              "#46039f"
             ],
             [
              0.2222222222222222,
              "#7201a8"
             ],
             [
              0.3333333333333333,
              "#9c179e"
             ],
             [
              0.4444444444444444,
              "#bd3786"
             ],
             [
              0.5555555555555556,
              "#d8576b"
             ],
             [
              0.6666666666666666,
              "#ed7953"
             ],
             [
              0.7777777777777778,
              "#fb9f3a"
             ],
             [
              0.8888888888888888,
              "#fdca26"
             ],
             [
              1,
              "#f0f921"
             ]
            ],
            "type": "surface"
           }
          ],
          "table": [
           {
            "cells": {
             "fill": {
              "color": "#EBF0F8"
             },
             "line": {
              "color": "white"
             }
            },
            "header": {
             "fill": {
              "color": "#C8D4E3"
             },
             "line": {
              "color": "white"
             }
            },
            "type": "table"
           }
          ]
         },
         "layout": {
          "annotationdefaults": {
           "arrowcolor": "#2a3f5f",
           "arrowhead": 0,
           "arrowwidth": 1
          },
          "autotypenumbers": "strict",
          "coloraxis": {
           "colorbar": {
            "outlinewidth": 0,
            "ticks": ""
           }
          },
          "colorscale": {
           "diverging": [
            [
             0,
             "#8e0152"
            ],
            [
             0.1,
             "#c51b7d"
            ],
            [
             0.2,
             "#de77ae"
            ],
            [
             0.3,
             "#f1b6da"
            ],
            [
             0.4,
             "#fde0ef"
            ],
            [
             0.5,
             "#f7f7f7"
            ],
            [
             0.6,
             "#e6f5d0"
            ],
            [
             0.7,
             "#b8e186"
            ],
            [
             0.8,
             "#7fbc41"
            ],
            [
             0.9,
             "#4d9221"
            ],
            [
             1,
             "#276419"
            ]
           ],
           "sequential": [
            [
             0,
             "#0d0887"
            ],
            [
             0.1111111111111111,
             "#46039f"
            ],
            [
             0.2222222222222222,
             "#7201a8"
            ],
            [
             0.3333333333333333,
             "#9c179e"
            ],
            [
             0.4444444444444444,
             "#bd3786"
            ],
            [
             0.5555555555555556,
             "#d8576b"
            ],
            [
             0.6666666666666666,
             "#ed7953"
            ],
            [
             0.7777777777777778,
             "#fb9f3a"
            ],
            [
             0.8888888888888888,
             "#fdca26"
            ],
            [
             1,
             "#f0f921"
            ]
           ],
           "sequentialminus": [
            [
             0,
             "#0d0887"
            ],
            [
             0.1111111111111111,
             "#46039f"
            ],
            [
             0.2222222222222222,
             "#7201a8"
            ],
            [
             0.3333333333333333,
             "#9c179e"
            ],
            [
             0.4444444444444444,
             "#bd3786"
            ],
            [
             0.5555555555555556,
             "#d8576b"
            ],
            [
             0.6666666666666666,
             "#ed7953"
            ],
            [
             0.7777777777777778,
             "#fb9f3a"
            ],
            [
             0.8888888888888888,
             "#fdca26"
            ],
            [
             1,
             "#f0f921"
            ]
           ]
          },
          "colorway": [
           "#636efa",
           "#EF553B",
           "#00cc96",
           "#ab63fa",
           "#FFA15A",
           "#19d3f3",
           "#FF6692",
           "#B6E880",
           "#FF97FF",
           "#FECB52"
          ],
          "font": {
           "color": "#2a3f5f"
          },
          "geo": {
           "bgcolor": "white",
           "lakecolor": "white",
           "landcolor": "#E5ECF6",
           "showlakes": true,
           "showland": true,
           "subunitcolor": "white"
          },
          "hoverlabel": {
           "align": "left"
          },
          "hovermode": "closest",
          "mapbox": {
           "style": "light"
          },
          "paper_bgcolor": "white",
          "plot_bgcolor": "#E5ECF6",
          "polar": {
           "angularaxis": {
            "gridcolor": "white",
            "linecolor": "white",
            "ticks": ""
           },
           "bgcolor": "#E5ECF6",
           "radialaxis": {
            "gridcolor": "white",
            "linecolor": "white",
            "ticks": ""
           }
          },
          "scene": {
           "xaxis": {
            "backgroundcolor": "#E5ECF6",
            "gridcolor": "white",
            "gridwidth": 2,
            "linecolor": "white",
            "showbackground": true,
            "ticks": "",
            "zerolinecolor": "white"
           },
           "yaxis": {
            "backgroundcolor": "#E5ECF6",
            "gridcolor": "white",
            "gridwidth": 2,
            "linecolor": "white",
            "showbackground": true,
            "ticks": "",
            "zerolinecolor": "white"
           },
           "zaxis": {
            "backgroundcolor": "#E5ECF6",
            "gridcolor": "white",
            "gridwidth": 2,
            "linecolor": "white",
            "showbackground": true,
            "ticks": "",
            "zerolinecolor": "white"
           }
          },
          "shapedefaults": {
           "line": {
            "color": "#2a3f5f"
           }
          },
          "ternary": {
           "aaxis": {
            "gridcolor": "white",
            "linecolor": "white",
            "ticks": ""
           },
           "baxis": {
            "gridcolor": "white",
            "linecolor": "white",
            "ticks": ""
           },
           "bgcolor": "#E5ECF6",
           "caxis": {
            "gridcolor": "white",
            "linecolor": "white",
            "ticks": ""
           }
          },
          "title": {
           "x": 0.05
          },
          "xaxis": {
           "automargin": true,
           "gridcolor": "white",
           "linecolor": "white",
           "ticks": "",
           "title": {
            "standoff": 15
           },
           "zerolinecolor": "white",
           "zerolinewidth": 2
          },
          "yaxis": {
           "automargin": true,
           "gridcolor": "white",
           "linecolor": "white",
           "ticks": "",
           "title": {
            "standoff": 15
           },
           "zerolinecolor": "white",
           "zerolinewidth": 2
          }
         }
        },
        "width": 900,
        "xaxis": {
         "autorange": true,
         "range": [
          "2022-05-29 02:44:34.2857",
          "2022-11-28"
         ],
         "rangeselector": {
          "buttons": [
           {
            "count": 7,
            "label": "1w",
            "step": "day",
            "stepmode": "backward"
           },
           {
            "count": 1,
            "label": "1m",
            "step": "month",
            "stepmode": "backward"
           },
           {
            "count": 6,
            "label": "6m",
            "step": "month",
            "stepmode": "backward"
           },
           {
            "count": 1,
            "label": "1y",
            "step": "year",
            "stepmode": "backward"
           },
           {
            "step": "all"
           }
          ]
         },
         "rangeslider": {
          "autorange": true,
          "range": [
           "2022-05-29 02:44:34.2857",
           "2022-11-28"
          ],
          "visible": true,
          "yaxis": {
           "_template": null,
           "rangemode": "match"
          }
         },
         "title": {
          "text": "ds"
         },
         "type": "date"
        },
        "yaxis": {
         "autorange": true,
         "range": [
          -140.48325654754186,
          484.99266909840577
         ],
         "title": {
          "text": "y"
         },
         "type": "linear"
        }
       }
      },
      "image/png": "[encoded data removed]",
      "text/html": [
       "<div>                            <div id=\"580f07d3-51d7-4330-b56e-4e8dd45cc3fe\" class=\"plotly-graph-div\" style=\"height:600px; width:900px;\"></div>            <script type=\"text/javascript\">                require([\"plotly\"], function(Plotly) {                    window.PLOTLYENV=window.PLOTLYENV || {};                                    if (document.getElementById(\"580f07d3-51d7-4330-b56e-4e8dd45cc3fe\")) {                    Plotly.newPlot(                        \"580f07d3-51d7-4330-b56e-4e8dd45cc3fe\",                        [{\"marker\":{\"color\":\"black\",\"size\":4},\"mode\":\"markers\",\"name\":\"Actual\",\"type\":\"scatter\",\"x\":[\"2022-06-08T00:00:00\",\"2022-06-11T00:00:00\",\"2022-06-12T00:00:00\",\"2022-06-14T00:00:00\",\"2022-06-16T00:00:00\",\"2022-06-17T00:00:00\",\"2022-06-19T00:00:00\",\"2022-06-21T00:00:00\",\"2022-06-22T00:00:00\",\"2022-06-23T00:00:00\",\"2022-06-24T00:00:00\",\"2022-06-25T00:00:00\",\"2022-06-26T00:00:00\",\"2022-06-28T00:00:00\",\"2022-06-29T00:00:00\",\"2022-06-30T00:00:00\",\"2022-07-01T00:00:00\",\"2022-07-02T00:00:00\",\"2022-07-03T00:00:00\",\"2022-07-04T00:00:00\",\"2022-07-05T00:00:00\",\"2022-07-06T00:00:00\",\"2022-07-07T00:00:00\",\"2022-07-08T00:00:00\",\"2022-07-09T00:00:00\",\"2022-07-11T00:00:00\",\"2022-07-12T00:00:00\",\"2022-07-13T00:00:00\",\"2022-07-14T00:00:00\",\"2022-07-19T00:00:00\",\"2022-07-20T00:00:00\",\"2022-07-21T00:00:00\",\"2022-07-22T00:00:00\",\"2022-07-25T00:00:00\",\"2022-07-26T00:00:00\",\"2022-07-27T00:00:00\",\"2022-07-28T00:00:00\",\"2022-07-29T00:00:00\",\"2022-07-30T00:00:00\",\"2022-07-31T00:00:00\",\"2022-08-01T00:00:00\",\"2022-08-02T00:00:00\",\"2022-08-03T00:00:00\",\"2022-08-04T00:00:00\",\"2022-08-05T00:00:00\",\"2022-08-06T00:00:00\",\"2022-08-07T00:00:00\",\"2022-08-08T00:00:00\",\"2022-08-09T00:00:00\",\"2022-08-10T00:00:00\",\"2022-08-12T00:00:00\",\"2022-08-13T00:00:00\",\"2022-08-14T00:00:00\",\"2022-08-15T00:00:00\",\"2022-08-16T00:00:00\",\"2022-08-17T00:00:00\",\"2022-08-18T00:00:00\",\"2022-08-19T00:00:00\",\"2022-08-20T00:00:00\",\"2022-08-21T00:00:00\",\"2022-08-22T00:00:00\",\"2022-08-23T00:00:00\",\"2022-08-24T00:00:00\",\"2022-08-25T00:00:00\",\"2022-08-26T00:00:00\",\"2022-08-29T00:00:00\",\"2022-08-30T00:00:00\"],\"y\":[1,1,1,2,1,1,1,1,2,5,1,2,1,1,16,12,15,12,2,2,26,36,30,32,14,10,38,42,39,101,143,13,90,115,56,112,89,193,84,27,105,128,118,139,144,104,23,162,122,43,288,102,45,92,198,176,91,205,100,32,109,88,160,72,256,220,184]},{\"hoverinfo\":\"skip\",\"line\":{\"width\":0},\"mode\":\"lines\",\"type\":\"scatter\",\"x\":[\"2022-06-08T00:00:00\",\"2022-06-11T00:00:00\",\"2022-06-12T00:00:00\",\"2022-06-14T00:00:00\",\"2022-06-16T00:00:00\",\"2022-06-17T00:00:00\",\"2022-06-19T00:00:00\",\"2022-06-21T00:00:00\",\"2022-06-22T00:00:00\",\"2022-06-23T00:00:00\",\"2022-06-24T00:00:00\",\"2022-06-25T00:00:00\",\"2022-06-26T00:00:00\",\"2022-06-28T00:00:00\",\"2022-06-29T00:00:00\",\"2022-06-30T00:00:00\",\"2022-07-01T00:00:00\",\"2022-07-02T00:00:00\",\"2022-07-03T00:00:00\",\"2022-07-04T00:00:00\",\"2022-07-05T00:00:00\",\"2022-07-06T00:00:00\",\"2022-07-07T00:00:00\",\"2022-07-08T00:00:00\",\"2022-07-09T00:00:00\",\"2022-07-11T00:00:00\",\"2022-07-12T00:00:00\",\"2022-07-13T00:00:00\",\"2022-07-14T00:00:00\",\"2022-07-19T00:00:00\",\"2022-07-20T00:00:00\",\"2022-07-21T00:00:00\",\"2022-07-22T00:00:00\",\"2022-07-25T00:00:00\",\"2022-07-26T00:00:00\",\"2022-07-27T00:00:00\",\"2022-07-28T00:00:00\",\"2022-07-29T00:00:00\",\"2022-07-30T00:00:00\",\"2022-07-31T00:00:00\",\"2022-08-01T00:00:00\",\"2022-08-02T00:00:00\",\"2022-08-03T00:00:00\",\"2022-08-04T00:00:00\",\"2022-08-05T00:00:00\",\"2022-08-06T00:00:00\",\"2022-08-07T00:00:00\",\"2022-08-08T00:00:00\",\"2022-08-09T00:00:00\",\"2022-08-10T00:00:00\",\"2022-08-12T00:00:00\",\"2022-08-13T00:00:00\",\"2022-08-14T00:00:00\",\"2022-08-15T00:00:00\",\"2022-08-16T00:00:00\",\"2022-08-17T00:00:00\",\"2022-08-18T00:00:00\",\"2022-08-19T00:00:00\",\"2022-08-20T00:00:00\",\"2022-08-21T00:00:00\",\"2022-08-22T00:00:00\",\"2022-08-23T00:00:00\",\"2022-08-24T00:00:00\",\"2022-08-25T00:00:00\",\"2022-08-26T00:00:00\",\"2022-08-29T00:00:00\",\"2022-08-30T00:00:00\",\"2022-08-31T00:00:00\",\"2022-09-01T00:00:00\",\"2022-09-02T00:00:00\",\"2022-09-03T00:00:00\",\"2022-09-04T00:00:00\",\"2022-09-05T00:00:00\",\"2022-09-06T00:00:00\",\"2022-09-07T00:00:00\",\"2022-09-08T00:00:00\",\"2022-09-09T00:00:00\",\"2022-09-10T00:00:00\",\"2022-09-11T00:00:00\",\"2022-09-12T00:00:00\",\"2022-09-13T00:00:00\",\"2022-09-14T00:00:00\",\"2022-09-15T00:00:00\",\"2022-09-16T00:00:00\",\"2022-09-17T00:00:00\",\"2022-09-18T00:00:00\",\"2022-09-19T00:00:00\",\"2022-09-20T00:00:00\",\"2022-09-21T00:00:00\",\"2022-09-22T00:00:00\",\"2022-09-23T00:00:00\",\"2022-09-24T00:00:00\",\"2022-09-25T00:00:00\",\"2022-09-26T00:00:00\",\"2022-09-27T00:00:00\",\"2022-09-28T00:00:00\",\"2022-09-29T00:00:00\",\"2022-09-30T00:00:00\",\"2022-10-01T00:00:00\",\"2022-10-02T00:00:00\",\"2022-10-03T00:00:00\",\"2022-10-04T00:00:00\",\"2022-10-05T00:00:00\",\"2022-10-06T00:00:00\",\"2022-10-07T00:00:00\",\"2022-10-08T00:00:00\",\"2022-10-09T00:00:00\",\"2022-10-10T00:00:00\",\"2022-10-11T00:00:00\",\"2022-10-12T00:00:00\",\"2022-10-13T00:00:00\",\"2022-10-14T00:00:00\",\"2022-10-15T00:00:00\",\"2022-10-16T00:00:00\",\"2022-10-17T00:00:00\",\"2022-10-18T00:00:00\",\"2022-10-19T00:00:00\",\"2022-10-20T00:00:00\",\"2022-10-21T00:00:00\",\"2022-10-22T00:00:00\",\"2022-10-23T00:00:00\",\"2022-10-24T00:00:00\",\"2022-10-25T00:00:00\",\"2022-10-26T00:00:00\",\"2022-10-27T00:00:00\",\"2022-10-28T00:00:00\",\"2022-10-29T00:00:00\",\"2022-10-30T00:00:00\",\"2022-10-31T00:00:00\",\"2022-11-01T00:00:00\",\"2022-11-02T00:00:00\",\"2022-11-03T00:00:00\",\"2022-11-04T00:00:00\",\"2022-11-05T00:00:00\",\"2022-11-06T00:00:00\",\"2022-11-07T00:00:00\",\"2022-11-08T00:00:00\",\"2022-11-09T00:00:00\",\"2022-11-10T00:00:00\",\"2022-11-11T00:00:00\",\"2022-11-12T00:00:00\",\"2022-11-13T00:00:00\",\"2022-11-14T00:00:00\",\"2022-11-15T00:00:00\",\"2022-11-16T00:00:00\",\"2022-11-17T00:00:00\",\"2022-11-18T00:00:00\",\"2022-11-19T00:00:00\",\"2022-11-20T00:00:00\",\"2022-11-21T00:00:00\",\"2022-11-22T00:00:00\",\"2022-11-23T00:00:00\",\"2022-11-24T00:00:00\",\"2022-11-25T00:00:00\",\"2022-11-26T00:00:00\",\"2022-11-27T00:00:00\",\"2022-11-28T00:00:00\"],\"y\":[-63.36328964843759,-78.78956423399573,-109.20946026524447,-59.321418037852176,-72.66598952652754,-9.55204388085647,-92.71949194233166,-41.23815944745076,-36.78466680466836,-57.46179993335941,7.869977455599547,-50.886830042249684,-79.61249304569117,-25.03769720014825,-17.503986523847786,-43.558046252219185,23.817680401712412,-33.12721846421571,-64.14356656613087,-14.259563690839736,-8.358358427060912,-2.1911521841674046,-26.41307865047859,40.304435197014435,-21.770445033394086,-0.3567715286975059,8.569898743185517,13.98185827204093,-10.329373046200768,22.950719777775674,28.019167127324383,7.56064705195451,72.10990604403928,33.818128896218965,37.2217013855534,42.68320111559452,20.312451566471694,86.49329082831308,29.76992651293878,-3.410009653529608,49.2442597834435,52.07810196960953,65.93690831232287,38.61062901737161,103.95177938756011,43.7834685771566,16.987954508063112,68.38553293512946,66.4528066092639,75.01333492773479,116.76116938104235,60.657100863217565,28.29339754402341,80.00791979120437,85.88311478017647,93.59727802637535,65.8921095358052,134.21620945259795,75.39133830369448,46.126595438526785,97.45762322318353,99.26624808177542,108.3172398367733,84.14528736201233,149.0533882381494,110.29001449346507,116.90397935357662,122.84591945500596,98.33763590283894,166.5604007064826,106.04648105133735,77.49981558920135,126.54209621158151,129.44859248394403,139.60705418683554,114.23841560069083,178.5226169991297,122.96487098900326,92.51037769585545,141.6931949834297,147.62415288451285,152.64369513937964,132.4120141795781,195.82813823369844,136.3375982920257,106.5092398440205,159.2588435488537,160.19074254574974,168.1864199248669,143.10898252873048,212.07788641767493,155.01509671605834,121.55827292557152,172.6226486340899,177.72351173002718,186.5500840999369,165.5400414887471,228.231816598604,167.9056154694585,139.42276902701008,190.48934923339857,194.8898778589052,201.20600177326943,178.22554293461977,242.6355468451253,185.35924770359787,155.71112573608818,205.0577303411004,211.00212369646655,218.50412692635305,193.4754979541139,261.9024292508073,202.6829208192703,168.84011730128114,222.34273794493583,227.4274756573703,231.26085304404185,208.05189965967483,274.1880351922195,217.57874861558932,186.58739354663996,237.74253058773658,238.7482913237358,248.55950043580071,221.9050939522757,291.0632459279541,232.21515252584143,204.81390405845448,255.66444193149064,254.54010499721505,264.34023809954635,240.4557672743526,309.3062019659848,251.91361204987072,218.63043485479923,265.0396340986568,274.3465748518804,279.4781915292832,255.68894305508726,322.71691681201287,260.8521771377232,233.79792776370726,283.8568643399086,290.23653647561946,298.5301475413723,269.0727543093553,343.4671537252556,285.2633487185651,250.01789983916834,306.01752158456253,303.5558827125829,311.2331143467523,288.25087590708875,352.3211699647016,295.94774182345753,266.170648905153,314.6414169116519]},{\"fill\":\"tonexty\",\"fillcolor\":\"rgba(0, 114, 178, 0.2)\",\"line\":{\"color\":\"#0072B2\",\"width\":2},\"mode\":\"lines\",\"name\":\"Predicted\",\"type\":\"scatter\",\"x\":[\"2022-06-08T00:00:00\",\"2022-06-11T00:00:00\",\"2022-06-12T00:00:00\",\"2022-06-14T00:00:00\",\"2022-06-16T00:00:00\",\"2022-06-17T00:00:00\",\"2022-06-19T00:00:00\",\"2022-06-21T00:00:00\",\"2022-06-22T00:00:00\",\"2022-06-23T00:00:00\",\"2022-06-24T00:00:00\",\"2022-06-25T00:00:00\",\"2022-06-26T00:00:00\",\"2022-06-28T00:00:00\",\"2022-06-29T00:00:00\",\"2022-06-30T00:00:00\",\"2022-07-01T00:00:00\",\"2022-07-02T00:00:00\",\"2022-07-03T00:00:00\",\"2022-07-04T00:00:00\",\"2022-07-05T00:00:00\",\"2022-07-06T00:00:00\",\"2022-07-07T00:00:00\",\"2022-07-08T00:00:00\",\"2022-07-09T00:00:00\",\"2022-07-11T00:00:00\",\"2022-07-12T00:00:00\",\"2022-07-13T00:00:00\",\"2022-07-14T00:00:00\",\"2022-07-19T00:00:00\",\"2022-07-20T00:00:00\",\"2022-07-21T00:00:00\",\"2022-07-22T00:00:00\",\"2022-07-25T00:00:00\",\"2022-07-26T00:00:00\",\"2022-07-27T00:00:00\",\"2022-07-28T00:00:00\",\"2022-07-29T00:00:00\",\"2022-07-30T00:00:00\",\"2022-07-31T00:00:00\",\"2022-08-01T00:00:00\",\"2022-08-02T00:00:00\",\"2022-08-03T00:00:00\",\"2022-08-04T00:00:00\",\"2022-08-05T00:00:00\",\"2022-08-06T00:00:00\",\"2022-08-07T00:00:00\",\"2022-08-08T00:00:00\",\"2022-08-09T00:00:00\",\"2022-08-10T00:00:00\",\"2022-08-12T00:00:00\",\"2022-08-13T00:00:00\",\"2022-08-14T00:00:00\",\"2022-08-15T00:00:00\",\"2022-08-16T00:00:00\",\"2022-08-17T00:00:00\",\"2022-08-18T00:00:00\",\"2022-08-19T00:00:00\",\"2022-08-20T00:00:00\",\"2022-08-21T00:00:00\",\"2022-08-22T00:00:00\",\"2022-08-23T00:00:00\",\"2022-08-24T00:00:00\",\"2022-08-25T00:00:00\",\"2022-08-26T00:00:00\",\"2022-08-29T00:00:00\",\"2022-08-30T00:00:00\",\"2022-08-31T00:00:00\",\"2022-09-01T00:00:00\",\"2022-09-02T00:00:00\",\"2022-09-03T00:00:00\",\"2022-09-04T00:00:00\",\"2022-09-05T00:00:00\",\"2022-09-06T00:00:00\",\"2022-09-07T00:00:00\",\"2022-09-08T00:00:00\",\"2022-09-09T00:00:00\",\"2022-09-10T00:00:00\",\"2022-09-11T00:00:00\",\"2022-09-12T00:00:00\",\"2022-09-13T00:00:00\",\"2022-09-14T00:00:00\",\"2022-09-15T00:00:00\",\"2022-09-16T00:00:00\",\"2022-09-17T00:00:00\",\"2022-09-18T00:00:00\",\"2022-09-19T00:00:00\",\"2022-09-20T00:00:00\",\"2022-09-21T00:00:00\",\"2022-09-22T00:00:00\",\"2022-09-23T00:00:00\",\"2022-09-24T00:00:00\",\"2022-09-25T00:00:00\",\"2022-09-26T00:00:00\",\"2022-09-27T00:00:00\",\"2022-09-28T00:00:00\",\"2022-09-29T00:00:00\",\"2022-09-30T00:00:00\",\"2022-10-01T00:00:00\",\"2022-10-02T00:00:00\",\"2022-10-03T00:00:00\",\"2022-10-04T00:00:00\",\"2022-10-05T00:00:00\",\"2022-10-06T00:00:00\",\"2022-10-07T00:00:00\",\"2022-10-08T00:00:00\",\"2022-10-09T00:00:00\",\"2022-10-10T00:00:00\",\"2022-10-11T00:00:00\",\"2022-10-12T00:00:00\",\"2022-10-13T00:00:00\",\"2022-10-14T00:00:00\",\"2022-10-15T00:00:00\",\"2022-10-16T00:00:00\",\"2022-10-17T00:00:00\",\"2022-10-18T00:00:00\",\"2022-10-19T00:00:00\",\"2022-10-20T00:00:00\",\"2022-10-21T00:00:00\",\"2022-10-22T00:00:00\",\"2022-10-23T00:00:00\",\"2022-10-24T00:00:00\",\"2022-10-25T00:00:00\",\"2022-10-26T00:00:00\",\"2022-10-27T00:00:00\",\"2022-10-28T00:00:00\",\"2022-10-29T00:00:00\",\"2022-10-30T00:00:00\",\"2022-10-31T00:00:00\",\"2022-11-01T00:00:00\",\"2022-11-02T00:00:00\",\"2022-11-03T00:00:00\",\"2022-11-04T00:00:00\",\"2022-11-05T00:00:00\",\"2022-11-06T00:00:00\",\"2022-11-07T00:00:00\",\"2022-11-08T00:00:00\",\"2022-11-09T00:00:00\",\"2022-11-10T00:00:00\",\"2022-11-11T00:00:00\",\"2022-11-12T00:00:00\",\"2022-11-13T00:00:00\",\"2022-11-14T00:00:00\",\"2022-11-15T00:00:00\",\"2022-11-16T00:00:00\",\"2022-11-17T00:00:00\",\"2022-11-18T00:00:00\",\"2022-11-19T00:00:00\",\"2022-11-20T00:00:00\",\"2022-11-21T00:00:00\",\"2022-11-22T00:00:00\",\"2022-11-23T00:00:00\",\"2022-11-24T00:00:00\",\"2022-11-25T00:00:00\",\"2022-11-26T00:00:00\",\"2022-11-27T00:00:00\",\"2022-11-28T00:00:00\"],\"y\":[-15.50119180415486,-31.932137393002513,-61.92717577231454,-7.516875047729894,-24.62032296943674,42.50947752983012,-46.2424771720162,8.167823552344288,15.86820539766201,-8.935624369305248,58.1941761303122,-0.5627401909232717,-30.557778570218257,23.852522154562106,31.552904000076495,6.749074232942645,73.8788747324725,15.121958410823916,-14.873079416056662,35.214016975480476,39.537222414742814,47.23760481347982,22.43377559942197,89.5635766521324,30.806660883871572,50.89871944958519,55.221924889643425,62.92230728890013,38.11847807554972,70.90662736721322,78.60700976668292,53.80318055366563,120.93298160724923,82.26812440693026,86.59132984756475,94.29171224745512,69.4878830347589,136.6176840887633,77.8607683216851,47.86573049643989,97.95282688928499,102.27603232971691,109.97641472953441,85.1725855167079,152.30238657038203,93.54547080319409,63.5504329778174,113.63752937095566,117.96073481143696,125.66111721108959,167.9870890519048,109.23017328477295,79.23513545965952,129.3222318528301,133.64543729353656,141.34581969368608,116.54199048122814,183.67179153544708,124.91487576851328,94.91983794360898,145.00693433667274,149.3301397776749,157.03052217779435,132.22669296538427,199.35649401963641,160.69163682086008,165.0148422617662,172.71522466187474,147.9113954495404,215.04119650382574,156.2842807369722,126.2892429119257,176.3763393050474,180.6995447459418,188.39992714601098,163.59609793350077,230.72589898783644,171.96898322107361,141.97394539601441,192.0610417892347,196.38424722994876,204.08462963018542,179.28080041765693,246.4106014720258,187.6536857050481,157.65864788009537,207.7457442730774,212.06894971412436,219.7693321142937,194.96550290181307,262.09530395612586,203.33838818927634,173.34335036432336,223.4304467573888,227.7536521983,235.454034598402,210.6502053859692,277.7800064402185,219.0230906732509,189.02805284827284,239.11514924145197,243.43835468239124,251.1387370826044,226.33490787009123,293.46470892431853,234.70779315722547,204.71275533250082,254.7998517256393,259.1230571665296,266.8234395666848,242.01961035428144,309.1494114085079,250.39249564170981,220.3974578165818,270.4845542098267,274.8077596506209,282.50814205082094,257.7043128384035,324.83411389260783,266.0771981256844,236.08216030080987,286.169256694014,290.4924621347965,298.1928445349013,273.38901532239794,340.51881637670795,281.76190060978576,251.7668627847592,301.85395917807716,306.17716461885044,313.8775470189818,289.0737178065541,356.2035188608079,297.4466030938871,267.4515652689872,317.5386616620439,321.8618671030261,329.56224950309,304.7584202907102,371.88822134499725,313.1313055782446,283.1362677532153,333.2233641462313,337.5465695871174,345.24695198719826,320.44312277483226,387.5729238290006,328.81600806221917,298.8209702371647,348.9080666304186,353.2312720712087,360.9316544714007,336.12782525895443,403.25762631319,344.50071054632053,314.5056727213927,364.5927691142613]},{\"fill\":\"tonexty\",\"fillcolor\":\"rgba(0, 114, 178, 0.2)\",\"hoverinfo\":\"skip\",\"line\":{\"width\":0},\"mode\":\"lines\",\"type\":\"scatter\",\"x\":[\"2022-06-08T00:00:00\",\"2022-06-11T00:00:00\",\"2022-06-12T00:00:00\",\"2022-06-14T00:00:00\",\"2022-06-16T00:00:00\",\"2022-06-17T00:00:00\",\"2022-06-19T00:00:00\",\"2022-06-21T00:00:00\",\"2022-06-22T00:00:00\",\"2022-06-23T00:00:00\",\"2022-06-24T00:00:00\",\"2022-06-25T00:00:00\",\"2022-06-26T00:00:00\",\"2022-06-28T00:00:00\",\"2022-06-29T00:00:00\",\"2022-06-30T00:00:00\",\"2022-07-01T00:00:00\",\"2022-07-02T00:00:00\",\"2022-07-03T00:00:00\",\"2022-07-04T00:00:00\",\"2022-07-05T00:00:00\",\"2022-07-06T00:00:00\",\"2022-07-07T00:00:00\",\"2022-07-08T00:00:00\",\"2022-07-09T00:00:00\",\"2022-07-11T00:00:00\",\"2022-07-12T00:00:00\",\"2022-07-13T00:00:00\",\"2022-07-14T00:00:00\",\"2022-07-19T00:00:00\",\"2022-07-20T00:00:00\",\"2022-07-21T00:00:00\",\"2022-07-22T00:00:00\",\"2022-07-25T00:00:00\",\"2022-07-26T00:00:00\",\"2022-07-27T00:00:00\",\"2022-07-28T00:00:00\",\"2022-07-29T00:00:00\",\"2022-07-30T00:00:00\",\"2022-07-31T00:00:00\",\"2022-08-01T00:00:00\",\"2022-08-02T00:00:00\",\"2022-08-03T00:00:00\",\"2022-08-04T00:00:00\",\"2022-08-05T00:00:00\",\"2022-08-06T00:00:00\",\"2022-08-07T00:00:00\",\"2022-08-08T00:00:00\",\"2022-08-09T00:00:00\",\"2022-08-10T00:00:00\",\"2022-08-12T00:00:00\",\"2022-08-13T00:00:00\",\"2022-08-14T00:00:00\",\"2022-08-15T00:00:00\",\"2022-08-16T00:00:00\",\"2022-08-17T00:00:00\",\"2022-08-18T00:00:00\",\"2022-08-19T00:00:00\",\"2022-08-20T00:00:00\",\"2022-08-21T00:00:00\",\"2022-08-22T00:00:00\",\"2022-08-23T00:00:00\",\"2022-08-24T00:00:00\",\"2022-08-25T00:00:00\",\"2022-08-26T00:00:00\",\"2022-08-29T00:00:00\",\"2022-08-30T00:00:00\",\"2022-08-31T00:00:00\",\"2022-09-01T00:00:00\",\"2022-09-02T00:00:00\",\"2022-09-03T00:00:00\",\"2022-09-04T00:00:00\",\"2022-09-05T00:00:00\",\"2022-09-06T00:00:00\",\"2022-09-07T00:00:00\",\"2022-09-08T00:00:00\",\"2022-09-09T00:00:00\",\"2022-09-10T00:00:00\",\"2022-09-11T00:00:00\",\"2022-09-12T00:00:00\",\"2022-09-13T00:00:00\",\"2022-09-14T00:00:00\",\"2022-09-15T00:00:00\",\"2022-09-16T00:00:00\",\"2022-09-17T00:00:00\",\"2022-09-18T00:00:00\",\"2022-09-19T00:00:00\",\"2022-09-20T00:00:00\",\"2022-09-21T00:00:00\",\"2022-09-22T00:00:00\",\"2022-09-23T00:00:00\",\"2022-09-24T00:00:00\",\"2022-09-25T00:00:00\",\"2022-09-26T00:00:00\",\"2022-09-27T00:00:00\",\"2022-09-28T00:00:00\",\"2022-09-29T00:00:00\",\"2022-09-30T00:00:00\",\"2022-10-01T00:00:00\",\"2022-10-02T00:00:00\",\"2022-10-03T00:00:00\",\"2022-10-04T00:00:00\",\"2022-10-05T00:00:00\",\"2022-10-06T00:00:00\",\"2022-10-07T00:00:00\",\"2022-10-08T00:00:00\",\"2022-10-09T00:00:00\",\"2022-10-10T00:00:00\",\"2022-10-11T00:00:00\",\"2022-10-12T00:00:00\",\"2022-10-13T00:00:00\",\"2022-10-14T00:00:00\",\"2022-10-15T00:00:00\",\"2022-10-16T00:00:00\",\"2022-10-17T00:00:00\",\"2022-10-18T00:00:00\",\"2022-10-19T00:00:00\",\"2022-10-20T00:00:00\",\"2022-10-21T00:00:00\",\"2022-10-22T00:00:00\",\"2022-10-23T00:00:00\",\"2022-10-24T00:00:00\",\"2022-10-25T00:00:00\",\"2022-10-26T00:00:00\",\"2022-10-27T00:00:00\",\"2022-10-28T00:00:00\",\"2022-10-29T00:00:00\",\"2022-10-30T00:00:00\",\"2022-10-31T00:00:00\",\"2022-11-01T00:00:00\",\"2022-11-02T00:00:00\",\"2022-11-03T00:00:00\",\"2022-11-04T00:00:00\",\"2022-11-05T00:00:00\",\"2022-11-06T00:00:00\",\"2022-11-07T00:00:00\",\"2022-11-08T00:00:00\",\"2022-11-09T00:00:00\",\"2022-11-10T00:00:00\",\"2022-11-11T00:00:00\",\"2022-11-12T00:00:00\",\"2022-11-13T00:00:00\",\"2022-11-14T00:00:00\",\"2022-11-15T00:00:00\",\"2022-11-16T00:00:00\",\"2022-11-17T00:00:00\",\"2022-11-18T00:00:00\",\"2022-11-19T00:00:00\",\"2022-11-20T00:00:00\",\"2022-11-21T00:00:00\",\"2022-11-22T00:00:00\",\"2022-11-23T00:00:00\",\"2022-11-24T00:00:00\",\"2022-11-25T00:00:00\",\"2022-11-26T00:00:00\",\"2022-11-27T00:00:00\",\"2022-11-28T00:00:00\"],\"y\":[36.46029516171156,16.040553035867987,-7.870054350574193,39.1254862059781,26.42031729554569,93.40369048160274,2.487188313514662,56.477203898341244,62.48818370412913,41.69960999518861,109.91599947447219,53.67349908718061,17.02650728318864,73.09851093511811,80.93967634734845,58.64191856221377,118.35250950341546,68.86314486428927,35.07456426042424,86.74971024365016,92.21526097387432,93.58542201088898,67.4385279980216,137.40082295416818,78.7649466632095,101.04668857773214,103.48771839415859,111.13030498776227,91.71216561000344,122.92652790131041,125.48325673296178,105.49450415252984,171.22592385455386,131.79244450156875,136.77323368829798,142.6686093565243,119.39161989631695,186.10590658624727,127.24513267847692,95.3193227322451,147.2410719181779,151.0309629136172,158.4439503400203,135.7117232458389,204.25984233310083,142.4245275920976,113.79649622853435,159.32819866520393,164.9211605184739,175.3406379146237,213.3157824097115,157.65585136109377,125.91119094066902,180.40510483988996,185.210827269765,189.9472590652604,164.82192202281996,229.88581236400938,175.8221327646022,146.05477009152747,194.92731323741032,198.0193644791986,206.36899818134762,179.5030531328134,252.22038443017394,212.13444004255382,216.91363894389087,214.64272297312107,197.82506250851316,259.66850041833845,205.3839327398633,179.44578414676636,228.19800597450774,227.56772169027184,235.80871603823107,213.17167641836593,279.61636111065576,219.63430175079037,189.90930192021284,240.93096670526793,243.32673253725198,248.15842505893843,230.0949127171399,292.901333755375,236.5854875703557,205.42163773331532,255.86734790643112,261.6492731912425,265.1984017706961,243.35321942309153,313.0146151378821,250.75502424995923,221.70474992894736,273.41812236376364,276.6133204134557,285.4754073593036,257.7192173510436,324.16354707969276,270.15952485789336,237.53236331145752,286.69317335945516,296.85374336330216,297.17932625583717,274.93380078911196,341.07835644906936,285.43774848534053,256.14117580272114,301.5883717754189,310.0460503269251,316.6771206055856,289.8302702280329,358.0554816332189,300.5201106546932,268.65551156157727,324.4000103141751,324.2639797430526,333.5164452573638,308.45200618057015,375.6032715090799,315.5344488423668,284.93783375951693,336.56131152498335,337.8034519684231,348.427082116872,320.96654798465505,388.56508514671776,334.00833914611917,301.75866495399737,351.3437048978022,353.29458897813754,362.692108947882,338.5467699316384,407.8186809437629,346.4609285407591,319.26710899375934,365.75585459108044,369.9168819716533,379.85984127996517,352.51527294115095,425.22134386589283,362.4747225109022,333.8800628979693,379.58910209603573,388.45309545317406,393.4760414306993,369.0068879374363,440.0196299828723,379.62575168649323,350.57861600524257,401.83923624906436,400.1633559295839,411.3735788361087,388.07790355914744,453.7188728161084,392.5200119396607,363.0923671500744,413.35358364574984]}],                        {\"height\":600,\"showlegend\":false,\"template\":{\"data\":{\"bar\":[{\"error_x\":{\"color\":\"#2a3f5f\"},\"error_y\":{\"color\":\"#2a3f5f\"},\"marker\":{\"line\":{\"color\":\"#E5ECF6\",\"width\":0.5},\"pattern\":{\"fillmode\":\"overlay\",\"size\":10,\"solidity\":0.2}},\"type\":\"bar\"}],\"barpolar\":[{\"marker\":{\"line\":{\"color\":\"#E5ECF6\",\"width\":0.5},\"pattern\":{\"fillmode\":\"overlay\",\"size\":10,\"solidity\":0.2}},\"type\":\"barpolar\"}],\"carpet\":[{\"aaxis\":{\"endlinecolor\":\"#2a3f5f\",\"gridcolor\":\"white\",\"linecolor\":\"white\",\"minorgridcolor\":\"white\",\"startlinecolor\":\"#2a3f5f\"},\"baxis\":{\"endlinecolor\":\"#2a3f5f\",\"gridcolor\":\"white\",\"linecolor\":\"white\",\"minorgridcolor\":\"white\",\"startlinecolor\":\"#2a3f5f\"},\"type\":\"carpet\"}],\"choropleth\":[{\"colorbar\":{\"outlinewidth\":0,\"ticks\":\"\"},\"type\":\"choropleth\"}],\"contour\":[{\"colorbar\":{\"outlinewidth\":0,\"ticks\":\"\"},\"colorscale\":[[0.0,\"#0d0887\"],[0.1111111111111111,\"#46039f\"],[0.2222222222222222,\"#7201a8\"],[0.3333333333333333,\"#9c179e\"],[0.4444444444444444,\"#bd3786\"],[0.5555555555555556,\"#d8576b\"],[0.6666666666666666,\"#ed7953\"],[0.7777777777777778,\"#fb9f3a\"],[0.8888888888888888,\"#fdca26\"],[1.0,\"#f0f921\"]],\"type\":\"contour\"}],\"contourcarpet\":[{\"colorbar\":{\"outlinewidth\":0,\"ticks\":\"\"},\"type\":\"contourcarpet\"}],\"heatmap\":[{\"colorbar\":{\"outlinewidth\":0,\"ticks\":\"\"},\"colorscale\":[[0.0,\"#0d0887\"],[0.1111111111111111,\"#46039f\"],[0.2222222222222222,\"#7201a8\"],[0.3333333333333333,\"#9c179e\"],[0.4444444444444444,\"#bd3786\"],[0.5555555555555556,\"#d8576b\"],[0.6666666666666666,\"#ed7953\"],[0.7777777777777778,\"#fb9f3a\"],[0.8888888888888888,\"#fdca26\"],[1.0,\"#f0f921\"]],\"type\":\"heatmap\"}],\"heatmapgl\":[{\"colorbar\":{\"outlinewidth\":0,\"ticks\":\"\"},\"colorscale\":[[0.0,\"#0d0887\"],[0.1111111111111111,\"#46039f\"],[0.2222222222222222,\"#7201a8\"],[0.3333333333333333,\"#9c179e\"],[0.4444444444444444,\"#bd3786\"],[0.5555555555555556,\"#d8576b\"],[0.6666666666666666,\"#ed7953\"],[0.7777777777777778,\"#fb9f3a\"],[0.8888888888888888,\"#fdca26\"],[1.0,\"#f0f921\"]],\"type\":\"heatmapgl\"}],\"histogram\":[{\"marker\":{\"pattern\":{\"fillmode\":\"overlay\",\"size\":10,\"solidity\":0.2}},\"type\":\"histogram\"}],\"histogram2d\":[{\"colorbar\":{\"outlinewidth\":0,\"ticks\":\"\"},\"colorscale\":[[0.0,\"#0d0887\"],[0.1111111111111111,\"#46039f\"],[0.2222222222222222,\"#7201a8\"],[0.3333333333333333,\"#9c179e\"],[0.4444444444444444,\"#bd3786\"],[0.5555555555555556,\"#d8576b\"],[0.6666666666666666,\"#ed7953\"],[0.7777777777777778,\"#fb9f3a\"],[0.8888888888888888,\"#fdca26\"],[1.0,\"#f0f921\"]],\"type\":\"histogram2d\"}],\"histogram2dcontour\":[{\"colorbar\":{\"outlinewidth\":0,\"ticks\":\"\"},\"colorscale\":[[0.0,\"#0d0887\"],[0.1111111111111111,\"#46039f\"],[0.2222222222222222,\"#7201a8\"],[0.3333333333333333,\"#9c179e\"],[0.4444444444444444,\"#bd3786\"],[0.5555555555555556,\"#d8576b\"],[0.6666666666666666,\"#ed7953\"],[0.7777777777777778,\"#fb9f3a\"],[0.8888888888888888,\"#fdca26\"],[1.0,\"#f0f921\"]],\"type\":\"histogram2dcontour\"}],\"mesh3d\":[{\"colorbar\":{\"outlinewidth\":0,\"ticks\":\"\"},\"type\":\"mesh3d\"}],\"parcoords\":[{\"line\":{\"colorbar\":{\"outlinewidth\":0,\"ticks\":\"\"}},\"type\":\"parcoords\"}],\"pie\":[{\"automargin\":true,\"type\":\"pie\"}],\"scatter\":[{\"marker\":{\"colorbar\":{\"outlinewidth\":0,\"ticks\":\"\"}},\"type\":\"scatter\"}],\"scatter3d\":[{\"line\":{\"colorbar\":{\"outlinewidth\":0,\"ticks\":\"\"}},\"marker\":{\"colorbar\":{\"outlinewidth\":0,\"ticks\":\"\"}},\"type\":\"scatter3d\"}],\"scattercarpet\":[{\"marker\":{\"colorbar\":{\"outlinewidth\":0,\"ticks\":\"\"}},\"type\":\"scattercarpet\"}],\"scattergeo\":[{\"marker\":{\"colorbar\":{\"outlinewidth\":0,\"ticks\":\"\"}},\"type\":\"scattergeo\"}],\"scattergl\":[{\"marker\":{\"colorbar\":{\"outlinewidth\":0,\"ticks\":\"\"}},\"type\":\"scattergl\"}],\"scattermapbox\":[{\"marker\":{\"colorbar\":{\"outlinewidth\":0,\"ticks\":\"\"}},\"type\":\"scattermapbox\"}],\"scatterpolar\":[{\"marker\":{\"colorbar\":{\"outlinewidth\":0,\"ticks\":\"\"}},\"type\":\"scatterpolar\"}],\"scatterpolargl\":[{\"marker\":{\"colorbar\":{\"outlinewidth\":0,\"ticks\":\"\"}},\"type\":\"scatterpolargl\"}],\"scatterternary\":[{\"marker\":{\"colorbar\":{\"outlinewidth\":0,\"ticks\":\"\"}},\"type\":\"scatterternary\"}],\"surface\":[{\"colorbar\":{\"outlinewidth\":0,\"ticks\":\"\"},\"colorscale\":[[0.0,\"#0d0887\"],[0.1111111111111111,\"#46039f\"],[0.2222222222222222,\"#7201a8\"],[0.3333333333333333,\"#9c179e\"],[0.4444444444444444,\"#bd3786\"],[0.5555555555555556,\"#d8576b\"],[0.6666666666666666,\"#ed7953\"],[0.7777777777777778,\"#fb9f3a\"],[0.8888888888888888,\"#fdca26\"],[1.0,\"#f0f921\"]],\"type\":\"surface\"}],\"table\":[{\"cells\":{\"fill\":{\"color\":\"#EBF0F8\"},\"line\":{\"color\":\"white\"}},\"header\":{\"fill\":{\"color\":\"#C8D4E3\"},\"line\":{\"color\":\"white\"}},\"type\":\"table\"}]},\"layout\":{\"annotationdefaults\":{\"arrowcolor\":\"#2a3f5f\",\"arrowhead\":0,\"arrowwidth\":1},\"autotypenumbers\":\"strict\",\"coloraxis\":{\"colorbar\":{\"outlinewidth\":0,\"ticks\":\"\"}},\"colorscale\":{\"diverging\":[[0,\"#8e0152\"],[0.1,\"#c51b7d\"],[0.2,\"#de77ae\"],[0.3,\"#f1b6da\"],[0.4,\"#fde0ef\"],[0.5,\"#f7f7f7\"],[0.6,\"#e6f5d0\"],[0.7,\"#b8e186\"],[0.8,\"#7fbc41\"],[0.9,\"#4d9221\"],[1,\"#276419\"]],\"sequential\":[[0.0,\"#0d0887\"],[0.1111111111111111,\"#46039f\"],[0.2222222222222222,\"#7201a8\"],[0.3333333333333333,\"#9c179e\"],[0.4444444444444444,\"#bd3786\"],[0.5555555555555556,\"#d8576b\"],[0.6666666666666666,\"#ed7953\"],[0.7777777777777778,\"#fb9f3a\"],[0.8888888888888888,\"#fdca26\"],[1.0,\"#f0f921\"]],\"sequentialminus\":[[0.0,\"#0d0887\"],[0.1111111111111111,\"#46039f\"],[0.2222222222222222,\"#7201a8\"],[0.3333333333333333,\"#9c179e\"],[0.4444444444444444,\"#bd3786\"],[0.5555555555555556,\"#d8576b\"],[0.6666666666666666,\"#ed7953\"],[0.7777777777777778,\"#fb9f3a\"],[0.8888888888888888,\"#fdca26\"],[1.0,\"#f0f921\"]]},\"colorway\":[\"#636efa\",\"#EF553B\",\"#00cc96\",\"#ab63fa\",\"#FFA15A\",\"#19d3f3\",\"#FF6692\",\"#B6E880\",\"#FF97FF\",\"#FECB52\"],\"font\":{\"color\":\"#2a3f5f\"},\"geo\":{\"bgcolor\":\"white\",\"lakecolor\":\"white\",\"landcolor\":\"#E5ECF6\",\"showlakes\":true,\"showland\":true,\"subunitcolor\":\"white\"},\"hoverlabel\":{\"align\":\"left\"},\"hovermode\":\"closest\",\"mapbox\":{\"style\":\"light\"},\"paper_bgcolor\":\"white\",\"plot_bgcolor\":\"#E5ECF6\",\"polar\":{\"angularaxis\":{\"gridcolor\":\"white\",\"linecolor\":\"white\",\"ticks\":\"\"},\"bgcolor\":\"#E5ECF6\",\"radialaxis\":{\"gridcolor\":\"white\",\"linecolor\":\"white\",\"ticks\":\"\"}},\"scene\":{\"xaxis\":{\"backgroundcolor\":\"#E5ECF6\",\"gridcolor\":\"white\",\"gridwidth\":2,\"linecolor\":\"white\",\"showbackground\":true,\"ticks\":\"\",\"zerolinecolor\":\"white\"},\"yaxis\":{\"backgroundcolor\":\"#E5ECF6\",\"gridcolor\":\"white\",\"gridwidth\":2,\"linecolor\":\"white\",\"showbackground\":true,\"ticks\":\"\",\"zerolinecolor\":\"white\"},\"zaxis\":{\"backgroundcolor\":\"#E5ECF6\",\"gridcolor\":\"white\",\"gridwidth\":2,\"linecolor\":\"white\",\"showbackground\":true,\"ticks\":\"\",\"zerolinecolor\":\"white\"}},\"shapedefaults\":{\"line\":{\"color\":\"#2a3f5f\"}},\"ternary\":{\"aaxis\":{\"gridcolor\":\"white\",\"linecolor\":\"white\",\"ticks\":\"\"},\"baxis\":{\"gridcolor\":\"white\",\"linecolor\":\"white\",\"ticks\":\"\"},\"bgcolor\":\"#E5ECF6\",\"caxis\":{\"gridcolor\":\"white\",\"linecolor\":\"white\",\"ticks\":\"\"}},\"title\":{\"x\":0.05},\"xaxis\":{\"automargin\":true,\"gridcolor\":\"white\",\"linecolor\":\"white\",\"ticks\":\"\",\"title\":{\"standoff\":15},\"zerolinecolor\":\"white\",\"zerolinewidth\":2},\"yaxis\":{\"automargin\":true,\"gridcolor\":\"white\",\"linecolor\":\"white\",\"ticks\":\"\",\"title\":{\"standoff\":15},\"zerolinecolor\":\"white\",\"zerolinewidth\":2}}},\"width\":900,\"xaxis\":{\"rangeselector\":{\"buttons\":[{\"count\":7,\"label\":\"1w\",\"step\":\"day\",\"stepmode\":\"backward\"},{\"count\":1,\"label\":\"1m\",\"step\":\"month\",\"stepmode\":\"backward\"},{\"count\":6,\"label\":\"6m\",\"step\":\"month\",\"stepmode\":\"backward\"},{\"count\":1,\"label\":\"1y\",\"step\":\"year\",\"stepmode\":\"backward\"},{\"step\":\"all\"}]},\"rangeslider\":{\"visible\":true},\"title\":{\"text\":\"ds\"},\"type\":\"date\"},\"yaxis\":{\"title\":{\"text\":\"y\"}}},                        {\"responsive\": true}                    ).then(function(){\n",
       "                            \n",
       "var gd = document.getElementById('580f07d3-51d7-4330-b56e-4e8dd45cc3fe');\n",
       "var x = new MutationObserver(function (mutations, observer) {{\n",
       "        var display = window.getComputedStyle(gd).display;\n",
       "        if (!display || display === 'none') {{\n",
       "            console.log([gd, 'removed!']);\n",
       "            Plotly.purge(gd);\n",
       "            observer.disconnect();\n",
       "        }}\n",
       "}});\n",
       "\n",
       "// Listen for the removal of the full notebook cells\n",
       "var notebookContainer = gd.closest('#notebook-container');\n",
       "if (notebookContainer) {{\n",
       "    x.observe(notebookContainer, {childList: true});\n",
       "}}\n",
       "\n",
       "// Listen for the clearing of the current output cell\n",
       "var outputEl = gd.closest('.output');\n",
       "if (outputEl) {{\n",
       "    x.observe(outputEl, {childList: true});\n",
       "}}\n",
       "\n",
       "                        })                };                });            </script>        </div>"
      ]
     },
     "metadata": {},
     "output_type": "display_data"
    }
   ],
   "source": [
    "plot_plotly(m, forecast)"
   ]
  },
  {
   "cell_type": "markdown",
   "id": "5a00f720-0626-46be-8ff9-1b47035307ea",
   "metadata": {},
   "source": [
    "<h4>Utilização do Components para ver tendências mensais e de dias da semana</h4>"
   ]
  },
  {
   "cell_type": "code",
   "execution_count": 133,
   "id": "2576ddaa-a393-4f12-8c8d-fa43c70a4f2d",
   "metadata": {},
   "outputs": [
    {
     "data": {
      "image/png": "[encoded data removed]",
      "text/plain": [
       "<Figure size 648x432 with 2 Axes>"
      ]
     },
     "metadata": {},
     "output_type": "display_data"
    }
   ],
   "source": [
    "fig2 = m.plot_components(forecast)"
   ]
  },
  {
   "cell_type": "markdown",
   "id": "e79cddd7-cf73-4aee-af6d-91be60b44c26",
   "metadata": {},
   "source": [
    "<b style=\"color:#1e6d06\">Observação:</b> A tendência é claramente de aumento nos casos, como são poucos dias desde o começo, é difícil ter precisão, porém, sabemos que a quantidade continuará aumentando."
   ]
  },
  {
   "cell_type": "markdown",
   "id": "6a41ae7e-ca92-4851-8191-39263909a968",
   "metadata": {},
   "source": [
    "<div id=\"42\"><h3>Previsão de novos casos diários acumulados</h3></div>"
   ]
  },
  {
   "cell_type": "markdown",
   "id": "1624db03-01ce-4b56-befe-cbf2e3a38f2e",
   "metadata": {},
   "source": [
    "<h4>Alteração da coluna y para somatória utilizando .cumsum()</h4>"
   ]
  },
  {
   "cell_type": "code",
   "execution_count": 134,
   "id": "d926fc23-5b3c-4c75-81d9-9e594310c884",
   "metadata": {},
   "outputs": [
    {
     "data": {
      "text/html": [
       "<div>\n",
       "<style scoped>\n",
       "    .dataframe tbody tr th:only-of-type {\n",
       "        vertical-align: middle;\n",
       "    }\n",
       "\n",
       "    .dataframe tbody tr th {\n",
       "        vertical-align: top;\n",
       "    }\n",
       "\n",
       "    .dataframe thead th {\n",
       "        text-align: right;\n",
       "    }\n",
       "</style>\n",
       "<table border=\"1\" class=\"dataframe\">\n",
       "  <thead>\n",
       "    <tr style=\"text-align: right;\">\n",
       "      <th></th>\n",
       "      <th>ds</th>\n",
       "      <th>y</th>\n",
       "    </tr>\n",
       "  </thead>\n",
       "  <tbody>\n",
       "    <tr>\n",
       "      <th>0</th>\n",
       "      <td>2022-06-08</td>\n",
       "      <td>1</td>\n",
       "    </tr>\n",
       "    <tr>\n",
       "      <th>1</th>\n",
       "      <td>2022-06-11</td>\n",
       "      <td>2</td>\n",
       "    </tr>\n",
       "    <tr>\n",
       "      <th>2</th>\n",
       "      <td>2022-06-12</td>\n",
       "      <td>3</td>\n",
       "    </tr>\n",
       "    <tr>\n",
       "      <th>3</th>\n",
       "      <td>2022-06-14</td>\n",
       "      <td>5</td>\n",
       "    </tr>\n",
       "    <tr>\n",
       "      <th>4</th>\n",
       "      <td>2022-06-16</td>\n",
       "      <td>6</td>\n",
       "    </tr>\n",
       "  </tbody>\n",
       "</table>\n",
       "</div>"
      ],
      "text/plain": [
       "          ds  y\n",
       "0 2022-06-08  1\n",
       "1 2022-06-11  2\n",
       "2 2022-06-12  3\n",
       "3 2022-06-14  5\n",
       "4 2022-06-16  6"
      ]
     },
     "execution_count": 134,
     "metadata": {},
     "output_type": "execute_result"
    }
   ],
   "source": [
    "df['y'] = df['y'].cumsum()\n",
    "df.head()"
   ]
  },
  {
   "cell_type": "code",
   "execution_count": 135,
   "id": "788d7ae4-e651-45ff-a079-d5d6eeaa0971",
   "metadata": {},
   "outputs": [
    {
     "name": "stderr",
     "output_type": "stream",
     "text": [
      "13:23:34 - cmdstanpy - INFO - Chain [1] start processing\n",
      "13:23:35 - cmdstanpy - INFO - Chain [1] done processing\n"
     ]
    },
    {
     "data": {
      "text/plain": [
       "<prophet.forecaster.Prophet at 0x7fd0a17ead90>"
      ]
     },
     "execution_count": 135,
     "metadata": {},
     "output_type": "execute_result"
    }
   ],
   "source": [
    "m = Prophet()\n",
    "m.fit(df)"
   ]
  },
  {
   "cell_type": "code",
   "execution_count": 136,
   "id": "55ea47fc-6b7f-4755-a8f3-53921b069f3d",
   "metadata": {},
   "outputs": [],
   "source": [
    "future = m.make_future_dataframe(periods=90)\n",
    "forecast = m.predict(future)"
   ]
  },
  {
   "cell_type": "code",
   "execution_count": 137,
   "id": "59bb8724-c615-46e7-86ab-0557fe6cf0c0",
   "metadata": {},
   "outputs": [
    {
     "data": {
      "application/vnd.plotly.v1+json": {
       "config": {
        "plotlyServerURL": "https://plot.ly"
       },
       "data": [
        {
         "marker": {
          "color": "black",
          "size": 4
         },
         "mode": "markers",
         "name": "Actual",
         "type": "scatter",
         "x": [
          "2022-06-08T00:00:00",
          "2022-06-11T00:00:00",
          "2022-06-12T00:00:00",
          "2022-06-14T00:00:00",
          "2022-06-16T00:00:00",
          "2022-06-17T00:00:00",
          "2022-06-19T00:00:00",
          "2022-06-21T00:00:00",
          "2022-06-22T00:00:00",
          "2022-06-23T00:00:00",
          "2022-06-24T00:00:00",
          "2022-06-25T00:00:00",
          "2022-06-26T00:00:00",
          "2022-06-28T00:00:00",
          "2022-06-29T00:00:00",
          "2022-06-30T00:00:00",
          "2022-07-01T00:00:00",
          "2022-07-02T00:00:00",
          "2022-07-03T00:00:00",
          "2022-07-04T00:00:00",
          "2022-07-05T00:00:00",
          "2022-07-06T00:00:00",
          "2022-07-07T00:00:00",
          "2022-07-08T00:00:00",
          "2022-07-09T00:00:00",
          "2022-07-11T00:00:00",
          "2022-07-12T00:00:00",
          "2022-07-13T00:00:00",
          "2022-07-14T00:00:00",
          "2022-07-19T00:00:00",
          "2022-07-20T00:00:00",
          "2022-07-21T00:00:00",
          "2022-07-22T00:00:00",
          "2022-07-25T00:00:00",
          "2022-07-26T00:00:00",
          "2022-07-27T00:00:00",
          "2022-07-28T00:00:00",
          "2022-07-29T00:00:00",
          "2022-07-30T00:00:00",
          "2022-07-31T00:00:00",
          "2022-08-01T00:00:00",
          "2022-08-02T00:00:00",
          "2022-08-03T00:00:00",
          "2022-08-04T00:00:00",
          "2022-08-05T00:00:00",
          "2022-08-06T00:00:00",
          "2022-08-07T00:00:00",
          "2022-08-08T00:00:00",
          "2022-08-09T00:00:00",
          "2022-08-10T00:00:00",
          "2022-08-12T00:00:00",
          "2022-08-13T00:00:00",
          "2022-08-14T00:00:00",
          "2022-08-15T00:00:00",
          "2022-08-16T00:00:00",
          "2022-08-17T00:00:00",
          "2022-08-18T00:00:00",
          "2022-08-19T00:00:00",
          "2022-08-20T00:00:00",
          "2022-08-21T00:00:00",
          "2022-08-22T00:00:00",
          "2022-08-23T00:00:00",
          "2022-08-24T00:00:00",
          "2022-08-25T00:00:00",
          "2022-08-26T00:00:00",
          "2022-08-29T00:00:00",
          "2022-08-30T00:00:00"
         ],
         "y": [
          1,
          2,
          3,
          5,
          6,
          7,
          8,
          9,
          11,
          16,
          17,
          19,
          20,
          21,
          37,
          49,
          64,
          76,
          78,
          80,
          106,
          142,
          172,
          204,
          218,
          228,
          266,
          308,
          347,
          448,
          591,
          604,
          694,
          809,
          865,
          977,
          1066,
          1259,
          1343,
          1370,
          1475,
          1603,
          1721,
          1860,
          2004,
          2108,
          2131,
          2293,
          2415,
          2458,
          2746,
          2848,
          2893,
          2985,
          3183,
          3359,
          3450,
          3655,
          3755,
          3787,
          3896,
          3984,
          4144,
          4216,
          4472,
          4692,
          4876
         ]
        },
        {
         "hoverinfo": "skip",
         "line": {
          "width": 0
         },
         "mode": "lines",
         "type": "scatter",
         "x": [
          "2022-06-08T00:00:00",
          "2022-06-11T00:00:00",
          "2022-06-12T00:00:00",
          "2022-06-14T00:00:00",
          "2022-06-16T00:00:00",
          "2022-06-17T00:00:00",
          "2022-06-19T00:00:00",
          "2022-06-21T00:00:00",
          "2022-06-22T00:00:00",
          "2022-06-23T00:00:00",
          "2022-06-24T00:00:00",
          "2022-06-25T00:00:00",
          "2022-06-26T00:00:00",
          "2022-06-28T00:00:00",
          "2022-06-29T00:00:00",
          "2022-06-30T00:00:00",
          "2022-07-01T00:00:00",
          "2022-07-02T00:00:00",
          "2022-07-03T00:00:00",
          "2022-07-04T00:00:00",
          "2022-07-05T00:00:00",
          "2022-07-06T00:00:00",
          "2022-07-07T00:00:00",
          "2022-07-08T00:00:00",
          "2022-07-09T00:00:00",
          "2022-07-11T00:00:00",
          "2022-07-12T00:00:00",
          "2022-07-13T00:00:00",
          "2022-07-14T00:00:00",
          "2022-07-19T00:00:00",
          "2022-07-20T00:00:00",
          "2022-07-21T00:00:00",
          "2022-07-22T00:00:00",
          "2022-07-25T00:00:00",
          "2022-07-26T00:00:00",
          "2022-07-27T00:00:00",
          "2022-07-28T00:00:00",
          "2022-07-29T00:00:00",
          "2022-07-30T00:00:00",
          "2022-07-31T00:00:00",
          "2022-08-01T00:00:00",
          "2022-08-02T00:00:00",
          "2022-08-03T00:00:00",
          "2022-08-04T00:00:00",
          "2022-08-05T00:00:00",
          "2022-08-06T00:00:00",
          "2022-08-07T00:00:00",
          "2022-08-08T00:00:00",
          "2022-08-09T00:00:00",
          "2022-08-10T00:00:00",
          "2022-08-12T00:00:00",
          "2022-08-13T00:00:00",
          "2022-08-14T00:00:00",
          "2022-08-15T00:00:00",
          "2022-08-16T00:00:00",
          "2022-08-17T00:00:00",
          "2022-08-18T00:00:00",
          "2022-08-19T00:00:00",
          "2022-08-20T00:00:00",
          "2022-08-21T00:00:00",
          "2022-08-22T00:00:00",
          "2022-08-23T00:00:00",
          "2022-08-24T00:00:00",
          "2022-08-25T00:00:00",
          "2022-08-26T00:00:00",
          "2022-08-29T00:00:00",
          "2022-08-30T00:00:00",
          "2022-08-31T00:00:00",
          "2022-09-01T00:00:00",
          "2022-09-02T00:00:00",
          "2022-09-03T00:00:00",
          "2022-09-04T00:00:00",
          "2022-09-05T00:00:00",
          "2022-09-06T00:00:00",
          "2022-09-07T00:00:00",
          "2022-09-08T00:00:00",
          "2022-09-09T00:00:00",
          "2022-09-10T00:00:00",
          "2022-09-11T00:00:00",
          "2022-09-12T00:00:00",
          "2022-09-13T00:00:00",
          "2022-09-14T00:00:00",
          "2022-09-15T00:00:00",
          "2022-09-16T00:00:00",
          "2022-09-17T00:00:00",
          "2022-09-18T00:00:00",
          "2022-09-19T00:00:00",
          "2022-09-20T00:00:00",
          "2022-09-21T00:00:00",
          "2022-09-22T00:00:00",
          "2022-09-23T00:00:00",
          "2022-09-24T00:00:00",
          "2022-09-25T00:00:00",
          "2022-09-26T00:00:00",
          "2022-09-27T00:00:00",
          "2022-09-28T00:00:00",
          "2022-09-29T00:00:00",
          "2022-09-30T00:00:00",
          "2022-10-01T00:00:00",
          "2022-10-02T00:00:00",
          "2022-10-03T00:00:00",
          "2022-10-04T00:00:00",
          "2022-10-05T00:00:00",
          "2022-10-06T00:00:00",
          "2022-10-07T00:00:00",
          "2022-10-08T00:00:00",
          "2022-10-09T00:00:00",
          "2022-10-10T00:00:00",
          "2022-10-11T00:00:00",
          "2022-10-12T00:00:00",
          "2022-10-13T00:00:00",
          "2022-10-14T00:00:00",
          "2022-10-15T00:00:00",
          "2022-10-16T00:00:00",
          "2022-10-17T00:00:00",
          "2022-10-18T00:00:00",
          "2022-10-19T00:00:00",
          "2022-10-20T00:00:00",
          "2022-10-21T00:00:00",
          "2022-10-22T00:00:00",
          "2022-10-23T00:00:00",
          "2022-10-24T00:00:00",
          "2022-10-25T00:00:00",
          "2022-10-26T00:00:00",
          "2022-10-27T00:00:00",
          "2022-10-28T00:00:00",
          "2022-10-29T00:00:00",
          "2022-10-30T00:00:00",
          "2022-10-31T00:00:00",
          "2022-11-01T00:00:00",
          "2022-11-02T00:00:00",
          "2022-11-03T00:00:00",
          "2022-11-04T00:00:00",
          "2022-11-05T00:00:00",
          "2022-11-06T00:00:00",
          "2022-11-07T00:00:00",
          "2022-11-08T00:00:00",
          "2022-11-09T00:00:00",
          "2022-11-10T00:00:00",
          "2022-11-11T00:00:00",
          "2022-11-12T00:00:00",
          "2022-11-13T00:00:00",
          "2022-11-14T00:00:00",
          "2022-11-15T00:00:00",
          "2022-11-16T00:00:00",
          "2022-11-17T00:00:00",
          "2022-11-18T00:00:00",
          "2022-11-19T00:00:00",
          "2022-11-20T00:00:00",
          "2022-11-21T00:00:00",
          "2022-11-22T00:00:00",
          "2022-11-23T00:00:00",
          "2022-11-24T00:00:00",
          "2022-11-25T00:00:00",
          "2022-11-26T00:00:00",
          "2022-11-27T00:00:00",
          "2022-11-28T00:00:00"
         ],
         "y": [
          -33.28007996672954,
          -6.743998585610234,
          -53.100974636290005,
          -45.56088257779999,
          -31.707675093205832,
          13.14739529904089,
          -47.38112413469129,
          -37.17814615176911,
          -21.516812852724833,
          -22.85355875901631,
          18.43114923807955,
          13.180014199312627,
          -30.316291053973274,
          -13.022889886480918,
          11.098379561985087,
          13.691194331290534,
          62.54694207638711,
          54.14638309915471,
          26.840509882913835,
          29.96875138605977,
          71.44540923625144,
          108.46224102496733,
          126.03284629737998,
          186.19381831233733,
          200.95825690728756,
          190.92181045704123,
          234.32326387553675,
          279.22564680369925,
          307.32558530891174,
          445.8883746036329,
          517.5280269801393,
          572.6214503691685,
          671.5467939199262,
          766.8125344743147,
          856.6751277337182,
          945.243916876776,
          1047.736686336473,
          1198.742718369508,
          1295.4164811982457,
          1359.2548871225504,
          1452.3641249517243,
          1580.2118835724534,
          1709.057557632068,
          1812.2535710939612,
          1961.7903635630107,
          2057.7562564595346,
          2123.879820762704,
          2215.943947886127,
          2343.800050302326,
          2471.8973018751885,
          2728.0801665685995,
          2833.775180889159,
          2908.1548088215527,
          3011.905411285537,
          3149.7753865777186,
          3287.133907755482,
          3403.9180440203345,
          3566.029817757895,
          3671.062725440981,
          3746.0657419557865,
          3851.2621349518868,
          3988.884073775923,
          4128.232279190689,
          4242.456153732671,
          4400.451601633303,
          4687.808281385759,
          4825.906274513145,
          4962.079743995609,
          5079.09712681238,
          5237.4174681948725,
          5342.048825607754,
          5409.245552088448,
          5508.755039133734,
          5644.472429611133,
          5768.6222555204,
          5877.740173088452,
          6025.013316975715,
          6119.1435548870595,
          6182.157881045953,
          6271.211428319947,
          6395.757651348259,
          6523.60651395388,
          6627.259163816125,
          6764.423035372345,
          6866.799254538724,
          6921.981218060703,
          6998.97449597807,
          7121.98309014723,
          7250.22706719858,
          7344.66129451933,
          7487.356141460449,
          7566.675856104501,
          7632.306649875401,
          7717.424473524379,
          7830.836869363993,
          7952.908313647232,
          8051.170162632944,
          8182.078336374571,
          8269.460248564095,
          8321.351028566472,
          8403.100901193106,
          8527.21723141864,
          8634.529738731908,
          8735.020464312287,
          8864.80767759972,
          8963.80404707417,
          9008.773081159885,
          9083.298863575108,
          9197.363979211794,
          9288.097397175445,
          9381.333412665606,
          9521.604532413394,
          9577.416437423315,
          9618.81899249232,
          9711.220891448973,
          9806.689095286436,
          9909.131896744935,
          10034.967121116244,
          10156.564826511149,
          10221.033116224113,
          10277.367339954502,
          10358.396177876144,
          10467.264323667318,
          10572.597102681904,
          10649.562823651178,
          10782.87871786839,
          10843.237274745929,
          10896.330199766799,
          10971.819839821357,
          11088.073646881892,
          11204.036340922577,
          11277.711134995545,
          11408.82848132564,
          11490.521377331252,
          11511.885016001952,
          11574.830553348314,
          11675.391292993641,
          11812.865399156362,
          11892.04021554705,
          12016.893658401112,
          12086.571853008612,
          12117.003512150446,
          12187.526778565445,
          12281.86272732787,
          12400.574605063126,
          12471.416114545747,
          12590.74026011357,
          12666.440253118944,
          12697.969696412183,
          12756.288538102686,
          12853.452793993929,
          12958.818664078393,
          13041.804294565161,
          13169.392664889825,
          13200.516770948845,
          13241.925611068164,
          13291.127226059143
         ]
        },
        {
         "fill": "tonexty",
         "fillcolor": "rgba(0, 114, 178, 0.2)",
         "line": {
          "color": "#0072B2",
          "width": 2
         },
         "mode": "lines",
         "name": "Predicted",
         "type": "scatter",
         "x": [
          "2022-06-08T00:00:00",
          "2022-06-11T00:00:00",
          "2022-06-12T00:00:00",
          "2022-06-14T00:00:00",
          "2022-06-16T00:00:00",
          "2022-06-17T00:00:00",
          "2022-06-19T00:00:00",
          "2022-06-21T00:00:00",
          "2022-06-22T00:00:00",
          "2022-06-23T00:00:00",
          "2022-06-24T00:00:00",
          "2022-06-25T00:00:00",
          "2022-06-26T00:00:00",
          "2022-06-28T00:00:00",
          "2022-06-29T00:00:00",
          "2022-06-30T00:00:00",
          "2022-07-01T00:00:00",
          "2022-07-02T00:00:00",
          "2022-07-03T00:00:00",
          "2022-07-04T00:00:00",
          "2022-07-05T00:00:00",
          "2022-07-06T00:00:00",
          "2022-07-07T00:00:00",
          "2022-07-08T00:00:00",
          "2022-07-09T00:00:00",
          "2022-07-11T00:00:00",
          "2022-07-12T00:00:00",
          "2022-07-13T00:00:00",
          "2022-07-14T00:00:00",
          "2022-07-19T00:00:00",
          "2022-07-20T00:00:00",
          "2022-07-21T00:00:00",
          "2022-07-22T00:00:00",
          "2022-07-25T00:00:00",
          "2022-07-26T00:00:00",
          "2022-07-27T00:00:00",
          "2022-07-28T00:00:00",
          "2022-07-29T00:00:00",
          "2022-07-30T00:00:00",
          "2022-07-31T00:00:00",
          "2022-08-01T00:00:00",
          "2022-08-02T00:00:00",
          "2022-08-03T00:00:00",
          "2022-08-04T00:00:00",
          "2022-08-05T00:00:00",
          "2022-08-06T00:00:00",
          "2022-08-07T00:00:00",
          "2022-08-08T00:00:00",
          "2022-08-09T00:00:00",
          "2022-08-10T00:00:00",
          "2022-08-12T00:00:00",
          "2022-08-13T00:00:00",
          "2022-08-14T00:00:00",
          "2022-08-15T00:00:00",
          "2022-08-16T00:00:00",
          "2022-08-17T00:00:00",
          "2022-08-18T00:00:00",
          "2022-08-19T00:00:00",
          "2022-08-20T00:00:00",
          "2022-08-21T00:00:00",
          "2022-08-22T00:00:00",
          "2022-08-23T00:00:00",
          "2022-08-24T00:00:00",
          "2022-08-25T00:00:00",
          "2022-08-26T00:00:00",
          "2022-08-29T00:00:00",
          "2022-08-30T00:00:00",
          "2022-08-31T00:00:00",
          "2022-09-01T00:00:00",
          "2022-09-02T00:00:00",
          "2022-09-03T00:00:00",
          "2022-09-04T00:00:00",
          "2022-09-05T00:00:00",
          "2022-09-06T00:00:00",
          "2022-09-07T00:00:00",
          "2022-09-08T00:00:00",
          "2022-09-09T00:00:00",
          "2022-09-10T00:00:00",
          "2022-09-11T00:00:00",
          "2022-09-12T00:00:00",
          "2022-09-13T00:00:00",
          "2022-09-14T00:00:00",
          "2022-09-15T00:00:00",
          "2022-09-16T00:00:00",
          "2022-09-17T00:00:00",
          "2022-09-18T00:00:00",
          "2022-09-19T00:00:00",
          "2022-09-20T00:00:00",
          "2022-09-21T00:00:00",
          "2022-09-22T00:00:00",
          "2022-09-23T00:00:00",
          "2022-09-24T00:00:00",
          "2022-09-25T00:00:00",
          "2022-09-26T00:00:00",
          "2022-09-27T00:00:00",
          "2022-09-28T00:00:00",
          "2022-09-29T00:00:00",
          "2022-09-30T00:00:00",
          "2022-10-01T00:00:00",
          "2022-10-02T00:00:00",
          "2022-10-03T00:00:00",
          "2022-10-04T00:00:00",
          "2022-10-05T00:00:00",
          "2022-10-06T00:00:00",
          "2022-10-07T00:00:00",
          "2022-10-08T00:00:00",
          "2022-10-09T00:00:00",
          "2022-10-10T00:00:00",
          "2022-10-11T00:00:00",
          "2022-10-12T00:00:00",
          "2022-10-13T00:00:00",
          "2022-10-14T00:00:00",
          "2022-10-15T00:00:00",
          "2022-10-16T00:00:00",
          "2022-10-17T00:00:00",
          "2022-10-18T00:00:00",
          "2022-10-19T00:00:00",
          "2022-10-20T00:00:00",
          "2022-10-21T00:00:00",
          "2022-10-22T00:00:00",
          "2022-10-23T00:00:00",
          "2022-10-24T00:00:00",
          "2022-10-25T00:00:00",
          "2022-10-26T00:00:00",
          "2022-10-27T00:00:00",
          "2022-10-28T00:00:00",
          "2022-10-29T00:00:00",
          "2022-10-30T00:00:00",
          "2022-10-31T00:00:00",
          "2022-11-01T00:00:00",
          "2022-11-02T00:00:00",
          "2022-11-03T00:00:00",
          "2022-11-04T00:00:00",
          "2022-11-05T00:00:00",
          "2022-11-06T00:00:00",
          "2022-11-07T00:00:00",
          "2022-11-08T00:00:00",
          "2022-11-09T00:00:00",
          "2022-11-10T00:00:00",
          "2022-11-11T00:00:00",
          "2022-11-12T00:00:00",
          "2022-11-13T00:00:00",
          "2022-11-14T00:00:00",
          "2022-11-15T00:00:00",
          "2022-11-16T00:00:00",
          "2022-11-17T00:00:00",
          "2022-11-18T00:00:00",
          "2022-11-19T00:00:00",
          "2022-11-20T00:00:00",
          "2022-11-21T00:00:00",
          "2022-11-22T00:00:00",
          "2022-11-23T00:00:00",
          "2022-11-24T00:00:00",
          "2022-11-25T00:00:00",
          "2022-11-26T00:00:00",
          "2022-11-27T00:00:00",
          "2022-11-28T00:00:00"
         ],
         "y": [
          -2.7612880126043886,
          24.28321988949544,
          -20.252788507683615,
          -14.85894901936474,
          0.6510254732010081,
          43.07814351517313,
          -13.85604131883891,
          -8.462201788863911,
          10.03220695064886,
          7.066894831328597,
          49.51313501352019,
          42.26873209458858,
          2.886496937044285,
          18.615959006339438,
          42.27817901546894,
          44.46155607986047,
          92.09890435481591,
          84.91095828997157,
          59.46186475756623,
          63.34512886031548,
          103.05876845044156,
          140.66932640314607,
          156.83862279927862,
          218.41947149707545,
          231.49232445741663,
          222.69472353611508,
          268.7850288498859,
          312.7722525261178,
          339.19277730106114,
          477.10434510289224,
          551.6266140755951,
          604.6700401035637,
          703.1371201950844,
          799.1191706085016,
          888.2938764263848,
          975.3655006068626,
          1080.5455858908374,
          1231.1372234763514,
          1326.9405486561006,
          1390.6060415970137,
          1483.603892173279,
          1612.4299074701978,
          1739.1528411297193,
          1844.4001933187253,
          1995.0590978092334,
          2090.892708013898,
          2154.5884859799216,
          2247.6166226956384,
          2376.445900635104,
          2503.172097149966,
          2759.0783565918055,
          2865.3811513528103,
          2939.546113875145,
          3043.0674714788606,
          3182.389970306381,
          3319.6093874964477,
          3435.349961741823,
          3596.502088288753,
          3702.8289204960224,
          3777.0179204646383,
          3880.5392780683633,
          4019.8617768958775,
          4157.081194086029,
          4272.821768331421,
          4433.973894878366,
          4718.011084657963,
          4857.333583485467,
          4994.553000675594,
          5110.293574921018,
          5271.44570146798,
          5377.772533675294,
          5451.961533643755,
          5555.482891247562,
          5694.805390075088,
          5832.024807265196,
          5947.7653815105205,
          6108.917508057553,
          6215.244340264855,
          6289.43334023329,
          6392.954697837161,
          6532.277196664647,
          6669.496613854767,
          6785.237188100117,
          6946.389314647168,
          7052.716146854381,
          7126.905146823013,
          7230.426504426664,
          7369.749003254268,
          7506.968420444349,
          7622.708994689713,
          7783.861121236761,
          7890.187953443976,
          7964.37695341259,
          8067.898311016304,
          8207.22080984389,
          8344.440227033932,
          8460.180801279312,
          8621.332927826254,
          8727.6597600335,
          8801.848760002085,
          8905.370117605864,
          9044.692616433478,
          9181.912033623523,
          9297.652607868908,
          9458.804734415846,
          9565.131566623028,
          9639.320566591665,
          9742.841924195458,
          9882.164423022976,
          10019.383840213086,
          10135.124414458502,
          10296.276541005458,
          10402.603373212773,
          10476.792373181383,
          10580.31373078506,
          10719.636229612564,
          10856.855646802684,
          10972.5962210481,
          11133.748347595054,
          11240.075179802294,
          11314.264179770962,
          11417.78553737466,
          11557.108036202184,
          11694.32745339225,
          11810.068027637604,
          11971.220154184644,
          12077.546986391857,
          12151.73598636046,
          12255.257343964215,
          12394.579842791649,
          12531.799259981817,
          12647.5398342272,
          12808.69196077424,
          12915.018792981418,
          12989.207792950036,
          13092.72915055376,
          13232.051649381272,
          13369.271066571397,
          13485.011640816798,
          13646.163767363854,
          13752.490599571127,
          13826.679599539615,
          13930.200957143363,
          14069.523455970857,
          14206.742873160982,
          14322.483447406395,
          14483.635573953325,
          14589.962406160654,
          14664.151406129111,
          14767.672763732957,
          14906.99526256045,
          15044.214679750567,
          15159.955253995988,
          15321.10738054294,
          15427.434212750213,
          15501.623212718687,
          15605.144570322462
         ]
        },
        {
         "fill": "tonexty",
         "fillcolor": "rgba(0, 114, 178, 0.2)",
         "hoverinfo": "skip",
         "line": {
          "width": 0
         },
         "mode": "lines",
         "type": "scatter",
         "x": [
          "2022-06-08T00:00:00",
          "2022-06-11T00:00:00",
          "2022-06-12T00:00:00",
          "2022-06-14T00:00:00",
          "2022-06-16T00:00:00",
          "2022-06-17T00:00:00",
          "2022-06-19T00:00:00",
          "2022-06-21T00:00:00",
          "2022-06-22T00:00:00",
          "2022-06-23T00:00:00",
          "2022-06-24T00:00:00",
          "2022-06-25T00:00:00",
          "2022-06-26T00:00:00",
          "2022-06-28T00:00:00",
          "2022-06-29T00:00:00",
          "2022-06-30T00:00:00",
          "2022-07-01T00:00:00",
          "2022-07-02T00:00:00",
          "2022-07-03T00:00:00",
          "2022-07-04T00:00:00",
          "2022-07-05T00:00:00",
          "2022-07-06T00:00:00",
          "2022-07-07T00:00:00",
          "2022-07-08T00:00:00",
          "2022-07-09T00:00:00",
          "2022-07-11T00:00:00",
          "2022-07-12T00:00:00",
          "2022-07-13T00:00:00",
          "2022-07-14T00:00:00",
          "2022-07-19T00:00:00",
          "2022-07-20T00:00:00",
          "2022-07-21T00:00:00",
          "2022-07-22T00:00:00",
          "2022-07-25T00:00:00",
          "2022-07-26T00:00:00",
          "2022-07-27T00:00:00",
          "2022-07-28T00:00:00",
          "2022-07-29T00:00:00",
          "2022-07-30T00:00:00",
          "2022-07-31T00:00:00",
          "2022-08-01T00:00:00",
          "2022-08-02T00:00:00",
          "2022-08-03T00:00:00",
          "2022-08-04T00:00:00",
          "2022-08-05T00:00:00",
          "2022-08-06T00:00:00",
          "2022-08-07T00:00:00",
          "2022-08-08T00:00:00",
          "2022-08-09T00:00:00",
          "2022-08-10T00:00:00",
          "2022-08-12T00:00:00",
          "2022-08-13T00:00:00",
          "2022-08-14T00:00:00",
          "2022-08-15T00:00:00",
          "2022-08-16T00:00:00",
          "2022-08-17T00:00:00",
          "2022-08-18T00:00:00",
          "2022-08-19T00:00:00",
          "2022-08-20T00:00:00",
          "2022-08-21T00:00:00",
          "2022-08-22T00:00:00",
          "2022-08-23T00:00:00",
          "2022-08-24T00:00:00",
          "2022-08-25T00:00:00",
          "2022-08-26T00:00:00",
          "2022-08-29T00:00:00",
          "2022-08-30T00:00:00",
          "2022-08-31T00:00:00",
          "2022-09-01T00:00:00",
          "2022-09-02T00:00:00",
          "2022-09-03T00:00:00",
          "2022-09-04T00:00:00",
          "2022-09-05T00:00:00",
          "2022-09-06T00:00:00",
          "2022-09-07T00:00:00",
          "2022-09-08T00:00:00",
          "2022-09-09T00:00:00",
          "2022-09-10T00:00:00",
          "2022-09-11T00:00:00",
          "2022-09-12T00:00:00",
          "2022-09-13T00:00:00",
          "2022-09-14T00:00:00",
          "2022-09-15T00:00:00",
          "2022-09-16T00:00:00",
          "2022-09-17T00:00:00",
          "2022-09-18T00:00:00",
          "2022-09-19T00:00:00",
          "2022-09-20T00:00:00",
          "2022-09-21T00:00:00",
          "2022-09-22T00:00:00",
          "2022-09-23T00:00:00",
          "2022-09-24T00:00:00",
          "2022-09-25T00:00:00",
          "2022-09-26T00:00:00",
          "2022-09-27T00:00:00",
          "2022-09-28T00:00:00",
          "2022-09-29T00:00:00",
          "2022-09-30T00:00:00",
          "2022-10-01T00:00:00",
          "2022-10-02T00:00:00",
          "2022-10-03T00:00:00",
          "2022-10-04T00:00:00",
          "2022-10-05T00:00:00",
          "2022-10-06T00:00:00",
          "2022-10-07T00:00:00",
          "2022-10-08T00:00:00",
          "2022-10-09T00:00:00",
          "2022-10-10T00:00:00",
          "2022-10-11T00:00:00",
          "2022-10-12T00:00:00",
          "2022-10-13T00:00:00",
          "2022-10-14T00:00:00",
          "2022-10-15T00:00:00",
          "2022-10-16T00:00:00",
          "2022-10-17T00:00:00",
          "2022-10-18T00:00:00",
          "2022-10-19T00:00:00",
          "2022-10-20T00:00:00",
          "2022-10-21T00:00:00",
          "2022-10-22T00:00:00",
          "2022-10-23T00:00:00",
          "2022-10-24T00:00:00",
          "2022-10-25T00:00:00",
          "2022-10-26T00:00:00",
          "2022-10-27T00:00:00",
          "2022-10-28T00:00:00",
          "2022-10-29T00:00:00",
          "2022-10-30T00:00:00",
          "2022-10-31T00:00:00",
          "2022-11-01T00:00:00",
          "2022-11-02T00:00:00",
          "2022-11-03T00:00:00",
          "2022-11-04T00:00:00",
          "2022-11-05T00:00:00",
          "2022-11-06T00:00:00",
          "2022-11-07T00:00:00",
          "2022-11-08T00:00:00",
          "2022-11-09T00:00:00",
          "2022-11-10T00:00:00",
          "2022-11-11T00:00:00",
          "2022-11-12T00:00:00",
          "2022-11-13T00:00:00",
          "2022-11-14T00:00:00",
          "2022-11-15T00:00:00",
          "2022-11-16T00:00:00",
          "2022-11-17T00:00:00",
          "2022-11-18T00:00:00",
          "2022-11-19T00:00:00",
          "2022-11-20T00:00:00",
          "2022-11-21T00:00:00",
          "2022-11-22T00:00:00",
          "2022-11-23T00:00:00",
          "2022-11-24T00:00:00",
          "2022-11-25T00:00:00",
          "2022-11-26T00:00:00",
          "2022-11-27T00:00:00",
          "2022-11-28T00:00:00"
         ],
         "y": [
          29.329337627882985,
          56.30426500672825,
          11.561030157606673,
          17.43946584457464,
          33.870993188346795,
          71.63978469185967,
          17.06136200175781,
          22.496557518233544,
          41.37334488403393,
          39.55451670174973,
          81.33864935601545,
          73.15813942599817,
          33.830740421112324,
          52.514356464737,
          73.1497845406913,
          75.72695681287101,
          123.58596316258082,
          119.6044362810959,
          90.63445622764542,
          96.45972761064108,
          132.45994534852545,
          173.52921009251784,
          188.30707497181808,
          250.96863632968015,
          264.7933450292582,
          254.8250523418299,
          299.0996198687054,
          346.6978942533794,
          371.4437934884203,
          508.144815208783,
          584.0191717218521,
          634.2054377536069,
          734.791200807427,
          830.0682358392737,
          919.6898602419484,
          1007.20498521614,
          1111.943340759941,
          1263.0526560706826,
          1356.2903464192113,
          1422.5514698772315,
          1514.903833875975,
          1645.5652213114702,
          1771.4590548137232,
          1875.4416490996127,
          2026.225884524695,
          2120.9920326984698,
          2185.7901551609084,
          2278.7266784337485,
          2409.4394914367535,
          2534.2620721095445,
          2793.220129776238,
          2896.437981865828,
          2969.6597343858234,
          3077.1062522867187,
          3213.904596624754,
          3349.976416211988,
          3466.843486324806,
          3629.525763241577,
          3734.929526862178,
          3808.5826180944364,
          3913.7197481584044,
          4049.391093316817,
          4187.730831051226,
          4307.322846279798,
          4465.284524892654,
          4749.073893191071,
          4889.164694990044,
          5028.256116876766,
          5145.178915401451,
          5305.9010860311855,
          5416.027185720661,
          5490.493426025169,
          5602.0147496726095,
          5744.4380642513015,
          5892.28386609735,
          6016.279771575225,
          6188.623564304356,
          6305.139201021122,
          6390.914153780531,
          6511.323667294755,
          6664.247869034573,
          6816.069703521794,
          6938.975894811346,
          7121.925434966076,
          7242.6529432107445,
          7338.688219896191,
          7459.411283492021,
          7602.799526868203,
          7778.762753522938,
          7905.416861649308,
          8087.207422749915,
          8212.135651923889,
          8302.86258060549,
          8430.013069196835,
          8591.253105727525,
          8738.72120540433,
          8877.028983657628,
          9066.033575064546,
          9197.108056752297,
          9299.693398750376,
          9420.253484049252,
          9584.367570928942,
          9741.454418683044,
          9871.683615243168,
          10066.088509030775,
          10194.899888024958,
          10304.128970136422,
          10437.795361776134,
          10597.817637348811,
          10763.437162302727,
          10896.159369038705,
          11102.334923598153,
          11236.457085947317,
          11347.085226200092,
          11462.267193737522,
          11612.910187745083,
          11791.228494685089,
          11946.21729986932,
          12136.370996916983,
          12271.373357709588,
          12371.738511228717,
          12506.710337713635,
          12674.453914748787,
          12839.073021047821,
          12980.6964288175,
          13189.240286896154,
          13325.811872880056,
          13424.961426856113,
          13556.518261728601,
          13735.69130621156,
          13899.60550276124,
          14056.546987109776,
          14257.50108733106,
          14406.4579411278,
          14519.965560727102,
          14657.898050357573,
          14820.72597287497,
          15021.652472929376,
          15151.44740042839,
          15344.168342871748,
          15513.396477148945,
          15624.362592514977,
          15777.446284147683,
          15953.848701018804,
          16113.64913117997,
          16292.315485741094,
          16479.60731476339,
          16631.568635433123,
          16744.50725008157,
          16871.733559426586,
          17050.84931735194,
          17232.434491871787,
          17366.63144755305,
          17577.940669221134,
          17751.843323060897,
          17857.791911693646,
          18017.46776869936
         ]
        }
       ],
       "layout": {
        "height": 600,
        "showlegend": false,
        "template": {
         "data": {
          "bar": [
           {
            "error_x": {
             "color": "#2a3f5f"
            },
            "error_y": {
             "color": "#2a3f5f"
            },
            "marker": {
             "line": {
              "color": "#E5ECF6",
              "width": 0.5
             },
             "pattern": {
              "fillmode": "overlay",
              "size": 10,
              "solidity": 0.2
             }
            },
            "type": "bar"
           }
          ],
          "barpolar": [
           {
            "marker": {
             "line": {
              "color": "#E5ECF6",
              "width": 0.5
             },
             "pattern": {
              "fillmode": "overlay",
              "size": 10,
              "solidity": 0.2
             }
            },
            "type": "barpolar"
           }
          ],
          "carpet": [
           {
            "aaxis": {
             "endlinecolor": "#2a3f5f",
             "gridcolor": "white",
             "linecolor": "white",
             "minorgridcolor": "white",
             "startlinecolor": "#2a3f5f"
            },
            "baxis": {
             "endlinecolor": "#2a3f5f",
             "gridcolor": "white",
             "linecolor": "white",
             "minorgridcolor": "white",
             "startlinecolor": "#2a3f5f"
            },
            "type": "carpet"
           }
          ],
          "choropleth": [
           {
            "colorbar": {
             "outlinewidth": 0,
             "ticks": ""
            },
            "type": "choropleth"
           }
          ],
          "contour": [
           {
            "colorbar": {
             "outlinewidth": 0,
             "ticks": ""
            },
            "colorscale": [
             [
              0,
              "#0d0887"
             ],
             [
              0.1111111111111111,
              "#46039f"
             ],
             [
              0.2222222222222222,
              "#7201a8"
             ],
             [
              0.3333333333333333,
              "#9c179e"
             ],
             [
              0.4444444444444444,
              "#bd3786"
             ],
             [
              0.5555555555555556,
              "#d8576b"
             ],
             [
              0.6666666666666666,
              "#ed7953"
             ],
             [
              0.7777777777777778,
              "#fb9f3a"
             ],
             [
              0.8888888888888888,
              "#fdca26"
             ],
             [
              1,
              "#f0f921"
             ]
            ],
            "type": "contour"
           }
          ],
          "contourcarpet": [
           {
            "colorbar": {
             "outlinewidth": 0,
             "ticks": ""
            },
            "type": "contourcarpet"
           }
          ],
          "heatmap": [
           {
            "colorbar": {
             "outlinewidth": 0,
             "ticks": ""
            },
            "colorscale": [
             [
              0,
              "#0d0887"
             ],
             [
              0.1111111111111111,
              "#46039f"
             ],
             [
              0.2222222222222222,
              "#7201a8"
             ],
             [
              0.3333333333333333,
              "#9c179e"
             ],
             [
              0.4444444444444444,
              "#bd3786"
             ],
             [
              0.5555555555555556,
              "#d8576b"
             ],
             [
              0.6666666666666666,
              "#ed7953"
             ],
             [
              0.7777777777777778,
              "#fb9f3a"
             ],
             [
              0.8888888888888888,
              "#fdca26"
             ],
             [
              1,
              "#f0f921"
             ]
            ],
            "type": "heatmap"
           }
          ],
          "heatmapgl": [
           {
            "colorbar": {
             "outlinewidth": 0,
             "ticks": ""
            },
            "colorscale": [
             [
              0,
              "#0d0887"
             ],
             [
              0.1111111111111111,
              "#46039f"
             ],
             [
              0.2222222222222222,
              "#7201a8"
             ],
             [
              0.3333333333333333,
              "#9c179e"
             ],
             [
              0.4444444444444444,
              "#bd3786"
             ],
             [
              0.5555555555555556,
              "#d8576b"
             ],
             [
              0.6666666666666666,
              "#ed7953"
             ],
             [
              0.7777777777777778,
              "#fb9f3a"
             ],
             [
              0.8888888888888888,
              "#fdca26"
             ],
             [
              1,
              "#f0f921"
             ]
            ],
            "type": "heatmapgl"
           }
          ],
          "histogram": [
           {
            "marker": {
             "pattern": {
              "fillmode": "overlay",
              "size": 10,
              "solidity": 0.2
             }
            },
            "type": "histogram"
           }
          ],
          "histogram2d": [
           {
            "colorbar": {
             "outlinewidth": 0,
             "ticks": ""
            },
            "colorscale": [
             [
              0,
              "#0d0887"
             ],
             [
              0.1111111111111111,
              "#46039f"
             ],
             [
              0.2222222222222222,
              "#7201a8"
             ],
             [
              0.3333333333333333,
              "#9c179e"
             ],
             [
              0.4444444444444444,
              "#bd3786"
             ],
             [
              0.5555555555555556,
              "#d8576b"
             ],
             [
              0.6666666666666666,
              "#ed7953"
             ],
             [
              0.7777777777777778,
              "#fb9f3a"
             ],
             [
              0.8888888888888888,
              "#fdca26"
             ],
             [
              1,
              "#f0f921"
             ]
            ],
            "type": "histogram2d"
           }
          ],
          "histogram2dcontour": [
           {
            "colorbar": {
             "outlinewidth": 0,
             "ticks": ""
            },
            "colorscale": [
             [
              0,
              "#0d0887"
             ],
             [
              0.1111111111111111,
              "#46039f"
             ],
             [
              0.2222222222222222,
              "#7201a8"
             ],
             [
              0.3333333333333333,
              "#9c179e"
             ],
             [
              0.4444444444444444,
              "#bd3786"
             ],
             [
              0.5555555555555556,
              "#d8576b"
             ],
             [
              0.6666666666666666,
              "#ed7953"
             ],
             [
              0.7777777777777778,
              "#fb9f3a"
             ],
             [
              0.8888888888888888,
              "#fdca26"
             ],
             [
              1,
              "#f0f921"
             ]
            ],
            "type": "histogram2dcontour"
           }
          ],
          "mesh3d": [
           {
            "colorbar": {
             "outlinewidth": 0,
             "ticks": ""
            },
            "type": "mesh3d"
           }
          ],
          "parcoords": [
           {
            "line": {
             "colorbar": {
              "outlinewidth": 0,
              "ticks": ""
             }
            },
            "type": "parcoords"
           }
          ],
          "pie": [
           {
            "automargin": true,
            "type": "pie"
           }
          ],
          "scatter": [
           {
            "marker": {
             "colorbar": {
              "outlinewidth": 0,
              "ticks": ""
             }
            },
            "type": "scatter"
           }
          ],
          "scatter3d": [
           {
            "line": {
             "colorbar": {
              "outlinewidth": 0,
              "ticks": ""
             }
            },
            "marker": {
             "colorbar": {
              "outlinewidth": 0,
              "ticks": ""
             }
            },
            "type": "scatter3d"
           }
          ],
          "scattercarpet": [
           {
            "marker": {
             "colorbar": {
              "outlinewidth": 0,
              "ticks": ""
             }
            },
            "type": "scattercarpet"
           }
          ],
          "scattergeo": [
           {
            "marker": {
             "colorbar": {
              "outlinewidth": 0,
              "ticks": ""
             }
            },
            "type": "scattergeo"
           }
          ],
          "scattergl": [
           {
            "marker": {
             "colorbar": {
              "outlinewidth": 0,
              "ticks": ""
             }
            },
            "type": "scattergl"
           }
          ],
          "scattermapbox": [
           {
            "marker": {
             "colorbar": {
              "outlinewidth": 0,
              "ticks": ""
             }
            },
            "type": "scattermapbox"
           }
          ],
          "scatterpolar": [
           {
            "marker": {
             "colorbar": {
              "outlinewidth": 0,
              "ticks": ""
             }
            },
            "type": "scatterpolar"
           }
          ],
          "scatterpolargl": [
           {
            "marker": {
             "colorbar": {
              "outlinewidth": 0,
              "ticks": ""
             }
            },
            "type": "scatterpolargl"
           }
          ],
          "scatterternary": [
           {
            "marker": {
             "colorbar": {
              "outlinewidth": 0,
              "ticks": ""
             }
            },
            "type": "scatterternary"
           }
          ],
          "surface": [
           {
            "colorbar": {
             "outlinewidth": 0,
             "ticks": ""
            },
            "colorscale": [
             [
              0,
              "#0d0887"
             ],
             [
              0.1111111111111111,
              "#46039f"
             ],
             [
              0.2222222222222222,
              "#7201a8"
             ],
             [
              0.3333333333333333,
              "#9c179e"
             ],
             [
              0.4444444444444444,
              "#bd3786"
             ],
             [
              0.5555555555555556,
              "#d8576b"
             ],
             [
              0.6666666666666666,
              "#ed7953"
             ],
             [
              0.7777777777777778,
              "#fb9f3a"
             ],
             [
              0.8888888888888888,
              "#fdca26"
             ],
             [
              1,
              "#f0f921"
             ]
            ],
            "type": "surface"
           }
          ],
          "table": [
           {
            "cells": {
             "fill": {
              "color": "#EBF0F8"
             },
             "line": {
              "color": "white"
             }
            },
            "header": {
             "fill": {
              "color": "#C8D4E3"
             },
             "line": {
              "color": "white"
             }
            },
            "type": "table"
           }
          ]
         },
         "layout": {
          "annotationdefaults": {
           "arrowcolor": "#2a3f5f",
           "arrowhead": 0,
           "arrowwidth": 1
          },
          "autotypenumbers": "strict",
          "coloraxis": {
           "colorbar": {
            "outlinewidth": 0,
            "ticks": ""
           }
          },
          "colorscale": {
           "diverging": [
            [
             0,
             "#8e0152"
            ],
            [
             0.1,
             "#c51b7d"
            ],
            [
             0.2,
             "#de77ae"
            ],
            [
             0.3,
             "#f1b6da"
            ],
            [
             0.4,
             "#fde0ef"
            ],
            [
             0.5,
             "#f7f7f7"
            ],
            [
             0.6,
             "#e6f5d0"
            ],
            [
             0.7,
             "#b8e186"
            ],
            [
             0.8,
             "#7fbc41"
            ],
            [
             0.9,
             "#4d9221"
            ],
            [
             1,
             "#276419"
            ]
           ],
           "sequential": [
            [
             0,
             "#0d0887"
            ],
            [
             0.1111111111111111,
             "#46039f"
            ],
            [
             0.2222222222222222,
             "#7201a8"
            ],
            [
             0.3333333333333333,
             "#9c179e"
            ],
            [
             0.4444444444444444,
             "#bd3786"
            ],
            [
             0.5555555555555556,
             "#d8576b"
            ],
            [
             0.6666666666666666,
             "#ed7953"
            ],
            [
             0.7777777777777778,
             "#fb9f3a"
            ],
            [
             0.8888888888888888,
             "#fdca26"
            ],
            [
             1,
             "#f0f921"
            ]
           ],
           "sequentialminus": [
            [
             0,
             "#0d0887"
            ],
            [
             0.1111111111111111,
             "#46039f"
            ],
            [
             0.2222222222222222,
             "#7201a8"
            ],
            [
             0.3333333333333333,
             "#9c179e"
            ],
            [
             0.4444444444444444,
             "#bd3786"
            ],
            [
             0.5555555555555556,
             "#d8576b"
            ],
            [
             0.6666666666666666,
             "#ed7953"
            ],
            [
             0.7777777777777778,
             "#fb9f3a"
            ],
            [
             0.8888888888888888,
             "#fdca26"
            ],
            [
             1,
             "#f0f921"
            ]
           ]
          },
          "colorway": [
           "#636efa",
           "#EF553B",
           "#00cc96",
           "#ab63fa",
           "#FFA15A",
           "#19d3f3",
           "#FF6692",
           "#B6E880",
           "#FF97FF",
           "#FECB52"
          ],
          "font": {
           "color": "#2a3f5f"
          },
          "geo": {
           "bgcolor": "white",
           "lakecolor": "white",
           "landcolor": "#E5ECF6",
           "showlakes": true,
           "showland": true,
           "subunitcolor": "white"
          },
          "hoverlabel": {
           "align": "left"
          },
          "hovermode": "closest",
          "mapbox": {
           "style": "light"
          },
          "paper_bgcolor": "white",
          "plot_bgcolor": "#E5ECF6",
          "polar": {
           "angularaxis": {
            "gridcolor": "white",
            "linecolor": "white",
            "ticks": ""
           },
           "bgcolor": "#E5ECF6",
           "radialaxis": {
            "gridcolor": "white",
            "linecolor": "white",
            "ticks": ""
           }
          },
          "scene": {
           "xaxis": {
            "backgroundcolor": "#E5ECF6",
            "gridcolor": "white",
            "gridwidth": 2,
            "linecolor": "white",
            "showbackground": true,
            "ticks": "",
            "zerolinecolor": "white"
           },
           "yaxis": {
            "backgroundcolor": "#E5ECF6",
            "gridcolor": "white",
            "gridwidth": 2,
            "linecolor": "white",
            "showbackground": true,
            "ticks": "",
            "zerolinecolor": "white"
           },
           "zaxis": {
            "backgroundcolor": "#E5ECF6",
            "gridcolor": "white",
            "gridwidth": 2,
            "linecolor": "white",
            "showbackground": true,
            "ticks": "",
            "zerolinecolor": "white"
           }
          },
          "shapedefaults": {
           "line": {
            "color": "#2a3f5f"
           }
          },
          "ternary": {
           "aaxis": {
            "gridcolor": "white",
            "linecolor": "white",
            "ticks": ""
           },
           "baxis": {
            "gridcolor": "white",
            "linecolor": "white",
            "ticks": ""
           },
           "bgcolor": "#E5ECF6",
           "caxis": {
            "gridcolor": "white",
            "linecolor": "white",
            "ticks": ""
           }
          },
          "title": {
           "x": 0.05
          },
          "xaxis": {
           "automargin": true,
           "gridcolor": "white",
           "linecolor": "white",
           "ticks": "",
           "title": {
            "standoff": 15
           },
           "zerolinecolor": "white",
           "zerolinewidth": 2
          },
          "yaxis": {
           "automargin": true,
           "gridcolor": "white",
           "linecolor": "white",
           "ticks": "",
           "title": {
            "standoff": 15
           },
           "zerolinecolor": "white",
           "zerolinewidth": 2
          }
         }
        },
        "width": 900,
        "xaxis": {
         "autorange": true,
         "range": [
          "2022-05-29 02:44:34.2857",
          "2022-11-28"
         ],
         "rangeselector": {
          "buttons": [
           {
            "count": 7,
            "label": "1w",
            "step": "day",
            "stepmode": "backward"
           },
           {
            "count": 1,
            "label": "1m",
            "step": "month",
            "stepmode": "backward"
           },
           {
            "count": 6,
            "label": "6m",
            "step": "month",
            "stepmode": "backward"
           },
           {
            "count": 1,
            "label": "1y",
            "step": "year",
            "stepmode": "backward"
           },
           {
            "step": "all"
           }
          ]
         },
         "rangeslider": {
          "autorange": true,
          "range": [
           "2022-05-29 02:44:34.2857",
           "2022-11-28"
          ],
          "visible": true,
          "yaxis": {
           "_template": null,
           "rangemode": "match"
          }
         },
         "title": {
          "text": "ds"
         },
         "type": "date"
        },
        "yaxis": {
         "autorange": true,
         "range": [
          -1196.375440550612,
          19028.72267444936
         ],
         "title": {
          "text": "y"
         },
         "type": "linear"
        }
       }
      },
      "image/png": "[encoded data removed]",
      "text/html": [
       "<div>                            <div id=\"46143396-edb2-417a-b50a-f542bdc9eda1\" class=\"plotly-graph-div\" style=\"height:600px; width:900px;\"></div>            <script type=\"text/javascript\">                require([\"plotly\"], function(Plotly) {                    window.PLOTLYENV=window.PLOTLYENV || {};                                    if (document.getElementById(\"46143396-edb2-417a-b50a-f542bdc9eda1\")) {                    Plotly.newPlot(                        \"46143396-edb2-417a-b50a-f542bdc9eda1\",                        [{\"marker\":{\"color\":\"black\",\"size\":4},\"mode\":\"markers\",\"name\":\"Actual\",\"type\":\"scatter\",\"x\":[\"2022-06-08T00:00:00\",\"2022-06-11T00:00:00\",\"2022-06-12T00:00:00\",\"2022-06-14T00:00:00\",\"2022-06-16T00:00:00\",\"2022-06-17T00:00:00\",\"2022-06-19T00:00:00\",\"2022-06-21T00:00:00\",\"2022-06-22T00:00:00\",\"2022-06-23T00:00:00\",\"2022-06-24T00:00:00\",\"2022-06-25T00:00:00\",\"2022-06-26T00:00:00\",\"2022-06-28T00:00:00\",\"2022-06-29T00:00:00\",\"2022-06-30T00:00:00\",\"2022-07-01T00:00:00\",\"2022-07-02T00:00:00\",\"2022-07-03T00:00:00\",\"2022-07-04T00:00:00\",\"2022-07-05T00:00:00\",\"2022-07-06T00:00:00\",\"2022-07-07T00:00:00\",\"2022-07-08T00:00:00\",\"2022-07-09T00:00:00\",\"2022-07-11T00:00:00\",\"2022-07-12T00:00:00\",\"2022-07-13T00:00:00\",\"2022-07-14T00:00:00\",\"2022-07-19T00:00:00\",\"2022-07-20T00:00:00\",\"2022-07-21T00:00:00\",\"2022-07-22T00:00:00\",\"2022-07-25T00:00:00\",\"2022-07-26T00:00:00\",\"2022-07-27T00:00:00\",\"2022-07-28T00:00:00\",\"2022-07-29T00:00:00\",\"2022-07-30T00:00:00\",\"2022-07-31T00:00:00\",\"2022-08-01T00:00:00\",\"2022-08-02T00:00:00\",\"2022-08-03T00:00:00\",\"2022-08-04T00:00:00\",\"2022-08-05T00:00:00\",\"2022-08-06T00:00:00\",\"2022-08-07T00:00:00\",\"2022-08-08T00:00:00\",\"2022-08-09T00:00:00\",\"2022-08-10T00:00:00\",\"2022-08-12T00:00:00\",\"2022-08-13T00:00:00\",\"2022-08-14T00:00:00\",\"2022-08-15T00:00:00\",\"2022-08-16T00:00:00\",\"2022-08-17T00:00:00\",\"2022-08-18T00:00:00\",\"2022-08-19T00:00:00\",\"2022-08-20T00:00:00\",\"2022-08-21T00:00:00\",\"2022-08-22T00:00:00\",\"2022-08-23T00:00:00\",\"2022-08-24T00:00:00\",\"2022-08-25T00:00:00\",\"2022-08-26T00:00:00\",\"2022-08-29T00:00:00\",\"2022-08-30T00:00:00\"],\"y\":[1,2,3,5,6,7,8,9,11,16,17,19,20,21,37,49,64,76,78,80,106,142,172,204,218,228,266,308,347,448,591,604,694,809,865,977,1066,1259,1343,1370,1475,1603,1721,1860,2004,2108,2131,2293,2415,2458,2746,2848,2893,2985,3183,3359,3450,3655,3755,3787,3896,3984,4144,4216,4472,4692,4876]},{\"hoverinfo\":\"skip\",\"line\":{\"width\":0},\"mode\":\"lines\",\"type\":\"scatter\",\"x\":[\"2022-06-08T00:00:00\",\"2022-06-11T00:00:00\",\"2022-06-12T00:00:00\",\"2022-06-14T00:00:00\",\"2022-06-16T00:00:00\",\"2022-06-17T00:00:00\",\"2022-06-19T00:00:00\",\"2022-06-21T00:00:00\",\"2022-06-22T00:00:00\",\"2022-06-23T00:00:00\",\"2022-06-24T00:00:00\",\"2022-06-25T00:00:00\",\"2022-06-26T00:00:00\",\"2022-06-28T00:00:00\",\"2022-06-29T00:00:00\",\"2022-06-30T00:00:00\",\"2022-07-01T00:00:00\",\"2022-07-02T00:00:00\",\"2022-07-03T00:00:00\",\"2022-07-04T00:00:00\",\"2022-07-05T00:00:00\",\"2022-07-06T00:00:00\",\"2022-07-07T00:00:00\",\"2022-07-08T00:00:00\",\"2022-07-09T00:00:00\",\"2022-07-11T00:00:00\",\"2022-07-12T00:00:00\",\"2022-07-13T00:00:00\",\"2022-07-14T00:00:00\",\"2022-07-19T00:00:00\",\"2022-07-20T00:00:00\",\"2022-07-21T00:00:00\",\"2022-07-22T00:00:00\",\"2022-07-25T00:00:00\",\"2022-07-26T00:00:00\",\"2022-07-27T00:00:00\",\"2022-07-28T00:00:00\",\"2022-07-29T00:00:00\",\"2022-07-30T00:00:00\",\"2022-07-31T00:00:00\",\"2022-08-01T00:00:00\",\"2022-08-02T00:00:00\",\"2022-08-03T00:00:00\",\"2022-08-04T00:00:00\",\"2022-08-05T00:00:00\",\"2022-08-06T00:00:00\",\"2022-08-07T00:00:00\",\"2022-08-08T00:00:00\",\"2022-08-09T00:00:00\",\"2022-08-10T00:00:00\",\"2022-08-12T00:00:00\",\"2022-08-13T00:00:00\",\"2022-08-14T00:00:00\",\"2022-08-15T00:00:00\",\"2022-08-16T00:00:00\",\"2022-08-17T00:00:00\",\"2022-08-18T00:00:00\",\"2022-08-19T00:00:00\",\"2022-08-20T00:00:00\",\"2022-08-21T00:00:00\",\"2022-08-22T00:00:00\",\"2022-08-23T00:00:00\",\"2022-08-24T00:00:00\",\"2022-08-25T00:00:00\",\"2022-08-26T00:00:00\",\"2022-08-29T00:00:00\",\"2022-08-30T00:00:00\",\"2022-08-31T00:00:00\",\"2022-09-01T00:00:00\",\"2022-09-02T00:00:00\",\"2022-09-03T00:00:00\",\"2022-09-04T00:00:00\",\"2022-09-05T00:00:00\",\"2022-09-06T00:00:00\",\"2022-09-07T00:00:00\",\"2022-09-08T00:00:00\",\"2022-09-09T00:00:00\",\"2022-09-10T00:00:00\",\"2022-09-11T00:00:00\",\"2022-09-12T00:00:00\",\"2022-09-13T00:00:00\",\"2022-09-14T00:00:00\",\"2022-09-15T00:00:00\",\"2022-09-16T00:00:00\",\"2022-09-17T00:00:00\",\"2022-09-18T00:00:00\",\"2022-09-19T00:00:00\",\"2022-09-20T00:00:00\",\"2022-09-21T00:00:00\",\"2022-09-22T00:00:00\",\"2022-09-23T00:00:00\",\"2022-09-24T00:00:00\",\"2022-09-25T00:00:00\",\"2022-09-26T00:00:00\",\"2022-09-27T00:00:00\",\"2022-09-28T00:00:00\",\"2022-09-29T00:00:00\",\"2022-09-30T00:00:00\",\"2022-10-01T00:00:00\",\"2022-10-02T00:00:00\",\"2022-10-03T00:00:00\",\"2022-10-04T00:00:00\",\"2022-10-05T00:00:00\",\"2022-10-06T00:00:00\",\"2022-10-07T00:00:00\",\"2022-10-08T00:00:00\",\"2022-10-09T00:00:00\",\"2022-10-10T00:00:00\",\"2022-10-11T00:00:00\",\"2022-10-12T00:00:00\",\"2022-10-13T00:00:00\",\"2022-10-14T00:00:00\",\"2022-10-15T00:00:00\",\"2022-10-16T00:00:00\",\"2022-10-17T00:00:00\",\"2022-10-18T00:00:00\",\"2022-10-19T00:00:00\",\"2022-10-20T00:00:00\",\"2022-10-21T00:00:00\",\"2022-10-22T00:00:00\",\"2022-10-23T00:00:00\",\"2022-10-24T00:00:00\",\"2022-10-25T00:00:00\",\"2022-10-26T00:00:00\",\"2022-10-27T00:00:00\",\"2022-10-28T00:00:00\",\"2022-10-29T00:00:00\",\"2022-10-30T00:00:00\",\"2022-10-31T00:00:00\",\"2022-11-01T00:00:00\",\"2022-11-02T00:00:00\",\"2022-11-03T00:00:00\",\"2022-11-04T00:00:00\",\"2022-11-05T00:00:00\",\"2022-11-06T00:00:00\",\"2022-11-07T00:00:00\",\"2022-11-08T00:00:00\",\"2022-11-09T00:00:00\",\"2022-11-10T00:00:00\",\"2022-11-11T00:00:00\",\"2022-11-12T00:00:00\",\"2022-11-13T00:00:00\",\"2022-11-14T00:00:00\",\"2022-11-15T00:00:00\",\"2022-11-16T00:00:00\",\"2022-11-17T00:00:00\",\"2022-11-18T00:00:00\",\"2022-11-19T00:00:00\",\"2022-11-20T00:00:00\",\"2022-11-21T00:00:00\",\"2022-11-22T00:00:00\",\"2022-11-23T00:00:00\",\"2022-11-24T00:00:00\",\"2022-11-25T00:00:00\",\"2022-11-26T00:00:00\",\"2022-11-27T00:00:00\",\"2022-11-28T00:00:00\"],\"y\":[-33.28007996672954,-6.743998585610234,-53.100974636290005,-45.56088257779999,-31.707675093205832,13.14739529904089,-47.38112413469129,-37.17814615176911,-21.516812852724833,-22.85355875901631,18.43114923807955,13.180014199312627,-30.316291053973274,-13.022889886480918,11.098379561985087,13.691194331290534,62.54694207638711,54.14638309915471,26.840509882913835,29.96875138605977,71.44540923625144,108.46224102496733,126.03284629737998,186.19381831233733,200.95825690728756,190.92181045704123,234.32326387553675,279.22564680369925,307.32558530891174,445.8883746036329,517.5280269801393,572.6214503691685,671.5467939199262,766.8125344743147,856.6751277337182,945.243916876776,1047.736686336473,1198.742718369508,1295.4164811982457,1359.2548871225504,1452.3641249517243,1580.2118835724534,1709.057557632068,1812.2535710939612,1961.7903635630107,2057.7562564595346,2123.879820762704,2215.943947886127,2343.800050302326,2471.8973018751885,2728.0801665685995,2833.775180889159,2908.1548088215527,3011.905411285537,3149.7753865777186,3287.133907755482,3403.9180440203345,3566.029817757895,3671.062725440981,3746.0657419557865,3851.2621349518868,3988.884073775923,4128.232279190689,4242.456153732671,4400.451601633303,4687.808281385759,4825.906274513145,4962.079743995609,5079.09712681238,5237.4174681948725,5342.048825607754,5409.245552088448,5508.755039133734,5644.472429611133,5768.6222555204,5877.740173088452,6025.013316975715,6119.1435548870595,6182.157881045953,6271.211428319947,6395.757651348259,6523.60651395388,6627.259163816125,6764.423035372345,6866.799254538724,6921.981218060703,6998.97449597807,7121.98309014723,7250.22706719858,7344.66129451933,7487.356141460449,7566.675856104501,7632.306649875401,7717.424473524379,7830.836869363993,7952.908313647232,8051.170162632944,8182.078336374571,8269.460248564095,8321.351028566472,8403.100901193106,8527.21723141864,8634.529738731908,8735.020464312287,8864.80767759972,8963.80404707417,9008.773081159885,9083.298863575108,9197.363979211794,9288.097397175445,9381.333412665606,9521.604532413394,9577.416437423315,9618.81899249232,9711.220891448973,9806.689095286436,9909.131896744935,10034.967121116244,10156.564826511149,10221.033116224113,10277.367339954502,10358.396177876144,10467.264323667318,10572.597102681904,10649.562823651178,10782.87871786839,10843.237274745929,10896.330199766799,10971.819839821357,11088.073646881892,11204.036340922577,11277.711134995545,11408.82848132564,11490.521377331252,11511.885016001952,11574.830553348314,11675.391292993641,11812.865399156362,11892.04021554705,12016.893658401112,12086.571853008612,12117.003512150446,12187.526778565445,12281.86272732787,12400.574605063126,12471.416114545747,12590.74026011357,12666.440253118944,12697.969696412183,12756.288538102686,12853.452793993929,12958.818664078393,13041.804294565161,13169.392664889825,13200.516770948845,13241.925611068164,13291.127226059143]},{\"fill\":\"tonexty\",\"fillcolor\":\"rgba(0, 114, 178, 0.2)\",\"line\":{\"color\":\"#0072B2\",\"width\":2},\"mode\":\"lines\",\"name\":\"Predicted\",\"type\":\"scatter\",\"x\":[\"2022-06-08T00:00:00\",\"2022-06-11T00:00:00\",\"2022-06-12T00:00:00\",\"2022-06-14T00:00:00\",\"2022-06-16T00:00:00\",\"2022-06-17T00:00:00\",\"2022-06-19T00:00:00\",\"2022-06-21T00:00:00\",\"2022-06-22T00:00:00\",\"2022-06-23T00:00:00\",\"2022-06-24T00:00:00\",\"2022-06-25T00:00:00\",\"2022-06-26T00:00:00\",\"2022-06-28T00:00:00\",\"2022-06-29T00:00:00\",\"2022-06-30T00:00:00\",\"2022-07-01T00:00:00\",\"2022-07-02T00:00:00\",\"2022-07-03T00:00:00\",\"2022-07-04T00:00:00\",\"2022-07-05T00:00:00\",\"2022-07-06T00:00:00\",\"2022-07-07T00:00:00\",\"2022-07-08T00:00:00\",\"2022-07-09T00:00:00\",\"2022-07-11T00:00:00\",\"2022-07-12T00:00:00\",\"2022-07-13T00:00:00\",\"2022-07-14T00:00:00\",\"2022-07-19T00:00:00\",\"2022-07-20T00:00:00\",\"2022-07-21T00:00:00\",\"2022-07-22T00:00:00\",\"2022-07-25T00:00:00\",\"2022-07-26T00:00:00\",\"2022-07-27T00:00:00\",\"2022-07-28T00:00:00\",\"2022-07-29T00:00:00\",\"2022-07-30T00:00:00\",\"2022-07-31T00:00:00\",\"2022-08-01T00:00:00\",\"2022-08-02T00:00:00\",\"2022-08-03T00:00:00\",\"2022-08-04T00:00:00\",\"2022-08-05T00:00:00\",\"2022-08-06T00:00:00\",\"2022-08-07T00:00:00\",\"2022-08-08T00:00:00\",\"2022-08-09T00:00:00\",\"2022-08-10T00:00:00\",\"2022-08-12T00:00:00\",\"2022-08-13T00:00:00\",\"2022-08-14T00:00:00\",\"2022-08-15T00:00:00\",\"2022-08-16T00:00:00\",\"2022-08-17T00:00:00\",\"2022-08-18T00:00:00\",\"2022-08-19T00:00:00\",\"2022-08-20T00:00:00\",\"2022-08-21T00:00:00\",\"2022-08-22T00:00:00\",\"2022-08-23T00:00:00\",\"2022-08-24T00:00:00\",\"2022-08-25T00:00:00\",\"2022-08-26T00:00:00\",\"2022-08-29T00:00:00\",\"2022-08-30T00:00:00\",\"2022-08-31T00:00:00\",\"2022-09-01T00:00:00\",\"2022-09-02T00:00:00\",\"2022-09-03T00:00:00\",\"2022-09-04T00:00:00\",\"2022-09-05T00:00:00\",\"2022-09-06T00:00:00\",\"2022-09-07T00:00:00\",\"2022-09-08T00:00:00\",\"2022-09-09T00:00:00\",\"2022-09-10T00:00:00\",\"2022-09-11T00:00:00\",\"2022-09-12T00:00:00\",\"2022-09-13T00:00:00\",\"2022-09-14T00:00:00\",\"2022-09-15T00:00:00\",\"2022-09-16T00:00:00\",\"2022-09-17T00:00:00\",\"2022-09-18T00:00:00\",\"2022-09-19T00:00:00\",\"2022-09-20T00:00:00\",\"2022-09-21T00:00:00\",\"2022-09-22T00:00:00\",\"2022-09-23T00:00:00\",\"2022-09-24T00:00:00\",\"2022-09-25T00:00:00\",\"2022-09-26T00:00:00\",\"2022-09-27T00:00:00\",\"2022-09-28T00:00:00\",\"2022-09-29T00:00:00\",\"2022-09-30T00:00:00\",\"2022-10-01T00:00:00\",\"2022-10-02T00:00:00\",\"2022-10-03T00:00:00\",\"2022-10-04T00:00:00\",\"2022-10-05T00:00:00\",\"2022-10-06T00:00:00\",\"2022-10-07T00:00:00\",\"2022-10-08T00:00:00\",\"2022-10-09T00:00:00\",\"2022-10-10T00:00:00\",\"2022-10-11T00:00:00\",\"2022-10-12T00:00:00\",\"2022-10-13T00:00:00\",\"2022-10-14T00:00:00\",\"2022-10-15T00:00:00\",\"2022-10-16T00:00:00\",\"2022-10-17T00:00:00\",\"2022-10-18T00:00:00\",\"2022-10-19T00:00:00\",\"2022-10-20T00:00:00\",\"2022-10-21T00:00:00\",\"2022-10-22T00:00:00\",\"2022-10-23T00:00:00\",\"2022-10-24T00:00:00\",\"2022-10-25T00:00:00\",\"2022-10-26T00:00:00\",\"2022-10-27T00:00:00\",\"2022-10-28T00:00:00\",\"2022-10-29T00:00:00\",\"2022-10-30T00:00:00\",\"2022-10-31T00:00:00\",\"2022-11-01T00:00:00\",\"2022-11-02T00:00:00\",\"2022-11-03T00:00:00\",\"2022-11-04T00:00:00\",\"2022-11-05T00:00:00\",\"2022-11-06T00:00:00\",\"2022-11-07T00:00:00\",\"2022-11-08T00:00:00\",\"2022-11-09T00:00:00\",\"2022-11-10T00:00:00\",\"2022-11-11T00:00:00\",\"2022-11-12T00:00:00\",\"2022-11-13T00:00:00\",\"2022-11-14T00:00:00\",\"2022-11-15T00:00:00\",\"2022-11-16T00:00:00\",\"2022-11-17T00:00:00\",\"2022-11-18T00:00:00\",\"2022-11-19T00:00:00\",\"2022-11-20T00:00:00\",\"2022-11-21T00:00:00\",\"2022-11-22T00:00:00\",\"2022-11-23T00:00:00\",\"2022-11-24T00:00:00\",\"2022-11-25T00:00:00\",\"2022-11-26T00:00:00\",\"2022-11-27T00:00:00\",\"2022-11-28T00:00:00\"],\"y\":[-2.7612880126043886,24.28321988949544,-20.252788507683615,-14.85894901936474,0.6510254732010081,43.07814351517313,-13.85604131883891,-8.462201788863911,10.03220695064886,7.066894831328597,49.51313501352019,42.26873209458858,2.886496937044285,18.615959006339438,42.27817901546894,44.46155607986047,92.09890435481591,84.91095828997157,59.46186475756623,63.34512886031548,103.05876845044156,140.66932640314607,156.83862279927862,218.41947149707545,231.49232445741663,222.69472353611508,268.7850288498859,312.7722525261178,339.19277730106114,477.10434510289224,551.6266140755951,604.6700401035637,703.1371201950844,799.1191706085016,888.2938764263848,975.3655006068626,1080.5455858908374,1231.1372234763514,1326.9405486561006,1390.6060415970137,1483.603892173279,1612.4299074701978,1739.1528411297193,1844.4001933187253,1995.0590978092334,2090.892708013898,2154.5884859799216,2247.6166226956384,2376.445900635104,2503.172097149966,2759.0783565918055,2865.3811513528103,2939.546113875145,3043.0674714788606,3182.389970306381,3319.6093874964477,3435.349961741823,3596.502088288753,3702.8289204960224,3777.0179204646383,3880.5392780683633,4019.8617768958775,4157.081194086029,4272.821768331421,4433.973894878366,4718.011084657963,4857.333583485467,4994.553000675594,5110.293574921018,5271.44570146798,5377.772533675294,5451.961533643755,5555.482891247562,5694.805390075088,5832.024807265196,5947.7653815105205,6108.917508057553,6215.244340264855,6289.43334023329,6392.954697837161,6532.277196664647,6669.496613854767,6785.237188100117,6946.389314647168,7052.716146854381,7126.905146823013,7230.426504426664,7369.749003254268,7506.968420444349,7622.708994689713,7783.861121236761,7890.187953443976,7964.37695341259,8067.898311016304,8207.22080984389,8344.440227033932,8460.180801279312,8621.332927826254,8727.6597600335,8801.848760002085,8905.370117605864,9044.692616433478,9181.912033623523,9297.652607868908,9458.804734415846,9565.131566623028,9639.320566591665,9742.841924195458,9882.164423022976,10019.383840213086,10135.124414458502,10296.276541005458,10402.603373212773,10476.792373181383,10580.31373078506,10719.636229612564,10856.855646802684,10972.5962210481,11133.748347595054,11240.075179802294,11314.264179770962,11417.78553737466,11557.108036202184,11694.32745339225,11810.068027637604,11971.220154184644,12077.546986391857,12151.73598636046,12255.257343964215,12394.579842791649,12531.799259981817,12647.5398342272,12808.69196077424,12915.018792981418,12989.207792950036,13092.72915055376,13232.051649381272,13369.271066571397,13485.011640816798,13646.163767363854,13752.490599571127,13826.679599539615,13930.200957143363,14069.523455970857,14206.742873160982,14322.483447406395,14483.635573953325,14589.962406160654,14664.151406129111,14767.672763732957,14906.99526256045,15044.214679750567,15159.955253995988,15321.10738054294,15427.434212750213,15501.623212718687,15605.144570322462]},{\"fill\":\"tonexty\",\"fillcolor\":\"rgba(0, 114, 178, 0.2)\",\"hoverinfo\":\"skip\",\"line\":{\"width\":0},\"mode\":\"lines\",\"type\":\"scatter\",\"x\":[\"2022-06-08T00:00:00\",\"2022-06-11T00:00:00\",\"2022-06-12T00:00:00\",\"2022-06-14T00:00:00\",\"2022-06-16T00:00:00\",\"2022-06-17T00:00:00\",\"2022-06-19T00:00:00\",\"2022-06-21T00:00:00\",\"2022-06-22T00:00:00\",\"2022-06-23T00:00:00\",\"2022-06-24T00:00:00\",\"2022-06-25T00:00:00\",\"2022-06-26T00:00:00\",\"2022-06-28T00:00:00\",\"2022-06-29T00:00:00\",\"2022-06-30T00:00:00\",\"2022-07-01T00:00:00\",\"2022-07-02T00:00:00\",\"2022-07-03T00:00:00\",\"2022-07-04T00:00:00\",\"2022-07-05T00:00:00\",\"2022-07-06T00:00:00\",\"2022-07-07T00:00:00\",\"2022-07-08T00:00:00\",\"2022-07-09T00:00:00\",\"2022-07-11T00:00:00\",\"2022-07-12T00:00:00\",\"2022-07-13T00:00:00\",\"2022-07-14T00:00:00\",\"2022-07-19T00:00:00\",\"2022-07-20T00:00:00\",\"2022-07-21T00:00:00\",\"2022-07-22T00:00:00\",\"2022-07-25T00:00:00\",\"2022-07-26T00:00:00\",\"2022-07-27T00:00:00\",\"2022-07-28T00:00:00\",\"2022-07-29T00:00:00\",\"2022-07-30T00:00:00\",\"2022-07-31T00:00:00\",\"2022-08-01T00:00:00\",\"2022-08-02T00:00:00\",\"2022-08-03T00:00:00\",\"2022-08-04T00:00:00\",\"2022-08-05T00:00:00\",\"2022-08-06T00:00:00\",\"2022-08-07T00:00:00\",\"2022-08-08T00:00:00\",\"2022-08-09T00:00:00\",\"2022-08-10T00:00:00\",\"2022-08-12T00:00:00\",\"2022-08-13T00:00:00\",\"2022-08-14T00:00:00\",\"2022-08-15T00:00:00\",\"2022-08-16T00:00:00\",\"2022-08-17T00:00:00\",\"2022-08-18T00:00:00\",\"2022-08-19T00:00:00\",\"2022-08-20T00:00:00\",\"2022-08-21T00:00:00\",\"2022-08-22T00:00:00\",\"2022-08-23T00:00:00\",\"2022-08-24T00:00:00\",\"2022-08-25T00:00:00\",\"2022-08-26T00:00:00\",\"2022-08-29T00:00:00\",\"2022-08-30T00:00:00\",\"2022-08-31T00:00:00\",\"2022-09-01T00:00:00\",\"2022-09-02T00:00:00\",\"2022-09-03T00:00:00\",\"2022-09-04T00:00:00\",\"2022-09-05T00:00:00\",\"2022-09-06T00:00:00\",\"2022-09-07T00:00:00\",\"2022-09-08T00:00:00\",\"2022-09-09T00:00:00\",\"2022-09-10T00:00:00\",\"2022-09-11T00:00:00\",\"2022-09-12T00:00:00\",\"2022-09-13T00:00:00\",\"2022-09-14T00:00:00\",\"2022-09-15T00:00:00\",\"2022-09-16T00:00:00\",\"2022-09-17T00:00:00\",\"2022-09-18T00:00:00\",\"2022-09-19T00:00:00\",\"2022-09-20T00:00:00\",\"2022-09-21T00:00:00\",\"2022-09-22T00:00:00\",\"2022-09-23T00:00:00\",\"2022-09-24T00:00:00\",\"2022-09-25T00:00:00\",\"2022-09-26T00:00:00\",\"2022-09-27T00:00:00\",\"2022-09-28T00:00:00\",\"2022-09-29T00:00:00\",\"2022-09-30T00:00:00\",\"2022-10-01T00:00:00\",\"2022-10-02T00:00:00\",\"2022-10-03T00:00:00\",\"2022-10-04T00:00:00\",\"2022-10-05T00:00:00\",\"2022-10-06T00:00:00\",\"2022-10-07T00:00:00\",\"2022-10-08T00:00:00\",\"2022-10-09T00:00:00\",\"2022-10-10T00:00:00\",\"2022-10-11T00:00:00\",\"2022-10-12T00:00:00\",\"2022-10-13T00:00:00\",\"2022-10-14T00:00:00\",\"2022-10-15T00:00:00\",\"2022-10-16T00:00:00\",\"2022-10-17T00:00:00\",\"2022-10-18T00:00:00\",\"2022-10-19T00:00:00\",\"2022-10-20T00:00:00\",\"2022-10-21T00:00:00\",\"2022-10-22T00:00:00\",\"2022-10-23T00:00:00\",\"2022-10-24T00:00:00\",\"2022-10-25T00:00:00\",\"2022-10-26T00:00:00\",\"2022-10-27T00:00:00\",\"2022-10-28T00:00:00\",\"2022-10-29T00:00:00\",\"2022-10-30T00:00:00\",\"2022-10-31T00:00:00\",\"2022-11-01T00:00:00\",\"2022-11-02T00:00:00\",\"2022-11-03T00:00:00\",\"2022-11-04T00:00:00\",\"2022-11-05T00:00:00\",\"2022-11-06T00:00:00\",\"2022-11-07T00:00:00\",\"2022-11-08T00:00:00\",\"2022-11-09T00:00:00\",\"2022-11-10T00:00:00\",\"2022-11-11T00:00:00\",\"2022-11-12T00:00:00\",\"2022-11-13T00:00:00\",\"2022-11-14T00:00:00\",\"2022-11-15T00:00:00\",\"2022-11-16T00:00:00\",\"2022-11-17T00:00:00\",\"2022-11-18T00:00:00\",\"2022-11-19T00:00:00\",\"2022-11-20T00:00:00\",\"2022-11-21T00:00:00\",\"2022-11-22T00:00:00\",\"2022-11-23T00:00:00\",\"2022-11-24T00:00:00\",\"2022-11-25T00:00:00\",\"2022-11-26T00:00:00\",\"2022-11-27T00:00:00\",\"2022-11-28T00:00:00\"],\"y\":[29.329337627882985,56.30426500672825,11.561030157606673,17.43946584457464,33.870993188346795,71.63978469185967,17.06136200175781,22.496557518233544,41.37334488403393,39.55451670174973,81.33864935601545,73.15813942599817,33.830740421112324,52.514356464737,73.1497845406913,75.72695681287101,123.58596316258082,119.6044362810959,90.63445622764542,96.45972761064108,132.45994534852545,173.52921009251784,188.30707497181808,250.96863632968015,264.7933450292582,254.8250523418299,299.0996198687054,346.6978942533794,371.4437934884203,508.144815208783,584.0191717218521,634.2054377536069,734.791200807427,830.0682358392737,919.6898602419484,1007.20498521614,1111.943340759941,1263.0526560706826,1356.2903464192113,1422.5514698772315,1514.903833875975,1645.5652213114702,1771.4590548137232,1875.4416490996127,2026.225884524695,2120.9920326984698,2185.7901551609084,2278.7266784337485,2409.4394914367535,2534.2620721095445,2793.220129776238,2896.437981865828,2969.6597343858234,3077.1062522867187,3213.904596624754,3349.976416211988,3466.843486324806,3629.525763241577,3734.929526862178,3808.5826180944364,3913.7197481584044,4049.391093316817,4187.730831051226,4307.322846279798,4465.284524892654,4749.073893191071,4889.164694990044,5028.256116876766,5145.178915401451,5305.9010860311855,5416.027185720661,5490.493426025169,5602.0147496726095,5744.4380642513015,5892.28386609735,6016.279771575225,6188.623564304356,6305.139201021122,6390.914153780531,6511.323667294755,6664.247869034573,6816.069703521794,6938.975894811346,7121.925434966076,7242.6529432107445,7338.688219896191,7459.411283492021,7602.799526868203,7778.762753522938,7905.416861649308,8087.207422749915,8212.135651923889,8302.86258060549,8430.013069196835,8591.253105727525,8738.72120540433,8877.028983657628,9066.033575064546,9197.108056752297,9299.693398750376,9420.253484049252,9584.367570928942,9741.454418683044,9871.683615243168,10066.088509030775,10194.899888024958,10304.128970136422,10437.795361776134,10597.817637348811,10763.437162302727,10896.159369038705,11102.334923598153,11236.457085947317,11347.085226200092,11462.267193737522,11612.910187745083,11791.228494685089,11946.21729986932,12136.370996916983,12271.373357709588,12371.738511228717,12506.710337713635,12674.453914748787,12839.073021047821,12980.6964288175,13189.240286896154,13325.811872880056,13424.961426856113,13556.518261728601,13735.69130621156,13899.60550276124,14056.546987109776,14257.50108733106,14406.4579411278,14519.965560727102,14657.898050357573,14820.72597287497,15021.652472929376,15151.44740042839,15344.168342871748,15513.396477148945,15624.362592514977,15777.446284147683,15953.848701018804,16113.64913117997,16292.315485741094,16479.60731476339,16631.568635433123,16744.50725008157,16871.733559426586,17050.84931735194,17232.434491871787,17366.63144755305,17577.940669221134,17751.843323060897,17857.791911693646,18017.46776869936]}],                        {\"height\":600,\"showlegend\":false,\"template\":{\"data\":{\"bar\":[{\"error_x\":{\"color\":\"#2a3f5f\"},\"error_y\":{\"color\":\"#2a3f5f\"},\"marker\":{\"line\":{\"color\":\"#E5ECF6\",\"width\":0.5},\"pattern\":{\"fillmode\":\"overlay\",\"size\":10,\"solidity\":0.2}},\"type\":\"bar\"}],\"barpolar\":[{\"marker\":{\"line\":{\"color\":\"#E5ECF6\",\"width\":0.5},\"pattern\":{\"fillmode\":\"overlay\",\"size\":10,\"solidity\":0.2}},\"type\":\"barpolar\"}],\"carpet\":[{\"aaxis\":{\"endlinecolor\":\"#2a3f5f\",\"gridcolor\":\"white\",\"linecolor\":\"white\",\"minorgridcolor\":\"white\",\"startlinecolor\":\"#2a3f5f\"},\"baxis\":{\"endlinecolor\":\"#2a3f5f\",\"gridcolor\":\"white\",\"linecolor\":\"white\",\"minorgridcolor\":\"white\",\"startlinecolor\":\"#2a3f5f\"},\"type\":\"carpet\"}],\"choropleth\":[{\"colorbar\":{\"outlinewidth\":0,\"ticks\":\"\"},\"type\":\"choropleth\"}],\"contour\":[{\"colorbar\":{\"outlinewidth\":0,\"ticks\":\"\"},\"colorscale\":[[0.0,\"#0d0887\"],[0.1111111111111111,\"#46039f\"],[0.2222222222222222,\"#7201a8\"],[0.3333333333333333,\"#9c179e\"],[0.4444444444444444,\"#bd3786\"],[0.5555555555555556,\"#d8576b\"],[0.6666666666666666,\"#ed7953\"],[0.7777777777777778,\"#fb9f3a\"],[0.8888888888888888,\"#fdca26\"],[1.0,\"#f0f921\"]],\"type\":\"contour\"}],\"contourcarpet\":[{\"colorbar\":{\"outlinewidth\":0,\"ticks\":\"\"},\"type\":\"contourcarpet\"}],\"heatmap\":[{\"colorbar\":{\"outlinewidth\":0,\"ticks\":\"\"},\"colorscale\":[[0.0,\"#0d0887\"],[0.1111111111111111,\"#46039f\"],[0.2222222222222222,\"#7201a8\"],[0.3333333333333333,\"#9c179e\"],[0.4444444444444444,\"#bd3786\"],[0.5555555555555556,\"#d8576b\"],[0.6666666666666666,\"#ed7953\"],[0.7777777777777778,\"#fb9f3a\"],[0.8888888888888888,\"#fdca26\"],[1.0,\"#f0f921\"]],\"type\":\"heatmap\"}],\"heatmapgl\":[{\"colorbar\":{\"outlinewidth\":0,\"ticks\":\"\"},\"colorscale\":[[0.0,\"#0d0887\"],[0.1111111111111111,\"#46039f\"],[0.2222222222222222,\"#7201a8\"],[0.3333333333333333,\"#9c179e\"],[0.4444444444444444,\"#bd3786\"],[0.5555555555555556,\"#d8576b\"],[0.6666666666666666,\"#ed7953\"],[0.7777777777777778,\"#fb9f3a\"],[0.8888888888888888,\"#fdca26\"],[1.0,\"#f0f921\"]],\"type\":\"heatmapgl\"}],\"histogram\":[{\"marker\":{\"pattern\":{\"fillmode\":\"overlay\",\"size\":10,\"solidity\":0.2}},\"type\":\"histogram\"}],\"histogram2d\":[{\"colorbar\":{\"outlinewidth\":0,\"ticks\":\"\"},\"colorscale\":[[0.0,\"#0d0887\"],[0.1111111111111111,\"#46039f\"],[0.2222222222222222,\"#7201a8\"],[0.3333333333333333,\"#9c179e\"],[0.4444444444444444,\"#bd3786\"],[0.5555555555555556,\"#d8576b\"],[0.6666666666666666,\"#ed7953\"],[0.7777777777777778,\"#fb9f3a\"],[0.8888888888888888,\"#fdca26\"],[1.0,\"#f0f921\"]],\"type\":\"histogram2d\"}],\"histogram2dcontour\":[{\"colorbar\":{\"outlinewidth\":0,\"ticks\":\"\"},\"colorscale\":[[0.0,\"#0d0887\"],[0.1111111111111111,\"#46039f\"],[0.2222222222222222,\"#7201a8\"],[0.3333333333333333,\"#9c179e\"],[0.4444444444444444,\"#bd3786\"],[0.5555555555555556,\"#d8576b\"],[0.6666666666666666,\"#ed7953\"],[0.7777777777777778,\"#fb9f3a\"],[0.8888888888888888,\"#fdca26\"],[1.0,\"#f0f921\"]],\"type\":\"histogram2dcontour\"}],\"mesh3d\":[{\"colorbar\":{\"outlinewidth\":0,\"ticks\":\"\"},\"type\":\"mesh3d\"}],\"parcoords\":[{\"line\":{\"colorbar\":{\"outlinewidth\":0,\"ticks\":\"\"}},\"type\":\"parcoords\"}],\"pie\":[{\"automargin\":true,\"type\":\"pie\"}],\"scatter\":[{\"marker\":{\"colorbar\":{\"outlinewidth\":0,\"ticks\":\"\"}},\"type\":\"scatter\"}],\"scatter3d\":[{\"line\":{\"colorbar\":{\"outlinewidth\":0,\"ticks\":\"\"}},\"marker\":{\"colorbar\":{\"outlinewidth\":0,\"ticks\":\"\"}},\"type\":\"scatter3d\"}],\"scattercarpet\":[{\"marker\":{\"colorbar\":{\"outlinewidth\":0,\"ticks\":\"\"}},\"type\":\"scattercarpet\"}],\"scattergeo\":[{\"marker\":{\"colorbar\":{\"outlinewidth\":0,\"ticks\":\"\"}},\"type\":\"scattergeo\"}],\"scattergl\":[{\"marker\":{\"colorbar\":{\"outlinewidth\":0,\"ticks\":\"\"}},\"type\":\"scattergl\"}],\"scattermapbox\":[{\"marker\":{\"colorbar\":{\"outlinewidth\":0,\"ticks\":\"\"}},\"type\":\"scattermapbox\"}],\"scatterpolar\":[{\"marker\":{\"colorbar\":{\"outlinewidth\":0,\"ticks\":\"\"}},\"type\":\"scatterpolar\"}],\"scatterpolargl\":[{\"marker\":{\"colorbar\":{\"outlinewidth\":0,\"ticks\":\"\"}},\"type\":\"scatterpolargl\"}],\"scatterternary\":[{\"marker\":{\"colorbar\":{\"outlinewidth\":0,\"ticks\":\"\"}},\"type\":\"scatterternary\"}],\"surface\":[{\"colorbar\":{\"outlinewidth\":0,\"ticks\":\"\"},\"colorscale\":[[0.0,\"#0d0887\"],[0.1111111111111111,\"#46039f\"],[0.2222222222222222,\"#7201a8\"],[0.3333333333333333,\"#9c179e\"],[0.4444444444444444,\"#bd3786\"],[0.5555555555555556,\"#d8576b\"],[0.6666666666666666,\"#ed7953\"],[0.7777777777777778,\"#fb9f3a\"],[0.8888888888888888,\"#fdca26\"],[1.0,\"#f0f921\"]],\"type\":\"surface\"}],\"table\":[{\"cells\":{\"fill\":{\"color\":\"#EBF0F8\"},\"line\":{\"color\":\"white\"}},\"header\":{\"fill\":{\"color\":\"#C8D4E3\"},\"line\":{\"color\":\"white\"}},\"type\":\"table\"}]},\"layout\":{\"annotationdefaults\":{\"arrowcolor\":\"#2a3f5f\",\"arrowhead\":0,\"arrowwidth\":1},\"autotypenumbers\":\"strict\",\"coloraxis\":{\"colorbar\":{\"outlinewidth\":0,\"ticks\":\"\"}},\"colorscale\":{\"diverging\":[[0,\"#8e0152\"],[0.1,\"#c51b7d\"],[0.2,\"#de77ae\"],[0.3,\"#f1b6da\"],[0.4,\"#fde0ef\"],[0.5,\"#f7f7f7\"],[0.6,\"#e6f5d0\"],[0.7,\"#b8e186\"],[0.8,\"#7fbc41\"],[0.9,\"#4d9221\"],[1,\"#276419\"]],\"sequential\":[[0.0,\"#0d0887\"],[0.1111111111111111,\"#46039f\"],[0.2222222222222222,\"#7201a8\"],[0.3333333333333333,\"#9c179e\"],[0.4444444444444444,\"#bd3786\"],[0.5555555555555556,\"#d8576b\"],[0.6666666666666666,\"#ed7953\"],[0.7777777777777778,\"#fb9f3a\"],[0.8888888888888888,\"#fdca26\"],[1.0,\"#f0f921\"]],\"sequentialminus\":[[0.0,\"#0d0887\"],[0.1111111111111111,\"#46039f\"],[0.2222222222222222,\"#7201a8\"],[0.3333333333333333,\"#9c179e\"],[0.4444444444444444,\"#bd3786\"],[0.5555555555555556,\"#d8576b\"],[0.6666666666666666,\"#ed7953\"],[0.7777777777777778,\"#fb9f3a\"],[0.8888888888888888,\"#fdca26\"],[1.0,\"#f0f921\"]]},\"colorway\":[\"#636efa\",\"#EF553B\",\"#00cc96\",\"#ab63fa\",\"#FFA15A\",\"#19d3f3\",\"#FF6692\",\"#B6E880\",\"#FF97FF\",\"#FECB52\"],\"font\":{\"color\":\"#2a3f5f\"},\"geo\":{\"bgcolor\":\"white\",\"lakecolor\":\"white\",\"landcolor\":\"#E5ECF6\",\"showlakes\":true,\"showland\":true,\"subunitcolor\":\"white\"},\"hoverlabel\":{\"align\":\"left\"},\"hovermode\":\"closest\",\"mapbox\":{\"style\":\"light\"},\"paper_bgcolor\":\"white\",\"plot_bgcolor\":\"#E5ECF6\",\"polar\":{\"angularaxis\":{\"gridcolor\":\"white\",\"linecolor\":\"white\",\"ticks\":\"\"},\"bgcolor\":\"#E5ECF6\",\"radialaxis\":{\"gridcolor\":\"white\",\"linecolor\":\"white\",\"ticks\":\"\"}},\"scene\":{\"xaxis\":{\"backgroundcolor\":\"#E5ECF6\",\"gridcolor\":\"white\",\"gridwidth\":2,\"linecolor\":\"white\",\"showbackground\":true,\"ticks\":\"\",\"zerolinecolor\":\"white\"},\"yaxis\":{\"backgroundcolor\":\"#E5ECF6\",\"gridcolor\":\"white\",\"gridwidth\":2,\"linecolor\":\"white\",\"showbackground\":true,\"ticks\":\"\",\"zerolinecolor\":\"white\"},\"zaxis\":{\"backgroundcolor\":\"#E5ECF6\",\"gridcolor\":\"white\",\"gridwidth\":2,\"linecolor\":\"white\",\"showbackground\":true,\"ticks\":\"\",\"zerolinecolor\":\"white\"}},\"shapedefaults\":{\"line\":{\"color\":\"#2a3f5f\"}},\"ternary\":{\"aaxis\":{\"gridcolor\":\"white\",\"linecolor\":\"white\",\"ticks\":\"\"},\"baxis\":{\"gridcolor\":\"white\",\"linecolor\":\"white\",\"ticks\":\"\"},\"bgcolor\":\"#E5ECF6\",\"caxis\":{\"gridcolor\":\"white\",\"linecolor\":\"white\",\"ticks\":\"\"}},\"title\":{\"x\":0.05},\"xaxis\":{\"automargin\":true,\"gridcolor\":\"white\",\"linecolor\":\"white\",\"ticks\":\"\",\"title\":{\"standoff\":15},\"zerolinecolor\":\"white\",\"zerolinewidth\":2},\"yaxis\":{\"automargin\":true,\"gridcolor\":\"white\",\"linecolor\":\"white\",\"ticks\":\"\",\"title\":{\"standoff\":15},\"zerolinecolor\":\"white\",\"zerolinewidth\":2}}},\"width\":900,\"xaxis\":{\"rangeselector\":{\"buttons\":[{\"count\":7,\"label\":\"1w\",\"step\":\"day\",\"stepmode\":\"backward\"},{\"count\":1,\"label\":\"1m\",\"step\":\"month\",\"stepmode\":\"backward\"},{\"count\":6,\"label\":\"6m\",\"step\":\"month\",\"stepmode\":\"backward\"},{\"count\":1,\"label\":\"1y\",\"step\":\"year\",\"stepmode\":\"backward\"},{\"step\":\"all\"}]},\"rangeslider\":{\"visible\":true},\"title\":{\"text\":\"ds\"},\"type\":\"date\"},\"yaxis\":{\"title\":{\"text\":\"y\"}}},                        {\"responsive\": true}                    ).then(function(){\n",
       "                            \n",
       "var gd = document.getElementById('46143396-edb2-417a-b50a-f542bdc9eda1');\n",
       "var x = new MutationObserver(function (mutations, observer) {{\n",
       "        var display = window.getComputedStyle(gd).display;\n",
       "        if (!display || display === 'none') {{\n",
       "            console.log([gd, 'removed!']);\n",
       "            Plotly.purge(gd);\n",
       "            observer.disconnect();\n",
       "        }}\n",
       "}});\n",
       "\n",
       "// Listen for the removal of the full notebook cells\n",
       "var notebookContainer = gd.closest('#notebook-container');\n",
       "if (notebookContainer) {{\n",
       "    x.observe(notebookContainer, {childList: true});\n",
       "}}\n",
       "\n",
       "// Listen for the clearing of the current output cell\n",
       "var outputEl = gd.closest('.output');\n",
       "if (outputEl) {{\n",
       "    x.observe(outputEl, {childList: true});\n",
       "}}\n",
       "\n",
       "                        })                };                });            </script>        </div>"
      ]
     },
     "metadata": {},
     "output_type": "display_data"
    }
   ],
   "source": [
    "plot_plotly(m, forecast)"
   ]
  },
  {
   "cell_type": "markdown",
   "id": "a3cd617a-304f-48f0-b039-67f644863d7a",
   "metadata": {},
   "source": [
    "<h4>Utilização do Components para ver tendências mensais e de dias da semana</h4>"
   ]
  },
  {
   "cell_type": "code",
   "execution_count": 138,
   "id": "b632eb61-b247-4e1c-bfac-81fb6e370581",
   "metadata": {},
   "outputs": [
    {
     "data": {
      "image/png": "[encoded data removed]",
      "text/plain": [
       "<Figure size 648x432 with 2 Axes>"
      ]
     },
     "metadata": {},
     "output_type": "display_data"
    }
   ],
   "source": [
    "fig3 = m.plot_components(forecast)"
   ]
  },
  {
   "cell_type": "markdown",
   "id": "9e4f2ad0-dd29-4403-84e3-32774ce276c6",
   "metadata": {},
   "source": [
    "<a href=\"#indice\"><img src=\"botao-topo.png\" width=\"15%\"/></a>"
   ]
  },
  {
   "cell_type": "markdown",
   "id": "4704ded2-d7a8-4ff1-a1ba-8a746f9f4bbe",
   "metadata": {},
   "source": [
    "<div id=\"5\"><h2>6 - Conclusões</h2></div>"
   ]
  },
  {
   "cell_type": "markdown",
   "id": "dc4ee2f8-1d63-4e01-8cfa-1ea9023d0090",
   "metadata": {},
   "source": [
    "Embora a quantidade de casos esteja crescendo consistentemente, o número e percentual de hospitalizações é baixo em comparação com o coronavírus. Como não temos no dataset a quantidade de mortes, é difícil prever, porém, nos baseando no percentual de hospitalizações, esse percentual muito provavelmente será baixo também.\n",
    "\n",
    "Devemos nos instruir e nos conscientizar sobre maneiras de prevenção para que não escale como o coronavírus escalou e trouxe prejuízos incalculáveis.\n",
    "\n",
    "Para mais informação sobre a varíola dos macacos, acesse o site do <a href=\"https://www.gov.br/saude/pt-br/assuntos/variola-dos-macacos\" target=\"_blank\">Ministério da Sáude</a>."
   ]
  },
  {
   "cell_type": "markdown",
   "id": "79ce025b-82d2-4a1a-ab98-7223a4b5c305",
   "metadata": {},
   "source": [
    "<img src=\"ty.gif\" width=\"100%\"/>"
   ]
  },
  {
   "cell_type": "markdown",
   "id": "7eaff745-04f0-4c5e-992b-0ba8a1744c78",
   "metadata": {},
   "source": [
    "<a href=\"#indice\"><img src=\"botao-topo.png\" width=\"15%\"/></a>"
   ]
  },
  {
   "cell_type": "markdown",
   "id": "583e4c5a-6283-4a9c-acbf-eb24afbc4666",
   "metadata": {},
   "source": [
    "\n",
    "\n"
   ]
  },
  {
   "cell_type": "code",
   "execution_count": null,
   "id": "71df1bf1-27b9-4c98-aa2f-e6d528e6a806",
   "metadata": {},
   "outputs": [],
   "source": []
  }
 ],
 "metadata": {
  "kernelspec": {
   "display_name": "Python 3 (ipykernel)",
   "language": "python",
   "name": "python3"
  },
  "language_info": {
   "codemirror_mode": {
    "name": "ipython",
    "version": 3
   },
   "file_extension": ".py",
   "mimetype": "text/x-python",
   "name": "python",
   "nbconvert_exporter": "python",
   "pygments_lexer": "ipython3",
   "version": "3.9.12"
  }
 },
 "nbformat": 4,
 "nbformat_minor": 5
}
