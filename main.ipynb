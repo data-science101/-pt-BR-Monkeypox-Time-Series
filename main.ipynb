{
 "cells": [
  {
   "cell_type": "markdown",
   "id": "fdcc0d0d-269f-43b3-af22-97fe7b6c5612",
   "metadata": {},
   "source": [
    "<img src=\"topo.png\" width=\"100%\"/><br /> <i>Última análise: 30/08/2022</i>"
   ]
  },
  {
   "cell_type": "markdown",
   "id": "7e55688e-7dc8-441b-90e1-a072c7616044",
   "metadata": {},
   "source": [
    "<div id=\"indice\" class=\"alert alert-block alert-success\">\n",
    "\n",
    "<h1>Índice</h1>\n",
    "<ol>\n",
    "    <li><a href=\"#0\">Objetivo</a></li>\n",
    "    <li><a href=\"#1\">Sobre a varíola dos macacos</a></li>\n",
    "    <li><a href=\"#2\">Verificação de dados</a></li>\n",
    "    <li><a href=\"#3\">Curiosidades (EDA)</a></li>\n",
    "    <li><a href=\"#4\">Previsões com Prophet</a></li>\n",
    "        <ol>\n",
    "        <li><a href=\"#41\">Previsão de novos casos diários - 90 Dias</a></li>\n",
    "        <li><a href=\"#42\">Previsão de novos casos diários acumulados</a></li>\n",
    "    </ol>\n",
    "    <li><a href=\"#5\">Conclusões</a></li>\n",
    "    </ol>\n",
    "</div>"
   ]
  },
  {
   "cell_type": "markdown",
   "id": "d5af8ff6-d80c-4b80-9115-c1cbff1f7d7f",
   "metadata": {},
   "source": [
    "<div id=\"0\"><h1>1 - Objetivo</h1>"
   ]
  },
  {
   "cell_type": "markdown",
   "id": "1c8041f3-4bf8-4a54-9397-2da824b11283",
   "metadata": {},
   "source": [
    "O objetivo desse estudo é conhecer mais sobre a varíola dos macacos, como está a situação atual no mundo, quantidade de hospitalizações e principalmente previsões no crescimento dos casos no Brasil, extraindo informações que podem ser úteis para a população em geral.\n",
    "\n",
    "Foi utilizado o dataset público do Kaggle, atualizado diariamente neste <a href=\"https://www.kaggle.com/datasets/deepcontractor/monkeypox-dataset-daily-updated/download?datasetVersionNumber=101\" target=\"_blank\">link</a>."
   ]
  },
  {
   "cell_type": "markdown",
   "id": "8a9dfb76-0570-4750-a2a1-afdb8f9da8ac",
   "metadata": {},
   "source": [
    "<div id=\"1\"><h1>2 - Sobre a varíola dos macacos</h1>\n",
    "\n",
    "<p>A varíola dos macacos é transmitida pelo vírus monkeypox, que pertence ao gênero orthopoxvirus. É considerada uma zoonose viral (o vírus é transmitido aos seres humanos a partir de animais) com sintomas muito semelhantes aos observados em pacientes com varíola, embora seja clinicamente menos grave. O período de incubação da varíola dos macacos é geralmente de seis a 13 dias, mas pode variar de cinco a 21 dias, segundo a Organização Mundial da Saúde (OMS).</p>\n",
    "\n",
    "<p>O nome monkeypox se origina da descoberta inicial do vírus em macacos em um laboratório dinamarquês em 1958. O primeiro caso humano foi identificado em uma criança na República Democrática do Congo em 1970. Atualmente, segundo a OMS esclareceu, a maioria dos animais suscetíveis a este tipo de varíola são roedores, como ratos e cão-da-pradaria.</p>\n",
    "\n",
    "<p>A transmissão ocorre por contato próximo com lesões, fluidos corporais, gotículas respiratórias e materiais contaminados, como roupas de cama. E, segundo o órgão de saúde, a transmissão de humano para humano está ocorrendo entre pessoas com contato físico próximo com casos sintomáticos.</p>\n",
    "\n",
    "<p>O contato próximo com pessoas infectadas ou materiais contaminados deve ser evitado. Luvas e outras roupas e equipamentos de proteção individual devem ser usados ao cuidar dos doentes, seja em uma unidade de saúde ou em casa.</p>\n",
    "\n",
    "<h2>Sintomas:</h2>\n",
    "\n",
    "<p>A OMS descreve quadros diferentes de sintomas para casos suspeitos, prováveis e confirmados. Passa a ser considerado um caso suspeito qualquer pessoa, de qualquer idade, que apresente pústulas (bolhas) na pele de forma aguda e inexplicável e esteja em um país onde a varíola dos macacos não é endêmica. Se este quadro for acompanhado por dor de cabeça, início de febre acima de 38,5°C, linfonodos inchados, dores musculares e no corpo, dor nas costas e fraqueza profunda, é necessário fazer exame para confirmar ou descartar a doença.</p>\n",
    "\n",
    "<p>Casos considerados “prováveis” incluem sintomas semelhantes aos dos casos suspeitos, como contato físico pele a pele ou com lesões na pele, contato sexual ou com materiais contaminados 21 dias antes do início dos sintomas. Soma-se a isso, histórico de viagens para um país endêmico ou ter tido contato próximo com possíveis infectados no mesmo período e/ou ter resultado positivo para um teste sorológico de orthopoxvirus na ausência de vacinação contra varíola ou outra exposição conhecida ao vírus.</p>\n",
    "\n",
    "<p>Casos confirmados ocorrem quando há confirmação laboratorial para o vírus da varíola dos macacos por meio do exame PCR (Reação em Cadeia da Polimerase) em tempo real e/ou sequenciamento.</p>\n",
    "\n",
    "<p>A prevenção e o controle dependem da conscientização das comunidades e da educação dos profissionais de saúde para prevenir a infecção e interromper a transmissão.</p>\n",
    "\n",
    " \n",
    "\n",
    "<p><b>Fontes:</b></p>\n",
    "\n",
    "<ul>\n",
    "    <li><a href=\"https://bvsms.saude.gov.br/02-6-variola-dos-macacos/\" target=\"_blank\">Biblioteca Virtual em Saúde</a></li>\n",
    "    <li><a href=\"https://butantan.gov.br/noticias/variola-dos-macacos-sintomas-transmissao-origem-e-numero-de-casos-sao-atualizados-pela-oms\" target=\"_blank\">Instituto Butantan</a></li>\n",
    "    <li><a href=\"https://brasil.un.org/pt-br/183321-surto-de-variola-dos-macacos-ainda-pode-ser-controlado-garante-oms\" target=\"_blank\">Organização das Nações Unidas (ONU) – Escritório Brasil</a></li>\n",
    "    <li><a href=\"https://news.un.org/pt/story/2022/05/1790052\" target=\"_blank\">ONU News</a<</li>\n",
    "</ul>\n",
    "</div>"
   ]
  },
  {
   "cell_type": "markdown",
   "id": "a3f95ce7-8446-4c35-9afc-a743a9bd8067",
   "metadata": {},
   "source": [
    "<a href=\"#indice\"><img src=\"botao-topo.png\" width=\"15%\"/></div>"
   ]
  },
  {
   "cell_type": "markdown",
   "id": "10d66d22-1d30-416b-98a5-4fcb55556fb2",
   "metadata": {},
   "source": [
    "<h4>Importação de bibliotecas necessárias</h4>"
   ]
  },
  {
   "cell_type": "code",
   "execution_count": 727,
   "id": "d418ca2f-99ab-4e2d-9a24-3c81f0400bfb",
   "metadata": {},
   "outputs": [],
   "source": [
    "import pandas as pd\n",
    "import numpy as np\n",
    "import seaborn as sns\n",
    "import matplotlib.pyplot as plt\n",
    "import plotly_express as px\n",
    "from prophet import Prophet\n",
    "from prophet.plot import plot_plotly, plot_components_plotly\n",
    "import warnings\n",
    "warnings.filterwarnings(\"ignore\")"
   ]
  },
  {
   "cell_type": "markdown",
   "id": "4d3ab698-a2f0-4150-a40a-5b01096cdf04",
   "metadata": {},
   "source": [
    "<h4>Importação de CVs para o Pandas</h4>"
   ]
  },
  {
   "cell_type": "code",
   "execution_count": 728,
   "id": "ce0a883a-6dc6-468e-b153-ddc2090fa817",
   "metadata": {},
   "outputs": [],
   "source": [
    "timeline_casos = pd.read_csv(\"Worldwide_Case_Detection_Timeline.csv\", index_col=\"Date_confirmation\")\n",
    "casos_mundo = pd.read_csv(\"Monkey_Pox_Cases_Worldwide.csv\",index_col=\"Country\")\n",
    "casos_diarios_mundo = pd.read_csv(\"Daily_Country_Wise_Confirmed_Cases.csv\",index_col=\"Country\")"
   ]
  },
  {
   "cell_type": "code",
   "execution_count": 729,
   "id": "bc44a8ce-f6fa-4729-9be2-b371647f1d0e",
   "metadata": {},
   "outputs": [],
   "source": [
    "pd.set_option('display.max_rows', 30)"
   ]
  },
  {
   "cell_type": "code",
   "execution_count": 762,
   "id": "531b5768-cf0b-45e7-8781-81698768f78b",
   "metadata": {},
   "outputs": [],
   "source": [
    "def espaco():\n",
    "    print('--' * 40)"
   ]
  },
  {
   "cell_type": "markdown",
   "id": "4d6af0d2-2acb-4200-8c71-45a48380d46a",
   "metadata": {},
   "source": [
    "<a href=\"#indice\"><img src=\"botao-topo.png\" width=\"15%\"/></div>"
   ]
  },
  {
   "cell_type": "markdown",
   "id": "fdac68da-3579-420b-8035-4c73c98f7493",
   "metadata": {
    "tags": []
   },
   "source": [
    "<div id=\"2\"><h2>3 - Verificações de dados</h2></div>"
   ]
  },
  {
   "cell_type": "markdown",
   "id": "3a7e6450-0659-449c-b26f-6b7bd453c15d",
   "metadata": {},
   "source": [
    "<h4>Quantidade de linhas e colunas em cada dataset</h4>"
   ]
  },
  {
   "cell_type": "code",
   "execution_count": 763,
   "id": "de18b77d-bca5-4df0-bf70-cc55037ab25b",
   "metadata": {},
   "outputs": [
    {
     "name": "stdout",
     "output_type": "stream",
     "text": [
      "(104, 1)\n",
      "(120, 6)\n",
      "(103, 117)\n"
     ]
    }
   ],
   "source": [
    "print(timeline_casos.shape)\n",
    "print(casos_mundo.shape)\n",
    "print(casos_diarios_mundo.shape)"
   ]
  },
  {
   "cell_type": "markdown",
   "id": "2d02be35-1af2-4c4a-aaac-48543403e00d",
   "metadata": {},
   "source": [
    "<h4>Verificação de tipos de cada coluna</h4>"
   ]
  },
  {
   "cell_type": "code",
   "execution_count": 764,
   "id": "61c4acb8-286f-49fe-8a1b-bf1317366b3a",
   "metadata": {},
   "outputs": [
    {
     "name": "stdout",
     "output_type": "stream",
     "text": [
      "--------------------------------------------------------------------------------\n",
      "Informações timeline de casos: \n",
      "<class 'pandas.core.frame.DataFrame'>\n",
      "Index: 104 entries, 2022-01-31 to 2022-08-25\n",
      "Data columns (total 1 columns):\n",
      " #   Column   Non-Null Count  Dtype \n",
      "---  ------   --------------  ----- \n",
      " 0   Country  104 non-null    object\n",
      "dtypes: object(1)\n",
      "memory usage: 1.6+ KB\n",
      "None\n",
      "--------------------------------------------------------------------------------\n",
      "Informações de casos diários no mundo: \n",
      "<class 'pandas.core.frame.DataFrame'>\n",
      "Index: 103 entries, Nigeria to Paraguay\n",
      "Columns: 117 entries, 2022-01-31 to 2022-08-29\n",
      "dtypes: int64(117)\n",
      "memory usage: 100.0+ KB\n",
      "None\n",
      "--------------------------------------------------------------------------------\n",
      "Informações de casos no mundo: \n",
      "<class 'pandas.core.frame.DataFrame'>\n",
      "Index: 120 entries, England to Sierra Leone\n",
      "Data columns (total 6 columns):\n",
      " #   Column              Non-Null Count  Dtype  \n",
      "---  ------              --------------  -----  \n",
      " 0   Confirmed_Cases     120 non-null    float64\n",
      " 1   Suspected_Cases     120 non-null    float64\n",
      " 2   Hospitalized        120 non-null    float64\n",
      " 3   Travel_History_Yes  120 non-null    float64\n",
      " 4   Travel_History_No   120 non-null    float64\n",
      " 5   Hospercent          107 non-null    float64\n",
      "dtypes: float64(6)\n",
      "memory usage: 11.6+ KB\n",
      "None\n",
      "--------------------------------------------------------------------------------\n"
     ]
    }
   ],
   "source": [
    "espaco()\n",
    "print('Informações timeline de casos: ')\n",
    "print(timeline_casos.info())\n",
    "espaco()\n",
    "print('Informações de casos diários no mundo: ')\n",
    "print(casos_diarios_mundo.info())\n",
    "espaco()\n",
    "print('Informações de casos no mundo: ')\n",
    "print(casos_mundo.info())\n",
    "espaco()"
   ]
  },
  {
   "cell_type": "markdown",
   "id": "46eea56f-d63f-4a11-b2a4-ad1d67eb9f9e",
   "metadata": {},
   "source": [
    "<b style=\"color:#1e6d06\">Observação:</b> As colunas estão no formato que precisam, apenas as datas dos casos diários que estão como int e vamos converter para datetime mais pra frente."
   ]
  },
  {
   "cell_type": "markdown",
   "id": "77b85324-a01d-466c-9c8e-afeef31621cf",
   "metadata": {},
   "source": [
    "<h4>Verificação de dados nulos</h4>"
   ]
  },
  {
   "cell_type": "code",
   "execution_count": 765,
   "id": "54f0d988-ef0d-46e4-a3d4-84bb08a9d9d5",
   "metadata": {},
   "outputs": [
    {
     "name": "stdout",
     "output_type": "stream",
     "text": [
      "--------------------------------------------------------------------------------\n",
      "Country    0\n",
      "dtype: int64\n",
      "--------------------------------------------------------------------------------\n",
      "2022-01-31    0\n",
      "2022-02-17    0\n",
      "2022-02-28    0\n",
      "2022-03-04    0\n",
      "2022-03-31    0\n",
      "             ..\n",
      "2022-08-25    0\n",
      "2022-08-26    0\n",
      "2022-08-27    0\n",
      "2022-08-28    0\n",
      "2022-08-29    0\n",
      "Length: 117, dtype: int64\n",
      "--------------------------------------------------------------------------------\n",
      "Confirmed_Cases        0\n",
      "Suspected_Cases        0\n",
      "Hospitalized           0\n",
      "Travel_History_Yes     0\n",
      "Travel_History_No      0\n",
      "Hospercent            13\n",
      "dtype: int64\n",
      "--------------------------------------------------------------------------------\n"
     ]
    }
   ],
   "source": [
    "espaco()\n",
    "print(timeline_casos.isnull().sum())\n",
    "espaco()\n",
    "print(casos_diarios_mundo.isnull().sum())\n",
    "espaco()\n",
    "print(casos_mundo.isnull().sum())\n",
    "espaco()"
   ]
  },
  {
   "cell_type": "code",
   "execution_count": 766,
   "id": "deba6867-4e86-4066-b7f0-b0fd3700efff",
   "metadata": {},
   "outputs": [
    {
     "name": "stdout",
     "output_type": "stream",
     "text": [
      "--------------------------------------------------------------------------------\n",
      "Country    0\n",
      "dtype: int64\n",
      "--------------------------------------------------------------------------------\n",
      "2022-01-31    0\n",
      "2022-02-17    0\n",
      "2022-02-28    0\n",
      "2022-03-04    0\n",
      "2022-03-31    0\n",
      "             ..\n",
      "2022-08-25    0\n",
      "2022-08-26    0\n",
      "2022-08-27    0\n",
      "2022-08-28    0\n",
      "2022-08-29    0\n",
      "Length: 117, dtype: int64\n",
      "--------------------------------------------------------------------------------\n",
      "Confirmed_Cases        0\n",
      "Suspected_Cases        0\n",
      "Hospitalized           0\n",
      "Travel_History_Yes     0\n",
      "Travel_History_No      0\n",
      "Hospercent            13\n",
      "dtype: int64\n",
      "--------------------------------------------------------------------------------\n"
     ]
    }
   ],
   "source": [
    "espaco()\n",
    "print(timeline_casos.isnull().sum())\n",
    "espaco()\n",
    "print(casos_diarios_mundo.isnull().sum())\n",
    "espaco()\n",
    "print(casos_mundo.isnull().sum())\n",
    "espaco()"
   ]
  },
  {
   "cell_type": "markdown",
   "id": "dcc6d04d-3fa2-42a3-a847-38f07022a4c2",
   "metadata": {},
   "source": [
    "<h4>Detalhes de cada dataset</h4>"
   ]
  },
  {
   "cell_type": "code",
   "execution_count": 767,
   "id": "3ae63ad9-f0a2-4c0f-8a52-9475d6c074ed",
   "metadata": {},
   "outputs": [
    {
     "name": "stdout",
     "output_type": "stream",
     "text": [
      "--------------------------------------------------------------------------------\n",
      "                     Country\n",
      "count                    104\n",
      "unique                   104\n",
      "top     United Arab Emirates\n",
      "freq                       1\n",
      "--------------------------------------------------------------------------------\n",
      "       2022-01-31  2022-02-17  2022-02-28  2022-03-04  2022-03-31  2022-04-10  \\\n",
      "count  103.000000  103.000000  103.000000  103.000000  103.000000  103.000000   \n",
      "mean     0.029126    0.029126    0.009709    0.019417    0.058252    0.038835   \n",
      "std      0.295599    0.295599    0.098533    0.197066    0.591198    0.394132   \n",
      "min      0.000000    0.000000    0.000000    0.000000    0.000000    0.000000   \n",
      "25%      0.000000    0.000000    0.000000    0.000000    0.000000    0.000000   \n",
      "50%      0.000000    0.000000    0.000000    0.000000    0.000000    0.000000   \n",
      "75%      0.000000    0.000000    0.000000    0.000000    0.000000    0.000000   \n",
      "max      3.000000    3.000000    1.000000    2.000000    6.000000    4.000000   \n",
      "\n",
      "       2022-04-12  2022-04-30  2022-05-06  2022-05-08  ...  2022-08-20  \\\n",
      "count  103.000000  103.000000  103.000000  103.000000  ...   103.00000   \n",
      "mean     0.019417    0.048544    0.009709    0.097087  ...     1.61165   \n",
      "std      0.197066    0.492665    0.098533    0.985329  ...    10.86660   \n",
      "min      0.000000    0.000000    0.000000    0.000000  ...     0.00000   \n",
      "25%      0.000000    0.000000    0.000000    0.000000  ...     0.00000   \n",
      "50%      0.000000    0.000000    0.000000    0.000000  ...     0.00000   \n",
      "75%      0.000000    0.000000    0.000000    0.000000  ...     0.00000   \n",
      "max      2.000000    5.000000    1.000000   10.000000  ...   100.00000   \n",
      "\n",
      "       2022-08-21   2022-08-22  2022-08-23  2022-08-24  2022-08-25  \\\n",
      "count  103.000000   103.000000  103.000000  103.000000  103.000000   \n",
      "mean     1.048544    20.029126   14.087379   10.184466    6.184466   \n",
      "std      6.794431   130.697185   71.862083   69.187405   33.842411   \n",
      "min      0.000000     0.000000    0.000000    0.000000    0.000000   \n",
      "25%      0.000000     0.000000    0.000000    0.000000    0.000000   \n",
      "50%      0.000000     0.000000    0.000000    0.000000    0.000000   \n",
      "75%      0.000000     0.000000    0.000000    0.000000    0.000000   \n",
      "max     60.000000  1308.000000  532.000000  682.000000  323.000000   \n",
      "\n",
      "       2022-08-26  2022-08-27  2022-08-28  2022-08-29  \n",
      "count  103.000000  103.000000  103.000000  103.000000  \n",
      "mean    10.349515    0.407767    0.504854    9.592233  \n",
      "std     57.514484    3.941824    5.123712   68.312637  \n",
      "min      0.000000    0.000000    0.000000    0.000000  \n",
      "25%      0.000000    0.000000    0.000000    0.000000  \n",
      "50%      0.000000    0.000000    0.000000    0.000000  \n",
      "75%      0.000000    0.000000    0.000000    0.000000  \n",
      "max    499.000000   40.000000   52.000000  659.000000  \n",
      "\n",
      "[8 rows x 117 columns]\n",
      "--------------------------------------------------------------------------------\n",
      "       Confirmed_Cases  Suspected_Cases  Hospitalized  Travel_History_Yes  \\\n",
      "count       120.000000       120.000000    120.000000          120.000000   \n",
      "mean        412.566667        21.575000      1.183333            2.191667   \n",
      "std        1852.031661       203.969336      2.863809            4.909767   \n",
      "min           0.000000         0.000000      0.000000            0.000000   \n",
      "25%           2.000000         0.000000      0.000000            0.000000   \n",
      "50%           5.500000         0.000000      0.000000            1.000000   \n",
      "75%          67.500000         0.000000      1.000000            3.000000   \n",
      "max       17995.000000      2217.000000     18.000000           41.000000   \n",
      "\n",
      "       Travel_History_No  Hospercent  \n",
      "count         120.000000  107.000000  \n",
      "mean            0.733333         inf  \n",
      "std             3.627007         NaN  \n",
      "min             0.000000    0.000000  \n",
      "25%             0.000000    0.000000  \n",
      "50%             0.000000    0.000000  \n",
      "75%             0.000000    2.303173  \n",
      "max            34.000000         inf  \n",
      "--------------------------------------------------------------------------------\n"
     ]
    }
   ],
   "source": [
    "espaco()\n",
    "print(timeline_casos.describe(include = 'all'))\n",
    "espaco()\n",
    "print(casos_diarios_mundo.describe(include = 'all'))\n",
    "espaco()\n",
    "print(casos_mundo.describe(include = 'all'))\n",
    "espaco()"
   ]
  },
  {
   "cell_type": "markdown",
   "id": "7c7f8a28-e494-4392-b9d5-4ea8023cb82d",
   "metadata": {},
   "source": [
    "<a href=\"#indice\"><img src=\"botao-topo.png\" width=\"15%\"/></div>"
   ]
  },
  {
   "cell_type": "markdown",
   "id": "9096345b-b75b-415f-b6dd-dbfabfe23ab2",
   "metadata": {},
   "source": [
    "<div id=\"3\"><h2>4 - Curiosidades (EDA)</h2></div>"
   ]
  },
  {
   "cell_type": "markdown",
   "id": "97b6646b-e3ea-4c9b-ba4c-01c4dfeebf37",
   "metadata": {
    "tags": []
   },
   "source": [
    "<h4>Top 20 países com mais casos confirmados</h4>"
   ]
  },
  {
   "cell_type": "code",
   "execution_count": 736,
   "id": "4450fc6e-18e5-435c-af92-7ac2f5cdcb97",
   "metadata": {},
   "outputs": [
    {
     "data": {
      "text/html": [
       "<div>\n",
       "<style scoped>\n",
       "    .dataframe tbody tr th:only-of-type {\n",
       "        vertical-align: middle;\n",
       "    }\n",
       "\n",
       "    .dataframe tbody tr th {\n",
       "        vertical-align: top;\n",
       "    }\n",
       "\n",
       "    .dataframe thead th {\n",
       "        text-align: right;\n",
       "    }\n",
       "</style>\n",
       "<table border=\"1\" class=\"dataframe\">\n",
       "  <thead>\n",
       "    <tr style=\"text-align: right;\">\n",
       "      <th></th>\n",
       "      <th>Confirmed_Cases</th>\n",
       "    </tr>\n",
       "    <tr>\n",
       "      <th>Country</th>\n",
       "      <th></th>\n",
       "    </tr>\n",
       "  </thead>\n",
       "  <tbody>\n",
       "    <tr>\n",
       "      <th>United States</th>\n",
       "      <td>17995.0</td>\n",
       "    </tr>\n",
       "    <tr>\n",
       "      <th>Spain</th>\n",
       "      <td>6459.0</td>\n",
       "    </tr>\n",
       "    <tr>\n",
       "      <th>Brazil</th>\n",
       "      <td>4693.0</td>\n",
       "    </tr>\n",
       "    <tr>\n",
       "      <th>Germany</th>\n",
       "      <td>3422.0</td>\n",
       "    </tr>\n",
       "    <tr>\n",
       "      <th>France</th>\n",
       "      <td>3417.0</td>\n",
       "    </tr>\n",
       "    <tr>\n",
       "      <th>England</th>\n",
       "      <td>3191.0</td>\n",
       "    </tr>\n",
       "    <tr>\n",
       "      <th>Peru</th>\n",
       "      <td>1434.0</td>\n",
       "    </tr>\n",
       "    <tr>\n",
       "      <th>Canada</th>\n",
       "      <td>1228.0</td>\n",
       "    </tr>\n",
       "    <tr>\n",
       "      <th>Netherlands</th>\n",
       "      <td>1136.0</td>\n",
       "    </tr>\n",
       "    <tr>\n",
       "      <th>Portugal</th>\n",
       "      <td>846.0</td>\n",
       "    </tr>\n",
       "    <tr>\n",
       "      <th>Italy</th>\n",
       "      <td>740.0</td>\n",
       "    </tr>\n",
       "    <tr>\n",
       "      <th>Belgium</th>\n",
       "      <td>671.0</td>\n",
       "    </tr>\n",
       "    <tr>\n",
       "      <th>Switzerland</th>\n",
       "      <td>455.0</td>\n",
       "    </tr>\n",
       "    <tr>\n",
       "      <th>Mexico</th>\n",
       "      <td>386.0</td>\n",
       "    </tr>\n",
       "    <tr>\n",
       "      <th>Chile</th>\n",
       "      <td>344.0</td>\n",
       "    </tr>\n",
       "    <tr>\n",
       "      <th>Colombia</th>\n",
       "      <td>273.0</td>\n",
       "    </tr>\n",
       "    <tr>\n",
       "      <th>Austria</th>\n",
       "      <td>258.0</td>\n",
       "    </tr>\n",
       "    <tr>\n",
       "      <th>Israel</th>\n",
       "      <td>234.0</td>\n",
       "    </tr>\n",
       "    <tr>\n",
       "      <th>Nigeria</th>\n",
       "      <td>172.0</td>\n",
       "    </tr>\n",
       "    <tr>\n",
       "      <th>Denmark</th>\n",
       "      <td>171.0</td>\n",
       "    </tr>\n",
       "  </tbody>\n",
       "</table>\n",
       "</div>"
      ],
      "text/plain": [
       "               Confirmed_Cases\n",
       "Country                       \n",
       "United States          17995.0\n",
       "Spain                   6459.0\n",
       "Brazil                  4693.0\n",
       "Germany                 3422.0\n",
       "France                  3417.0\n",
       "England                 3191.0\n",
       "Peru                    1434.0\n",
       "Canada                  1228.0\n",
       "Netherlands             1136.0\n",
       "Portugal                 846.0\n",
       "Italy                    740.0\n",
       "Belgium                  671.0\n",
       "Switzerland              455.0\n",
       "Mexico                   386.0\n",
       "Chile                    344.0\n",
       "Colombia                 273.0\n",
       "Austria                  258.0\n",
       "Israel                   234.0\n",
       "Nigeria                  172.0\n",
       "Denmark                  171.0"
      ]
     },
     "execution_count": 736,
     "metadata": {},
     "output_type": "execute_result"
    }
   ],
   "source": [
    "casos_mundo.sort_values(by=\"Confirmed_Cases\",ascending=False )[[\"Confirmed_Cases\"]][:20]"
   ]
  },
  {
   "cell_type": "markdown",
   "id": "6a1db695-f5c0-4c3a-a3c7-070b95d69fa9",
   "metadata": {},
   "source": [
    "<b style=\"color:#1e6d06\">Observação:</b> Infelizmente o Brasil já figura na terceira posição, com 4693 casos confirmados."
   ]
  },
  {
   "cell_type": "markdown",
   "id": "142e346f-1041-4d54-9252-5f178eba02a3",
   "metadata": {
    "tags": []
   },
   "source": [
    "<h4>Top 20 países com mais hospitalizações</h4>"
   ]
  },
  {
   "cell_type": "code",
   "execution_count": 737,
   "id": "6ec0d12a-2e98-46ed-a4ed-1a480844fcde",
   "metadata": {},
   "outputs": [
    {
     "data": {
      "text/html": [
       "<div>\n",
       "<style scoped>\n",
       "    .dataframe tbody tr th:only-of-type {\n",
       "        vertical-align: middle;\n",
       "    }\n",
       "\n",
       "    .dataframe tbody tr th {\n",
       "        vertical-align: top;\n",
       "    }\n",
       "\n",
       "    .dataframe thead th {\n",
       "        text-align: right;\n",
       "    }\n",
       "</style>\n",
       "<table border=\"1\" class=\"dataframe\">\n",
       "  <thead>\n",
       "    <tr style=\"text-align: right;\">\n",
       "      <th></th>\n",
       "      <th>Confirmed_Cases</th>\n",
       "      <th>Hospitalized</th>\n",
       "    </tr>\n",
       "    <tr>\n",
       "      <th>Country</th>\n",
       "      <th></th>\n",
       "      <th></th>\n",
       "    </tr>\n",
       "  </thead>\n",
       "  <tbody>\n",
       "    <tr>\n",
       "      <th>Italy</th>\n",
       "      <td>740.0</td>\n",
       "      <td>18.0</td>\n",
       "    </tr>\n",
       "    <tr>\n",
       "      <th>Germany</th>\n",
       "      <td>3422.0</td>\n",
       "      <td>18.0</td>\n",
       "    </tr>\n",
       "    <tr>\n",
       "      <th>Spain</th>\n",
       "      <td>6459.0</td>\n",
       "      <td>13.0</td>\n",
       "    </tr>\n",
       "    <tr>\n",
       "      <th>Singapore</th>\n",
       "      <td>16.0</td>\n",
       "      <td>8.0</td>\n",
       "    </tr>\n",
       "    <tr>\n",
       "      <th>Romania</th>\n",
       "      <td>36.0</td>\n",
       "      <td>7.0</td>\n",
       "    </tr>\n",
       "    <tr>\n",
       "      <th>England</th>\n",
       "      <td>3191.0</td>\n",
       "      <td>5.0</td>\n",
       "    </tr>\n",
       "    <tr>\n",
       "      <th>Bolivia</th>\n",
       "      <td>69.0</td>\n",
       "      <td>5.0</td>\n",
       "    </tr>\n",
       "    <tr>\n",
       "      <th>United States</th>\n",
       "      <td>17995.0</td>\n",
       "      <td>4.0</td>\n",
       "    </tr>\n",
       "    <tr>\n",
       "      <th>Dominican Republic</th>\n",
       "      <td>9.0</td>\n",
       "      <td>4.0</td>\n",
       "    </tr>\n",
       "    <tr>\n",
       "      <th>Japan</th>\n",
       "      <td>4.0</td>\n",
       "      <td>4.0</td>\n",
       "    </tr>\n",
       "    <tr>\n",
       "      <th>Thailand</th>\n",
       "      <td>7.0</td>\n",
       "      <td>4.0</td>\n",
       "    </tr>\n",
       "    <tr>\n",
       "      <th>India</th>\n",
       "      <td>10.0</td>\n",
       "      <td>3.0</td>\n",
       "    </tr>\n",
       "    <tr>\n",
       "      <th>Cyprus</th>\n",
       "      <td>4.0</td>\n",
       "      <td>3.0</td>\n",
       "    </tr>\n",
       "    <tr>\n",
       "      <th>Brazil</th>\n",
       "      <td>4693.0</td>\n",
       "      <td>3.0</td>\n",
       "    </tr>\n",
       "    <tr>\n",
       "      <th>Somalia</th>\n",
       "      <td>0.0</td>\n",
       "      <td>3.0</td>\n",
       "    </tr>\n",
       "    <tr>\n",
       "      <th>Israel</th>\n",
       "      <td>234.0</td>\n",
       "      <td>3.0</td>\n",
       "    </tr>\n",
       "    <tr>\n",
       "      <th>Austria</th>\n",
       "      <td>258.0</td>\n",
       "      <td>2.0</td>\n",
       "    </tr>\n",
       "    <tr>\n",
       "      <th>Greece</th>\n",
       "      <td>54.0</td>\n",
       "      <td>2.0</td>\n",
       "    </tr>\n",
       "    <tr>\n",
       "      <th>Belgium</th>\n",
       "      <td>671.0</td>\n",
       "      <td>2.0</td>\n",
       "    </tr>\n",
       "    <tr>\n",
       "      <th>Peru</th>\n",
       "      <td>1434.0</td>\n",
       "      <td>2.0</td>\n",
       "    </tr>\n",
       "  </tbody>\n",
       "</table>\n",
       "</div>"
      ],
      "text/plain": [
       "                    Confirmed_Cases  Hospitalized\n",
       "Country                                          \n",
       "Italy                         740.0          18.0\n",
       "Germany                      3422.0          18.0\n",
       "Spain                        6459.0          13.0\n",
       "Singapore                      16.0           8.0\n",
       "Romania                        36.0           7.0\n",
       "England                      3191.0           5.0\n",
       "Bolivia                        69.0           5.0\n",
       "United States               17995.0           4.0\n",
       "Dominican Republic              9.0           4.0\n",
       "Japan                           4.0           4.0\n",
       "Thailand                        7.0           4.0\n",
       "India                          10.0           3.0\n",
       "Cyprus                          4.0           3.0\n",
       "Brazil                       4693.0           3.0\n",
       "Somalia                         0.0           3.0\n",
       "Israel                        234.0           3.0\n",
       "Austria                       258.0           2.0\n",
       "Greece                         54.0           2.0\n",
       "Belgium                       671.0           2.0\n",
       "Peru                         1434.0           2.0"
      ]
     },
     "execution_count": 737,
     "metadata": {},
     "output_type": "execute_result"
    }
   ],
   "source": [
    "casos_mundo.sort_values(by=\"Hospitalized\",ascending=False )[[\"Confirmed_Cases\",\"Hospitalized\"]][:20]"
   ]
  },
  {
   "cell_type": "markdown",
   "id": "838bfac4-7086-4eac-a1c7-b03b988c9c43",
   "metadata": {},
   "source": [
    "<b style=\"color:#1e6d06\">Observação:</b> Temos 3 hospitalizações, é interessante descobrirmos o percentual relativo à quantidade de casos."
   ]
  },
  {
   "cell_type": "markdown",
   "id": "f50fcc7a-a835-4e36-bba5-8a98ed37ae34",
   "metadata": {},
   "source": [
    "<h4>Criação de coluna com percentual de hospitalizações</h4>"
   ]
  },
  {
   "cell_type": "code",
   "execution_count": 738,
   "id": "7f4b0b78-f78e-4d1a-a681-5f649764a379",
   "metadata": {},
   "outputs": [],
   "source": [
    "casos_mundo['Hospercent'] = (casos_mundo['Hospitalized'] / casos_mundo['Confirmed_Cases']) * 100"
   ]
  },
  {
   "cell_type": "code",
   "execution_count": 739,
   "id": "03651de5-0415-4c1d-891a-031e8bfc9430",
   "metadata": {},
   "outputs": [
    {
     "data": {
      "text/html": [
       "<div>\n",
       "<style scoped>\n",
       "    .dataframe tbody tr th:only-of-type {\n",
       "        vertical-align: middle;\n",
       "    }\n",
       "\n",
       "    .dataframe tbody tr th {\n",
       "        vertical-align: top;\n",
       "    }\n",
       "\n",
       "    .dataframe thead th {\n",
       "        text-align: right;\n",
       "    }\n",
       "</style>\n",
       "<table border=\"1\" class=\"dataframe\">\n",
       "  <thead>\n",
       "    <tr style=\"text-align: right;\">\n",
       "      <th></th>\n",
       "      <th>Confirmed_Cases</th>\n",
       "      <th>Hospitalized</th>\n",
       "      <th>Hospercent</th>\n",
       "    </tr>\n",
       "    <tr>\n",
       "      <th>Country</th>\n",
       "      <th></th>\n",
       "      <th></th>\n",
       "      <th></th>\n",
       "    </tr>\n",
       "  </thead>\n",
       "  <tbody>\n",
       "    <tr>\n",
       "      <th>Nepal</th>\n",
       "      <td>0.0</td>\n",
       "      <td>1.0</td>\n",
       "      <td>inf</td>\n",
       "    </tr>\n",
       "    <tr>\n",
       "      <th>Somalia</th>\n",
       "      <td>0.0</td>\n",
       "      <td>3.0</td>\n",
       "      <td>inf</td>\n",
       "    </tr>\n",
       "    <tr>\n",
       "      <th>Pakistan</th>\n",
       "      <td>0.0</td>\n",
       "      <td>1.0</td>\n",
       "      <td>inf</td>\n",
       "    </tr>\n",
       "    <tr>\n",
       "      <th>Kosovo</th>\n",
       "      <td>0.0</td>\n",
       "      <td>1.0</td>\n",
       "      <td>inf</td>\n",
       "    </tr>\n",
       "    <tr>\n",
       "      <th>Cuba</th>\n",
       "      <td>1.0</td>\n",
       "      <td>1.0</td>\n",
       "      <td>100.000000</td>\n",
       "    </tr>\n",
       "    <tr>\n",
       "      <th>Japan</th>\n",
       "      <td>4.0</td>\n",
       "      <td>4.0</td>\n",
       "      <td>100.000000</td>\n",
       "    </tr>\n",
       "    <tr>\n",
       "      <th>Guyana</th>\n",
       "      <td>2.0</td>\n",
       "      <td>2.0</td>\n",
       "      <td>100.000000</td>\n",
       "    </tr>\n",
       "    <tr>\n",
       "      <th>South Korea</th>\n",
       "      <td>1.0</td>\n",
       "      <td>1.0</td>\n",
       "      <td>100.000000</td>\n",
       "    </tr>\n",
       "    <tr>\n",
       "      <th>Cyprus</th>\n",
       "      <td>4.0</td>\n",
       "      <td>3.0</td>\n",
       "      <td>75.000000</td>\n",
       "    </tr>\n",
       "    <tr>\n",
       "      <th>Thailand</th>\n",
       "      <td>7.0</td>\n",
       "      <td>4.0</td>\n",
       "      <td>57.142857</td>\n",
       "    </tr>\n",
       "    <tr>\n",
       "      <th>Moldova</th>\n",
       "      <td>2.0</td>\n",
       "      <td>1.0</td>\n",
       "      <td>50.000000</td>\n",
       "    </tr>\n",
       "    <tr>\n",
       "      <th>Singapore</th>\n",
       "      <td>16.0</td>\n",
       "      <td>8.0</td>\n",
       "      <td>50.000000</td>\n",
       "    </tr>\n",
       "    <tr>\n",
       "      <th>Dominican Republic</th>\n",
       "      <td>9.0</td>\n",
       "      <td>4.0</td>\n",
       "      <td>44.444444</td>\n",
       "    </tr>\n",
       "    <tr>\n",
       "      <th>Costa Rica</th>\n",
       "      <td>3.0</td>\n",
       "      <td>1.0</td>\n",
       "      <td>33.333333</td>\n",
       "    </tr>\n",
       "    <tr>\n",
       "      <th>Taiwan</th>\n",
       "      <td>3.0</td>\n",
       "      <td>1.0</td>\n",
       "      <td>33.333333</td>\n",
       "    </tr>\n",
       "    <tr>\n",
       "      <th>Qatar</th>\n",
       "      <td>3.0</td>\n",
       "      <td>1.0</td>\n",
       "      <td>33.333333</td>\n",
       "    </tr>\n",
       "    <tr>\n",
       "      <th>India</th>\n",
       "      <td>10.0</td>\n",
       "      <td>3.0</td>\n",
       "      <td>30.000000</td>\n",
       "    </tr>\n",
       "    <tr>\n",
       "      <th>Philippines</th>\n",
       "      <td>4.0</td>\n",
       "      <td>1.0</td>\n",
       "      <td>25.000000</td>\n",
       "    </tr>\n",
       "    <tr>\n",
       "      <th>Bulgaria</th>\n",
       "      <td>4.0</td>\n",
       "      <td>1.0</td>\n",
       "      <td>25.000000</td>\n",
       "    </tr>\n",
       "    <tr>\n",
       "      <th>Romania</th>\n",
       "      <td>36.0</td>\n",
       "      <td>7.0</td>\n",
       "      <td>19.444444</td>\n",
       "    </tr>\n",
       "  </tbody>\n",
       "</table>\n",
       "</div>"
      ],
      "text/plain": [
       "                    Confirmed_Cases  Hospitalized  Hospercent\n",
       "Country                                                      \n",
       "Nepal                           0.0           1.0         inf\n",
       "Somalia                         0.0           3.0         inf\n",
       "Pakistan                        0.0           1.0         inf\n",
       "Kosovo                          0.0           1.0         inf\n",
       "Cuba                            1.0           1.0  100.000000\n",
       "Japan                           4.0           4.0  100.000000\n",
       "Guyana                          2.0           2.0  100.000000\n",
       "South Korea                     1.0           1.0  100.000000\n",
       "Cyprus                          4.0           3.0   75.000000\n",
       "Thailand                        7.0           4.0   57.142857\n",
       "Moldova                         2.0           1.0   50.000000\n",
       "Singapore                      16.0           8.0   50.000000\n",
       "Dominican Republic              9.0           4.0   44.444444\n",
       "Costa Rica                      3.0           1.0   33.333333\n",
       "Taiwan                          3.0           1.0   33.333333\n",
       "Qatar                           3.0           1.0   33.333333\n",
       "India                          10.0           3.0   30.000000\n",
       "Philippines                     4.0           1.0   25.000000\n",
       "Bulgaria                        4.0           1.0   25.000000\n",
       "Romania                        36.0           7.0   19.444444"
      ]
     },
     "execution_count": 739,
     "metadata": {},
     "output_type": "execute_result"
    }
   ],
   "source": [
    "casos_mundo.sort_values(by=\"Hospercent\",ascending=False )[[\"Confirmed_Cases\",\"Hospitalized\",\"Hospercent\"]][:20]"
   ]
  },
  {
   "cell_type": "markdown",
   "id": "b355a045-748f-4981-a5ee-faba7ed2f3be",
   "metadata": {},
   "source": [
    "<b style=\"color:#1e6d06\">Observação:</b> Seja pela origem dos dados ou governos não fornecendo as informações necessárias, diversos países estão com percentuais de casos estranhas."
   ]
  },
  {
   "cell_type": "code",
   "execution_count": 740,
   "id": "97a443a9-251f-41f5-939b-204cd4b0196e",
   "metadata": {},
   "outputs": [
    {
     "data": {
      "text/html": [
       "<div>\n",
       "<style scoped>\n",
       "    .dataframe tbody tr th:only-of-type {\n",
       "        vertical-align: middle;\n",
       "    }\n",
       "\n",
       "    .dataframe tbody tr th {\n",
       "        vertical-align: top;\n",
       "    }\n",
       "\n",
       "    .dataframe thead th {\n",
       "        text-align: right;\n",
       "    }\n",
       "</style>\n",
       "<table border=\"1\" class=\"dataframe\">\n",
       "  <thead>\n",
       "    <tr style=\"text-align: right;\">\n",
       "      <th></th>\n",
       "      <th>Confirmed_Cases</th>\n",
       "      <th>Hospitalized</th>\n",
       "      <th>Hospercent</th>\n",
       "    </tr>\n",
       "    <tr>\n",
       "      <th>Country</th>\n",
       "      <th></th>\n",
       "      <th></th>\n",
       "      <th></th>\n",
       "    </tr>\n",
       "  </thead>\n",
       "  <tbody>\n",
       "    <tr>\n",
       "      <th>Brazil</th>\n",
       "      <td>4693.0</td>\n",
       "      <td>3.0</td>\n",
       "      <td>0.063925</td>\n",
       "    </tr>\n",
       "  </tbody>\n",
       "</table>\n",
       "</div>"
      ],
      "text/plain": [
       "         Confirmed_Cases  Hospitalized  Hospercent\n",
       "Country                                           \n",
       "Brazil            4693.0           3.0    0.063925"
      ]
     },
     "execution_count": 740,
     "metadata": {},
     "output_type": "execute_result"
    }
   ],
   "source": [
    "casos_mundo.sort_values(by=\"Hospitalized\",ascending=False )[[\"Confirmed_Cases\",\"Hospitalized\",\"Hospercent\"]][13:14]"
   ]
  },
  {
   "cell_type": "markdown",
   "id": "30ec807a-f003-474e-9087-5d648fbd40a4",
   "metadata": {},
   "source": [
    "<b style=\"color:#1e6d06\">Observação:</b> 0,639% Dos casos confirmados brasileiros estão hospitalizados."
   ]
  },
  {
   "cell_type": "markdown",
   "id": "318fd940-ad51-47b2-8e61-5655ba30f042",
   "metadata": {},
   "source": [
    "<h4>15 Tipos de sintomas mais comuns</h4>"
   ]
  },
  {
   "cell_type": "code",
   "execution_count": 741,
   "id": "65fabe02-fa3b-4c1e-bf07-7e65db8f7b8f",
   "metadata": {},
   "outputs": [
    {
     "data": {
      "text/plain": [
       "genital ulcer lesions               30\n",
       "oral and genital ulcers, fever      17\n",
       "ulcerative lesions                  16\n",
       "Rash                                13\n",
       "genital ulcers                       5\n",
       "skin lesions, ulcerative lesions     5\n",
       "vesicular rash                       5\n",
       "rash                                 3\n",
       "skin lesions                         3\n",
       "rash on the skin                     2\n",
       "Rash, fever                          2\n",
       "Skin lesions                         2\n",
       "fever, skin lesions                  2\n",
       "fever, rash                          2\n",
       "Fatigue, headache, fever             2\n",
       "Name: Symptoms, dtype: int64"
      ]
     },
     "execution_count": 741,
     "metadata": {},
     "output_type": "execute_result"
    }
   ],
   "source": [
    "timeline_casos['Symptoms'].value_counts()[:15]"
   ]
  },
  {
   "cell_type": "markdown",
   "id": "71c47c42-5ed2-4b26-91f8-cf6f2814d708",
   "metadata": {},
   "source": [
    "<h4>Contaminados por gênero</h4>"
   ]
  },
  {
   "cell_type": "code",
   "execution_count": 742,
   "id": "e682a11c-8686-4643-9e01-b160c87c6a63",
   "metadata": {},
   "outputs": [
    {
     "data": {
      "text/plain": [
       "Male      2182\n",
       "Female      14\n",
       "Name: Gender, dtype: int64"
      ]
     },
     "execution_count": 742,
     "metadata": {},
     "output_type": "execute_result"
    }
   ],
   "source": [
    "timeline_casos['Gender'].replace(to_replace = ['female',' female', 'female '], value = \"Female\", inplace=True)\n",
    "timeline_casos['Gender'].replace(to_replace = ['male','  male', 'male '], value = \"Male\", inplace=True)\n",
    "timeline_casos['Gender'].value_counts()"
   ]
  },
  {
   "cell_type": "markdown",
   "id": "2aeb7cc7-df51-48c7-9de7-7ad5eb45c3c6",
   "metadata": {},
   "source": [
    "<b style=\"color:#1e6d06\">Observação:</b> Apenas 14 mulheres foram identificadas como contaminadas"
   ]
  },
  {
   "cell_type": "markdown",
   "id": "dd93c9b2-6a5f-4b64-9642-f93f5ba4a733",
   "metadata": {},
   "source": [
    "<h3>Contaminados por idade</h4>"
   ]
  },
  {
   "cell_type": "code",
   "execution_count": 743,
   "id": "f22b96de-7a03-4c91-a93e-ef59ebbc492f",
   "metadata": {},
   "outputs": [
    {
     "data": {
      "text/plain": [
       "20-69    585\n",
       "15-64    271\n",
       "15-74    240\n",
       "20-64    225\n",
       "20-59    203\n",
       "        ... \n",
       "0-14       1\n",
       "19-59      1\n",
       "65-69      1\n",
       "60-64      1\n",
       "41-45      1\n",
       "Name: Age, Length: 82, dtype: int64"
      ]
     },
     "execution_count": 743,
     "metadata": {},
     "output_type": "execute_result"
    }
   ],
   "source": [
    "timeline_casos['Age'].value_counts()"
   ]
  },
  {
   "cell_type": "markdown",
   "id": "f2df2d5f-9199-4e34-a301-7836c6e17d32",
   "metadata": {},
   "source": [
    "<b style=\"color:#1e6d06\">Observação:</b> Os dados estão fracos, eventualmente no futuro eu faço o tratamento deles."
   ]
  },
  {
   "cell_type": "markdown",
   "id": "c0040b59-8b10-47a3-9075-e7e3d5b55a78",
   "metadata": {},
   "source": [
    "<h4>Pessoas contaminadas por idade no Brasil</h4>"
   ]
  },
  {
   "cell_type": "code",
   "execution_count": 744,
   "id": "921d8fa9-68ad-4090-9c29-fbe381e77afa",
   "metadata": {},
   "outputs": [
    {
     "data": {
      "text/plain": [
       "Country  City               \n",
       "Brazil   Belo Horizonte         6\n",
       "         Sete Lagoas            2\n",
       "         Rio de Janeiro City    2\n",
       "         Curitiba               2\n",
       "         Vinhedo                1\n",
       "         Sao Paulo              1\n",
       "         Russas                 1\n",
       "         Porto Alegre           1\n",
       "         Natal                  1\n",
       "         Marica                 1\n",
       "         Indaiatuba             1\n",
       "         Fortaleza              1\n",
       "         Cascavel               1\n",
       "Name: City, dtype: int64"
      ]
     },
     "execution_count": 744,
     "metadata": {},
     "output_type": "execute_result"
    }
   ],
   "source": [
    "timeline_casos.where(timeline_casos['Country'] == 'Brazil').groupby(['Country', 'City'])['City'].count().sort_values(ascending=False)"
   ]
  },
  {
   "cell_type": "markdown",
   "id": "a2c5d2c4-bcf9-48fd-85b0-735a1ca2cfc3",
   "metadata": {},
   "source": [
    "<h4>Primeiro caso no Brasil</h4>"
   ]
  },
  {
   "cell_type": "code",
   "execution_count": 745,
   "id": "1c89f912-fb30-4c36-949e-4d1056410a59",
   "metadata": {},
   "outputs": [],
   "source": [
    "timeline_casos = pd.DataFrame(timeline_casos[[\"Country\"]].drop_duplicates())"
   ]
  },
  {
   "cell_type": "code",
   "execution_count": 746,
   "id": "36a52ffc-a521-4681-8272-7eb8c409f78e",
   "metadata": {},
   "outputs": [
    {
     "name": "stdout",
     "output_type": "stream",
     "text": [
      "2022-06-08\n"
     ]
    }
   ],
   "source": [
    "pdata = timeline_casos[timeline_casos[\"Country\"] == \"Brazil\"].index[0]\n",
    "print(pdata)"
   ]
  },
  {
   "cell_type": "markdown",
   "id": "f8ed753f-7465-4163-ae9b-62cf37baf51f",
   "metadata": {},
   "source": [
    "<b style=\"color:#1e6d06\">Observação:</b> O primeiro caso no Brasil foi dia 08 de Junho de 2022."
   ]
  },
  {
   "cell_type": "markdown",
   "id": "4b65491c-bb8f-4170-83aa-61c47dd495f7",
   "metadata": {},
   "source": [
    "<h4>Percentual de Brasileiros contaminados com histórico de viagens</h4>"
   ]
  },
  {
   "cell_type": "code",
   "execution_count": 747,
   "id": "6a462810-5550-4476-895c-80b84ec4e868",
   "metadata": {},
   "outputs": [
    {
     "name": "stdout",
     "output_type": "stream",
     "text": [
      "0.43 %\n"
     ]
    }
   ],
   "source": [
    "x = (casos_mundo[\"Travel_History_Yes\"] / casos_mundo[\"Confirmed_Cases\"]).loc[\"Brazil\"]*100\n",
    "print(round(x,2),'%')"
   ]
  },
  {
   "cell_type": "markdown",
   "id": "39670087-247a-490e-85c8-a22e5006b1a6",
   "metadata": {},
   "source": [
    "<b style=\"color:#1e6d06\">Observação:</b> Apenas 0,43% dos casos confirmados no Brasil são de pessoas com histórico de viagens, o que significa que a transmissão local já se propaga muito mais comparado a quem viaja."
   ]
  },
  {
   "cell_type": "markdown",
   "id": "c6285ac0-f39c-4519-935b-9770f02f64d3",
   "metadata": {
    "tags": []
   },
   "source": [
    "<h4>Criação do Dataframe apenas com os dados do Brasil</h4>"
   ]
  },
  {
   "cell_type": "code",
   "execution_count": 748,
   "id": "cecd9078-68c7-4eb5-b8ef-814fbc3f9872",
   "metadata": {},
   "outputs": [],
   "source": [
    "daily_cases_BR = casos_diarios_mundo.loc[\"Brazil\"]\n",
    "daily_cases_BR = pd.DataFrame(daily_cases_BR[daily_cases_BR!=0])"
   ]
  },
  {
   "cell_type": "markdown",
   "id": "c9b12c63-0310-4728-9175-6b2dc15c0bcc",
   "metadata": {},
   "source": [
    "<h4>Gráfico de barras com histórico de novos casos diários no Brasil</h4>"
   ]
  },
  {
   "cell_type": "code",
   "execution_count": 749,
   "id": "f2d3d327-dbc9-449d-8fe2-caf2c662b315",
   "metadata": {},
   "outputs": [
    {
     "data": {
      "image/png": "[encoded data removed]",
      "text/plain": [
       "<Figure size 1080x432 with 1 Axes>"
      ]
     },
     "metadata": {},
     "output_type": "display_data"
    }
   ],
   "source": [
    "daily_cases_BR.plot(figsize=(15,6), color = \"green\", kind='line');\n",
    "plt.title(\"Novos casos diários no Brasil\");"
   ]
  },
  {
   "cell_type": "markdown",
   "id": "4c57f187-7ad4-4624-8f84-09050a16cbd8",
   "metadata": {},
   "source": [
    "<a href=\"#indice\"><img src=\"botao-topo.png\" width=\"15%\"/></div>"
   ]
  },
  {
   "cell_type": "markdown",
   "id": "715c0c57-68c9-41f7-a08b-01ac43b594e0",
   "metadata": {},
   "source": [
    "<div id=\"4\"><h2>5 - Previsões com Prophet</h2>\n",
    "Algoritmo criado pelo time de Data Science do Facebook, lida muito bem com séries temporais e sazonalidades.\n",
    "</div>"
   ]
  },
  {
   "cell_type": "markdown",
   "id": "1573e1e9-4ec1-45c8-8072-f0f55449143b",
   "metadata": {},
   "source": [
    "<h4>Criação do Dataframe de acordo com as obrigações do Prophet (Colunas renomeadas para ds e y)</h4>\n",
    "<a href=\"https://facebook.github.io/prophet/docs/quick_start.html\" target=\"_blank\">Fonte</a>"
   ]
  },
  {
   "cell_type": "code",
   "execution_count": 750,
   "id": "e5df554a-c978-4d65-8bee-541b1997a38f",
   "metadata": {},
   "outputs": [
    {
     "data": {
      "text/html": [
       "<div>\n",
       "<style scoped>\n",
       "    .dataframe tbody tr th:only-of-type {\n",
       "        vertical-align: middle;\n",
       "    }\n",
       "\n",
       "    .dataframe tbody tr th {\n",
       "        vertical-align: top;\n",
       "    }\n",
       "\n",
       "    .dataframe thead th {\n",
       "        text-align: right;\n",
       "    }\n",
       "</style>\n",
       "<table border=\"1\" class=\"dataframe\">\n",
       "  <thead>\n",
       "    <tr style=\"text-align: right;\">\n",
       "      <th></th>\n",
       "      <th>ds</th>\n",
       "      <th>y</th>\n",
       "    </tr>\n",
       "  </thead>\n",
       "  <tbody>\n",
       "    <tr>\n",
       "      <th>0</th>\n",
       "      <td>2022-06-08</td>\n",
       "      <td>1</td>\n",
       "    </tr>\n",
       "    <tr>\n",
       "      <th>1</th>\n",
       "      <td>2022-06-11</td>\n",
       "      <td>1</td>\n",
       "    </tr>\n",
       "    <tr>\n",
       "      <th>2</th>\n",
       "      <td>2022-06-12</td>\n",
       "      <td>1</td>\n",
       "    </tr>\n",
       "    <tr>\n",
       "      <th>3</th>\n",
       "      <td>2022-06-14</td>\n",
       "      <td>2</td>\n",
       "    </tr>\n",
       "    <tr>\n",
       "      <th>4</th>\n",
       "      <td>2022-06-16</td>\n",
       "      <td>1</td>\n",
       "    </tr>\n",
       "  </tbody>\n",
       "</table>\n",
       "</div>"
      ],
      "text/plain": [
       "          ds  y\n",
       "0 2022-06-08  1\n",
       "1 2022-06-11  1\n",
       "2 2022-06-12  1\n",
       "3 2022-06-14  2\n",
       "4 2022-06-16  1"
      ]
     },
     "execution_count": 750,
     "metadata": {},
     "output_type": "execute_result"
    }
   ],
   "source": [
    "data = {'ds':pd.to_datetime(daily_cases_BR.index), 'y':daily_cases_BR[\"Brazil\"].values}\n",
    "df = pd.DataFrame(data)\n",
    "df.head()"
   ]
  },
  {
   "cell_type": "markdown",
   "id": "023d5309-c43b-42b7-a1d0-c7da894175dc",
   "metadata": {},
   "source": [
    "<h4>Instanciação do Prophet e fitting</h4>"
   ]
  },
  {
   "cell_type": "code",
   "execution_count": 751,
   "id": "cb53e86a-07a7-457d-a938-1f80b14353f1",
   "metadata": {},
   "outputs": [
    {
     "name": "stderr",
     "output_type": "stream",
     "text": [
      "16:42:16 - cmdstanpy - INFO - Chain [1] start processing\n",
      "16:42:16 - cmdstanpy - INFO - Chain [1] done processing\n"
     ]
    },
    {
     "data": {
      "text/plain": [
       "<prophet.forecaster.Prophet at 0x7fcd6301ceb0>"
      ]
     },
     "execution_count": 751,
     "metadata": {},
     "output_type": "execute_result"
    }
   ],
   "source": [
    "m = Prophet()\n",
    "m.fit(df)"
   ]
  },
  {
   "cell_type": "markdown",
   "id": "e95810be-b388-420b-9dd2-a869786ea1ed",
   "metadata": {},
   "source": [
    "<div id=\"41\"><h3>Previsão de novos casos diários - 90 Dias</h3></div>"
   ]
  },
  {
   "cell_type": "code",
   "execution_count": 752,
   "id": "4c7cd9fe-43fe-4e20-9d02-58acc3f33b77",
   "metadata": {},
   "outputs": [],
   "source": [
    "future = m.make_future_dataframe(periods=90)\n",
    "forecast = m.predict(future)"
   ]
  },
  {
   "cell_type": "code",
   "execution_count": 753,
   "id": "03169e85-b1e3-4d7b-a301-efd62f9ea0eb",
   "metadata": {},
   "outputs": [
    {
     "data": {
      "text/html": [
       "<div>\n",
       "<style scoped>\n",
       "    .dataframe tbody tr th:only-of-type {\n",
       "        vertical-align: middle;\n",
       "    }\n",
       "\n",
       "    .dataframe tbody tr th {\n",
       "        vertical-align: top;\n",
       "    }\n",
       "\n",
       "    .dataframe thead th {\n",
       "        text-align: right;\n",
       "    }\n",
       "</style>\n",
       "<table border=\"1\" class=\"dataframe\">\n",
       "  <thead>\n",
       "    <tr style=\"text-align: right;\">\n",
       "      <th></th>\n",
       "      <th>ds</th>\n",
       "      <th>yhat</th>\n",
       "      <th>yhat_lower</th>\n",
       "      <th>yhat_upper</th>\n",
       "    </tr>\n",
       "  </thead>\n",
       "  <tbody>\n",
       "    <tr>\n",
       "      <th>0</th>\n",
       "      <td>2022-06-08</td>\n",
       "      <td>-14.564336</td>\n",
       "      <td>-66.534000</td>\n",
       "      <td>33.249098</td>\n",
       "    </tr>\n",
       "    <tr>\n",
       "      <th>1</th>\n",
       "      <td>2022-06-11</td>\n",
       "      <td>-31.082386</td>\n",
       "      <td>-78.722649</td>\n",
       "      <td>21.020320</td>\n",
       "    </tr>\n",
       "    <tr>\n",
       "      <th>2</th>\n",
       "      <td>2022-06-12</td>\n",
       "      <td>-61.121734</td>\n",
       "      <td>-109.660965</td>\n",
       "      <td>-6.984427</td>\n",
       "    </tr>\n",
       "    <tr>\n",
       "      <th>3</th>\n",
       "      <td>2022-06-14</td>\n",
       "      <td>-8.470497</td>\n",
       "      <td>-60.380219</td>\n",
       "      <td>45.060527</td>\n",
       "    </tr>\n",
       "    <tr>\n",
       "      <th>4</th>\n",
       "      <td>2022-06-16</td>\n",
       "      <td>-23.909943</td>\n",
       "      <td>-74.839479</td>\n",
       "      <td>26.769629</td>\n",
       "    </tr>\n",
       "  </tbody>\n",
       "</table>\n",
       "</div>"
      ],
      "text/plain": [
       "          ds       yhat  yhat_lower  yhat_upper\n",
       "0 2022-06-08 -14.564336  -66.534000   33.249098\n",
       "1 2022-06-11 -31.082386  -78.722649   21.020320\n",
       "2 2022-06-12 -61.121734 -109.660965   -6.984427\n",
       "3 2022-06-14  -8.470497  -60.380219   45.060527\n",
       "4 2022-06-16 -23.909943  -74.839479   26.769629"
      ]
     },
     "execution_count": 753,
     "metadata": {},
     "output_type": "execute_result"
    }
   ],
   "source": [
    "forecast[['ds', 'yhat', 'yhat_lower', 'yhat_upper']].head()"
   ]
  },
  {
   "cell_type": "markdown",
   "id": "59e0e267-2dbf-4d89-8a2d-b4ffe8d608b9",
   "metadata": {},
   "source": [
    "<b style=\"color:#1e6d06\">Observação:</b> Gerou corretamente do início"
   ]
  },
  {
   "cell_type": "code",
   "execution_count": 754,
   "id": "81a76bd3-c662-4bda-ae84-5e1c937982b6",
   "metadata": {},
   "outputs": [
    {
     "data": {
      "text/html": [
       "<div>\n",
       "<style scoped>\n",
       "    .dataframe tbody tr th:only-of-type {\n",
       "        vertical-align: middle;\n",
       "    }\n",
       "\n",
       "    .dataframe tbody tr th {\n",
       "        vertical-align: top;\n",
       "    }\n",
       "\n",
       "    .dataframe thead th {\n",
       "        text-align: right;\n",
       "    }\n",
       "</style>\n",
       "<table border=\"1\" class=\"dataframe\">\n",
       "  <thead>\n",
       "    <tr style=\"text-align: right;\">\n",
       "      <th></th>\n",
       "      <th>ds</th>\n",
       "      <th>yhat</th>\n",
       "      <th>yhat_lower</th>\n",
       "      <th>yhat_upper</th>\n",
       "    </tr>\n",
       "  </thead>\n",
       "  <tbody>\n",
       "    <tr>\n",
       "      <th>151</th>\n",
       "      <td>2022-11-23</td>\n",
       "      <td>357.592021</td>\n",
       "      <td>307.343932</td>\n",
       "      <td>407.708398</td>\n",
       "    </tr>\n",
       "    <tr>\n",
       "      <th>152</th>\n",
       "      <td>2022-11-24</td>\n",
       "      <td>332.742350</td>\n",
       "      <td>285.217828</td>\n",
       "      <td>382.457869</td>\n",
       "    </tr>\n",
       "    <tr>\n",
       "      <th>153</th>\n",
       "      <td>2022-11-25</td>\n",
       "      <td>399.969693</td>\n",
       "      <td>350.679798</td>\n",
       "      <td>450.181786</td>\n",
       "    </tr>\n",
       "    <tr>\n",
       "      <th>154</th>\n",
       "      <td>2022-11-26</td>\n",
       "      <td>341.075028</td>\n",
       "      <td>290.115318</td>\n",
       "      <td>392.012191</td>\n",
       "    </tr>\n",
       "    <tr>\n",
       "      <th>155</th>\n",
       "      <td>2022-11-27</td>\n",
       "      <td>311.036032</td>\n",
       "      <td>260.997816</td>\n",
       "      <td>359.307063</td>\n",
       "    </tr>\n",
       "  </tbody>\n",
       "</table>\n",
       "</div>"
      ],
      "text/plain": [
       "            ds        yhat  yhat_lower  yhat_upper\n",
       "151 2022-11-23  357.592021  307.343932  407.708398\n",
       "152 2022-11-24  332.742350  285.217828  382.457869\n",
       "153 2022-11-25  399.969693  350.679798  450.181786\n",
       "154 2022-11-26  341.075028  290.115318  392.012191\n",
       "155 2022-11-27  311.036032  260.997816  359.307063"
      ]
     },
     "execution_count": 754,
     "metadata": {},
     "output_type": "execute_result"
    }
   ],
   "source": [
    "forecast[['ds', 'yhat', 'yhat_lower', 'yhat_upper']].tail()"
   ]
  },
  {
   "cell_type": "markdown",
   "id": "4e3a9b80-07c4-4592-aee8-e01e988090bb",
   "metadata": {},
   "source": [
    "<b style=\"color:#1e6d06\">Observação:</b> E também até o final dos 90 dias"
   ]
  },
  {
   "cell_type": "markdown",
   "id": "4133068d-b5e9-45ca-b6a5-acbc373d0c98",
   "metadata": {},
   "source": [
    "<h4>Gráfico de previsão</h4>"
   ]
  },
  {
   "cell_type": "code",
   "execution_count": 755,
   "id": "0ccf25c3-a05c-4356-8ae4-63b34e5232d3",
   "metadata": {},
   "outputs": [
    {
     "data": {
      "application/vnd.plotly.v1+json": {
       "config": {
        "plotlyServerURL": "https://plot.ly"
       },
       "data": [
        {
         "marker": {
          "color": "black",
          "size": 4
         },
         "mode": "markers",
         "name": "Actual",
         "type": "scatter",
         "x": [
          "2022-06-08T00:00:00",
          "2022-06-11T00:00:00",
          "2022-06-12T00:00:00",
          "2022-06-14T00:00:00",
          "2022-06-16T00:00:00",
          "2022-06-17T00:00:00",
          "2022-06-19T00:00:00",
          "2022-06-21T00:00:00",
          "2022-06-22T00:00:00",
          "2022-06-23T00:00:00",
          "2022-06-24T00:00:00",
          "2022-06-25T00:00:00",
          "2022-06-26T00:00:00",
          "2022-06-28T00:00:00",
          "2022-06-29T00:00:00",
          "2022-06-30T00:00:00",
          "2022-07-01T00:00:00",
          "2022-07-02T00:00:00",
          "2022-07-03T00:00:00",
          "2022-07-04T00:00:00",
          "2022-07-05T00:00:00",
          "2022-07-06T00:00:00",
          "2022-07-07T00:00:00",
          "2022-07-08T00:00:00",
          "2022-07-09T00:00:00",
          "2022-07-11T00:00:00",
          "2022-07-12T00:00:00",
          "2022-07-13T00:00:00",
          "2022-07-14T00:00:00",
          "2022-07-19T00:00:00",
          "2022-07-20T00:00:00",
          "2022-07-21T00:00:00",
          "2022-07-22T00:00:00",
          "2022-07-25T00:00:00",
          "2022-07-26T00:00:00",
          "2022-07-27T00:00:00",
          "2022-07-28T00:00:00",
          "2022-07-29T00:00:00",
          "2022-07-30T00:00:00",
          "2022-07-31T00:00:00",
          "2022-08-01T00:00:00",
          "2022-08-02T00:00:00",
          "2022-08-03T00:00:00",
          "2022-08-04T00:00:00",
          "2022-08-05T00:00:00",
          "2022-08-06T00:00:00",
          "2022-08-07T00:00:00",
          "2022-08-08T00:00:00",
          "2022-08-09T00:00:00",
          "2022-08-10T00:00:00",
          "2022-08-12T00:00:00",
          "2022-08-13T00:00:00",
          "2022-08-14T00:00:00",
          "2022-08-15T00:00:00",
          "2022-08-16T00:00:00",
          "2022-08-17T00:00:00",
          "2022-08-18T00:00:00",
          "2022-08-19T00:00:00",
          "2022-08-20T00:00:00",
          "2022-08-21T00:00:00",
          "2022-08-22T00:00:00",
          "2022-08-23T00:00:00",
          "2022-08-24T00:00:00",
          "2022-08-25T00:00:00",
          "2022-08-26T00:00:00",
          "2022-08-29T00:00:00"
         ],
         "y": [
          1,
          1,
          1,
          2,
          1,
          1,
          1,
          1,
          2,
          5,
          1,
          2,
          1,
          1,
          16,
          12,
          15,
          12,
          2,
          2,
          26,
          36,
          30,
          32,
          14,
          10,
          38,
          42,
          39,
          101,
          143,
          13,
          90,
          115,
          56,
          112,
          89,
          193,
          84,
          27,
          105,
          128,
          118,
          139,
          144,
          104,
          23,
          162,
          122,
          43,
          288,
          102,
          45,
          92,
          198,
          176,
          91,
          205,
          100,
          32,
          109,
          88,
          160,
          72,
          256,
          221
         ]
        },
        {
         "hoverinfo": "skip",
         "line": {
          "width": 0
         },
         "mode": "lines",
         "type": "scatter",
         "x": [
          "2022-06-08T00:00:00",
          "2022-06-11T00:00:00",
          "2022-06-12T00:00:00",
          "2022-06-14T00:00:00",
          "2022-06-16T00:00:00",
          "2022-06-17T00:00:00",
          "2022-06-19T00:00:00",
          "2022-06-21T00:00:00",
          "2022-06-22T00:00:00",
          "2022-06-23T00:00:00",
          "2022-06-24T00:00:00",
          "2022-06-25T00:00:00",
          "2022-06-26T00:00:00",
          "2022-06-28T00:00:00",
          "2022-06-29T00:00:00",
          "2022-06-30T00:00:00",
          "2022-07-01T00:00:00",
          "2022-07-02T00:00:00",
          "2022-07-03T00:00:00",
          "2022-07-04T00:00:00",
          "2022-07-05T00:00:00",
          "2022-07-06T00:00:00",
          "2022-07-07T00:00:00",
          "2022-07-08T00:00:00",
          "2022-07-09T00:00:00",
          "2022-07-11T00:00:00",
          "2022-07-12T00:00:00",
          "2022-07-13T00:00:00",
          "2022-07-14T00:00:00",
          "2022-07-19T00:00:00",
          "2022-07-20T00:00:00",
          "2022-07-21T00:00:00",
          "2022-07-22T00:00:00",
          "2022-07-25T00:00:00",
          "2022-07-26T00:00:00",
          "2022-07-27T00:00:00",
          "2022-07-28T00:00:00",
          "2022-07-29T00:00:00",
          "2022-07-30T00:00:00",
          "2022-07-31T00:00:00",
          "2022-08-01T00:00:00",
          "2022-08-02T00:00:00",
          "2022-08-03T00:00:00",
          "2022-08-04T00:00:00",
          "2022-08-05T00:00:00",
          "2022-08-06T00:00:00",
          "2022-08-07T00:00:00",
          "2022-08-08T00:00:00",
          "2022-08-09T00:00:00",
          "2022-08-10T00:00:00",
          "2022-08-12T00:00:00",
          "2022-08-13T00:00:00",
          "2022-08-14T00:00:00",
          "2022-08-15T00:00:00",
          "2022-08-16T00:00:00",
          "2022-08-17T00:00:00",
          "2022-08-18T00:00:00",
          "2022-08-19T00:00:00",
          "2022-08-20T00:00:00",
          "2022-08-21T00:00:00",
          "2022-08-22T00:00:00",
          "2022-08-23T00:00:00",
          "2022-08-24T00:00:00",
          "2022-08-25T00:00:00",
          "2022-08-26T00:00:00",
          "2022-08-29T00:00:00",
          "2022-08-30T00:00:00",
          "2022-08-31T00:00:00",
          "2022-09-01T00:00:00",
          "2022-09-02T00:00:00",
          "2022-09-03T00:00:00",
          "2022-09-04T00:00:00",
          "2022-09-05T00:00:00",
          "2022-09-06T00:00:00",
          "2022-09-07T00:00:00",
          "2022-09-08T00:00:00",
          "2022-09-09T00:00:00",
          "2022-09-10T00:00:00",
          "2022-09-11T00:00:00",
          "2022-09-12T00:00:00",
          "2022-09-13T00:00:00",
          "2022-09-14T00:00:00",
          "2022-09-15T00:00:00",
          "2022-09-16T00:00:00",
          "2022-09-17T00:00:00",
          "2022-09-18T00:00:00",
          "2022-09-19T00:00:00",
          "2022-09-20T00:00:00",
          "2022-09-21T00:00:00",
          "2022-09-22T00:00:00",
          "2022-09-23T00:00:00",
          "2022-09-24T00:00:00",
          "2022-09-25T00:00:00",
          "2022-09-26T00:00:00",
          "2022-09-27T00:00:00",
          "2022-09-28T00:00:00",
          "2022-09-29T00:00:00",
          "2022-09-30T00:00:00",
          "2022-10-01T00:00:00",
          "2022-10-02T00:00:00",
          "2022-10-03T00:00:00",
          "2022-10-04T00:00:00",
          "2022-10-05T00:00:00",
          "2022-10-06T00:00:00",
          "2022-10-07T00:00:00",
          "2022-10-08T00:00:00",
          "2022-10-09T00:00:00",
          "2022-10-10T00:00:00",
          "2022-10-11T00:00:00",
          "2022-10-12T00:00:00",
          "2022-10-13T00:00:00",
          "2022-10-14T00:00:00",
          "2022-10-15T00:00:00",
          "2022-10-16T00:00:00",
          "2022-10-17T00:00:00",
          "2022-10-18T00:00:00",
          "2022-10-19T00:00:00",
          "2022-10-20T00:00:00",
          "2022-10-21T00:00:00",
          "2022-10-22T00:00:00",
          "2022-10-23T00:00:00",
          "2022-10-24T00:00:00",
          "2022-10-25T00:00:00",
          "2022-10-26T00:00:00",
          "2022-10-27T00:00:00",
          "2022-10-28T00:00:00",
          "2022-10-29T00:00:00",
          "2022-10-30T00:00:00",
          "2022-10-31T00:00:00",
          "2022-11-01T00:00:00",
          "2022-11-02T00:00:00",
          "2022-11-03T00:00:00",
          "2022-11-04T00:00:00",
          "2022-11-05T00:00:00",
          "2022-11-06T00:00:00",
          "2022-11-07T00:00:00",
          "2022-11-08T00:00:00",
          "2022-11-09T00:00:00",
          "2022-11-10T00:00:00",
          "2022-11-11T00:00:00",
          "2022-11-12T00:00:00",
          "2022-11-13T00:00:00",
          "2022-11-14T00:00:00",
          "2022-11-15T00:00:00",
          "2022-11-16T00:00:00",
          "2022-11-17T00:00:00",
          "2022-11-18T00:00:00",
          "2022-11-19T00:00:00",
          "2022-11-20T00:00:00",
          "2022-11-21T00:00:00",
          "2022-11-22T00:00:00",
          "2022-11-23T00:00:00",
          "2022-11-24T00:00:00",
          "2022-11-25T00:00:00",
          "2022-11-26T00:00:00",
          "2022-11-27T00:00:00"
         ],
         "y": [
          -66.5339996933796,
          -78.7226487355406,
          -109.66096532312558,
          -60.38021868954263,
          -74.83947864216839,
          -6.277389859759177,
          -94.47866238706698,
          -43.156882849238364,
          -36.8177325874711,
          -55.17989361187166,
          10.494309449717349,
          -48.947538653821155,
          -79.60068586560213,
          -26.397799338943358,
          -16.61509183279418,
          -41.673287083723956,
          21.942799902282655,
          -29.68246942718085,
          -64.63780480014928,
          -13.006820170377292,
          -10.658097724251675,
          -5.65281453440918,
          -26.60039867109099,
          42.574539407204774,
          -16.499944962961095,
          3.145472084328165,
          2.1919052792332185,
          11.210422233828934,
          -13.49107843334723,
          21.15804839913444,
          26.330919162583744,
          1.4080227033575148,
          73.4715076212865,
          34.75771299482551,
          38.1915933772216,
          40.271302611556266,
          20.59330534577676,
          87.25539047507553,
          26.89097801614661,
          -7.750208598604899,
          48.26985027021995,
          49.945543130111545,
          60.98942043026275,
          33.561666531889465,
          104.18425858654018,
          45.95481848010155,
          13.282246998873442,
          64.89833385923042,
          67.13087679193818,
          74.3111074478954,
          119.54220067007985,
          61.782905710834115,
          30.135263931411306,
          79.81542543418709,
          81.40748292639563,
          90.52643731871898,
          70.10768436546822,
          134.28850699547186,
          75.62096941366948,
          43.170728265062486,
          95.50768466508453,
          101.38334273315918,
          107.43439272941325,
          83.23471611861963,
          144.77589261993828,
          112.56709095066262,
          112.92071560602159,
          121.21840737485225,
          92.84555661383727,
          165.58764798254205,
          104.04802334383771,
          75.22626367007621,
          128.7541748910207,
          127.31818812747609,
          134.95574807851617,
          111.91271622967874,
          183.05971151881363,
          122.86415113808566,
          90.18038600546691,
          142.24890026070852,
          145.6903046909796,
          152.58481138666494,
          128.32161252838372,
          197.37286157898873,
          137.33297609149568,
          106.79572604581068,
          154.79613353671422,
          159.3740614788521,
          169.30586054083187,
          145.88395161945292,
          207.08596363530003,
          152.19238999079187,
          121.63437217728453,
          171.31685204779942,
          173.43855985372485,
          185.24456286522135,
          158.00741494265512,
          227.24788150708238,
          166.12804813699643,
          136.5001116143474,
          187.7806841364655,
          190.06710667071204,
          199.7432556033785,
          172.30406148767491,
          243.4897668695882,
          183.54198722723004,
          154.78297097897166,
          205.28948124978558,
          208.8848160037939,
          215.35537618632492,
          191.29447004433413,
          256.21346208159554,
          200.6579586389744,
          170.39237194247303,
          219.4647970264528,
          222.54347243251485,
          226.4434132912468,
          208.68270442460098,
          274.50641505181704,
          217.1321663156427,
          186.2007674881758,
          234.4694706253595,
          239.96764620131376,
          250.0977796847936,
          219.90881996359315,
          289.9876840926243,
          223.08683623531076,
          204.7658716717779,
          248.60745535023614,
          249.16341171262178,
          261.30726817641823,
          235.6727308675934,
          305.72754902682925,
          243.9525591937283,
          215.02638871673688,
          264.5890917119148,
          265.6666047589298,
          273.54807427452005,
          254.27323458883757,
          320.45775726056036,
          260.30879984590644,
          227.73442964419206,
          281.672351992579,
          285.496457680405,
          290.31473702806755,
          265.8112813935088,
          333.7372568266106,
          276.6333396269639,
          250.07517245076764,
          295.1937082646227,
          296.93746358396777,
          307.343931962826,
          285.21782803827375,
          350.6797981915241,
          290.11531772287583,
          260.99781628366816
         ]
        },
        {
         "fill": "tonexty",
         "fillcolor": "rgba(0, 114, 178, 0.2)",
         "line": {
          "color": "#0072B2",
          "width": 2
         },
         "mode": "lines",
         "name": "Predicted",
         "type": "scatter",
         "x": [
          "2022-06-08T00:00:00",
          "2022-06-11T00:00:00",
          "2022-06-12T00:00:00",
          "2022-06-14T00:00:00",
          "2022-06-16T00:00:00",
          "2022-06-17T00:00:00",
          "2022-06-19T00:00:00",
          "2022-06-21T00:00:00",
          "2022-06-22T00:00:00",
          "2022-06-23T00:00:00",
          "2022-06-24T00:00:00",
          "2022-06-25T00:00:00",
          "2022-06-26T00:00:00",
          "2022-06-28T00:00:00",
          "2022-06-29T00:00:00",
          "2022-06-30T00:00:00",
          "2022-07-01T00:00:00",
          "2022-07-02T00:00:00",
          "2022-07-03T00:00:00",
          "2022-07-04T00:00:00",
          "2022-07-05T00:00:00",
          "2022-07-06T00:00:00",
          "2022-07-07T00:00:00",
          "2022-07-08T00:00:00",
          "2022-07-09T00:00:00",
          "2022-07-11T00:00:00",
          "2022-07-12T00:00:00",
          "2022-07-13T00:00:00",
          "2022-07-14T00:00:00",
          "2022-07-19T00:00:00",
          "2022-07-20T00:00:00",
          "2022-07-21T00:00:00",
          "2022-07-22T00:00:00",
          "2022-07-25T00:00:00",
          "2022-07-26T00:00:00",
          "2022-07-27T00:00:00",
          "2022-07-28T00:00:00",
          "2022-07-29T00:00:00",
          "2022-07-30T00:00:00",
          "2022-07-31T00:00:00",
          "2022-08-01T00:00:00",
          "2022-08-02T00:00:00",
          "2022-08-03T00:00:00",
          "2022-08-04T00:00:00",
          "2022-08-05T00:00:00",
          "2022-08-06T00:00:00",
          "2022-08-07T00:00:00",
          "2022-08-08T00:00:00",
          "2022-08-09T00:00:00",
          "2022-08-10T00:00:00",
          "2022-08-12T00:00:00",
          "2022-08-13T00:00:00",
          "2022-08-14T00:00:00",
          "2022-08-15T00:00:00",
          "2022-08-16T00:00:00",
          "2022-08-17T00:00:00",
          "2022-08-18T00:00:00",
          "2022-08-19T00:00:00",
          "2022-08-20T00:00:00",
          "2022-08-21T00:00:00",
          "2022-08-22T00:00:00",
          "2022-08-23T00:00:00",
          "2022-08-24T00:00:00",
          "2022-08-25T00:00:00",
          "2022-08-26T00:00:00",
          "2022-08-29T00:00:00",
          "2022-08-30T00:00:00",
          "2022-08-31T00:00:00",
          "2022-09-01T00:00:00",
          "2022-09-02T00:00:00",
          "2022-09-03T00:00:00",
          "2022-09-04T00:00:00",
          "2022-09-05T00:00:00",
          "2022-09-06T00:00:00",
          "2022-09-07T00:00:00",
          "2022-09-08T00:00:00",
          "2022-09-09T00:00:00",
          "2022-09-10T00:00:00",
          "2022-09-11T00:00:00",
          "2022-09-12T00:00:00",
          "2022-09-13T00:00:00",
          "2022-09-14T00:00:00",
          "2022-09-15T00:00:00",
          "2022-09-16T00:00:00",
          "2022-09-17T00:00:00",
          "2022-09-18T00:00:00",
          "2022-09-19T00:00:00",
          "2022-09-20T00:00:00",
          "2022-09-21T00:00:00",
          "2022-09-22T00:00:00",
          "2022-09-23T00:00:00",
          "2022-09-24T00:00:00",
          "2022-09-25T00:00:00",
          "2022-09-26T00:00:00",
          "2022-09-27T00:00:00",
          "2022-09-28T00:00:00",
          "2022-09-29T00:00:00",
          "2022-09-30T00:00:00",
          "2022-10-01T00:00:00",
          "2022-10-02T00:00:00",
          "2022-10-03T00:00:00",
          "2022-10-04T00:00:00",
          "2022-10-05T00:00:00",
          "2022-10-06T00:00:00",
          "2022-10-07T00:00:00",
          "2022-10-08T00:00:00",
          "2022-10-09T00:00:00",
          "2022-10-10T00:00:00",
          "2022-10-11T00:00:00",
          "2022-10-12T00:00:00",
          "2022-10-13T00:00:00",
          "2022-10-14T00:00:00",
          "2022-10-15T00:00:00",
          "2022-10-16T00:00:00",
          "2022-10-17T00:00:00",
          "2022-10-18T00:00:00",
          "2022-10-19T00:00:00",
          "2022-10-20T00:00:00",
          "2022-10-21T00:00:00",
          "2022-10-22T00:00:00",
          "2022-10-23T00:00:00",
          "2022-10-24T00:00:00",
          "2022-10-25T00:00:00",
          "2022-10-26T00:00:00",
          "2022-10-27T00:00:00",
          "2022-10-28T00:00:00",
          "2022-10-29T00:00:00",
          "2022-10-30T00:00:00",
          "2022-10-31T00:00:00",
          "2022-11-01T00:00:00",
          "2022-11-02T00:00:00",
          "2022-11-03T00:00:00",
          "2022-11-04T00:00:00",
          "2022-11-05T00:00:00",
          "2022-11-06T00:00:00",
          "2022-11-07T00:00:00",
          "2022-11-08T00:00:00",
          "2022-11-09T00:00:00",
          "2022-11-10T00:00:00",
          "2022-11-11T00:00:00",
          "2022-11-12T00:00:00",
          "2022-11-13T00:00:00",
          "2022-11-14T00:00:00",
          "2022-11-15T00:00:00",
          "2022-11-16T00:00:00",
          "2022-11-17T00:00:00",
          "2022-11-18T00:00:00",
          "2022-11-19T00:00:00",
          "2022-11-20T00:00:00",
          "2022-11-21T00:00:00",
          "2022-11-22T00:00:00",
          "2022-11-23T00:00:00",
          "2022-11-24T00:00:00",
          "2022-11-25T00:00:00",
          "2022-11-26T00:00:00",
          "2022-11-27T00:00:00"
         ],
         "y": [
          -14.56433614883404,
          -31.08238576385824,
          -61.12173371214254,
          -8.47049711201706,
          -23.909943367209685,
          43.317047671290894,
          -45.61731699981415,
          7.033919574391323,
          16.44449728214743,
          -8.405526711287001,
          58.82146431446703,
          -0.07355239803080238,
          -30.11290036139802,
          22.538336220304533,
          31.94891393179621,
          7.098889955931503,
          74.32588099949929,
          15.43086430337615,
          -14.60848364377786,
          35.94422566265307,
          38.04345726803248,
          47.454387145667276,
          22.604715326554988,
          89.83205851949926,
          30.937393963705972,
          51.45110746295458,
          53.55033906515836,
          62.96126893830287,
          38.11159711164675,
          69.05722083995255,
          78.46815071659393,
          53.618478896682674,
          120.8458221039116,
          82.4648710849786,
          84.5641026994799,
          93.97503258497272,
          69.12536077592536,
          136.3527039861857,
          77.45803944260231,
          47.41904364804128,
          97.97175295848734,
          100.07098456820529,
          109.48191443905105,
          84.63224261327882,
          151.85958579570092,
          92.96492122971308,
          62.92592541379639,
          113.47863470465356,
          115.57786629272987,
          124.98879615202459,
          167.36646747695875,
          108.47180290045404,
          78.43280708141464,
          128.98551636885105,
          131.0847479553883,
          140.49567781310571,
          115.64600597415064,
          182.87334915447678,
          123.97868458619638,
          93.93968876713097,
          144.49239805446712,
          146.5916296412988,
          156.00255949898528,
          131.1528876600787,
          198.38023084044002,
          159.99927974042484,
          162.0985113271607,
          171.50944118483912,
          146.65976934600678,
          213.88711252640326,
          154.992447958198,
          124.95345213899176,
          175.50616142638265,
          177.60539301310683,
          187.01632287074443,
          162.16665103173435,
          229.39399421217888,
          170.4993296440716,
          140.4603338248508,
          191.01304311234043,
          193.11227469888465,
          202.52320455668755,
          177.6735327176624,
          244.90087589814215,
          186.00621132981394,
          155.96721551070098,
          206.51992479795646,
          208.61915638483077,
          218.03008624256714,
          193.1804144035905,
          260.40775758401156,
          201.51309301581884,
          171.47409719670276,
          222.02680648404015,
          224.1260380707769,
          233.53696792844673,
          208.68729608951853,
          275.9146392698762,
          217.0199747015611,
          186.980978882419,
          237.53368816987197,
          239.63291975663878,
          249.0438496144155,
          224.19417777540883,
          291.4215209557456,
          232.52685638730344,
          202.48786056842079,
          253.04056985582972,
          255.13980144254927,
          264.5507313002693,
          239.70105946137465,
          306.9284026417089,
          248.03373807356277,
          217.994742254271,
          268.5474515417875,
          270.6466831284112,
          280.0576129861746,
          255.20794114726488,
          322.43528432757824,
          263.54061975930506,
          233.50162394027274,
          284.05433322774525,
          286.1535648143573,
          295.56449467202845,
          270.7148228330302,
          337.94216601344766,
          279.0475014451787,
          249.00850562598907,
          299.5612149135772,
          301.66044650018364,
          311.07137635788234,
          286.2217045189584,
          353.4490476993172,
          294.55438313105236,
          264.5153873119909,
          315.0680965993191,
          317.1673281861298,
          326.5782580437619,
          301.7285862048864,
          368.9559293852804,
          310.0612648171803,
          280.02226899799257,
          330.57497828527687,
          332.6742098719917,
          342.08513972964147,
          317.2354678907767,
          384.46281107105125,
          325.5681465029227,
          295.52915068370885,
          346.0818599712346,
          348.1810915578536,
          357.5920214156103,
          332.742349576667,
          399.9696927570145,
          341.0750281887963,
          311.03603236971065
         ]
        },
        {
         "fill": "tonexty",
         "fillcolor": "rgba(0, 114, 178, 0.2)",
         "hoverinfo": "skip",
         "line": {
          "width": 0
         },
         "mode": "lines",
         "type": "scatter",
         "x": [
          "2022-06-08T00:00:00",
          "2022-06-11T00:00:00",
          "2022-06-12T00:00:00",
          "2022-06-14T00:00:00",
          "2022-06-16T00:00:00",
          "2022-06-17T00:00:00",
          "2022-06-19T00:00:00",
          "2022-06-21T00:00:00",
          "2022-06-22T00:00:00",
          "2022-06-23T00:00:00",
          "2022-06-24T00:00:00",
          "2022-06-25T00:00:00",
          "2022-06-26T00:00:00",
          "2022-06-28T00:00:00",
          "2022-06-29T00:00:00",
          "2022-06-30T00:00:00",
          "2022-07-01T00:00:00",
          "2022-07-02T00:00:00",
          "2022-07-03T00:00:00",
          "2022-07-04T00:00:00",
          "2022-07-05T00:00:00",
          "2022-07-06T00:00:00",
          "2022-07-07T00:00:00",
          "2022-07-08T00:00:00",
          "2022-07-09T00:00:00",
          "2022-07-11T00:00:00",
          "2022-07-12T00:00:00",
          "2022-07-13T00:00:00",
          "2022-07-14T00:00:00",
          "2022-07-19T00:00:00",
          "2022-07-20T00:00:00",
          "2022-07-21T00:00:00",
          "2022-07-22T00:00:00",
          "2022-07-25T00:00:00",
          "2022-07-26T00:00:00",
          "2022-07-27T00:00:00",
          "2022-07-28T00:00:00",
          "2022-07-29T00:00:00",
          "2022-07-30T00:00:00",
          "2022-07-31T00:00:00",
          "2022-08-01T00:00:00",
          "2022-08-02T00:00:00",
          "2022-08-03T00:00:00",
          "2022-08-04T00:00:00",
          "2022-08-05T00:00:00",
          "2022-08-06T00:00:00",
          "2022-08-07T00:00:00",
          "2022-08-08T00:00:00",
          "2022-08-09T00:00:00",
          "2022-08-10T00:00:00",
          "2022-08-12T00:00:00",
          "2022-08-13T00:00:00",
          "2022-08-14T00:00:00",
          "2022-08-15T00:00:00",
          "2022-08-16T00:00:00",
          "2022-08-17T00:00:00",
          "2022-08-18T00:00:00",
          "2022-08-19T00:00:00",
          "2022-08-20T00:00:00",
          "2022-08-21T00:00:00",
          "2022-08-22T00:00:00",
          "2022-08-23T00:00:00",
          "2022-08-24T00:00:00",
          "2022-08-25T00:00:00",
          "2022-08-26T00:00:00",
          "2022-08-29T00:00:00",
          "2022-08-30T00:00:00",
          "2022-08-31T00:00:00",
          "2022-09-01T00:00:00",
          "2022-09-02T00:00:00",
          "2022-09-03T00:00:00",
          "2022-09-04T00:00:00",
          "2022-09-05T00:00:00",
          "2022-09-06T00:00:00",
          "2022-09-07T00:00:00",
          "2022-09-08T00:00:00",
          "2022-09-09T00:00:00",
          "2022-09-10T00:00:00",
          "2022-09-11T00:00:00",
          "2022-09-12T00:00:00",
          "2022-09-13T00:00:00",
          "2022-09-14T00:00:00",
          "2022-09-15T00:00:00",
          "2022-09-16T00:00:00",
          "2022-09-17T00:00:00",
          "2022-09-18T00:00:00",
          "2022-09-19T00:00:00",
          "2022-09-20T00:00:00",
          "2022-09-21T00:00:00",
          "2022-09-22T00:00:00",
          "2022-09-23T00:00:00",
          "2022-09-24T00:00:00",
          "2022-09-25T00:00:00",
          "2022-09-26T00:00:00",
          "2022-09-27T00:00:00",
          "2022-09-28T00:00:00",
          "2022-09-29T00:00:00",
          "2022-09-30T00:00:00",
          "2022-10-01T00:00:00",
          "2022-10-02T00:00:00",
          "2022-10-03T00:00:00",
          "2022-10-04T00:00:00",
          "2022-10-05T00:00:00",
          "2022-10-06T00:00:00",
          "2022-10-07T00:00:00",
          "2022-10-08T00:00:00",
          "2022-10-09T00:00:00",
          "2022-10-10T00:00:00",
          "2022-10-11T00:00:00",
          "2022-10-12T00:00:00",
          "2022-10-13T00:00:00",
          "2022-10-14T00:00:00",
          "2022-10-15T00:00:00",
          "2022-10-16T00:00:00",
          "2022-10-17T00:00:00",
          "2022-10-18T00:00:00",
          "2022-10-19T00:00:00",
          "2022-10-20T00:00:00",
          "2022-10-21T00:00:00",
          "2022-10-22T00:00:00",
          "2022-10-23T00:00:00",
          "2022-10-24T00:00:00",
          "2022-10-25T00:00:00",
          "2022-10-26T00:00:00",
          "2022-10-27T00:00:00",
          "2022-10-28T00:00:00",
          "2022-10-29T00:00:00",
          "2022-10-30T00:00:00",
          "2022-10-31T00:00:00",
          "2022-11-01T00:00:00",
          "2022-11-02T00:00:00",
          "2022-11-03T00:00:00",
          "2022-11-04T00:00:00",
          "2022-11-05T00:00:00",
          "2022-11-06T00:00:00",
          "2022-11-07T00:00:00",
          "2022-11-08T00:00:00",
          "2022-11-09T00:00:00",
          "2022-11-10T00:00:00",
          "2022-11-11T00:00:00",
          "2022-11-12T00:00:00",
          "2022-11-13T00:00:00",
          "2022-11-14T00:00:00",
          "2022-11-15T00:00:00",
          "2022-11-16T00:00:00",
          "2022-11-17T00:00:00",
          "2022-11-18T00:00:00",
          "2022-11-19T00:00:00",
          "2022-11-20T00:00:00",
          "2022-11-21T00:00:00",
          "2022-11-22T00:00:00",
          "2022-11-23T00:00:00",
          "2022-11-24T00:00:00",
          "2022-11-25T00:00:00",
          "2022-11-26T00:00:00",
          "2022-11-27T00:00:00"
         ],
         "y": [
          33.24909805269851,
          21.020320080223314,
          -6.984427011176072,
          45.0605265076928,
          26.769629175803342,
          94.99871094533034,
          1.0751204682580615,
          55.578369085508875,
          65.21281476223565,
          41.82459410553028,
          107.42775125070024,
          47.85345307198537,
          20.384042809007312,
          71.02062922000417,
          79.86931161760886,
          56.80328905976509,
          121.40849063292737,
          65.53439650254651,
          32.15822008868094,
          85.53925320071771,
          88.0648260445235,
          95.40208855317057,
          71.83193407187986,
          137.30288580723752,
          76.07907643778677,
          97.430893338058,
          103.40268627601357,
          111.60875540033184,
          90.48213775901277,
          115.6219432308292,
          126.86280040778318,
          102.48763954221559,
          169.40234671568598,
          133.20032316094526,
          137.8279258481117,
          140.18451861745802,
          118.47346874840377,
          189.4422076536375,
          126.82165768368677,
          96.2394177579935,
          146.0048011585878,
          151.91019682436377,
          158.76419286857012,
          133.1279180400962,
          202.24148513158934,
          142.78334068560375,
          114.0928986223156,
          160.98541114567334,
          164.0470547291252,
          174.98911575208732,
          221.38947440561736,
          157.55329759496954,
          127.64568253582009,
          177.57033667089766,
          184.26323903089386,
          191.48612039989882,
          164.4758181947507,
          232.11199096044123,
          175.67973786909278,
          140.81922606721483,
          196.34993257453155,
          190.4070430812833,
          203.67322284055106,
          180.54342158435955,
          250.73673804687436,
          213.10479763499188,
          213.54373600243503,
          220.58992238610168,
          198.39583916306123,
          265.4988619621966,
          205.1799631999074,
          172.31727335583054,
          229.38987297341038,
          228.4682080954637,
          239.3342485520244,
          213.62684894148745,
          278.51400292110736,
          219.29089822580386,
          191.38940110562916,
          242.58142947744463,
          242.20087107340842,
          254.53371643344803,
          224.40294983877277,
          292.83447878692925,
          236.94888526812127,
          201.29691422529567,
          256.1382347958087,
          256.8656713594797,
          267.1197781240961,
          240.22977028686853,
          310.4619357308057,
          253.380328120256,
          219.03157534750054,
          271.1907114037728,
          277.38049965284176,
          281.85045420197747,
          258.47747596168045,
          325.40229351498056,
          268.3390157657391,
          236.15408225293154,
          286.4238430799965,
          290.0039970350924,
          300.0269295369175,
          270.48684342619225,
          344.7314382332291,
          280.98557019055414,
          251.6913683865236,
          304.31148401098636,
          305.9358251205332,
          309.31670743632503,
          292.6532966854558,
          355.3149125356734,
          299.4934303941997,
          267.9372138223774,
          316.57082603504404,
          321.1489689408731,
          333.0626174035221,
          301.99472050040913,
          373.5863667033336,
          313.02036480410675,
          283.46382333742264,
          331.078758187815,
          336.4890408658533,
          344.44209615128193,
          321.78870826572563,
          390.3770395076267,
          327.8103602824854,
          296.5526082187692,
          350.82828959011863,
          353.83941982278833,
          359.72575841621654,
          336.9129910681207,
          399.60355676139164,
          344.0936080684549,
          311.71199475571404,
          363.86858777900125,
          371.6215683415244,
          374.6162256581922,
          352.435274190537,
          419.346998381222,
          359.1880592238937,
          329.14104840658825,
          378.58055140785416,
          382.81728272794953,
          386.4393803346552,
          365.87905508962194,
          435.84473897268884,
          377.0798242370469,
          345.8375090275023,
          395.9977356213067,
          396.97470905025773,
          407.708397620768,
          382.45786902397043,
          450.1817858243456,
          392.01219091959206,
          359.3070633101595
         ]
        }
       ],
       "layout": {
        "height": 600,
        "showlegend": false,
        "template": {
         "data": {
          "bar": [
           {
            "error_x": {
             "color": "#2a3f5f"
            },
            "error_y": {
             "color": "#2a3f5f"
            },
            "marker": {
             "line": {
              "color": "#E5ECF6",
              "width": 0.5
             },
             "pattern": {
              "fillmode": "overlay",
              "size": 10,
              "solidity": 0.2
             }
            },
            "type": "bar"
           }
          ],
          "barpolar": [
           {
            "marker": {
             "line": {
              "color": "#E5ECF6",
              "width": 0.5
             },
             "pattern": {
              "fillmode": "overlay",
              "size": 10,
              "solidity": 0.2
             }
            },
            "type": "barpolar"
           }
          ],
          "carpet": [
           {
            "aaxis": {
             "endlinecolor": "#2a3f5f",
             "gridcolor": "white",
             "linecolor": "white",
             "minorgridcolor": "white",
             "startlinecolor": "#2a3f5f"
            },
            "baxis": {
             "endlinecolor": "#2a3f5f",
             "gridcolor": "white",
             "linecolor": "white",
             "minorgridcolor": "white",
             "startlinecolor": "#2a3f5f"
            },
            "type": "carpet"
           }
          ],
          "choropleth": [
           {
            "colorbar": {
             "outlinewidth": 0,
             "ticks": ""
            },
            "type": "choropleth"
           }
          ],
          "contour": [
           {
            "colorbar": {
             "outlinewidth": 0,
             "ticks": ""
            },
            "colorscale": [
             [
              0,
              "#0d0887"
             ],
             [
              0.1111111111111111,
              "#46039f"
             ],
             [
              0.2222222222222222,
              "#7201a8"
             ],
             [
              0.3333333333333333,
              "#9c179e"
             ],
             [
              0.4444444444444444,
              "#bd3786"
             ],
             [
              0.5555555555555556,
              "#d8576b"
             ],
             [
              0.6666666666666666,
              "#ed7953"
             ],
             [
              0.7777777777777778,
              "#fb9f3a"
             ],
             [
              0.8888888888888888,
              "#fdca26"
             ],
             [
              1,
              "#f0f921"
             ]
            ],
            "type": "contour"
           }
          ],
          "contourcarpet": [
           {
            "colorbar": {
             "outlinewidth": 0,
             "ticks": ""
            },
            "type": "contourcarpet"
           }
          ],
          "heatmap": [
           {
            "colorbar": {
             "outlinewidth": 0,
             "ticks": ""
            },
            "colorscale": [
             [
              0,
              "#0d0887"
             ],
             [
              0.1111111111111111,
              "#46039f"
             ],
             [
              0.2222222222222222,
              "#7201a8"
             ],
             [
              0.3333333333333333,
              "#9c179e"
             ],
             [
              0.4444444444444444,
              "#bd3786"
             ],
             [
              0.5555555555555556,
              "#d8576b"
             ],
             [
              0.6666666666666666,
              "#ed7953"
             ],
             [
              0.7777777777777778,
              "#fb9f3a"
             ],
             [
              0.8888888888888888,
              "#fdca26"
             ],
             [
              1,
              "#f0f921"
             ]
            ],
            "type": "heatmap"
           }
          ],
          "heatmapgl": [
           {
            "colorbar": {
             "outlinewidth": 0,
             "ticks": ""
            },
            "colorscale": [
             [
              0,
              "#0d0887"
             ],
             [
              0.1111111111111111,
              "#46039f"
             ],
             [
              0.2222222222222222,
              "#7201a8"
             ],
             [
              0.3333333333333333,
              "#9c179e"
             ],
             [
              0.4444444444444444,
              "#bd3786"
             ],
             [
              0.5555555555555556,
              "#d8576b"
             ],
             [
              0.6666666666666666,
              "#ed7953"
             ],
             [
              0.7777777777777778,
              "#fb9f3a"
             ],
             [
              0.8888888888888888,
              "#fdca26"
             ],
             [
              1,
              "#f0f921"
             ]
            ],
            "type": "heatmapgl"
           }
          ],
          "histogram": [
           {
            "marker": {
             "pattern": {
              "fillmode": "overlay",
              "size": 10,
              "solidity": 0.2
             }
            },
            "type": "histogram"
           }
          ],
          "histogram2d": [
           {
            "colorbar": {
             "outlinewidth": 0,
             "ticks": ""
            },
            "colorscale": [
             [
              0,
              "#0d0887"
             ],
             [
              0.1111111111111111,
              "#46039f"
             ],
             [
              0.2222222222222222,
              "#7201a8"
             ],
             [
              0.3333333333333333,
              "#9c179e"
             ],
             [
              0.4444444444444444,
              "#bd3786"
             ],
             [
              0.5555555555555556,
              "#d8576b"
             ],
             [
              0.6666666666666666,
              "#ed7953"
             ],
             [
              0.7777777777777778,
              "#fb9f3a"
             ],
             [
              0.8888888888888888,
              "#fdca26"
             ],
             [
              1,
              "#f0f921"
             ]
            ],
            "type": "histogram2d"
           }
          ],
          "histogram2dcontour": [
           {
            "colorbar": {
             "outlinewidth": 0,
             "ticks": ""
            },
            "colorscale": [
             [
              0,
              "#0d0887"
             ],
             [
              0.1111111111111111,
              "#46039f"
             ],
             [
              0.2222222222222222,
              "#7201a8"
             ],
             [
              0.3333333333333333,
              "#9c179e"
             ],
             [
              0.4444444444444444,
              "#bd3786"
             ],
             [
              0.5555555555555556,
              "#d8576b"
             ],
             [
              0.6666666666666666,
              "#ed7953"
             ],
             [
              0.7777777777777778,
              "#fb9f3a"
             ],
             [
              0.8888888888888888,
              "#fdca26"
             ],
             [
              1,
              "#f0f921"
             ]
            ],
            "type": "histogram2dcontour"
           }
          ],
          "mesh3d": [
           {
            "colorbar": {
             "outlinewidth": 0,
             "ticks": ""
            },
            "type": "mesh3d"
           }
          ],
          "parcoords": [
           {
            "line": {
             "colorbar": {
              "outlinewidth": 0,
              "ticks": ""
             }
            },
            "type": "parcoords"
           }
          ],
          "pie": [
           {
            "automargin": true,
            "type": "pie"
           }
          ],
          "scatter": [
           {
            "marker": {
             "colorbar": {
              "outlinewidth": 0,
              "ticks": ""
             }
            },
            "type": "scatter"
           }
          ],
          "scatter3d": [
           {
            "line": {
             "colorbar": {
              "outlinewidth": 0,
              "ticks": ""
             }
            },
            "marker": {
             "colorbar": {
              "outlinewidth": 0,
              "ticks": ""
             }
            },
            "type": "scatter3d"
           }
          ],
          "scattercarpet": [
           {
            "marker": {
             "colorbar": {
              "outlinewidth": 0,
              "ticks": ""
             }
            },
            "type": "scattercarpet"
           }
          ],
          "scattergeo": [
           {
            "marker": {
             "colorbar": {
              "outlinewidth": 0,
              "ticks": ""
             }
            },
            "type": "scattergeo"
           }
          ],
          "scattergl": [
           {
            "marker": {
             "colorbar": {
              "outlinewidth": 0,
              "ticks": ""
             }
            },
            "type": "scattergl"
           }
          ],
          "scattermapbox": [
           {
            "marker": {
             "colorbar": {
              "outlinewidth": 0,
              "ticks": ""
             }
            },
            "type": "scattermapbox"
           }
          ],
          "scatterpolar": [
           {
            "marker": {
             "colorbar": {
              "outlinewidth": 0,
              "ticks": ""
             }
            },
            "type": "scatterpolar"
           }
          ],
          "scatterpolargl": [
           {
            "marker": {
             "colorbar": {
              "outlinewidth": 0,
              "ticks": ""
             }
            },
            "type": "scatterpolargl"
           }
          ],
          "scatterternary": [
           {
            "marker": {
             "colorbar": {
              "outlinewidth": 0,
              "ticks": ""
             }
            },
            "type": "scatterternary"
           }
          ],
          "surface": [
           {
            "colorbar": {
             "outlinewidth": 0,
             "ticks": ""
            },
            "colorscale": [
             [
              0,
              "#0d0887"
             ],
             [
              0.1111111111111111,
              "#46039f"
             ],
             [
              0.2222222222222222,
              "#7201a8"
             ],
             [
              0.3333333333333333,
              "#9c179e"
             ],
             [
              0.4444444444444444,
              "#bd3786"
             ],
             [
              0.5555555555555556,
              "#d8576b"
             ],
             [
              0.6666666666666666,
              "#ed7953"
             ],
             [
              0.7777777777777778,
              "#fb9f3a"
             ],
             [
              0.8888888888888888,
              "#fdca26"
             ],
             [
              1,
              "#f0f921"
             ]
            ],
            "type": "surface"
           }
          ],
          "table": [
           {
            "cells": {
             "fill": {
              "color": "#EBF0F8"
             },
             "line": {
              "color": "white"
             }
            },
            "header": {
             "fill": {
              "color": "#C8D4E3"
             },
             "line": {
              "color": "white"
             }
            },
            "type": "table"
           }
          ]
         },
         "layout": {
          "annotationdefaults": {
           "arrowcolor": "#2a3f5f",
           "arrowhead": 0,
           "arrowwidth": 1
          },
          "autotypenumbers": "strict",
          "coloraxis": {
           "colorbar": {
            "outlinewidth": 0,
            "ticks": ""
           }
          },
          "colorscale": {
           "diverging": [
            [
             0,
             "#8e0152"
            ],
            [
             0.1,
             "#c51b7d"
            ],
            [
             0.2,
             "#de77ae"
            ],
            [
             0.3,
             "#f1b6da"
            ],
            [
             0.4,
             "#fde0ef"
            ],
            [
             0.5,
             "#f7f7f7"
            ],
            [
             0.6,
             "#e6f5d0"
            ],
            [
             0.7,
             "#b8e186"
            ],
            [
             0.8,
             "#7fbc41"
            ],
            [
             0.9,
             "#4d9221"
            ],
            [
             1,
             "#276419"
            ]
           ],
           "sequential": [
            [
             0,
             "#0d0887"
            ],
            [
             0.1111111111111111,
             "#46039f"
            ],
            [
             0.2222222222222222,
             "#7201a8"
            ],
            [
             0.3333333333333333,
             "#9c179e"
            ],
            [
             0.4444444444444444,
             "#bd3786"
            ],
            [
             0.5555555555555556,
             "#d8576b"
            ],
            [
             0.6666666666666666,
             "#ed7953"
            ],
            [
             0.7777777777777778,
             "#fb9f3a"
            ],
            [
             0.8888888888888888,
             "#fdca26"
            ],
            [
             1,
             "#f0f921"
            ]
           ],
           "sequentialminus": [
            [
             0,
             "#0d0887"
            ],
            [
             0.1111111111111111,
             "#46039f"
            ],
            [
             0.2222222222222222,
             "#7201a8"
            ],
            [
             0.3333333333333333,
             "#9c179e"
            ],
            [
             0.4444444444444444,
             "#bd3786"
            ],
            [
             0.5555555555555556,
             "#d8576b"
            ],
            [
             0.6666666666666666,
             "#ed7953"
            ],
            [
             0.7777777777777778,
             "#fb9f3a"
            ],
            [
             0.8888888888888888,
             "#fdca26"
            ],
            [
             1,
             "#f0f921"
            ]
           ]
          },
          "colorway": [
           "#636efa",
           "#EF553B",
           "#00cc96",
           "#ab63fa",
           "#FFA15A",
           "#19d3f3",
           "#FF6692",
           "#B6E880",
           "#FF97FF",
           "#FECB52"
          ],
          "font": {
           "color": "#2a3f5f"
          },
          "geo": {
           "bgcolor": "white",
           "lakecolor": "white",
           "landcolor": "#E5ECF6",
           "showlakes": true,
           "showland": true,
           "subunitcolor": "white"
          },
          "hoverlabel": {
           "align": "left"
          },
          "hovermode": "closest",
          "mapbox": {
           "style": "light"
          },
          "paper_bgcolor": "white",
          "plot_bgcolor": "#E5ECF6",
          "polar": {
           "angularaxis": {
            "gridcolor": "white",
            "linecolor": "white",
            "ticks": ""
           },
           "bgcolor": "#E5ECF6",
           "radialaxis": {
            "gridcolor": "white",
            "linecolor": "white",
            "ticks": ""
           }
          },
          "scene": {
           "xaxis": {
            "backgroundcolor": "#E5ECF6",
            "gridcolor": "white",
            "gridwidth": 2,
            "linecolor": "white",
            "showbackground": true,
            "ticks": "",
            "zerolinecolor": "white"
           },
           "yaxis": {
            "backgroundcolor": "#E5ECF6",
            "gridcolor": "white",
            "gridwidth": 2,
            "linecolor": "white",
            "showbackground": true,
            "ticks": "",
            "zerolinecolor": "white"
           },
           "zaxis": {
            "backgroundcolor": "#E5ECF6",
            "gridcolor": "white",
            "gridwidth": 2,
            "linecolor": "white",
            "showbackground": true,
            "ticks": "",
            "zerolinecolor": "white"
           }
          },
          "shapedefaults": {
           "line": {
            "color": "#2a3f5f"
           }
          },
          "ternary": {
           "aaxis": {
            "gridcolor": "white",
            "linecolor": "white",
            "ticks": ""
           },
           "baxis": {
            "gridcolor": "white",
            "linecolor": "white",
            "ticks": ""
           },
           "bgcolor": "#E5ECF6",
           "caxis": {
            "gridcolor": "white",
            "linecolor": "white",
            "ticks": ""
           }
          },
          "title": {
           "x": 0.05
          },
          "xaxis": {
           "automargin": true,
           "gridcolor": "white",
           "linecolor": "white",
           "ticks": "",
           "title": {
            "standoff": 15
           },
           "zerolinecolor": "white",
           "zerolinewidth": 2
          },
          "yaxis": {
           "automargin": true,
           "gridcolor": "white",
           "linecolor": "white",
           "ticks": "",
           "title": {
            "standoff": 15
           },
           "zerolinecolor": "white",
           "zerolinewidth": 2
          }
         }
        },
        "width": 900,
        "xaxis": {
         "autorange": true,
         "range": [
          "2022-05-29 04:06:51.4286",
          "2022-11-27"
         ],
         "rangeselector": {
          "buttons": [
           {
            "count": 7,
            "label": "1w",
            "step": "day",
            "stepmode": "backward"
           },
           {
            "count": 1,
            "label": "1m",
            "step": "month",
            "stepmode": "backward"
           },
           {
            "count": 6,
            "label": "6m",
            "step": "month",
            "stepmode": "backward"
           },
           {
            "count": 1,
            "label": "1y",
            "step": "year",
            "stepmode": "backward"
           },
           {
            "step": "all"
           }
          ]
         },
         "rangeslider": {
          "autorange": true,
          "range": [
           "2022-05-29 04:06:51.4286",
           "2022-11-27"
          ],
          "visible": true,
          "yaxis": {
           "_template": null,
           "rangemode": "match"
          }
         },
         "title": {
          "text": "ds"
         },
         "type": "date"
        },
        "yaxis": {
         "autorange": true,
         "range": [
          -140.76334038687398,
          481.284160888094
         ],
         "title": {
          "text": "y"
         },
         "type": "linear"
        }
       }
      },
      "image/png": "[encoded data removed]",
      "text/html": [
       "<div>                            <div id=\"a3b9339e-8eb4-4156-bff8-e55fec776110\" class=\"plotly-graph-div\" style=\"height:600px; width:900px;\"></div>            <script type=\"text/javascript\">                require([\"plotly\"], function(Plotly) {                    window.PLOTLYENV=window.PLOTLYENV || {};                                    if (document.getElementById(\"a3b9339e-8eb4-4156-bff8-e55fec776110\")) {                    Plotly.newPlot(                        \"a3b9339e-8eb4-4156-bff8-e55fec776110\",                        [{\"marker\":{\"color\":\"black\",\"size\":4},\"mode\":\"markers\",\"name\":\"Actual\",\"type\":\"scatter\",\"x\":[\"2022-06-08T00:00:00\",\"2022-06-11T00:00:00\",\"2022-06-12T00:00:00\",\"2022-06-14T00:00:00\",\"2022-06-16T00:00:00\",\"2022-06-17T00:00:00\",\"2022-06-19T00:00:00\",\"2022-06-21T00:00:00\",\"2022-06-22T00:00:00\",\"2022-06-23T00:00:00\",\"2022-06-24T00:00:00\",\"2022-06-25T00:00:00\",\"2022-06-26T00:00:00\",\"2022-06-28T00:00:00\",\"2022-06-29T00:00:00\",\"2022-06-30T00:00:00\",\"2022-07-01T00:00:00\",\"2022-07-02T00:00:00\",\"2022-07-03T00:00:00\",\"2022-07-04T00:00:00\",\"2022-07-05T00:00:00\",\"2022-07-06T00:00:00\",\"2022-07-07T00:00:00\",\"2022-07-08T00:00:00\",\"2022-07-09T00:00:00\",\"2022-07-11T00:00:00\",\"2022-07-12T00:00:00\",\"2022-07-13T00:00:00\",\"2022-07-14T00:00:00\",\"2022-07-19T00:00:00\",\"2022-07-20T00:00:00\",\"2022-07-21T00:00:00\",\"2022-07-22T00:00:00\",\"2022-07-25T00:00:00\",\"2022-07-26T00:00:00\",\"2022-07-27T00:00:00\",\"2022-07-28T00:00:00\",\"2022-07-29T00:00:00\",\"2022-07-30T00:00:00\",\"2022-07-31T00:00:00\",\"2022-08-01T00:00:00\",\"2022-08-02T00:00:00\",\"2022-08-03T00:00:00\",\"2022-08-04T00:00:00\",\"2022-08-05T00:00:00\",\"2022-08-06T00:00:00\",\"2022-08-07T00:00:00\",\"2022-08-08T00:00:00\",\"2022-08-09T00:00:00\",\"2022-08-10T00:00:00\",\"2022-08-12T00:00:00\",\"2022-08-13T00:00:00\",\"2022-08-14T00:00:00\",\"2022-08-15T00:00:00\",\"2022-08-16T00:00:00\",\"2022-08-17T00:00:00\",\"2022-08-18T00:00:00\",\"2022-08-19T00:00:00\",\"2022-08-20T00:00:00\",\"2022-08-21T00:00:00\",\"2022-08-22T00:00:00\",\"2022-08-23T00:00:00\",\"2022-08-24T00:00:00\",\"2022-08-25T00:00:00\",\"2022-08-26T00:00:00\",\"2022-08-29T00:00:00\"],\"y\":[1,1,1,2,1,1,1,1,2,5,1,2,1,1,16,12,15,12,2,2,26,36,30,32,14,10,38,42,39,101,143,13,90,115,56,112,89,193,84,27,105,128,118,139,144,104,23,162,122,43,288,102,45,92,198,176,91,205,100,32,109,88,160,72,256,221]},{\"hoverinfo\":\"skip\",\"line\":{\"width\":0},\"mode\":\"lines\",\"type\":\"scatter\",\"x\":[\"2022-06-08T00:00:00\",\"2022-06-11T00:00:00\",\"2022-06-12T00:00:00\",\"2022-06-14T00:00:00\",\"2022-06-16T00:00:00\",\"2022-06-17T00:00:00\",\"2022-06-19T00:00:00\",\"2022-06-21T00:00:00\",\"2022-06-22T00:00:00\",\"2022-06-23T00:00:00\",\"2022-06-24T00:00:00\",\"2022-06-25T00:00:00\",\"2022-06-26T00:00:00\",\"2022-06-28T00:00:00\",\"2022-06-29T00:00:00\",\"2022-06-30T00:00:00\",\"2022-07-01T00:00:00\",\"2022-07-02T00:00:00\",\"2022-07-03T00:00:00\",\"2022-07-04T00:00:00\",\"2022-07-05T00:00:00\",\"2022-07-06T00:00:00\",\"2022-07-07T00:00:00\",\"2022-07-08T00:00:00\",\"2022-07-09T00:00:00\",\"2022-07-11T00:00:00\",\"2022-07-12T00:00:00\",\"2022-07-13T00:00:00\",\"2022-07-14T00:00:00\",\"2022-07-19T00:00:00\",\"2022-07-20T00:00:00\",\"2022-07-21T00:00:00\",\"2022-07-22T00:00:00\",\"2022-07-25T00:00:00\",\"2022-07-26T00:00:00\",\"2022-07-27T00:00:00\",\"2022-07-28T00:00:00\",\"2022-07-29T00:00:00\",\"2022-07-30T00:00:00\",\"2022-07-31T00:00:00\",\"2022-08-01T00:00:00\",\"2022-08-02T00:00:00\",\"2022-08-03T00:00:00\",\"2022-08-04T00:00:00\",\"2022-08-05T00:00:00\",\"2022-08-06T00:00:00\",\"2022-08-07T00:00:00\",\"2022-08-08T00:00:00\",\"2022-08-09T00:00:00\",\"2022-08-10T00:00:00\",\"2022-08-12T00:00:00\",\"2022-08-13T00:00:00\",\"2022-08-14T00:00:00\",\"2022-08-15T00:00:00\",\"2022-08-16T00:00:00\",\"2022-08-17T00:00:00\",\"2022-08-18T00:00:00\",\"2022-08-19T00:00:00\",\"2022-08-20T00:00:00\",\"2022-08-21T00:00:00\",\"2022-08-22T00:00:00\",\"2022-08-23T00:00:00\",\"2022-08-24T00:00:00\",\"2022-08-25T00:00:00\",\"2022-08-26T00:00:00\",\"2022-08-29T00:00:00\",\"2022-08-30T00:00:00\",\"2022-08-31T00:00:00\",\"2022-09-01T00:00:00\",\"2022-09-02T00:00:00\",\"2022-09-03T00:00:00\",\"2022-09-04T00:00:00\",\"2022-09-05T00:00:00\",\"2022-09-06T00:00:00\",\"2022-09-07T00:00:00\",\"2022-09-08T00:00:00\",\"2022-09-09T00:00:00\",\"2022-09-10T00:00:00\",\"2022-09-11T00:00:00\",\"2022-09-12T00:00:00\",\"2022-09-13T00:00:00\",\"2022-09-14T00:00:00\",\"2022-09-15T00:00:00\",\"2022-09-16T00:00:00\",\"2022-09-17T00:00:00\",\"2022-09-18T00:00:00\",\"2022-09-19T00:00:00\",\"2022-09-20T00:00:00\",\"2022-09-21T00:00:00\",\"2022-09-22T00:00:00\",\"2022-09-23T00:00:00\",\"2022-09-24T00:00:00\",\"2022-09-25T00:00:00\",\"2022-09-26T00:00:00\",\"2022-09-27T00:00:00\",\"2022-09-28T00:00:00\",\"2022-09-29T00:00:00\",\"2022-09-30T00:00:00\",\"2022-10-01T00:00:00\",\"2022-10-02T00:00:00\",\"2022-10-03T00:00:00\",\"2022-10-04T00:00:00\",\"2022-10-05T00:00:00\",\"2022-10-06T00:00:00\",\"2022-10-07T00:00:00\",\"2022-10-08T00:00:00\",\"2022-10-09T00:00:00\",\"2022-10-10T00:00:00\",\"2022-10-11T00:00:00\",\"2022-10-12T00:00:00\",\"2022-10-13T00:00:00\",\"2022-10-14T00:00:00\",\"2022-10-15T00:00:00\",\"2022-10-16T00:00:00\",\"2022-10-17T00:00:00\",\"2022-10-18T00:00:00\",\"2022-10-19T00:00:00\",\"2022-10-20T00:00:00\",\"2022-10-21T00:00:00\",\"2022-10-22T00:00:00\",\"2022-10-23T00:00:00\",\"2022-10-24T00:00:00\",\"2022-10-25T00:00:00\",\"2022-10-26T00:00:00\",\"2022-10-27T00:00:00\",\"2022-10-28T00:00:00\",\"2022-10-29T00:00:00\",\"2022-10-30T00:00:00\",\"2022-10-31T00:00:00\",\"2022-11-01T00:00:00\",\"2022-11-02T00:00:00\",\"2022-11-03T00:00:00\",\"2022-11-04T00:00:00\",\"2022-11-05T00:00:00\",\"2022-11-06T00:00:00\",\"2022-11-07T00:00:00\",\"2022-11-08T00:00:00\",\"2022-11-09T00:00:00\",\"2022-11-10T00:00:00\",\"2022-11-11T00:00:00\",\"2022-11-12T00:00:00\",\"2022-11-13T00:00:00\",\"2022-11-14T00:00:00\",\"2022-11-15T00:00:00\",\"2022-11-16T00:00:00\",\"2022-11-17T00:00:00\",\"2022-11-18T00:00:00\",\"2022-11-19T00:00:00\",\"2022-11-20T00:00:00\",\"2022-11-21T00:00:00\",\"2022-11-22T00:00:00\",\"2022-11-23T00:00:00\",\"2022-11-24T00:00:00\",\"2022-11-25T00:00:00\",\"2022-11-26T00:00:00\",\"2022-11-27T00:00:00\"],\"y\":[-66.5339996933796,-78.7226487355406,-109.66096532312558,-60.38021868954263,-74.83947864216839,-6.277389859759177,-94.47866238706698,-43.156882849238364,-36.8177325874711,-55.17989361187166,10.494309449717349,-48.947538653821155,-79.60068586560213,-26.397799338943358,-16.61509183279418,-41.673287083723956,21.942799902282655,-29.68246942718085,-64.63780480014928,-13.006820170377292,-10.658097724251675,-5.65281453440918,-26.60039867109099,42.574539407204774,-16.499944962961095,3.145472084328165,2.1919052792332185,11.210422233828934,-13.49107843334723,21.15804839913444,26.330919162583744,1.4080227033575148,73.4715076212865,34.75771299482551,38.1915933772216,40.271302611556266,20.59330534577676,87.25539047507553,26.89097801614661,-7.750208598604899,48.26985027021995,49.945543130111545,60.98942043026275,33.561666531889465,104.18425858654018,45.95481848010155,13.282246998873442,64.89833385923042,67.13087679193818,74.3111074478954,119.54220067007985,61.782905710834115,30.135263931411306,79.81542543418709,81.40748292639563,90.52643731871898,70.10768436546822,134.28850699547186,75.62096941366948,43.170728265062486,95.50768466508453,101.38334273315918,107.43439272941325,83.23471611861963,144.77589261993828,112.56709095066262,112.92071560602159,121.21840737485225,92.84555661383727,165.58764798254205,104.04802334383771,75.22626367007621,128.7541748910207,127.31818812747609,134.95574807851617,111.91271622967874,183.05971151881363,122.86415113808566,90.18038600546691,142.24890026070852,145.6903046909796,152.58481138666494,128.32161252838372,197.37286157898873,137.33297609149568,106.79572604581068,154.79613353671422,159.3740614788521,169.30586054083187,145.88395161945292,207.08596363530003,152.19238999079187,121.63437217728453,171.31685204779942,173.43855985372485,185.24456286522135,158.00741494265512,227.24788150708238,166.12804813699643,136.5001116143474,187.7806841364655,190.06710667071204,199.7432556033785,172.30406148767491,243.4897668695882,183.54198722723004,154.78297097897166,205.28948124978558,208.8848160037939,215.35537618632492,191.29447004433413,256.21346208159554,200.6579586389744,170.39237194247303,219.4647970264528,222.54347243251485,226.4434132912468,208.68270442460098,274.50641505181704,217.1321663156427,186.2007674881758,234.4694706253595,239.96764620131376,250.0977796847936,219.90881996359315,289.9876840926243,223.08683623531076,204.7658716717779,248.60745535023614,249.16341171262178,261.30726817641823,235.6727308675934,305.72754902682925,243.9525591937283,215.02638871673688,264.5890917119148,265.6666047589298,273.54807427452005,254.27323458883757,320.45775726056036,260.30879984590644,227.73442964419206,281.672351992579,285.496457680405,290.31473702806755,265.8112813935088,333.7372568266106,276.6333396269639,250.07517245076764,295.1937082646227,296.93746358396777,307.343931962826,285.21782803827375,350.6797981915241,290.11531772287583,260.99781628366816]},{\"fill\":\"tonexty\",\"fillcolor\":\"rgba(0, 114, 178, 0.2)\",\"line\":{\"color\":\"#0072B2\",\"width\":2},\"mode\":\"lines\",\"name\":\"Predicted\",\"type\":\"scatter\",\"x\":[\"2022-06-08T00:00:00\",\"2022-06-11T00:00:00\",\"2022-06-12T00:00:00\",\"2022-06-14T00:00:00\",\"2022-06-16T00:00:00\",\"2022-06-17T00:00:00\",\"2022-06-19T00:00:00\",\"2022-06-21T00:00:00\",\"2022-06-22T00:00:00\",\"2022-06-23T00:00:00\",\"2022-06-24T00:00:00\",\"2022-06-25T00:00:00\",\"2022-06-26T00:00:00\",\"2022-06-28T00:00:00\",\"2022-06-29T00:00:00\",\"2022-06-30T00:00:00\",\"2022-07-01T00:00:00\",\"2022-07-02T00:00:00\",\"2022-07-03T00:00:00\",\"2022-07-04T00:00:00\",\"2022-07-05T00:00:00\",\"2022-07-06T00:00:00\",\"2022-07-07T00:00:00\",\"2022-07-08T00:00:00\",\"2022-07-09T00:00:00\",\"2022-07-11T00:00:00\",\"2022-07-12T00:00:00\",\"2022-07-13T00:00:00\",\"2022-07-14T00:00:00\",\"2022-07-19T00:00:00\",\"2022-07-20T00:00:00\",\"2022-07-21T00:00:00\",\"2022-07-22T00:00:00\",\"2022-07-25T00:00:00\",\"2022-07-26T00:00:00\",\"2022-07-27T00:00:00\",\"2022-07-28T00:00:00\",\"2022-07-29T00:00:00\",\"2022-07-30T00:00:00\",\"2022-07-31T00:00:00\",\"2022-08-01T00:00:00\",\"2022-08-02T00:00:00\",\"2022-08-03T00:00:00\",\"2022-08-04T00:00:00\",\"2022-08-05T00:00:00\",\"2022-08-06T00:00:00\",\"2022-08-07T00:00:00\",\"2022-08-08T00:00:00\",\"2022-08-09T00:00:00\",\"2022-08-10T00:00:00\",\"2022-08-12T00:00:00\",\"2022-08-13T00:00:00\",\"2022-08-14T00:00:00\",\"2022-08-15T00:00:00\",\"2022-08-16T00:00:00\",\"2022-08-17T00:00:00\",\"2022-08-18T00:00:00\",\"2022-08-19T00:00:00\",\"2022-08-20T00:00:00\",\"2022-08-21T00:00:00\",\"2022-08-22T00:00:00\",\"2022-08-23T00:00:00\",\"2022-08-24T00:00:00\",\"2022-08-25T00:00:00\",\"2022-08-26T00:00:00\",\"2022-08-29T00:00:00\",\"2022-08-30T00:00:00\",\"2022-08-31T00:00:00\",\"2022-09-01T00:00:00\",\"2022-09-02T00:00:00\",\"2022-09-03T00:00:00\",\"2022-09-04T00:00:00\",\"2022-09-05T00:00:00\",\"2022-09-06T00:00:00\",\"2022-09-07T00:00:00\",\"2022-09-08T00:00:00\",\"2022-09-09T00:00:00\",\"2022-09-10T00:00:00\",\"2022-09-11T00:00:00\",\"2022-09-12T00:00:00\",\"2022-09-13T00:00:00\",\"2022-09-14T00:00:00\",\"2022-09-15T00:00:00\",\"2022-09-16T00:00:00\",\"2022-09-17T00:00:00\",\"2022-09-18T00:00:00\",\"2022-09-19T00:00:00\",\"2022-09-20T00:00:00\",\"2022-09-21T00:00:00\",\"2022-09-22T00:00:00\",\"2022-09-23T00:00:00\",\"2022-09-24T00:00:00\",\"2022-09-25T00:00:00\",\"2022-09-26T00:00:00\",\"2022-09-27T00:00:00\",\"2022-09-28T00:00:00\",\"2022-09-29T00:00:00\",\"2022-09-30T00:00:00\",\"2022-10-01T00:00:00\",\"2022-10-02T00:00:00\",\"2022-10-03T00:00:00\",\"2022-10-04T00:00:00\",\"2022-10-05T00:00:00\",\"2022-10-06T00:00:00\",\"2022-10-07T00:00:00\",\"2022-10-08T00:00:00\",\"2022-10-09T00:00:00\",\"2022-10-10T00:00:00\",\"2022-10-11T00:00:00\",\"2022-10-12T00:00:00\",\"2022-10-13T00:00:00\",\"2022-10-14T00:00:00\",\"2022-10-15T00:00:00\",\"2022-10-16T00:00:00\",\"2022-10-17T00:00:00\",\"2022-10-18T00:00:00\",\"2022-10-19T00:00:00\",\"2022-10-20T00:00:00\",\"2022-10-21T00:00:00\",\"2022-10-22T00:00:00\",\"2022-10-23T00:00:00\",\"2022-10-24T00:00:00\",\"2022-10-25T00:00:00\",\"2022-10-26T00:00:00\",\"2022-10-27T00:00:00\",\"2022-10-28T00:00:00\",\"2022-10-29T00:00:00\",\"2022-10-30T00:00:00\",\"2022-10-31T00:00:00\",\"2022-11-01T00:00:00\",\"2022-11-02T00:00:00\",\"2022-11-03T00:00:00\",\"2022-11-04T00:00:00\",\"2022-11-05T00:00:00\",\"2022-11-06T00:00:00\",\"2022-11-07T00:00:00\",\"2022-11-08T00:00:00\",\"2022-11-09T00:00:00\",\"2022-11-10T00:00:00\",\"2022-11-11T00:00:00\",\"2022-11-12T00:00:00\",\"2022-11-13T00:00:00\",\"2022-11-14T00:00:00\",\"2022-11-15T00:00:00\",\"2022-11-16T00:00:00\",\"2022-11-17T00:00:00\",\"2022-11-18T00:00:00\",\"2022-11-19T00:00:00\",\"2022-11-20T00:00:00\",\"2022-11-21T00:00:00\",\"2022-11-22T00:00:00\",\"2022-11-23T00:00:00\",\"2022-11-24T00:00:00\",\"2022-11-25T00:00:00\",\"2022-11-26T00:00:00\",\"2022-11-27T00:00:00\"],\"y\":[-14.56433614883404,-31.08238576385824,-61.12173371214254,-8.47049711201706,-23.909943367209685,43.317047671290894,-45.61731699981415,7.033919574391323,16.44449728214743,-8.405526711287001,58.82146431446703,-0.07355239803080238,-30.11290036139802,22.538336220304533,31.94891393179621,7.098889955931503,74.32588099949929,15.43086430337615,-14.60848364377786,35.94422566265307,38.04345726803248,47.454387145667276,22.604715326554988,89.83205851949926,30.937393963705972,51.45110746295458,53.55033906515836,62.96126893830287,38.11159711164675,69.05722083995255,78.46815071659393,53.618478896682674,120.8458221039116,82.4648710849786,84.5641026994799,93.97503258497272,69.12536077592536,136.3527039861857,77.45803944260231,47.41904364804128,97.97175295848734,100.07098456820529,109.48191443905105,84.63224261327882,151.85958579570092,92.96492122971308,62.92592541379639,113.47863470465356,115.57786629272987,124.98879615202459,167.36646747695875,108.47180290045404,78.43280708141464,128.98551636885105,131.0847479553883,140.49567781310571,115.64600597415064,182.87334915447678,123.97868458619638,93.93968876713097,144.49239805446712,146.5916296412988,156.00255949898528,131.1528876600787,198.38023084044002,159.99927974042484,162.0985113271607,171.50944118483912,146.65976934600678,213.88711252640326,154.992447958198,124.95345213899176,175.50616142638265,177.60539301310683,187.01632287074443,162.16665103173435,229.39399421217888,170.4993296440716,140.4603338248508,191.01304311234043,193.11227469888465,202.52320455668755,177.6735327176624,244.90087589814215,186.00621132981394,155.96721551070098,206.51992479795646,208.61915638483077,218.03008624256714,193.1804144035905,260.40775758401156,201.51309301581884,171.47409719670276,222.02680648404015,224.1260380707769,233.53696792844673,208.68729608951853,275.9146392698762,217.0199747015611,186.980978882419,237.53368816987197,239.63291975663878,249.0438496144155,224.19417777540883,291.4215209557456,232.52685638730344,202.48786056842079,253.04056985582972,255.13980144254927,264.5507313002693,239.70105946137465,306.9284026417089,248.03373807356277,217.994742254271,268.5474515417875,270.6466831284112,280.0576129861746,255.20794114726488,322.43528432757824,263.54061975930506,233.50162394027274,284.05433322774525,286.1535648143573,295.56449467202845,270.7148228330302,337.94216601344766,279.0475014451787,249.00850562598907,299.5612149135772,301.66044650018364,311.07137635788234,286.2217045189584,353.4490476993172,294.55438313105236,264.5153873119909,315.0680965993191,317.1673281861298,326.5782580437619,301.7285862048864,368.9559293852804,310.0612648171803,280.02226899799257,330.57497828527687,332.6742098719917,342.08513972964147,317.2354678907767,384.46281107105125,325.5681465029227,295.52915068370885,346.0818599712346,348.1810915578536,357.5920214156103,332.742349576667,399.9696927570145,341.0750281887963,311.03603236971065]},{\"fill\":\"tonexty\",\"fillcolor\":\"rgba(0, 114, 178, 0.2)\",\"hoverinfo\":\"skip\",\"line\":{\"width\":0},\"mode\":\"lines\",\"type\":\"scatter\",\"x\":[\"2022-06-08T00:00:00\",\"2022-06-11T00:00:00\",\"2022-06-12T00:00:00\",\"2022-06-14T00:00:00\",\"2022-06-16T00:00:00\",\"2022-06-17T00:00:00\",\"2022-06-19T00:00:00\",\"2022-06-21T00:00:00\",\"2022-06-22T00:00:00\",\"2022-06-23T00:00:00\",\"2022-06-24T00:00:00\",\"2022-06-25T00:00:00\",\"2022-06-26T00:00:00\",\"2022-06-28T00:00:00\",\"2022-06-29T00:00:00\",\"2022-06-30T00:00:00\",\"2022-07-01T00:00:00\",\"2022-07-02T00:00:00\",\"2022-07-03T00:00:00\",\"2022-07-04T00:00:00\",\"2022-07-05T00:00:00\",\"2022-07-06T00:00:00\",\"2022-07-07T00:00:00\",\"2022-07-08T00:00:00\",\"2022-07-09T00:00:00\",\"2022-07-11T00:00:00\",\"2022-07-12T00:00:00\",\"2022-07-13T00:00:00\",\"2022-07-14T00:00:00\",\"2022-07-19T00:00:00\",\"2022-07-20T00:00:00\",\"2022-07-21T00:00:00\",\"2022-07-22T00:00:00\",\"2022-07-25T00:00:00\",\"2022-07-26T00:00:00\",\"2022-07-27T00:00:00\",\"2022-07-28T00:00:00\",\"2022-07-29T00:00:00\",\"2022-07-30T00:00:00\",\"2022-07-31T00:00:00\",\"2022-08-01T00:00:00\",\"2022-08-02T00:00:00\",\"2022-08-03T00:00:00\",\"2022-08-04T00:00:00\",\"2022-08-05T00:00:00\",\"2022-08-06T00:00:00\",\"2022-08-07T00:00:00\",\"2022-08-08T00:00:00\",\"2022-08-09T00:00:00\",\"2022-08-10T00:00:00\",\"2022-08-12T00:00:00\",\"2022-08-13T00:00:00\",\"2022-08-14T00:00:00\",\"2022-08-15T00:00:00\",\"2022-08-16T00:00:00\",\"2022-08-17T00:00:00\",\"2022-08-18T00:00:00\",\"2022-08-19T00:00:00\",\"2022-08-20T00:00:00\",\"2022-08-21T00:00:00\",\"2022-08-22T00:00:00\",\"2022-08-23T00:00:00\",\"2022-08-24T00:00:00\",\"2022-08-25T00:00:00\",\"2022-08-26T00:00:00\",\"2022-08-29T00:00:00\",\"2022-08-30T00:00:00\",\"2022-08-31T00:00:00\",\"2022-09-01T00:00:00\",\"2022-09-02T00:00:00\",\"2022-09-03T00:00:00\",\"2022-09-04T00:00:00\",\"2022-09-05T00:00:00\",\"2022-09-06T00:00:00\",\"2022-09-07T00:00:00\",\"2022-09-08T00:00:00\",\"2022-09-09T00:00:00\",\"2022-09-10T00:00:00\",\"2022-09-11T00:00:00\",\"2022-09-12T00:00:00\",\"2022-09-13T00:00:00\",\"2022-09-14T00:00:00\",\"2022-09-15T00:00:00\",\"2022-09-16T00:00:00\",\"2022-09-17T00:00:00\",\"2022-09-18T00:00:00\",\"2022-09-19T00:00:00\",\"2022-09-20T00:00:00\",\"2022-09-21T00:00:00\",\"2022-09-22T00:00:00\",\"2022-09-23T00:00:00\",\"2022-09-24T00:00:00\",\"2022-09-25T00:00:00\",\"2022-09-26T00:00:00\",\"2022-09-27T00:00:00\",\"2022-09-28T00:00:00\",\"2022-09-29T00:00:00\",\"2022-09-30T00:00:00\",\"2022-10-01T00:00:00\",\"2022-10-02T00:00:00\",\"2022-10-03T00:00:00\",\"2022-10-04T00:00:00\",\"2022-10-05T00:00:00\",\"2022-10-06T00:00:00\",\"2022-10-07T00:00:00\",\"2022-10-08T00:00:00\",\"2022-10-09T00:00:00\",\"2022-10-10T00:00:00\",\"2022-10-11T00:00:00\",\"2022-10-12T00:00:00\",\"2022-10-13T00:00:00\",\"2022-10-14T00:00:00\",\"2022-10-15T00:00:00\",\"2022-10-16T00:00:00\",\"2022-10-17T00:00:00\",\"2022-10-18T00:00:00\",\"2022-10-19T00:00:00\",\"2022-10-20T00:00:00\",\"2022-10-21T00:00:00\",\"2022-10-22T00:00:00\",\"2022-10-23T00:00:00\",\"2022-10-24T00:00:00\",\"2022-10-25T00:00:00\",\"2022-10-26T00:00:00\",\"2022-10-27T00:00:00\",\"2022-10-28T00:00:00\",\"2022-10-29T00:00:00\",\"2022-10-30T00:00:00\",\"2022-10-31T00:00:00\",\"2022-11-01T00:00:00\",\"2022-11-02T00:00:00\",\"2022-11-03T00:00:00\",\"2022-11-04T00:00:00\",\"2022-11-05T00:00:00\",\"2022-11-06T00:00:00\",\"2022-11-07T00:00:00\",\"2022-11-08T00:00:00\",\"2022-11-09T00:00:00\",\"2022-11-10T00:00:00\",\"2022-11-11T00:00:00\",\"2022-11-12T00:00:00\",\"2022-11-13T00:00:00\",\"2022-11-14T00:00:00\",\"2022-11-15T00:00:00\",\"2022-11-16T00:00:00\",\"2022-11-17T00:00:00\",\"2022-11-18T00:00:00\",\"2022-11-19T00:00:00\",\"2022-11-20T00:00:00\",\"2022-11-21T00:00:00\",\"2022-11-22T00:00:00\",\"2022-11-23T00:00:00\",\"2022-11-24T00:00:00\",\"2022-11-25T00:00:00\",\"2022-11-26T00:00:00\",\"2022-11-27T00:00:00\"],\"y\":[33.24909805269851,21.020320080223314,-6.984427011176072,45.0605265076928,26.769629175803342,94.99871094533034,1.0751204682580615,55.578369085508875,65.21281476223565,41.82459410553028,107.42775125070024,47.85345307198537,20.384042809007312,71.02062922000417,79.86931161760886,56.80328905976509,121.40849063292737,65.53439650254651,32.15822008868094,85.53925320071771,88.0648260445235,95.40208855317057,71.83193407187986,137.30288580723752,76.07907643778677,97.430893338058,103.40268627601357,111.60875540033184,90.48213775901277,115.6219432308292,126.86280040778318,102.48763954221559,169.40234671568598,133.20032316094526,137.8279258481117,140.18451861745802,118.47346874840377,189.4422076536375,126.82165768368677,96.2394177579935,146.0048011585878,151.91019682436377,158.76419286857012,133.1279180400962,202.24148513158934,142.78334068560375,114.0928986223156,160.98541114567334,164.0470547291252,174.98911575208732,221.38947440561736,157.55329759496954,127.64568253582009,177.57033667089766,184.26323903089386,191.48612039989882,164.4758181947507,232.11199096044123,175.67973786909278,140.81922606721483,196.34993257453155,190.4070430812833,203.67322284055106,180.54342158435955,250.73673804687436,213.10479763499188,213.54373600243503,220.58992238610168,198.39583916306123,265.4988619621966,205.1799631999074,172.31727335583054,229.38987297341038,228.4682080954637,239.3342485520244,213.62684894148745,278.51400292110736,219.29089822580386,191.38940110562916,242.58142947744463,242.20087107340842,254.53371643344803,224.40294983877277,292.83447878692925,236.94888526812127,201.29691422529567,256.1382347958087,256.8656713594797,267.1197781240961,240.22977028686853,310.4619357308057,253.380328120256,219.03157534750054,271.1907114037728,277.38049965284176,281.85045420197747,258.47747596168045,325.40229351498056,268.3390157657391,236.15408225293154,286.4238430799965,290.0039970350924,300.0269295369175,270.48684342619225,344.7314382332291,280.98557019055414,251.6913683865236,304.31148401098636,305.9358251205332,309.31670743632503,292.6532966854558,355.3149125356734,299.4934303941997,267.9372138223774,316.57082603504404,321.1489689408731,333.0626174035221,301.99472050040913,373.5863667033336,313.02036480410675,283.46382333742264,331.078758187815,336.4890408658533,344.44209615128193,321.78870826572563,390.3770395076267,327.8103602824854,296.5526082187692,350.82828959011863,353.83941982278833,359.72575841621654,336.9129910681207,399.60355676139164,344.0936080684549,311.71199475571404,363.86858777900125,371.6215683415244,374.6162256581922,352.435274190537,419.346998381222,359.1880592238937,329.14104840658825,378.58055140785416,382.81728272794953,386.4393803346552,365.87905508962194,435.84473897268884,377.0798242370469,345.8375090275023,395.9977356213067,396.97470905025773,407.708397620768,382.45786902397043,450.1817858243456,392.01219091959206,359.3070633101595]}],                        {\"height\":600,\"showlegend\":false,\"template\":{\"data\":{\"bar\":[{\"error_x\":{\"color\":\"#2a3f5f\"},\"error_y\":{\"color\":\"#2a3f5f\"},\"marker\":{\"line\":{\"color\":\"#E5ECF6\",\"width\":0.5},\"pattern\":{\"fillmode\":\"overlay\",\"size\":10,\"solidity\":0.2}},\"type\":\"bar\"}],\"barpolar\":[{\"marker\":{\"line\":{\"color\":\"#E5ECF6\",\"width\":0.5},\"pattern\":{\"fillmode\":\"overlay\",\"size\":10,\"solidity\":0.2}},\"type\":\"barpolar\"}],\"carpet\":[{\"aaxis\":{\"endlinecolor\":\"#2a3f5f\",\"gridcolor\":\"white\",\"linecolor\":\"white\",\"minorgridcolor\":\"white\",\"startlinecolor\":\"#2a3f5f\"},\"baxis\":{\"endlinecolor\":\"#2a3f5f\",\"gridcolor\":\"white\",\"linecolor\":\"white\",\"minorgridcolor\":\"white\",\"startlinecolor\":\"#2a3f5f\"},\"type\":\"carpet\"}],\"choropleth\":[{\"colorbar\":{\"outlinewidth\":0,\"ticks\":\"\"},\"type\":\"choropleth\"}],\"contour\":[{\"colorbar\":{\"outlinewidth\":0,\"ticks\":\"\"},\"colorscale\":[[0.0,\"#0d0887\"],[0.1111111111111111,\"#46039f\"],[0.2222222222222222,\"#7201a8\"],[0.3333333333333333,\"#9c179e\"],[0.4444444444444444,\"#bd3786\"],[0.5555555555555556,\"#d8576b\"],[0.6666666666666666,\"#ed7953\"],[0.7777777777777778,\"#fb9f3a\"],[0.8888888888888888,\"#fdca26\"],[1.0,\"#f0f921\"]],\"type\":\"contour\"}],\"contourcarpet\":[{\"colorbar\":{\"outlinewidth\":0,\"ticks\":\"\"},\"type\":\"contourcarpet\"}],\"heatmap\":[{\"colorbar\":{\"outlinewidth\":0,\"ticks\":\"\"},\"colorscale\":[[0.0,\"#0d0887\"],[0.1111111111111111,\"#46039f\"],[0.2222222222222222,\"#7201a8\"],[0.3333333333333333,\"#9c179e\"],[0.4444444444444444,\"#bd3786\"],[0.5555555555555556,\"#d8576b\"],[0.6666666666666666,\"#ed7953\"],[0.7777777777777778,\"#fb9f3a\"],[0.8888888888888888,\"#fdca26\"],[1.0,\"#f0f921\"]],\"type\":\"heatmap\"}],\"heatmapgl\":[{\"colorbar\":{\"outlinewidth\":0,\"ticks\":\"\"},\"colorscale\":[[0.0,\"#0d0887\"],[0.1111111111111111,\"#46039f\"],[0.2222222222222222,\"#7201a8\"],[0.3333333333333333,\"#9c179e\"],[0.4444444444444444,\"#bd3786\"],[0.5555555555555556,\"#d8576b\"],[0.6666666666666666,\"#ed7953\"],[0.7777777777777778,\"#fb9f3a\"],[0.8888888888888888,\"#fdca26\"],[1.0,\"#f0f921\"]],\"type\":\"heatmapgl\"}],\"histogram\":[{\"marker\":{\"pattern\":{\"fillmode\":\"overlay\",\"size\":10,\"solidity\":0.2}},\"type\":\"histogram\"}],\"histogram2d\":[{\"colorbar\":{\"outlinewidth\":0,\"ticks\":\"\"},\"colorscale\":[[0.0,\"#0d0887\"],[0.1111111111111111,\"#46039f\"],[0.2222222222222222,\"#7201a8\"],[0.3333333333333333,\"#9c179e\"],[0.4444444444444444,\"#bd3786\"],[0.5555555555555556,\"#d8576b\"],[0.6666666666666666,\"#ed7953\"],[0.7777777777777778,\"#fb9f3a\"],[0.8888888888888888,\"#fdca26\"],[1.0,\"#f0f921\"]],\"type\":\"histogram2d\"}],\"histogram2dcontour\":[{\"colorbar\":{\"outlinewidth\":0,\"ticks\":\"\"},\"colorscale\":[[0.0,\"#0d0887\"],[0.1111111111111111,\"#46039f\"],[0.2222222222222222,\"#7201a8\"],[0.3333333333333333,\"#9c179e\"],[0.4444444444444444,\"#bd3786\"],[0.5555555555555556,\"#d8576b\"],[0.6666666666666666,\"#ed7953\"],[0.7777777777777778,\"#fb9f3a\"],[0.8888888888888888,\"#fdca26\"],[1.0,\"#f0f921\"]],\"type\":\"histogram2dcontour\"}],\"mesh3d\":[{\"colorbar\":{\"outlinewidth\":0,\"ticks\":\"\"},\"type\":\"mesh3d\"}],\"parcoords\":[{\"line\":{\"colorbar\":{\"outlinewidth\":0,\"ticks\":\"\"}},\"type\":\"parcoords\"}],\"pie\":[{\"automargin\":true,\"type\":\"pie\"}],\"scatter\":[{\"marker\":{\"colorbar\":{\"outlinewidth\":0,\"ticks\":\"\"}},\"type\":\"scatter\"}],\"scatter3d\":[{\"line\":{\"colorbar\":{\"outlinewidth\":0,\"ticks\":\"\"}},\"marker\":{\"colorbar\":{\"outlinewidth\":0,\"ticks\":\"\"}},\"type\":\"scatter3d\"}],\"scattercarpet\":[{\"marker\":{\"colorbar\":{\"outlinewidth\":0,\"ticks\":\"\"}},\"type\":\"scattercarpet\"}],\"scattergeo\":[{\"marker\":{\"colorbar\":{\"outlinewidth\":0,\"ticks\":\"\"}},\"type\":\"scattergeo\"}],\"scattergl\":[{\"marker\":{\"colorbar\":{\"outlinewidth\":0,\"ticks\":\"\"}},\"type\":\"scattergl\"}],\"scattermapbox\":[{\"marker\":{\"colorbar\":{\"outlinewidth\":0,\"ticks\":\"\"}},\"type\":\"scattermapbox\"}],\"scatterpolar\":[{\"marker\":{\"colorbar\":{\"outlinewidth\":0,\"ticks\":\"\"}},\"type\":\"scatterpolar\"}],\"scatterpolargl\":[{\"marker\":{\"colorbar\":{\"outlinewidth\":0,\"ticks\":\"\"}},\"type\":\"scatterpolargl\"}],\"scatterternary\":[{\"marker\":{\"colorbar\":{\"outlinewidth\":0,\"ticks\":\"\"}},\"type\":\"scatterternary\"}],\"surface\":[{\"colorbar\":{\"outlinewidth\":0,\"ticks\":\"\"},\"colorscale\":[[0.0,\"#0d0887\"],[0.1111111111111111,\"#46039f\"],[0.2222222222222222,\"#7201a8\"],[0.3333333333333333,\"#9c179e\"],[0.4444444444444444,\"#bd3786\"],[0.5555555555555556,\"#d8576b\"],[0.6666666666666666,\"#ed7953\"],[0.7777777777777778,\"#fb9f3a\"],[0.8888888888888888,\"#fdca26\"],[1.0,\"#f0f921\"]],\"type\":\"surface\"}],\"table\":[{\"cells\":{\"fill\":{\"color\":\"#EBF0F8\"},\"line\":{\"color\":\"white\"}},\"header\":{\"fill\":{\"color\":\"#C8D4E3\"},\"line\":{\"color\":\"white\"}},\"type\":\"table\"}]},\"layout\":{\"annotationdefaults\":{\"arrowcolor\":\"#2a3f5f\",\"arrowhead\":0,\"arrowwidth\":1},\"autotypenumbers\":\"strict\",\"coloraxis\":{\"colorbar\":{\"outlinewidth\":0,\"ticks\":\"\"}},\"colorscale\":{\"diverging\":[[0,\"#8e0152\"],[0.1,\"#c51b7d\"],[0.2,\"#de77ae\"],[0.3,\"#f1b6da\"],[0.4,\"#fde0ef\"],[0.5,\"#f7f7f7\"],[0.6,\"#e6f5d0\"],[0.7,\"#b8e186\"],[0.8,\"#7fbc41\"],[0.9,\"#4d9221\"],[1,\"#276419\"]],\"sequential\":[[0.0,\"#0d0887\"],[0.1111111111111111,\"#46039f\"],[0.2222222222222222,\"#7201a8\"],[0.3333333333333333,\"#9c179e\"],[0.4444444444444444,\"#bd3786\"],[0.5555555555555556,\"#d8576b\"],[0.6666666666666666,\"#ed7953\"],[0.7777777777777778,\"#fb9f3a\"],[0.8888888888888888,\"#fdca26\"],[1.0,\"#f0f921\"]],\"sequentialminus\":[[0.0,\"#0d0887\"],[0.1111111111111111,\"#46039f\"],[0.2222222222222222,\"#7201a8\"],[0.3333333333333333,\"#9c179e\"],[0.4444444444444444,\"#bd3786\"],[0.5555555555555556,\"#d8576b\"],[0.6666666666666666,\"#ed7953\"],[0.7777777777777778,\"#fb9f3a\"],[0.8888888888888888,\"#fdca26\"],[1.0,\"#f0f921\"]]},\"colorway\":[\"#636efa\",\"#EF553B\",\"#00cc96\",\"#ab63fa\",\"#FFA15A\",\"#19d3f3\",\"#FF6692\",\"#B6E880\",\"#FF97FF\",\"#FECB52\"],\"font\":{\"color\":\"#2a3f5f\"},\"geo\":{\"bgcolor\":\"white\",\"lakecolor\":\"white\",\"landcolor\":\"#E5ECF6\",\"showlakes\":true,\"showland\":true,\"subunitcolor\":\"white\"},\"hoverlabel\":{\"align\":\"left\"},\"hovermode\":\"closest\",\"mapbox\":{\"style\":\"light\"},\"paper_bgcolor\":\"white\",\"plot_bgcolor\":\"#E5ECF6\",\"polar\":{\"angularaxis\":{\"gridcolor\":\"white\",\"linecolor\":\"white\",\"ticks\":\"\"},\"bgcolor\":\"#E5ECF6\",\"radialaxis\":{\"gridcolor\":\"white\",\"linecolor\":\"white\",\"ticks\":\"\"}},\"scene\":{\"xaxis\":{\"backgroundcolor\":\"#E5ECF6\",\"gridcolor\":\"white\",\"gridwidth\":2,\"linecolor\":\"white\",\"showbackground\":true,\"ticks\":\"\",\"zerolinecolor\":\"white\"},\"yaxis\":{\"backgroundcolor\":\"#E5ECF6\",\"gridcolor\":\"white\",\"gridwidth\":2,\"linecolor\":\"white\",\"showbackground\":true,\"ticks\":\"\",\"zerolinecolor\":\"white\"},\"zaxis\":{\"backgroundcolor\":\"#E5ECF6\",\"gridcolor\":\"white\",\"gridwidth\":2,\"linecolor\":\"white\",\"showbackground\":true,\"ticks\":\"\",\"zerolinecolor\":\"white\"}},\"shapedefaults\":{\"line\":{\"color\":\"#2a3f5f\"}},\"ternary\":{\"aaxis\":{\"gridcolor\":\"white\",\"linecolor\":\"white\",\"ticks\":\"\"},\"baxis\":{\"gridcolor\":\"white\",\"linecolor\":\"white\",\"ticks\":\"\"},\"bgcolor\":\"#E5ECF6\",\"caxis\":{\"gridcolor\":\"white\",\"linecolor\":\"white\",\"ticks\":\"\"}},\"title\":{\"x\":0.05},\"xaxis\":{\"automargin\":true,\"gridcolor\":\"white\",\"linecolor\":\"white\",\"ticks\":\"\",\"title\":{\"standoff\":15},\"zerolinecolor\":\"white\",\"zerolinewidth\":2},\"yaxis\":{\"automargin\":true,\"gridcolor\":\"white\",\"linecolor\":\"white\",\"ticks\":\"\",\"title\":{\"standoff\":15},\"zerolinecolor\":\"white\",\"zerolinewidth\":2}}},\"width\":900,\"xaxis\":{\"rangeselector\":{\"buttons\":[{\"count\":7,\"label\":\"1w\",\"step\":\"day\",\"stepmode\":\"backward\"},{\"count\":1,\"label\":\"1m\",\"step\":\"month\",\"stepmode\":\"backward\"},{\"count\":6,\"label\":\"6m\",\"step\":\"month\",\"stepmode\":\"backward\"},{\"count\":1,\"label\":\"1y\",\"step\":\"year\",\"stepmode\":\"backward\"},{\"step\":\"all\"}]},\"rangeslider\":{\"visible\":true},\"title\":{\"text\":\"ds\"},\"type\":\"date\"},\"yaxis\":{\"title\":{\"text\":\"y\"}}},                        {\"responsive\": true}                    ).then(function(){\n",
       "                            \n",
       "var gd = document.getElementById('a3b9339e-8eb4-4156-bff8-e55fec776110');\n",
       "var x = new MutationObserver(function (mutations, observer) {{\n",
       "        var display = window.getComputedStyle(gd).display;\n",
       "        if (!display || display === 'none') {{\n",
       "            console.log([gd, 'removed!']);\n",
       "            Plotly.purge(gd);\n",
       "            observer.disconnect();\n",
       "        }}\n",
       "}});\n",
       "\n",
       "// Listen for the removal of the full notebook cells\n",
       "var notebookContainer = gd.closest('#notebook-container');\n",
       "if (notebookContainer) {{\n",
       "    x.observe(notebookContainer, {childList: true});\n",
       "}}\n",
       "\n",
       "// Listen for the clearing of the current output cell\n",
       "var outputEl = gd.closest('.output');\n",
       "if (outputEl) {{\n",
       "    x.observe(outputEl, {childList: true});\n",
       "}}\n",
       "\n",
       "                        })                };                });            </script>        </div>"
      ]
     },
     "metadata": {},
     "output_type": "display_data"
    }
   ],
   "source": [
    "plot_plotly(m, forecast)"
   ]
  },
  {
   "cell_type": "markdown",
   "id": "5a00f720-0626-46be-8ff9-1b47035307ea",
   "metadata": {},
   "source": [
    "<h4>Utilização do Components para ver tendências mensais e de dias da semana</h4>"
   ]
  },
  {
   "cell_type": "code",
   "execution_count": 756,
   "id": "2576ddaa-a393-4f12-8c8d-fa43c70a4f2d",
   "metadata": {},
   "outputs": [
    {
     "data": {
      "image/png": "[encoded data removed]",
      "text/plain": [
       "<Figure size 648x432 with 2 Axes>"
      ]
     },
     "metadata": {},
     "output_type": "display_data"
    }
   ],
   "source": [
    "fig2 = m.plot_components(forecast)"
   ]
  },
  {
   "cell_type": "markdown",
   "id": "e79cddd7-cf73-4aee-af6d-91be60b44c26",
   "metadata": {},
   "source": [
    "<b style=\"color:#1e6d06\">Observação:</b> A tendência é claramente de aumento nos casos, como são poucos dias desde o começo, é difícil ter precisão, porém, sabemos que a quantidade continuará aumentando."
   ]
  },
  {
   "cell_type": "markdown",
   "id": "6a41ae7e-ca92-4851-8191-39263909a968",
   "metadata": {},
   "source": [
    "<div id=\"42\"><h3>Previsão de novos casos diários acumulados</h3></div>"
   ]
  },
  {
   "cell_type": "markdown",
   "id": "1624db03-01ce-4b56-befe-cbf2e3a38f2e",
   "metadata": {},
   "source": [
    "<h4>Alteração da coluna y para somatória utilizando .cumsum()</h4>"
   ]
  },
  {
   "cell_type": "code",
   "execution_count": 757,
   "id": "d926fc23-5b3c-4c75-81d9-9e594310c884",
   "metadata": {},
   "outputs": [
    {
     "data": {
      "text/html": [
       "<div>\n",
       "<style scoped>\n",
       "    .dataframe tbody tr th:only-of-type {\n",
       "        vertical-align: middle;\n",
       "    }\n",
       "\n",
       "    .dataframe tbody tr th {\n",
       "        vertical-align: top;\n",
       "    }\n",
       "\n",
       "    .dataframe thead th {\n",
       "        text-align: right;\n",
       "    }\n",
       "</style>\n",
       "<table border=\"1\" class=\"dataframe\">\n",
       "  <thead>\n",
       "    <tr style=\"text-align: right;\">\n",
       "      <th></th>\n",
       "      <th>ds</th>\n",
       "      <th>y</th>\n",
       "    </tr>\n",
       "  </thead>\n",
       "  <tbody>\n",
       "    <tr>\n",
       "      <th>0</th>\n",
       "      <td>2022-06-08</td>\n",
       "      <td>1</td>\n",
       "    </tr>\n",
       "    <tr>\n",
       "      <th>1</th>\n",
       "      <td>2022-06-11</td>\n",
       "      <td>2</td>\n",
       "    </tr>\n",
       "    <tr>\n",
       "      <th>2</th>\n",
       "      <td>2022-06-12</td>\n",
       "      <td>3</td>\n",
       "    </tr>\n",
       "    <tr>\n",
       "      <th>3</th>\n",
       "      <td>2022-06-14</td>\n",
       "      <td>5</td>\n",
       "    </tr>\n",
       "    <tr>\n",
       "      <th>4</th>\n",
       "      <td>2022-06-16</td>\n",
       "      <td>6</td>\n",
       "    </tr>\n",
       "  </tbody>\n",
       "</table>\n",
       "</div>"
      ],
      "text/plain": [
       "          ds  y\n",
       "0 2022-06-08  1\n",
       "1 2022-06-11  2\n",
       "2 2022-06-12  3\n",
       "3 2022-06-14  5\n",
       "4 2022-06-16  6"
      ]
     },
     "execution_count": 757,
     "metadata": {},
     "output_type": "execute_result"
    }
   ],
   "source": [
    "df['y'] = df['y'].cumsum()\n",
    "df.head()"
   ]
  },
  {
   "cell_type": "code",
   "execution_count": 758,
   "id": "788d7ae4-e651-45ff-a079-d5d6eeaa0971",
   "metadata": {},
   "outputs": [
    {
     "name": "stderr",
     "output_type": "stream",
     "text": [
      "16:42:17 - cmdstanpy - INFO - Chain [1] start processing\n",
      "16:42:18 - cmdstanpy - INFO - Chain [1] done processing\n"
     ]
    },
    {
     "data": {
      "text/plain": [
       "<prophet.forecaster.Prophet at 0x7fcd853c4190>"
      ]
     },
     "execution_count": 758,
     "metadata": {},
     "output_type": "execute_result"
    }
   ],
   "source": [
    "m = Prophet()\n",
    "m.fit(df)"
   ]
  },
  {
   "cell_type": "code",
   "execution_count": 759,
   "id": "55ea47fc-6b7f-4755-a8f3-53921b069f3d",
   "metadata": {},
   "outputs": [],
   "source": [
    "future = m.make_future_dataframe(periods=90)\n",
    "forecast = m.predict(future)"
   ]
  },
  {
   "cell_type": "code",
   "execution_count": 760,
   "id": "59bb8724-c615-46e7-86ab-0557fe6cf0c0",
   "metadata": {},
   "outputs": [
    {
     "data": {
      "application/vnd.plotly.v1+json": {
       "config": {
        "plotlyServerURL": "https://plot.ly"
       },
       "data": [
        {
         "marker": {
          "color": "black",
          "size": 4
         },
         "mode": "markers",
         "name": "Actual",
         "type": "scatter",
         "x": [
          "2022-06-08T00:00:00",
          "2022-06-11T00:00:00",
          "2022-06-12T00:00:00",
          "2022-06-14T00:00:00",
          "2022-06-16T00:00:00",
          "2022-06-17T00:00:00",
          "2022-06-19T00:00:00",
          "2022-06-21T00:00:00",
          "2022-06-22T00:00:00",
          "2022-06-23T00:00:00",
          "2022-06-24T00:00:00",
          "2022-06-25T00:00:00",
          "2022-06-26T00:00:00",
          "2022-06-28T00:00:00",
          "2022-06-29T00:00:00",
          "2022-06-30T00:00:00",
          "2022-07-01T00:00:00",
          "2022-07-02T00:00:00",
          "2022-07-03T00:00:00",
          "2022-07-04T00:00:00",
          "2022-07-05T00:00:00",
          "2022-07-06T00:00:00",
          "2022-07-07T00:00:00",
          "2022-07-08T00:00:00",
          "2022-07-09T00:00:00",
          "2022-07-11T00:00:00",
          "2022-07-12T00:00:00",
          "2022-07-13T00:00:00",
          "2022-07-14T00:00:00",
          "2022-07-19T00:00:00",
          "2022-07-20T00:00:00",
          "2022-07-21T00:00:00",
          "2022-07-22T00:00:00",
          "2022-07-25T00:00:00",
          "2022-07-26T00:00:00",
          "2022-07-27T00:00:00",
          "2022-07-28T00:00:00",
          "2022-07-29T00:00:00",
          "2022-07-30T00:00:00",
          "2022-07-31T00:00:00",
          "2022-08-01T00:00:00",
          "2022-08-02T00:00:00",
          "2022-08-03T00:00:00",
          "2022-08-04T00:00:00",
          "2022-08-05T00:00:00",
          "2022-08-06T00:00:00",
          "2022-08-07T00:00:00",
          "2022-08-08T00:00:00",
          "2022-08-09T00:00:00",
          "2022-08-10T00:00:00",
          "2022-08-12T00:00:00",
          "2022-08-13T00:00:00",
          "2022-08-14T00:00:00",
          "2022-08-15T00:00:00",
          "2022-08-16T00:00:00",
          "2022-08-17T00:00:00",
          "2022-08-18T00:00:00",
          "2022-08-19T00:00:00",
          "2022-08-20T00:00:00",
          "2022-08-21T00:00:00",
          "2022-08-22T00:00:00",
          "2022-08-23T00:00:00",
          "2022-08-24T00:00:00",
          "2022-08-25T00:00:00",
          "2022-08-26T00:00:00",
          "2022-08-29T00:00:00"
         ],
         "y": [
          1,
          2,
          3,
          5,
          6,
          7,
          8,
          9,
          11,
          16,
          17,
          19,
          20,
          21,
          37,
          49,
          64,
          76,
          78,
          80,
          106,
          142,
          172,
          204,
          218,
          228,
          266,
          308,
          347,
          448,
          591,
          604,
          694,
          809,
          865,
          977,
          1066,
          1259,
          1343,
          1370,
          1475,
          1603,
          1721,
          1860,
          2004,
          2108,
          2131,
          2293,
          2415,
          2458,
          2746,
          2848,
          2893,
          2985,
          3183,
          3359,
          3450,
          3655,
          3755,
          3787,
          3896,
          3984,
          4144,
          4216,
          4472,
          4693
         ]
        },
        {
         "hoverinfo": "skip",
         "line": {
          "width": 0
         },
         "mode": "lines",
         "type": "scatter",
         "x": [
          "2022-06-08T00:00:00",
          "2022-06-11T00:00:00",
          "2022-06-12T00:00:00",
          "2022-06-14T00:00:00",
          "2022-06-16T00:00:00",
          "2022-06-17T00:00:00",
          "2022-06-19T00:00:00",
          "2022-06-21T00:00:00",
          "2022-06-22T00:00:00",
          "2022-06-23T00:00:00",
          "2022-06-24T00:00:00",
          "2022-06-25T00:00:00",
          "2022-06-26T00:00:00",
          "2022-06-28T00:00:00",
          "2022-06-29T00:00:00",
          "2022-06-30T00:00:00",
          "2022-07-01T00:00:00",
          "2022-07-02T00:00:00",
          "2022-07-03T00:00:00",
          "2022-07-04T00:00:00",
          "2022-07-05T00:00:00",
          "2022-07-06T00:00:00",
          "2022-07-07T00:00:00",
          "2022-07-08T00:00:00",
          "2022-07-09T00:00:00",
          "2022-07-11T00:00:00",
          "2022-07-12T00:00:00",
          "2022-07-13T00:00:00",
          "2022-07-14T00:00:00",
          "2022-07-19T00:00:00",
          "2022-07-20T00:00:00",
          "2022-07-21T00:00:00",
          "2022-07-22T00:00:00",
          "2022-07-25T00:00:00",
          "2022-07-26T00:00:00",
          "2022-07-27T00:00:00",
          "2022-07-28T00:00:00",
          "2022-07-29T00:00:00",
          "2022-07-30T00:00:00",
          "2022-07-31T00:00:00",
          "2022-08-01T00:00:00",
          "2022-08-02T00:00:00",
          "2022-08-03T00:00:00",
          "2022-08-04T00:00:00",
          "2022-08-05T00:00:00",
          "2022-08-06T00:00:00",
          "2022-08-07T00:00:00",
          "2022-08-08T00:00:00",
          "2022-08-09T00:00:00",
          "2022-08-10T00:00:00",
          "2022-08-12T00:00:00",
          "2022-08-13T00:00:00",
          "2022-08-14T00:00:00",
          "2022-08-15T00:00:00",
          "2022-08-16T00:00:00",
          "2022-08-17T00:00:00",
          "2022-08-18T00:00:00",
          "2022-08-19T00:00:00",
          "2022-08-20T00:00:00",
          "2022-08-21T00:00:00",
          "2022-08-22T00:00:00",
          "2022-08-23T00:00:00",
          "2022-08-24T00:00:00",
          "2022-08-25T00:00:00",
          "2022-08-26T00:00:00",
          "2022-08-29T00:00:00",
          "2022-08-30T00:00:00",
          "2022-08-31T00:00:00",
          "2022-09-01T00:00:00",
          "2022-09-02T00:00:00",
          "2022-09-03T00:00:00",
          "2022-09-04T00:00:00",
          "2022-09-05T00:00:00",
          "2022-09-06T00:00:00",
          "2022-09-07T00:00:00",
          "2022-09-08T00:00:00",
          "2022-09-09T00:00:00",
          "2022-09-10T00:00:00",
          "2022-09-11T00:00:00",
          "2022-09-12T00:00:00",
          "2022-09-13T00:00:00",
          "2022-09-14T00:00:00",
          "2022-09-15T00:00:00",
          "2022-09-16T00:00:00",
          "2022-09-17T00:00:00",
          "2022-09-18T00:00:00",
          "2022-09-19T00:00:00",
          "2022-09-20T00:00:00",
          "2022-09-21T00:00:00",
          "2022-09-22T00:00:00",
          "2022-09-23T00:00:00",
          "2022-09-24T00:00:00",
          "2022-09-25T00:00:00",
          "2022-09-26T00:00:00",
          "2022-09-27T00:00:00",
          "2022-09-28T00:00:00",
          "2022-09-29T00:00:00",
          "2022-09-30T00:00:00",
          "2022-10-01T00:00:00",
          "2022-10-02T00:00:00",
          "2022-10-03T00:00:00",
          "2022-10-04T00:00:00",
          "2022-10-05T00:00:00",
          "2022-10-06T00:00:00",
          "2022-10-07T00:00:00",
          "2022-10-08T00:00:00",
          "2022-10-09T00:00:00",
          "2022-10-10T00:00:00",
          "2022-10-11T00:00:00",
          "2022-10-12T00:00:00",
          "2022-10-13T00:00:00",
          "2022-10-14T00:00:00",
          "2022-10-15T00:00:00",
          "2022-10-16T00:00:00",
          "2022-10-17T00:00:00",
          "2022-10-18T00:00:00",
          "2022-10-19T00:00:00",
          "2022-10-20T00:00:00",
          "2022-10-21T00:00:00",
          "2022-10-22T00:00:00",
          "2022-10-23T00:00:00",
          "2022-10-24T00:00:00",
          "2022-10-25T00:00:00",
          "2022-10-26T00:00:00",
          "2022-10-27T00:00:00",
          "2022-10-28T00:00:00",
          "2022-10-29T00:00:00",
          "2022-10-30T00:00:00",
          "2022-10-31T00:00:00",
          "2022-11-01T00:00:00",
          "2022-11-02T00:00:00",
          "2022-11-03T00:00:00",
          "2022-11-04T00:00:00",
          "2022-11-05T00:00:00",
          "2022-11-06T00:00:00",
          "2022-11-07T00:00:00",
          "2022-11-08T00:00:00",
          "2022-11-09T00:00:00",
          "2022-11-10T00:00:00",
          "2022-11-11T00:00:00",
          "2022-11-12T00:00:00",
          "2022-11-13T00:00:00",
          "2022-11-14T00:00:00",
          "2022-11-15T00:00:00",
          "2022-11-16T00:00:00",
          "2022-11-17T00:00:00",
          "2022-11-18T00:00:00",
          "2022-11-19T00:00:00",
          "2022-11-20T00:00:00",
          "2022-11-21T00:00:00",
          "2022-11-22T00:00:00",
          "2022-11-23T00:00:00",
          "2022-11-24T00:00:00",
          "2022-11-25T00:00:00",
          "2022-11-26T00:00:00",
          "2022-11-27T00:00:00"
         ],
         "y": [
          -34.01776836070405,
          -8.151564582187222,
          -55.15261227959598,
          -47.67190069258807,
          -29.39726073803417,
          11.62486998425565,
          -44.04859654966987,
          -43.31075663161195,
          -19.95516063237071,
          -21.745286317792083,
          19.392955561699196,
          13.936546204153142,
          -29.85491207011187,
          -19.097995223651292,
          4.575803675548311,
          6.552758004499924,
          53.45059556356656,
          58.99239849889996,
          31.666905454110914,
          35.683437920174825,
          74.53671929402277,
          112.16928986791004,
          129.2600304647315,
          187.9264960078014,
          193.66846323484816,
          187.04214839257287,
          234.9042842955015,
          285.62323570343955,
          307.86195675271574,
          442.1762866346506,
          518.7864404567168,
          574.2563816090598,
          673.4135670155507,
          768.2101425989227,
          855.4969128684497,
          941.7725705861051,
          1046.3485622850988,
          1198.43795351866,
          1292.72600254145,
          1357.8768047778499,
          1451.1081951472083,
          1578.9935035234814,
          1706.086780828869,
          1815.8638305930447,
          1965.2913241703643,
          2064.2224465445615,
          2126.7207002259793,
          2221.8057537832015,
          2347.808111794899,
          2476.2331555677565,
          2736.326972387651,
          2831.4327857769294,
          2904.48910155989,
          3010.8085034415476,
          3147.483902161284,
          3284.9178213434484,
          3401.5131860749693,
          3562.437523112908,
          3668.940325280995,
          3741.967379418,
          3847.746198357021,
          3983.1355319588847,
          4122.994403046028,
          4237.712755464784,
          4398.941793068566,
          4685.338483604388,
          4817.874212424286,
          4960.65475734349,
          5073.358287599894,
          5230.814074719614,
          5335.785748898878,
          5403.18155996467,
          5497.384512252509,
          5626.570727355019,
          5754.620765806867,
          5854.728729124951,
          6010.864530997991,
          6106.112633103256,
          6160.769693019008,
          6254.394419496718,
          6375.063353248404,
          6492.0871893048325,
          6591.398774292444,
          6746.722566090471,
          6823.654793448158,
          6878.003308953117,
          6960.284198134469,
          7079.951218954911,
          7203.503975407553,
          7292.73533416602,
          7441.709719022553,
          7523.37673671922,
          7577.774935348419,
          7662.534814396415,
          7764.747405839307,
          7893.2407687297045,
          7979.395735629987,
          8105.5882415437945,
          8206.848484383792,
          8248.719382986188,
          8325.498455204895,
          8439.256387488233,
          8569.831727835448,
          8659.326460536333,
          8795.345094178358,
          8878.08474967279,
          8929.359578070791,
          9007.178336325593,
          9091.614815516334,
          9205.351710865561,
          9292.104550765464,
          9437.751369175805,
          9512.687785827002,
          9542.517667819202,
          9625.168969109887,
          9732.519040643067,
          9843.123670239142,
          9946.017160003066,
          10075.701401767226,
          10163.747922369514,
          10218.331941829767,
          10293.219705224818,
          10400.5297605286,
          10517.899972874142,
          10606.656005482426,
          10740.944333352683,
          10824.026199695894,
          10854.407865197083,
          10918.096378501079,
          11038.316124830977,
          11130.06649812117,
          11215.141698772197,
          11333.128017654724,
          11385.698304949054,
          11438.095575255309,
          11495.184090546241,
          11584.983743251412,
          11701.177366104892,
          11764.425662357138,
          11879.116030694318,
          11955.27918549207,
          12007.522436315776,
          12069.78587722545,
          12186.48472111278,
          12300.286817375852,
          12379.171086284901,
          12495.071897503285,
          12572.203554711998,
          12617.940106300195,
          12682.237929608216,
          12770.063087426342,
          12875.043227254122,
          12959.403853696853,
          13099.52086352621,
          13167.761397075214,
          13179.310042675435
         ]
        },
        {
         "fill": "tonexty",
         "fillcolor": "rgba(0, 114, 178, 0.2)",
         "line": {
          "color": "#0072B2",
          "width": 2
         },
         "mode": "lines",
         "name": "Predicted",
         "type": "scatter",
         "x": [
          "2022-06-08T00:00:00",
          "2022-06-11T00:00:00",
          "2022-06-12T00:00:00",
          "2022-06-14T00:00:00",
          "2022-06-16T00:00:00",
          "2022-06-17T00:00:00",
          "2022-06-19T00:00:00",
          "2022-06-21T00:00:00",
          "2022-06-22T00:00:00",
          "2022-06-23T00:00:00",
          "2022-06-24T00:00:00",
          "2022-06-25T00:00:00",
          "2022-06-26T00:00:00",
          "2022-06-28T00:00:00",
          "2022-06-29T00:00:00",
          "2022-06-30T00:00:00",
          "2022-07-01T00:00:00",
          "2022-07-02T00:00:00",
          "2022-07-03T00:00:00",
          "2022-07-04T00:00:00",
          "2022-07-05T00:00:00",
          "2022-07-06T00:00:00",
          "2022-07-07T00:00:00",
          "2022-07-08T00:00:00",
          "2022-07-09T00:00:00",
          "2022-07-11T00:00:00",
          "2022-07-12T00:00:00",
          "2022-07-13T00:00:00",
          "2022-07-14T00:00:00",
          "2022-07-19T00:00:00",
          "2022-07-20T00:00:00",
          "2022-07-21T00:00:00",
          "2022-07-22T00:00:00",
          "2022-07-25T00:00:00",
          "2022-07-26T00:00:00",
          "2022-07-27T00:00:00",
          "2022-07-28T00:00:00",
          "2022-07-29T00:00:00",
          "2022-07-30T00:00:00",
          "2022-07-31T00:00:00",
          "2022-08-01T00:00:00",
          "2022-08-02T00:00:00",
          "2022-08-03T00:00:00",
          "2022-08-04T00:00:00",
          "2022-08-05T00:00:00",
          "2022-08-06T00:00:00",
          "2022-08-07T00:00:00",
          "2022-08-08T00:00:00",
          "2022-08-09T00:00:00",
          "2022-08-10T00:00:00",
          "2022-08-12T00:00:00",
          "2022-08-13T00:00:00",
          "2022-08-14T00:00:00",
          "2022-08-15T00:00:00",
          "2022-08-16T00:00:00",
          "2022-08-17T00:00:00",
          "2022-08-18T00:00:00",
          "2022-08-19T00:00:00",
          "2022-08-20T00:00:00",
          "2022-08-21T00:00:00",
          "2022-08-22T00:00:00",
          "2022-08-23T00:00:00",
          "2022-08-24T00:00:00",
          "2022-08-25T00:00:00",
          "2022-08-26T00:00:00",
          "2022-08-29T00:00:00",
          "2022-08-30T00:00:00",
          "2022-08-31T00:00:00",
          "2022-09-01T00:00:00",
          "2022-09-02T00:00:00",
          "2022-09-03T00:00:00",
          "2022-09-04T00:00:00",
          "2022-09-05T00:00:00",
          "2022-09-06T00:00:00",
          "2022-09-07T00:00:00",
          "2022-09-08T00:00:00",
          "2022-09-09T00:00:00",
          "2022-09-10T00:00:00",
          "2022-09-11T00:00:00",
          "2022-09-12T00:00:00",
          "2022-09-13T00:00:00",
          "2022-09-14T00:00:00",
          "2022-09-15T00:00:00",
          "2022-09-16T00:00:00",
          "2022-09-17T00:00:00",
          "2022-09-18T00:00:00",
          "2022-09-19T00:00:00",
          "2022-09-20T00:00:00",
          "2022-09-21T00:00:00",
          "2022-09-22T00:00:00",
          "2022-09-23T00:00:00",
          "2022-09-24T00:00:00",
          "2022-09-25T00:00:00",
          "2022-09-26T00:00:00",
          "2022-09-27T00:00:00",
          "2022-09-28T00:00:00",
          "2022-09-29T00:00:00",
          "2022-09-30T00:00:00",
          "2022-10-01T00:00:00",
          "2022-10-02T00:00:00",
          "2022-10-03T00:00:00",
          "2022-10-04T00:00:00",
          "2022-10-05T00:00:00",
          "2022-10-06T00:00:00",
          "2022-10-07T00:00:00",
          "2022-10-08T00:00:00",
          "2022-10-09T00:00:00",
          "2022-10-10T00:00:00",
          "2022-10-11T00:00:00",
          "2022-10-12T00:00:00",
          "2022-10-13T00:00:00",
          "2022-10-14T00:00:00",
          "2022-10-15T00:00:00",
          "2022-10-16T00:00:00",
          "2022-10-17T00:00:00",
          "2022-10-18T00:00:00",
          "2022-10-19T00:00:00",
          "2022-10-20T00:00:00",
          "2022-10-21T00:00:00",
          "2022-10-22T00:00:00",
          "2022-10-23T00:00:00",
          "2022-10-24T00:00:00",
          "2022-10-25T00:00:00",
          "2022-10-26T00:00:00",
          "2022-10-27T00:00:00",
          "2022-10-28T00:00:00",
          "2022-10-29T00:00:00",
          "2022-10-30T00:00:00",
          "2022-10-31T00:00:00",
          "2022-11-01T00:00:00",
          "2022-11-02T00:00:00",
          "2022-11-03T00:00:00",
          "2022-11-04T00:00:00",
          "2022-11-05T00:00:00",
          "2022-11-06T00:00:00",
          "2022-11-07T00:00:00",
          "2022-11-08T00:00:00",
          "2022-11-09T00:00:00",
          "2022-11-10T00:00:00",
          "2022-11-11T00:00:00",
          "2022-11-12T00:00:00",
          "2022-11-13T00:00:00",
          "2022-11-14T00:00:00",
          "2022-11-15T00:00:00",
          "2022-11-16T00:00:00",
          "2022-11-17T00:00:00",
          "2022-11-18T00:00:00",
          "2022-11-19T00:00:00",
          "2022-11-20T00:00:00",
          "2022-11-21T00:00:00",
          "2022-11-22T00:00:00",
          "2022-11-23T00:00:00",
          "2022-11-24T00:00:00",
          "2022-11-25T00:00:00",
          "2022-11-26T00:00:00",
          "2022-11-27T00:00:00"
         ],
         "y": [
          -3.579940852129424,
          24.56406996844185,
          -20.651067864590217,
          -16.262130840187936,
          1.9056643615621764,
          44.088391474252106,
          -12.974891996155653,
          -8.585847128576324,
          11.772209476788415,
          9.583797855067438,
          51.76822481894419,
          43.530661361688786,
          1.926335299678449,
          13.592371446852972,
          37.588923691971765,
          39.08166109350106,
          84.94723708080703,
          91.10537660783815,
          63.89675353007581,
          67.81876820382786,
          104.3037924711155,
          142.6955821721309,
          158.53916170742227,
          218.7632199180053,
          224.95629058287884,
          220.93719709947393,
          267.0547013324314,
          315.05423494001997,
          341.7585607660902,
          475.73931994587065,
          551.8780529376895,
          605.4685757637686,
          703.4465000695458,
          799.6818679028931,
          886.08013257254,
          974.3604266169453,
          1080.1544766907775,
          1230.3213653502385,
          1326.4649586918274,
          1389.2417894284386,
          1483.1847443281372,
          1609.6907088212988,
          1738.9379680965428,
          1845.6370172061158,
          1996.7247490988198,
          2093.7814934460125,
          2157.476163071902,
          2252.298915459871,
          2379.6883288128433,
          2508.9597715405775,
          2766.7860539015087,
          2863.8546268293353,
          2937.098622481616,
          3041.4707008959344,
          3178.405788903832,
          3317.2229062864403,
          3433.491813503352,
          3594.1335593059043,
          3700.744317562955,
          3773.9883132152063,
          3878.360391629538,
          4015.2954796374283,
          4154.112597020119,
          4270.381504237048,
          4431.023250039617,
          4715.250082363234,
          4852.1851703711145,
          4991.002287753787,
          5107.271194970745,
          5267.912940773332,
          5374.52369903042,
          5447.767694682516,
          5552.139773096929,
          5689.074861104831,
          5827.89197848748,
          5944.160885704337,
          6104.802631506994,
          6211.413389764078,
          6284.657385416148,
          6389.029463830623,
          6525.964551838487,
          6664.781669221144,
          6781.050576438031,
          6941.692322240708,
          7048.303080497698,
          7121.547076149966,
          7225.919154564226,
          7362.854242572204,
          7501.671359954824,
          7617.940267171728,
          7778.582012974398,
          7885.192771231395,
          7958.436766883644,
          8062.808845297964,
          8199.74393330592,
          8338.561050688504,
          8454.829957905422,
          8615.471703707988,
          8722.082461965014,
          8795.326457617231,
          8899.698536031614,
          9036.633624039603,
          9175.450741422184,
          9291.719648639111,
          9452.361394441676,
          9558.972152698634,
          9632.21614835091,
          9736.588226765312,
          9873.5233147732,
          10012.34043215585,
          10128.609339372813,
          10289.251085175392,
          10395.861843432482,
          10469.105839084727,
          10573.477917499007,
          10710.413005506887,
          10849.230122889545,
          10965.4990301065,
          11126.140775909078,
          11232.751534166098,
          11305.995529818403,
          11410.3676082327,
          11547.302696240602,
          11686.119813623209,
          11802.388720840103,
          11963.030466642766,
          12069.641224899757,
          12142.885220551992,
          12247.257298966357,
          12384.19238697417,
          12523.009504356876,
          12639.278411573798,
          12799.920157376457,
          12906.530915633417,
          12979.774911285669,
          13084.1469897,
          13221.082077707886,
          13359.899195090555,
          13476.16810230749,
          13636.809848110168,
          13743.420606367223,
          13816.664602019344,
          13921.036680433694,
          14057.971768441568,
          14196.788885824235,
          14313.05779304118,
          14473.699538843737,
          14580.310297100843,
          14653.554292752933,
          14757.92637116739,
          14894.861459175256,
          15033.678576557917,
          15149.94748377487,
          15310.58922957745,
          15417.199987834503,
          15490.44398348661
         ]
        },
        {
         "fill": "tonexty",
         "fillcolor": "rgba(0, 114, 178, 0.2)",
         "hoverinfo": "skip",
         "line": {
          "width": 0
         },
         "mode": "lines",
         "type": "scatter",
         "x": [
          "2022-06-08T00:00:00",
          "2022-06-11T00:00:00",
          "2022-06-12T00:00:00",
          "2022-06-14T00:00:00",
          "2022-06-16T00:00:00",
          "2022-06-17T00:00:00",
          "2022-06-19T00:00:00",
          "2022-06-21T00:00:00",
          "2022-06-22T00:00:00",
          "2022-06-23T00:00:00",
          "2022-06-24T00:00:00",
          "2022-06-25T00:00:00",
          "2022-06-26T00:00:00",
          "2022-06-28T00:00:00",
          "2022-06-29T00:00:00",
          "2022-06-30T00:00:00",
          "2022-07-01T00:00:00",
          "2022-07-02T00:00:00",
          "2022-07-03T00:00:00",
          "2022-07-04T00:00:00",
          "2022-07-05T00:00:00",
          "2022-07-06T00:00:00",
          "2022-07-07T00:00:00",
          "2022-07-08T00:00:00",
          "2022-07-09T00:00:00",
          "2022-07-11T00:00:00",
          "2022-07-12T00:00:00",
          "2022-07-13T00:00:00",
          "2022-07-14T00:00:00",
          "2022-07-19T00:00:00",
          "2022-07-20T00:00:00",
          "2022-07-21T00:00:00",
          "2022-07-22T00:00:00",
          "2022-07-25T00:00:00",
          "2022-07-26T00:00:00",
          "2022-07-27T00:00:00",
          "2022-07-28T00:00:00",
          "2022-07-29T00:00:00",
          "2022-07-30T00:00:00",
          "2022-07-31T00:00:00",
          "2022-08-01T00:00:00",
          "2022-08-02T00:00:00",
          "2022-08-03T00:00:00",
          "2022-08-04T00:00:00",
          "2022-08-05T00:00:00",
          "2022-08-06T00:00:00",
          "2022-08-07T00:00:00",
          "2022-08-08T00:00:00",
          "2022-08-09T00:00:00",
          "2022-08-10T00:00:00",
          "2022-08-12T00:00:00",
          "2022-08-13T00:00:00",
          "2022-08-14T00:00:00",
          "2022-08-15T00:00:00",
          "2022-08-16T00:00:00",
          "2022-08-17T00:00:00",
          "2022-08-18T00:00:00",
          "2022-08-19T00:00:00",
          "2022-08-20T00:00:00",
          "2022-08-21T00:00:00",
          "2022-08-22T00:00:00",
          "2022-08-23T00:00:00",
          "2022-08-24T00:00:00",
          "2022-08-25T00:00:00",
          "2022-08-26T00:00:00",
          "2022-08-29T00:00:00",
          "2022-08-30T00:00:00",
          "2022-08-31T00:00:00",
          "2022-09-01T00:00:00",
          "2022-09-02T00:00:00",
          "2022-09-03T00:00:00",
          "2022-09-04T00:00:00",
          "2022-09-05T00:00:00",
          "2022-09-06T00:00:00",
          "2022-09-07T00:00:00",
          "2022-09-08T00:00:00",
          "2022-09-09T00:00:00",
          "2022-09-10T00:00:00",
          "2022-09-11T00:00:00",
          "2022-09-12T00:00:00",
          "2022-09-13T00:00:00",
          "2022-09-14T00:00:00",
          "2022-09-15T00:00:00",
          "2022-09-16T00:00:00",
          "2022-09-17T00:00:00",
          "2022-09-18T00:00:00",
          "2022-09-19T00:00:00",
          "2022-09-20T00:00:00",
          "2022-09-21T00:00:00",
          "2022-09-22T00:00:00",
          "2022-09-23T00:00:00",
          "2022-09-24T00:00:00",
          "2022-09-25T00:00:00",
          "2022-09-26T00:00:00",
          "2022-09-27T00:00:00",
          "2022-09-28T00:00:00",
          "2022-09-29T00:00:00",
          "2022-09-30T00:00:00",
          "2022-10-01T00:00:00",
          "2022-10-02T00:00:00",
          "2022-10-03T00:00:00",
          "2022-10-04T00:00:00",
          "2022-10-05T00:00:00",
          "2022-10-06T00:00:00",
          "2022-10-07T00:00:00",
          "2022-10-08T00:00:00",
          "2022-10-09T00:00:00",
          "2022-10-10T00:00:00",
          "2022-10-11T00:00:00",
          "2022-10-12T00:00:00",
          "2022-10-13T00:00:00",
          "2022-10-14T00:00:00",
          "2022-10-15T00:00:00",
          "2022-10-16T00:00:00",
          "2022-10-17T00:00:00",
          "2022-10-18T00:00:00",
          "2022-10-19T00:00:00",
          "2022-10-20T00:00:00",
          "2022-10-21T00:00:00",
          "2022-10-22T00:00:00",
          "2022-10-23T00:00:00",
          "2022-10-24T00:00:00",
          "2022-10-25T00:00:00",
          "2022-10-26T00:00:00",
          "2022-10-27T00:00:00",
          "2022-10-28T00:00:00",
          "2022-10-29T00:00:00",
          "2022-10-30T00:00:00",
          "2022-10-31T00:00:00",
          "2022-11-01T00:00:00",
          "2022-11-02T00:00:00",
          "2022-11-03T00:00:00",
          "2022-11-04T00:00:00",
          "2022-11-05T00:00:00",
          "2022-11-06T00:00:00",
          "2022-11-07T00:00:00",
          "2022-11-08T00:00:00",
          "2022-11-09T00:00:00",
          "2022-11-10T00:00:00",
          "2022-11-11T00:00:00",
          "2022-11-12T00:00:00",
          "2022-11-13T00:00:00",
          "2022-11-14T00:00:00",
          "2022-11-15T00:00:00",
          "2022-11-16T00:00:00",
          "2022-11-17T00:00:00",
          "2022-11-18T00:00:00",
          "2022-11-19T00:00:00",
          "2022-11-20T00:00:00",
          "2022-11-21T00:00:00",
          "2022-11-22T00:00:00",
          "2022-11-23T00:00:00",
          "2022-11-24T00:00:00",
          "2022-11-25T00:00:00",
          "2022-11-26T00:00:00",
          "2022-11-27T00:00:00"
         ],
         "y": [
          27.268735607095202,
          56.062220625853094,
          12.068568112007835,
          14.746611615006222,
          34.76786045659162,
          76.35908536425049,
          17.89492664561545,
          18.72913587607858,
          45.08573293829286,
          41.175366579115384,
          82.53462469240337,
          72.48606976246612,
          33.310943468992896,
          44.42651634992291,
          69.75299003904259,
          70.90928605520213,
          116.64761374233093,
          121.37937269764294,
          93.62367657630699,
          98.8436829501842,
          138.5171233975941,
          173.45582690012472,
          191.59675721746478,
          249.69976944101907,
          256.48255545432517,
          250.30225689225637,
          299.2737494915016,
          347.55772788969404,
          371.5529505192914,
          507.94056669853813,
          583.1599255346662,
          637.0015468300181,
          734.233557528586,
          833.3446188657673,
          921.1074275378515,
          1008.0072330649973,
          1112.8825464027336,
          1263.302914577235,
          1358.9371403327245,
          1419.6147019829,
          1514.2991572332562,
          1639.6324712600974,
          1769.8491159147352,
          1877.3339308490451,
          2025.8521277965287,
          2126.0052740662372,
          2188.405803896315,
          2283.1002747276953,
          2412.1177991443815,
          2539.9383478857367,
          2797.8945452774265,
          2894.451690062402,
          2969.435574322774,
          3070.9593885749873,
          3210.4723511988273,
          3350.0358547359783,
          3464.328944292809,
          3625.6363784652535,
          3732.137136849658,
          3805.992985135384,
          3910.8973534154725,
          4048.158918678943,
          4186.7672898648325,
          4303.1365253580625,
          4464.029031635798,
          4746.217457571361,
          4885.7049180948725,
          5023.273260529796,
          5139.476545000285,
          5305.465627302782,
          5415.675411442548,
          5490.164445575299,
          5601.77692851428,
          5748.658864239464,
          5895.5780958479245,
          6026.278588073234,
          6198.3394175173335,
          6319.5442304364515,
          6404.4574623130475,
          6516.456049277104,
          6673.53149202264,
          6831.991631186886,
          6962.5584904069,
          7142.905238819398,
          7258.64494550523,
          7355.186203477095,
          7472.112649772041,
          7636.084294495932,
          7784.708432314883,
          7917.8116999886215,
          8102.07151331208,
          8237.806571811594,
          8322.937174186227,
          8449.45416517893,
          8607.680752460117,
          8778.15386600321,
          8894.712146972803,
          9097.248924000089,
          9203.538143240825,
          9305.372605222563,
          9433.278885674406,
          9615.874261796895,
          9752.832005526354,
          9903.93343755946,
          10093.4759985801,
          10223.40131408212,
          10324.970787502529,
          10443.676429689545,
          10606.038925483514,
          10782.043948785096,
          10912.612849498413,
          11099.169775579732,
          11236.818218797687,
          11321.149754218046,
          11446.871652860294,
          11619.12561174882,
          11794.682875275634,
          11921.626807811122,
          12126.789526877867,
          12256.685361962973,
          12354.118268298384,
          12487.022524702927,
          12643.334205313047,
          12810.908787597866,
          12942.36556714855,
          13128.924023931042,
          13274.981150962845,
          13377.658473782938,
          13514.73095252262,
          13700.315738490553,
          13843.513235970673,
          14005.98756643519,
          14199.912191551397,
          14342.615401336025,
          14444.705819848417,
          14586.18055103434,
          14764.769601175949,
          14936.94052236448,
          15084.0771165401,
          15272.095295778,
          15417.062149404497,
          15514.06152796013,
          15653.124860570058,
          15830.452083027129,
          16009.01462045618,
          16169.49941055694,
          16370.63538412625,
          16509.935000845468,
          16637.05672089775,
          16769.341772712538,
          16961.41319473599,
          17129.73881768052,
          17292.488111512725,
          17508.787342418833,
          17645.567526518604,
          17785.1492437088
         ]
        }
       ],
       "layout": {
        "height": 600,
        "showlegend": false,
        "template": {
         "data": {
          "bar": [
           {
            "error_x": {
             "color": "#2a3f5f"
            },
            "error_y": {
             "color": "#2a3f5f"
            },
            "marker": {
             "line": {
              "color": "#E5ECF6",
              "width": 0.5
             },
             "pattern": {
              "fillmode": "overlay",
              "size": 10,
              "solidity": 0.2
             }
            },
            "type": "bar"
           }
          ],
          "barpolar": [
           {
            "marker": {
             "line": {
              "color": "#E5ECF6",
              "width": 0.5
             },
             "pattern": {
              "fillmode": "overlay",
              "size": 10,
              "solidity": 0.2
             }
            },
            "type": "barpolar"
           }
          ],
          "carpet": [
           {
            "aaxis": {
             "endlinecolor": "#2a3f5f",
             "gridcolor": "white",
             "linecolor": "white",
             "minorgridcolor": "white",
             "startlinecolor": "#2a3f5f"
            },
            "baxis": {
             "endlinecolor": "#2a3f5f",
             "gridcolor": "white",
             "linecolor": "white",
             "minorgridcolor": "white",
             "startlinecolor": "#2a3f5f"
            },
            "type": "carpet"
           }
          ],
          "choropleth": [
           {
            "colorbar": {
             "outlinewidth": 0,
             "ticks": ""
            },
            "type": "choropleth"
           }
          ],
          "contour": [
           {
            "colorbar": {
             "outlinewidth": 0,
             "ticks": ""
            },
            "colorscale": [
             [
              0,
              "#0d0887"
             ],
             [
              0.1111111111111111,
              "#46039f"
             ],
             [
              0.2222222222222222,
              "#7201a8"
             ],
             [
              0.3333333333333333,
              "#9c179e"
             ],
             [
              0.4444444444444444,
              "#bd3786"
             ],
             [
              0.5555555555555556,
              "#d8576b"
             ],
             [
              0.6666666666666666,
              "#ed7953"
             ],
             [
              0.7777777777777778,
              "#fb9f3a"
             ],
             [
              0.8888888888888888,
              "#fdca26"
             ],
             [
              1,
              "#f0f921"
             ]
            ],
            "type": "contour"
           }
          ],
          "contourcarpet": [
           {
            "colorbar": {
             "outlinewidth": 0,
             "ticks": ""
            },
            "type": "contourcarpet"
           }
          ],
          "heatmap": [
           {
            "colorbar": {
             "outlinewidth": 0,
             "ticks": ""
            },
            "colorscale": [
             [
              0,
              "#0d0887"
             ],
             [
              0.1111111111111111,
              "#46039f"
             ],
             [
              0.2222222222222222,
              "#7201a8"
             ],
             [
              0.3333333333333333,
              "#9c179e"
             ],
             [
              0.4444444444444444,
              "#bd3786"
             ],
             [
              0.5555555555555556,
              "#d8576b"
             ],
             [
              0.6666666666666666,
              "#ed7953"
             ],
             [
              0.7777777777777778,
              "#fb9f3a"
             ],
             [
              0.8888888888888888,
              "#fdca26"
             ],
             [
              1,
              "#f0f921"
             ]
            ],
            "type": "heatmap"
           }
          ],
          "heatmapgl": [
           {
            "colorbar": {
             "outlinewidth": 0,
             "ticks": ""
            },
            "colorscale": [
             [
              0,
              "#0d0887"
             ],
             [
              0.1111111111111111,
              "#46039f"
             ],
             [
              0.2222222222222222,
              "#7201a8"
             ],
             [
              0.3333333333333333,
              "#9c179e"
             ],
             [
              0.4444444444444444,
              "#bd3786"
             ],
             [
              0.5555555555555556,
              "#d8576b"
             ],
             [
              0.6666666666666666,
              "#ed7953"
             ],
             [
              0.7777777777777778,
              "#fb9f3a"
             ],
             [
              0.8888888888888888,
              "#fdca26"
             ],
             [
              1,
              "#f0f921"
             ]
            ],
            "type": "heatmapgl"
           }
          ],
          "histogram": [
           {
            "marker": {
             "pattern": {
              "fillmode": "overlay",
              "size": 10,
              "solidity": 0.2
             }
            },
            "type": "histogram"
           }
          ],
          "histogram2d": [
           {
            "colorbar": {
             "outlinewidth": 0,
             "ticks": ""
            },
            "colorscale": [
             [
              0,
              "#0d0887"
             ],
             [
              0.1111111111111111,
              "#46039f"
             ],
             [
              0.2222222222222222,
              "#7201a8"
             ],
             [
              0.3333333333333333,
              "#9c179e"
             ],
             [
              0.4444444444444444,
              "#bd3786"
             ],
             [
              0.5555555555555556,
              "#d8576b"
             ],
             [
              0.6666666666666666,
              "#ed7953"
             ],
             [
              0.7777777777777778,
              "#fb9f3a"
             ],
             [
              0.8888888888888888,
              "#fdca26"
             ],
             [
              1,
              "#f0f921"
             ]
            ],
            "type": "histogram2d"
           }
          ],
          "histogram2dcontour": [
           {
            "colorbar": {
             "outlinewidth": 0,
             "ticks": ""
            },
            "colorscale": [
             [
              0,
              "#0d0887"
             ],
             [
              0.1111111111111111,
              "#46039f"
             ],
             [
              0.2222222222222222,
              "#7201a8"
             ],
             [
              0.3333333333333333,
              "#9c179e"
             ],
             [
              0.4444444444444444,
              "#bd3786"
             ],
             [
              0.5555555555555556,
              "#d8576b"
             ],
             [
              0.6666666666666666,
              "#ed7953"
             ],
             [
              0.7777777777777778,
              "#fb9f3a"
             ],
             [
              0.8888888888888888,
              "#fdca26"
             ],
             [
              1,
              "#f0f921"
             ]
            ],
            "type": "histogram2dcontour"
           }
          ],
          "mesh3d": [
           {
            "colorbar": {
             "outlinewidth": 0,
             "ticks": ""
            },
            "type": "mesh3d"
           }
          ],
          "parcoords": [
           {
            "line": {
             "colorbar": {
              "outlinewidth": 0,
              "ticks": ""
             }
            },
            "type": "parcoords"
           }
          ],
          "pie": [
           {
            "automargin": true,
            "type": "pie"
           }
          ],
          "scatter": [
           {
            "marker": {
             "colorbar": {
              "outlinewidth": 0,
              "ticks": ""
             }
            },
            "type": "scatter"
           }
          ],
          "scatter3d": [
           {
            "line": {
             "colorbar": {
              "outlinewidth": 0,
              "ticks": ""
             }
            },
            "marker": {
             "colorbar": {
              "outlinewidth": 0,
              "ticks": ""
             }
            },
            "type": "scatter3d"
           }
          ],
          "scattercarpet": [
           {
            "marker": {
             "colorbar": {
              "outlinewidth": 0,
              "ticks": ""
             }
            },
            "type": "scattercarpet"
           }
          ],
          "scattergeo": [
           {
            "marker": {
             "colorbar": {
              "outlinewidth": 0,
              "ticks": ""
             }
            },
            "type": "scattergeo"
           }
          ],
          "scattergl": [
           {
            "marker": {
             "colorbar": {
              "outlinewidth": 0,
              "ticks": ""
             }
            },
            "type": "scattergl"
           }
          ],
          "scattermapbox": [
           {
            "marker": {
             "colorbar": {
              "outlinewidth": 0,
              "ticks": ""
             }
            },
            "type": "scattermapbox"
           }
          ],
          "scatterpolar": [
           {
            "marker": {
             "colorbar": {
              "outlinewidth": 0,
              "ticks": ""
             }
            },
            "type": "scatterpolar"
           }
          ],
          "scatterpolargl": [
           {
            "marker": {
             "colorbar": {
              "outlinewidth": 0,
              "ticks": ""
             }
            },
            "type": "scatterpolargl"
           }
          ],
          "scatterternary": [
           {
            "marker": {
             "colorbar": {
              "outlinewidth": 0,
              "ticks": ""
             }
            },
            "type": "scatterternary"
           }
          ],
          "surface": [
           {
            "colorbar": {
             "outlinewidth": 0,
             "ticks": ""
            },
            "colorscale": [
             [
              0,
              "#0d0887"
             ],
             [
              0.1111111111111111,
              "#46039f"
             ],
             [
              0.2222222222222222,
              "#7201a8"
             ],
             [
              0.3333333333333333,
              "#9c179e"
             ],
             [
              0.4444444444444444,
              "#bd3786"
             ],
             [
              0.5555555555555556,
              "#d8576b"
             ],
             [
              0.6666666666666666,
              "#ed7953"
             ],
             [
              0.7777777777777778,
              "#fb9f3a"
             ],
             [
              0.8888888888888888,
              "#fdca26"
             ],
             [
              1,
              "#f0f921"
             ]
            ],
            "type": "surface"
           }
          ],
          "table": [
           {
            "cells": {
             "fill": {
              "color": "#EBF0F8"
             },
             "line": {
              "color": "white"
             }
            },
            "header": {
             "fill": {
              "color": "#C8D4E3"
             },
             "line": {
              "color": "white"
             }
            },
            "type": "table"
           }
          ]
         },
         "layout": {
          "annotationdefaults": {
           "arrowcolor": "#2a3f5f",
           "arrowhead": 0,
           "arrowwidth": 1
          },
          "autotypenumbers": "strict",
          "coloraxis": {
           "colorbar": {
            "outlinewidth": 0,
            "ticks": ""
           }
          },
          "colorscale": {
           "diverging": [
            [
             0,
             "#8e0152"
            ],
            [
             0.1,
             "#c51b7d"
            ],
            [
             0.2,
             "#de77ae"
            ],
            [
             0.3,
             "#f1b6da"
            ],
            [
             0.4,
             "#fde0ef"
            ],
            [
             0.5,
             "#f7f7f7"
            ],
            [
             0.6,
             "#e6f5d0"
            ],
            [
             0.7,
             "#b8e186"
            ],
            [
             0.8,
             "#7fbc41"
            ],
            [
             0.9,
             "#4d9221"
            ],
            [
             1,
             "#276419"
            ]
           ],
           "sequential": [
            [
             0,
             "#0d0887"
            ],
            [
             0.1111111111111111,
             "#46039f"
            ],
            [
             0.2222222222222222,
             "#7201a8"
            ],
            [
             0.3333333333333333,
             "#9c179e"
            ],
            [
             0.4444444444444444,
             "#bd3786"
            ],
            [
             0.5555555555555556,
             "#d8576b"
            ],
            [
             0.6666666666666666,
             "#ed7953"
            ],
            [
             0.7777777777777778,
             "#fb9f3a"
            ],
            [
             0.8888888888888888,
             "#fdca26"
            ],
            [
             1,
             "#f0f921"
            ]
           ],
           "sequentialminus": [
            [
             0,
             "#0d0887"
            ],
            [
             0.1111111111111111,
             "#46039f"
            ],
            [
             0.2222222222222222,
             "#7201a8"
            ],
            [
             0.3333333333333333,
             "#9c179e"
            ],
            [
             0.4444444444444444,
             "#bd3786"
            ],
            [
             0.5555555555555556,
             "#d8576b"
            ],
            [
             0.6666666666666666,
             "#ed7953"
            ],
            [
             0.7777777777777778,
             "#fb9f3a"
            ],
            [
             0.8888888888888888,
             "#fdca26"
            ],
            [
             1,
             "#f0f921"
            ]
           ]
          },
          "colorway": [
           "#636efa",
           "#EF553B",
           "#00cc96",
           "#ab63fa",
           "#FFA15A",
           "#19d3f3",
           "#FF6692",
           "#B6E880",
           "#FF97FF",
           "#FECB52"
          ],
          "font": {
           "color": "#2a3f5f"
          },
          "geo": {
           "bgcolor": "white",
           "lakecolor": "white",
           "landcolor": "#E5ECF6",
           "showlakes": true,
           "showland": true,
           "subunitcolor": "white"
          },
          "hoverlabel": {
           "align": "left"
          },
          "hovermode": "closest",
          "mapbox": {
           "style": "light"
          },
          "paper_bgcolor": "white",
          "plot_bgcolor": "#E5ECF6",
          "polar": {
           "angularaxis": {
            "gridcolor": "white",
            "linecolor": "white",
            "ticks": ""
           },
           "bgcolor": "#E5ECF6",
           "radialaxis": {
            "gridcolor": "white",
            "linecolor": "white",
            "ticks": ""
           }
          },
          "scene": {
           "xaxis": {
            "backgroundcolor": "#E5ECF6",
            "gridcolor": "white",
            "gridwidth": 2,
            "linecolor": "white",
            "showbackground": true,
            "ticks": "",
            "zerolinecolor": "white"
           },
           "yaxis": {
            "backgroundcolor": "#E5ECF6",
            "gridcolor": "white",
            "gridwidth": 2,
            "linecolor": "white",
            "showbackground": true,
            "ticks": "",
            "zerolinecolor": "white"
           },
           "zaxis": {
            "backgroundcolor": "#E5ECF6",
            "gridcolor": "white",
            "gridwidth": 2,
            "linecolor": "white",
            "showbackground": true,
            "ticks": "",
            "zerolinecolor": "white"
           }
          },
          "shapedefaults": {
           "line": {
            "color": "#2a3f5f"
           }
          },
          "ternary": {
           "aaxis": {
            "gridcolor": "white",
            "linecolor": "white",
            "ticks": ""
           },
           "baxis": {
            "gridcolor": "white",
            "linecolor": "white",
            "ticks": ""
           },
           "bgcolor": "#E5ECF6",
           "caxis": {
            "gridcolor": "white",
            "linecolor": "white",
            "ticks": ""
           }
          },
          "title": {
           "x": 0.05
          },
          "xaxis": {
           "automargin": true,
           "gridcolor": "white",
           "linecolor": "white",
           "ticks": "",
           "title": {
            "standoff": 15
           },
           "zerolinecolor": "white",
           "zerolinewidth": 2
          },
          "yaxis": {
           "automargin": true,
           "gridcolor": "white",
           "linecolor": "white",
           "ticks": "",
           "title": {
            "standoff": 15
           },
           "zerolinecolor": "white",
           "zerolinewidth": 2
          }
         }
        },
        "width": 900,
        "xaxis": {
         "autorange": true,
         "range": [
          "2022-05-29 04:06:51.4286",
          "2022-11-27"
         ],
         "rangeselector": {
          "buttons": [
           {
            "count": 7,
            "label": "1w",
            "step": "day",
            "stepmode": "backward"
           },
           {
            "count": 1,
            "label": "1m",
            "step": "month",
            "stepmode": "backward"
           },
           {
            "count": 6,
            "label": "6m",
            "step": "month",
            "stepmode": "backward"
           },
           {
            "count": 1,
            "label": "1y",
            "step": "year",
            "stepmode": "backward"
           },
           {
            "step": "all"
           }
          ]
         },
         "rangeslider": {
          "autorange": true,
          "range": [
           "2022-05-29 04:06:51.4286",
           "2022-11-27"
          ],
          "visible": true,
          "yaxis": {
           "_template": null,
           "rangemode": "match"
          }
         },
         "title": {
          "text": "ds"
         },
         "type": "date"
        },
        "yaxis": {
         "autorange": true,
         "range": [
          -1180.9355385798206,
          18783.364232250307
         ],
         "title": {
          "text": "y"
         },
         "type": "linear"
        }
       }
      },
      "image/png": "[encoded data removed]",
      "text/html": [
       "<div>                            <div id=\"d5eb5f35-f377-45a8-a9e2-a7bf75d7f59e\" class=\"plotly-graph-div\" style=\"height:600px; width:900px;\"></div>            <script type=\"text/javascript\">                require([\"plotly\"], function(Plotly) {                    window.PLOTLYENV=window.PLOTLYENV || {};                                    if (document.getElementById(\"d5eb5f35-f377-45a8-a9e2-a7bf75d7f59e\")) {                    Plotly.newPlot(                        \"d5eb5f35-f377-45a8-a9e2-a7bf75d7f59e\",                        [{\"marker\":{\"color\":\"black\",\"size\":4},\"mode\":\"markers\",\"name\":\"Actual\",\"type\":\"scatter\",\"x\":[\"2022-06-08T00:00:00\",\"2022-06-11T00:00:00\",\"2022-06-12T00:00:00\",\"2022-06-14T00:00:00\",\"2022-06-16T00:00:00\",\"2022-06-17T00:00:00\",\"2022-06-19T00:00:00\",\"2022-06-21T00:00:00\",\"2022-06-22T00:00:00\",\"2022-06-23T00:00:00\",\"2022-06-24T00:00:00\",\"2022-06-25T00:00:00\",\"2022-06-26T00:00:00\",\"2022-06-28T00:00:00\",\"2022-06-29T00:00:00\",\"2022-06-30T00:00:00\",\"2022-07-01T00:00:00\",\"2022-07-02T00:00:00\",\"2022-07-03T00:00:00\",\"2022-07-04T00:00:00\",\"2022-07-05T00:00:00\",\"2022-07-06T00:00:00\",\"2022-07-07T00:00:00\",\"2022-07-08T00:00:00\",\"2022-07-09T00:00:00\",\"2022-07-11T00:00:00\",\"2022-07-12T00:00:00\",\"2022-07-13T00:00:00\",\"2022-07-14T00:00:00\",\"2022-07-19T00:00:00\",\"2022-07-20T00:00:00\",\"2022-07-21T00:00:00\",\"2022-07-22T00:00:00\",\"2022-07-25T00:00:00\",\"2022-07-26T00:00:00\",\"2022-07-27T00:00:00\",\"2022-07-28T00:00:00\",\"2022-07-29T00:00:00\",\"2022-07-30T00:00:00\",\"2022-07-31T00:00:00\",\"2022-08-01T00:00:00\",\"2022-08-02T00:00:00\",\"2022-08-03T00:00:00\",\"2022-08-04T00:00:00\",\"2022-08-05T00:00:00\",\"2022-08-06T00:00:00\",\"2022-08-07T00:00:00\",\"2022-08-08T00:00:00\",\"2022-08-09T00:00:00\",\"2022-08-10T00:00:00\",\"2022-08-12T00:00:00\",\"2022-08-13T00:00:00\",\"2022-08-14T00:00:00\",\"2022-08-15T00:00:00\",\"2022-08-16T00:00:00\",\"2022-08-17T00:00:00\",\"2022-08-18T00:00:00\",\"2022-08-19T00:00:00\",\"2022-08-20T00:00:00\",\"2022-08-21T00:00:00\",\"2022-08-22T00:00:00\",\"2022-08-23T00:00:00\",\"2022-08-24T00:00:00\",\"2022-08-25T00:00:00\",\"2022-08-26T00:00:00\",\"2022-08-29T00:00:00\"],\"y\":[1,2,3,5,6,7,8,9,11,16,17,19,20,21,37,49,64,76,78,80,106,142,172,204,218,228,266,308,347,448,591,604,694,809,865,977,1066,1259,1343,1370,1475,1603,1721,1860,2004,2108,2131,2293,2415,2458,2746,2848,2893,2985,3183,3359,3450,3655,3755,3787,3896,3984,4144,4216,4472,4693]},{\"hoverinfo\":\"skip\",\"line\":{\"width\":0},\"mode\":\"lines\",\"type\":\"scatter\",\"x\":[\"2022-06-08T00:00:00\",\"2022-06-11T00:00:00\",\"2022-06-12T00:00:00\",\"2022-06-14T00:00:00\",\"2022-06-16T00:00:00\",\"2022-06-17T00:00:00\",\"2022-06-19T00:00:00\",\"2022-06-21T00:00:00\",\"2022-06-22T00:00:00\",\"2022-06-23T00:00:00\",\"2022-06-24T00:00:00\",\"2022-06-25T00:00:00\",\"2022-06-26T00:00:00\",\"2022-06-28T00:00:00\",\"2022-06-29T00:00:00\",\"2022-06-30T00:00:00\",\"2022-07-01T00:00:00\",\"2022-07-02T00:00:00\",\"2022-07-03T00:00:00\",\"2022-07-04T00:00:00\",\"2022-07-05T00:00:00\",\"2022-07-06T00:00:00\",\"2022-07-07T00:00:00\",\"2022-07-08T00:00:00\",\"2022-07-09T00:00:00\",\"2022-07-11T00:00:00\",\"2022-07-12T00:00:00\",\"2022-07-13T00:00:00\",\"2022-07-14T00:00:00\",\"2022-07-19T00:00:00\",\"2022-07-20T00:00:00\",\"2022-07-21T00:00:00\",\"2022-07-22T00:00:00\",\"2022-07-25T00:00:00\",\"2022-07-26T00:00:00\",\"2022-07-27T00:00:00\",\"2022-07-28T00:00:00\",\"2022-07-29T00:00:00\",\"2022-07-30T00:00:00\",\"2022-07-31T00:00:00\",\"2022-08-01T00:00:00\",\"2022-08-02T00:00:00\",\"2022-08-03T00:00:00\",\"2022-08-04T00:00:00\",\"2022-08-05T00:00:00\",\"2022-08-06T00:00:00\",\"2022-08-07T00:00:00\",\"2022-08-08T00:00:00\",\"2022-08-09T00:00:00\",\"2022-08-10T00:00:00\",\"2022-08-12T00:00:00\",\"2022-08-13T00:00:00\",\"2022-08-14T00:00:00\",\"2022-08-15T00:00:00\",\"2022-08-16T00:00:00\",\"2022-08-17T00:00:00\",\"2022-08-18T00:00:00\",\"2022-08-19T00:00:00\",\"2022-08-20T00:00:00\",\"2022-08-21T00:00:00\",\"2022-08-22T00:00:00\",\"2022-08-23T00:00:00\",\"2022-08-24T00:00:00\",\"2022-08-25T00:00:00\",\"2022-08-26T00:00:00\",\"2022-08-29T00:00:00\",\"2022-08-30T00:00:00\",\"2022-08-31T00:00:00\",\"2022-09-01T00:00:00\",\"2022-09-02T00:00:00\",\"2022-09-03T00:00:00\",\"2022-09-04T00:00:00\",\"2022-09-05T00:00:00\",\"2022-09-06T00:00:00\",\"2022-09-07T00:00:00\",\"2022-09-08T00:00:00\",\"2022-09-09T00:00:00\",\"2022-09-10T00:00:00\",\"2022-09-11T00:00:00\",\"2022-09-12T00:00:00\",\"2022-09-13T00:00:00\",\"2022-09-14T00:00:00\",\"2022-09-15T00:00:00\",\"2022-09-16T00:00:00\",\"2022-09-17T00:00:00\",\"2022-09-18T00:00:00\",\"2022-09-19T00:00:00\",\"2022-09-20T00:00:00\",\"2022-09-21T00:00:00\",\"2022-09-22T00:00:00\",\"2022-09-23T00:00:00\",\"2022-09-24T00:00:00\",\"2022-09-25T00:00:00\",\"2022-09-26T00:00:00\",\"2022-09-27T00:00:00\",\"2022-09-28T00:00:00\",\"2022-09-29T00:00:00\",\"2022-09-30T00:00:00\",\"2022-10-01T00:00:00\",\"2022-10-02T00:00:00\",\"2022-10-03T00:00:00\",\"2022-10-04T00:00:00\",\"2022-10-05T00:00:00\",\"2022-10-06T00:00:00\",\"2022-10-07T00:00:00\",\"2022-10-08T00:00:00\",\"2022-10-09T00:00:00\",\"2022-10-10T00:00:00\",\"2022-10-11T00:00:00\",\"2022-10-12T00:00:00\",\"2022-10-13T00:00:00\",\"2022-10-14T00:00:00\",\"2022-10-15T00:00:00\",\"2022-10-16T00:00:00\",\"2022-10-17T00:00:00\",\"2022-10-18T00:00:00\",\"2022-10-19T00:00:00\",\"2022-10-20T00:00:00\",\"2022-10-21T00:00:00\",\"2022-10-22T00:00:00\",\"2022-10-23T00:00:00\",\"2022-10-24T00:00:00\",\"2022-10-25T00:00:00\",\"2022-10-26T00:00:00\",\"2022-10-27T00:00:00\",\"2022-10-28T00:00:00\",\"2022-10-29T00:00:00\",\"2022-10-30T00:00:00\",\"2022-10-31T00:00:00\",\"2022-11-01T00:00:00\",\"2022-11-02T00:00:00\",\"2022-11-03T00:00:00\",\"2022-11-04T00:00:00\",\"2022-11-05T00:00:00\",\"2022-11-06T00:00:00\",\"2022-11-07T00:00:00\",\"2022-11-08T00:00:00\",\"2022-11-09T00:00:00\",\"2022-11-10T00:00:00\",\"2022-11-11T00:00:00\",\"2022-11-12T00:00:00\",\"2022-11-13T00:00:00\",\"2022-11-14T00:00:00\",\"2022-11-15T00:00:00\",\"2022-11-16T00:00:00\",\"2022-11-17T00:00:00\",\"2022-11-18T00:00:00\",\"2022-11-19T00:00:00\",\"2022-11-20T00:00:00\",\"2022-11-21T00:00:00\",\"2022-11-22T00:00:00\",\"2022-11-23T00:00:00\",\"2022-11-24T00:00:00\",\"2022-11-25T00:00:00\",\"2022-11-26T00:00:00\",\"2022-11-27T00:00:00\"],\"y\":[-34.01776836070405,-8.151564582187222,-55.15261227959598,-47.67190069258807,-29.39726073803417,11.62486998425565,-44.04859654966987,-43.31075663161195,-19.95516063237071,-21.745286317792083,19.392955561699196,13.936546204153142,-29.85491207011187,-19.097995223651292,4.575803675548311,6.552758004499924,53.45059556356656,58.99239849889996,31.666905454110914,35.683437920174825,74.53671929402277,112.16928986791004,129.2600304647315,187.9264960078014,193.66846323484816,187.04214839257287,234.9042842955015,285.62323570343955,307.86195675271574,442.1762866346506,518.7864404567168,574.2563816090598,673.4135670155507,768.2101425989227,855.4969128684497,941.7725705861051,1046.3485622850988,1198.43795351866,1292.72600254145,1357.8768047778499,1451.1081951472083,1578.9935035234814,1706.086780828869,1815.8638305930447,1965.2913241703643,2064.2224465445615,2126.7207002259793,2221.8057537832015,2347.808111794899,2476.2331555677565,2736.326972387651,2831.4327857769294,2904.48910155989,3010.8085034415476,3147.483902161284,3284.9178213434484,3401.5131860749693,3562.437523112908,3668.940325280995,3741.967379418,3847.746198357021,3983.1355319588847,4122.994403046028,4237.712755464784,4398.941793068566,4685.338483604388,4817.874212424286,4960.65475734349,5073.358287599894,5230.814074719614,5335.785748898878,5403.18155996467,5497.384512252509,5626.570727355019,5754.620765806867,5854.728729124951,6010.864530997991,6106.112633103256,6160.769693019008,6254.394419496718,6375.063353248404,6492.0871893048325,6591.398774292444,6746.722566090471,6823.654793448158,6878.003308953117,6960.284198134469,7079.951218954911,7203.503975407553,7292.73533416602,7441.709719022553,7523.37673671922,7577.774935348419,7662.534814396415,7764.747405839307,7893.2407687297045,7979.395735629987,8105.5882415437945,8206.848484383792,8248.719382986188,8325.498455204895,8439.256387488233,8569.831727835448,8659.326460536333,8795.345094178358,8878.08474967279,8929.359578070791,9007.178336325593,9091.614815516334,9205.351710865561,9292.104550765464,9437.751369175805,9512.687785827002,9542.517667819202,9625.168969109887,9732.519040643067,9843.123670239142,9946.017160003066,10075.701401767226,10163.747922369514,10218.331941829767,10293.219705224818,10400.5297605286,10517.899972874142,10606.656005482426,10740.944333352683,10824.026199695894,10854.407865197083,10918.096378501079,11038.316124830977,11130.06649812117,11215.141698772197,11333.128017654724,11385.698304949054,11438.095575255309,11495.184090546241,11584.983743251412,11701.177366104892,11764.425662357138,11879.116030694318,11955.27918549207,12007.522436315776,12069.78587722545,12186.48472111278,12300.286817375852,12379.171086284901,12495.071897503285,12572.203554711998,12617.940106300195,12682.237929608216,12770.063087426342,12875.043227254122,12959.403853696853,13099.52086352621,13167.761397075214,13179.310042675435]},{\"fill\":\"tonexty\",\"fillcolor\":\"rgba(0, 114, 178, 0.2)\",\"line\":{\"color\":\"#0072B2\",\"width\":2},\"mode\":\"lines\",\"name\":\"Predicted\",\"type\":\"scatter\",\"x\":[\"2022-06-08T00:00:00\",\"2022-06-11T00:00:00\",\"2022-06-12T00:00:00\",\"2022-06-14T00:00:00\",\"2022-06-16T00:00:00\",\"2022-06-17T00:00:00\",\"2022-06-19T00:00:00\",\"2022-06-21T00:00:00\",\"2022-06-22T00:00:00\",\"2022-06-23T00:00:00\",\"2022-06-24T00:00:00\",\"2022-06-25T00:00:00\",\"2022-06-26T00:00:00\",\"2022-06-28T00:00:00\",\"2022-06-29T00:00:00\",\"2022-06-30T00:00:00\",\"2022-07-01T00:00:00\",\"2022-07-02T00:00:00\",\"2022-07-03T00:00:00\",\"2022-07-04T00:00:00\",\"2022-07-05T00:00:00\",\"2022-07-06T00:00:00\",\"2022-07-07T00:00:00\",\"2022-07-08T00:00:00\",\"2022-07-09T00:00:00\",\"2022-07-11T00:00:00\",\"2022-07-12T00:00:00\",\"2022-07-13T00:00:00\",\"2022-07-14T00:00:00\",\"2022-07-19T00:00:00\",\"2022-07-20T00:00:00\",\"2022-07-21T00:00:00\",\"2022-07-22T00:00:00\",\"2022-07-25T00:00:00\",\"2022-07-26T00:00:00\",\"2022-07-27T00:00:00\",\"2022-07-28T00:00:00\",\"2022-07-29T00:00:00\",\"2022-07-30T00:00:00\",\"2022-07-31T00:00:00\",\"2022-08-01T00:00:00\",\"2022-08-02T00:00:00\",\"2022-08-03T00:00:00\",\"2022-08-04T00:00:00\",\"2022-08-05T00:00:00\",\"2022-08-06T00:00:00\",\"2022-08-07T00:00:00\",\"2022-08-08T00:00:00\",\"2022-08-09T00:00:00\",\"2022-08-10T00:00:00\",\"2022-08-12T00:00:00\",\"2022-08-13T00:00:00\",\"2022-08-14T00:00:00\",\"2022-08-15T00:00:00\",\"2022-08-16T00:00:00\",\"2022-08-17T00:00:00\",\"2022-08-18T00:00:00\",\"2022-08-19T00:00:00\",\"2022-08-20T00:00:00\",\"2022-08-21T00:00:00\",\"2022-08-22T00:00:00\",\"2022-08-23T00:00:00\",\"2022-08-24T00:00:00\",\"2022-08-25T00:00:00\",\"2022-08-26T00:00:00\",\"2022-08-29T00:00:00\",\"2022-08-30T00:00:00\",\"2022-08-31T00:00:00\",\"2022-09-01T00:00:00\",\"2022-09-02T00:00:00\",\"2022-09-03T00:00:00\",\"2022-09-04T00:00:00\",\"2022-09-05T00:00:00\",\"2022-09-06T00:00:00\",\"2022-09-07T00:00:00\",\"2022-09-08T00:00:00\",\"2022-09-09T00:00:00\",\"2022-09-10T00:00:00\",\"2022-09-11T00:00:00\",\"2022-09-12T00:00:00\",\"2022-09-13T00:00:00\",\"2022-09-14T00:00:00\",\"2022-09-15T00:00:00\",\"2022-09-16T00:00:00\",\"2022-09-17T00:00:00\",\"2022-09-18T00:00:00\",\"2022-09-19T00:00:00\",\"2022-09-20T00:00:00\",\"2022-09-21T00:00:00\",\"2022-09-22T00:00:00\",\"2022-09-23T00:00:00\",\"2022-09-24T00:00:00\",\"2022-09-25T00:00:00\",\"2022-09-26T00:00:00\",\"2022-09-27T00:00:00\",\"2022-09-28T00:00:00\",\"2022-09-29T00:00:00\",\"2022-09-30T00:00:00\",\"2022-10-01T00:00:00\",\"2022-10-02T00:00:00\",\"2022-10-03T00:00:00\",\"2022-10-04T00:00:00\",\"2022-10-05T00:00:00\",\"2022-10-06T00:00:00\",\"2022-10-07T00:00:00\",\"2022-10-08T00:00:00\",\"2022-10-09T00:00:00\",\"2022-10-10T00:00:00\",\"2022-10-11T00:00:00\",\"2022-10-12T00:00:00\",\"2022-10-13T00:00:00\",\"2022-10-14T00:00:00\",\"2022-10-15T00:00:00\",\"2022-10-16T00:00:00\",\"2022-10-17T00:00:00\",\"2022-10-18T00:00:00\",\"2022-10-19T00:00:00\",\"2022-10-20T00:00:00\",\"2022-10-21T00:00:00\",\"2022-10-22T00:00:00\",\"2022-10-23T00:00:00\",\"2022-10-24T00:00:00\",\"2022-10-25T00:00:00\",\"2022-10-26T00:00:00\",\"2022-10-27T00:00:00\",\"2022-10-28T00:00:00\",\"2022-10-29T00:00:00\",\"2022-10-30T00:00:00\",\"2022-10-31T00:00:00\",\"2022-11-01T00:00:00\",\"2022-11-02T00:00:00\",\"2022-11-03T00:00:00\",\"2022-11-04T00:00:00\",\"2022-11-05T00:00:00\",\"2022-11-06T00:00:00\",\"2022-11-07T00:00:00\",\"2022-11-08T00:00:00\",\"2022-11-09T00:00:00\",\"2022-11-10T00:00:00\",\"2022-11-11T00:00:00\",\"2022-11-12T00:00:00\",\"2022-11-13T00:00:00\",\"2022-11-14T00:00:00\",\"2022-11-15T00:00:00\",\"2022-11-16T00:00:00\",\"2022-11-17T00:00:00\",\"2022-11-18T00:00:00\",\"2022-11-19T00:00:00\",\"2022-11-20T00:00:00\",\"2022-11-21T00:00:00\",\"2022-11-22T00:00:00\",\"2022-11-23T00:00:00\",\"2022-11-24T00:00:00\",\"2022-11-25T00:00:00\",\"2022-11-26T00:00:00\",\"2022-11-27T00:00:00\"],\"y\":[-3.579940852129424,24.56406996844185,-20.651067864590217,-16.262130840187936,1.9056643615621764,44.088391474252106,-12.974891996155653,-8.585847128576324,11.772209476788415,9.583797855067438,51.76822481894419,43.530661361688786,1.926335299678449,13.592371446852972,37.588923691971765,39.08166109350106,84.94723708080703,91.10537660783815,63.89675353007581,67.81876820382786,104.3037924711155,142.6955821721309,158.53916170742227,218.7632199180053,224.95629058287884,220.93719709947393,267.0547013324314,315.05423494001997,341.7585607660902,475.73931994587065,551.8780529376895,605.4685757637686,703.4465000695458,799.6818679028931,886.08013257254,974.3604266169453,1080.1544766907775,1230.3213653502385,1326.4649586918274,1389.2417894284386,1483.1847443281372,1609.6907088212988,1738.9379680965428,1845.6370172061158,1996.7247490988198,2093.7814934460125,2157.476163071902,2252.298915459871,2379.6883288128433,2508.9597715405775,2766.7860539015087,2863.8546268293353,2937.098622481616,3041.4707008959344,3178.405788903832,3317.2229062864403,3433.491813503352,3594.1335593059043,3700.744317562955,3773.9883132152063,3878.360391629538,4015.2954796374283,4154.112597020119,4270.381504237048,4431.023250039617,4715.250082363234,4852.1851703711145,4991.002287753787,5107.271194970745,5267.912940773332,5374.52369903042,5447.767694682516,5552.139773096929,5689.074861104831,5827.89197848748,5944.160885704337,6104.802631506994,6211.413389764078,6284.657385416148,6389.029463830623,6525.964551838487,6664.781669221144,6781.050576438031,6941.692322240708,7048.303080497698,7121.547076149966,7225.919154564226,7362.854242572204,7501.671359954824,7617.940267171728,7778.582012974398,7885.192771231395,7958.436766883644,8062.808845297964,8199.74393330592,8338.561050688504,8454.829957905422,8615.471703707988,8722.082461965014,8795.326457617231,8899.698536031614,9036.633624039603,9175.450741422184,9291.719648639111,9452.361394441676,9558.972152698634,9632.21614835091,9736.588226765312,9873.5233147732,10012.34043215585,10128.609339372813,10289.251085175392,10395.861843432482,10469.105839084727,10573.477917499007,10710.413005506887,10849.230122889545,10965.4990301065,11126.140775909078,11232.751534166098,11305.995529818403,11410.3676082327,11547.302696240602,11686.119813623209,11802.388720840103,11963.030466642766,12069.641224899757,12142.885220551992,12247.257298966357,12384.19238697417,12523.009504356876,12639.278411573798,12799.920157376457,12906.530915633417,12979.774911285669,13084.1469897,13221.082077707886,13359.899195090555,13476.16810230749,13636.809848110168,13743.420606367223,13816.664602019344,13921.036680433694,14057.971768441568,14196.788885824235,14313.05779304118,14473.699538843737,14580.310297100843,14653.554292752933,14757.92637116739,14894.861459175256,15033.678576557917,15149.94748377487,15310.58922957745,15417.199987834503,15490.44398348661]},{\"fill\":\"tonexty\",\"fillcolor\":\"rgba(0, 114, 178, 0.2)\",\"hoverinfo\":\"skip\",\"line\":{\"width\":0},\"mode\":\"lines\",\"type\":\"scatter\",\"x\":[\"2022-06-08T00:00:00\",\"2022-06-11T00:00:00\",\"2022-06-12T00:00:00\",\"2022-06-14T00:00:00\",\"2022-06-16T00:00:00\",\"2022-06-17T00:00:00\",\"2022-06-19T00:00:00\",\"2022-06-21T00:00:00\",\"2022-06-22T00:00:00\",\"2022-06-23T00:00:00\",\"2022-06-24T00:00:00\",\"2022-06-25T00:00:00\",\"2022-06-26T00:00:00\",\"2022-06-28T00:00:00\",\"2022-06-29T00:00:00\",\"2022-06-30T00:00:00\",\"2022-07-01T00:00:00\",\"2022-07-02T00:00:00\",\"2022-07-03T00:00:00\",\"2022-07-04T00:00:00\",\"2022-07-05T00:00:00\",\"2022-07-06T00:00:00\",\"2022-07-07T00:00:00\",\"2022-07-08T00:00:00\",\"2022-07-09T00:00:00\",\"2022-07-11T00:00:00\",\"2022-07-12T00:00:00\",\"2022-07-13T00:00:00\",\"2022-07-14T00:00:00\",\"2022-07-19T00:00:00\",\"2022-07-20T00:00:00\",\"2022-07-21T00:00:00\",\"2022-07-22T00:00:00\",\"2022-07-25T00:00:00\",\"2022-07-26T00:00:00\",\"2022-07-27T00:00:00\",\"2022-07-28T00:00:00\",\"2022-07-29T00:00:00\",\"2022-07-30T00:00:00\",\"2022-07-31T00:00:00\",\"2022-08-01T00:00:00\",\"2022-08-02T00:00:00\",\"2022-08-03T00:00:00\",\"2022-08-04T00:00:00\",\"2022-08-05T00:00:00\",\"2022-08-06T00:00:00\",\"2022-08-07T00:00:00\",\"2022-08-08T00:00:00\",\"2022-08-09T00:00:00\",\"2022-08-10T00:00:00\",\"2022-08-12T00:00:00\",\"2022-08-13T00:00:00\",\"2022-08-14T00:00:00\",\"2022-08-15T00:00:00\",\"2022-08-16T00:00:00\",\"2022-08-17T00:00:00\",\"2022-08-18T00:00:00\",\"2022-08-19T00:00:00\",\"2022-08-20T00:00:00\",\"2022-08-21T00:00:00\",\"2022-08-22T00:00:00\",\"2022-08-23T00:00:00\",\"2022-08-24T00:00:00\",\"2022-08-25T00:00:00\",\"2022-08-26T00:00:00\",\"2022-08-29T00:00:00\",\"2022-08-30T00:00:00\",\"2022-08-31T00:00:00\",\"2022-09-01T00:00:00\",\"2022-09-02T00:00:00\",\"2022-09-03T00:00:00\",\"2022-09-04T00:00:00\",\"2022-09-05T00:00:00\",\"2022-09-06T00:00:00\",\"2022-09-07T00:00:00\",\"2022-09-08T00:00:00\",\"2022-09-09T00:00:00\",\"2022-09-10T00:00:00\",\"2022-09-11T00:00:00\",\"2022-09-12T00:00:00\",\"2022-09-13T00:00:00\",\"2022-09-14T00:00:00\",\"2022-09-15T00:00:00\",\"2022-09-16T00:00:00\",\"2022-09-17T00:00:00\",\"2022-09-18T00:00:00\",\"2022-09-19T00:00:00\",\"2022-09-20T00:00:00\",\"2022-09-21T00:00:00\",\"2022-09-22T00:00:00\",\"2022-09-23T00:00:00\",\"2022-09-24T00:00:00\",\"2022-09-25T00:00:00\",\"2022-09-26T00:00:00\",\"2022-09-27T00:00:00\",\"2022-09-28T00:00:00\",\"2022-09-29T00:00:00\",\"2022-09-30T00:00:00\",\"2022-10-01T00:00:00\",\"2022-10-02T00:00:00\",\"2022-10-03T00:00:00\",\"2022-10-04T00:00:00\",\"2022-10-05T00:00:00\",\"2022-10-06T00:00:00\",\"2022-10-07T00:00:00\",\"2022-10-08T00:00:00\",\"2022-10-09T00:00:00\",\"2022-10-10T00:00:00\",\"2022-10-11T00:00:00\",\"2022-10-12T00:00:00\",\"2022-10-13T00:00:00\",\"2022-10-14T00:00:00\",\"2022-10-15T00:00:00\",\"2022-10-16T00:00:00\",\"2022-10-17T00:00:00\",\"2022-10-18T00:00:00\",\"2022-10-19T00:00:00\",\"2022-10-20T00:00:00\",\"2022-10-21T00:00:00\",\"2022-10-22T00:00:00\",\"2022-10-23T00:00:00\",\"2022-10-24T00:00:00\",\"2022-10-25T00:00:00\",\"2022-10-26T00:00:00\",\"2022-10-27T00:00:00\",\"2022-10-28T00:00:00\",\"2022-10-29T00:00:00\",\"2022-10-30T00:00:00\",\"2022-10-31T00:00:00\",\"2022-11-01T00:00:00\",\"2022-11-02T00:00:00\",\"2022-11-03T00:00:00\",\"2022-11-04T00:00:00\",\"2022-11-05T00:00:00\",\"2022-11-06T00:00:00\",\"2022-11-07T00:00:00\",\"2022-11-08T00:00:00\",\"2022-11-09T00:00:00\",\"2022-11-10T00:00:00\",\"2022-11-11T00:00:00\",\"2022-11-12T00:00:00\",\"2022-11-13T00:00:00\",\"2022-11-14T00:00:00\",\"2022-11-15T00:00:00\",\"2022-11-16T00:00:00\",\"2022-11-17T00:00:00\",\"2022-11-18T00:00:00\",\"2022-11-19T00:00:00\",\"2022-11-20T00:00:00\",\"2022-11-21T00:00:00\",\"2022-11-22T00:00:00\",\"2022-11-23T00:00:00\",\"2022-11-24T00:00:00\",\"2022-11-25T00:00:00\",\"2022-11-26T00:00:00\",\"2022-11-27T00:00:00\"],\"y\":[27.268735607095202,56.062220625853094,12.068568112007835,14.746611615006222,34.76786045659162,76.35908536425049,17.89492664561545,18.72913587607858,45.08573293829286,41.175366579115384,82.53462469240337,72.48606976246612,33.310943468992896,44.42651634992291,69.75299003904259,70.90928605520213,116.64761374233093,121.37937269764294,93.62367657630699,98.8436829501842,138.5171233975941,173.45582690012472,191.59675721746478,249.69976944101907,256.48255545432517,250.30225689225637,299.2737494915016,347.55772788969404,371.5529505192914,507.94056669853813,583.1599255346662,637.0015468300181,734.233557528586,833.3446188657673,921.1074275378515,1008.0072330649973,1112.8825464027336,1263.302914577235,1358.9371403327245,1419.6147019829,1514.2991572332562,1639.6324712600974,1769.8491159147352,1877.3339308490451,2025.8521277965287,2126.0052740662372,2188.405803896315,2283.1002747276953,2412.1177991443815,2539.9383478857367,2797.8945452774265,2894.451690062402,2969.435574322774,3070.9593885749873,3210.4723511988273,3350.0358547359783,3464.328944292809,3625.6363784652535,3732.137136849658,3805.992985135384,3910.8973534154725,4048.158918678943,4186.7672898648325,4303.1365253580625,4464.029031635798,4746.217457571361,4885.7049180948725,5023.273260529796,5139.476545000285,5305.465627302782,5415.675411442548,5490.164445575299,5601.77692851428,5748.658864239464,5895.5780958479245,6026.278588073234,6198.3394175173335,6319.5442304364515,6404.4574623130475,6516.456049277104,6673.53149202264,6831.991631186886,6962.5584904069,7142.905238819398,7258.64494550523,7355.186203477095,7472.112649772041,7636.084294495932,7784.708432314883,7917.8116999886215,8102.07151331208,8237.806571811594,8322.937174186227,8449.45416517893,8607.680752460117,8778.15386600321,8894.712146972803,9097.248924000089,9203.538143240825,9305.372605222563,9433.278885674406,9615.874261796895,9752.832005526354,9903.93343755946,10093.4759985801,10223.40131408212,10324.970787502529,10443.676429689545,10606.038925483514,10782.043948785096,10912.612849498413,11099.169775579732,11236.818218797687,11321.149754218046,11446.871652860294,11619.12561174882,11794.682875275634,11921.626807811122,12126.789526877867,12256.685361962973,12354.118268298384,12487.022524702927,12643.334205313047,12810.908787597866,12942.36556714855,13128.924023931042,13274.981150962845,13377.658473782938,13514.73095252262,13700.315738490553,13843.513235970673,14005.98756643519,14199.912191551397,14342.615401336025,14444.705819848417,14586.18055103434,14764.769601175949,14936.94052236448,15084.0771165401,15272.095295778,15417.062149404497,15514.06152796013,15653.124860570058,15830.452083027129,16009.01462045618,16169.49941055694,16370.63538412625,16509.935000845468,16637.05672089775,16769.341772712538,16961.41319473599,17129.73881768052,17292.488111512725,17508.787342418833,17645.567526518604,17785.1492437088]}],                        {\"height\":600,\"showlegend\":false,\"template\":{\"data\":{\"bar\":[{\"error_x\":{\"color\":\"#2a3f5f\"},\"error_y\":{\"color\":\"#2a3f5f\"},\"marker\":{\"line\":{\"color\":\"#E5ECF6\",\"width\":0.5},\"pattern\":{\"fillmode\":\"overlay\",\"size\":10,\"solidity\":0.2}},\"type\":\"bar\"}],\"barpolar\":[{\"marker\":{\"line\":{\"color\":\"#E5ECF6\",\"width\":0.5},\"pattern\":{\"fillmode\":\"overlay\",\"size\":10,\"solidity\":0.2}},\"type\":\"barpolar\"}],\"carpet\":[{\"aaxis\":{\"endlinecolor\":\"#2a3f5f\",\"gridcolor\":\"white\",\"linecolor\":\"white\",\"minorgridcolor\":\"white\",\"startlinecolor\":\"#2a3f5f\"},\"baxis\":{\"endlinecolor\":\"#2a3f5f\",\"gridcolor\":\"white\",\"linecolor\":\"white\",\"minorgridcolor\":\"white\",\"startlinecolor\":\"#2a3f5f\"},\"type\":\"carpet\"}],\"choropleth\":[{\"colorbar\":{\"outlinewidth\":0,\"ticks\":\"\"},\"type\":\"choropleth\"}],\"contour\":[{\"colorbar\":{\"outlinewidth\":0,\"ticks\":\"\"},\"colorscale\":[[0.0,\"#0d0887\"],[0.1111111111111111,\"#46039f\"],[0.2222222222222222,\"#7201a8\"],[0.3333333333333333,\"#9c179e\"],[0.4444444444444444,\"#bd3786\"],[0.5555555555555556,\"#d8576b\"],[0.6666666666666666,\"#ed7953\"],[0.7777777777777778,\"#fb9f3a\"],[0.8888888888888888,\"#fdca26\"],[1.0,\"#f0f921\"]],\"type\":\"contour\"}],\"contourcarpet\":[{\"colorbar\":{\"outlinewidth\":0,\"ticks\":\"\"},\"type\":\"contourcarpet\"}],\"heatmap\":[{\"colorbar\":{\"outlinewidth\":0,\"ticks\":\"\"},\"colorscale\":[[0.0,\"#0d0887\"],[0.1111111111111111,\"#46039f\"],[0.2222222222222222,\"#7201a8\"],[0.3333333333333333,\"#9c179e\"],[0.4444444444444444,\"#bd3786\"],[0.5555555555555556,\"#d8576b\"],[0.6666666666666666,\"#ed7953\"],[0.7777777777777778,\"#fb9f3a\"],[0.8888888888888888,\"#fdca26\"],[1.0,\"#f0f921\"]],\"type\":\"heatmap\"}],\"heatmapgl\":[{\"colorbar\":{\"outlinewidth\":0,\"ticks\":\"\"},\"colorscale\":[[0.0,\"#0d0887\"],[0.1111111111111111,\"#46039f\"],[0.2222222222222222,\"#7201a8\"],[0.3333333333333333,\"#9c179e\"],[0.4444444444444444,\"#bd3786\"],[0.5555555555555556,\"#d8576b\"],[0.6666666666666666,\"#ed7953\"],[0.7777777777777778,\"#fb9f3a\"],[0.8888888888888888,\"#fdca26\"],[1.0,\"#f0f921\"]],\"type\":\"heatmapgl\"}],\"histogram\":[{\"marker\":{\"pattern\":{\"fillmode\":\"overlay\",\"size\":10,\"solidity\":0.2}},\"type\":\"histogram\"}],\"histogram2d\":[{\"colorbar\":{\"outlinewidth\":0,\"ticks\":\"\"},\"colorscale\":[[0.0,\"#0d0887\"],[0.1111111111111111,\"#46039f\"],[0.2222222222222222,\"#7201a8\"],[0.3333333333333333,\"#9c179e\"],[0.4444444444444444,\"#bd3786\"],[0.5555555555555556,\"#d8576b\"],[0.6666666666666666,\"#ed7953\"],[0.7777777777777778,\"#fb9f3a\"],[0.8888888888888888,\"#fdca26\"],[1.0,\"#f0f921\"]],\"type\":\"histogram2d\"}],\"histogram2dcontour\":[{\"colorbar\":{\"outlinewidth\":0,\"ticks\":\"\"},\"colorscale\":[[0.0,\"#0d0887\"],[0.1111111111111111,\"#46039f\"],[0.2222222222222222,\"#7201a8\"],[0.3333333333333333,\"#9c179e\"],[0.4444444444444444,\"#bd3786\"],[0.5555555555555556,\"#d8576b\"],[0.6666666666666666,\"#ed7953\"],[0.7777777777777778,\"#fb9f3a\"],[0.8888888888888888,\"#fdca26\"],[1.0,\"#f0f921\"]],\"type\":\"histogram2dcontour\"}],\"mesh3d\":[{\"colorbar\":{\"outlinewidth\":0,\"ticks\":\"\"},\"type\":\"mesh3d\"}],\"parcoords\":[{\"line\":{\"colorbar\":{\"outlinewidth\":0,\"ticks\":\"\"}},\"type\":\"parcoords\"}],\"pie\":[{\"automargin\":true,\"type\":\"pie\"}],\"scatter\":[{\"marker\":{\"colorbar\":{\"outlinewidth\":0,\"ticks\":\"\"}},\"type\":\"scatter\"}],\"scatter3d\":[{\"line\":{\"colorbar\":{\"outlinewidth\":0,\"ticks\":\"\"}},\"marker\":{\"colorbar\":{\"outlinewidth\":0,\"ticks\":\"\"}},\"type\":\"scatter3d\"}],\"scattercarpet\":[{\"marker\":{\"colorbar\":{\"outlinewidth\":0,\"ticks\":\"\"}},\"type\":\"scattercarpet\"}],\"scattergeo\":[{\"marker\":{\"colorbar\":{\"outlinewidth\":0,\"ticks\":\"\"}},\"type\":\"scattergeo\"}],\"scattergl\":[{\"marker\":{\"colorbar\":{\"outlinewidth\":0,\"ticks\":\"\"}},\"type\":\"scattergl\"}],\"scattermapbox\":[{\"marker\":{\"colorbar\":{\"outlinewidth\":0,\"ticks\":\"\"}},\"type\":\"scattermapbox\"}],\"scatterpolar\":[{\"marker\":{\"colorbar\":{\"outlinewidth\":0,\"ticks\":\"\"}},\"type\":\"scatterpolar\"}],\"scatterpolargl\":[{\"marker\":{\"colorbar\":{\"outlinewidth\":0,\"ticks\":\"\"}},\"type\":\"scatterpolargl\"}],\"scatterternary\":[{\"marker\":{\"colorbar\":{\"outlinewidth\":0,\"ticks\":\"\"}},\"type\":\"scatterternary\"}],\"surface\":[{\"colorbar\":{\"outlinewidth\":0,\"ticks\":\"\"},\"colorscale\":[[0.0,\"#0d0887\"],[0.1111111111111111,\"#46039f\"],[0.2222222222222222,\"#7201a8\"],[0.3333333333333333,\"#9c179e\"],[0.4444444444444444,\"#bd3786\"],[0.5555555555555556,\"#d8576b\"],[0.6666666666666666,\"#ed7953\"],[0.7777777777777778,\"#fb9f3a\"],[0.8888888888888888,\"#fdca26\"],[1.0,\"#f0f921\"]],\"type\":\"surface\"}],\"table\":[{\"cells\":{\"fill\":{\"color\":\"#EBF0F8\"},\"line\":{\"color\":\"white\"}},\"header\":{\"fill\":{\"color\":\"#C8D4E3\"},\"line\":{\"color\":\"white\"}},\"type\":\"table\"}]},\"layout\":{\"annotationdefaults\":{\"arrowcolor\":\"#2a3f5f\",\"arrowhead\":0,\"arrowwidth\":1},\"autotypenumbers\":\"strict\",\"coloraxis\":{\"colorbar\":{\"outlinewidth\":0,\"ticks\":\"\"}},\"colorscale\":{\"diverging\":[[0,\"#8e0152\"],[0.1,\"#c51b7d\"],[0.2,\"#de77ae\"],[0.3,\"#f1b6da\"],[0.4,\"#fde0ef\"],[0.5,\"#f7f7f7\"],[0.6,\"#e6f5d0\"],[0.7,\"#b8e186\"],[0.8,\"#7fbc41\"],[0.9,\"#4d9221\"],[1,\"#276419\"]],\"sequential\":[[0.0,\"#0d0887\"],[0.1111111111111111,\"#46039f\"],[0.2222222222222222,\"#7201a8\"],[0.3333333333333333,\"#9c179e\"],[0.4444444444444444,\"#bd3786\"],[0.5555555555555556,\"#d8576b\"],[0.6666666666666666,\"#ed7953\"],[0.7777777777777778,\"#fb9f3a\"],[0.8888888888888888,\"#fdca26\"],[1.0,\"#f0f921\"]],\"sequentialminus\":[[0.0,\"#0d0887\"],[0.1111111111111111,\"#46039f\"],[0.2222222222222222,\"#7201a8\"],[0.3333333333333333,\"#9c179e\"],[0.4444444444444444,\"#bd3786\"],[0.5555555555555556,\"#d8576b\"],[0.6666666666666666,\"#ed7953\"],[0.7777777777777778,\"#fb9f3a\"],[0.8888888888888888,\"#fdca26\"],[1.0,\"#f0f921\"]]},\"colorway\":[\"#636efa\",\"#EF553B\",\"#00cc96\",\"#ab63fa\",\"#FFA15A\",\"#19d3f3\",\"#FF6692\",\"#B6E880\",\"#FF97FF\",\"#FECB52\"],\"font\":{\"color\":\"#2a3f5f\"},\"geo\":{\"bgcolor\":\"white\",\"lakecolor\":\"white\",\"landcolor\":\"#E5ECF6\",\"showlakes\":true,\"showland\":true,\"subunitcolor\":\"white\"},\"hoverlabel\":{\"align\":\"left\"},\"hovermode\":\"closest\",\"mapbox\":{\"style\":\"light\"},\"paper_bgcolor\":\"white\",\"plot_bgcolor\":\"#E5ECF6\",\"polar\":{\"angularaxis\":{\"gridcolor\":\"white\",\"linecolor\":\"white\",\"ticks\":\"\"},\"bgcolor\":\"#E5ECF6\",\"radialaxis\":{\"gridcolor\":\"white\",\"linecolor\":\"white\",\"ticks\":\"\"}},\"scene\":{\"xaxis\":{\"backgroundcolor\":\"#E5ECF6\",\"gridcolor\":\"white\",\"gridwidth\":2,\"linecolor\":\"white\",\"showbackground\":true,\"ticks\":\"\",\"zerolinecolor\":\"white\"},\"yaxis\":{\"backgroundcolor\":\"#E5ECF6\",\"gridcolor\":\"white\",\"gridwidth\":2,\"linecolor\":\"white\",\"showbackground\":true,\"ticks\":\"\",\"zerolinecolor\":\"white\"},\"zaxis\":{\"backgroundcolor\":\"#E5ECF6\",\"gridcolor\":\"white\",\"gridwidth\":2,\"linecolor\":\"white\",\"showbackground\":true,\"ticks\":\"\",\"zerolinecolor\":\"white\"}},\"shapedefaults\":{\"line\":{\"color\":\"#2a3f5f\"}},\"ternary\":{\"aaxis\":{\"gridcolor\":\"white\",\"linecolor\":\"white\",\"ticks\":\"\"},\"baxis\":{\"gridcolor\":\"white\",\"linecolor\":\"white\",\"ticks\":\"\"},\"bgcolor\":\"#E5ECF6\",\"caxis\":{\"gridcolor\":\"white\",\"linecolor\":\"white\",\"ticks\":\"\"}},\"title\":{\"x\":0.05},\"xaxis\":{\"automargin\":true,\"gridcolor\":\"white\",\"linecolor\":\"white\",\"ticks\":\"\",\"title\":{\"standoff\":15},\"zerolinecolor\":\"white\",\"zerolinewidth\":2},\"yaxis\":{\"automargin\":true,\"gridcolor\":\"white\",\"linecolor\":\"white\",\"ticks\":\"\",\"title\":{\"standoff\":15},\"zerolinecolor\":\"white\",\"zerolinewidth\":2}}},\"width\":900,\"xaxis\":{\"rangeselector\":{\"buttons\":[{\"count\":7,\"label\":\"1w\",\"step\":\"day\",\"stepmode\":\"backward\"},{\"count\":1,\"label\":\"1m\",\"step\":\"month\",\"stepmode\":\"backward\"},{\"count\":6,\"label\":\"6m\",\"step\":\"month\",\"stepmode\":\"backward\"},{\"count\":1,\"label\":\"1y\",\"step\":\"year\",\"stepmode\":\"backward\"},{\"step\":\"all\"}]},\"rangeslider\":{\"visible\":true},\"title\":{\"text\":\"ds\"},\"type\":\"date\"},\"yaxis\":{\"title\":{\"text\":\"y\"}}},                        {\"responsive\": true}                    ).then(function(){\n",
       "                            \n",
       "var gd = document.getElementById('d5eb5f35-f377-45a8-a9e2-a7bf75d7f59e');\n",
       "var x = new MutationObserver(function (mutations, observer) {{\n",
       "        var display = window.getComputedStyle(gd).display;\n",
       "        if (!display || display === 'none') {{\n",
       "            console.log([gd, 'removed!']);\n",
       "            Plotly.purge(gd);\n",
       "            observer.disconnect();\n",
       "        }}\n",
       "}});\n",
       "\n",
       "// Listen for the removal of the full notebook cells\n",
       "var notebookContainer = gd.closest('#notebook-container');\n",
       "if (notebookContainer) {{\n",
       "    x.observe(notebookContainer, {childList: true});\n",
       "}}\n",
       "\n",
       "// Listen for the clearing of the current output cell\n",
       "var outputEl = gd.closest('.output');\n",
       "if (outputEl) {{\n",
       "    x.observe(outputEl, {childList: true});\n",
       "}}\n",
       "\n",
       "                        })                };                });            </script>        </div>"
      ]
     },
     "metadata": {},
     "output_type": "display_data"
    }
   ],
   "source": [
    "plot_plotly(m, forecast)"
   ]
  },
  {
   "cell_type": "markdown",
   "id": "a3cd617a-304f-48f0-b039-67f644863d7a",
   "metadata": {},
   "source": [
    "<h4>Utilização do Components para ver tendências mensais e de dias da semana</h4>"
   ]
  },
  {
   "cell_type": "code",
   "execution_count": 761,
   "id": "b632eb61-b247-4e1c-bfac-81fb6e370581",
   "metadata": {},
   "outputs": [
    {
     "data": {
      "image/png": "[encoded data removed]",
      "text/plain": [
       "<Figure size 648x432 with 2 Axes>"
      ]
     },
     "metadata": {},
     "output_type": "display_data"
    }
   ],
   "source": [
    "fig3 = m.plot_components(forecast)"
   ]
  },
  {
   "cell_type": "markdown",
   "id": "9e4f2ad0-dd29-4403-84e3-32774ce276c6",
   "metadata": {},
   "source": [
    "<a href=\"#indice\"><img src=\"botao-topo.png\" width=\"15%\"/></div>"
   ]
  },
  {
   "cell_type": "markdown",
   "id": "4704ded2-d7a8-4ff1-a1ba-8a746f9f4bbe",
   "metadata": {},
   "source": [
    "<div id=\"5\"><h2>6 - Conclusões</h2></div>"
   ]
  },
  {
   "cell_type": "markdown",
   "id": "dc4ee2f8-1d63-4e01-8cfa-1ea9023d0090",
   "metadata": {},
   "source": [
    "Embora a quantidade de casos esteja crescendo consistentemente, o número e percentual de hospitalizações é baixo em comparação com o coronavírus. Como não temos no dataset a quantidade de mortes, é difícil prever, porém, nos baseando no percentual de hospitalizações, esse percentual muito provavelmente será baixo também.\n",
    "\n",
    "Devemos nos instruir e nos conscientizar sobre maneiras de prevenção para que não escale como o coronavírus escalou e trouxe prejuízos incalculáveis.\n",
    "\n",
    "Para mais informação sobre a varíola dos macacos, acesse o site do <a href=\"https://www.gov.br/saude/pt-br/assuntos/variola-dos-macacos\" target=\"_blank\">Ministério da Sáude</a>."
   ]
  },
  {
   "cell_type": "markdown",
   "id": "79ce025b-82d2-4a1a-ab98-7223a4b5c305",
   "metadata": {},
   "source": [
    "<img src=\"ty.gif\" width=\"100%\"/>"
   ]
  },
  {
   "cell_type": "markdown",
   "id": "7eaff745-04f0-4c5e-992b-0ba8a1744c78",
   "metadata": {},
   "source": [
    "<a href=\"#indice\"><img src=\"botao-topo.png\" width=\"15%\"/></div>"
   ]
  },
  {
   "cell_type": "markdown",
   "id": "583e4c5a-6283-4a9c-acbf-eb24afbc4666",
   "metadata": {},
   "source": [
    "\n",
    "\n"
   ]
  },
  {
   "cell_type": "code",
   "execution_count": null,
   "id": "71df1bf1-27b9-4c98-aa2f-e6d528e6a806",
   "metadata": {},
   "outputs": [],
   "source": []
  }
 ],
 "metadata": {
  "kernelspec": {
   "display_name": "Python 3 (ipykernel)",
   "language": "python",
   "name": "python3"
  },
  "language_info": {
   "codemirror_mode": {
    "name": "ipython",
    "version": 3
   },
   "file_extension": ".py",
   "mimetype": "text/x-python",
   "name": "python",
   "nbconvert_exporter": "python",
   "pygments_lexer": "ipython3",
   "version": "3.9.12"
  }
 },
 "nbformat": 4,
 "nbformat_minor": 5
}
