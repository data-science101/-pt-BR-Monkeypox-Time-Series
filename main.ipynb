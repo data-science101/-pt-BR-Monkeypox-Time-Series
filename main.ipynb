{
 "cells": [
  {
   "cell_type": "markdown",
   "id": "fdcc0d0d-269f-43b3-af22-97fe7b6c5612",
   "metadata": {},
   "source": [
    "<img src=\"topo.png\" width=\"100%\"/><br /> <i>Última análise: 31/08/2022</i>"
   ]
  },
  {
   "cell_type": "markdown",
   "id": "7e55688e-7dc8-441b-90e1-a072c7616044",
   "metadata": {},
   "source": [
    "<div id=\"indice\" class=\"alert alert-block alert-success\">\n",
    "\n",
    "<h1>Índice</h1>\n",
    "<ol>\n",
    "    <li><a href=\"#0\">Objetivo</a></li>\n",
    "    <li><a href=\"#1\">Sobre a varíola dos macacos</a></li>\n",
    "    <li><a href=\"#2\">Verificação de dados</a></li>\n",
    "    <li><a href=\"#3\">Curiosidades (EDA)</a></li>\n",
    "    <li><a href=\"#4\">Previsões com Prophet</a></li>\n",
    "        <ol>\n",
    "        <li><a href=\"#41\">Previsão de novos casos diários - 90 Dias</a></li>\n",
    "        <li><a href=\"#42\">Previsão de novos casos diários acumulados</a></li>\n",
    "    </ol>\n",
    "    <li><a href=\"#5\">Conclusões</a></li>\n",
    "    </ol>\n",
    "</div>"
   ]
  },
  {
   "cell_type": "markdown",
   "id": "d5af8ff6-d80c-4b80-9115-c1cbff1f7d7f",
   "metadata": {},
   "source": [
    "<div id=\"0\"><h1>1 - Objetivo</h1>"
   ]
  },
  {
   "cell_type": "markdown",
   "id": "1c8041f3-4bf8-4a54-9397-2da824b11283",
   "metadata": {},
   "source": [
    "O objetivo desse estudo é conhecer mais sobre a varíola dos macacos, como está a situação atual no mundo, quantidade de hospitalizações e principalmente previsões no crescimento dos casos no Brasil, extraindo informações que podem ser úteis para a população em geral.\n",
    "\n",
    "Foi utilizado o dataset público do Kaggle, atualizado diariamente neste <a href=\"https://www.kaggle.com/datasets/deepcontractor/monkeypox-dataset-daily-updated/download?datasetVersionNumber=101\" target=\"_blank\">link</a>."
   ]
  },
  {
   "cell_type": "markdown",
   "id": "8a9dfb76-0570-4750-a2a1-afdb8f9da8ac",
   "metadata": {},
   "source": [
    "<div id=\"1\"><h1>2 - Sobre a varíola dos macacos</h1>\n",
    "\n",
    "<p>A varíola dos macacos é transmitida pelo vírus monkeypox, que pertence ao gênero orthopoxvirus. É considerada uma zoonose viral (o vírus é transmitido aos seres humanos a partir de animais) com sintomas muito semelhantes aos observados em pacientes com varíola, embora seja clinicamente menos grave. O período de incubação da varíola dos macacos é geralmente de seis a 13 dias, mas pode variar de cinco a 21 dias, segundo a Organização Mundial da Saúde (OMS).</p>\n",
    "\n",
    "<p>O nome monkeypox se origina da descoberta inicial do vírus em macacos em um laboratório dinamarquês em 1958. O primeiro caso humano foi identificado em uma criança na República Democrática do Congo em 1970. Atualmente, segundo a OMS esclareceu, a maioria dos animais suscetíveis a este tipo de varíola são roedores, como ratos e cão-da-pradaria.</p>\n",
    "\n",
    "<p>A transmissão ocorre por contato próximo com lesões, fluidos corporais, gotículas respiratórias e materiais contaminados, como roupas de cama. E, segundo o órgão de saúde, a transmissão de humano para humano está ocorrendo entre pessoas com contato físico próximo com casos sintomáticos.</p>\n",
    "\n",
    "<p>O contato próximo com pessoas infectadas ou materiais contaminados deve ser evitado. Luvas e outras roupas e equipamentos de proteção individual devem ser usados ao cuidar dos doentes, seja em uma unidade de saúde ou em casa.</p>\n",
    "\n",
    "<h2>Sintomas:</h2>\n",
    "\n",
    "<p>A OMS descreve quadros diferentes de sintomas para casos suspeitos, prováveis e confirmados. Passa a ser considerado um caso suspeito qualquer pessoa, de qualquer idade, que apresente pústulas (bolhas) na pele de forma aguda e inexplicável e esteja em um país onde a varíola dos macacos não é endêmica. Se este quadro for acompanhado por dor de cabeça, início de febre acima de 38,5°C, linfonodos inchados, dores musculares e no corpo, dor nas costas e fraqueza profunda, é necessário fazer exame para confirmar ou descartar a doença.</p>\n",
    "\n",
    "<p>Casos considerados “prováveis” incluem sintomas semelhantes aos dos casos suspeitos, como contato físico pele a pele ou com lesões na pele, contato sexual ou com materiais contaminados 21 dias antes do início dos sintomas. Soma-se a isso, histórico de viagens para um país endêmico ou ter tido contato próximo com possíveis infectados no mesmo período e/ou ter resultado positivo para um teste sorológico de orthopoxvirus na ausência de vacinação contra varíola ou outra exposição conhecida ao vírus.</p>\n",
    "\n",
    "<p>Casos confirmados ocorrem quando há confirmação laboratorial para o vírus da varíola dos macacos por meio do exame PCR (Reação em Cadeia da Polimerase) em tempo real e/ou sequenciamento.</p>\n",
    "\n",
    "<p>A prevenção e o controle dependem da conscientização das comunidades e da educação dos profissionais de saúde para prevenir a infecção e interromper a transmissão.</p>\n",
    "\n",
    " \n",
    "\n",
    "<p><b>Fontes:</b></p>\n",
    "\n",
    "<ul>\n",
    "    <li><a href=\"https://bvsms.saude.gov.br/02-6-variola-dos-macacos/\" target=\"_blank\">Biblioteca Virtual em Saúde</a></li>\n",
    "    <li><a href=\"https://butantan.gov.br/noticias/variola-dos-macacos-sintomas-transmissao-origem-e-numero-de-casos-sao-atualizados-pela-oms\" target=\"_blank\">Instituto Butantan</a></li>\n",
    "    <li><a href=\"https://brasil.un.org/pt-br/183321-surto-de-variola-dos-macacos-ainda-pode-ser-controlado-garante-oms\" target=\"_blank\">Organização das Nações Unidas (ONU) – Escritório Brasil</a></li>\n",
    "    <li><a href=\"https://news.un.org/pt/story/2022/05/1790052\" target=\"_blank\">ONU News</a<</li>\n",
    "</ul>\n",
    "</div>"
   ]
  },
  {
   "cell_type": "markdown",
   "id": "a3f95ce7-8446-4c35-9afc-a743a9bd8067",
   "metadata": {},
   "source": [
    "<a href=\"#indice\"><img src=\"botao-topo.png\" width=\"15%\"/></a>"
   ]
  },
  {
   "cell_type": "markdown",
   "id": "10d66d22-1d30-416b-98a5-4fcb55556fb2",
   "metadata": {},
   "source": [
    "<h4>Importação de bibliotecas necessárias</h4>"
   ]
  },
  {
   "cell_type": "code",
   "execution_count": 168,
   "id": "d418ca2f-99ab-4e2d-9a24-3c81f0400bfb",
   "metadata": {},
   "outputs": [],
   "source": [
    "import pandas as pd\n",
    "import numpy as np\n",
    "import seaborn as sns\n",
    "import matplotlib.pyplot as plt\n",
    "import plotly_express as px\n",
    "from prophet import Prophet\n",
    "from prophet.plot import plot_plotly, plot_components_plotly\n",
    "import plotly.graph_objects as go\n",
    "import plotly.express as px\n",
    "import warnings\n",
    "warnings.filterwarnings(\"ignore\")"
   ]
  },
  {
   "cell_type": "markdown",
   "id": "4d3ab698-a2f0-4150-a40a-5b01096cdf04",
   "metadata": {},
   "source": [
    "<h4>Importação de CVs para o Pandas</h4>"
   ]
  },
  {
   "cell_type": "code",
   "execution_count": 169,
   "id": "ce0a883a-6dc6-468e-b153-ddc2090fa817",
   "metadata": {},
   "outputs": [],
   "source": [
    "timeline_casos = pd.read_csv(\"Worldwide_Case_Detection_Timeline.csv\", index_col=\"Date_confirmation\")\n",
    "casos_mundo = pd.read_csv(\"Monkey_Pox_Cases_Worldwide.csv\",index_col=\"Country\")\n",
    "casos_diarios_mundo = pd.read_csv(\"Daily_Country_Wise_Confirmed_Cases.csv\",index_col=\"Country\")"
   ]
  },
  {
   "cell_type": "code",
   "execution_count": 170,
   "id": "bc44a8ce-f6fa-4729-9be2-b371647f1d0e",
   "metadata": {},
   "outputs": [],
   "source": [
    "pd.set_option('display.max_rows', 30)"
   ]
  },
  {
   "cell_type": "code",
   "execution_count": 171,
   "id": "531b5768-cf0b-45e7-8781-81698768f78b",
   "metadata": {},
   "outputs": [],
   "source": [
    "def espaco():\n",
    "    print('--' * 40)"
   ]
  },
  {
   "cell_type": "markdown",
   "id": "4d6af0d2-2acb-4200-8c71-45a48380d46a",
   "metadata": {},
   "source": [
    "<a href=\"#indice\"><img src=\"botao-topo.png\" width=\"15%\"/></a>"
   ]
  },
  {
   "cell_type": "markdown",
   "id": "fdac68da-3579-420b-8035-4c73c98f7493",
   "metadata": {
    "tags": []
   },
   "source": [
    "<div id=\"2\"><h2>3 - Verificações de dados</h2></div>"
   ]
  },
  {
   "cell_type": "markdown",
   "id": "3a7e6450-0659-449c-b26f-6b7bd453c15d",
   "metadata": {},
   "source": [
    "<h4>Quantidade de linhas e colunas em cada dataset</h4>"
   ]
  },
  {
   "cell_type": "code",
   "execution_count": 172,
   "id": "de18b77d-bca5-4df0-bf70-cc55037ab25b",
   "metadata": {},
   "outputs": [
    {
     "name": "stdout",
     "output_type": "stream",
     "text": [
      "(51054, 8)\n",
      "(120, 5)\n",
      "(103, 118)\n"
     ]
    }
   ],
   "source": [
    "print(timeline_casos.shape)\n",
    "print(casos_mundo.shape)\n",
    "print(casos_diarios_mundo.shape)"
   ]
  },
  {
   "cell_type": "markdown",
   "id": "2d02be35-1af2-4c4a-aaac-48543403e00d",
   "metadata": {},
   "source": [
    "<h4>Verificação de tipos de cada coluna</h4>"
   ]
  },
  {
   "cell_type": "code",
   "execution_count": 173,
   "id": "61c4acb8-286f-49fe-8a1b-bf1317366b3a",
   "metadata": {},
   "outputs": [
    {
     "name": "stdout",
     "output_type": "stream",
     "text": [
      "--------------------------------------------------------------------------------\n",
      "Informações timeline de casos: \n",
      "<class 'pandas.core.frame.DataFrame'>\n",
      "Index: 51054 entries, 2022-01-31 to 2022-08-30\n",
      "Data columns (total 8 columns):\n",
      " #   Column                   Non-Null Count  Dtype \n",
      "---  ------                   --------------  ----- \n",
      " 0   Country                  51054 non-null  object\n",
      " 1   City                     1146 non-null   object\n",
      " 2   Age                      2693 non-null   object\n",
      " 3   Gender                   2200 non-null   object\n",
      " 4   Symptoms                 182 non-null    object\n",
      " 5   Hospitalised (Y/N/NA)    282 non-null    object\n",
      " 6   Isolated (Y/N/NA)        386 non-null    object\n",
      " 7   Travel_history (Y/N/NA)  324 non-null    object\n",
      "dtypes: object(8)\n",
      "memory usage: 3.5+ MB\n",
      "None\n",
      "--------------------------------------------------------------------------------\n",
      "Informações de casos diários no mundo: \n",
      "<class 'pandas.core.frame.DataFrame'>\n",
      "Index: 103 entries, Nigeria to Paraguay\n",
      "Columns: 118 entries, 2022-01-31 to 2022-08-30\n",
      "dtypes: int64(118)\n",
      "memory usage: 95.8+ KB\n",
      "None\n",
      "--------------------------------------------------------------------------------\n",
      "Informações de casos no mundo: \n",
      "<class 'pandas.core.frame.DataFrame'>\n",
      "Index: 120 entries, England to Sierra Leone\n",
      "Data columns (total 5 columns):\n",
      " #   Column              Non-Null Count  Dtype  \n",
      "---  ------              --------------  -----  \n",
      " 0   Confirmed_Cases     120 non-null    float64\n",
      " 1   Suspected_Cases     120 non-null    float64\n",
      " 2   Hospitalized        120 non-null    float64\n",
      " 3   Travel_History_Yes  120 non-null    float64\n",
      " 4   Travel_History_No   120 non-null    float64\n",
      "dtypes: float64(5)\n",
      "memory usage: 5.6+ KB\n",
      "None\n",
      "--------------------------------------------------------------------------------\n"
     ]
    }
   ],
   "source": [
    "espaco()\n",
    "print('Informações timeline de casos: ')\n",
    "print(timeline_casos.info())\n",
    "espaco()\n",
    "print('Informações de casos diários no mundo: ')\n",
    "print(casos_diarios_mundo.info())\n",
    "espaco()\n",
    "print('Informações de casos no mundo: ')\n",
    "print(casos_mundo.info())\n",
    "espaco()"
   ]
  },
  {
   "cell_type": "markdown",
   "id": "46eea56f-d63f-4a11-b2a4-ad1d67eb9f9e",
   "metadata": {},
   "source": [
    "<b style=\"color:#1e6d06\">Observação:</b> As colunas estão no formato que precisam, apenas as datas dos casos diários que estão como int e vamos converter para datetime mais pra frente."
   ]
  },
  {
   "cell_type": "markdown",
   "id": "77b85324-a01d-466c-9c8e-afeef31621cf",
   "metadata": {},
   "source": [
    "<h4>Verificação de dados nulos</h4>"
   ]
  },
  {
   "cell_type": "code",
   "execution_count": 174,
   "id": "54f0d988-ef0d-46e4-a3d4-84bb08a9d9d5",
   "metadata": {},
   "outputs": [
    {
     "name": "stdout",
     "output_type": "stream",
     "text": [
      "--------------------------------------------------------------------------------\n",
      "Country                        0\n",
      "City                       49908\n",
      "Age                        48361\n",
      "Gender                     48854\n",
      "Symptoms                   50872\n",
      "Hospitalised (Y/N/NA)      50772\n",
      "Isolated (Y/N/NA)          50668\n",
      "Travel_history (Y/N/NA)    50730\n",
      "dtype: int64\n",
      "--------------------------------------------------------------------------------\n",
      "2022-01-31    0\n",
      "2022-02-17    0\n",
      "2022-02-28    0\n",
      "2022-03-04    0\n",
      "2022-03-31    0\n",
      "             ..\n",
      "2022-08-26    0\n",
      "2022-08-27    0\n",
      "2022-08-28    0\n",
      "2022-08-29    0\n",
      "2022-08-30    0\n",
      "Length: 118, dtype: int64\n",
      "--------------------------------------------------------------------------------\n",
      "Confirmed_Cases       0\n",
      "Suspected_Cases       0\n",
      "Hospitalized          0\n",
      "Travel_History_Yes    0\n",
      "Travel_History_No     0\n",
      "dtype: int64\n",
      "--------------------------------------------------------------------------------\n"
     ]
    }
   ],
   "source": [
    "espaco()\n",
    "print(timeline_casos.isnull().sum())\n",
    "espaco()\n",
    "print(casos_diarios_mundo.isnull().sum())\n",
    "espaco()\n",
    "print(casos_mundo.isnull().sum())\n",
    "espaco()"
   ]
  },
  {
   "cell_type": "code",
   "execution_count": 175,
   "id": "deba6867-4e86-4066-b7f0-b0fd3700efff",
   "metadata": {},
   "outputs": [
    {
     "name": "stdout",
     "output_type": "stream",
     "text": [
      "--------------------------------------------------------------------------------\n",
      "Country                        0\n",
      "City                       49908\n",
      "Age                        48361\n",
      "Gender                     48854\n",
      "Symptoms                   50872\n",
      "Hospitalised (Y/N/NA)      50772\n",
      "Isolated (Y/N/NA)          50668\n",
      "Travel_history (Y/N/NA)    50730\n",
      "dtype: int64\n",
      "--------------------------------------------------------------------------------\n",
      "2022-01-31    0\n",
      "2022-02-17    0\n",
      "2022-02-28    0\n",
      "2022-03-04    0\n",
      "2022-03-31    0\n",
      "             ..\n",
      "2022-08-26    0\n",
      "2022-08-27    0\n",
      "2022-08-28    0\n",
      "2022-08-29    0\n",
      "2022-08-30    0\n",
      "Length: 118, dtype: int64\n",
      "--------------------------------------------------------------------------------\n",
      "Confirmed_Cases       0\n",
      "Suspected_Cases       0\n",
      "Hospitalized          0\n",
      "Travel_History_Yes    0\n",
      "Travel_History_No     0\n",
      "dtype: int64\n",
      "--------------------------------------------------------------------------------\n"
     ]
    }
   ],
   "source": [
    "espaco()\n",
    "print(timeline_casos.isnull().sum())\n",
    "espaco()\n",
    "print(casos_diarios_mundo.isnull().sum())\n",
    "espaco()\n",
    "print(casos_mundo.isnull().sum())\n",
    "espaco()"
   ]
  },
  {
   "cell_type": "markdown",
   "id": "dcc6d04d-3fa2-42a3-a847-38f07022a4c2",
   "metadata": {},
   "source": [
    "<h4>Detalhes de cada dataset</h4>"
   ]
  },
  {
   "cell_type": "code",
   "execution_count": 176,
   "id": "3ae63ad9-f0a2-4c0f-8a52-9475d6c074ed",
   "metadata": {},
   "outputs": [
    {
     "name": "stdout",
     "output_type": "stream",
     "text": [
      "--------------------------------------------------------------------------------\n",
      "              Country     City    Age Gender               Symptoms  \\\n",
      "count           51054     1146   2693   2200                    182   \n",
      "unique            104      161     82      5                     85   \n",
      "top     United States  Toronto  20-69   male  genital ulcer lesions   \n",
      "freq            18553      437    585   2162                     30   \n",
      "\n",
      "       Hospitalised (Y/N/NA) Isolated (Y/N/NA) Travel_history (Y/N/NA)  \n",
      "count                    282               386                     324  \n",
      "unique                     2                 1                       2  \n",
      "top                        N                 Y                       Y  \n",
      "freq                     161               386                     238  \n",
      "--------------------------------------------------------------------------------\n",
      "       2022-01-31  2022-02-17  2022-02-28  2022-03-04  2022-03-31  2022-04-10  \\\n",
      "count  103.000000  103.000000  103.000000  103.000000  103.000000  103.000000   \n",
      "mean     0.029126    0.029126    0.009709    0.019417    0.058252    0.038835   \n",
      "std      0.295599    0.295599    0.098533    0.197066    0.591198    0.394132   \n",
      "min      0.000000    0.000000    0.000000    0.000000    0.000000    0.000000   \n",
      "25%      0.000000    0.000000    0.000000    0.000000    0.000000    0.000000   \n",
      "50%      0.000000    0.000000    0.000000    0.000000    0.000000    0.000000   \n",
      "75%      0.000000    0.000000    0.000000    0.000000    0.000000    0.000000   \n",
      "max      3.000000    3.000000    1.000000    2.000000    6.000000    4.000000   \n",
      "\n",
      "       2022-04-12  2022-04-30  2022-05-06  2022-05-08  ...  2022-08-21  \\\n",
      "count  103.000000  103.000000  103.000000  103.000000  ...  103.000000   \n",
      "mean     0.019417    0.048544    0.009709    0.097087  ...    1.048544   \n",
      "std      0.197066    0.492665    0.098533    0.985329  ...    6.794431   \n",
      "min      0.000000    0.000000    0.000000    0.000000  ...    0.000000   \n",
      "25%      0.000000    0.000000    0.000000    0.000000  ...    0.000000   \n",
      "50%      0.000000    0.000000    0.000000    0.000000  ...    0.000000   \n",
      "75%      0.000000    0.000000    0.000000    0.000000  ...    0.000000   \n",
      "max      2.000000    5.000000    1.000000   10.000000  ...   60.000000   \n",
      "\n",
      "        2022-08-22  2022-08-23  2022-08-24  2022-08-25  2022-08-26  \\\n",
      "count   103.000000  103.000000  103.000000  103.000000  103.000000   \n",
      "mean     20.029126   14.087379   10.184466    6.184466   10.349515   \n",
      "std     130.697185   71.862083   69.187405   33.842411   57.514484   \n",
      "min       0.000000    0.000000    0.000000    0.000000    0.000000   \n",
      "25%       0.000000    0.000000    0.000000    0.000000    0.000000   \n",
      "50%       0.000000    0.000000    0.000000    0.000000    0.000000   \n",
      "75%       0.000000    0.000000    0.000000    0.000000    0.000000   \n",
      "max    1308.000000  532.000000  682.000000  323.000000  499.000000   \n",
      "\n",
      "       2022-08-27  2022-08-28  2022-08-29  2022-08-30  \n",
      "count  103.000000  103.000000  103.000000  103.000000  \n",
      "mean     0.572816    0.514563   16.155340    5.330097  \n",
      "std      4.230148    5.123694   75.937507   35.715210  \n",
      "min      0.000000    0.000000    0.000000    0.000000  \n",
      "25%      0.000000    0.000000    0.000000    0.000000  \n",
      "50%      0.000000    0.000000    0.000000    0.000000  \n",
      "75%      0.000000    0.000000    0.000000    0.000000  \n",
      "max     40.000000   52.000000  659.000000  313.000000  \n",
      "\n",
      "[8 rows x 118 columns]\n",
      "--------------------------------------------------------------------------------\n",
      "       Confirmed_Cases  Suspected_Cases  Hospitalized  Travel_History_Yes  \\\n",
      "count       120.000000       120.000000    120.000000          120.000000   \n",
      "mean        422.916667        21.575000      1.191667            2.191667   \n",
      "std        1883.626627       203.969336      2.870586            4.909767   \n",
      "min           0.000000         0.000000      0.000000            0.000000   \n",
      "25%           2.000000         0.000000      0.000000            0.000000   \n",
      "50%           6.000000         0.000000      0.000000            1.000000   \n",
      "75%          70.000000         0.000000      1.000000            3.000000   \n",
      "max       18308.000000      2217.000000     18.000000           41.000000   \n",
      "\n",
      "       Travel_History_No  \n",
      "count         120.000000  \n",
      "mean            0.733333  \n",
      "std             3.627007  \n",
      "min             0.000000  \n",
      "25%             0.000000  \n",
      "50%             0.000000  \n",
      "75%             0.000000  \n",
      "max            34.000000  \n",
      "--------------------------------------------------------------------------------\n"
     ]
    }
   ],
   "source": [
    "espaco()\n",
    "print(timeline_casos.describe(include = 'all'))\n",
    "espaco()\n",
    "print(casos_diarios_mundo.describe(include = 'all'))\n",
    "espaco()\n",
    "print(casos_mundo.describe(include = 'all'))\n",
    "espaco()"
   ]
  },
  {
   "cell_type": "markdown",
   "id": "7c7f8a28-e494-4392-b9d5-4ea8023cb82d",
   "metadata": {},
   "source": [
    "<a href=\"#indice\"><img src=\"botao-topo.png\" width=\"15%\"/></a>"
   ]
  },
  {
   "cell_type": "markdown",
   "id": "9096345b-b75b-415f-b6dd-dbfabfe23ab2",
   "metadata": {},
   "source": [
    "<div id=\"3\"><h2>4 - Curiosidades (EDA)</h2></div>"
   ]
  },
  {
   "cell_type": "markdown",
   "id": "97b6646b-e3ea-4c9b-ba4c-01c4dfeebf37",
   "metadata": {
    "tags": []
   },
   "source": [
    "<h4>Top 20 países com mais casos confirmados</h4>"
   ]
  },
  {
   "cell_type": "code",
   "execution_count": 177,
   "id": "4450fc6e-18e5-435c-af92-7ac2f5cdcb97",
   "metadata": {},
   "outputs": [
    {
     "data": {
      "text/html": [
       "<div>\n",
       "<style scoped>\n",
       "    .dataframe tbody tr th:only-of-type {\n",
       "        vertical-align: middle;\n",
       "    }\n",
       "\n",
       "    .dataframe tbody tr th {\n",
       "        vertical-align: top;\n",
       "    }\n",
       "\n",
       "    .dataframe thead th {\n",
       "        text-align: right;\n",
       "    }\n",
       "</style>\n",
       "<table border=\"1\" class=\"dataframe\">\n",
       "  <thead>\n",
       "    <tr style=\"text-align: right;\">\n",
       "      <th></th>\n",
       "      <th>Confirmed_Cases</th>\n",
       "    </tr>\n",
       "    <tr>\n",
       "      <th>Country</th>\n",
       "      <th></th>\n",
       "    </tr>\n",
       "  </thead>\n",
       "  <tbody>\n",
       "    <tr>\n",
       "      <th>United States</th>\n",
       "      <td>18308.0</td>\n",
       "    </tr>\n",
       "    <tr>\n",
       "      <th>Spain</th>\n",
       "      <td>6459.0</td>\n",
       "    </tr>\n",
       "    <tr>\n",
       "      <th>Brazil</th>\n",
       "      <td>4876.0</td>\n",
       "    </tr>\n",
       "    <tr>\n",
       "      <th>France</th>\n",
       "      <td>3539.0</td>\n",
       "    </tr>\n",
       "    <tr>\n",
       "      <th>Germany</th>\n",
       "      <td>3455.0</td>\n",
       "    </tr>\n",
       "    <tr>\n",
       "      <th>England</th>\n",
       "      <td>3257.0</td>\n",
       "    </tr>\n",
       "    <tr>\n",
       "      <th>Peru</th>\n",
       "      <td>1463.0</td>\n",
       "    </tr>\n",
       "    <tr>\n",
       "      <th>Canada</th>\n",
       "      <td>1228.0</td>\n",
       "    </tr>\n",
       "    <tr>\n",
       "      <th>Netherlands</th>\n",
       "      <td>1136.0</td>\n",
       "    </tr>\n",
       "    <tr>\n",
       "      <th>Portugal</th>\n",
       "      <td>846.0</td>\n",
       "    </tr>\n",
       "    <tr>\n",
       "      <th>Italy</th>\n",
       "      <td>740.0</td>\n",
       "    </tr>\n",
       "    <tr>\n",
       "      <th>Belgium</th>\n",
       "      <td>671.0</td>\n",
       "    </tr>\n",
       "    <tr>\n",
       "      <th>Colombia</th>\n",
       "      <td>582.0</td>\n",
       "    </tr>\n",
       "    <tr>\n",
       "      <th>Mexico</th>\n",
       "      <td>504.0</td>\n",
       "    </tr>\n",
       "    <tr>\n",
       "      <th>Switzerland</th>\n",
       "      <td>456.0</td>\n",
       "    </tr>\n",
       "    <tr>\n",
       "      <th>Chile</th>\n",
       "      <td>344.0</td>\n",
       "    </tr>\n",
       "    <tr>\n",
       "      <th>Austria</th>\n",
       "      <td>265.0</td>\n",
       "    </tr>\n",
       "    <tr>\n",
       "      <th>Israel</th>\n",
       "      <td>234.0</td>\n",
       "    </tr>\n",
       "    <tr>\n",
       "      <th>Denmark</th>\n",
       "      <td>174.0</td>\n",
       "    </tr>\n",
       "    <tr>\n",
       "      <th>Nigeria</th>\n",
       "      <td>172.0</td>\n",
       "    </tr>\n",
       "  </tbody>\n",
       "</table>\n",
       "</div>"
      ],
      "text/plain": [
       "               Confirmed_Cases\n",
       "Country                       \n",
       "United States          18308.0\n",
       "Spain                   6459.0\n",
       "Brazil                  4876.0\n",
       "France                  3539.0\n",
       "Germany                 3455.0\n",
       "England                 3257.0\n",
       "Peru                    1463.0\n",
       "Canada                  1228.0\n",
       "Netherlands             1136.0\n",
       "Portugal                 846.0\n",
       "Italy                    740.0\n",
       "Belgium                  671.0\n",
       "Colombia                 582.0\n",
       "Mexico                   504.0\n",
       "Switzerland              456.0\n",
       "Chile                    344.0\n",
       "Austria                  265.0\n",
       "Israel                   234.0\n",
       "Denmark                  174.0\n",
       "Nigeria                  172.0"
      ]
     },
     "execution_count": 177,
     "metadata": {},
     "output_type": "execute_result"
    }
   ],
   "source": [
    "casos_mundo.sort_values(by=\"Confirmed_Cases\",ascending=False )[[\"Confirmed_Cases\"]][:20]"
   ]
  },
  {
   "cell_type": "markdown",
   "id": "6a1db695-f5c0-4c3a-a3c7-070b95d69fa9",
   "metadata": {},
   "source": [
    "<b style=\"color:#1e6d06\">Observação:</b> Infelizmente o Brasil já figura na terceira posição, com 4876 casos confirmados."
   ]
  },
  {
   "cell_type": "markdown",
   "id": "142e346f-1041-4d54-9252-5f178eba02a3",
   "metadata": {
    "tags": []
   },
   "source": [
    "<h4>Top 20 países com mais hospitalizações</h4>"
   ]
  },
  {
   "cell_type": "code",
   "execution_count": 178,
   "id": "6ec0d12a-2e98-46ed-a4ed-1a480844fcde",
   "metadata": {},
   "outputs": [
    {
     "data": {
      "text/html": [
       "<div>\n",
       "<style scoped>\n",
       "    .dataframe tbody tr th:only-of-type {\n",
       "        vertical-align: middle;\n",
       "    }\n",
       "\n",
       "    .dataframe tbody tr th {\n",
       "        vertical-align: top;\n",
       "    }\n",
       "\n",
       "    .dataframe thead th {\n",
       "        text-align: right;\n",
       "    }\n",
       "</style>\n",
       "<table border=\"1\" class=\"dataframe\">\n",
       "  <thead>\n",
       "    <tr style=\"text-align: right;\">\n",
       "      <th></th>\n",
       "      <th>Confirmed_Cases</th>\n",
       "      <th>Hospitalized</th>\n",
       "    </tr>\n",
       "    <tr>\n",
       "      <th>Country</th>\n",
       "      <th></th>\n",
       "      <th></th>\n",
       "    </tr>\n",
       "  </thead>\n",
       "  <tbody>\n",
       "    <tr>\n",
       "      <th>Italy</th>\n",
       "      <td>740.0</td>\n",
       "      <td>18.0</td>\n",
       "    </tr>\n",
       "    <tr>\n",
       "      <th>Germany</th>\n",
       "      <td>3455.0</td>\n",
       "      <td>18.0</td>\n",
       "    </tr>\n",
       "    <tr>\n",
       "      <th>Spain</th>\n",
       "      <td>6459.0</td>\n",
       "      <td>13.0</td>\n",
       "    </tr>\n",
       "    <tr>\n",
       "      <th>Singapore</th>\n",
       "      <td>16.0</td>\n",
       "      <td>8.0</td>\n",
       "    </tr>\n",
       "    <tr>\n",
       "      <th>Romania</th>\n",
       "      <td>36.0</td>\n",
       "      <td>7.0</td>\n",
       "    </tr>\n",
       "    <tr>\n",
       "      <th>England</th>\n",
       "      <td>3257.0</td>\n",
       "      <td>5.0</td>\n",
       "    </tr>\n",
       "    <tr>\n",
       "      <th>Bolivia</th>\n",
       "      <td>79.0</td>\n",
       "      <td>5.0</td>\n",
       "    </tr>\n",
       "    <tr>\n",
       "      <th>United States</th>\n",
       "      <td>18308.0</td>\n",
       "      <td>4.0</td>\n",
       "    </tr>\n",
       "    <tr>\n",
       "      <th>Dominican Republic</th>\n",
       "      <td>9.0</td>\n",
       "      <td>4.0</td>\n",
       "    </tr>\n",
       "    <tr>\n",
       "      <th>Japan</th>\n",
       "      <td>4.0</td>\n",
       "      <td>4.0</td>\n",
       "    </tr>\n",
       "    <tr>\n",
       "      <th>Brazil</th>\n",
       "      <td>4876.0</td>\n",
       "      <td>4.0</td>\n",
       "    </tr>\n",
       "    <tr>\n",
       "      <th>Thailand</th>\n",
       "      <td>7.0</td>\n",
       "      <td>4.0</td>\n",
       "    </tr>\n",
       "    <tr>\n",
       "      <th>India</th>\n",
       "      <td>10.0</td>\n",
       "      <td>3.0</td>\n",
       "    </tr>\n",
       "    <tr>\n",
       "      <th>Cyprus</th>\n",
       "      <td>5.0</td>\n",
       "      <td>3.0</td>\n",
       "    </tr>\n",
       "    <tr>\n",
       "      <th>Somalia</th>\n",
       "      <td>0.0</td>\n",
       "      <td>3.0</td>\n",
       "    </tr>\n",
       "    <tr>\n",
       "      <th>Israel</th>\n",
       "      <td>234.0</td>\n",
       "      <td>3.0</td>\n",
       "    </tr>\n",
       "    <tr>\n",
       "      <th>Austria</th>\n",
       "      <td>265.0</td>\n",
       "      <td>2.0</td>\n",
       "    </tr>\n",
       "    <tr>\n",
       "      <th>Greece</th>\n",
       "      <td>56.0</td>\n",
       "      <td>2.0</td>\n",
       "    </tr>\n",
       "    <tr>\n",
       "      <th>Belgium</th>\n",
       "      <td>671.0</td>\n",
       "      <td>2.0</td>\n",
       "    </tr>\n",
       "    <tr>\n",
       "      <th>Peru</th>\n",
       "      <td>1463.0</td>\n",
       "      <td>2.0</td>\n",
       "    </tr>\n",
       "  </tbody>\n",
       "</table>\n",
       "</div>"
      ],
      "text/plain": [
       "                    Confirmed_Cases  Hospitalized\n",
       "Country                                          \n",
       "Italy                         740.0          18.0\n",
       "Germany                      3455.0          18.0\n",
       "Spain                        6459.0          13.0\n",
       "Singapore                      16.0           8.0\n",
       "Romania                        36.0           7.0\n",
       "England                      3257.0           5.0\n",
       "Bolivia                        79.0           5.0\n",
       "United States               18308.0           4.0\n",
       "Dominican Republic              9.0           4.0\n",
       "Japan                           4.0           4.0\n",
       "Brazil                       4876.0           4.0\n",
       "Thailand                        7.0           4.0\n",
       "India                          10.0           3.0\n",
       "Cyprus                          5.0           3.0\n",
       "Somalia                         0.0           3.0\n",
       "Israel                        234.0           3.0\n",
       "Austria                       265.0           2.0\n",
       "Greece                         56.0           2.0\n",
       "Belgium                       671.0           2.0\n",
       "Peru                         1463.0           2.0"
      ]
     },
     "execution_count": 178,
     "metadata": {},
     "output_type": "execute_result"
    }
   ],
   "source": [
    "casos_mundo.sort_values(by=\"Hospitalized\",ascending=False )[[\"Confirmed_Cases\",\"Hospitalized\"]][:20]"
   ]
  },
  {
   "cell_type": "markdown",
   "id": "838bfac4-7086-4eac-a1c7-b03b988c9c43",
   "metadata": {},
   "source": [
    "<b style=\"color:#1e6d06\">Observação:</b> Temos 4 hospitalizações, é interessante descobrirmos o percentual relativo à quantidade de casos."
   ]
  },
  {
   "cell_type": "markdown",
   "id": "f50fcc7a-a835-4e36-bba5-8a98ed37ae34",
   "metadata": {},
   "source": [
    "<h4>Criação de coluna com percentual de hospitalizações</h4>"
   ]
  },
  {
   "cell_type": "code",
   "execution_count": 179,
   "id": "7f4b0b78-f78e-4d1a-a681-5f649764a379",
   "metadata": {},
   "outputs": [],
   "source": [
    "casos_mundo['Hospercent'] = (casos_mundo['Hospitalized'] / casos_mundo['Confirmed_Cases']) * 100"
   ]
  },
  {
   "cell_type": "code",
   "execution_count": 180,
   "id": "03651de5-0415-4c1d-891a-031e8bfc9430",
   "metadata": {},
   "outputs": [
    {
     "data": {
      "text/html": [
       "<div>\n",
       "<style scoped>\n",
       "    .dataframe tbody tr th:only-of-type {\n",
       "        vertical-align: middle;\n",
       "    }\n",
       "\n",
       "    .dataframe tbody tr th {\n",
       "        vertical-align: top;\n",
       "    }\n",
       "\n",
       "    .dataframe thead th {\n",
       "        text-align: right;\n",
       "    }\n",
       "</style>\n",
       "<table border=\"1\" class=\"dataframe\">\n",
       "  <thead>\n",
       "    <tr style=\"text-align: right;\">\n",
       "      <th></th>\n",
       "      <th>Confirmed_Cases</th>\n",
       "      <th>Hospitalized</th>\n",
       "      <th>Hospercent</th>\n",
       "    </tr>\n",
       "    <tr>\n",
       "      <th>Country</th>\n",
       "      <th></th>\n",
       "      <th></th>\n",
       "      <th></th>\n",
       "    </tr>\n",
       "  </thead>\n",
       "  <tbody>\n",
       "    <tr>\n",
       "      <th>Nepal</th>\n",
       "      <td>0.0</td>\n",
       "      <td>1.0</td>\n",
       "      <td>inf</td>\n",
       "    </tr>\n",
       "    <tr>\n",
       "      <th>Somalia</th>\n",
       "      <td>0.0</td>\n",
       "      <td>3.0</td>\n",
       "      <td>inf</td>\n",
       "    </tr>\n",
       "    <tr>\n",
       "      <th>Pakistan</th>\n",
       "      <td>0.0</td>\n",
       "      <td>1.0</td>\n",
       "      <td>inf</td>\n",
       "    </tr>\n",
       "    <tr>\n",
       "      <th>Kosovo</th>\n",
       "      <td>0.0</td>\n",
       "      <td>1.0</td>\n",
       "      <td>inf</td>\n",
       "    </tr>\n",
       "    <tr>\n",
       "      <th>Cuba</th>\n",
       "      <td>1.0</td>\n",
       "      <td>1.0</td>\n",
       "      <td>100.000000</td>\n",
       "    </tr>\n",
       "    <tr>\n",
       "      <th>Japan</th>\n",
       "      <td>4.0</td>\n",
       "      <td>4.0</td>\n",
       "      <td>100.000000</td>\n",
       "    </tr>\n",
       "    <tr>\n",
       "      <th>Guyana</th>\n",
       "      <td>2.0</td>\n",
       "      <td>2.0</td>\n",
       "      <td>100.000000</td>\n",
       "    </tr>\n",
       "    <tr>\n",
       "      <th>South Korea</th>\n",
       "      <td>1.0</td>\n",
       "      <td>1.0</td>\n",
       "      <td>100.000000</td>\n",
       "    </tr>\n",
       "    <tr>\n",
       "      <th>Cyprus</th>\n",
       "      <td>5.0</td>\n",
       "      <td>3.0</td>\n",
       "      <td>60.000000</td>\n",
       "    </tr>\n",
       "    <tr>\n",
       "      <th>Thailand</th>\n",
       "      <td>7.0</td>\n",
       "      <td>4.0</td>\n",
       "      <td>57.142857</td>\n",
       "    </tr>\n",
       "    <tr>\n",
       "      <th>Moldova</th>\n",
       "      <td>2.0</td>\n",
       "      <td>1.0</td>\n",
       "      <td>50.000000</td>\n",
       "    </tr>\n",
       "    <tr>\n",
       "      <th>Singapore</th>\n",
       "      <td>16.0</td>\n",
       "      <td>8.0</td>\n",
       "      <td>50.000000</td>\n",
       "    </tr>\n",
       "    <tr>\n",
       "      <th>Dominican Republic</th>\n",
       "      <td>9.0</td>\n",
       "      <td>4.0</td>\n",
       "      <td>44.444444</td>\n",
       "    </tr>\n",
       "    <tr>\n",
       "      <th>Costa Rica</th>\n",
       "      <td>3.0</td>\n",
       "      <td>1.0</td>\n",
       "      <td>33.333333</td>\n",
       "    </tr>\n",
       "    <tr>\n",
       "      <th>Taiwan</th>\n",
       "      <td>3.0</td>\n",
       "      <td>1.0</td>\n",
       "      <td>33.333333</td>\n",
       "    </tr>\n",
       "    <tr>\n",
       "      <th>Qatar</th>\n",
       "      <td>3.0</td>\n",
       "      <td>1.0</td>\n",
       "      <td>33.333333</td>\n",
       "    </tr>\n",
       "    <tr>\n",
       "      <th>India</th>\n",
       "      <td>10.0</td>\n",
       "      <td>3.0</td>\n",
       "      <td>30.000000</td>\n",
       "    </tr>\n",
       "    <tr>\n",
       "      <th>Philippines</th>\n",
       "      <td>4.0</td>\n",
       "      <td>1.0</td>\n",
       "      <td>25.000000</td>\n",
       "    </tr>\n",
       "    <tr>\n",
       "      <th>Bulgaria</th>\n",
       "      <td>4.0</td>\n",
       "      <td>1.0</td>\n",
       "      <td>25.000000</td>\n",
       "    </tr>\n",
       "    <tr>\n",
       "      <th>Romania</th>\n",
       "      <td>36.0</td>\n",
       "      <td>7.0</td>\n",
       "      <td>19.444444</td>\n",
       "    </tr>\n",
       "  </tbody>\n",
       "</table>\n",
       "</div>"
      ],
      "text/plain": [
       "                    Confirmed_Cases  Hospitalized  Hospercent\n",
       "Country                                                      \n",
       "Nepal                           0.0           1.0         inf\n",
       "Somalia                         0.0           3.0         inf\n",
       "Pakistan                        0.0           1.0         inf\n",
       "Kosovo                          0.0           1.0         inf\n",
       "Cuba                            1.0           1.0  100.000000\n",
       "Japan                           4.0           4.0  100.000000\n",
       "Guyana                          2.0           2.0  100.000000\n",
       "South Korea                     1.0           1.0  100.000000\n",
       "Cyprus                          5.0           3.0   60.000000\n",
       "Thailand                        7.0           4.0   57.142857\n",
       "Moldova                         2.0           1.0   50.000000\n",
       "Singapore                      16.0           8.0   50.000000\n",
       "Dominican Republic              9.0           4.0   44.444444\n",
       "Costa Rica                      3.0           1.0   33.333333\n",
       "Taiwan                          3.0           1.0   33.333333\n",
       "Qatar                           3.0           1.0   33.333333\n",
       "India                          10.0           3.0   30.000000\n",
       "Philippines                     4.0           1.0   25.000000\n",
       "Bulgaria                        4.0           1.0   25.000000\n",
       "Romania                        36.0           7.0   19.444444"
      ]
     },
     "execution_count": 180,
     "metadata": {},
     "output_type": "execute_result"
    }
   ],
   "source": [
    "casos_mundo.sort_values(by=\"Hospercent\",ascending=False )[[\"Confirmed_Cases\",\"Hospitalized\",\"Hospercent\"]][:20]"
   ]
  },
  {
   "cell_type": "markdown",
   "id": "b355a045-748f-4981-a5ee-faba7ed2f3be",
   "metadata": {},
   "source": [
    "<b style=\"color:#1e6d06\">Observação:</b> Seja pela origem dos dados ou governos não fornecendo as informações necessárias, diversos países estão com percentuais de casos estranhas."
   ]
  },
  {
   "cell_type": "code",
   "execution_count": 181,
   "id": "97a443a9-251f-41f5-939b-204cd4b0196e",
   "metadata": {},
   "outputs": [
    {
     "data": {
      "text/html": [
       "<div>\n",
       "<style scoped>\n",
       "    .dataframe tbody tr th:only-of-type {\n",
       "        vertical-align: middle;\n",
       "    }\n",
       "\n",
       "    .dataframe tbody tr th {\n",
       "        vertical-align: top;\n",
       "    }\n",
       "\n",
       "    .dataframe thead th {\n",
       "        text-align: right;\n",
       "    }\n",
       "</style>\n",
       "<table border=\"1\" class=\"dataframe\">\n",
       "  <thead>\n",
       "    <tr style=\"text-align: right;\">\n",
       "      <th></th>\n",
       "      <th>Confirmed_Cases</th>\n",
       "      <th>Hospitalized</th>\n",
       "      <th>Hospercent</th>\n",
       "    </tr>\n",
       "    <tr>\n",
       "      <th>Country</th>\n",
       "      <th></th>\n",
       "      <th></th>\n",
       "      <th></th>\n",
       "    </tr>\n",
       "  </thead>\n",
       "  <tbody>\n",
       "    <tr>\n",
       "      <th>Brazil</th>\n",
       "      <td>4876.0</td>\n",
       "      <td>4.0</td>\n",
       "      <td>0.082034</td>\n",
       "    </tr>\n",
       "  </tbody>\n",
       "</table>\n",
       "</div>"
      ],
      "text/plain": [
       "         Confirmed_Cases  Hospitalized  Hospercent\n",
       "Country                                           \n",
       "Brazil            4876.0           4.0    0.082034"
      ]
     },
     "execution_count": 181,
     "metadata": {},
     "output_type": "execute_result"
    }
   ],
   "source": [
    "casos_mundo.sort_values(by=\"Hospitalized\",ascending=False )[[\"Confirmed_Cases\",\"Hospitalized\",\"Hospercent\"]].loc[['Brazil']]"
   ]
  },
  {
   "cell_type": "markdown",
   "id": "30ec807a-f003-474e-9087-5d648fbd40a4",
   "metadata": {},
   "source": [
    "<b style=\"color:#1e6d06\">Observação:</b> 0,82% Dos casos confirmados brasileiros estão hospitalizados."
   ]
  },
  {
   "cell_type": "markdown",
   "id": "318fd940-ad51-47b2-8e61-5655ba30f042",
   "metadata": {},
   "source": [
    "<h4>15 Tipos de sintomas mais comuns</h4>"
   ]
  },
  {
   "cell_type": "code",
   "execution_count": 182,
   "id": "65fabe02-fa3b-4c1e-bf07-7e65db8f7b8f",
   "metadata": {},
   "outputs": [
    {
     "data": {
      "text/plain": [
       "genital ulcer lesions               30\n",
       "oral and genital ulcers, fever      17\n",
       "ulcerative lesions                  16\n",
       "Rash                                13\n",
       "vesicular rash                       5\n",
       "skin lesions, ulcerative lesions     5\n",
       "genital ulcers                       5\n",
       "rash                                 3\n",
       "skin lesions                         3\n",
       "rash on the skin                     2\n",
       "encephalitis                         2\n",
       "Fatigue, headache, fever             2\n",
       "blisters                             2\n",
       "fever, rash                          2\n",
       "Skin lesions                         2\n",
       "Name: Symptoms, dtype: int64"
      ]
     },
     "execution_count": 182,
     "metadata": {},
     "output_type": "execute_result"
    }
   ],
   "source": [
    "timeline_casos['Symptoms'].value_counts()[:15]"
   ]
  },
  {
   "cell_type": "markdown",
   "id": "71c47c42-5ed2-4b26-91f8-cf6f2814d708",
   "metadata": {},
   "source": [
    "<h4>Contaminados por gênero</h4>"
   ]
  },
  {
   "cell_type": "code",
   "execution_count": 183,
   "id": "e682a11c-8686-4643-9e01-b160c87c6a63",
   "metadata": {},
   "outputs": [
    {
     "data": {
      "text/plain": [
       "Male      2186\n",
       "Female      14\n",
       "Name: Gender, dtype: int64"
      ]
     },
     "execution_count": 183,
     "metadata": {},
     "output_type": "execute_result"
    }
   ],
   "source": [
    "timeline_casos['Gender'].replace(to_replace = ['female',' female', 'female '], value = \"Female\", inplace=True)\n",
    "timeline_casos['Gender'].replace(to_replace = ['male','  male', 'male '], value = \"Male\", inplace=True)\n",
    "timeline_casos['Gender'].value_counts()"
   ]
  },
  {
   "cell_type": "markdown",
   "id": "2aeb7cc7-df51-48c7-9de7-7ad5eb45c3c6",
   "metadata": {},
   "source": [
    "<b style=\"color:#1e6d06\">Observação:</b> Apenas 14 mulheres foram identificadas como contaminadas"
   ]
  },
  {
   "cell_type": "markdown",
   "id": "dd93c9b2-6a5f-4b64-9642-f93f5ba4a733",
   "metadata": {},
   "source": [
    "<h4>Contaminados por idade</h4>"
   ]
  },
  {
   "cell_type": "code",
   "execution_count": 184,
   "id": "f22b96de-7a03-4c91-a93e-ef59ebbc492f",
   "metadata": {},
   "outputs": [
    {
     "data": {
      "text/plain": [
       "20-69    585\n",
       "15-64    271\n",
       "15-74    240\n",
       "20-64    225\n",
       "20-59    203\n",
       "        ... \n",
       "46-50      1\n",
       "45-50      1\n",
       "24-29      1\n",
       "0-14       1\n",
       "19-59      1\n",
       "Name: Age, Length: 82, dtype: int64"
      ]
     },
     "execution_count": 184,
     "metadata": {},
     "output_type": "execute_result"
    }
   ],
   "source": [
    "timeline_casos['Age'].value_counts()"
   ]
  },
  {
   "cell_type": "markdown",
   "id": "f2df2d5f-9199-4e34-a301-7836c6e17d32",
   "metadata": {},
   "source": [
    "<b style=\"color:#1e6d06\">Observação:</b> Os dados estão fracos, eventualmente no futuro eu faço o tratamento deles."
   ]
  },
  {
   "cell_type": "markdown",
   "id": "c952bb04-d515-42ad-a434-dc935fc0f550",
   "metadata": {
    "tags": []
   },
   "source": [
    "<h4>Heatmap de correlação</h4>"
   ]
  },
  {
   "cell_type": "code",
   "execution_count": 185,
   "id": "14bd5d04-5c4e-4ea9-bfab-b9352fefd61c",
   "metadata": {},
   "outputs": [
    {
     "data": {
      "application/vnd.plotly.v1+json": {
       "config": {
        "plotlyServerURL": "https://plot.ly"
       },
       "data": [
        {
         "coloraxis": "coloraxis",
         "hovertemplate": "x: %{x}<br>y: %{y}<br>color: %{z}<extra></extra>",
         "name": "0",
         "type": "heatmap",
         "x": [
          "Confirmed_Cases",
          "Suspected_Cases",
          "Hospitalized",
          "Travel_History_Yes",
          "Travel_History_No",
          "Hospercent"
         ],
         "xaxis": "x",
         "y": [
          "Confirmed_Cases",
          "Suspected_Cases",
          "Hospitalized",
          "Travel_History_Yes",
          "Travel_History_No",
          "Hospercent"
         ],
         "yaxis": "y",
         "z": [
          [
           1,
           -0.014663113860037763,
           0.3429639263661946,
           0.7868348495902497,
           0.3658555478396896,
           -0.0959655423580299
          ],
          [
           -0.014663113860037763,
           1,
           -0.043949570510000605,
           -0.047143996779032575,
           -0.02156617876939597,
           -0.04604613437089868
          ],
          [
           0.3429639263661946,
           -0.043949570510000605,
           1,
           0.4976174239836217,
           0.2906680582239674,
           0.1631919597278102
          ],
          [
           0.7868348495902497,
           -0.047143996779032575,
           0.4976174239836217,
           1,
           0.3638925781874685,
           -0.04705804488872057
          ],
          [
           0.3658555478396896,
           -0.02156617876939597,
           0.2906680582239674,
           0.3638925781874685,
           1,
           -0.07894897915877139
          ],
          [
           -0.0959655423580299,
           -0.04604613437089868,
           0.1631919597278102,
           -0.04705804488872057,
           -0.07894897915877139,
           1
          ]
         ]
        }
       ],
       "layout": {
        "autosize": true,
        "coloraxis": {
         "colorscale": [
          [
           0,
           "#0d0887"
          ],
          [
           0.1111111111111111,
           "#46039f"
          ],
          [
           0.2222222222222222,
           "#7201a8"
          ],
          [
           0.3333333333333333,
           "#9c179e"
          ],
          [
           0.4444444444444444,
           "#bd3786"
          ],
          [
           0.5555555555555556,
           "#d8576b"
          ],
          [
           0.6666666666666666,
           "#ed7953"
          ],
          [
           0.7777777777777778,
           "#fb9f3a"
          ],
          [
           0.8888888888888888,
           "#fdca26"
          ],
          [
           1,
           "#f0f921"
          ]
         ]
        },
        "margin": {
         "t": 60
        },
        "template": {
         "data": {
          "bar": [
           {
            "error_x": {
             "color": "#2a3f5f"
            },
            "error_y": {
             "color": "#2a3f5f"
            },
            "marker": {
             "line": {
              "color": "#E5ECF6",
              "width": 0.5
             },
             "pattern": {
              "fillmode": "overlay",
              "size": 10,
              "solidity": 0.2
             }
            },
            "type": "bar"
           }
          ],
          "barpolar": [
           {
            "marker": {
             "line": {
              "color": "#E5ECF6",
              "width": 0.5
             },
             "pattern": {
              "fillmode": "overlay",
              "size": 10,
              "solidity": 0.2
             }
            },
            "type": "barpolar"
           }
          ],
          "carpet": [
           {
            "aaxis": {
             "endlinecolor": "#2a3f5f",
             "gridcolor": "white",
             "linecolor": "white",
             "minorgridcolor": "white",
             "startlinecolor": "#2a3f5f"
            },
            "baxis": {
             "endlinecolor": "#2a3f5f",
             "gridcolor": "white",
             "linecolor": "white",
             "minorgridcolor": "white",
             "startlinecolor": "#2a3f5f"
            },
            "type": "carpet"
           }
          ],
          "choropleth": [
           {
            "colorbar": {
             "outlinewidth": 0,
             "ticks": ""
            },
            "type": "choropleth"
           }
          ],
          "contour": [
           {
            "colorbar": {
             "outlinewidth": 0,
             "ticks": ""
            },
            "colorscale": [
             [
              0,
              "#0d0887"
             ],
             [
              0.1111111111111111,
              "#46039f"
             ],
             [
              0.2222222222222222,
              "#7201a8"
             ],
             [
              0.3333333333333333,
              "#9c179e"
             ],
             [
              0.4444444444444444,
              "#bd3786"
             ],
             [
              0.5555555555555556,
              "#d8576b"
             ],
             [
              0.6666666666666666,
              "#ed7953"
             ],
             [
              0.7777777777777778,
              "#fb9f3a"
             ],
             [
              0.8888888888888888,
              "#fdca26"
             ],
             [
              1,
              "#f0f921"
             ]
            ],
            "type": "contour"
           }
          ],
          "contourcarpet": [
           {
            "colorbar": {
             "outlinewidth": 0,
             "ticks": ""
            },
            "type": "contourcarpet"
           }
          ],
          "heatmap": [
           {
            "colorbar": {
             "outlinewidth": 0,
             "ticks": ""
            },
            "colorscale": [
             [
              0,
              "#0d0887"
             ],
             [
              0.1111111111111111,
              "#46039f"
             ],
             [
              0.2222222222222222,
              "#7201a8"
             ],
             [
              0.3333333333333333,
              "#9c179e"
             ],
             [
              0.4444444444444444,
              "#bd3786"
             ],
             [
              0.5555555555555556,
              "#d8576b"
             ],
             [
              0.6666666666666666,
              "#ed7953"
             ],
             [
              0.7777777777777778,
              "#fb9f3a"
             ],
             [
              0.8888888888888888,
              "#fdca26"
             ],
             [
              1,
              "#f0f921"
             ]
            ],
            "type": "heatmap"
           }
          ],
          "heatmapgl": [
           {
            "colorbar": {
             "outlinewidth": 0,
             "ticks": ""
            },
            "colorscale": [
             [
              0,
              "#0d0887"
             ],
             [
              0.1111111111111111,
              "#46039f"
             ],
             [
              0.2222222222222222,
              "#7201a8"
             ],
             [
              0.3333333333333333,
              "#9c179e"
             ],
             [
              0.4444444444444444,
              "#bd3786"
             ],
             [
              0.5555555555555556,
              "#d8576b"
             ],
             [
              0.6666666666666666,
              "#ed7953"
             ],
             [
              0.7777777777777778,
              "#fb9f3a"
             ],
             [
              0.8888888888888888,
              "#fdca26"
             ],
             [
              1,
              "#f0f921"
             ]
            ],
            "type": "heatmapgl"
           }
          ],
          "histogram": [
           {
            "marker": {
             "pattern": {
              "fillmode": "overlay",
              "size": 10,
              "solidity": 0.2
             }
            },
            "type": "histogram"
           }
          ],
          "histogram2d": [
           {
            "colorbar": {
             "outlinewidth": 0,
             "ticks": ""
            },
            "colorscale": [
             [
              0,
              "#0d0887"
             ],
             [
              0.1111111111111111,
              "#46039f"
             ],
             [
              0.2222222222222222,
              "#7201a8"
             ],
             [
              0.3333333333333333,
              "#9c179e"
             ],
             [
              0.4444444444444444,
              "#bd3786"
             ],
             [
              0.5555555555555556,
              "#d8576b"
             ],
             [
              0.6666666666666666,
              "#ed7953"
             ],
             [
              0.7777777777777778,
              "#fb9f3a"
             ],
             [
              0.8888888888888888,
              "#fdca26"
             ],
             [
              1,
              "#f0f921"
             ]
            ],
            "type": "histogram2d"
           }
          ],
          "histogram2dcontour": [
           {
            "colorbar": {
             "outlinewidth": 0,
             "ticks": ""
            },
            "colorscale": [
             [
              0,
              "#0d0887"
             ],
             [
              0.1111111111111111,
              "#46039f"
             ],
             [
              0.2222222222222222,
              "#7201a8"
             ],
             [
              0.3333333333333333,
              "#9c179e"
             ],
             [
              0.4444444444444444,
              "#bd3786"
             ],
             [
              0.5555555555555556,
              "#d8576b"
             ],
             [
              0.6666666666666666,
              "#ed7953"
             ],
             [
              0.7777777777777778,
              "#fb9f3a"
             ],
             [
              0.8888888888888888,
              "#fdca26"
             ],
             [
              1,
              "#f0f921"
             ]
            ],
            "type": "histogram2dcontour"
           }
          ],
          "mesh3d": [
           {
            "colorbar": {
             "outlinewidth": 0,
             "ticks": ""
            },
            "type": "mesh3d"
           }
          ],
          "parcoords": [
           {
            "line": {
             "colorbar": {
              "outlinewidth": 0,
              "ticks": ""
             }
            },
            "type": "parcoords"
           }
          ],
          "pie": [
           {
            "automargin": true,
            "type": "pie"
           }
          ],
          "scatter": [
           {
            "marker": {
             "colorbar": {
              "outlinewidth": 0,
              "ticks": ""
             }
            },
            "type": "scatter"
           }
          ],
          "scatter3d": [
           {
            "line": {
             "colorbar": {
              "outlinewidth": 0,
              "ticks": ""
             }
            },
            "marker": {
             "colorbar": {
              "outlinewidth": 0,
              "ticks": ""
             }
            },
            "type": "scatter3d"
           }
          ],
          "scattercarpet": [
           {
            "marker": {
             "colorbar": {
              "outlinewidth": 0,
              "ticks": ""
             }
            },
            "type": "scattercarpet"
           }
          ],
          "scattergeo": [
           {
            "marker": {
             "colorbar": {
              "outlinewidth": 0,
              "ticks": ""
             }
            },
            "type": "scattergeo"
           }
          ],
          "scattergl": [
           {
            "marker": {
             "colorbar": {
              "outlinewidth": 0,
              "ticks": ""
             }
            },
            "type": "scattergl"
           }
          ],
          "scattermapbox": [
           {
            "marker": {
             "colorbar": {
              "outlinewidth": 0,
              "ticks": ""
             }
            },
            "type": "scattermapbox"
           }
          ],
          "scatterpolar": [
           {
            "marker": {
             "colorbar": {
              "outlinewidth": 0,
              "ticks": ""
             }
            },
            "type": "scatterpolar"
           }
          ],
          "scatterpolargl": [
           {
            "marker": {
             "colorbar": {
              "outlinewidth": 0,
              "ticks": ""
             }
            },
            "type": "scatterpolargl"
           }
          ],
          "scatterternary": [
           {
            "marker": {
             "colorbar": {
              "outlinewidth": 0,
              "ticks": ""
             }
            },
            "type": "scatterternary"
           }
          ],
          "surface": [
           {
            "colorbar": {
             "outlinewidth": 0,
             "ticks": ""
            },
            "colorscale": [
             [
              0,
              "#0d0887"
             ],
             [
              0.1111111111111111,
              "#46039f"
             ],
             [
              0.2222222222222222,
              "#7201a8"
             ],
             [
              0.3333333333333333,
              "#9c179e"
             ],
             [
              0.4444444444444444,
              "#bd3786"
             ],
             [
              0.5555555555555556,
              "#d8576b"
             ],
             [
              0.6666666666666666,
              "#ed7953"
             ],
             [
              0.7777777777777778,
              "#fb9f3a"
             ],
             [
              0.8888888888888888,
              "#fdca26"
             ],
             [
              1,
              "#f0f921"
             ]
            ],
            "type": "surface"
           }
          ],
          "table": [
           {
            "cells": {
             "fill": {
              "color": "#EBF0F8"
             },
             "line": {
              "color": "white"
             }
            },
            "header": {
             "fill": {
              "color": "#C8D4E3"
             },
             "line": {
              "color": "white"
             }
            },
            "type": "table"
           }
          ]
         },
         "layout": {
          "annotationdefaults": {
           "arrowcolor": "#2a3f5f",
           "arrowhead": 0,
           "arrowwidth": 1
          },
          "autotypenumbers": "strict",
          "coloraxis": {
           "colorbar": {
            "outlinewidth": 0,
            "ticks": ""
           }
          },
          "colorscale": {
           "diverging": [
            [
             0,
             "#8e0152"
            ],
            [
             0.1,
             "#c51b7d"
            ],
            [
             0.2,
             "#de77ae"
            ],
            [
             0.3,
             "#f1b6da"
            ],
            [
             0.4,
             "#fde0ef"
            ],
            [
             0.5,
             "#f7f7f7"
            ],
            [
             0.6,
             "#e6f5d0"
            ],
            [
             0.7,
             "#b8e186"
            ],
            [
             0.8,
             "#7fbc41"
            ],
            [
             0.9,
             "#4d9221"
            ],
            [
             1,
             "#276419"
            ]
           ],
           "sequential": [
            [
             0,
             "#0d0887"
            ],
            [
             0.1111111111111111,
             "#46039f"
            ],
            [
             0.2222222222222222,
             "#7201a8"
            ],
            [
             0.3333333333333333,
             "#9c179e"
            ],
            [
             0.4444444444444444,
             "#bd3786"
            ],
            [
             0.5555555555555556,
             "#d8576b"
            ],
            [
             0.6666666666666666,
             "#ed7953"
            ],
            [
             0.7777777777777778,
             "#fb9f3a"
            ],
            [
             0.8888888888888888,
             "#fdca26"
            ],
            [
             1,
             "#f0f921"
            ]
           ],
           "sequentialminus": [
            [
             0,
             "#0d0887"
            ],
            [
             0.1111111111111111,
             "#46039f"
            ],
            [
             0.2222222222222222,
             "#7201a8"
            ],
            [
             0.3333333333333333,
             "#9c179e"
            ],
            [
             0.4444444444444444,
             "#bd3786"
            ],
            [
             0.5555555555555556,
             "#d8576b"
            ],
            [
             0.6666666666666666,
             "#ed7953"
            ],
            [
             0.7777777777777778,
             "#fb9f3a"
            ],
            [
             0.8888888888888888,
             "#fdca26"
            ],
            [
             1,
             "#f0f921"
            ]
           ]
          },
          "colorway": [
           "#636efa",
           "#EF553B",
           "#00cc96",
           "#ab63fa",
           "#FFA15A",
           "#19d3f3",
           "#FF6692",
           "#B6E880",
           "#FF97FF",
           "#FECB52"
          ],
          "font": {
           "color": "#2a3f5f"
          },
          "geo": {
           "bgcolor": "white",
           "lakecolor": "white",
           "landcolor": "#E5ECF6",
           "showlakes": true,
           "showland": true,
           "subunitcolor": "white"
          },
          "hoverlabel": {
           "align": "left"
          },
          "hovermode": "closest",
          "mapbox": {
           "style": "light"
          },
          "paper_bgcolor": "white",
          "plot_bgcolor": "#E5ECF6",
          "polar": {
           "angularaxis": {
            "gridcolor": "white",
            "linecolor": "white",
            "ticks": ""
           },
           "bgcolor": "#E5ECF6",
           "radialaxis": {
            "gridcolor": "white",
            "linecolor": "white",
            "ticks": ""
           }
          },
          "scene": {
           "xaxis": {
            "backgroundcolor": "#E5ECF6",
            "gridcolor": "white",
            "gridwidth": 2,
            "linecolor": "white",
            "showbackground": true,
            "ticks": "",
            "zerolinecolor": "white"
           },
           "yaxis": {
            "backgroundcolor": "#E5ECF6",
            "gridcolor": "white",
            "gridwidth": 2,
            "linecolor": "white",
            "showbackground": true,
            "ticks": "",
            "zerolinecolor": "white"
           },
           "zaxis": {
            "backgroundcolor": "#E5ECF6",
            "gridcolor": "white",
            "gridwidth": 2,
            "linecolor": "white",
            "showbackground": true,
            "ticks": "",
            "zerolinecolor": "white"
           }
          },
          "shapedefaults": {
           "line": {
            "color": "#2a3f5f"
           }
          },
          "ternary": {
           "aaxis": {
            "gridcolor": "white",
            "linecolor": "white",
            "ticks": ""
           },
           "baxis": {
            "gridcolor": "white",
            "linecolor": "white",
            "ticks": ""
           },
           "bgcolor": "#E5ECF6",
           "caxis": {
            "gridcolor": "white",
            "linecolor": "white",
            "ticks": ""
           }
          },
          "title": {
           "x": 0.05
          },
          "xaxis": {
           "automargin": true,
           "gridcolor": "white",
           "linecolor": "white",
           "ticks": "",
           "title": {
            "standoff": 15
           },
           "zerolinecolor": "white",
           "zerolinewidth": 2
          },
          "yaxis": {
           "automargin": true,
           "gridcolor": "white",
           "linecolor": "white",
           "ticks": "",
           "title": {
            "standoff": 15
           },
           "zerolinecolor": "white",
           "zerolinewidth": 2
          }
         }
        },
        "xaxis": {
         "anchor": "y",
         "autorange": true,
         "constrain": "domain",
         "domain": [
          0.40847457627118644,
          0.5915254237288136
         ],
         "range": [
          -0.5,
          5.5
         ],
         "scaleanchor": "y",
         "type": "category"
        },
        "yaxis": {
         "anchor": "x",
         "autorange": true,
         "constrain": "domain",
         "domain": [
          0,
          1
         ],
         "range": [
          5.5,
          -0.5
         ],
         "type": "category"
        }
       }
      },
      "image/png": "[encoded data removed]",
      "text/html": [
       "<div>                            <div id=\"1fab8ef2-b8a1-4f10-b121-1e02338195e2\" class=\"plotly-graph-div\" style=\"height:525px; width:100%;\"></div>            <script type=\"text/javascript\">                require([\"plotly\"], function(Plotly) {                    window.PLOTLYENV=window.PLOTLYENV || {};                                    if (document.getElementById(\"1fab8ef2-b8a1-4f10-b121-1e02338195e2\")) {                    Plotly.newPlot(                        \"1fab8ef2-b8a1-4f10-b121-1e02338195e2\",                        [{\"coloraxis\":\"coloraxis\",\"hovertemplate\":\"x: %{x}<br>y: %{y}<br>color: %{z}<extra></extra>\",\"name\":\"0\",\"type\":\"heatmap\",\"x\":[\"Confirmed_Cases\",\"Suspected_Cases\",\"Hospitalized\",\"Travel_History_Yes\",\"Travel_History_No\",\"Hospercent\"],\"xaxis\":\"x\",\"y\":[\"Confirmed_Cases\",\"Suspected_Cases\",\"Hospitalized\",\"Travel_History_Yes\",\"Travel_History_No\",\"Hospercent\"],\"yaxis\":\"y\",\"z\":[[1.0,-0.014663113860037763,0.3429639263661946,0.7868348495902497,0.3658555478396896,-0.0959655423580299],[-0.014663113860037763,1.0,-0.043949570510000605,-0.047143996779032575,-0.02156617876939597,-0.04604613437089868],[0.3429639263661946,-0.043949570510000605,1.0,0.4976174239836217,0.2906680582239674,0.1631919597278102],[0.7868348495902497,-0.047143996779032575,0.4976174239836217,1.0,0.3638925781874685,-0.04705804488872057],[0.3658555478396896,-0.02156617876939597,0.2906680582239674,0.3638925781874685,1.0,-0.07894897915877139],[-0.0959655423580299,-0.04604613437089868,0.1631919597278102,-0.04705804488872057,-0.07894897915877139,1.0]]}],                        {\"coloraxis\":{\"colorscale\":[[0.0,\"#0d0887\"],[0.1111111111111111,\"#46039f\"],[0.2222222222222222,\"#7201a8\"],[0.3333333333333333,\"#9c179e\"],[0.4444444444444444,\"#bd3786\"],[0.5555555555555556,\"#d8576b\"],[0.6666666666666666,\"#ed7953\"],[0.7777777777777778,\"#fb9f3a\"],[0.8888888888888888,\"#fdca26\"],[1.0,\"#f0f921\"]]},\"margin\":{\"t\":60},\"template\":{\"data\":{\"bar\":[{\"error_x\":{\"color\":\"#2a3f5f\"},\"error_y\":{\"color\":\"#2a3f5f\"},\"marker\":{\"line\":{\"color\":\"#E5ECF6\",\"width\":0.5},\"pattern\":{\"fillmode\":\"overlay\",\"size\":10,\"solidity\":0.2}},\"type\":\"bar\"}],\"barpolar\":[{\"marker\":{\"line\":{\"color\":\"#E5ECF6\",\"width\":0.5},\"pattern\":{\"fillmode\":\"overlay\",\"size\":10,\"solidity\":0.2}},\"type\":\"barpolar\"}],\"carpet\":[{\"aaxis\":{\"endlinecolor\":\"#2a3f5f\",\"gridcolor\":\"white\",\"linecolor\":\"white\",\"minorgridcolor\":\"white\",\"startlinecolor\":\"#2a3f5f\"},\"baxis\":{\"endlinecolor\":\"#2a3f5f\",\"gridcolor\":\"white\",\"linecolor\":\"white\",\"minorgridcolor\":\"white\",\"startlinecolor\":\"#2a3f5f\"},\"type\":\"carpet\"}],\"choropleth\":[{\"colorbar\":{\"outlinewidth\":0,\"ticks\":\"\"},\"type\":\"choropleth\"}],\"contour\":[{\"colorbar\":{\"outlinewidth\":0,\"ticks\":\"\"},\"colorscale\":[[0.0,\"#0d0887\"],[0.1111111111111111,\"#46039f\"],[0.2222222222222222,\"#7201a8\"],[0.3333333333333333,\"#9c179e\"],[0.4444444444444444,\"#bd3786\"],[0.5555555555555556,\"#d8576b\"],[0.6666666666666666,\"#ed7953\"],[0.7777777777777778,\"#fb9f3a\"],[0.8888888888888888,\"#fdca26\"],[1.0,\"#f0f921\"]],\"type\":\"contour\"}],\"contourcarpet\":[{\"colorbar\":{\"outlinewidth\":0,\"ticks\":\"\"},\"type\":\"contourcarpet\"}],\"heatmap\":[{\"colorbar\":{\"outlinewidth\":0,\"ticks\":\"\"},\"colorscale\":[[0.0,\"#0d0887\"],[0.1111111111111111,\"#46039f\"],[0.2222222222222222,\"#7201a8\"],[0.3333333333333333,\"#9c179e\"],[0.4444444444444444,\"#bd3786\"],[0.5555555555555556,\"#d8576b\"],[0.6666666666666666,\"#ed7953\"],[0.7777777777777778,\"#fb9f3a\"],[0.8888888888888888,\"#fdca26\"],[1.0,\"#f0f921\"]],\"type\":\"heatmap\"}],\"heatmapgl\":[{\"colorbar\":{\"outlinewidth\":0,\"ticks\":\"\"},\"colorscale\":[[0.0,\"#0d0887\"],[0.1111111111111111,\"#46039f\"],[0.2222222222222222,\"#7201a8\"],[0.3333333333333333,\"#9c179e\"],[0.4444444444444444,\"#bd3786\"],[0.5555555555555556,\"#d8576b\"],[0.6666666666666666,\"#ed7953\"],[0.7777777777777778,\"#fb9f3a\"],[0.8888888888888888,\"#fdca26\"],[1.0,\"#f0f921\"]],\"type\":\"heatmapgl\"}],\"histogram\":[{\"marker\":{\"pattern\":{\"fillmode\":\"overlay\",\"size\":10,\"solidity\":0.2}},\"type\":\"histogram\"}],\"histogram2d\":[{\"colorbar\":{\"outlinewidth\":0,\"ticks\":\"\"},\"colorscale\":[[0.0,\"#0d0887\"],[0.1111111111111111,\"#46039f\"],[0.2222222222222222,\"#7201a8\"],[0.3333333333333333,\"#9c179e\"],[0.4444444444444444,\"#bd3786\"],[0.5555555555555556,\"#d8576b\"],[0.6666666666666666,\"#ed7953\"],[0.7777777777777778,\"#fb9f3a\"],[0.8888888888888888,\"#fdca26\"],[1.0,\"#f0f921\"]],\"type\":\"histogram2d\"}],\"histogram2dcontour\":[{\"colorbar\":{\"outlinewidth\":0,\"ticks\":\"\"},\"colorscale\":[[0.0,\"#0d0887\"],[0.1111111111111111,\"#46039f\"],[0.2222222222222222,\"#7201a8\"],[0.3333333333333333,\"#9c179e\"],[0.4444444444444444,\"#bd3786\"],[0.5555555555555556,\"#d8576b\"],[0.6666666666666666,\"#ed7953\"],[0.7777777777777778,\"#fb9f3a\"],[0.8888888888888888,\"#fdca26\"],[1.0,\"#f0f921\"]],\"type\":\"histogram2dcontour\"}],\"mesh3d\":[{\"colorbar\":{\"outlinewidth\":0,\"ticks\":\"\"},\"type\":\"mesh3d\"}],\"parcoords\":[{\"line\":{\"colorbar\":{\"outlinewidth\":0,\"ticks\":\"\"}},\"type\":\"parcoords\"}],\"pie\":[{\"automargin\":true,\"type\":\"pie\"}],\"scatter\":[{\"marker\":{\"colorbar\":{\"outlinewidth\":0,\"ticks\":\"\"}},\"type\":\"scatter\"}],\"scatter3d\":[{\"line\":{\"colorbar\":{\"outlinewidth\":0,\"ticks\":\"\"}},\"marker\":{\"colorbar\":{\"outlinewidth\":0,\"ticks\":\"\"}},\"type\":\"scatter3d\"}],\"scattercarpet\":[{\"marker\":{\"colorbar\":{\"outlinewidth\":0,\"ticks\":\"\"}},\"type\":\"scattercarpet\"}],\"scattergeo\":[{\"marker\":{\"colorbar\":{\"outlinewidth\":0,\"ticks\":\"\"}},\"type\":\"scattergeo\"}],\"scattergl\":[{\"marker\":{\"colorbar\":{\"outlinewidth\":0,\"ticks\":\"\"}},\"type\":\"scattergl\"}],\"scattermapbox\":[{\"marker\":{\"colorbar\":{\"outlinewidth\":0,\"ticks\":\"\"}},\"type\":\"scattermapbox\"}],\"scatterpolar\":[{\"marker\":{\"colorbar\":{\"outlinewidth\":0,\"ticks\":\"\"}},\"type\":\"scatterpolar\"}],\"scatterpolargl\":[{\"marker\":{\"colorbar\":{\"outlinewidth\":0,\"ticks\":\"\"}},\"type\":\"scatterpolargl\"}],\"scatterternary\":[{\"marker\":{\"colorbar\":{\"outlinewidth\":0,\"ticks\":\"\"}},\"type\":\"scatterternary\"}],\"surface\":[{\"colorbar\":{\"outlinewidth\":0,\"ticks\":\"\"},\"colorscale\":[[0.0,\"#0d0887\"],[0.1111111111111111,\"#46039f\"],[0.2222222222222222,\"#7201a8\"],[0.3333333333333333,\"#9c179e\"],[0.4444444444444444,\"#bd3786\"],[0.5555555555555556,\"#d8576b\"],[0.6666666666666666,\"#ed7953\"],[0.7777777777777778,\"#fb9f3a\"],[0.8888888888888888,\"#fdca26\"],[1.0,\"#f0f921\"]],\"type\":\"surface\"}],\"table\":[{\"cells\":{\"fill\":{\"color\":\"#EBF0F8\"},\"line\":{\"color\":\"white\"}},\"header\":{\"fill\":{\"color\":\"#C8D4E3\"},\"line\":{\"color\":\"white\"}},\"type\":\"table\"}]},\"layout\":{\"annotationdefaults\":{\"arrowcolor\":\"#2a3f5f\",\"arrowhead\":0,\"arrowwidth\":1},\"autotypenumbers\":\"strict\",\"coloraxis\":{\"colorbar\":{\"outlinewidth\":0,\"ticks\":\"\"}},\"colorscale\":{\"diverging\":[[0,\"#8e0152\"],[0.1,\"#c51b7d\"],[0.2,\"#de77ae\"],[0.3,\"#f1b6da\"],[0.4,\"#fde0ef\"],[0.5,\"#f7f7f7\"],[0.6,\"#e6f5d0\"],[0.7,\"#b8e186\"],[0.8,\"#7fbc41\"],[0.9,\"#4d9221\"],[1,\"#276419\"]],\"sequential\":[[0.0,\"#0d0887\"],[0.1111111111111111,\"#46039f\"],[0.2222222222222222,\"#7201a8\"],[0.3333333333333333,\"#9c179e\"],[0.4444444444444444,\"#bd3786\"],[0.5555555555555556,\"#d8576b\"],[0.6666666666666666,\"#ed7953\"],[0.7777777777777778,\"#fb9f3a\"],[0.8888888888888888,\"#fdca26\"],[1.0,\"#f0f921\"]],\"sequentialminus\":[[0.0,\"#0d0887\"],[0.1111111111111111,\"#46039f\"],[0.2222222222222222,\"#7201a8\"],[0.3333333333333333,\"#9c179e\"],[0.4444444444444444,\"#bd3786\"],[0.5555555555555556,\"#d8576b\"],[0.6666666666666666,\"#ed7953\"],[0.7777777777777778,\"#fb9f3a\"],[0.8888888888888888,\"#fdca26\"],[1.0,\"#f0f921\"]]},\"colorway\":[\"#636efa\",\"#EF553B\",\"#00cc96\",\"#ab63fa\",\"#FFA15A\",\"#19d3f3\",\"#FF6692\",\"#B6E880\",\"#FF97FF\",\"#FECB52\"],\"font\":{\"color\":\"#2a3f5f\"},\"geo\":{\"bgcolor\":\"white\",\"lakecolor\":\"white\",\"landcolor\":\"#E5ECF6\",\"showlakes\":true,\"showland\":true,\"subunitcolor\":\"white\"},\"hoverlabel\":{\"align\":\"left\"},\"hovermode\":\"closest\",\"mapbox\":{\"style\":\"light\"},\"paper_bgcolor\":\"white\",\"plot_bgcolor\":\"#E5ECF6\",\"polar\":{\"angularaxis\":{\"gridcolor\":\"white\",\"linecolor\":\"white\",\"ticks\":\"\"},\"bgcolor\":\"#E5ECF6\",\"radialaxis\":{\"gridcolor\":\"white\",\"linecolor\":\"white\",\"ticks\":\"\"}},\"scene\":{\"xaxis\":{\"backgroundcolor\":\"#E5ECF6\",\"gridcolor\":\"white\",\"gridwidth\":2,\"linecolor\":\"white\",\"showbackground\":true,\"ticks\":\"\",\"zerolinecolor\":\"white\"},\"yaxis\":{\"backgroundcolor\":\"#E5ECF6\",\"gridcolor\":\"white\",\"gridwidth\":2,\"linecolor\":\"white\",\"showbackground\":true,\"ticks\":\"\",\"zerolinecolor\":\"white\"},\"zaxis\":{\"backgroundcolor\":\"#E5ECF6\",\"gridcolor\":\"white\",\"gridwidth\":2,\"linecolor\":\"white\",\"showbackground\":true,\"ticks\":\"\",\"zerolinecolor\":\"white\"}},\"shapedefaults\":{\"line\":{\"color\":\"#2a3f5f\"}},\"ternary\":{\"aaxis\":{\"gridcolor\":\"white\",\"linecolor\":\"white\",\"ticks\":\"\"},\"baxis\":{\"gridcolor\":\"white\",\"linecolor\":\"white\",\"ticks\":\"\"},\"bgcolor\":\"#E5ECF6\",\"caxis\":{\"gridcolor\":\"white\",\"linecolor\":\"white\",\"ticks\":\"\"}},\"title\":{\"x\":0.05},\"xaxis\":{\"automargin\":true,\"gridcolor\":\"white\",\"linecolor\":\"white\",\"ticks\":\"\",\"title\":{\"standoff\":15},\"zerolinecolor\":\"white\",\"zerolinewidth\":2},\"yaxis\":{\"automargin\":true,\"gridcolor\":\"white\",\"linecolor\":\"white\",\"ticks\":\"\",\"title\":{\"standoff\":15},\"zerolinecolor\":\"white\",\"zerolinewidth\":2}}},\"xaxis\":{\"anchor\":\"y\",\"constrain\":\"domain\",\"domain\":[0.0,1.0],\"scaleanchor\":\"y\"},\"yaxis\":{\"anchor\":\"x\",\"autorange\":\"reversed\",\"constrain\":\"domain\",\"domain\":[0.0,1.0]}},                        {\"responsive\": true}                    ).then(function(){\n",
       "                            \n",
       "var gd = document.getElementById('1fab8ef2-b8a1-4f10-b121-1e02338195e2');\n",
       "var x = new MutationObserver(function (mutations, observer) {{\n",
       "        var display = window.getComputedStyle(gd).display;\n",
       "        if (!display || display === 'none') {{\n",
       "            console.log([gd, 'removed!']);\n",
       "            Plotly.purge(gd);\n",
       "            observer.disconnect();\n",
       "        }}\n",
       "}});\n",
       "\n",
       "// Listen for the removal of the full notebook cells\n",
       "var notebookContainer = gd.closest('#notebook-container');\n",
       "if (notebookContainer) {{\n",
       "    x.observe(notebookContainer, {childList: true});\n",
       "}}\n",
       "\n",
       "// Listen for the clearing of the current output cell\n",
       "var outputEl = gd.closest('.output');\n",
       "if (outputEl) {{\n",
       "    x.observe(outputEl, {childList: true});\n",
       "}}\n",
       "\n",
       "                        })                };                });            </script>        </div>"
      ]
     },
     "metadata": {},
     "output_type": "display_data"
    }
   ],
   "source": [
    "fig = px.imshow(casos_mundo.corr())\n",
    "fig.show()"
   ]
  },
  {
   "cell_type": "markdown",
   "id": "949ff068-e16e-4f14-8851-998ae65c4e7c",
   "metadata": {},
   "source": [
    "<b style=\"color:#1e6d06\">Observação:</b> Aparentemente o histórico de viagem possui alta correlação com hospitalização."
   ]
  },
  {
   "cell_type": "markdown",
   "id": "c0040b59-8b10-47a3-9075-e7e3d5b55a78",
   "metadata": {
    "tags": []
   },
   "source": [
    "<h4>Pessoas contaminadas por cidades no Brasil</h4>"
   ]
  },
  {
   "cell_type": "code",
   "execution_count": 186,
   "id": "921d8fa9-68ad-4090-9c29-fbe381e77afa",
   "metadata": {},
   "outputs": [
    {
     "data": {
      "text/plain": [
       "Country  City               \n",
       "Brazil   Belo Horizonte         6\n",
       "         Sete Lagoas            2\n",
       "         Rio de Janeiro City    2\n",
       "         Curitiba               2\n",
       "         Vinhedo                1\n",
       "         Sao Paulo              1\n",
       "         Russas                 1\n",
       "         Porto Alegre           1\n",
       "         Natal                  1\n",
       "         Marica                 1\n",
       "         Indaiatuba             1\n",
       "         Fortaleza              1\n",
       "         Cascavel               1\n",
       "Name: City, dtype: int64"
      ]
     },
     "execution_count": 186,
     "metadata": {},
     "output_type": "execute_result"
    }
   ],
   "source": [
    "timeline_casos.where(timeline_casos['Country'] == 'Brazil').groupby(['Country', 'City'])['City'].count().sort_values(ascending=False)"
   ]
  },
  {
   "cell_type": "markdown",
   "id": "a2c5d2c4-bcf9-48fd-85b0-735a1ca2cfc3",
   "metadata": {},
   "source": [
    "<h4>Primeiro caso no Brasil</h4>"
   ]
  },
  {
   "cell_type": "code",
   "execution_count": 187,
   "id": "1c89f912-fb30-4c36-949e-4d1056410a59",
   "metadata": {},
   "outputs": [],
   "source": [
    "timeline_casos = pd.DataFrame(timeline_casos[[\"Country\"]].drop_duplicates())"
   ]
  },
  {
   "cell_type": "code",
   "execution_count": 188,
   "id": "36a52ffc-a521-4681-8272-7eb8c409f78e",
   "metadata": {},
   "outputs": [
    {
     "name": "stdout",
     "output_type": "stream",
     "text": [
      "2022-06-08\n"
     ]
    }
   ],
   "source": [
    "pdata = timeline_casos[timeline_casos[\"Country\"] == \"Brazil\"].index[0]\n",
    "print(pdata)"
   ]
  },
  {
   "cell_type": "markdown",
   "id": "f8ed753f-7465-4163-ae9b-62cf37baf51f",
   "metadata": {},
   "source": [
    "<b style=\"color:#1e6d06\">Observação:</b> O primeiro caso no Brasil foi dia 08 de Junho de 2022."
   ]
  },
  {
   "cell_type": "markdown",
   "id": "4b65491c-bb8f-4170-83aa-61c47dd495f7",
   "metadata": {},
   "source": [
    "<h4>Percentual de Brasileiros contaminados com histórico de viagens</h4>"
   ]
  },
  {
   "cell_type": "code",
   "execution_count": 189,
   "id": "6a462810-5550-4476-895c-80b84ec4e868",
   "metadata": {},
   "outputs": [
    {
     "name": "stdout",
     "output_type": "stream",
     "text": [
      "0.41 %\n"
     ]
    }
   ],
   "source": [
    "x = (casos_mundo[\"Travel_History_Yes\"] / casos_mundo[\"Confirmed_Cases\"]).loc[\"Brazil\"]*100\n",
    "print(round(x,2),'%')"
   ]
  },
  {
   "cell_type": "markdown",
   "id": "39670087-247a-490e-85c8-a22e5006b1a6",
   "metadata": {},
   "source": [
    "<b style=\"color:#1e6d06\">Observação:</b> Apenas 0,43% dos casos confirmados no Brasil são de pessoas com histórico de viagens, o que significa que a transmissão local já se propaga muito mais comparado a quem viaja."
   ]
  },
  {
   "cell_type": "markdown",
   "id": "c6285ac0-f39c-4519-935b-9770f02f64d3",
   "metadata": {
    "tags": []
   },
   "source": [
    "<h4>Criação do Dataframe apenas com os dados do Brasil</h4>"
   ]
  },
  {
   "cell_type": "code",
   "execution_count": 190,
   "id": "cecd9078-68c7-4eb5-b8ef-814fbc3f9872",
   "metadata": {},
   "outputs": [],
   "source": [
    "daily_cases_BR = casos_diarios_mundo.loc[\"Brazil\"]\n",
    "daily_cases_BR = pd.DataFrame(daily_cases_BR[daily_cases_BR!=0])"
   ]
  },
  {
   "cell_type": "markdown",
   "id": "c9b12c63-0310-4728-9175-6b2dc15c0bcc",
   "metadata": {},
   "source": [
    "<h4>Gráfico de barras com histórico de novos casos diários no Brasil</h4>"
   ]
  },
  {
   "cell_type": "code",
   "execution_count": 191,
   "id": "f2d3d327-dbc9-449d-8fe2-caf2c662b315",
   "metadata": {},
   "outputs": [
    {
     "data": {
      "image/png": "[encoded data removed]",
      "text/plain": [
       "<Figure size 1080x432 with 1 Axes>"
      ]
     },
     "metadata": {
      "needs_background": "light"
     },
     "output_type": "display_data"
    }
   ],
   "source": [
    "daily_cases_BR.plot(figsize=(15,6), color = \"green\", kind='line');\n",
    "plt.title(\"Novos casos diários no Brasil\");"
   ]
  },
  {
   "cell_type": "markdown",
   "id": "4c57f187-7ad4-4624-8f84-09050a16cbd8",
   "metadata": {},
   "source": [
    "<a href=\"#indice\"><img src=\"botao-topo.png\" width=\"15%\"/></a>"
   ]
  },
  {
   "cell_type": "markdown",
   "id": "715c0c57-68c9-41f7-a08b-01ac43b594e0",
   "metadata": {},
   "source": [
    "<div id=\"4\"><h2>5 - Previsões com Prophet</h2>\n",
    "Algoritmo criado pelo time de Data Science do Facebook, lida muito bem com séries temporais e sazonalidades.\n",
    "</div>"
   ]
  },
  {
   "cell_type": "markdown",
   "id": "1573e1e9-4ec1-45c8-8072-f0f55449143b",
   "metadata": {},
   "source": [
    "<h4>Criação do Dataframe de acordo com as obrigações do Prophet (Colunas renomeadas para ds e y)</h4>\n",
    "<a href=\"https://facebook.github.io/prophet/docs/quick_start.html\" target=\"_blank\">Fonte</a>"
   ]
  },
  {
   "cell_type": "code",
   "execution_count": 192,
   "id": "e5df554a-c978-4d65-8bee-541b1997a38f",
   "metadata": {},
   "outputs": [
    {
     "data": {
      "text/html": [
       "<div>\n",
       "<style scoped>\n",
       "    .dataframe tbody tr th:only-of-type {\n",
       "        vertical-align: middle;\n",
       "    }\n",
       "\n",
       "    .dataframe tbody tr th {\n",
       "        vertical-align: top;\n",
       "    }\n",
       "\n",
       "    .dataframe thead th {\n",
       "        text-align: right;\n",
       "    }\n",
       "</style>\n",
       "<table border=\"1\" class=\"dataframe\">\n",
       "  <thead>\n",
       "    <tr style=\"text-align: right;\">\n",
       "      <th></th>\n",
       "      <th>ds</th>\n",
       "      <th>y</th>\n",
       "    </tr>\n",
       "  </thead>\n",
       "  <tbody>\n",
       "    <tr>\n",
       "      <th>0</th>\n",
       "      <td>2022-06-08</td>\n",
       "      <td>1</td>\n",
       "    </tr>\n",
       "    <tr>\n",
       "      <th>1</th>\n",
       "      <td>2022-06-11</td>\n",
       "      <td>1</td>\n",
       "    </tr>\n",
       "    <tr>\n",
       "      <th>2</th>\n",
       "      <td>2022-06-12</td>\n",
       "      <td>1</td>\n",
       "    </tr>\n",
       "    <tr>\n",
       "      <th>3</th>\n",
       "      <td>2022-06-14</td>\n",
       "      <td>2</td>\n",
       "    </tr>\n",
       "    <tr>\n",
       "      <th>4</th>\n",
       "      <td>2022-06-16</td>\n",
       "      <td>1</td>\n",
       "    </tr>\n",
       "  </tbody>\n",
       "</table>\n",
       "</div>"
      ],
      "text/plain": [
       "          ds  y\n",
       "0 2022-06-08  1\n",
       "1 2022-06-11  1\n",
       "2 2022-06-12  1\n",
       "3 2022-06-14  2\n",
       "4 2022-06-16  1"
      ]
     },
     "execution_count": 192,
     "metadata": {},
     "output_type": "execute_result"
    }
   ],
   "source": [
    "data = {'ds':pd.to_datetime(daily_cases_BR.index), 'y':daily_cases_BR[\"Brazil\"].values}\n",
    "df = pd.DataFrame(data)\n",
    "df.head()"
   ]
  },
  {
   "cell_type": "markdown",
   "id": "023d5309-c43b-42b7-a1d0-c7da894175dc",
   "metadata": {},
   "source": [
    "<h4>Instanciação do Prophet e fitting</h4>"
   ]
  },
  {
   "cell_type": "code",
   "execution_count": 193,
   "id": "cb53e86a-07a7-457d-a938-1f80b14353f1",
   "metadata": {},
   "outputs": [
    {
     "name": "stderr",
     "output_type": "stream",
     "text": [
      "13:49:43 - cmdstanpy - INFO - Chain [1] start processing\n",
      "13:49:43 - cmdstanpy - INFO - Chain [1] done processing\n"
     ]
    },
    {
     "data": {
      "text/plain": [
       "<prophet.forecaster.Prophet at 0x7fd094388970>"
      ]
     },
     "execution_count": 193,
     "metadata": {},
     "output_type": "execute_result"
    }
   ],
   "source": [
    "m = Prophet()\n",
    "m.fit(df)"
   ]
  },
  {
   "cell_type": "markdown",
   "id": "e95810be-b388-420b-9dd2-a869786ea1ed",
   "metadata": {},
   "source": [
    "<div id=\"41\"><h3>Previsão de novos casos diários - 90 Dias</h3></div>"
   ]
  },
  {
   "cell_type": "code",
   "execution_count": 194,
   "id": "4c7cd9fe-43fe-4e20-9d02-58acc3f33b77",
   "metadata": {},
   "outputs": [],
   "source": [
    "future = m.make_future_dataframe(periods=90)\n",
    "forecast = m.predict(future)"
   ]
  },
  {
   "cell_type": "code",
   "execution_count": 195,
   "id": "03169e85-b1e3-4d7b-a301-efd62f9ea0eb",
   "metadata": {},
   "outputs": [
    {
     "data": {
      "text/html": [
       "<div>\n",
       "<style scoped>\n",
       "    .dataframe tbody tr th:only-of-type {\n",
       "        vertical-align: middle;\n",
       "    }\n",
       "\n",
       "    .dataframe tbody tr th {\n",
       "        vertical-align: top;\n",
       "    }\n",
       "\n",
       "    .dataframe thead th {\n",
       "        text-align: right;\n",
       "    }\n",
       "</style>\n",
       "<table border=\"1\" class=\"dataframe\">\n",
       "  <thead>\n",
       "    <tr style=\"text-align: right;\">\n",
       "      <th></th>\n",
       "      <th>ds</th>\n",
       "      <th>yhat</th>\n",
       "      <th>yhat_lower</th>\n",
       "      <th>yhat_upper</th>\n",
       "    </tr>\n",
       "  </thead>\n",
       "  <tbody>\n",
       "    <tr>\n",
       "      <th>0</th>\n",
       "      <td>2022-06-08</td>\n",
       "      <td>-15.501192</td>\n",
       "      <td>-61.280747</td>\n",
       "      <td>35.552006</td>\n",
       "    </tr>\n",
       "    <tr>\n",
       "      <th>1</th>\n",
       "      <td>2022-06-11</td>\n",
       "      <td>-31.932137</td>\n",
       "      <td>-78.466640</td>\n",
       "      <td>17.595842</td>\n",
       "    </tr>\n",
       "    <tr>\n",
       "      <th>2</th>\n",
       "      <td>2022-06-12</td>\n",
       "      <td>-61.927176</td>\n",
       "      <td>-109.193760</td>\n",
       "      <td>-15.181583</td>\n",
       "    </tr>\n",
       "    <tr>\n",
       "      <th>3</th>\n",
       "      <td>2022-06-14</td>\n",
       "      <td>-7.516875</td>\n",
       "      <td>-56.680731</td>\n",
       "      <td>39.052393</td>\n",
       "    </tr>\n",
       "    <tr>\n",
       "      <th>4</th>\n",
       "      <td>2022-06-16</td>\n",
       "      <td>-24.620323</td>\n",
       "      <td>-77.876460</td>\n",
       "      <td>24.125421</td>\n",
       "    </tr>\n",
       "  </tbody>\n",
       "</table>\n",
       "</div>"
      ],
      "text/plain": [
       "          ds       yhat  yhat_lower  yhat_upper\n",
       "0 2022-06-08 -15.501192  -61.280747   35.552006\n",
       "1 2022-06-11 -31.932137  -78.466640   17.595842\n",
       "2 2022-06-12 -61.927176 -109.193760  -15.181583\n",
       "3 2022-06-14  -7.516875  -56.680731   39.052393\n",
       "4 2022-06-16 -24.620323  -77.876460   24.125421"
      ]
     },
     "execution_count": 195,
     "metadata": {},
     "output_type": "execute_result"
    }
   ],
   "source": [
    "forecast[['ds', 'yhat', 'yhat_lower', 'yhat_upper']].head()"
   ]
  },
  {
   "cell_type": "markdown",
   "id": "59e0e267-2dbf-4d89-8a2d-b4ffe8d608b9",
   "metadata": {},
   "source": [
    "<b style=\"color:#1e6d06\">Observação:</b> Gerou corretamente do início"
   ]
  },
  {
   "cell_type": "code",
   "execution_count": 196,
   "id": "81a76bd3-c662-4bda-ae84-5e1c937982b6",
   "metadata": {},
   "outputs": [
    {
     "data": {
      "text/html": [
       "<div>\n",
       "<style scoped>\n",
       "    .dataframe tbody tr th:only-of-type {\n",
       "        vertical-align: middle;\n",
       "    }\n",
       "\n",
       "    .dataframe tbody tr th {\n",
       "        vertical-align: top;\n",
       "    }\n",
       "\n",
       "    .dataframe thead th {\n",
       "        text-align: right;\n",
       "    }\n",
       "</style>\n",
       "<table border=\"1\" class=\"dataframe\">\n",
       "  <thead>\n",
       "    <tr style=\"text-align: right;\">\n",
       "      <th></th>\n",
       "      <th>ds</th>\n",
       "      <th>yhat</th>\n",
       "      <th>yhat_lower</th>\n",
       "      <th>yhat_upper</th>\n",
       "    </tr>\n",
       "  </thead>\n",
       "  <tbody>\n",
       "    <tr>\n",
       "      <th>152</th>\n",
       "      <td>2022-11-24</td>\n",
       "      <td>336.127825</td>\n",
       "      <td>284.500741</td>\n",
       "      <td>384.206823</td>\n",
       "    </tr>\n",
       "    <tr>\n",
       "      <th>153</th>\n",
       "      <td>2022-11-25</td>\n",
       "      <td>403.257626</td>\n",
       "      <td>352.613445</td>\n",
       "      <td>449.025109</td>\n",
       "    </tr>\n",
       "    <tr>\n",
       "      <th>154</th>\n",
       "      <td>2022-11-26</td>\n",
       "      <td>344.500711</td>\n",
       "      <td>299.331598</td>\n",
       "      <td>392.822164</td>\n",
       "    </tr>\n",
       "    <tr>\n",
       "      <th>155</th>\n",
       "      <td>2022-11-27</td>\n",
       "      <td>314.505673</td>\n",
       "      <td>267.396569</td>\n",
       "      <td>366.160039</td>\n",
       "    </tr>\n",
       "    <tr>\n",
       "      <th>156</th>\n",
       "      <td>2022-11-28</td>\n",
       "      <td>364.592769</td>\n",
       "      <td>315.436241</td>\n",
       "      <td>417.433726</td>\n",
       "    </tr>\n",
       "  </tbody>\n",
       "</table>\n",
       "</div>"
      ],
      "text/plain": [
       "            ds        yhat  yhat_lower  yhat_upper\n",
       "152 2022-11-24  336.127825  284.500741  384.206823\n",
       "153 2022-11-25  403.257626  352.613445  449.025109\n",
       "154 2022-11-26  344.500711  299.331598  392.822164\n",
       "155 2022-11-27  314.505673  267.396569  366.160039\n",
       "156 2022-11-28  364.592769  315.436241  417.433726"
      ]
     },
     "execution_count": 196,
     "metadata": {},
     "output_type": "execute_result"
    }
   ],
   "source": [
    "forecast[['ds', 'yhat', 'yhat_lower', 'yhat_upper']].tail()"
   ]
  },
  {
   "cell_type": "markdown",
   "id": "4e3a9b80-07c4-4592-aee8-e01e988090bb",
   "metadata": {},
   "source": [
    "<b style=\"color:#1e6d06\">Observação:</b> E também até o final dos 90 dias"
   ]
  },
  {
   "cell_type": "markdown",
   "id": "4133068d-b5e9-45ca-b6a5-acbc373d0c98",
   "metadata": {},
   "source": [
    "<h4>Gráfico de previsão</h4>"
   ]
  },
  {
   "cell_type": "code",
   "execution_count": 197,
   "id": "0ccf25c3-a05c-4356-8ae4-63b34e5232d3",
   "metadata": {},
   "outputs": [
    {
     "data": {
      "application/vnd.plotly.v1+json": {
       "config": {
        "plotlyServerURL": "https://plot.ly"
       },
       "data": [
        {
         "marker": {
          "color": "black",
          "size": 4
         },
         "mode": "markers",
         "name": "Actual",
         "type": "scatter",
         "x": [
          "2022-06-08T00:00:00",
          "2022-06-11T00:00:00",
          "2022-06-12T00:00:00",
          "2022-06-14T00:00:00",
          "2022-06-16T00:00:00",
          "2022-06-17T00:00:00",
          "2022-06-19T00:00:00",
          "2022-06-21T00:00:00",
          "2022-06-22T00:00:00",
          "2022-06-23T00:00:00",
          "2022-06-24T00:00:00",
          "2022-06-25T00:00:00",
          "2022-06-26T00:00:00",
          "2022-06-28T00:00:00",
          "2022-06-29T00:00:00",
          "2022-06-30T00:00:00",
          "2022-07-01T00:00:00",
          "2022-07-02T00:00:00",
          "2022-07-03T00:00:00",
          "2022-07-04T00:00:00",
          "2022-07-05T00:00:00",
          "2022-07-06T00:00:00",
          "2022-07-07T00:00:00",
          "2022-07-08T00:00:00",
          "2022-07-09T00:00:00",
          "2022-07-11T00:00:00",
          "2022-07-12T00:00:00",
          "2022-07-13T00:00:00",
          "2022-07-14T00:00:00",
          "2022-07-19T00:00:00",
          "2022-07-20T00:00:00",
          "2022-07-21T00:00:00",
          "2022-07-22T00:00:00",
          "2022-07-25T00:00:00",
          "2022-07-26T00:00:00",
          "2022-07-27T00:00:00",
          "2022-07-28T00:00:00",
          "2022-07-29T00:00:00",
          "2022-07-30T00:00:00",
          "2022-07-31T00:00:00",
          "2022-08-01T00:00:00",
          "2022-08-02T00:00:00",
          "2022-08-03T00:00:00",
          "2022-08-04T00:00:00",
          "2022-08-05T00:00:00",
          "2022-08-06T00:00:00",
          "2022-08-07T00:00:00",
          "2022-08-08T00:00:00",
          "2022-08-09T00:00:00",
          "2022-08-10T00:00:00",
          "2022-08-12T00:00:00",
          "2022-08-13T00:00:00",
          "2022-08-14T00:00:00",
          "2022-08-15T00:00:00",
          "2022-08-16T00:00:00",
          "2022-08-17T00:00:00",
          "2022-08-18T00:00:00",
          "2022-08-19T00:00:00",
          "2022-08-20T00:00:00",
          "2022-08-21T00:00:00",
          "2022-08-22T00:00:00",
          "2022-08-23T00:00:00",
          "2022-08-24T00:00:00",
          "2022-08-25T00:00:00",
          "2022-08-26T00:00:00",
          "2022-08-29T00:00:00",
          "2022-08-30T00:00:00"
         ],
         "y": [
          1,
          1,
          1,
          2,
          1,
          1,
          1,
          1,
          2,
          5,
          1,
          2,
          1,
          1,
          16,
          12,
          15,
          12,
          2,
          2,
          26,
          36,
          30,
          32,
          14,
          10,
          38,
          42,
          39,
          101,
          143,
          13,
          90,
          115,
          56,
          112,
          89,
          193,
          84,
          27,
          105,
          128,
          118,
          139,
          144,
          104,
          23,
          162,
          122,
          43,
          288,
          102,
          45,
          92,
          198,
          176,
          91,
          205,
          100,
          32,
          109,
          88,
          160,
          72,
          256,
          220,
          184
         ]
        },
        {
         "hoverinfo": "skip",
         "line": {
          "width": 0
         },
         "mode": "lines",
         "type": "scatter",
         "x": [
          "2022-06-08T00:00:00",
          "2022-06-11T00:00:00",
          "2022-06-12T00:00:00",
          "2022-06-14T00:00:00",
          "2022-06-16T00:00:00",
          "2022-06-17T00:00:00",
          "2022-06-19T00:00:00",
          "2022-06-21T00:00:00",
          "2022-06-22T00:00:00",
          "2022-06-23T00:00:00",
          "2022-06-24T00:00:00",
          "2022-06-25T00:00:00",
          "2022-06-26T00:00:00",
          "2022-06-28T00:00:00",
          "2022-06-29T00:00:00",
          "2022-06-30T00:00:00",
          "2022-07-01T00:00:00",
          "2022-07-02T00:00:00",
          "2022-07-03T00:00:00",
          "2022-07-04T00:00:00",
          "2022-07-05T00:00:00",
          "2022-07-06T00:00:00",
          "2022-07-07T00:00:00",
          "2022-07-08T00:00:00",
          "2022-07-09T00:00:00",
          "2022-07-11T00:00:00",
          "2022-07-12T00:00:00",
          "2022-07-13T00:00:00",
          "2022-07-14T00:00:00",
          "2022-07-19T00:00:00",
          "2022-07-20T00:00:00",
          "2022-07-21T00:00:00",
          "2022-07-22T00:00:00",
          "2022-07-25T00:00:00",
          "2022-07-26T00:00:00",
          "2022-07-27T00:00:00",
          "2022-07-28T00:00:00",
          "2022-07-29T00:00:00",
          "2022-07-30T00:00:00",
          "2022-07-31T00:00:00",
          "2022-08-01T00:00:00",
          "2022-08-02T00:00:00",
          "2022-08-03T00:00:00",
          "2022-08-04T00:00:00",
          "2022-08-05T00:00:00",
          "2022-08-06T00:00:00",
          "2022-08-07T00:00:00",
          "2022-08-08T00:00:00",
          "2022-08-09T00:00:00",
          "2022-08-10T00:00:00",
          "2022-08-12T00:00:00",
          "2022-08-13T00:00:00",
          "2022-08-14T00:00:00",
          "2022-08-15T00:00:00",
          "2022-08-16T00:00:00",
          "2022-08-17T00:00:00",
          "2022-08-18T00:00:00",
          "2022-08-19T00:00:00",
          "2022-08-20T00:00:00",
          "2022-08-21T00:00:00",
          "2022-08-22T00:00:00",
          "2022-08-23T00:00:00",
          "2022-08-24T00:00:00",
          "2022-08-25T00:00:00",
          "2022-08-26T00:00:00",
          "2022-08-29T00:00:00",
          "2022-08-30T00:00:00",
          "2022-08-31T00:00:00",
          "2022-09-01T00:00:00",
          "2022-09-02T00:00:00",
          "2022-09-03T00:00:00",
          "2022-09-04T00:00:00",
          "2022-09-05T00:00:00",
          "2022-09-06T00:00:00",
          "2022-09-07T00:00:00",
          "2022-09-08T00:00:00",
          "2022-09-09T00:00:00",
          "2022-09-10T00:00:00",
          "2022-09-11T00:00:00",
          "2022-09-12T00:00:00",
          "2022-09-13T00:00:00",
          "2022-09-14T00:00:00",
          "2022-09-15T00:00:00",
          "2022-09-16T00:00:00",
          "2022-09-17T00:00:00",
          "2022-09-18T00:00:00",
          "2022-09-19T00:00:00",
          "2022-09-20T00:00:00",
          "2022-09-21T00:00:00",
          "2022-09-22T00:00:00",
          "2022-09-23T00:00:00",
          "2022-09-24T00:00:00",
          "2022-09-25T00:00:00",
          "2022-09-26T00:00:00",
          "2022-09-27T00:00:00",
          "2022-09-28T00:00:00",
          "2022-09-29T00:00:00",
          "2022-09-30T00:00:00",
          "2022-10-01T00:00:00",
          "2022-10-02T00:00:00",
          "2022-10-03T00:00:00",
          "2022-10-04T00:00:00",
          "2022-10-05T00:00:00",
          "2022-10-06T00:00:00",
          "2022-10-07T00:00:00",
          "2022-10-08T00:00:00",
          "2022-10-09T00:00:00",
          "2022-10-10T00:00:00",
          "2022-10-11T00:00:00",
          "2022-10-12T00:00:00",
          "2022-10-13T00:00:00",
          "2022-10-14T00:00:00",
          "2022-10-15T00:00:00",
          "2022-10-16T00:00:00",
          "2022-10-17T00:00:00",
          "2022-10-18T00:00:00",
          "2022-10-19T00:00:00",
          "2022-10-20T00:00:00",
          "2022-10-21T00:00:00",
          "2022-10-22T00:00:00",
          "2022-10-23T00:00:00",
          "2022-10-24T00:00:00",
          "2022-10-25T00:00:00",
          "2022-10-26T00:00:00",
          "2022-10-27T00:00:00",
          "2022-10-28T00:00:00",
          "2022-10-29T00:00:00",
          "2022-10-30T00:00:00",
          "2022-10-31T00:00:00",
          "2022-11-01T00:00:00",
          "2022-11-02T00:00:00",
          "2022-11-03T00:00:00",
          "2022-11-04T00:00:00",
          "2022-11-05T00:00:00",
          "2022-11-06T00:00:00",
          "2022-11-07T00:00:00",
          "2022-11-08T00:00:00",
          "2022-11-09T00:00:00",
          "2022-11-10T00:00:00",
          "2022-11-11T00:00:00",
          "2022-11-12T00:00:00",
          "2022-11-13T00:00:00",
          "2022-11-14T00:00:00",
          "2022-11-15T00:00:00",
          "2022-11-16T00:00:00",
          "2022-11-17T00:00:00",
          "2022-11-18T00:00:00",
          "2022-11-19T00:00:00",
          "2022-11-20T00:00:00",
          "2022-11-21T00:00:00",
          "2022-11-22T00:00:00",
          "2022-11-23T00:00:00",
          "2022-11-24T00:00:00",
          "2022-11-25T00:00:00",
          "2022-11-26T00:00:00",
          "2022-11-27T00:00:00",
          "2022-11-28T00:00:00"
         ],
         "y": [
          -61.280746680521325,
          -78.4666396350964,
          -109.19376004769684,
          -56.68073109625171,
          -77.87646030158805,
          -5.003804553393684,
          -92.76071174882644,
          -41.458016511317986,
          -30.79343933502414,
          -60.379431329691606,
          8.014572823625816,
          -50.11887647389744,
          -80.8085605002725,
          -25.615528084577328,
          -20.364238423238465,
          -40.45714115525369,
          23.533272709781254,
          -32.26390753489496,
          -65.84835259693637,
          -13.866482735801096,
          -7.201242999965208,
          -2.7996797630509853,
          -27.871119965942192,
          41.43077244072836,
          -16.96113819912217,
          0.7537595375878703,
          6.644469479099312,
          17.82648380610315,
          -9.828066572841696,
          22.343418300153008,
          31.017447860916285,
          3.3834819908409997,
          70.73368626752011,
          29.92242309749021,
          37.881273821329394,
          46.04185932381426,
          23.17257107859068,
          84.94498004923544,
          29.389090766470517,
          -0.7621980262810087,
          50.61212991653507,
          53.4844716833809,
          59.13040101892016,
          34.17837602018561,
          102.99599128756728,
          44.45891541107223,
          15.857832456775686,
          63.07070660756387,
          68.00973633901583,
          76.64263025062851,
          121.65420045813367,
          62.55132485262885,
          28.315707587697126,
          79.30466191986847,
          86.06274981040717,
          89.4353275893149,
          65.8839149223126,
          133.75647299123014,
          76.45788742903778,
          44.62258876942736,
          97.31534884456374,
          102.42429494414466,
          109.7953280848824,
          82.64551604812996,
          148.68001515538734,
          109.90057997555995,
          113.86341881862774,
          123.09912849025527,
          97.98491010522392,
          163.23490666893412,
          103.88886380399423,
          71.46851933918434,
          126.562189636929,
          133.67916621245146,
          139.17185832245343,
          112.92445407412276,
          181.94527748498214,
          118.85824720868898,
          94.78221335726944,
          142.99637094622094,
          146.75900579474097,
          154.1322382894782,
          129.76469984648313,
          197.39397939970314,
          135.2908276716407,
          109.9779515384815,
          158.7896474230983,
          163.28356108593027,
          169.1724461258625,
          148.7498253250493,
          212.0323082505384,
          155.17935588527942,
          125.0513427233645,
          176.4113690520513,
          176.2976533617265,
          187.3090011167785,
          161.93687971827757,
          228.4268049388377,
          167.78458343870741,
          139.31500251819935,
          193.37252832828642,
          191.65924079223555,
          201.8225946492632,
          174.3039677501808,
          241.20571520431494,
          186.2330287072787,
          156.20535263998963,
          206.4739139669142,
          207.8661820660792,
          215.62259821605832,
          192.94934020524252,
          262.8033679998946,
          202.01188711040194,
          170.40572106630881,
          221.22864033074848,
          228.2879114355778,
          231.8142442693618,
          209.0857220003904,
          274.19715497689117,
          216.67885282528394,
          188.11980747312666,
          236.08303560507292,
          238.65862915923486,
          246.76077983583633,
          219.99537072516293,
          288.7188187069572,
          232.91630357434607,
          201.14321078772386,
          251.80625861120984,
          259.9433496353936,
          269.2650834686432,
          237.65309663561519,
          306.0466333633215,
          248.70731895858054,
          219.4047493842147,
          266.1252452586266,
          273.4008238119163,
          282.86454949151846,
          258.44026964565364,
          321.03096954818005,
          263.0085209559641,
          232.80053894941037,
          287.27799579320214,
          289.67644889867415,
          294.0505434042404,
          274.0198028565902,
          337.8447387421232,
          279.7470492296863,
          251.85197954551145,
          301.531398489716,
          305.5068450384317,
          312.10325686306874,
          284.5007412226534,
          352.6134447150035,
          299.33159810513706,
          267.3965694022013,
          315.4362405806992
         ]
        },
        {
         "fill": "tonexty",
         "fillcolor": "rgba(0, 114, 178, 0.2)",
         "line": {
          "color": "#0072B2",
          "width": 2
         },
         "mode": "lines",
         "name": "Predicted",
         "type": "scatter",
         "x": [
          "2022-06-08T00:00:00",
          "2022-06-11T00:00:00",
          "2022-06-12T00:00:00",
          "2022-06-14T00:00:00",
          "2022-06-16T00:00:00",
          "2022-06-17T00:00:00",
          "2022-06-19T00:00:00",
          "2022-06-21T00:00:00",
          "2022-06-22T00:00:00",
          "2022-06-23T00:00:00",
          "2022-06-24T00:00:00",
          "2022-06-25T00:00:00",
          "2022-06-26T00:00:00",
          "2022-06-28T00:00:00",
          "2022-06-29T00:00:00",
          "2022-06-30T00:00:00",
          "2022-07-01T00:00:00",
          "2022-07-02T00:00:00",
          "2022-07-03T00:00:00",
          "2022-07-04T00:00:00",
          "2022-07-05T00:00:00",
          "2022-07-06T00:00:00",
          "2022-07-07T00:00:00",
          "2022-07-08T00:00:00",
          "2022-07-09T00:00:00",
          "2022-07-11T00:00:00",
          "2022-07-12T00:00:00",
          "2022-07-13T00:00:00",
          "2022-07-14T00:00:00",
          "2022-07-19T00:00:00",
          "2022-07-20T00:00:00",
          "2022-07-21T00:00:00",
          "2022-07-22T00:00:00",
          "2022-07-25T00:00:00",
          "2022-07-26T00:00:00",
          "2022-07-27T00:00:00",
          "2022-07-28T00:00:00",
          "2022-07-29T00:00:00",
          "2022-07-30T00:00:00",
          "2022-07-31T00:00:00",
          "2022-08-01T00:00:00",
          "2022-08-02T00:00:00",
          "2022-08-03T00:00:00",
          "2022-08-04T00:00:00",
          "2022-08-05T00:00:00",
          "2022-08-06T00:00:00",
          "2022-08-07T00:00:00",
          "2022-08-08T00:00:00",
          "2022-08-09T00:00:00",
          "2022-08-10T00:00:00",
          "2022-08-12T00:00:00",
          "2022-08-13T00:00:00",
          "2022-08-14T00:00:00",
          "2022-08-15T00:00:00",
          "2022-08-16T00:00:00",
          "2022-08-17T00:00:00",
          "2022-08-18T00:00:00",
          "2022-08-19T00:00:00",
          "2022-08-20T00:00:00",
          "2022-08-21T00:00:00",
          "2022-08-22T00:00:00",
          "2022-08-23T00:00:00",
          "2022-08-24T00:00:00",
          "2022-08-25T00:00:00",
          "2022-08-26T00:00:00",
          "2022-08-29T00:00:00",
          "2022-08-30T00:00:00",
          "2022-08-31T00:00:00",
          "2022-09-01T00:00:00",
          "2022-09-02T00:00:00",
          "2022-09-03T00:00:00",
          "2022-09-04T00:00:00",
          "2022-09-05T00:00:00",
          "2022-09-06T00:00:00",
          "2022-09-07T00:00:00",
          "2022-09-08T00:00:00",
          "2022-09-09T00:00:00",
          "2022-09-10T00:00:00",
          "2022-09-11T00:00:00",
          "2022-09-12T00:00:00",
          "2022-09-13T00:00:00",
          "2022-09-14T00:00:00",
          "2022-09-15T00:00:00",
          "2022-09-16T00:00:00",
          "2022-09-17T00:00:00",
          "2022-09-18T00:00:00",
          "2022-09-19T00:00:00",
          "2022-09-20T00:00:00",
          "2022-09-21T00:00:00",
          "2022-09-22T00:00:00",
          "2022-09-23T00:00:00",
          "2022-09-24T00:00:00",
          "2022-09-25T00:00:00",
          "2022-09-26T00:00:00",
          "2022-09-27T00:00:00",
          "2022-09-28T00:00:00",
          "2022-09-29T00:00:00",
          "2022-09-30T00:00:00",
          "2022-10-01T00:00:00",
          "2022-10-02T00:00:00",
          "2022-10-03T00:00:00",
          "2022-10-04T00:00:00",
          "2022-10-05T00:00:00",
          "2022-10-06T00:00:00",
          "2022-10-07T00:00:00",
          "2022-10-08T00:00:00",
          "2022-10-09T00:00:00",
          "2022-10-10T00:00:00",
          "2022-10-11T00:00:00",
          "2022-10-12T00:00:00",
          "2022-10-13T00:00:00",
          "2022-10-14T00:00:00",
          "2022-10-15T00:00:00",
          "2022-10-16T00:00:00",
          "2022-10-17T00:00:00",
          "2022-10-18T00:00:00",
          "2022-10-19T00:00:00",
          "2022-10-20T00:00:00",
          "2022-10-21T00:00:00",
          "2022-10-22T00:00:00",
          "2022-10-23T00:00:00",
          "2022-10-24T00:00:00",
          "2022-10-25T00:00:00",
          "2022-10-26T00:00:00",
          "2022-10-27T00:00:00",
          "2022-10-28T00:00:00",
          "2022-10-29T00:00:00",
          "2022-10-30T00:00:00",
          "2022-10-31T00:00:00",
          "2022-11-01T00:00:00",
          "2022-11-02T00:00:00",
          "2022-11-03T00:00:00",
          "2022-11-04T00:00:00",
          "2022-11-05T00:00:00",
          "2022-11-06T00:00:00",
          "2022-11-07T00:00:00",
          "2022-11-08T00:00:00",
          "2022-11-09T00:00:00",
          "2022-11-10T00:00:00",
          "2022-11-11T00:00:00",
          "2022-11-12T00:00:00",
          "2022-11-13T00:00:00",
          "2022-11-14T00:00:00",
          "2022-11-15T00:00:00",
          "2022-11-16T00:00:00",
          "2022-11-17T00:00:00",
          "2022-11-18T00:00:00",
          "2022-11-19T00:00:00",
          "2022-11-20T00:00:00",
          "2022-11-21T00:00:00",
          "2022-11-22T00:00:00",
          "2022-11-23T00:00:00",
          "2022-11-24T00:00:00",
          "2022-11-25T00:00:00",
          "2022-11-26T00:00:00",
          "2022-11-27T00:00:00",
          "2022-11-28T00:00:00"
         ],
         "y": [
          -15.50119180415486,
          -31.932137393002513,
          -61.92717577231454,
          -7.516875047729894,
          -24.62032296943674,
          42.50947752983012,
          -46.2424771720162,
          8.167823552344288,
          15.86820539766201,
          -8.935624369305248,
          58.1941761303122,
          -0.5627401909232717,
          -30.557778570218257,
          23.852522154562106,
          31.552904000076495,
          6.749074232942645,
          73.8788747324725,
          15.121958410823916,
          -14.873079416056662,
          35.214016975480476,
          39.537222414742814,
          47.23760481347982,
          22.43377559942197,
          89.5635766521324,
          30.806660883871572,
          50.89871944958519,
          55.221924889643425,
          62.92230728890013,
          38.11847807554972,
          70.90662736721322,
          78.60700976668292,
          53.80318055366563,
          120.93298160724923,
          82.26812440693026,
          86.59132984756475,
          94.29171224745512,
          69.4878830347589,
          136.6176840887633,
          77.8607683216851,
          47.86573049643989,
          97.95282688928499,
          102.27603232971691,
          109.97641472953441,
          85.1725855167079,
          152.30238657038203,
          93.54547080319409,
          63.5504329778174,
          113.63752937095566,
          117.96073481143696,
          125.66111721108959,
          167.9870890519048,
          109.23017328477295,
          79.23513545965952,
          129.3222318528301,
          133.64543729353656,
          141.34581969368608,
          116.54199048122814,
          183.67179153544708,
          124.91487576851328,
          94.91983794360898,
          145.00693433667274,
          149.3301397776749,
          157.03052217779435,
          132.22669296538427,
          199.35649401963641,
          160.69163682086008,
          165.0148422617662,
          172.71522466187474,
          147.9113954495404,
          215.04119650382574,
          156.2842807369722,
          126.2892429119257,
          176.3763393050474,
          180.6995447459418,
          188.39992714601098,
          163.59609793350077,
          230.72589898783644,
          171.96898322107361,
          141.97394539601441,
          192.0610417892347,
          196.38424722994876,
          204.08462963018542,
          179.28080041765693,
          246.4106014720258,
          187.6536857050481,
          157.65864788009537,
          207.7457442730774,
          212.06894971412436,
          219.7693321142937,
          194.96550290181307,
          262.09530395612586,
          203.33838818927634,
          173.34335036432336,
          223.4304467573888,
          227.7536521983,
          235.454034598402,
          210.6502053859692,
          277.7800064402185,
          219.0230906732509,
          189.02805284827284,
          239.11514924145197,
          243.43835468239124,
          251.1387370826044,
          226.33490787009123,
          293.46470892431853,
          234.70779315722547,
          204.71275533250082,
          254.7998517256393,
          259.1230571665296,
          266.8234395666848,
          242.01961035428144,
          309.1494114085079,
          250.39249564170981,
          220.3974578165818,
          270.4845542098267,
          274.8077596506209,
          282.50814205082094,
          257.7043128384035,
          324.83411389260783,
          266.0771981256844,
          236.08216030080987,
          286.169256694014,
          290.4924621347965,
          298.1928445349013,
          273.38901532239794,
          340.51881637670795,
          281.76190060978576,
          251.7668627847592,
          301.85395917807716,
          306.17716461885044,
          313.8775470189818,
          289.0737178065541,
          356.2035188608079,
          297.4466030938871,
          267.4515652689872,
          317.5386616620439,
          321.8618671030261,
          329.56224950309,
          304.7584202907102,
          371.88822134499725,
          313.1313055782446,
          283.1362677532153,
          333.2233641462313,
          337.5465695871174,
          345.24695198719826,
          320.44312277483226,
          387.5729238290006,
          328.81600806221917,
          298.8209702371647,
          348.9080666304186,
          353.2312720712087,
          360.9316544714007,
          336.12782525895443,
          403.25762631319,
          344.50071054632053,
          314.5056727213927,
          364.5927691142613
         ]
        },
        {
         "fill": "tonexty",
         "fillcolor": "rgba(0, 114, 178, 0.2)",
         "hoverinfo": "skip",
         "line": {
          "width": 0
         },
         "mode": "lines",
         "type": "scatter",
         "x": [
          "2022-06-08T00:00:00",
          "2022-06-11T00:00:00",
          "2022-06-12T00:00:00",
          "2022-06-14T00:00:00",
          "2022-06-16T00:00:00",
          "2022-06-17T00:00:00",
          "2022-06-19T00:00:00",
          "2022-06-21T00:00:00",
          "2022-06-22T00:00:00",
          "2022-06-23T00:00:00",
          "2022-06-24T00:00:00",
          "2022-06-25T00:00:00",
          "2022-06-26T00:00:00",
          "2022-06-28T00:00:00",
          "2022-06-29T00:00:00",
          "2022-06-30T00:00:00",
          "2022-07-01T00:00:00",
          "2022-07-02T00:00:00",
          "2022-07-03T00:00:00",
          "2022-07-04T00:00:00",
          "2022-07-05T00:00:00",
          "2022-07-06T00:00:00",
          "2022-07-07T00:00:00",
          "2022-07-08T00:00:00",
          "2022-07-09T00:00:00",
          "2022-07-11T00:00:00",
          "2022-07-12T00:00:00",
          "2022-07-13T00:00:00",
          "2022-07-14T00:00:00",
          "2022-07-19T00:00:00",
          "2022-07-20T00:00:00",
          "2022-07-21T00:00:00",
          "2022-07-22T00:00:00",
          "2022-07-25T00:00:00",
          "2022-07-26T00:00:00",
          "2022-07-27T00:00:00",
          "2022-07-28T00:00:00",
          "2022-07-29T00:00:00",
          "2022-07-30T00:00:00",
          "2022-07-31T00:00:00",
          "2022-08-01T00:00:00",
          "2022-08-02T00:00:00",
          "2022-08-03T00:00:00",
          "2022-08-04T00:00:00",
          "2022-08-05T00:00:00",
          "2022-08-06T00:00:00",
          "2022-08-07T00:00:00",
          "2022-08-08T00:00:00",
          "2022-08-09T00:00:00",
          "2022-08-10T00:00:00",
          "2022-08-12T00:00:00",
          "2022-08-13T00:00:00",
          "2022-08-14T00:00:00",
          "2022-08-15T00:00:00",
          "2022-08-16T00:00:00",
          "2022-08-17T00:00:00",
          "2022-08-18T00:00:00",
          "2022-08-19T00:00:00",
          "2022-08-20T00:00:00",
          "2022-08-21T00:00:00",
          "2022-08-22T00:00:00",
          "2022-08-23T00:00:00",
          "2022-08-24T00:00:00",
          "2022-08-25T00:00:00",
          "2022-08-26T00:00:00",
          "2022-08-29T00:00:00",
          "2022-08-30T00:00:00",
          "2022-08-31T00:00:00",
          "2022-09-01T00:00:00",
          "2022-09-02T00:00:00",
          "2022-09-03T00:00:00",
          "2022-09-04T00:00:00",
          "2022-09-05T00:00:00",
          "2022-09-06T00:00:00",
          "2022-09-07T00:00:00",
          "2022-09-08T00:00:00",
          "2022-09-09T00:00:00",
          "2022-09-10T00:00:00",
          "2022-09-11T00:00:00",
          "2022-09-12T00:00:00",
          "2022-09-13T00:00:00",
          "2022-09-14T00:00:00",
          "2022-09-15T00:00:00",
          "2022-09-16T00:00:00",
          "2022-09-17T00:00:00",
          "2022-09-18T00:00:00",
          "2022-09-19T00:00:00",
          "2022-09-20T00:00:00",
          "2022-09-21T00:00:00",
          "2022-09-22T00:00:00",
          "2022-09-23T00:00:00",
          "2022-09-24T00:00:00",
          "2022-09-25T00:00:00",
          "2022-09-26T00:00:00",
          "2022-09-27T00:00:00",
          "2022-09-28T00:00:00",
          "2022-09-29T00:00:00",
          "2022-09-30T00:00:00",
          "2022-10-01T00:00:00",
          "2022-10-02T00:00:00",
          "2022-10-03T00:00:00",
          "2022-10-04T00:00:00",
          "2022-10-05T00:00:00",
          "2022-10-06T00:00:00",
          "2022-10-07T00:00:00",
          "2022-10-08T00:00:00",
          "2022-10-09T00:00:00",
          "2022-10-10T00:00:00",
          "2022-10-11T00:00:00",
          "2022-10-12T00:00:00",
          "2022-10-13T00:00:00",
          "2022-10-14T00:00:00",
          "2022-10-15T00:00:00",
          "2022-10-16T00:00:00",
          "2022-10-17T00:00:00",
          "2022-10-18T00:00:00",
          "2022-10-19T00:00:00",
          "2022-10-20T00:00:00",
          "2022-10-21T00:00:00",
          "2022-10-22T00:00:00",
          "2022-10-23T00:00:00",
          "2022-10-24T00:00:00",
          "2022-10-25T00:00:00",
          "2022-10-26T00:00:00",
          "2022-10-27T00:00:00",
          "2022-10-28T00:00:00",
          "2022-10-29T00:00:00",
          "2022-10-30T00:00:00",
          "2022-10-31T00:00:00",
          "2022-11-01T00:00:00",
          "2022-11-02T00:00:00",
          "2022-11-03T00:00:00",
          "2022-11-04T00:00:00",
          "2022-11-05T00:00:00",
          "2022-11-06T00:00:00",
          "2022-11-07T00:00:00",
          "2022-11-08T00:00:00",
          "2022-11-09T00:00:00",
          "2022-11-10T00:00:00",
          "2022-11-11T00:00:00",
          "2022-11-12T00:00:00",
          "2022-11-13T00:00:00",
          "2022-11-14T00:00:00",
          "2022-11-15T00:00:00",
          "2022-11-16T00:00:00",
          "2022-11-17T00:00:00",
          "2022-11-18T00:00:00",
          "2022-11-19T00:00:00",
          "2022-11-20T00:00:00",
          "2022-11-21T00:00:00",
          "2022-11-22T00:00:00",
          "2022-11-23T00:00:00",
          "2022-11-24T00:00:00",
          "2022-11-25T00:00:00",
          "2022-11-26T00:00:00",
          "2022-11-27T00:00:00",
          "2022-11-28T00:00:00"
         ],
         "y": [
          35.552005733268594,
          17.59584247854035,
          -15.181583257311061,
          39.05239348721665,
          24.125421143234096,
          91.49062098008721,
          5.059924343703648,
          56.3505772026891,
          70.12809569666376,
          40.72999759520384,
          103.79316636122584,
          51.16932012847619,
          20.258163022522215,
          70.41738041308652,
          77.97585478978155,
          53.38358348500495,
          121.73783255953695,
          67.33664245786565,
          33.94981104267454,
          83.9569086411158,
          91.86827782020683,
          96.34993613476367,
          70.06134551761626,
          137.6919469408097,
          80.30584526821035,
          101.03938996810331,
          106.6699366190744,
          112.9488604720623,
          87.64557669500824,
          123.97770246060425,
          126.73752193929228,
          101.25952141966796,
          165.31925899427918,
          130.79018223817516,
          131.3747077949497,
          143.28731071318262,
          118.65235902299266,
          183.9449694621756,
          129.24064751802104,
          93.00592895043272,
          148.46196546601473,
          148.26227101490102,
          158.12934055585762,
          135.04409405321277,
          198.44092366304406,
          142.77073488705418,
          114.12997060824136,
          163.3075717944813,
          167.31534959171307,
          174.3571546398468,
          219.25392324409395,
          158.6087390461202,
          126.76441389975179,
          174.60514503113274,
          181.78834478315318,
          188.52412446092004,
          164.4411282511633,
          233.4103954968307,
          175.95206150820866,
          144.46793095219644,
          194.28616969964656,
          197.61191462868996,
          204.94254582751586,
          181.5627308036049,
          251.33951356422483,
          209.55672692347474,
          211.86447493724182,
          225.56512907729964,
          196.3052099276063,
          267.0601191997109,
          203.81706838394382,
          174.3725325425367,
          222.00151559099012,
          228.61991914139224,
          236.63069166147858,
          210.47174994887104,
          278.51147421573285,
          220.8683916834065,
          187.66242969170622,
          240.67274891000852,
          245.72708515248328,
          251.9773335942057,
          226.1178873891194,
          294.09931925373417,
          236.6093437218627,
          209.6026773331383,
          258.5338519838046,
          263.3443465265661,
          273.0284555715432,
          245.75869900536406,
          309.68760918232994,
          257.6234571212176,
          216.51464094754272,
          272.1083672976207,
          276.90761357982194,
          287.3404178283999,
          260.05395369921985,
          326.24888875738156,
          271.8210030656046,
          238.8365775765977,
          290.64665609133687,
          293.54973853149806,
          303.76938510759186,
          275.74112121599217,
          344.86840747034483,
          281.95717359675297,
          253.4965603427104,
          301.81399109005184,
          307.59558470003054,
          317.7478697832431,
          290.6593259271488,
          357.4027121806835,
          299.9179463614567,
          267.8769810050494,
          321.54327181921406,
          323.8829499467126,
          330.2611278208319,
          306.5252750363322,
          374.148638546031,
          316.48377021992604,
          288.69068293358015,
          331.3846557062658,
          336.92680367883366,
          346.1451721614498,
          323.08651337492137,
          387.9461011679744,
          331.0767047521212,
          299.3200755893351,
          350.8638024351292,
          357.53142805100043,
          363.2699811983373,
          339.8363510215587,
          404.62313163467445,
          347.190762734596,
          317.16302179645066,
          367.6658138485704,
          371.62493278404634,
          379.83427021770063,
          355.7682664618062,
          417.5898727011437,
          360.5060099712124,
          332.1601005041688,
          382.7532118152945,
          387.5532935898637,
          396.995031051093,
          370.9128795838992,
          434.1578081740447,
          379.28186027363205,
          351.3490707867594,
          399.86260056863534,
          406.12282372568524,
          410.0852703316454,
          384.2068228251344,
          449.0251086969646,
          392.8221643208981,
          366.16003863907775,
          417.433726401716
         ]
        }
       ],
       "layout": {
        "height": 600,
        "showlegend": false,
        "template": {
         "data": {
          "bar": [
           {
            "error_x": {
             "color": "#2a3f5f"
            },
            "error_y": {
             "color": "#2a3f5f"
            },
            "marker": {
             "line": {
              "color": "#E5ECF6",
              "width": 0.5
             },
             "pattern": {
              "fillmode": "overlay",
              "size": 10,
              "solidity": 0.2
             }
            },
            "type": "bar"
           }
          ],
          "barpolar": [
           {
            "marker": {
             "line": {
              "color": "#E5ECF6",
              "width": 0.5
             },
             "pattern": {
              "fillmode": "overlay",
              "size": 10,
              "solidity": 0.2
             }
            },
            "type": "barpolar"
           }
          ],
          "carpet": [
           {
            "aaxis": {
             "endlinecolor": "#2a3f5f",
             "gridcolor": "white",
             "linecolor": "white",
             "minorgridcolor": "white",
             "startlinecolor": "#2a3f5f"
            },
            "baxis": {
             "endlinecolor": "#2a3f5f",
             "gridcolor": "white",
             "linecolor": "white",
             "minorgridcolor": "white",
             "startlinecolor": "#2a3f5f"
            },
            "type": "carpet"
           }
          ],
          "choropleth": [
           {
            "colorbar": {
             "outlinewidth": 0,
             "ticks": ""
            },
            "type": "choropleth"
           }
          ],
          "contour": [
           {
            "colorbar": {
             "outlinewidth": 0,
             "ticks": ""
            },
            "colorscale": [
             [
              0,
              "#0d0887"
             ],
             [
              0.1111111111111111,
              "#46039f"
             ],
             [
              0.2222222222222222,
              "#7201a8"
             ],
             [
              0.3333333333333333,
              "#9c179e"
             ],
             [
              0.4444444444444444,
              "#bd3786"
             ],
             [
              0.5555555555555556,
              "#d8576b"
             ],
             [
              0.6666666666666666,
              "#ed7953"
             ],
             [
              0.7777777777777778,
              "#fb9f3a"
             ],
             [
              0.8888888888888888,
              "#fdca26"
             ],
             [
              1,
              "#f0f921"
             ]
            ],
            "type": "contour"
           }
          ],
          "contourcarpet": [
           {
            "colorbar": {
             "outlinewidth": 0,
             "ticks": ""
            },
            "type": "contourcarpet"
           }
          ],
          "heatmap": [
           {
            "colorbar": {
             "outlinewidth": 0,
             "ticks": ""
            },
            "colorscale": [
             [
              0,
              "#0d0887"
             ],
             [
              0.1111111111111111,
              "#46039f"
             ],
             [
              0.2222222222222222,
              "#7201a8"
             ],
             [
              0.3333333333333333,
              "#9c179e"
             ],
             [
              0.4444444444444444,
              "#bd3786"
             ],
             [
              0.5555555555555556,
              "#d8576b"
             ],
             [
              0.6666666666666666,
              "#ed7953"
             ],
             [
              0.7777777777777778,
              "#fb9f3a"
             ],
             [
              0.8888888888888888,
              "#fdca26"
             ],
             [
              1,
              "#f0f921"
             ]
            ],
            "type": "heatmap"
           }
          ],
          "heatmapgl": [
           {
            "colorbar": {
             "outlinewidth": 0,
             "ticks": ""
            },
            "colorscale": [
             [
              0,
              "#0d0887"
             ],
             [
              0.1111111111111111,
              "#46039f"
             ],
             [
              0.2222222222222222,
              "#7201a8"
             ],
             [
              0.3333333333333333,
              "#9c179e"
             ],
             [
              0.4444444444444444,
              "#bd3786"
             ],
             [
              0.5555555555555556,
              "#d8576b"
             ],
             [
              0.6666666666666666,
              "#ed7953"
             ],
             [
              0.7777777777777778,
              "#fb9f3a"
             ],
             [
              0.8888888888888888,
              "#fdca26"
             ],
             [
              1,
              "#f0f921"
             ]
            ],
            "type": "heatmapgl"
           }
          ],
          "histogram": [
           {
            "marker": {
             "pattern": {
              "fillmode": "overlay",
              "size": 10,
              "solidity": 0.2
             }
            },
            "type": "histogram"
           }
          ],
          "histogram2d": [
           {
            "colorbar": {
             "outlinewidth": 0,
             "ticks": ""
            },
            "colorscale": [
             [
              0,
              "#0d0887"
             ],
             [
              0.1111111111111111,
              "#46039f"
             ],
             [
              0.2222222222222222,
              "#7201a8"
             ],
             [
              0.3333333333333333,
              "#9c179e"
             ],
             [
              0.4444444444444444,
              "#bd3786"
             ],
             [
              0.5555555555555556,
              "#d8576b"
             ],
             [
              0.6666666666666666,
              "#ed7953"
             ],
             [
              0.7777777777777778,
              "#fb9f3a"
             ],
             [
              0.8888888888888888,
              "#fdca26"
             ],
             [
              1,
              "#f0f921"
             ]
            ],
            "type": "histogram2d"
           }
          ],
          "histogram2dcontour": [
           {
            "colorbar": {
             "outlinewidth": 0,
             "ticks": ""
            },
            "colorscale": [
             [
              0,
              "#0d0887"
             ],
             [
              0.1111111111111111,
              "#46039f"
             ],
             [
              0.2222222222222222,
              "#7201a8"
             ],
             [
              0.3333333333333333,
              "#9c179e"
             ],
             [
              0.4444444444444444,
              "#bd3786"
             ],
             [
              0.5555555555555556,
              "#d8576b"
             ],
             [
              0.6666666666666666,
              "#ed7953"
             ],
             [
              0.7777777777777778,
              "#fb9f3a"
             ],
             [
              0.8888888888888888,
              "#fdca26"
             ],
             [
              1,
              "#f0f921"
             ]
            ],
            "type": "histogram2dcontour"
           }
          ],
          "mesh3d": [
           {
            "colorbar": {
             "outlinewidth": 0,
             "ticks": ""
            },
            "type": "mesh3d"
           }
          ],
          "parcoords": [
           {
            "line": {
             "colorbar": {
              "outlinewidth": 0,
              "ticks": ""
             }
            },
            "type": "parcoords"
           }
          ],
          "pie": [
           {
            "automargin": true,
            "type": "pie"
           }
          ],
          "scatter": [
           {
            "marker": {
             "colorbar": {
              "outlinewidth": 0,
              "ticks": ""
             }
            },
            "type": "scatter"
           }
          ],
          "scatter3d": [
           {
            "line": {
             "colorbar": {
              "outlinewidth": 0,
              "ticks": ""
             }
            },
            "marker": {
             "colorbar": {
              "outlinewidth": 0,
              "ticks": ""
             }
            },
            "type": "scatter3d"
           }
          ],
          "scattercarpet": [
           {
            "marker": {
             "colorbar": {
              "outlinewidth": 0,
              "ticks": ""
             }
            },
            "type": "scattercarpet"
           }
          ],
          "scattergeo": [
           {
            "marker": {
             "colorbar": {
              "outlinewidth": 0,
              "ticks": ""
             }
            },
            "type": "scattergeo"
           }
          ],
          "scattergl": [
           {
            "marker": {
             "colorbar": {
              "outlinewidth": 0,
              "ticks": ""
             }
            },
            "type": "scattergl"
           }
          ],
          "scattermapbox": [
           {
            "marker": {
             "colorbar": {
              "outlinewidth": 0,
              "ticks": ""
             }
            },
            "type": "scattermapbox"
           }
          ],
          "scatterpolar": [
           {
            "marker": {
             "colorbar": {
              "outlinewidth": 0,
              "ticks": ""
             }
            },
            "type": "scatterpolar"
           }
          ],
          "scatterpolargl": [
           {
            "marker": {
             "colorbar": {
              "outlinewidth": 0,
              "ticks": ""
             }
            },
            "type": "scatterpolargl"
           }
          ],
          "scatterternary": [
           {
            "marker": {
             "colorbar": {
              "outlinewidth": 0,
              "ticks": ""
             }
            },
            "type": "scatterternary"
           }
          ],
          "surface": [
           {
            "colorbar": {
             "outlinewidth": 0,
             "ticks": ""
            },
            "colorscale": [
             [
              0,
              "#0d0887"
             ],
             [
              0.1111111111111111,
              "#46039f"
             ],
             [
              0.2222222222222222,
              "#7201a8"
             ],
             [
              0.3333333333333333,
              "#9c179e"
             ],
             [
              0.4444444444444444,
              "#bd3786"
             ],
             [
              0.5555555555555556,
              "#d8576b"
             ],
             [
              0.6666666666666666,
              "#ed7953"
             ],
             [
              0.7777777777777778,
              "#fb9f3a"
             ],
             [
              0.8888888888888888,
              "#fdca26"
             ],
             [
              1,
              "#f0f921"
             ]
            ],
            "type": "surface"
           }
          ],
          "table": [
           {
            "cells": {
             "fill": {
              "color": "#EBF0F8"
             },
             "line": {
              "color": "white"
             }
            },
            "header": {
             "fill": {
              "color": "#C8D4E3"
             },
             "line": {
              "color": "white"
             }
            },
            "type": "table"
           }
          ]
         },
         "layout": {
          "annotationdefaults": {
           "arrowcolor": "#2a3f5f",
           "arrowhead": 0,
           "arrowwidth": 1
          },
          "autotypenumbers": "strict",
          "coloraxis": {
           "colorbar": {
            "outlinewidth": 0,
            "ticks": ""
           }
          },
          "colorscale": {
           "diverging": [
            [
             0,
             "#8e0152"
            ],
            [
             0.1,
             "#c51b7d"
            ],
            [
             0.2,
             "#de77ae"
            ],
            [
             0.3,
             "#f1b6da"
            ],
            [
             0.4,
             "#fde0ef"
            ],
            [
             0.5,
             "#f7f7f7"
            ],
            [
             0.6,
             "#e6f5d0"
            ],
            [
             0.7,
             "#b8e186"
            ],
            [
             0.8,
             "#7fbc41"
            ],
            [
             0.9,
             "#4d9221"
            ],
            [
             1,
             "#276419"
            ]
           ],
           "sequential": [
            [
             0,
             "#0d0887"
            ],
            [
             0.1111111111111111,
             "#46039f"
            ],
            [
             0.2222222222222222,
             "#7201a8"
            ],
            [
             0.3333333333333333,
             "#9c179e"
            ],
            [
             0.4444444444444444,
             "#bd3786"
            ],
            [
             0.5555555555555556,
             "#d8576b"
            ],
            [
             0.6666666666666666,
             "#ed7953"
            ],
            [
             0.7777777777777778,
             "#fb9f3a"
            ],
            [
             0.8888888888888888,
             "#fdca26"
            ],
            [
             1,
             "#f0f921"
            ]
           ],
           "sequentialminus": [
            [
             0,
             "#0d0887"
            ],
            [
             0.1111111111111111,
             "#46039f"
            ],
            [
             0.2222222222222222,
             "#7201a8"
            ],
            [
             0.3333333333333333,
             "#9c179e"
            ],
            [
             0.4444444444444444,
             "#bd3786"
            ],
            [
             0.5555555555555556,
             "#d8576b"
            ],
            [
             0.6666666666666666,
             "#ed7953"
            ],
            [
             0.7777777777777778,
             "#fb9f3a"
            ],
            [
             0.8888888888888888,
             "#fdca26"
            ],
            [
             1,
             "#f0f921"
            ]
           ]
          },
          "colorway": [
           "#636efa",
           "#EF553B",
           "#00cc96",
           "#ab63fa",
           "#FFA15A",
           "#19d3f3",
           "#FF6692",
           "#B6E880",
           "#FF97FF",
           "#FECB52"
          ],
          "font": {
           "color": "#2a3f5f"
          },
          "geo": {
           "bgcolor": "white",
           "lakecolor": "white",
           "landcolor": "#E5ECF6",
           "showlakes": true,
           "showland": true,
           "subunitcolor": "white"
          },
          "hoverlabel": {
           "align": "left"
          },
          "hovermode": "closest",
          "mapbox": {
           "style": "light"
          },
          "paper_bgcolor": "white",
          "plot_bgcolor": "#E5ECF6",
          "polar": {
           "angularaxis": {
            "gridcolor": "white",
            "linecolor": "white",
            "ticks": ""
           },
           "bgcolor": "#E5ECF6",
           "radialaxis": {
            "gridcolor": "white",
            "linecolor": "white",
            "ticks": ""
           }
          },
          "scene": {
           "xaxis": {
            "backgroundcolor": "#E5ECF6",
            "gridcolor": "white",
            "gridwidth": 2,
            "linecolor": "white",
            "showbackground": true,
            "ticks": "",
            "zerolinecolor": "white"
           },
           "yaxis": {
            "backgroundcolor": "#E5ECF6",
            "gridcolor": "white",
            "gridwidth": 2,
            "linecolor": "white",
            "showbackground": true,
            "ticks": "",
            "zerolinecolor": "white"
           },
           "zaxis": {
            "backgroundcolor": "#E5ECF6",
            "gridcolor": "white",
            "gridwidth": 2,
            "linecolor": "white",
            "showbackground": true,
            "ticks": "",
            "zerolinecolor": "white"
           }
          },
          "shapedefaults": {
           "line": {
            "color": "#2a3f5f"
           }
          },
          "ternary": {
           "aaxis": {
            "gridcolor": "white",
            "linecolor": "white",
            "ticks": ""
           },
           "baxis": {
            "gridcolor": "white",
            "linecolor": "white",
            "ticks": ""
           },
           "bgcolor": "#E5ECF6",
           "caxis": {
            "gridcolor": "white",
            "linecolor": "white",
            "ticks": ""
           }
          },
          "title": {
           "x": 0.05
          },
          "xaxis": {
           "automargin": true,
           "gridcolor": "white",
           "linecolor": "white",
           "ticks": "",
           "title": {
            "standoff": 15
           },
           "zerolinecolor": "white",
           "zerolinewidth": 2
          },
          "yaxis": {
           "automargin": true,
           "gridcolor": "white",
           "linecolor": "white",
           "ticks": "",
           "title": {
            "standoff": 15
           },
           "zerolinecolor": "white",
           "zerolinewidth": 2
          }
         }
        },
        "width": 900,
        "xaxis": {
         "autorange": true,
         "range": [
          "2022-05-29 02:44:34.2857",
          "2022-11-28"
         ],
         "rangeselector": {
          "buttons": [
           {
            "count": 7,
            "label": "1w",
            "step": "day",
            "stepmode": "backward"
           },
           {
            "count": 1,
            "label": "1m",
            "step": "month",
            "stepmode": "backward"
           },
           {
            "count": 6,
            "label": "6m",
            "step": "month",
            "stepmode": "backward"
           },
           {
            "count": 1,
            "label": "1y",
            "step": "year",
            "stepmode": "backward"
           },
           {
            "step": "all"
           }
          ]
         },
         "rangeslider": {
          "autorange": true,
          "range": [
           "2022-05-29 02:44:34.2857",
           "2022-11-28"
          ],
          "visible": true,
          "yaxis": {
           "_template": null,
           "rangemode": "match"
          }
         },
         "title": {
          "text": "ds"
         },
         "type": "date"
        },
        "yaxis": {
         "autorange": true,
         "range": [
          -140.20591942240026,
          480.037268071668
         ],
         "title": {
          "text": "y"
         },
         "type": "linear"
        }
       }
      },
      "image/png": "[encoded data removed]",
      "text/html": [
       "<div>                            <div id=\"6c5ed856-1d1e-431b-8ccd-5fd1395971fc\" class=\"plotly-graph-div\" style=\"height:600px; width:900px;\"></div>            <script type=\"text/javascript\">                require([\"plotly\"], function(Plotly) {                    window.PLOTLYENV=window.PLOTLYENV || {};                                    if (document.getElementById(\"6c5ed856-1d1e-431b-8ccd-5fd1395971fc\")) {                    Plotly.newPlot(                        \"6c5ed856-1d1e-431b-8ccd-5fd1395971fc\",                        [{\"marker\":{\"color\":\"black\",\"size\":4},\"mode\":\"markers\",\"name\":\"Actual\",\"type\":\"scatter\",\"x\":[\"2022-06-08T00:00:00\",\"2022-06-11T00:00:00\",\"2022-06-12T00:00:00\",\"2022-06-14T00:00:00\",\"2022-06-16T00:00:00\",\"2022-06-17T00:00:00\",\"2022-06-19T00:00:00\",\"2022-06-21T00:00:00\",\"2022-06-22T00:00:00\",\"2022-06-23T00:00:00\",\"2022-06-24T00:00:00\",\"2022-06-25T00:00:00\",\"2022-06-26T00:00:00\",\"2022-06-28T00:00:00\",\"2022-06-29T00:00:00\",\"2022-06-30T00:00:00\",\"2022-07-01T00:00:00\",\"2022-07-02T00:00:00\",\"2022-07-03T00:00:00\",\"2022-07-04T00:00:00\",\"2022-07-05T00:00:00\",\"2022-07-06T00:00:00\",\"2022-07-07T00:00:00\",\"2022-07-08T00:00:00\",\"2022-07-09T00:00:00\",\"2022-07-11T00:00:00\",\"2022-07-12T00:00:00\",\"2022-07-13T00:00:00\",\"2022-07-14T00:00:00\",\"2022-07-19T00:00:00\",\"2022-07-20T00:00:00\",\"2022-07-21T00:00:00\",\"2022-07-22T00:00:00\",\"2022-07-25T00:00:00\",\"2022-07-26T00:00:00\",\"2022-07-27T00:00:00\",\"2022-07-28T00:00:00\",\"2022-07-29T00:00:00\",\"2022-07-30T00:00:00\",\"2022-07-31T00:00:00\",\"2022-08-01T00:00:00\",\"2022-08-02T00:00:00\",\"2022-08-03T00:00:00\",\"2022-08-04T00:00:00\",\"2022-08-05T00:00:00\",\"2022-08-06T00:00:00\",\"2022-08-07T00:00:00\",\"2022-08-08T00:00:00\",\"2022-08-09T00:00:00\",\"2022-08-10T00:00:00\",\"2022-08-12T00:00:00\",\"2022-08-13T00:00:00\",\"2022-08-14T00:00:00\",\"2022-08-15T00:00:00\",\"2022-08-16T00:00:00\",\"2022-08-17T00:00:00\",\"2022-08-18T00:00:00\",\"2022-08-19T00:00:00\",\"2022-08-20T00:00:00\",\"2022-08-21T00:00:00\",\"2022-08-22T00:00:00\",\"2022-08-23T00:00:00\",\"2022-08-24T00:00:00\",\"2022-08-25T00:00:00\",\"2022-08-26T00:00:00\",\"2022-08-29T00:00:00\",\"2022-08-30T00:00:00\"],\"y\":[1,1,1,2,1,1,1,1,2,5,1,2,1,1,16,12,15,12,2,2,26,36,30,32,14,10,38,42,39,101,143,13,90,115,56,112,89,193,84,27,105,128,118,139,144,104,23,162,122,43,288,102,45,92,198,176,91,205,100,32,109,88,160,72,256,220,184]},{\"hoverinfo\":\"skip\",\"line\":{\"width\":0},\"mode\":\"lines\",\"type\":\"scatter\",\"x\":[\"2022-06-08T00:00:00\",\"2022-06-11T00:00:00\",\"2022-06-12T00:00:00\",\"2022-06-14T00:00:00\",\"2022-06-16T00:00:00\",\"2022-06-17T00:00:00\",\"2022-06-19T00:00:00\",\"2022-06-21T00:00:00\",\"2022-06-22T00:00:00\",\"2022-06-23T00:00:00\",\"2022-06-24T00:00:00\",\"2022-06-25T00:00:00\",\"2022-06-26T00:00:00\",\"2022-06-28T00:00:00\",\"2022-06-29T00:00:00\",\"2022-06-30T00:00:00\",\"2022-07-01T00:00:00\",\"2022-07-02T00:00:00\",\"2022-07-03T00:00:00\",\"2022-07-04T00:00:00\",\"2022-07-05T00:00:00\",\"2022-07-06T00:00:00\",\"2022-07-07T00:00:00\",\"2022-07-08T00:00:00\",\"2022-07-09T00:00:00\",\"2022-07-11T00:00:00\",\"2022-07-12T00:00:00\",\"2022-07-13T00:00:00\",\"2022-07-14T00:00:00\",\"2022-07-19T00:00:00\",\"2022-07-20T00:00:00\",\"2022-07-21T00:00:00\",\"2022-07-22T00:00:00\",\"2022-07-25T00:00:00\",\"2022-07-26T00:00:00\",\"2022-07-27T00:00:00\",\"2022-07-28T00:00:00\",\"2022-07-29T00:00:00\",\"2022-07-30T00:00:00\",\"2022-07-31T00:00:00\",\"2022-08-01T00:00:00\",\"2022-08-02T00:00:00\",\"2022-08-03T00:00:00\",\"2022-08-04T00:00:00\",\"2022-08-05T00:00:00\",\"2022-08-06T00:00:00\",\"2022-08-07T00:00:00\",\"2022-08-08T00:00:00\",\"2022-08-09T00:00:00\",\"2022-08-10T00:00:00\",\"2022-08-12T00:00:00\",\"2022-08-13T00:00:00\",\"2022-08-14T00:00:00\",\"2022-08-15T00:00:00\",\"2022-08-16T00:00:00\",\"2022-08-17T00:00:00\",\"2022-08-18T00:00:00\",\"2022-08-19T00:00:00\",\"2022-08-20T00:00:00\",\"2022-08-21T00:00:00\",\"2022-08-22T00:00:00\",\"2022-08-23T00:00:00\",\"2022-08-24T00:00:00\",\"2022-08-25T00:00:00\",\"2022-08-26T00:00:00\",\"2022-08-29T00:00:00\",\"2022-08-30T00:00:00\",\"2022-08-31T00:00:00\",\"2022-09-01T00:00:00\",\"2022-09-02T00:00:00\",\"2022-09-03T00:00:00\",\"2022-09-04T00:00:00\",\"2022-09-05T00:00:00\",\"2022-09-06T00:00:00\",\"2022-09-07T00:00:00\",\"2022-09-08T00:00:00\",\"2022-09-09T00:00:00\",\"2022-09-10T00:00:00\",\"2022-09-11T00:00:00\",\"2022-09-12T00:00:00\",\"2022-09-13T00:00:00\",\"2022-09-14T00:00:00\",\"2022-09-15T00:00:00\",\"2022-09-16T00:00:00\",\"2022-09-17T00:00:00\",\"2022-09-18T00:00:00\",\"2022-09-19T00:00:00\",\"2022-09-20T00:00:00\",\"2022-09-21T00:00:00\",\"2022-09-22T00:00:00\",\"2022-09-23T00:00:00\",\"2022-09-24T00:00:00\",\"2022-09-25T00:00:00\",\"2022-09-26T00:00:00\",\"2022-09-27T00:00:00\",\"2022-09-28T00:00:00\",\"2022-09-29T00:00:00\",\"2022-09-30T00:00:00\",\"2022-10-01T00:00:00\",\"2022-10-02T00:00:00\",\"2022-10-03T00:00:00\",\"2022-10-04T00:00:00\",\"2022-10-05T00:00:00\",\"2022-10-06T00:00:00\",\"2022-10-07T00:00:00\",\"2022-10-08T00:00:00\",\"2022-10-09T00:00:00\",\"2022-10-10T00:00:00\",\"2022-10-11T00:00:00\",\"2022-10-12T00:00:00\",\"2022-10-13T00:00:00\",\"2022-10-14T00:00:00\",\"2022-10-15T00:00:00\",\"2022-10-16T00:00:00\",\"2022-10-17T00:00:00\",\"2022-10-18T00:00:00\",\"2022-10-19T00:00:00\",\"2022-10-20T00:00:00\",\"2022-10-21T00:00:00\",\"2022-10-22T00:00:00\",\"2022-10-23T00:00:00\",\"2022-10-24T00:00:00\",\"2022-10-25T00:00:00\",\"2022-10-26T00:00:00\",\"2022-10-27T00:00:00\",\"2022-10-28T00:00:00\",\"2022-10-29T00:00:00\",\"2022-10-30T00:00:00\",\"2022-10-31T00:00:00\",\"2022-11-01T00:00:00\",\"2022-11-02T00:00:00\",\"2022-11-03T00:00:00\",\"2022-11-04T00:00:00\",\"2022-11-05T00:00:00\",\"2022-11-06T00:00:00\",\"2022-11-07T00:00:00\",\"2022-11-08T00:00:00\",\"2022-11-09T00:00:00\",\"2022-11-10T00:00:00\",\"2022-11-11T00:00:00\",\"2022-11-12T00:00:00\",\"2022-11-13T00:00:00\",\"2022-11-14T00:00:00\",\"2022-11-15T00:00:00\",\"2022-11-16T00:00:00\",\"2022-11-17T00:00:00\",\"2022-11-18T00:00:00\",\"2022-11-19T00:00:00\",\"2022-11-20T00:00:00\",\"2022-11-21T00:00:00\",\"2022-11-22T00:00:00\",\"2022-11-23T00:00:00\",\"2022-11-24T00:00:00\",\"2022-11-25T00:00:00\",\"2022-11-26T00:00:00\",\"2022-11-27T00:00:00\",\"2022-11-28T00:00:00\"],\"y\":[-61.280746680521325,-78.4666396350964,-109.19376004769684,-56.68073109625171,-77.87646030158805,-5.003804553393684,-92.76071174882644,-41.458016511317986,-30.79343933502414,-60.379431329691606,8.014572823625816,-50.11887647389744,-80.8085605002725,-25.615528084577328,-20.364238423238465,-40.45714115525369,23.533272709781254,-32.26390753489496,-65.84835259693637,-13.866482735801096,-7.201242999965208,-2.7996797630509853,-27.871119965942192,41.43077244072836,-16.96113819912217,0.7537595375878703,6.644469479099312,17.82648380610315,-9.828066572841696,22.343418300153008,31.017447860916285,3.3834819908409997,70.73368626752011,29.92242309749021,37.881273821329394,46.04185932381426,23.17257107859068,84.94498004923544,29.389090766470517,-0.7621980262810087,50.61212991653507,53.4844716833809,59.13040101892016,34.17837602018561,102.99599128756728,44.45891541107223,15.857832456775686,63.07070660756387,68.00973633901583,76.64263025062851,121.65420045813367,62.55132485262885,28.315707587697126,79.30466191986847,86.06274981040717,89.4353275893149,65.8839149223126,133.75647299123014,76.45788742903778,44.62258876942736,97.31534884456374,102.42429494414466,109.7953280848824,82.64551604812996,148.68001515538734,109.90057997555995,113.86341881862774,123.09912849025527,97.98491010522392,163.23490666893412,103.88886380399423,71.46851933918434,126.562189636929,133.67916621245146,139.17185832245343,112.92445407412276,181.94527748498214,118.85824720868898,94.78221335726944,142.99637094622094,146.75900579474097,154.1322382894782,129.76469984648313,197.39397939970314,135.2908276716407,109.9779515384815,158.7896474230983,163.28356108593027,169.1724461258625,148.7498253250493,212.0323082505384,155.17935588527942,125.0513427233645,176.4113690520513,176.2976533617265,187.3090011167785,161.93687971827757,228.4268049388377,167.78458343870741,139.31500251819935,193.37252832828642,191.65924079223555,201.8225946492632,174.3039677501808,241.20571520431494,186.2330287072787,156.20535263998963,206.4739139669142,207.8661820660792,215.62259821605832,192.94934020524252,262.8033679998946,202.01188711040194,170.40572106630881,221.22864033074848,228.2879114355778,231.8142442693618,209.0857220003904,274.19715497689117,216.67885282528394,188.11980747312666,236.08303560507292,238.65862915923486,246.76077983583633,219.99537072516293,288.7188187069572,232.91630357434607,201.14321078772386,251.80625861120984,259.9433496353936,269.2650834686432,237.65309663561519,306.0466333633215,248.70731895858054,219.4047493842147,266.1252452586266,273.4008238119163,282.86454949151846,258.44026964565364,321.03096954818005,263.0085209559641,232.80053894941037,287.27799579320214,289.67644889867415,294.0505434042404,274.0198028565902,337.8447387421232,279.7470492296863,251.85197954551145,301.531398489716,305.5068450384317,312.10325686306874,284.5007412226534,352.6134447150035,299.33159810513706,267.3965694022013,315.4362405806992]},{\"fill\":\"tonexty\",\"fillcolor\":\"rgba(0, 114, 178, 0.2)\",\"line\":{\"color\":\"#0072B2\",\"width\":2},\"mode\":\"lines\",\"name\":\"Predicted\",\"type\":\"scatter\",\"x\":[\"2022-06-08T00:00:00\",\"2022-06-11T00:00:00\",\"2022-06-12T00:00:00\",\"2022-06-14T00:00:00\",\"2022-06-16T00:00:00\",\"2022-06-17T00:00:00\",\"2022-06-19T00:00:00\",\"2022-06-21T00:00:00\",\"2022-06-22T00:00:00\",\"2022-06-23T00:00:00\",\"2022-06-24T00:00:00\",\"2022-06-25T00:00:00\",\"2022-06-26T00:00:00\",\"2022-06-28T00:00:00\",\"2022-06-29T00:00:00\",\"2022-06-30T00:00:00\",\"2022-07-01T00:00:00\",\"2022-07-02T00:00:00\",\"2022-07-03T00:00:00\",\"2022-07-04T00:00:00\",\"2022-07-05T00:00:00\",\"2022-07-06T00:00:00\",\"2022-07-07T00:00:00\",\"2022-07-08T00:00:00\",\"2022-07-09T00:00:00\",\"2022-07-11T00:00:00\",\"2022-07-12T00:00:00\",\"2022-07-13T00:00:00\",\"2022-07-14T00:00:00\",\"2022-07-19T00:00:00\",\"2022-07-20T00:00:00\",\"2022-07-21T00:00:00\",\"2022-07-22T00:00:00\",\"2022-07-25T00:00:00\",\"2022-07-26T00:00:00\",\"2022-07-27T00:00:00\",\"2022-07-28T00:00:00\",\"2022-07-29T00:00:00\",\"2022-07-30T00:00:00\",\"2022-07-31T00:00:00\",\"2022-08-01T00:00:00\",\"2022-08-02T00:00:00\",\"2022-08-03T00:00:00\",\"2022-08-04T00:00:00\",\"2022-08-05T00:00:00\",\"2022-08-06T00:00:00\",\"2022-08-07T00:00:00\",\"2022-08-08T00:00:00\",\"2022-08-09T00:00:00\",\"2022-08-10T00:00:00\",\"2022-08-12T00:00:00\",\"2022-08-13T00:00:00\",\"2022-08-14T00:00:00\",\"2022-08-15T00:00:00\",\"2022-08-16T00:00:00\",\"2022-08-17T00:00:00\",\"2022-08-18T00:00:00\",\"2022-08-19T00:00:00\",\"2022-08-20T00:00:00\",\"2022-08-21T00:00:00\",\"2022-08-22T00:00:00\",\"2022-08-23T00:00:00\",\"2022-08-24T00:00:00\",\"2022-08-25T00:00:00\",\"2022-08-26T00:00:00\",\"2022-08-29T00:00:00\",\"2022-08-30T00:00:00\",\"2022-08-31T00:00:00\",\"2022-09-01T00:00:00\",\"2022-09-02T00:00:00\",\"2022-09-03T00:00:00\",\"2022-09-04T00:00:00\",\"2022-09-05T00:00:00\",\"2022-09-06T00:00:00\",\"2022-09-07T00:00:00\",\"2022-09-08T00:00:00\",\"2022-09-09T00:00:00\",\"2022-09-10T00:00:00\",\"2022-09-11T00:00:00\",\"2022-09-12T00:00:00\",\"2022-09-13T00:00:00\",\"2022-09-14T00:00:00\",\"2022-09-15T00:00:00\",\"2022-09-16T00:00:00\",\"2022-09-17T00:00:00\",\"2022-09-18T00:00:00\",\"2022-09-19T00:00:00\",\"2022-09-20T00:00:00\",\"2022-09-21T00:00:00\",\"2022-09-22T00:00:00\",\"2022-09-23T00:00:00\",\"2022-09-24T00:00:00\",\"2022-09-25T00:00:00\",\"2022-09-26T00:00:00\",\"2022-09-27T00:00:00\",\"2022-09-28T00:00:00\",\"2022-09-29T00:00:00\",\"2022-09-30T00:00:00\",\"2022-10-01T00:00:00\",\"2022-10-02T00:00:00\",\"2022-10-03T00:00:00\",\"2022-10-04T00:00:00\",\"2022-10-05T00:00:00\",\"2022-10-06T00:00:00\",\"2022-10-07T00:00:00\",\"2022-10-08T00:00:00\",\"2022-10-09T00:00:00\",\"2022-10-10T00:00:00\",\"2022-10-11T00:00:00\",\"2022-10-12T00:00:00\",\"2022-10-13T00:00:00\",\"2022-10-14T00:00:00\",\"2022-10-15T00:00:00\",\"2022-10-16T00:00:00\",\"2022-10-17T00:00:00\",\"2022-10-18T00:00:00\",\"2022-10-19T00:00:00\",\"2022-10-20T00:00:00\",\"2022-10-21T00:00:00\",\"2022-10-22T00:00:00\",\"2022-10-23T00:00:00\",\"2022-10-24T00:00:00\",\"2022-10-25T00:00:00\",\"2022-10-26T00:00:00\",\"2022-10-27T00:00:00\",\"2022-10-28T00:00:00\",\"2022-10-29T00:00:00\",\"2022-10-30T00:00:00\",\"2022-10-31T00:00:00\",\"2022-11-01T00:00:00\",\"2022-11-02T00:00:00\",\"2022-11-03T00:00:00\",\"2022-11-04T00:00:00\",\"2022-11-05T00:00:00\",\"2022-11-06T00:00:00\",\"2022-11-07T00:00:00\",\"2022-11-08T00:00:00\",\"2022-11-09T00:00:00\",\"2022-11-10T00:00:00\",\"2022-11-11T00:00:00\",\"2022-11-12T00:00:00\",\"2022-11-13T00:00:00\",\"2022-11-14T00:00:00\",\"2022-11-15T00:00:00\",\"2022-11-16T00:00:00\",\"2022-11-17T00:00:00\",\"2022-11-18T00:00:00\",\"2022-11-19T00:00:00\",\"2022-11-20T00:00:00\",\"2022-11-21T00:00:00\",\"2022-11-22T00:00:00\",\"2022-11-23T00:00:00\",\"2022-11-24T00:00:00\",\"2022-11-25T00:00:00\",\"2022-11-26T00:00:00\",\"2022-11-27T00:00:00\",\"2022-11-28T00:00:00\"],\"y\":[-15.50119180415486,-31.932137393002513,-61.92717577231454,-7.516875047729894,-24.62032296943674,42.50947752983012,-46.2424771720162,8.167823552344288,15.86820539766201,-8.935624369305248,58.1941761303122,-0.5627401909232717,-30.557778570218257,23.852522154562106,31.552904000076495,6.749074232942645,73.8788747324725,15.121958410823916,-14.873079416056662,35.214016975480476,39.537222414742814,47.23760481347982,22.43377559942197,89.5635766521324,30.806660883871572,50.89871944958519,55.221924889643425,62.92230728890013,38.11847807554972,70.90662736721322,78.60700976668292,53.80318055366563,120.93298160724923,82.26812440693026,86.59132984756475,94.29171224745512,69.4878830347589,136.6176840887633,77.8607683216851,47.86573049643989,97.95282688928499,102.27603232971691,109.97641472953441,85.1725855167079,152.30238657038203,93.54547080319409,63.5504329778174,113.63752937095566,117.96073481143696,125.66111721108959,167.9870890519048,109.23017328477295,79.23513545965952,129.3222318528301,133.64543729353656,141.34581969368608,116.54199048122814,183.67179153544708,124.91487576851328,94.91983794360898,145.00693433667274,149.3301397776749,157.03052217779435,132.22669296538427,199.35649401963641,160.69163682086008,165.0148422617662,172.71522466187474,147.9113954495404,215.04119650382574,156.2842807369722,126.2892429119257,176.3763393050474,180.6995447459418,188.39992714601098,163.59609793350077,230.72589898783644,171.96898322107361,141.97394539601441,192.0610417892347,196.38424722994876,204.08462963018542,179.28080041765693,246.4106014720258,187.6536857050481,157.65864788009537,207.7457442730774,212.06894971412436,219.7693321142937,194.96550290181307,262.09530395612586,203.33838818927634,173.34335036432336,223.4304467573888,227.7536521983,235.454034598402,210.6502053859692,277.7800064402185,219.0230906732509,189.02805284827284,239.11514924145197,243.43835468239124,251.1387370826044,226.33490787009123,293.46470892431853,234.70779315722547,204.71275533250082,254.7998517256393,259.1230571665296,266.8234395666848,242.01961035428144,309.1494114085079,250.39249564170981,220.3974578165818,270.4845542098267,274.8077596506209,282.50814205082094,257.7043128384035,324.83411389260783,266.0771981256844,236.08216030080987,286.169256694014,290.4924621347965,298.1928445349013,273.38901532239794,340.51881637670795,281.76190060978576,251.7668627847592,301.85395917807716,306.17716461885044,313.8775470189818,289.0737178065541,356.2035188608079,297.4466030938871,267.4515652689872,317.5386616620439,321.8618671030261,329.56224950309,304.7584202907102,371.88822134499725,313.1313055782446,283.1362677532153,333.2233641462313,337.5465695871174,345.24695198719826,320.44312277483226,387.5729238290006,328.81600806221917,298.8209702371647,348.9080666304186,353.2312720712087,360.9316544714007,336.12782525895443,403.25762631319,344.50071054632053,314.5056727213927,364.5927691142613]},{\"fill\":\"tonexty\",\"fillcolor\":\"rgba(0, 114, 178, 0.2)\",\"hoverinfo\":\"skip\",\"line\":{\"width\":0},\"mode\":\"lines\",\"type\":\"scatter\",\"x\":[\"2022-06-08T00:00:00\",\"2022-06-11T00:00:00\",\"2022-06-12T00:00:00\",\"2022-06-14T00:00:00\",\"2022-06-16T00:00:00\",\"2022-06-17T00:00:00\",\"2022-06-19T00:00:00\",\"2022-06-21T00:00:00\",\"2022-06-22T00:00:00\",\"2022-06-23T00:00:00\",\"2022-06-24T00:00:00\",\"2022-06-25T00:00:00\",\"2022-06-26T00:00:00\",\"2022-06-28T00:00:00\",\"2022-06-29T00:00:00\",\"2022-06-30T00:00:00\",\"2022-07-01T00:00:00\",\"2022-07-02T00:00:00\",\"2022-07-03T00:00:00\",\"2022-07-04T00:00:00\",\"2022-07-05T00:00:00\",\"2022-07-06T00:00:00\",\"2022-07-07T00:00:00\",\"2022-07-08T00:00:00\",\"2022-07-09T00:00:00\",\"2022-07-11T00:00:00\",\"2022-07-12T00:00:00\",\"2022-07-13T00:00:00\",\"2022-07-14T00:00:00\",\"2022-07-19T00:00:00\",\"2022-07-20T00:00:00\",\"2022-07-21T00:00:00\",\"2022-07-22T00:00:00\",\"2022-07-25T00:00:00\",\"2022-07-26T00:00:00\",\"2022-07-27T00:00:00\",\"2022-07-28T00:00:00\",\"2022-07-29T00:00:00\",\"2022-07-30T00:00:00\",\"2022-07-31T00:00:00\",\"2022-08-01T00:00:00\",\"2022-08-02T00:00:00\",\"2022-08-03T00:00:00\",\"2022-08-04T00:00:00\",\"2022-08-05T00:00:00\",\"2022-08-06T00:00:00\",\"2022-08-07T00:00:00\",\"2022-08-08T00:00:00\",\"2022-08-09T00:00:00\",\"2022-08-10T00:00:00\",\"2022-08-12T00:00:00\",\"2022-08-13T00:00:00\",\"2022-08-14T00:00:00\",\"2022-08-15T00:00:00\",\"2022-08-16T00:00:00\",\"2022-08-17T00:00:00\",\"2022-08-18T00:00:00\",\"2022-08-19T00:00:00\",\"2022-08-20T00:00:00\",\"2022-08-21T00:00:00\",\"2022-08-22T00:00:00\",\"2022-08-23T00:00:00\",\"2022-08-24T00:00:00\",\"2022-08-25T00:00:00\",\"2022-08-26T00:00:00\",\"2022-08-29T00:00:00\",\"2022-08-30T00:00:00\",\"2022-08-31T00:00:00\",\"2022-09-01T00:00:00\",\"2022-09-02T00:00:00\",\"2022-09-03T00:00:00\",\"2022-09-04T00:00:00\",\"2022-09-05T00:00:00\",\"2022-09-06T00:00:00\",\"2022-09-07T00:00:00\",\"2022-09-08T00:00:00\",\"2022-09-09T00:00:00\",\"2022-09-10T00:00:00\",\"2022-09-11T00:00:00\",\"2022-09-12T00:00:00\",\"2022-09-13T00:00:00\",\"2022-09-14T00:00:00\",\"2022-09-15T00:00:00\",\"2022-09-16T00:00:00\",\"2022-09-17T00:00:00\",\"2022-09-18T00:00:00\",\"2022-09-19T00:00:00\",\"2022-09-20T00:00:00\",\"2022-09-21T00:00:00\",\"2022-09-22T00:00:00\",\"2022-09-23T00:00:00\",\"2022-09-24T00:00:00\",\"2022-09-25T00:00:00\",\"2022-09-26T00:00:00\",\"2022-09-27T00:00:00\",\"2022-09-28T00:00:00\",\"2022-09-29T00:00:00\",\"2022-09-30T00:00:00\",\"2022-10-01T00:00:00\",\"2022-10-02T00:00:00\",\"2022-10-03T00:00:00\",\"2022-10-04T00:00:00\",\"2022-10-05T00:00:00\",\"2022-10-06T00:00:00\",\"2022-10-07T00:00:00\",\"2022-10-08T00:00:00\",\"2022-10-09T00:00:00\",\"2022-10-10T00:00:00\",\"2022-10-11T00:00:00\",\"2022-10-12T00:00:00\",\"2022-10-13T00:00:00\",\"2022-10-14T00:00:00\",\"2022-10-15T00:00:00\",\"2022-10-16T00:00:00\",\"2022-10-17T00:00:00\",\"2022-10-18T00:00:00\",\"2022-10-19T00:00:00\",\"2022-10-20T00:00:00\",\"2022-10-21T00:00:00\",\"2022-10-22T00:00:00\",\"2022-10-23T00:00:00\",\"2022-10-24T00:00:00\",\"2022-10-25T00:00:00\",\"2022-10-26T00:00:00\",\"2022-10-27T00:00:00\",\"2022-10-28T00:00:00\",\"2022-10-29T00:00:00\",\"2022-10-30T00:00:00\",\"2022-10-31T00:00:00\",\"2022-11-01T00:00:00\",\"2022-11-02T00:00:00\",\"2022-11-03T00:00:00\",\"2022-11-04T00:00:00\",\"2022-11-05T00:00:00\",\"2022-11-06T00:00:00\",\"2022-11-07T00:00:00\",\"2022-11-08T00:00:00\",\"2022-11-09T00:00:00\",\"2022-11-10T00:00:00\",\"2022-11-11T00:00:00\",\"2022-11-12T00:00:00\",\"2022-11-13T00:00:00\",\"2022-11-14T00:00:00\",\"2022-11-15T00:00:00\",\"2022-11-16T00:00:00\",\"2022-11-17T00:00:00\",\"2022-11-18T00:00:00\",\"2022-11-19T00:00:00\",\"2022-11-20T00:00:00\",\"2022-11-21T00:00:00\",\"2022-11-22T00:00:00\",\"2022-11-23T00:00:00\",\"2022-11-24T00:00:00\",\"2022-11-25T00:00:00\",\"2022-11-26T00:00:00\",\"2022-11-27T00:00:00\",\"2022-11-28T00:00:00\"],\"y\":[35.552005733268594,17.59584247854035,-15.181583257311061,39.05239348721665,24.125421143234096,91.49062098008721,5.059924343703648,56.3505772026891,70.12809569666376,40.72999759520384,103.79316636122584,51.16932012847619,20.258163022522215,70.41738041308652,77.97585478978155,53.38358348500495,121.73783255953695,67.33664245786565,33.94981104267454,83.9569086411158,91.86827782020683,96.34993613476367,70.06134551761626,137.6919469408097,80.30584526821035,101.03938996810331,106.6699366190744,112.9488604720623,87.64557669500824,123.97770246060425,126.73752193929228,101.25952141966796,165.31925899427918,130.79018223817516,131.3747077949497,143.28731071318262,118.65235902299266,183.9449694621756,129.24064751802104,93.00592895043272,148.46196546601473,148.26227101490102,158.12934055585762,135.04409405321277,198.44092366304406,142.77073488705418,114.12997060824136,163.3075717944813,167.31534959171307,174.3571546398468,219.25392324409395,158.6087390461202,126.76441389975179,174.60514503113274,181.78834478315318,188.52412446092004,164.4411282511633,233.4103954968307,175.95206150820866,144.46793095219644,194.28616969964656,197.61191462868996,204.94254582751586,181.5627308036049,251.33951356422483,209.55672692347474,211.86447493724182,225.56512907729964,196.3052099276063,267.0601191997109,203.81706838394382,174.3725325425367,222.00151559099012,228.61991914139224,236.63069166147858,210.47174994887104,278.51147421573285,220.8683916834065,187.66242969170622,240.67274891000852,245.72708515248328,251.9773335942057,226.1178873891194,294.09931925373417,236.6093437218627,209.6026773331383,258.5338519838046,263.3443465265661,273.0284555715432,245.75869900536406,309.68760918232994,257.6234571212176,216.51464094754272,272.1083672976207,276.90761357982194,287.3404178283999,260.05395369921985,326.24888875738156,271.8210030656046,238.8365775765977,290.64665609133687,293.54973853149806,303.76938510759186,275.74112121599217,344.86840747034483,281.95717359675297,253.4965603427104,301.81399109005184,307.59558470003054,317.7478697832431,290.6593259271488,357.4027121806835,299.9179463614567,267.8769810050494,321.54327181921406,323.8829499467126,330.2611278208319,306.5252750363322,374.148638546031,316.48377021992604,288.69068293358015,331.3846557062658,336.92680367883366,346.1451721614498,323.08651337492137,387.9461011679744,331.0767047521212,299.3200755893351,350.8638024351292,357.53142805100043,363.2699811983373,339.8363510215587,404.62313163467445,347.190762734596,317.16302179645066,367.6658138485704,371.62493278404634,379.83427021770063,355.7682664618062,417.5898727011437,360.5060099712124,332.1601005041688,382.7532118152945,387.5532935898637,396.995031051093,370.9128795838992,434.1578081740447,379.28186027363205,351.3490707867594,399.86260056863534,406.12282372568524,410.0852703316454,384.2068228251344,449.0251086969646,392.8221643208981,366.16003863907775,417.433726401716]}],                        {\"height\":600,\"showlegend\":false,\"template\":{\"data\":{\"bar\":[{\"error_x\":{\"color\":\"#2a3f5f\"},\"error_y\":{\"color\":\"#2a3f5f\"},\"marker\":{\"line\":{\"color\":\"#E5ECF6\",\"width\":0.5},\"pattern\":{\"fillmode\":\"overlay\",\"size\":10,\"solidity\":0.2}},\"type\":\"bar\"}],\"barpolar\":[{\"marker\":{\"line\":{\"color\":\"#E5ECF6\",\"width\":0.5},\"pattern\":{\"fillmode\":\"overlay\",\"size\":10,\"solidity\":0.2}},\"type\":\"barpolar\"}],\"carpet\":[{\"aaxis\":{\"endlinecolor\":\"#2a3f5f\",\"gridcolor\":\"white\",\"linecolor\":\"white\",\"minorgridcolor\":\"white\",\"startlinecolor\":\"#2a3f5f\"},\"baxis\":{\"endlinecolor\":\"#2a3f5f\",\"gridcolor\":\"white\",\"linecolor\":\"white\",\"minorgridcolor\":\"white\",\"startlinecolor\":\"#2a3f5f\"},\"type\":\"carpet\"}],\"choropleth\":[{\"colorbar\":{\"outlinewidth\":0,\"ticks\":\"\"},\"type\":\"choropleth\"}],\"contour\":[{\"colorbar\":{\"outlinewidth\":0,\"ticks\":\"\"},\"colorscale\":[[0.0,\"#0d0887\"],[0.1111111111111111,\"#46039f\"],[0.2222222222222222,\"#7201a8\"],[0.3333333333333333,\"#9c179e\"],[0.4444444444444444,\"#bd3786\"],[0.5555555555555556,\"#d8576b\"],[0.6666666666666666,\"#ed7953\"],[0.7777777777777778,\"#fb9f3a\"],[0.8888888888888888,\"#fdca26\"],[1.0,\"#f0f921\"]],\"type\":\"contour\"}],\"contourcarpet\":[{\"colorbar\":{\"outlinewidth\":0,\"ticks\":\"\"},\"type\":\"contourcarpet\"}],\"heatmap\":[{\"colorbar\":{\"outlinewidth\":0,\"ticks\":\"\"},\"colorscale\":[[0.0,\"#0d0887\"],[0.1111111111111111,\"#46039f\"],[0.2222222222222222,\"#7201a8\"],[0.3333333333333333,\"#9c179e\"],[0.4444444444444444,\"#bd3786\"],[0.5555555555555556,\"#d8576b\"],[0.6666666666666666,\"#ed7953\"],[0.7777777777777778,\"#fb9f3a\"],[0.8888888888888888,\"#fdca26\"],[1.0,\"#f0f921\"]],\"type\":\"heatmap\"}],\"heatmapgl\":[{\"colorbar\":{\"outlinewidth\":0,\"ticks\":\"\"},\"colorscale\":[[0.0,\"#0d0887\"],[0.1111111111111111,\"#46039f\"],[0.2222222222222222,\"#7201a8\"],[0.3333333333333333,\"#9c179e\"],[0.4444444444444444,\"#bd3786\"],[0.5555555555555556,\"#d8576b\"],[0.6666666666666666,\"#ed7953\"],[0.7777777777777778,\"#fb9f3a\"],[0.8888888888888888,\"#fdca26\"],[1.0,\"#f0f921\"]],\"type\":\"heatmapgl\"}],\"histogram\":[{\"marker\":{\"pattern\":{\"fillmode\":\"overlay\",\"size\":10,\"solidity\":0.2}},\"type\":\"histogram\"}],\"histogram2d\":[{\"colorbar\":{\"outlinewidth\":0,\"ticks\":\"\"},\"colorscale\":[[0.0,\"#0d0887\"],[0.1111111111111111,\"#46039f\"],[0.2222222222222222,\"#7201a8\"],[0.3333333333333333,\"#9c179e\"],[0.4444444444444444,\"#bd3786\"],[0.5555555555555556,\"#d8576b\"],[0.6666666666666666,\"#ed7953\"],[0.7777777777777778,\"#fb9f3a\"],[0.8888888888888888,\"#fdca26\"],[1.0,\"#f0f921\"]],\"type\":\"histogram2d\"}],\"histogram2dcontour\":[{\"colorbar\":{\"outlinewidth\":0,\"ticks\":\"\"},\"colorscale\":[[0.0,\"#0d0887\"],[0.1111111111111111,\"#46039f\"],[0.2222222222222222,\"#7201a8\"],[0.3333333333333333,\"#9c179e\"],[0.4444444444444444,\"#bd3786\"],[0.5555555555555556,\"#d8576b\"],[0.6666666666666666,\"#ed7953\"],[0.7777777777777778,\"#fb9f3a\"],[0.8888888888888888,\"#fdca26\"],[1.0,\"#f0f921\"]],\"type\":\"histogram2dcontour\"}],\"mesh3d\":[{\"colorbar\":{\"outlinewidth\":0,\"ticks\":\"\"},\"type\":\"mesh3d\"}],\"parcoords\":[{\"line\":{\"colorbar\":{\"outlinewidth\":0,\"ticks\":\"\"}},\"type\":\"parcoords\"}],\"pie\":[{\"automargin\":true,\"type\":\"pie\"}],\"scatter\":[{\"marker\":{\"colorbar\":{\"outlinewidth\":0,\"ticks\":\"\"}},\"type\":\"scatter\"}],\"scatter3d\":[{\"line\":{\"colorbar\":{\"outlinewidth\":0,\"ticks\":\"\"}},\"marker\":{\"colorbar\":{\"outlinewidth\":0,\"ticks\":\"\"}},\"type\":\"scatter3d\"}],\"scattercarpet\":[{\"marker\":{\"colorbar\":{\"outlinewidth\":0,\"ticks\":\"\"}},\"type\":\"scattercarpet\"}],\"scattergeo\":[{\"marker\":{\"colorbar\":{\"outlinewidth\":0,\"ticks\":\"\"}},\"type\":\"scattergeo\"}],\"scattergl\":[{\"marker\":{\"colorbar\":{\"outlinewidth\":0,\"ticks\":\"\"}},\"type\":\"scattergl\"}],\"scattermapbox\":[{\"marker\":{\"colorbar\":{\"outlinewidth\":0,\"ticks\":\"\"}},\"type\":\"scattermapbox\"}],\"scatterpolar\":[{\"marker\":{\"colorbar\":{\"outlinewidth\":0,\"ticks\":\"\"}},\"type\":\"scatterpolar\"}],\"scatterpolargl\":[{\"marker\":{\"colorbar\":{\"outlinewidth\":0,\"ticks\":\"\"}},\"type\":\"scatterpolargl\"}],\"scatterternary\":[{\"marker\":{\"colorbar\":{\"outlinewidth\":0,\"ticks\":\"\"}},\"type\":\"scatterternary\"}],\"surface\":[{\"colorbar\":{\"outlinewidth\":0,\"ticks\":\"\"},\"colorscale\":[[0.0,\"#0d0887\"],[0.1111111111111111,\"#46039f\"],[0.2222222222222222,\"#7201a8\"],[0.3333333333333333,\"#9c179e\"],[0.4444444444444444,\"#bd3786\"],[0.5555555555555556,\"#d8576b\"],[0.6666666666666666,\"#ed7953\"],[0.7777777777777778,\"#fb9f3a\"],[0.8888888888888888,\"#fdca26\"],[1.0,\"#f0f921\"]],\"type\":\"surface\"}],\"table\":[{\"cells\":{\"fill\":{\"color\":\"#EBF0F8\"},\"line\":{\"color\":\"white\"}},\"header\":{\"fill\":{\"color\":\"#C8D4E3\"},\"line\":{\"color\":\"white\"}},\"type\":\"table\"}]},\"layout\":{\"annotationdefaults\":{\"arrowcolor\":\"#2a3f5f\",\"arrowhead\":0,\"arrowwidth\":1},\"autotypenumbers\":\"strict\",\"coloraxis\":{\"colorbar\":{\"outlinewidth\":0,\"ticks\":\"\"}},\"colorscale\":{\"diverging\":[[0,\"#8e0152\"],[0.1,\"#c51b7d\"],[0.2,\"#de77ae\"],[0.3,\"#f1b6da\"],[0.4,\"#fde0ef\"],[0.5,\"#f7f7f7\"],[0.6,\"#e6f5d0\"],[0.7,\"#b8e186\"],[0.8,\"#7fbc41\"],[0.9,\"#4d9221\"],[1,\"#276419\"]],\"sequential\":[[0.0,\"#0d0887\"],[0.1111111111111111,\"#46039f\"],[0.2222222222222222,\"#7201a8\"],[0.3333333333333333,\"#9c179e\"],[0.4444444444444444,\"#bd3786\"],[0.5555555555555556,\"#d8576b\"],[0.6666666666666666,\"#ed7953\"],[0.7777777777777778,\"#fb9f3a\"],[0.8888888888888888,\"#fdca26\"],[1.0,\"#f0f921\"]],\"sequentialminus\":[[0.0,\"#0d0887\"],[0.1111111111111111,\"#46039f\"],[0.2222222222222222,\"#7201a8\"],[0.3333333333333333,\"#9c179e\"],[0.4444444444444444,\"#bd3786\"],[0.5555555555555556,\"#d8576b\"],[0.6666666666666666,\"#ed7953\"],[0.7777777777777778,\"#fb9f3a\"],[0.8888888888888888,\"#fdca26\"],[1.0,\"#f0f921\"]]},\"colorway\":[\"#636efa\",\"#EF553B\",\"#00cc96\",\"#ab63fa\",\"#FFA15A\",\"#19d3f3\",\"#FF6692\",\"#B6E880\",\"#FF97FF\",\"#FECB52\"],\"font\":{\"color\":\"#2a3f5f\"},\"geo\":{\"bgcolor\":\"white\",\"lakecolor\":\"white\",\"landcolor\":\"#E5ECF6\",\"showlakes\":true,\"showland\":true,\"subunitcolor\":\"white\"},\"hoverlabel\":{\"align\":\"left\"},\"hovermode\":\"closest\",\"mapbox\":{\"style\":\"light\"},\"paper_bgcolor\":\"white\",\"plot_bgcolor\":\"#E5ECF6\",\"polar\":{\"angularaxis\":{\"gridcolor\":\"white\",\"linecolor\":\"white\",\"ticks\":\"\"},\"bgcolor\":\"#E5ECF6\",\"radialaxis\":{\"gridcolor\":\"white\",\"linecolor\":\"white\",\"ticks\":\"\"}},\"scene\":{\"xaxis\":{\"backgroundcolor\":\"#E5ECF6\",\"gridcolor\":\"white\",\"gridwidth\":2,\"linecolor\":\"white\",\"showbackground\":true,\"ticks\":\"\",\"zerolinecolor\":\"white\"},\"yaxis\":{\"backgroundcolor\":\"#E5ECF6\",\"gridcolor\":\"white\",\"gridwidth\":2,\"linecolor\":\"white\",\"showbackground\":true,\"ticks\":\"\",\"zerolinecolor\":\"white\"},\"zaxis\":{\"backgroundcolor\":\"#E5ECF6\",\"gridcolor\":\"white\",\"gridwidth\":2,\"linecolor\":\"white\",\"showbackground\":true,\"ticks\":\"\",\"zerolinecolor\":\"white\"}},\"shapedefaults\":{\"line\":{\"color\":\"#2a3f5f\"}},\"ternary\":{\"aaxis\":{\"gridcolor\":\"white\",\"linecolor\":\"white\",\"ticks\":\"\"},\"baxis\":{\"gridcolor\":\"white\",\"linecolor\":\"white\",\"ticks\":\"\"},\"bgcolor\":\"#E5ECF6\",\"caxis\":{\"gridcolor\":\"white\",\"linecolor\":\"white\",\"ticks\":\"\"}},\"title\":{\"x\":0.05},\"xaxis\":{\"automargin\":true,\"gridcolor\":\"white\",\"linecolor\":\"white\",\"ticks\":\"\",\"title\":{\"standoff\":15},\"zerolinecolor\":\"white\",\"zerolinewidth\":2},\"yaxis\":{\"automargin\":true,\"gridcolor\":\"white\",\"linecolor\":\"white\",\"ticks\":\"\",\"title\":{\"standoff\":15},\"zerolinecolor\":\"white\",\"zerolinewidth\":2}}},\"width\":900,\"xaxis\":{\"rangeselector\":{\"buttons\":[{\"count\":7,\"label\":\"1w\",\"step\":\"day\",\"stepmode\":\"backward\"},{\"count\":1,\"label\":\"1m\",\"step\":\"month\",\"stepmode\":\"backward\"},{\"count\":6,\"label\":\"6m\",\"step\":\"month\",\"stepmode\":\"backward\"},{\"count\":1,\"label\":\"1y\",\"step\":\"year\",\"stepmode\":\"backward\"},{\"step\":\"all\"}]},\"rangeslider\":{\"visible\":true},\"title\":{\"text\":\"ds\"},\"type\":\"date\"},\"yaxis\":{\"title\":{\"text\":\"y\"}}},                        {\"responsive\": true}                    ).then(function(){\n",
       "                            \n",
       "var gd = document.getElementById('6c5ed856-1d1e-431b-8ccd-5fd1395971fc');\n",
       "var x = new MutationObserver(function (mutations, observer) {{\n",
       "        var display = window.getComputedStyle(gd).display;\n",
       "        if (!display || display === 'none') {{\n",
       "            console.log([gd, 'removed!']);\n",
       "            Plotly.purge(gd);\n",
       "            observer.disconnect();\n",
       "        }}\n",
       "}});\n",
       "\n",
       "// Listen for the removal of the full notebook cells\n",
       "var notebookContainer = gd.closest('#notebook-container');\n",
       "if (notebookContainer) {{\n",
       "    x.observe(notebookContainer, {childList: true});\n",
       "}}\n",
       "\n",
       "// Listen for the clearing of the current output cell\n",
       "var outputEl = gd.closest('.output');\n",
       "if (outputEl) {{\n",
       "    x.observe(outputEl, {childList: true});\n",
       "}}\n",
       "\n",
       "                        })                };                });            </script>        </div>"
      ]
     },
     "metadata": {},
     "output_type": "display_data"
    }
   ],
   "source": [
    "plot_plotly(m, forecast)"
   ]
  },
  {
   "cell_type": "markdown",
   "id": "5a00f720-0626-46be-8ff9-1b47035307ea",
   "metadata": {},
   "source": [
    "<h4>Utilização do Components para ver tendências mensais e de dias da semana</h4>"
   ]
  },
  {
   "cell_type": "code",
   "execution_count": 198,
   "id": "2576ddaa-a393-4f12-8c8d-fa43c70a4f2d",
   "metadata": {},
   "outputs": [
    {
     "data": {
      "image/png": "[encoded data removed]",
      "text/plain": [
       "<Figure size 648x432 with 2 Axes>"
      ]
     },
     "metadata": {},
     "output_type": "display_data"
    }
   ],
   "source": [
    "fig2 = m.plot_components(forecast)"
   ]
  },
  {
   "cell_type": "markdown",
   "id": "e79cddd7-cf73-4aee-af6d-91be60b44c26",
   "metadata": {},
   "source": [
    "<b style=\"color:#1e6d06\">Observação:</b> A tendência é claramente de aumento nos casos, como são poucos dias desde o começo, é difícil ter precisão, porém, sabemos que a quantidade continuará aumentando."
   ]
  },
  {
   "cell_type": "markdown",
   "id": "6a41ae7e-ca92-4851-8191-39263909a968",
   "metadata": {},
   "source": [
    "<div id=\"42\"><h3>Previsão de novos casos diários acumulados</h3></div>"
   ]
  },
  {
   "cell_type": "markdown",
   "id": "1624db03-01ce-4b56-befe-cbf2e3a38f2e",
   "metadata": {},
   "source": [
    "<h4>Alteração da coluna y para somatória utilizando .cumsum()</h4>"
   ]
  },
  {
   "cell_type": "code",
   "execution_count": 199,
   "id": "d926fc23-5b3c-4c75-81d9-9e594310c884",
   "metadata": {},
   "outputs": [
    {
     "data": {
      "text/html": [
       "<div>\n",
       "<style scoped>\n",
       "    .dataframe tbody tr th:only-of-type {\n",
       "        vertical-align: middle;\n",
       "    }\n",
       "\n",
       "    .dataframe tbody tr th {\n",
       "        vertical-align: top;\n",
       "    }\n",
       "\n",
       "    .dataframe thead th {\n",
       "        text-align: right;\n",
       "    }\n",
       "</style>\n",
       "<table border=\"1\" class=\"dataframe\">\n",
       "  <thead>\n",
       "    <tr style=\"text-align: right;\">\n",
       "      <th></th>\n",
       "      <th>ds</th>\n",
       "      <th>y</th>\n",
       "    </tr>\n",
       "  </thead>\n",
       "  <tbody>\n",
       "    <tr>\n",
       "      <th>0</th>\n",
       "      <td>2022-06-08</td>\n",
       "      <td>1</td>\n",
       "    </tr>\n",
       "    <tr>\n",
       "      <th>1</th>\n",
       "      <td>2022-06-11</td>\n",
       "      <td>2</td>\n",
       "    </tr>\n",
       "    <tr>\n",
       "      <th>2</th>\n",
       "      <td>2022-06-12</td>\n",
       "      <td>3</td>\n",
       "    </tr>\n",
       "    <tr>\n",
       "      <th>3</th>\n",
       "      <td>2022-06-14</td>\n",
       "      <td>5</td>\n",
       "    </tr>\n",
       "    <tr>\n",
       "      <th>4</th>\n",
       "      <td>2022-06-16</td>\n",
       "      <td>6</td>\n",
       "    </tr>\n",
       "  </tbody>\n",
       "</table>\n",
       "</div>"
      ],
      "text/plain": [
       "          ds  y\n",
       "0 2022-06-08  1\n",
       "1 2022-06-11  2\n",
       "2 2022-06-12  3\n",
       "3 2022-06-14  5\n",
       "4 2022-06-16  6"
      ]
     },
     "execution_count": 199,
     "metadata": {},
     "output_type": "execute_result"
    }
   ],
   "source": [
    "df['y'] = df['y'].cumsum()\n",
    "df.head()"
   ]
  },
  {
   "cell_type": "code",
   "execution_count": 200,
   "id": "788d7ae4-e651-45ff-a079-d5d6eeaa0971",
   "metadata": {},
   "outputs": [
    {
     "name": "stderr",
     "output_type": "stream",
     "text": [
      "13:49:45 - cmdstanpy - INFO - Chain [1] start processing\n",
      "13:49:45 - cmdstanpy - INFO - Chain [1] done processing\n"
     ]
    },
    {
     "data": {
      "text/plain": [
       "<prophet.forecaster.Prophet at 0x7fd094f1d340>"
      ]
     },
     "execution_count": 200,
     "metadata": {},
     "output_type": "execute_result"
    }
   ],
   "source": [
    "m = Prophet()\n",
    "m.fit(df)"
   ]
  },
  {
   "cell_type": "code",
   "execution_count": null,
   "id": "55ea47fc-6b7f-4755-a8f3-53921b069f3d",
   "metadata": {},
   "outputs": [],
   "source": [
    "future = m.make_future_dataframe(periods=90)\n",
    "forecast = m.predict(future)"
   ]
  },
  {
   "cell_type": "code",
   "execution_count": null,
   "id": "59bb8724-c615-46e7-86ab-0557fe6cf0c0",
   "metadata": {},
   "outputs": [],
   "source": [
    "plot_plotly(m, forecast)"
   ]
  },
  {
   "cell_type": "markdown",
   "id": "a3cd617a-304f-48f0-b039-67f644863d7a",
   "metadata": {},
   "source": [
    "<h4>Utilização do Components para ver tendências mensais e de dias da semana</h4>"
   ]
  },
  {
   "cell_type": "code",
   "execution_count": null,
   "id": "b632eb61-b247-4e1c-bfac-81fb6e370581",
   "metadata": {},
   "outputs": [],
   "source": [
    "fig3 = m.plot_components(forecast)"
   ]
  },
  {
   "cell_type": "markdown",
   "id": "9e4f2ad0-dd29-4403-84e3-32774ce276c6",
   "metadata": {},
   "source": [
    "<a href=\"#indice\"><img src=\"botao-topo.png\" width=\"15%\"/></a>"
   ]
  },
  {
   "cell_type": "markdown",
   "id": "4704ded2-d7a8-4ff1-a1ba-8a746f9f4bbe",
   "metadata": {},
   "source": [
    "<div id=\"5\"><h2>6 - Conclusões</h2></div>"
   ]
  },
  {
   "cell_type": "markdown",
   "id": "dc4ee2f8-1d63-4e01-8cfa-1ea9023d0090",
   "metadata": {},
   "source": [
    "Embora a quantidade de casos esteja crescendo consistentemente, o número e percentual de hospitalizações é baixo em comparação com o coronavírus. Como não temos no dataset a quantidade de mortes, é difícil prever, porém, nos baseando no percentual de hospitalizações, esse percentual muito provavelmente será baixo também.\n",
    "\n",
    "Devemos nos instruir e nos conscientizar sobre maneiras de prevenção para que não escale como o coronavírus escalou e trouxe prejuízos incalculáveis.\n",
    "\n",
    "Para mais informação sobre a varíola dos macacos, acesse o site do <a href=\"https://www.gov.br/saude/pt-br/assuntos/variola-dos-macacos\" target=\"_blank\">Ministério da Sáude</a>."
   ]
  },
  {
   "cell_type": "markdown",
   "id": "79ce025b-82d2-4a1a-ab98-7223a4b5c305",
   "metadata": {},
   "source": [
    "<img src=\"ty.gif\" width=\"100%\"/>"
   ]
  },
  {
   "cell_type": "markdown",
   "id": "7eaff745-04f0-4c5e-992b-0ba8a1744c78",
   "metadata": {},
   "source": [
    "<a href=\"#indice\"><img src=\"botao-topo.png\" width=\"15%\"/></a>"
   ]
  },
  {
   "cell_type": "markdown",
   "id": "583e4c5a-6283-4a9c-acbf-eb24afbc4666",
   "metadata": {},
   "source": [
    "\n",
    "\n"
   ]
  },
  {
   "cell_type": "code",
   "execution_count": null,
   "id": "71df1bf1-27b9-4c98-aa2f-e6d528e6a806",
   "metadata": {},
   "outputs": [],
   "source": []
  }
 ],
 "metadata": {
  "kernelspec": {
   "display_name": "Python 3 (ipykernel)",
   "language": "python",
   "name": "python3"
  },
  "language_info": {
   "codemirror_mode": {
    "name": "ipython",
    "version": 3
   },
   "file_extension": ".py",
   "mimetype": "text/x-python",
   "name": "python",
   "nbconvert_exporter": "python",
   "pygments_lexer": "ipython3",
   "version": "3.9.12"
  }
 },
 "nbformat": 4,
 "nbformat_minor": 5
}
